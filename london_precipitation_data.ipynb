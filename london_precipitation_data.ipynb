{
 "cells": [
  {
   "cell_type": "code",
   "execution_count": 1,
   "id": "9fc8972e",
   "metadata": {},
   "outputs": [],
   "source": [
    "import pandas as pd\n",
    "import numpy as np\n",
    "\n",
    "import matplotlib.pyplot as plt\n",
    "import seaborn as sns\n",
    "\n",
    "from src.data_manipulation import transform_data_datetime"
   ]
  },
  {
   "cell_type": "markdown",
   "id": "df138926",
   "metadata": {},
   "source": [
    "# London Rainfall Data"
   ]
  },
  {
   "cell_type": "markdown",
   "id": "2bff2a32",
   "metadata": {},
   "source": [
    "source: [Copernicous Climate Data Store](https://cds.climate.copernicus.eu/)"
   ]
  },
  {
   "cell_type": "code",
   "execution_count": 2,
   "id": "dca27c7c",
   "metadata": {},
   "outputs": [],
   "source": [
    "london_daily_data = pd.read_pickle('./output/tp/london/london_tp_daily_data.pkl')"
   ]
  },
  {
   "cell_type": "code",
   "execution_count": 3,
   "id": "5fa67bf7",
   "metadata": {},
   "outputs": [
    {
     "data": {
      "text/plain": [
       "Index(['date', 'year', 'month', 'day', 'tp_daily_sum', 'tp_daily_mean',\n",
       "       'tp_daily_std', 'tp_daily_median', 'tp_daily_max', 'tp_daily_min',\n",
       "       'tp_mm_daily_sum', 'tp_mm_daily_mean', 'tp_mm_daily_std',\n",
       "       'tp_mm_daily_median', 'tp_mm_daily_min', 'tp_mm_daily_max', 'month_int',\n",
       "       'rainy_day'],\n",
       "      dtype='object')"
      ]
     },
     "execution_count": 3,
     "metadata": {},
     "output_type": "execute_result"
    }
   ],
   "source": [
    "london_daily_data.columns"
   ]
  },
  {
   "cell_type": "code",
   "execution_count": 4,
   "id": "fdc47183",
   "metadata": {},
   "outputs": [],
   "source": [
    "df_london_day = london_daily_data[['date', 'year', 'month', 'day', 'tp_mm_daily_sum', 'month_int']].copy()"
   ]
  },
  {
   "cell_type": "code",
   "execution_count": 5,
   "id": "860eb69e",
   "metadata": {},
   "outputs": [],
   "source": [
    "df_london_day['tp_mm'] = np.where(df_london_day['tp_mm_daily_sum'] > 0.1, np.round(df_london_day['tp_mm_daily_sum'],1), 0.0)"
   ]
  },
  {
   "cell_type": "code",
   "execution_count": 6,
   "id": "eaba46fd",
   "metadata": {},
   "outputs": [
    {
     "data": {
      "text/html": [
       "<div>\n",
       "<style scoped>\n",
       "    .dataframe tbody tr th:only-of-type {\n",
       "        vertical-align: middle;\n",
       "    }\n",
       "\n",
       "    .dataframe tbody tr th {\n",
       "        vertical-align: top;\n",
       "    }\n",
       "\n",
       "    .dataframe thead th {\n",
       "        text-align: right;\n",
       "    }\n",
       "</style>\n",
       "<table border=\"1\" class=\"dataframe\">\n",
       "  <thead>\n",
       "    <tr style=\"text-align: right;\">\n",
       "      <th></th>\n",
       "      <th>date</th>\n",
       "      <th>year</th>\n",
       "      <th>month</th>\n",
       "      <th>day</th>\n",
       "      <th>tp_mm_daily_sum</th>\n",
       "      <th>month_int</th>\n",
       "      <th>tp_mm</th>\n",
       "    </tr>\n",
       "  </thead>\n",
       "  <tbody>\n",
       "    <tr>\n",
       "      <th>5883</th>\n",
       "      <td>2015-02-09</td>\n",
       "      <td>2015</td>\n",
       "      <td>Feb</td>\n",
       "      <td>9</td>\n",
       "      <td>0.050065</td>\n",
       "      <td>2</td>\n",
       "      <td>0.0</td>\n",
       "    </tr>\n",
       "    <tr>\n",
       "      <th>2531</th>\n",
       "      <td>2005-12-06</td>\n",
       "      <td>2005</td>\n",
       "      <td>Dec</td>\n",
       "      <td>6</td>\n",
       "      <td>0.050163</td>\n",
       "      <td>12</td>\n",
       "      <td>0.0</td>\n",
       "    </tr>\n",
       "    <tr>\n",
       "      <th>9646</th>\n",
       "      <td>2025-05-30</td>\n",
       "      <td>2025</td>\n",
       "      <td>May</td>\n",
       "      <td>30</td>\n",
       "      <td>0.050163</td>\n",
       "      <td>5</td>\n",
       "      <td>0.0</td>\n",
       "    </tr>\n",
       "    <tr>\n",
       "      <th>4183</th>\n",
       "      <td>2010-06-15</td>\n",
       "      <td>2010</td>\n",
       "      <td>Jun</td>\n",
       "      <td>15</td>\n",
       "      <td>0.050217</td>\n",
       "      <td>6</td>\n",
       "      <td>0.0</td>\n",
       "    </tr>\n",
       "    <tr>\n",
       "      <th>9116</th>\n",
       "      <td>2023-12-17</td>\n",
       "      <td>2023</td>\n",
       "      <td>Dec</td>\n",
       "      <td>17</td>\n",
       "      <td>0.050377</td>\n",
       "      <td>12</td>\n",
       "      <td>0.0</td>\n",
       "    </tr>\n",
       "    <tr>\n",
       "      <th>...</th>\n",
       "      <td>...</td>\n",
       "      <td>...</td>\n",
       "      <td>...</td>\n",
       "      <td>...</td>\n",
       "      <td>...</td>\n",
       "      <td>...</td>\n",
       "      <td>...</td>\n",
       "    </tr>\n",
       "    <tr>\n",
       "      <th>7465</th>\n",
       "      <td>2019-06-10</td>\n",
       "      <td>2019</td>\n",
       "      <td>Jun</td>\n",
       "      <td>10</td>\n",
       "      <td>29.865637</td>\n",
       "      <td>6</td>\n",
       "      <td>29.9</td>\n",
       "    </tr>\n",
       "    <tr>\n",
       "      <th>4620</th>\n",
       "      <td>2011-08-26</td>\n",
       "      <td>2011</td>\n",
       "      <td>Aug</td>\n",
       "      <td>26</td>\n",
       "      <td>29.940726</td>\n",
       "      <td>8</td>\n",
       "      <td>29.9</td>\n",
       "    </tr>\n",
       "    <tr>\n",
       "      <th>8328</th>\n",
       "      <td>2021-10-20</td>\n",
       "      <td>2021</td>\n",
       "      <td>Oct</td>\n",
       "      <td>20</td>\n",
       "      <td>30.453879</td>\n",
       "      <td>10</td>\n",
       "      <td>30.5</td>\n",
       "    </tr>\n",
       "    <tr>\n",
       "      <th>8204</th>\n",
       "      <td>2021-06-18</td>\n",
       "      <td>2021</td>\n",
       "      <td>Jun</td>\n",
       "      <td>18</td>\n",
       "      <td>31.266725</td>\n",
       "      <td>6</td>\n",
       "      <td>31.3</td>\n",
       "    </tr>\n",
       "    <tr>\n",
       "      <th>5321</th>\n",
       "      <td>2013-07-27</td>\n",
       "      <td>2013</td>\n",
       "      <td>Jul</td>\n",
       "      <td>27</td>\n",
       "      <td>32.630601</td>\n",
       "      <td>7</td>\n",
       "      <td>32.6</td>\n",
       "    </tr>\n",
       "  </tbody>\n",
       "</table>\n",
       "<p>6971 rows × 7 columns</p>\n",
       "</div>"
      ],
      "text/plain": [
       "           date  year month  day  tp_mm_daily_sum  month_int  tp_mm\n",
       "5883 2015-02-09  2015   Feb    9         0.050065          2    0.0\n",
       "2531 2005-12-06  2005   Dec    6         0.050163         12    0.0\n",
       "9646 2025-05-30  2025   May   30         0.050163          5    0.0\n",
       "4183 2010-06-15  2010   Jun   15         0.050217          6    0.0\n",
       "9116 2023-12-17  2023   Dec   17         0.050377         12    0.0\n",
       "...         ...   ...   ...  ...              ...        ...    ...\n",
       "7465 2019-06-10  2019   Jun   10        29.865637          6   29.9\n",
       "4620 2011-08-26  2011   Aug   26        29.940726          8   29.9\n",
       "8328 2021-10-20  2021   Oct   20        30.453879         10   30.5\n",
       "8204 2021-06-18  2021   Jun   18        31.266725          6   31.3\n",
       "5321 2013-07-27  2013   Jul   27        32.630601          7   32.6\n",
       "\n",
       "[6971 rows x 7 columns]"
      ]
     },
     "execution_count": 6,
     "metadata": {},
     "output_type": "execute_result"
    }
   ],
   "source": [
    "df_london_day[df_london_day['tp_mm_daily_sum'] > 0.05].sort_values('tp_mm_daily_sum')"
   ]
  },
  {
   "cell_type": "code",
   "execution_count": 7,
   "id": "049599b3",
   "metadata": {},
   "outputs": [
    {
     "data": {
      "text/html": [
       "<div>\n",
       "<style scoped>\n",
       "    .dataframe tbody tr th:only-of-type {\n",
       "        vertical-align: middle;\n",
       "    }\n",
       "\n",
       "    .dataframe tbody tr th {\n",
       "        vertical-align: top;\n",
       "    }\n",
       "\n",
       "    .dataframe thead th {\n",
       "        text-align: right;\n",
       "    }\n",
       "</style>\n",
       "<table border=\"1\" class=\"dataframe\">\n",
       "  <thead>\n",
       "    <tr style=\"text-align: right;\">\n",
       "      <th></th>\n",
       "      <th>month</th>\n",
       "      <th>monthly_mean</th>\n",
       "    </tr>\n",
       "  </thead>\n",
       "  <tbody>\n",
       "    <tr>\n",
       "      <th>0</th>\n",
       "      <td>Jan</td>\n",
       "      <td>59.966667</td>\n",
       "    </tr>\n",
       "    <tr>\n",
       "      <th>1</th>\n",
       "      <td>Feb</td>\n",
       "      <td>53.585185</td>\n",
       "    </tr>\n",
       "    <tr>\n",
       "      <th>2</th>\n",
       "      <td>Mar</td>\n",
       "      <td>48.807407</td>\n",
       "    </tr>\n",
       "    <tr>\n",
       "      <th>3</th>\n",
       "      <td>Apr</td>\n",
       "      <td>48.759259</td>\n",
       "    </tr>\n",
       "    <tr>\n",
       "      <th>4</th>\n",
       "      <td>May</td>\n",
       "      <td>59.885185</td>\n",
       "    </tr>\n",
       "    <tr>\n",
       "      <th>5</th>\n",
       "      <td>Jun</td>\n",
       "      <td>60.677778</td>\n",
       "    </tr>\n",
       "    <tr>\n",
       "      <th>6</th>\n",
       "      <td>Jul</td>\n",
       "      <td>65.165385</td>\n",
       "    </tr>\n",
       "    <tr>\n",
       "      <th>7</th>\n",
       "      <td>Aug</td>\n",
       "      <td>69.292308</td>\n",
       "    </tr>\n",
       "    <tr>\n",
       "      <th>8</th>\n",
       "      <td>Sep</td>\n",
       "      <td>49.053846</td>\n",
       "    </tr>\n",
       "    <tr>\n",
       "      <th>9</th>\n",
       "      <td>Oct</td>\n",
       "      <td>68.165385</td>\n",
       "    </tr>\n",
       "    <tr>\n",
       "      <th>10</th>\n",
       "      <td>Nov</td>\n",
       "      <td>65.696154</td>\n",
       "    </tr>\n",
       "    <tr>\n",
       "      <th>11</th>\n",
       "      <td>Dec</td>\n",
       "      <td>62.130769</td>\n",
       "    </tr>\n",
       "  </tbody>\n",
       "</table>\n",
       "</div>"
      ],
      "text/plain": [
       "   month  monthly_mean\n",
       "0    Jan     59.966667\n",
       "1    Feb     53.585185\n",
       "2    Mar     48.807407\n",
       "3    Apr     48.759259\n",
       "4    May     59.885185\n",
       "5    Jun     60.677778\n",
       "6    Jul     65.165385\n",
       "7    Aug     69.292308\n",
       "8    Sep     49.053846\n",
       "9    Oct     68.165385\n",
       "10   Nov     65.696154\n",
       "11   Dec     62.130769"
      ]
     },
     "execution_count": 7,
     "metadata": {},
     "output_type": "execute_result"
    }
   ],
   "source": [
    "import calendar\n",
    "\n",
    "monthly_precipitation = df_london_day.groupby(['year', 'month'])['tp_mm'].sum().reset_index()\n",
    "monthly_precipitation.columns = ['year', 'month', 'monthly_total']\n",
    "\n",
    "# Convert month to categorical for proper ordering\n",
    "month_order = list(calendar.month_abbr)[1:]\n",
    "monthly_precipitation['month'] = pd.Categorical(monthly_precipitation['month'], \n",
    "                                              categories=month_order, ordered=True)\n",
    "\n",
    "# Calculate mean monthly precipitation across years\n",
    "mean_monthly_precip = monthly_precipitation.groupby('month')['monthly_total'].mean().reset_index().rename(columns = {'monthly_total' : 'monthly_mean'})\n",
    "\n",
    "mean_monthly_precip"
   ]
  },
  {
   "cell_type": "code",
   "execution_count": 13,
   "id": "eb6b2556",
   "metadata": {},
   "outputs": [
    {
     "data": {
      "image/png": "[encoded data removed]",
      "text/plain": [
       "<Figure size 1200x600 with 1 Axes>"
      ]
     },
     "metadata": {},
     "output_type": "display_data"
    },
    {
     "name": "stdout",
     "output_type": "stream",
     "text": [
      "Month-to-Month Gradients:\n",
      "   month  monthly_mean   gradient\n",
      "0    Jan     59.966667   0.000000\n",
      "1    Feb     53.585185  -6.381481\n",
      "2    Mar     48.807407  -4.777778\n",
      "3    Apr     48.759259  -0.048148\n",
      "4    May     59.885185  11.125926\n",
      "5    Jun     60.677778   0.792593\n",
      "6    Jul     65.165385   4.487607\n",
      "7    Aug     69.292308   4.126923\n",
      "8    Sep     49.053846 -20.238462\n",
      "9    Oct     68.165385  19.111538\n",
      "10   Nov     65.696154  -2.469231\n",
      "11   Dec     62.130769  -3.565385\n"
     ]
    }
   ],
   "source": [
    "import pandas as pd\n",
    "import numpy as np\n",
    "import matplotlib.pyplot as plt\n",
    "import seaborn as sns\n",
    "from matplotlib.collections import PolyCollection\n",
    "\n",
    "# Sample data (replace with your actual dataframe)\n",
    "# Handling both string and numeric month formats\n",
    "\n",
    "# Create numeric month values for plotting\n",
    "if mean_monthly_precip['month'].dtype == 'category':  # String months\n",
    "    mean_monthly_precip['month_num'] = range(len(mean_monthly_precip))\n",
    "    month_labels = mean_monthly_precip['month'].tolist()\n",
    "else:  # Numeric months\n",
    "    mean_monthly_precip['month_num'] = mean_monthly_precip['month'] \n",
    "    month_labels = mean_monthly_precip['month'].tolist()\n",
    "\n",
    "# Calculate the gradient (difference between consecutive months)\n",
    "mean_monthly_precip['gradient'] = mean_monthly_precip['monthly_mean'].diff().fillna(0)\n",
    "\n",
    "# Create the plot\n",
    "fig, ax = plt.subplots(figsize=(12, 6))\n",
    "\n",
    "# Define color map - darker for positive gradients\n",
    "# Normalize gradients to [0, 1] range for color mapping\n",
    "grad_norm = (mean_monthly_precip['gradient'] - mean_monthly_precip['gradient'].min()) / (mean_monthly_precip['gradient'].max() - mean_monthly_precip['gradient'].min())\n",
    "\n",
    "# Create segments for the area plot\n",
    "segments = []\n",
    "colors = []\n",
    "\n",
    "for i in range(len(mean_monthly_precip) - 1):\n",
    "    # Create polygon for each segment using numeric month values\n",
    "    x1, x2 = mean_monthly_precip['month_num'].iloc[i], mean_monthly_precip['month_num'].iloc[i + 1]\n",
    "    y1, y2 = mean_monthly_precip['monthly_mean'].iloc[i], mean_monthly_precip['monthly_mean'].iloc[i + 1]\n",
    "    \n",
    "    # Create trapezoid segment\n",
    "    segment = [(x1, 0), (x1, y1), (x2, y2), (x2, 0)]\n",
    "    segments.append(segment)\n",
    "    \n",
    "    # Color based on gradient - darker for positive changes\n",
    "    if mean_monthly_precip['gradient'].iloc[i + 1] > 0:\n",
    "        # Positive gradient - use darker color\n",
    "        alpha = 0.3 + 0.7 * grad_norm.iloc[i + 1]  # Range from 0.3 to 1.0\n",
    "        colors.append((0.2, 0.4, 0.8, alpha))  # Blue with varying alpha\n",
    "    else:\n",
    "        # Negative or zero gradient - use lighter color\n",
    "        alpha = 0.2 + 0.3 * (1 - abs(grad_norm.iloc[i + 1]))  # Lighter for negative\n",
    "        colors.append((0.6, 0.6, 0.6, alpha))  # Gray with varying alpha\n",
    "\n",
    "# Create the collection of polygons\n",
    "poly_collection = PolyCollection(segments, facecolors=colors, edgecolors='none')\n",
    "ax.add_collection(poly_collection)\n",
    "\n",
    "# Add the line plot on top using numeric values\n",
    "sns.lineplot(data=mean_monthly_precip, x='month_num', y='monthly_mean', ax=ax, color='darkblue', linewidth=2)\n",
    "\n",
    "# Customize the plot\n",
    "ax.set_xlim(mean_monthly_precip['month_num'].min(), mean_monthly_precip['month_num'].max())\n",
    "ax.set_ylim(0, mean_monthly_precip['monthly_mean'].max() * 1.1)\n",
    "ax.set_xlabel('Month')\n",
    "ax.set_ylabel('Monthly Mean')\n",
    "\n",
    "# Set custom month labels if they were strings\n",
    "if mean_monthly_precip['month'].dtype == 'category':\n",
    "    ax.set_xticks(mean_monthly_precip['month_num'])\n",
    "    ax.set_xticklabels(month_labels)\n",
    "ax.set_title('Area Plot with Gradient-Based Coloring\\n(Darker areas indicate positive month-to-month changes)')\n",
    "\n",
    "# Add grid for better readability\n",
    "ax.grid(True, alpha=0.3)\n",
    "\n",
    "# Set seaborn style\n",
    "sns.set_style(\"whitegrid\")\n",
    "\n",
    "plt.tight_layout()\n",
    "plt.show()\n",
    "\n",
    "# # Alternative approach using fill_between with custom coloring\n",
    "# fig, ax = plt.subplots(figsize=(12, 6))\n",
    "\n",
    "# # Plot the basic area using numeric month values\n",
    "# ax.fill_between(mean_monthly_precip['month_num'], mean_monthly_precip['monthly_mean'], alpha=0.2, color='lightblue')\n",
    "\n",
    "# # Add colored segments based on gradient\n",
    "# for i in range(len(mean_monthly_precip) - 1):\n",
    "#     x_range = [mean_monthly_precip['month_num'].iloc[i], mean_monthly_precip['month_num'].iloc[i + 1]]\n",
    "#     y_range = [mean_monthly_precip['monthly_mean'].iloc[i], mean_monthly_precip['monthly_mean'].iloc[i + 1]]\n",
    "    \n",
    "#     if mean_monthly_precip['gradient'].iloc[i + 1] > 0:\n",
    "#         # Positive gradient - darker fill\n",
    "#         intensity = min(mean_monthly_precip['gradient'].iloc[i + 1] / mean_monthly_precip['gradient'].max(), 1.0)\n",
    "#         alpha = 0.3 + 0.6 * intensity\n",
    "#         ax.fill_between(x_range, [0, 0], y_range, \n",
    "#                        color='darkblue', alpha=alpha, interpolate=True)\n",
    "\n",
    "# # Add the line plot using numeric values\n",
    "# sns.lineplot(data=mean_monthly_precip, x='month_num', y='monthly_mean', ax=ax, color='navy', linewidth=2)\n",
    "\n",
    "# ax.set_xlabel('Month')\n",
    "# ax.set_ylabel('Monthly Mean')\n",
    "# ax.set_title('Alternative: Fill Between with Gradient Coloring')\n",
    "\n",
    "# # Set custom month labels if they were strings\n",
    "# if mean_monthly_precip['month'].dtype == 'object':\n",
    "#     ax.set_xticks(mean_monthly_precip['month_num'])\n",
    "#     ax.set_xticklabels(month_labels)\n",
    "\n",
    "# ax.grid(True, alpha=0.3)\n",
    "\n",
    "# plt.tight_layout()\n",
    "# plt.show()\n",
    "\n",
    "# # Print gradient information for reference\n",
    "print(\"Month-to-Month Gradients:\")\n",
    "print(mean_monthly_precip[['month', 'monthly_mean', 'gradient']])"
   ]
  },
  {
   "cell_type": "code",
   "execution_count": 16,
   "id": "dbfa07c8",
   "metadata": {},
   "outputs": [
    {
     "data": {
      "text/plain": [
       "711.1853276353276"
      ]
     },
     "execution_count": 16,
     "metadata": {},
     "output_type": "execute_result"
    }
   ],
   "source": [
    "mean_monthly_precip['monthly_mean'].sum()"
   ]
  },
  {
   "cell_type": "code",
   "execution_count": null,
   "id": "3e32d030",
   "metadata": {},
   "outputs": [],
   "source": []
  },
  {
   "cell_type": "code",
   "execution_count": null,
   "id": "35e3a583",
   "metadata": {},
   "outputs": [],
   "source": []
  },
  {
   "cell_type": "code",
   "execution_count": 45,
   "id": "f8410c2b",
   "metadata": {},
   "outputs": [
    {
     "data": {
      "text/plain": [
       "<Figure size 640x480 with 0 Axes>"
      ]
     },
     "metadata": {},
     "output_type": "display_data"
    },
    {
     "data": {
      "image/png": "[encoded data removed]",
      "text/plain": [
       "<Figure size 1200x600 with 1 Axes>"
      ]
     },
     "metadata": {},
     "output_type": "display_data"
    },
    {
     "name": "stdout",
     "output_type": "stream",
     "text": [
      "Month-to-Month Gradients:\n",
      "   month  monthly_mean   gradient\n",
      "0    Jan     59.966667   0.000000\n",
      "1    Feb     53.585185  -6.381481\n",
      "2    Mar     48.807407  -4.777778\n",
      "3    Apr     48.759259  -0.048148\n",
      "4    May     59.885185  11.125926\n",
      "5    Jun     60.677778   0.792593\n",
      "6    Jul     65.165385   4.487607\n",
      "7    Aug     69.292308   4.126923\n",
      "8    Sep     49.053846 -20.238462\n",
      "9    Oct     68.165385  19.111538\n",
      "10   Nov     65.696154  -2.469231\n",
      "11   Dec     62.130769  -3.565385\n"
     ]
    }
   ],
   "source": [
    "# Set seaborn style\n",
    "sns.set_style(\"whitegrid\")\n",
    "\n",
    "plt.tight_layout()\n",
    "plt.show()\n",
    "\n",
    "# Alternative approach using fill_between with custom coloring\n",
    "fig, ax = plt.subplots(figsize=(12, 6))\n",
    "\n",
    "# Plot the basic area\n",
    "ax.fill_between(mean_monthly_precip['month'], mean_monthly_precip['monthly_mean'], alpha=0.2, color='lightblue');\n",
    "\n",
    "# Calculate the gradient (difference between consecutive months)\n",
    "mean_monthly_precip['gradient'] = mean_monthly_precip['monthly_mean'].diff().fillna(0)\n",
    "# Add colored segments based on gradient\n",
    "for i in range(len(mean_monthly_precip) - 1):\n",
    "    x_range = [mean_monthly_precip['month'].iloc[i], mean_monthly_precip['month'].iloc[i + 1]]\n",
    "    y_range = [mean_monthly_precip['monthly_mean'].iloc[i], mean_monthly_precip['monthly_mean'].iloc[i + 1]]\n",
    "    \n",
    "    if mean_monthly_precip['gradient'].iloc[i + 1] > 0:\n",
    "        # Positive gradient - darker fill\n",
    "        intensity = min(mean_monthly_precip['gradient'].iloc[i + 1] / mean_monthly_precip['gradient'].max(), 1.0)\n",
    "        alpha = 0.3 + 0.6 * intensity\n",
    "        ax.fill_between(x_range, [0, 0], y_range, \n",
    "                       color='darkblue', alpha=alpha, interpolate=True)\n",
    "\n",
    "# Add the line plot\n",
    "sns.lineplot(data=mean_monthly_precip, x='month', y='monthly_mean', ax=ax, color='navy', linewidth=2)\n",
    "\n",
    "ax.set_xlabel('Month')\n",
    "ax.set_ylabel('Monthly Mean')\n",
    "ax.set_title('Alternative: Fill Between with Gradient Coloring')\n",
    "ax.grid(True, alpha=0.3)\n",
    "\n",
    "plt.tight_layout()\n",
    "plt.show()\n",
    "\n",
    "# Print gradient information for reference\n",
    "print(\"Month-to-Month Gradients:\")\n",
    "print(mean_monthly_precip[['month', 'monthly_mean', 'gradient']]);"
   ]
  },
  {
   "cell_type": "code",
   "execution_count": 48,
   "id": "e0934afb",
   "metadata": {},
   "outputs": [
    {
     "ename": "ValueError",
     "evalue": "could not convert string to float: 'Jan'",
     "output_type": "error",
     "traceback": [
      "\u001b[1;31m---------------------------------------------------------------------------\u001b[0m",
      "\u001b[1;31mValueError\u001b[0m                                Traceback (most recent call last)",
      "Cell \u001b[1;32mIn[48], line 41\u001b[0m\n\u001b[0;32m     38\u001b[0m         colors\u001b[38;5;241m.\u001b[39mappend((\u001b[38;5;241m0.6\u001b[39m, \u001b[38;5;241m0.6\u001b[39m, \u001b[38;5;241m0.6\u001b[39m, alpha))  \u001b[38;5;66;03m# Gray with varying alpha\u001b[39;00m\n\u001b[0;32m     40\u001b[0m \u001b[38;5;66;03m# Create the collection of polygons\u001b[39;00m\n\u001b[1;32m---> 41\u001b[0m poly_collection \u001b[38;5;241m=\u001b[39m PolyCollection(segments, facecolors\u001b[38;5;241m=\u001b[39mcolors, edgecolors\u001b[38;5;241m=\u001b[39m\u001b[38;5;124m'\u001b[39m\u001b[38;5;124mnone\u001b[39m\u001b[38;5;124m'\u001b[39m)\n\u001b[0;32m     42\u001b[0m ax\u001b[38;5;241m.\u001b[39madd_collection(poly_collection)\n\u001b[0;32m     44\u001b[0m \u001b[38;5;66;03m# Add the line plot on top\u001b[39;00m\n",
      "File \u001b[1;32mc:\\ProgramData\\anaconda3\\Lib\\site-packages\\matplotlib\\collections.py:1200\u001b[0m, in \u001b[0;36mPolyCollection.__init__\u001b[1;34m(self, verts, sizes, closed, **kwargs)\u001b[0m\n\u001b[0;32m   1198\u001b[0m \u001b[38;5;28msuper\u001b[39m()\u001b[38;5;241m.\u001b[39m\u001b[38;5;21m__init__\u001b[39m(\u001b[38;5;241m*\u001b[39m\u001b[38;5;241m*\u001b[39mkwargs)\n\u001b[0;32m   1199\u001b[0m \u001b[38;5;28mself\u001b[39m\u001b[38;5;241m.\u001b[39mset_sizes(sizes)\n\u001b[1;32m-> 1200\u001b[0m \u001b[38;5;28mself\u001b[39m\u001b[38;5;241m.\u001b[39mset_verts(verts, closed)\n\u001b[0;32m   1201\u001b[0m \u001b[38;5;28mself\u001b[39m\u001b[38;5;241m.\u001b[39mstale \u001b[38;5;241m=\u001b[39m \u001b[38;5;28;01mTrue\u001b[39;00m\n",
      "File \u001b[1;32mc:\\ProgramData\\anaconda3\\Lib\\site-packages\\matplotlib\\collections.py:1241\u001b[0m, in \u001b[0;36mPolyCollection.set_verts\u001b[1;34m(self, verts, closed)\u001b[0m\n\u001b[0;32m   1239\u001b[0m \u001b[38;5;28;01mfor\u001b[39;00m xy \u001b[38;5;129;01min\u001b[39;00m verts:\n\u001b[0;32m   1240\u001b[0m     \u001b[38;5;28;01mif\u001b[39;00m \u001b[38;5;28mlen\u001b[39m(xy):\n\u001b[1;32m-> 1241\u001b[0m         \u001b[38;5;28mself\u001b[39m\u001b[38;5;241m.\u001b[39m_paths\u001b[38;5;241m.\u001b[39mappend(mpath\u001b[38;5;241m.\u001b[39mPath\u001b[38;5;241m.\u001b[39m_create_closed(xy))\n\u001b[0;32m   1242\u001b[0m     \u001b[38;5;28;01melse\u001b[39;00m:\n\u001b[0;32m   1243\u001b[0m         \u001b[38;5;28mself\u001b[39m\u001b[38;5;241m.\u001b[39m_paths\u001b[38;5;241m.\u001b[39mappend(mpath\u001b[38;5;241m.\u001b[39mPath(xy))\n",
      "File \u001b[1;32mc:\\ProgramData\\anaconda3\\Lib\\site-packages\\matplotlib\\path.py:199\u001b[0m, in \u001b[0;36mPath._create_closed\u001b[1;34m(cls, vertices)\u001b[0m\n\u001b[0;32m    191\u001b[0m \u001b[38;5;129m@classmethod\u001b[39m\n\u001b[0;32m    192\u001b[0m \u001b[38;5;28;01mdef\u001b[39;00m \u001b[38;5;21m_create_closed\u001b[39m(\u001b[38;5;28mcls\u001b[39m, vertices):\n\u001b[0;32m    193\u001b[0m \u001b[38;5;250m    \u001b[39m\u001b[38;5;124;03m\"\"\"\u001b[39;00m\n\u001b[0;32m    194\u001b[0m \u001b[38;5;124;03m    Create a closed polygonal path going through *vertices*.\u001b[39;00m\n\u001b[0;32m    195\u001b[0m \n\u001b[0;32m    196\u001b[0m \u001b[38;5;124;03m    Unlike ``Path(..., closed=True)``, *vertices* should **not** end with\u001b[39;00m\n\u001b[0;32m    197\u001b[0m \u001b[38;5;124;03m    an entry for the CLOSEPATH; this entry is added by `._create_closed`.\u001b[39;00m\n\u001b[0;32m    198\u001b[0m \u001b[38;5;124;03m    \"\"\"\u001b[39;00m\n\u001b[1;32m--> 199\u001b[0m     v \u001b[38;5;241m=\u001b[39m _to_unmasked_float_array(vertices)\n\u001b[0;32m    200\u001b[0m     \u001b[38;5;28;01mreturn\u001b[39;00m \u001b[38;5;28mcls\u001b[39m(np\u001b[38;5;241m.\u001b[39mconcatenate([v, v[:\u001b[38;5;241m1\u001b[39m]]), closed\u001b[38;5;241m=\u001b[39m\u001b[38;5;28;01mTrue\u001b[39;00m)\n",
      "File \u001b[1;32mc:\\ProgramData\\anaconda3\\Lib\\site-packages\\matplotlib\\cbook.py:1345\u001b[0m, in \u001b[0;36m_to_unmasked_float_array\u001b[1;34m(x)\u001b[0m\n\u001b[0;32m   1343\u001b[0m     \u001b[38;5;28;01mreturn\u001b[39;00m np\u001b[38;5;241m.\u001b[39mma\u001b[38;5;241m.\u001b[39masarray(x, \u001b[38;5;28mfloat\u001b[39m)\u001b[38;5;241m.\u001b[39mfilled(np\u001b[38;5;241m.\u001b[39mnan)\n\u001b[0;32m   1344\u001b[0m \u001b[38;5;28;01melse\u001b[39;00m:\n\u001b[1;32m-> 1345\u001b[0m     \u001b[38;5;28;01mreturn\u001b[39;00m np\u001b[38;5;241m.\u001b[39masarray(x, \u001b[38;5;28mfloat\u001b[39m)\n",
      "\u001b[1;31mValueError\u001b[0m: could not convert string to float: 'Jan'"
     ]
    },
    {
     "data": {
      "image/png": "[encoded data removed]",
      "text/plain": [
       "<Figure size 1200x600 with 1 Axes>"
      ]
     },
     "metadata": {},
     "output_type": "display_data"
    }
   ],
   "source": [
    "import matplotlib.pyplot as plt\n",
    "import seaborn as sns\n",
    "from matplotlib.collections import PolyCollection\n",
    "\n",
    "\n",
    "\n",
    "# Calculate the gradient (difference between consecutive months)\n",
    "# df['gradient'] = df['monthly_mean'].diff().fillna(0)\n",
    "\n",
    "# Create the plot\n",
    "fig, ax = plt.subplots(figsize=(12, 6))\n",
    "\n",
    "# Define color map - darker for positive gradients\n",
    "# Normalize gradients to [0, 1] range for color mapping\n",
    "grad_norm = (mean_monthly_precip['gradient'] - mean_monthly_precip['gradient'].min()) / (mean_monthly_precip['gradient'].max() - mean_monthly_precip['gradient'].min())\n",
    "\n",
    "# Create segments for the area plot\n",
    "segments = []\n",
    "colors = []\n",
    "\n",
    "for i in range(len(mean_monthly_precip) - 1):\n",
    "    # Create polygon for each segment\n",
    "    x1, x2 = mean_monthly_precip['month'].iloc[i], mean_monthly_precip['month'].iloc[i + 1]\n",
    "    y1, y2 = mean_monthly_precip['monthly_mean'].iloc[i], mean_monthly_precip['monthly_mean'].iloc[i + 1]\n",
    "    \n",
    "    # Create trapezoid segment\n",
    "    segment = [(x1, 0), (x1, y1), (x2, y2), (x2, 0)]\n",
    "    segments.append(segment)\n",
    "    \n",
    "    # Color based on gradient - darker for positive changes\n",
    "    if mean_monthly_precip['gradient'].iloc[i + 1] > 0:\n",
    "        # Positive gradient - use darker color\n",
    "        alpha = 0.3 + 0.7 * grad_norm.iloc[i + 1]  # Range from 0.3 to 1.0\n",
    "        colors.append((0.2, 0.4, 0.8, alpha))  # Blue with varying alpha\n",
    "    else:\n",
    "        # Negative or zero gradient - use lighter color\n",
    "        alpha = 0.2 + 0.3 * (1 - abs(grad_norm.iloc[i + 1]))  # Lighter for negative\n",
    "        colors.append((0.6, 0.6, 0.6, alpha))  # Gray with varying alpha\n",
    "\n",
    "# Create the collection of polygons\n",
    "poly_collection = PolyCollection(segments, facecolors=colors, edgecolors='none')\n",
    "ax.add_collection(poly_collection)\n",
    "\n",
    "# Add the line plot on top\n",
    "sns.lineplot(data=mean_monthly_precip, x='month', y='monthly_mean', ax=ax, color='darkblue', linewidth=2)\n",
    "\n",
    "# Customize the plot\n",
    "ax.set_xlim(mean_monthly_precip['month'].min(), mean_monthly_precip['month'].max())\n",
    "ax.set_ylim(0, mean_monthly_precip['monthly_mean'].max() * 1.1)\n",
    "ax.set_xlabel('Month')\n",
    "ax.set_ylabel('Monthly Mean')\n",
    "ax.set_title('Area Plot with Gradient-Based Coloring\\n(Darker areas indicate positive month-to-month changes)')\n",
    "\n",
    "# Add grid for better readability\n",
    "ax.grid(True, alpha=0.3)\n",
    "\n",
    "# Set seaborn style\n",
    "sns.set_style(\"whitegrid\")\n",
    "\n",
    "plt.tight_layout()\n",
    "plt.show()"
   ]
  },
  {
   "cell_type": "code",
   "execution_count": null,
   "id": "33236526",
   "metadata": {},
   "outputs": [],
   "source": []
  },
  {
   "cell_type": "code",
   "execution_count": 35,
   "id": "2a31cfbd",
   "metadata": {},
   "outputs": [],
   "source": [
    "df_london_day_less = df_london_day[df_london_day['tp_mm_daily_sum'] <= 0.1].copy()"
   ]
  },
  {
   "cell_type": "code",
   "execution_count": 36,
   "id": "3748445a",
   "metadata": {},
   "outputs": [
    {
     "data": {
      "text/plain": [
       "year\n",
       "1999    654.551079\n",
       "2000    879.546671\n",
       "2001    795.023448\n",
       "2002    738.264118\n",
       "2003    577.337717\n",
       "2004    652.490024\n",
       "2005    550.885330\n",
       "2006    695.295085\n",
       "2007    682.205960\n",
       "2008    690.267652\n",
       "2009    633.583636\n",
       "2010    642.334462\n",
       "2011    550.452896\n",
       "2012    931.102272\n",
       "2013    739.966754\n",
       "2014    890.783657\n",
       "2015    696.419839\n",
       "2016    653.681747\n",
       "2017    725.525923\n",
       "2018    655.972695\n",
       "2019    804.462838\n",
       "2020    735.372368\n",
       "2021    873.992582\n",
       "2022    648.726870\n",
       "2023    772.121934\n",
       "2024    805.791914\n",
       "2025    216.846684\n",
       "Name: tp_mm_daily_sum, dtype: float64"
      ]
     },
     "execution_count": 36,
     "metadata": {},
     "output_type": "execute_result"
    }
   ],
   "source": [
    "(df_london_day\n",
    " .groupby('year')['tp_mm_daily_sum']\n",
    " .sum()\n",
    ")\n"
   ]
  },
  {
   "cell_type": "code",
   "execution_count": 37,
   "id": "d82b63bb",
   "metadata": {},
   "outputs": [
    {
     "data": {
      "text/plain": [
       "year\n",
       "1999    2.074862\n",
       "2000    2.346896\n",
       "2001    2.129457\n",
       "2002    2.771909\n",
       "2003    3.033074\n",
       "2004    2.586647\n",
       "2005    2.797270\n",
       "2006    2.349662\n",
       "2007    2.765754\n",
       "2008    1.972572\n",
       "2009    2.721974\n",
       "2010    2.633292\n",
       "2011    3.223515\n",
       "2012    2.398167\n",
       "2013    2.796331\n",
       "2014    2.266273\n",
       "2015    2.678552\n",
       "2016    2.647158\n",
       "2017    1.940023\n",
       "2018    3.335368\n",
       "2019    2.312270\n",
       "2020    1.977698\n",
       "2021    2.402929\n",
       "2022    2.132332\n",
       "2023    2.434090\n",
       "2024    2.041377\n",
       "2025    1.558680\n",
       "Name: tp_mm_daily_sum, dtype: float64"
      ]
     },
     "execution_count": 37,
     "metadata": {},
     "output_type": "execute_result"
    }
   ],
   "source": [
    "(df_london_day_less\n",
    " .groupby('year')['tp_mm_daily_sum']\n",
    " .sum()\n",
    ")\n"
   ]
  },
  {
   "cell_type": "code",
   "execution_count": null,
   "id": "e7c816ee",
   "metadata": {},
   "outputs": [],
   "source": []
  },
  {
   "cell_type": "code",
   "execution_count": null,
   "id": "a75ada34",
   "metadata": {},
   "outputs": [],
   "source": []
  },
  {
   "cell_type": "code",
   "execution_count": null,
   "id": "6ee09a5b",
   "metadata": {},
   "outputs": [],
   "source": []
  },
  {
   "cell_type": "code",
   "execution_count": null,
   "id": "06ea1456",
   "metadata": {},
   "outputs": [],
   "source": [
    "# Hampstead 51.55338143494524, -0.1778743735609532\n",
    "\n",
    "data = pd.read_csv('./output/london_weather_dataBACKUP.csv')\n",
    "data.head()"
   ]
  },
  {
   "cell_type": "code",
   "execution_count": null,
   "id": "3d38bbc0",
   "metadata": {},
   "outputs": [],
   "source": [
    "# data['datetime'] = pd.to_datetime(data['time'], format='%Y-%m-%d %H:%M:%S')\n",
    "data['valid_datetime'] = pd.to_datetime(data['valid_time'], format='%Y-%m-%d %H:%M:%S')\n"
   ]
  },
  {
   "cell_type": "code",
   "execution_count": null,
   "id": "777912b1",
   "metadata": {},
   "outputs": [],
   "source": [
    "data.sort_values(by='valid_datetime', inplace=True)\n",
    "data.reset_index(drop=True, inplace=True)"
   ]
  },
  {
   "cell_type": "code",
   "execution_count": null,
   "id": "c785cc34",
   "metadata": {},
   "outputs": [],
   "source": [
    "data.head(5)"
   ]
  },
  {
   "cell_type": "code",
   "execution_count": null,
   "id": "4e551981",
   "metadata": {},
   "outputs": [],
   "source": [
    "data['year'] = data['valid_datetime'].dt.year\n",
    "# data['month int'] = data['valid_datetime'].dt.month\n",
    "# data['day'] = data['valid_datetime'].dt.day\n",
    "# data['month'] = data['valid_datetime'].dt.strftime('%b')\n",
    "# data['month'] = pd.Categorical(data['month'], categories=['Jan', 'Feb', 'Mar', 'Apr', 'May', 'Jun',\n",
    "#                                                         'Jul', 'Aug', 'Sep', 'Oct', 'Nov', 'Dec'], ordered=True)"
   ]
  },
  {
   "cell_type": "code",
   "execution_count": null,
   "id": "3dc20c8f",
   "metadata": {},
   "outputs": [],
   "source": [
    "data['RR_mm'] = data['tp'] * 1000\n",
    "\n",
    "yearly_agg = (data[(data['year'] > 2021) &(data['year'] < 2025)]\n",
    "              .groupby(['year'], observed=True)\n",
    "              .agg(\n",
    "                  RR_mm_total = ('RR_mm', 'sum'),\n",
    "                  RR_mm_median = ('RR_mm', 'median'),\n",
    "                  RR_mm_mean = ('RR_mm', 'mean'),\n",
    "                  RR_mm_max = ('RR_mm', 'max'),\n",
    "                  RR_mm_min = ('RR_mm', 'min'),\n",
    "                  )\n",
    "                  .reset_index()\n",
    "                  )\n",
    "\n",
    "yearly_agg.head()"
   ]
  },
  {
   "cell_type": "code",
   "execution_count": null,
   "id": "eb8eb213",
   "metadata": {},
   "outputs": [],
   "source": [
    "data['DATE'] = data['valid_datetime'].dt.date\n"
   ]
  },
  {
   "cell_type": "code",
   "execution_count": null,
   "id": "68dfe60b",
   "metadata": {},
   "outputs": [],
   "source": [
    "daily_total_precipitation = (data[(data['year'] > 2021) &(data['year'] < 2025)]\n",
    " .groupby('DATE', observed=True)\n",
    " .agg(\n",
    "     RR_daily_total=('RR_mm', 'sum'),\n",
    "     RR_daily_max=('RR_mm', 'max'),\n",
    "     )\n",
    "     .reset_index()\n",
    ")"
   ]
  },
  {
   "cell_type": "code",
   "execution_count": null,
   "id": "b022ed22",
   "metadata": {},
   "outputs": [],
   "source": [
    "# daily_total_precipitation = transform_data_datetime(daily_total_precipitation)"
   ]
  },
  {
   "cell_type": "code",
   "execution_count": null,
   "id": "5dc35665",
   "metadata": {},
   "outputs": [],
   "source": [
    "daily_total_precipitation['year'].unique()"
   ]
  },
  {
   "cell_type": "code",
   "execution_count": null,
   "id": "e809abab",
   "metadata": {},
   "outputs": [],
   "source": [
    "daily_total_precipitation.head()"
   ]
  },
  {
   "cell_type": "code",
   "execution_count": null,
   "id": "b7b515ad",
   "metadata": {},
   "outputs": [],
   "source": []
  },
  {
   "cell_type": "markdown",
   "id": "0efb219c",
   "metadata": {},
   "source": [
    "### London New Source"
   ]
  },
  {
   "cell_type": "markdown",
   "id": "2c95fb5f",
   "metadata": {},
   "source": [
    "- [Copernicus Reanalysis](https://cds.climate.copernicus.eu/datasets/reanalysis-era5-single-levels-timeseries?tab=overview)"
   ]
  },
  {
   "cell_type": "code",
   "execution_count": null,
   "id": "c42d2432",
   "metadata": {},
   "outputs": [],
   "source": [
    "# creating a function transforming the data format in a more\n",
    "# convenient way for furhter analysis\n",
    "\n",
    "# steps\n",
    "## valid_time -> datetime\n",
    "## tp -> RR_mm\n",
    "\n",
    "def transform_data_to_complete_dataset(df):\n",
    "    '''\n",
    "    First step in transforming raw data\n",
    "    it takes the dataframe and creates a new dataframe with the following columns:\n",
    "    - valid_time: datetime object\n",
    "    - RR_mm: precipitation in mm (converted from tp)\n",
    "    - t2m_celsius: temperature in Celsius (converted from t2m)\n",
    "    '''\n",
    "    df = df.copy()\n",
    "    df['valid_time'] = pd.to_datetime(df['valid_time'], format='%Y-%m-%d %H:%M:%S')\n",
    "    df['valid_datetime'] = df['valid_time'].dt.date\n",
    "    \n",
    "    df.sort_values(by='valid_time', inplace=True)\n",
    "    df.reset_index(drop=True, inplace=True)\n",
    "    \n",
    "    df['RR_mm'] = df['tp'] * 1000  # Convert tp from m to mm\n",
    "    df['t2m_celsius'] = df['t2m'] - 273.15  # Convert temperature from Kelvin to Celsius\n",
    "    df.sort_values(by='valid_time', inplace=True)\n",
    "    df.reset_index(drop=True, inplace=True)\n",
    "    return df[['valid_time', 'valid_datetime', 'RR_mm', 't2m_celsius', 'tp', 't2m', 'longitude', 'latitude']]"
   ]
  },
  {
   "cell_type": "code",
   "execution_count": null,
   "id": "11098508",
   "metadata": {},
   "outputs": [],
   "source": [
    "def create_daily_aggregated_dataset(df, start_year = 0, end_year = 9999):\n",
    "    if start_year == 0:\n",
    "        start_year = df['valid_time'].min().year\n",
    "    if end_year == 9999:\n",
    "        end_year = df['valid_time'].max().year\n",
    "    df = df[df['valid_time'].dt.year.between(start_year, end_year)]\n",
    "    df_daily = df.groupby('valid_datetime').agg(\n",
    "        valid_time=('valid_time', 'first'),\n",
    "        RR_mm=('RR_mm', 'sum'),\n",
    "        t2m_celsius_mean=('t2m_celsius', 'mean'),\n",
    "        t2m_celsius_min=('t2m_celsius', 'min'),\n",
    "        t2m_celsius_max=('t2m_celsius', 'max'),\n",
    "        longitude=('longitude', 'first'),\n",
    "        latitude=('latitude', 'first')\n",
    "        ).reset_index().round(2)\n",
    "    return df_daily"
   ]
  },
  {
   "cell_type": "code",
   "execution_count": null,
   "id": "0f30b59f",
   "metadata": {},
   "outputs": [],
   "source": [
    "def transform_data_datetime_test(df, date_column='DATE', datetime_format=True):   \n",
    "    df = df.copy()\n",
    "    if datetime_format:\n",
    "        df['year'] = df[date_column].dt.year\n",
    "        df['month int'] = df[date_column].dt.month\n",
    "        df['month'] = df[date_column].dt.strftime('%b')\n",
    "        df['day'] = df[date_column].dt.day\n",
    "\n",
    "        return df\n",
    "    # df['datetime'] = pd.to_datetime(df[date_column], format=\"%Y%m%d\")\n",
    "    df['datetime'] = pd.to_datetime(df[date_column], format=\"%Y%m%d\")\n",
    "    df['year'] = df['datetime'].dt.year\n",
    "    df['month int'] = df['datetime'].dt.month\n",
    "    df['month'] = df['datetime'].dt.strftime('%b')\n",
    "    df['day'] = df['datetime'].dt.day\n",
    "\n",
    "    return df[['datetime', 'valid_time', 'year', 'month','day','RR_mm', 't2m_celsius_mean', 't2m_celsius_min', 't2m_celsius_max', 'month int', 'longitude', 'latitude']]"
   ]
  },
  {
   "cell_type": "code",
   "execution_count": null,
   "id": "510b29da",
   "metadata": {},
   "outputs": [],
   "source": [
    "#  reanalysis-era5-single-levels-timeseries-london.csv\n",
    "\n",
    "london_data = pd.read_csv('./data/reanalysis-era5-single-levels-timeseries-london.csv')\n",
    "print(london_data.shape)\n",
    "london_data.tail()"
   ]
  },
  {
   "cell_type": "code",
   "execution_count": null,
   "id": "f2935208",
   "metadata": {},
   "outputs": [],
   "source": [
    "london_data[london_data['tp'].isna()]"
   ]
  },
  {
   "cell_type": "code",
   "execution_count": null,
   "id": "c8ecbb1a",
   "metadata": {},
   "outputs": [],
   "source": [
    "df_london = transform_data_to_complete_dataset(london_data)"
   ]
  },
  {
   "cell_type": "code",
   "execution_count": null,
   "id": "2d73d78f",
   "metadata": {},
   "outputs": [],
   "source": [
    "df_london.head()"
   ]
  },
  {
   "cell_type": "code",
   "execution_count": null,
   "id": "0db073c4",
   "metadata": {},
   "outputs": [],
   "source": [
    "daily_aggregate_london = create_daily_aggregated_dataset(df_london, start_year=1960)"
   ]
  },
  {
   "cell_type": "code",
   "execution_count": null,
   "id": "0be6b181",
   "metadata": {},
   "outputs": [],
   "source": [
    "daily_aggregate_london = transform_data_datetime_test(daily_aggregate_london, date_column='valid_time', datetime_format=False)"
   ]
  },
  {
   "cell_type": "code",
   "execution_count": null,
   "id": "cb6193bc",
   "metadata": {},
   "outputs": [],
   "source": [
    "london_yearly_aggregate = (daily_aggregate_london\n",
    "                           .groupby(['year'])\n",
    "                           .agg(\n",
    "                               RR_yearly_sum=('RR_mm', 'sum'),\n",
    "                               t2m_celsius_yearly_mean=('t2m_celsius_mean', 'mean'),\n",
    "                               t2m_celsius_yearly_min=('t2m_celsius_min', 'min'),\n",
    "                               t2m_celsius_yearly_max=('t2m_celsius_max', 'max')\n",
    "                               ).reset_index()\n",
    "                               )\n"
   ]
  },
  {
   "cell_type": "code",
   "execution_count": null,
   "id": "6df51dbf",
   "metadata": {},
   "outputs": [],
   "source": [
    "london_yearly_aggregate.head()"
   ]
  },
  {
   "cell_type": "code",
   "execution_count": null,
   "id": "c8c64329",
   "metadata": {},
   "outputs": [],
   "source": [
    "from src.data_plotting import plot_rainfall\n",
    "plot_rainfall(london_yearly_aggregate,\n",
    "              start_year=1960,latest_year=2025,feature='RR_yearly_sum',\n",
    "              special_year=2026, title_label='Total Rainfall in London (1960-2024)',\n",
    "              rotation_x_label=70,\n",
    "              fig_size=(14,8))"
   ]
  },
  {
   "cell_type": "code",
   "execution_count": null,
   "id": "d4937ff9",
   "metadata": {},
   "outputs": [],
   "source": [
    "data.head()"
   ]
  },
  {
   "cell_type": "code",
   "execution_count": null,
   "id": "9dc43faf",
   "metadata": {},
   "outputs": [],
   "source": []
  }
 ],
 "metadata": {
  "kernelspec": {
   "display_name": "base",
   "language": "python",
   "name": "python3"
  },
  "language_info": {
   "codemirror_mode": {
    "name": "ipython",
    "version": 3
   },
   "file_extension": ".py",
   "mimetype": "text/x-python",
   "name": "python",
   "nbconvert_exporter": "python",
   "pygments_lexer": "ipython3",
   "version": "3.12.3"
  }
 },
 "nbformat": 4,
 "nbformat_minor": 5
}
