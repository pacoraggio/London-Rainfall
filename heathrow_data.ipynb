{
 "cells": [
  {
   "cell_type": "code",
   "execution_count": 1,
   "id": "d98e9270",
   "metadata": {},
   "outputs": [],
   "source": [
    "import pandas as pd\n",
    "import numpy as np\n",
    "\n",
    "import matplotlib.pyplot as plt\n",
    "import seaborn as sns"
   ]
  },
  {
   "cell_type": "code",
   "execution_count": 2,
   "id": "c4fccebd",
   "metadata": {},
   "outputs": [],
   "source": [
    "def transform_data_datetime(df):\n",
    "    df = df.copy()\n",
    "    df['datetime'] = pd.to_datetime(df['DATE'], format=\"%Y%m%d\")\n",
    "    df['year'] = df['datetime'].dt.year\n",
    "    df['month int'] = df['datetime'].dt.month\n",
    "    df['month'] = df['datetime'].dt.strftime('%b')\n",
    "    df['month'] = pd.Categorical(df['month'], categories=['Jan', 'Feb', 'Mar', 'Apr', 'May', 'Jun',\n",
    "                                                          'Jul', 'Aug', 'Sep', 'Oct', 'Nov', 'Dec'], ordered=True)\n",
    "\n",
    "    df['day'] = df['datetime'].dt.day\n",
    "\n",
    "\n",
    "    return df"
   ]
  },
  {
   "cell_type": "markdown",
   "id": "6e8519e1",
   "metadata": {},
   "source": [
    "# Heathrow Precipitation Data"
   ]
  },
  {
   "cell_type": "markdown",
   "id": "1a4b5eb7",
   "metadata": {},
   "source": [
    "This notebook provides information about the daily precipitation recorded in Heathrow weather station by [European Climate Assessment and Dataset website.](https://www.ecad.eu/)\n",
    "\n",
    "The website allows you to download data from different stations and Heathrow's one is the best option to perform the intended analysis. The data we will use in this notebook are the one contained in the `RR_SOUID219137.csv` file. "
   ]
  },
  {
   "cell_type": "code",
   "execution_count": 3,
   "id": "ab2ad7ca",
   "metadata": {},
   "outputs": [
    {
     "name": "stdout",
     "output_type": "stream",
     "text": [
      "(23862, 5)\n"
     ]
    },
    {
     "data": {
      "text/html": [
       "<div>\n",
       "<style scoped>\n",
       "    .dataframe tbody tr th:only-of-type {\n",
       "        vertical-align: middle;\n",
       "    }\n",
       "\n",
       "    .dataframe tbody tr th {\n",
       "        vertical-align: top;\n",
       "    }\n",
       "\n",
       "    .dataframe thead th {\n",
       "        text-align: right;\n",
       "    }\n",
       "</style>\n",
       "<table border=\"1\" class=\"dataframe\">\n",
       "  <thead>\n",
       "    <tr style=\"text-align: right;\">\n",
       "      <th></th>\n",
       "      <th>STAID</th>\n",
       "      <th>SOUID</th>\n",
       "      <th>DATE</th>\n",
       "      <th>RR</th>\n",
       "      <th>Q_RR</th>\n",
       "    </tr>\n",
       "  </thead>\n",
       "  <tbody>\n",
       "    <tr>\n",
       "      <th>0</th>\n",
       "      <td>1860</td>\n",
       "      <td>107650</td>\n",
       "      <td>19600101</td>\n",
       "      <td>22</td>\n",
       "      <td>0</td>\n",
       "    </tr>\n",
       "    <tr>\n",
       "      <th>1</th>\n",
       "      <td>1860</td>\n",
       "      <td>107650</td>\n",
       "      <td>19600102</td>\n",
       "      <td>23</td>\n",
       "      <td>0</td>\n",
       "    </tr>\n",
       "    <tr>\n",
       "      <th>2</th>\n",
       "      <td>1860</td>\n",
       "      <td>107650</td>\n",
       "      <td>19600103</td>\n",
       "      <td>7</td>\n",
       "      <td>0</td>\n",
       "    </tr>\n",
       "    <tr>\n",
       "      <th>3</th>\n",
       "      <td>1860</td>\n",
       "      <td>107650</td>\n",
       "      <td>19600104</td>\n",
       "      <td>0</td>\n",
       "      <td>0</td>\n",
       "    </tr>\n",
       "    <tr>\n",
       "      <th>4</th>\n",
       "      <td>1860</td>\n",
       "      <td>107650</td>\n",
       "      <td>19600105</td>\n",
       "      <td>0</td>\n",
       "      <td>0</td>\n",
       "    </tr>\n",
       "  </tbody>\n",
       "</table>\n",
       "</div>"
      ],
      "text/plain": [
       "   STAID   SOUID      DATE  RR  Q_RR\n",
       "0   1860  107650  19600101  22     0\n",
       "1   1860  107650  19600102  23     0\n",
       "2   1860  107650  19600103   7     0\n",
       "3   1860  107650  19600104   0     0\n",
       "4   1860  107650  19600105   0     0"
      ]
     },
     "execution_count": 3,
     "metadata": {},
     "output_type": "execute_result"
    }
   ],
   "source": [
    "heathrow_daily_data = pd.read_csv('./data/non_blended/RR_SOUID107650.csv')\n",
    "print(heathrow_daily_data.shape)\n",
    "heathrow_daily_data.head()"
   ]
  },
  {
   "cell_type": "code",
   "execution_count": null,
   "id": "40d0d08e",
   "metadata": {},
   "outputs": [],
   "source": [
    "heathrow_daily_data.dtypes"
   ]
  },
  {
   "cell_type": "code",
   "execution_count": null,
   "id": "93d5a536",
   "metadata": {},
   "outputs": [],
   "source": [
    "# Adding columns for handling dates\n",
    "heathrow_daily_data = transform_data_datetime(heathrow_daily_data)"
   ]
  },
  {
   "cell_type": "code",
   "execution_count": null,
   "id": "cb672cd2",
   "metadata": {},
   "outputs": [],
   "source": [
    "heathrow_daily_data.head()"
   ]
  },
  {
   "cell_type": "markdown",
   "id": "c7d4e64a",
   "metadata": {},
   "source": [
    "The `RR` unit is 0.1mm, we create a collumn rr_mm that contains the same measurement but in 1mm unit."
   ]
  },
  {
   "cell_type": "code",
   "execution_count": null,
   "id": "838ab28b",
   "metadata": {},
   "outputs": [],
   "source": [
    "heathrow_daily_data['RR_mm'] = heathrow_daily_data['RR'] * 0.1\n",
    "heathrow_daily_data.sort_values('datetime').reset_index(inplace=True, drop=True)\n",
    "heathrow_daily_data[['RR_mm']].head()"
   ]
  },
  {
   "cell_type": "markdown",
   "id": "c7992108",
   "metadata": {},
   "source": [
    "### Handling Missing Reading"
   ]
  },
  {
   "cell_type": "markdown",
   "id": "8e968569",
   "metadata": {},
   "source": [
    "The dataframe column `Q_RR` indicates the quality of each reading and our dataset contains few missing reading."
   ]
  },
  {
   "cell_type": "code",
   "execution_count": null,
   "id": "2ffc85db",
   "metadata": {},
   "outputs": [],
   "source": [
    "print(heathrow_daily_data[heathrow_daily_data['Q_RR'] !=0].shape[0])\n",
    "heathrow_daily_data[heathrow_daily_data['Q_RR'] !=0]"
   ]
  },
  {
   "cell_type": "markdown",
   "id": "aafa9c22",
   "metadata": {},
   "source": [
    "We have 14 missing reading, 1 is from May the 5th 1996 and from 18th to 30th of June 1997. Altough our analysis will be focused on the last 15 years, it is a good exercise to fill this missing reading. As a first step, we can transform the `RR` and `RR_mm` reading, corresponding to a `Q_RR` code of $9$, into a more easy to handle `np.nan`"
   ]
  },
  {
   "cell_type": "code",
   "execution_count": null,
   "id": "c8c5cbd7",
   "metadata": {},
   "outputs": [],
   "source": [
    "heathrow_daily_data.loc[heathrow_daily_data['Q_RR'] !=0, ['RR_mm', 'RR']] = np.nan "
   ]
  },
  {
   "cell_type": "code",
   "execution_count": null,
   "id": "b573cf37",
   "metadata": {},
   "outputs": [],
   "source": [
    "heathrow_daily_data[heathrow_daily_data['RR_mm'].isna()]"
   ]
  },
  {
   "cell_type": "markdown",
   "id": "6f37f95b",
   "metadata": {},
   "source": [
    "There are different strategy to fill this missing reading. The best approach would be to find alternative sources containing the missing data and but in our example, we will use the available data.\n",
    "\n",
    "As we can see, there is a isolated day, 1996-05-31, and a series of consecutive days without reading. A sensitive approach could be using a simple mean value of the days before and after for that date."
   ]
  },
  {
   "cell_type": "code",
   "execution_count": null,
   "id": "03d982d7",
   "metadata": {},
   "outputs": [],
   "source": [
    "## filling single date 1996-05-31\n",
    "\n",
    "idx = heathrow_daily_data[heathrow_daily_data['datetime'] == \"1996-05-31\"].index[0]\n",
    "\n",
    "mean_RR_m_value = heathrow_daily_data.iloc[idx-2:idx+3]['RR_mm'].mean()\n",
    "mean_RR_value = heathrow_daily_data.iloc[idx-2:idx+3]['RR'].mean()\n",
    "\n",
    "heathrow_daily_data.loc[idx, 'RR'] = mean_RR_value\n",
    "heathrow_daily_data.loc[idx, 'RR_mm'] = mean_RR_m_value"
   ]
  },
  {
   "cell_type": "code",
   "execution_count": null,
   "id": "33312df2",
   "metadata": {},
   "outputs": [],
   "source": [
    "heathrow_daily_data[heathrow_daily_data['datetime'] == \"1996-05-31\"]"
   ]
  },
  {
   "cell_type": "markdown",
   "id": "09832598",
   "metadata": {},
   "source": [
    "As for the missing readings between the 18th and 30th of June 1997, we can calculate the daily mean within that datetime range for each year and fill the missing data. "
   ]
  },
  {
   "cell_type": "code",
   "execution_count": null,
   "id": "11b45343",
   "metadata": {},
   "outputs": [],
   "source": [
    "heathrow_fillin_data = heathrow_daily_data[(heathrow_daily_data['month'] == 'Jun') &\n",
    "                                           ((heathrow_daily_data['day'] >=18) & (heathrow_daily_data['day'] <= 30)) &\n",
    "                                           (heathrow_daily_data['Q_RR'] == 0)].reset_index(drop = True).copy()\n",
    "heathrow_fillin_data.head()\n"
   ]
  },
  {
   "cell_type": "code",
   "execution_count": null,
   "id": "3356523a",
   "metadata": {},
   "outputs": [],
   "source": [
    "heathrow_1997_fillin = (heathrow_fillin_data\n",
    "                        .groupby(['month', 'day'])[['RR', 'RR_mm']]\n",
    "                        .mean()\n",
    "                        .reset_index()\n",
    "                        )\n",
    "\n",
    "heathrow_1997_fillin['year'] = 1997\n",
    "heathrow_1997_fillin"
   ]
  },
  {
   "cell_type": "code",
   "execution_count": null,
   "id": "0c0dea10",
   "metadata": {},
   "outputs": [],
   "source": [
    "merged = heathrow_daily_data.merge(\n",
    "    heathrow_1997_fillin, \n",
    "    on=['year', 'month', 'day'], \n",
    "    how='left', \n",
    "    suffixes=('', '_fill')\n",
    ")\n",
    "\n",
    "merged[merged['RR_mm'].isna()]"
   ]
  },
  {
   "cell_type": "code",
   "execution_count": null,
   "id": "57747e84",
   "metadata": {},
   "outputs": [],
   "source": [
    "# Fill NaN values in original columns with values from fill-in dataframe\n",
    "merged['RR'] = merged['RR'].fillna(merged['RR_fill'])\n",
    "merged['RR_mm'] = merged['RR_mm'].fillna(merged['RR_mm_fill'])"
   ]
  },
  {
   "cell_type": "code",
   "execution_count": null,
   "id": "c9476cf1",
   "metadata": {},
   "outputs": [],
   "source": [
    "merged[(merged['month'] == 'Jun') &\n",
    "       ((merged['day'] >=18) & (merged['day'] <= 30)) &\n",
    "       (merged['year'] == 1997)].reset_index(drop = True).copy()"
   ]
  },
  {
   "cell_type": "code",
   "execution_count": null,
   "id": "f56a7018",
   "metadata": {},
   "outputs": [],
   "source": [
    "# Drop the temporary fill columns\n",
    "heathrow_daily_data = merged.drop(columns=['RR_fill', 'RR_mm_fill'])"
   ]
  },
  {
   "cell_type": "markdown",
   "id": "9e8b2c20",
   "metadata": {},
   "source": [
    "Let's now check we did not introduced an outlier in the data, meaning that the values for June 1997 are somehow in line with the other months in different years."
   ]
  },
  {
   "cell_type": "code",
   "execution_count": null,
   "id": "b77e59a9",
   "metadata": {},
   "outputs": [],
   "source": [
    "june_data = heathrow_daily_data[heathrow_daily_data['month'] == 'Jun'].copy()\n",
    "june_data"
   ]
  },
  {
   "cell_type": "code",
   "execution_count": null,
   "id": "ce70d0da",
   "metadata": {},
   "outputs": [],
   "source": [
    "from src.data_plotting import plot_rainfall\n",
    "\n",
    "test_data = (june_data\n",
    "             .groupby('year')[['RR', 'RR_mm']]\n",
    "             .mean()\n",
    "             .reset_index()\n",
    "             )\n",
    "\n",
    "plot_rainfall(test_data, \n",
    "              start_year= 1960, \n",
    "              latest_year = 2024, \n",
    "              feature='RR_mm', \n",
    "              special_year=1997, \n",
    "              title_label='Monthly Mean precipitation in June', year_shift = False,\n",
    "              fig_size=(16,5),\n",
    "              rotation_x_label=75)"
   ]
  },
  {
   "cell_type": "code",
   "execution_count": null,
   "id": "f00d31fe",
   "metadata": {},
   "outputs": [],
   "source": [
    "heathrow_monthly_sum = (heathrow_daily_data.groupby(['year', 'month'], observed=True)['RR_mm']\n",
    "                        .sum()\n",
    "                        .reset_index()\n",
    "                        )\n",
    "heathrow_monthly_sum = heathrow_monthly_sum.sort_values(['year', 'month']).reset_index(drop=True).copy()\n",
    "heathrow_monthly_sum.head()"
   ]
  },
  {
   "cell_type": "code",
   "execution_count": null,
   "id": "165ef34f",
   "metadata": {},
   "outputs": [],
   "source": [
    "heathrow_daily_data.to_csv('./data/heathrow_daily_data.csv')"
   ]
  },
  {
   "cell_type": "code",
   "execution_count": null,
   "id": "a9af4358",
   "metadata": {},
   "outputs": [],
   "source": [
    "rainfall_se = pd.read_pickle('./data/rainfall_se.pkl')\n",
    "rainfall_data_se = pd.read_pickle('./data/rainfall_data_se.pkl')\n",
    "\n",
    "rainfall_se.head()"
   ]
  },
  {
   "cell_type": "code",
   "execution_count": null,
   "id": "beac8d5d",
   "metadata": {},
   "outputs": [],
   "source": [
    "rainfall_data_se.head()"
   ]
  },
  {
   "cell_type": "code",
   "execution_count": null,
   "id": "63a0ab74",
   "metadata": {},
   "outputs": [],
   "source": [
    "se_monthly_data = rainfall_data_se[rainfall_data_se['year'] >= 1960].sort_values(['year', 'month']).reset_index(drop = True)[['year', 'month', 'rainfall']].copy()\n",
    "se_monthly_data.dropna(axis=0, inplace=True)"
   ]
  },
  {
   "cell_type": "code",
   "execution_count": null,
   "id": "0abc9ad9",
   "metadata": {},
   "outputs": [],
   "source": [
    "se_monthly_data = se_monthly_data[:-1].copy()\n",
    "se_monthly_data.shape"
   ]
  },
  {
   "cell_type": "code",
   "execution_count": null,
   "id": "4cbf4df3",
   "metadata": {},
   "outputs": [],
   "source": [
    "se_monthly_data.head()"
   ]
  },
  {
   "cell_type": "code",
   "execution_count": null,
   "id": "db934045",
   "metadata": {},
   "outputs": [],
   "source": [
    "heathrow_monthly_sum.head()"
   ]
  },
  {
   "cell_type": "code",
   "execution_count": null,
   "id": "893ec4cc",
   "metadata": {},
   "outputs": [],
   "source": [
    "year = 1997\n",
    "heathrow_test_year = heathrow_monthly_sum[heathrow_monthly_sum['year'] == year]\n",
    "se_test_year = se_monthly_data[se_monthly_data['year'] == year]\n",
    "\n",
    "# Create a combined dataframe for easier plotting\n",
    "combined_df = pd.DataFrame({\n",
    "    'index': heathrow_test_year.index,\n",
    "    'RR_mm': heathrow_test_year['RR_mm'],\n",
    "    'rainfall': se_test_year['rainfall']\n",
    "})\n",
    "\n",
    "plt.figure(figsize=(12, 6))\n",
    "sns.pointplot(data=combined_df, x='index', y='RR_mm', label='Heathrow sum', alpha=0.7)\n",
    "sns.pointplot(data=combined_df, x='index', y='rainfall', label='SE sum', alpha=0.7)\n",
    "plt.xlabel('Index (Time sequence)')\n",
    "plt.ylabel('Rainfall (mm)')\n",
    "plt.title('Rainfall Comparison Over Time')\n",
    "plt.legend()\n",
    "plt.grid(True, alpha=0.3)\n",
    "plt.show()"
   ]
  },
  {
   "cell_type": "code",
   "execution_count": null,
   "id": "cb2193f3",
   "metadata": {},
   "outputs": [],
   "source": [
    "start_year = 1965\n",
    "end_year = 1970\n",
    "heathrow_test_year = heathrow_monthly_sum[(heathrow_monthly_sum['year'] >= start_year) &\n",
    "                                          (heathrow_monthly_sum['year'] <= end_year)]\n",
    "\n",
    "se_test_year = se_monthly_data[(se_monthly_data['year'] >= start_year) &\n",
    "                               (se_monthly_data['year'] <= end_year)]\n",
    "\n",
    "# Create a combined dataframe for easier plotting\n",
    "combined_df = pd.DataFrame({\n",
    "    'index': heathrow_test_year.index,\n",
    "    'RR_mm': heathrow_test_year['RR_mm'],\n",
    "    'rainfall': se_test_year['rainfall']\n",
    "})\n",
    "\n",
    "plt.figure(figsize=(12, 6))\n",
    "sns.lineplot(data=combined_df, x='index', y='RR_mm', label='Heathrow sum', alpha=0.7)\n",
    "sns.lineplot(data=combined_df, x='index', y='rainfall', label='SE sum', alpha=0.7)\n",
    "plt.xlabel('Index (Time sequence)')\n",
    "plt.ylabel('Rainfall (mm)')\n",
    "plt.title('Rainfall Comparison Over Time')\n",
    "plt.legend()\n",
    "plt.grid(True, alpha=0.3)\n",
    "plt.show()"
   ]
  },
  {
   "cell_type": "markdown",
   "id": "9c70a106",
   "metadata": {},
   "source": [
    "### Aggregate analysis"
   ]
  },
  {
   "cell_type": "markdown",
   "id": "d0af2d28",
   "metadata": {},
   "source": [
    "Aggregate analysis - sum, mean, standard deviation, median, min, max.\n",
    "- Yearly\n",
    "- First Month\n",
    "- Weatherly Years"
   ]
  },
  {
   "cell_type": "markdown",
   "id": "aa1126cd",
   "metadata": {},
   "source": [
    "#### Yearly Daily Aggregate"
   ]
  },
  {
   "cell_type": "code",
   "execution_count": null,
   "id": "b7673d76",
   "metadata": {},
   "outputs": [],
   "source": [
    "yearly_daily_aggregate = (heathrow_daily_data\n",
    "                          .groupby('year')\n",
    "                          .agg(\n",
    "                              yearly_mm_sum = ('RR_mm', 'sum'),\n",
    "                              daily_mm_mean = ('RR_mm', 'mean'),\n",
    "                              daily_mm_std = ('RR_mm', 'std'),\n",
    "                              daily_mm_median = ('RR_mm', 'median'),\n",
    "                              daily_mm_min = ('RR_mm', 'min'),\n",
    "                              daily_mm_max = ('RR_mm', 'max')\n",
    "                              ).reset_index()\n",
    "                              )"
   ]
  },
  {
   "cell_type": "code",
   "execution_count": null,
   "id": "7d12831a",
   "metadata": {},
   "outputs": [],
   "source": [
    "plot_rainfall(yearly_daily_aggregate, 1960, 2025, 'daily_mm_mean', special_year=2022,rotation_x_label=90,fig_size=(14,8));"
   ]
  },
  {
   "cell_type": "markdown",
   "id": "054cb632",
   "metadata": {},
   "source": [
    "#### Yearly Monthly Aggregate"
   ]
  },
  {
   "cell_type": "code",
   "execution_count": null,
   "id": "f81abfbe",
   "metadata": {},
   "outputs": [],
   "source": [
    "yearly_monthly_aggregate = (heathrow_monthly_sum\n",
    " .groupby('year')\n",
    " .agg(\n",
    "     yearly_mm_sum = ('RR_mm', 'sum'),\n",
    "     monthly_mm_mean = ('RR_mm', 'mean'),\n",
    "     monthly_mm_std = ('RR_mm', 'std'),\n",
    "     monthly_mm_median = ('RR_mm', 'median'),\n",
    "     monthly_mm_min = ('RR_mm', 'min'),\n",
    "     monthly_mm_max = ('RR_mm', 'max')\n",
    " ).reset_index()\n",
    ")"
   ]
  },
  {
   "cell_type": "code",
   "execution_count": null,
   "id": "0ed7d336",
   "metadata": {},
   "outputs": [],
   "source": [
    "plot_rainfall(yearly_monthly_aggregate, 1960, 2025, 'yearly_mm_sum', special_year=2022,rotation_x_label=90,fig_size=(14,8));"
   ]
  },
  {
   "cell_type": "markdown",
   "id": "a0cfb6a6",
   "metadata": {},
   "source": [
    "#### First Months Aggregate "
   ]
  },
  {
   "cell_type": "markdown",
   "id": "63cee387",
   "metadata": {},
   "source": [
    "Comparison between the first months of the year. As for 2025 I have data from the fisrt 4 months, the resulting mean may be effected by seasonal variance. If I want to compare yearly monthly mean, I need to do it comparing the same months."
   ]
  },
  {
   "cell_type": "code",
   "execution_count": null,
   "id": "7c54c8c5",
   "metadata": {},
   "outputs": [],
   "source": [
    "heathrow_daily_data_jan_apr = heathrow_daily_data[heathrow_daily_data['month int'] <= 4].copy()\n",
    "heathrow_daily_data_jan_apr['month'].unique()"
   ]
  },
  {
   "cell_type": "code",
   "execution_count": null,
   "id": "e59a31a7",
   "metadata": {},
   "outputs": [],
   "source": [
    "yearly_daily_aggregate_jan_apr = (\n",
    "    heathrow_daily_data_jan_apr.groupby('year')\n",
    "    .agg(\n",
    "        yearly_mm_sum = ('RR_mm', 'sum'),\n",
    "        daily_mm_mean = ('RR_mm', 'mean'),\n",
    "        daily_mm_std = ('RR_mm', 'std'),\n",
    "        daily_mm_median = ('RR_mm', 'median'),\n",
    "        daily_mm_min = ('RR_mm', 'min'),\n",
    "        daily_mm_max = ('RR_mm', 'max')\n",
    "    )\n",
    "    .reset_index()\n",
    ")"
   ]
  },
  {
   "cell_type": "code",
   "execution_count": null,
   "id": "85528ffd",
   "metadata": {},
   "outputs": [],
   "source": [
    "plot_rainfall(yearly_monthly_aggregate, 2013, 2025, 'monthly_mm_mean', special_year=2022,rotation_x_label=90,fig_size=(14,8));"
   ]
  },
  {
   "cell_type": "code",
   "execution_count": null,
   "id": "669b7a77",
   "metadata": {},
   "outputs": [],
   "source": [
    "plot_rainfall(yearly_daily_aggregate_jan_apr, 2013, 2025, 'daily_mm_mean', special_year=2022,rotation_x_label=0,fig_size=(14,8), title_label = \"Daily Average Rainfall - First 4 Months of the Year\");"
   ]
  },
  {
   "cell_type": "code",
   "execution_count": null,
   "id": "1ba3a22e",
   "metadata": {},
   "outputs": [],
   "source": [
    "heathrow_monthly_sum_jan_apr = (\n",
    "    heathrow_daily_data_jan_apr\n",
    "        .groupby(['year', 'month'], observed=True)\n",
    "        .agg(\n",
    "            monthly_sum=('RR_mm', 'sum')\n",
    "        )\n",
    "        .reset_index()\n",
    "        .rename(columns = {'monthly_sum':'RR_mm'})\n",
    ")"
   ]
  },
  {
   "cell_type": "code",
   "execution_count": null,
   "id": "35890b51",
   "metadata": {},
   "outputs": [],
   "source": [
    "heathrow_monthly_sum_jan_apr.head()"
   ]
  },
  {
   "cell_type": "code",
   "execution_count": null,
   "id": "4f0a223d",
   "metadata": {},
   "outputs": [],
   "source": [
    "yearly_monthly_aggregate_jan_apr = (\n",
    "    heathrow_monthly_sum_jan_apr\n",
    "    .groupby('year')\n",
    "    .agg(\n",
    "        monthly_sum = ('RR_mm', 'sum'),\n",
    "        monthly_avg = ('RR_mm', 'mean'),\n",
    "        monthly_std = ('RR_mm', 'std'),\n",
    "        monthly_median = ('RR_mm', 'median'),\n",
    "        monthly_min = ('RR_mm', 'min'),\n",
    "        monthly_max = ('RR_mm', 'max')\n",
    "\n",
    "    ).reset_index()\n",
    ")\n",
    "\n",
    "yearly_monthly_aggregate_jan_apr.head()"
   ]
  },
  {
   "cell_type": "code",
   "execution_count": null,
   "id": "4d164b25",
   "metadata": {},
   "outputs": [],
   "source": [
    "plot_rainfall(yearly_monthly_aggregate_jan_apr, 2013, 2025, 'monthly_avg', \n",
    "              special_year=2022,rotation_x_label=0,fig_size=(14,8), \n",
    "              title_label = \"Monthly Average Rainfall - First 4 Months of the Year\");\n"
   ]
  },
  {
   "cell_type": "code",
   "execution_count": null,
   "id": "bec24496",
   "metadata": {},
   "outputs": [],
   "source": []
  },
  {
   "cell_type": "markdown",
   "id": "7fac772a",
   "metadata": {},
   "source": [
    "### Daily Plot"
   ]
  },
  {
   "cell_type": "code",
   "execution_count": null,
   "id": "814ad8c7",
   "metadata": {},
   "outputs": [],
   "source": [
    "heathrow_daily_data.tail(3)"
   ]
  },
  {
   "cell_type": "code",
   "execution_count": null,
   "id": "d19d8605",
   "metadata": {},
   "outputs": [],
   "source": [
    "start_date = \"2022-01-01\"\n",
    "end_date = \"2022-08-30\"\n",
    "\n",
    "plt.figure(figsize=(12, 6))\n",
    "\n",
    "sns.scatterplot(data = heathrow_daily_data[(heathrow_daily_data['datetime'] >= start_date) & (heathrow_daily_data['datetime'] <= end_date)],\n",
    "                x = 'datetime',\n",
    "                y = 'RR_mm'\n",
    ");"
   ]
  },
  {
   "cell_type": "code",
   "execution_count": null,
   "id": "450795eb",
   "metadata": {},
   "outputs": [],
   "source": [
    "# years = [2010, 2015, 2020, 2022, 2025]\n",
    "years = [2022, 2025]\n",
    "start_int_month = 0\n",
    "end_int_month = 4\n",
    "\n",
    "test_df = heathrow_daily_data[(heathrow_daily_data['year'].isin(years)) &\n",
    "                              (heathrow_daily_data['month int'] >= start_int_month) &\n",
    "                              (heathrow_daily_data['month int'] <= end_int_month)].copy()\n",
    "\n",
    "test_df['month_day'] = test_df['datetime'].dt.month.astype(str) + '-' + test_df['datetime'].dt.day.astype(str)\n",
    "test_df.head()"
   ]
  },
  {
   "cell_type": "code",
   "execution_count": null,
   "id": "4549e1ab",
   "metadata": {},
   "outputs": [],
   "source": [
    "plt.figure(figsize=(14, 6))\n",
    "\n",
    "sns.lineplot(\n",
    "    data = test_df,\n",
    "    x = 'month_day',\n",
    "    y = 'RR_mm',\n",
    "    hue = 'year'\n",
    ");"
   ]
  },
  {
   "cell_type": "code",
   "execution_count": null,
   "id": "0972d3a9",
   "metadata": {},
   "outputs": [],
   "source": []
  },
  {
   "cell_type": "markdown",
   "id": "acfac305",
   "metadata": {},
   "source": [
    "## Number of days (consecutive or not) without precipitation"
   ]
  },
  {
   "cell_type": "code",
   "execution_count": null,
   "id": "dded537f",
   "metadata": {},
   "outputs": [],
   "source": [
    "(heathrow_daily_data['RR']\n",
    " .value_counts()\n",
    " .reset_index()\n",
    ").sort_values('RR')"
   ]
  },
  {
   "cell_type": "code",
   "execution_count": null,
   "id": "d3c520d0",
   "metadata": {},
   "outputs": [],
   "source": [
    "12559/heathrow_daily_data.shape[0]"
   ]
  },
  {
   "cell_type": "code",
   "execution_count": null,
   "id": "81e49fce",
   "metadata": {},
   "outputs": [],
   "source": [
    "heathrow_daily_data['no_rain'] = 0\n",
    "heathrow_daily_data.loc[heathrow_daily_data['RR'] == 0, 'no_rain'] = 1\n",
    "heathrow_daily_data.head()"
   ]
  },
  {
   "cell_type": "code",
   "execution_count": null,
   "id": "64f7c4d5",
   "metadata": {},
   "outputs": [],
   "source": [
    "## number of days without rain for each year\n",
    "\n",
    "no_rainy_days_per_year = heathrow_daily_data[['year', 'no_rain']].value_counts().reset_index().sort_values(['year'])\n",
    "\n",
    "plt.figure(figsize=(12, 6))\n",
    "\n",
    "sns.regplot(\n",
    "    data = no_rainy_days_per_year[no_rainy_days_per_year['no_rain'] == 1],\n",
    "    x = 'year',\n",
    "    y = 'count'\n",
    ");"
   ]
  },
  {
   "cell_type": "code",
   "execution_count": null,
   "id": "17f662ba",
   "metadata": {},
   "outputs": [],
   "source": [
    "## number of days without rain for each year\n",
    "\n",
    "no_rainy_days_per_year = heathrow_daily_data[(heathrow_daily_data['year'] >= 2010) & (heathrow_daily_data['year'] < 2025)][['year', 'no_rain']].value_counts().reset_index().sort_values(['year'])\n",
    "\n",
    "plt.figure(figsize=(12, 6))\n",
    "\n",
    "sns.regplot(\n",
    "    data = no_rainy_days_per_year[no_rainy_days_per_year['no_rain'] == 1],\n",
    "    x = 'year',\n",
    "    y = 'count'\n",
    ");"
   ]
  },
  {
   "cell_type": "code",
   "execution_count": null,
   "id": "106abf99",
   "metadata": {},
   "outputs": [],
   "source": [
    "## number of days without rain for each year\n",
    "\n",
    "no_rainy_days_per_year = heathrow_daily_data[(heathrow_daily_data['year'] >= 1960) & (heathrow_daily_data['year'] < 1970)][['year', 'no_rain']].value_counts().reset_index().sort_values(['year'])\n",
    "\n",
    "plt.figure(figsize=(12, 6))\n",
    "\n",
    "sns.regplot(\n",
    "    data = no_rainy_days_per_year[no_rainy_days_per_year['no_rain'] == 1],\n",
    "    x = 'year',\n",
    "    y = 'count'\n",
    ");"
   ]
  },
  {
   "cell_type": "code",
   "execution_count": null,
   "id": "ece02dcd",
   "metadata": {},
   "outputs": [],
   "source": [
    "no_rainy_days_per_year_2010 = heathrow_daily_data[(heathrow_daily_data['year'] >= 1990) & (heathrow_daily_data['year'] <= 2000)][['year', 'no_rain']].value_counts().reset_index().sort_values(['year'])\n",
    "\n",
    "plt.figure(figsize=(12, 6))\n",
    "\n",
    "sns.regplot(\n",
    "    data = no_rainy_days_per_year_2010[no_rainy_days_per_year_2010['no_rain'] == 1],\n",
    "    x = 'year',\n",
    "    y = 'count'\n",
    ");"
   ]
  },
  {
   "cell_type": "markdown",
   "id": "6c5f9163",
   "metadata": {},
   "source": [
    "### Number of consecutive days without rain."
   ]
  },
  {
   "cell_type": "code",
   "execution_count": null,
   "id": "5a09829a",
   "metadata": {},
   "outputs": [],
   "source": [
    "# Ensure data is sorted by date\n",
    "heathrow_daily_data = heathrow_daily_data.sort_values('datetime').reset_index(drop=True)\n",
    "\n",
    "# Create groups that change each time rain status changes\n",
    "rain_change = heathrow_daily_data['no_rain'].ne(heathrow_daily_data['no_rain'].shift()).cumsum()\n",
    "\n",
    "# Count consecutive days within each group, only for no-rain periods\n",
    "heathrow_daily_data['consecutive_no_rain'] = (\n",
    "    heathrow_daily_data.groupby(rain_change).cumcount() + 1\n",
    ").where(heathrow_daily_data['no_rain'] == 1, 0)"
   ]
  },
  {
   "cell_type": "code",
   "execution_count": null,
   "id": "ffc216af",
   "metadata": {},
   "outputs": [],
   "source": [
    "heathrow_daily_data[heathrow_daily_data['consecutive_no_rain'] > 20]['year'].value_counts()"
   ]
  },
  {
   "cell_type": "code",
   "execution_count": null,
   "id": "31cd2932",
   "metadata": {},
   "outputs": [],
   "source": [
    "sns.barplot(\n",
    "    data = yearly_monthly_aggregate_jan_apr[yearly_monthly_aggregate_jan_apr['year'] >=2013],\n",
    "    x = 'monthly_avg',\n",
    "    y = 'year',\n",
    "    orient='h'\n",
    ");"
   ]
  },
  {
   "cell_type": "code",
   "execution_count": null,
   "id": "bb145c05",
   "metadata": {},
   "outputs": [],
   "source": []
  },
  {
   "cell_type": "code",
   "execution_count": null,
   "id": "3098e891",
   "metadata": {},
   "outputs": [],
   "source": []
  },
  {
   "cell_type": "markdown",
   "id": "edcfa823",
   "metadata": {},
   "source": [
    "### Acknowledge"
   ]
  },
  {
   "cell_type": "markdown",
   "id": "1e4e888b",
   "metadata": {},
   "source": [
    "```\n",
    "EUROPEAN CLIMATE ASSESSMENT & DATASET (ECA&D), file created on 11-06-2025\n",
    "THESE DATA CAN BE USED FREELY PROVIDED THAT THE FOLLOWING SOURCE IS ACKNOWLEDGED:\n",
    "\n",
    "Klein Tank, A.M.G. and Coauthors, 2002. Daily dataset of 20th-century surface\n",
    "air temperature and precipitation series for the European Climate Assessment.\n",
    "Int. J. of Climatol., 22, 1441-1453.\n",
    "Data and metadata available at http://www.ecad.eu\n",
    "```"
   ]
  },
  {
   "cell_type": "markdown",
   "id": "76e967b7",
   "metadata": {},
   "source": []
  }
 ],
 "metadata": {
  "kernelspec": {
   "display_name": "base",
   "language": "python",
   "name": "python3"
  },
  "language_info": {
   "codemirror_mode": {
    "name": "ipython",
    "version": 3
   },
   "file_extension": ".py",
   "mimetype": "text/x-python",
   "name": "python",
   "nbconvert_exporter": "python",
   "pygments_lexer": "ipython3",
   "version": "3.12.3"
  }
 },
 "nbformat": 4,
 "nbformat_minor": 5
}
