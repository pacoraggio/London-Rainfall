{
 "cells": [
  {
   "cell_type": "code",
   "execution_count": 1,
   "id": "af8e4102",
   "metadata": {},
   "outputs": [],
   "source": [
    "import pandas as pd \n",
    "import numpy as np\n",
    "\n",
    "import matplotlib.pyplot as plt\n",
    "import seaborn as sns\n",
    "\n",
    "from src.data_manipulation import transform_data_datetime"
   ]
  },
  {
   "cell_type": "markdown",
   "id": "8750c4f5",
   "metadata": {},
   "source": [
    "# Puglia Data Analysis"
   ]
  },
  {
   "cell_type": "markdown",
   "id": "fa98091f",
   "metadata": {},
   "source": [
    "- Data Source: hourly data"
   ]
  },
  {
   "cell_type": "code",
   "execution_count": 3,
   "id": "a67fe6b9",
   "metadata": {},
   "outputs": [
    {
     "name": "stdout",
     "output_type": "stream",
     "text": [
      "(43848, 12)\n"
     ]
    },
    {
     "data": {
      "text/html": [
       "<div>\n",
       "<style scoped>\n",
       "    .dataframe tbody tr th:only-of-type {\n",
       "        vertical-align: middle;\n",
       "    }\n",
       "\n",
       "    .dataframe tbody tr th {\n",
       "        vertical-align: top;\n",
       "    }\n",
       "\n",
       "    .dataframe thead th {\n",
       "        text-align: right;\n",
       "    }\n",
       "</style>\n",
       "<table border=\"1\" class=\"dataframe\">\n",
       "  <thead>\n",
       "    <tr style=\"text-align: right;\">\n",
       "      <th></th>\n",
       "      <th>time</th>\n",
       "      <th>number</th>\n",
       "      <th>step</th>\n",
       "      <th>surface</th>\n",
       "      <th>latitude</th>\n",
       "      <th>longitude</th>\n",
       "      <th>valid_time</th>\n",
       "      <th>t2m</th>\n",
       "      <th>actual_latitude</th>\n",
       "      <th>actual_longitude</th>\n",
       "      <th>target_latitude</th>\n",
       "      <th>target_longitude</th>\n",
       "    </tr>\n",
       "  </thead>\n",
       "  <tbody>\n",
       "    <tr>\n",
       "      <th>0</th>\n",
       "      <td>2020-01-01 00:00:00</td>\n",
       "      <td>0</td>\n",
       "      <td>0 days</td>\n",
       "      <td>0.0</td>\n",
       "      <td>40.25</td>\n",
       "      <td>17.75</td>\n",
       "      <td>2020-01-01 00:00:00</td>\n",
       "      <td>282.61823</td>\n",
       "      <td>40.25</td>\n",
       "      <td>17.75</td>\n",
       "      <td>41.4</td>\n",
       "      <td>16.9</td>\n",
       "    </tr>\n",
       "    <tr>\n",
       "      <th>1</th>\n",
       "      <td>2020-01-01 01:00:00</td>\n",
       "      <td>0</td>\n",
       "      <td>0 days</td>\n",
       "      <td>0.0</td>\n",
       "      <td>40.25</td>\n",
       "      <td>17.75</td>\n",
       "      <td>2020-01-01 01:00:00</td>\n",
       "      <td>282.45312</td>\n",
       "      <td>40.25</td>\n",
       "      <td>17.75</td>\n",
       "      <td>41.4</td>\n",
       "      <td>16.9</td>\n",
       "    </tr>\n",
       "    <tr>\n",
       "      <th>2</th>\n",
       "      <td>2020-01-01 02:00:00</td>\n",
       "      <td>0</td>\n",
       "      <td>0 days</td>\n",
       "      <td>0.0</td>\n",
       "      <td>40.25</td>\n",
       "      <td>17.75</td>\n",
       "      <td>2020-01-01 02:00:00</td>\n",
       "      <td>282.62213</td>\n",
       "      <td>40.25</td>\n",
       "      <td>17.75</td>\n",
       "      <td>41.4</td>\n",
       "      <td>16.9</td>\n",
       "    </tr>\n",
       "    <tr>\n",
       "      <th>3</th>\n",
       "      <td>2020-01-01 03:00:00</td>\n",
       "      <td>0</td>\n",
       "      <td>0 days</td>\n",
       "      <td>0.0</td>\n",
       "      <td>40.25</td>\n",
       "      <td>17.75</td>\n",
       "      <td>2020-01-01 03:00:00</td>\n",
       "      <td>283.54443</td>\n",
       "      <td>40.25</td>\n",
       "      <td>17.75</td>\n",
       "      <td>41.4</td>\n",
       "      <td>16.9</td>\n",
       "    </tr>\n",
       "    <tr>\n",
       "      <th>4</th>\n",
       "      <td>2020-01-01 04:00:00</td>\n",
       "      <td>0</td>\n",
       "      <td>0 days</td>\n",
       "      <td>0.0</td>\n",
       "      <td>40.25</td>\n",
       "      <td>17.75</td>\n",
       "      <td>2020-01-01 04:00:00</td>\n",
       "      <td>283.44244</td>\n",
       "      <td>40.25</td>\n",
       "      <td>17.75</td>\n",
       "      <td>41.4</td>\n",
       "      <td>16.9</td>\n",
       "    </tr>\n",
       "  </tbody>\n",
       "</table>\n",
       "</div>"
      ],
      "text/plain": [
       "                  time  number    step  surface  latitude  longitude  \\\n",
       "0  2020-01-01 00:00:00       0  0 days      0.0     40.25      17.75   \n",
       "1  2020-01-01 01:00:00       0  0 days      0.0     40.25      17.75   \n",
       "2  2020-01-01 02:00:00       0  0 days      0.0     40.25      17.75   \n",
       "3  2020-01-01 03:00:00       0  0 days      0.0     40.25      17.75   \n",
       "4  2020-01-01 04:00:00       0  0 days      0.0     40.25      17.75   \n",
       "\n",
       "            valid_time        t2m  actual_latitude  actual_longitude  \\\n",
       "0  2020-01-01 00:00:00  282.61823            40.25             17.75   \n",
       "1  2020-01-01 01:00:00  282.45312            40.25             17.75   \n",
       "2  2020-01-01 02:00:00  282.62213            40.25             17.75   \n",
       "3  2020-01-01 03:00:00  283.54443            40.25             17.75   \n",
       "4  2020-01-01 04:00:00  283.44244            40.25             17.75   \n",
       "\n",
       "   target_latitude  target_longitude  \n",
       "0             41.4              16.9  \n",
       "1             41.4              16.9  \n",
       "2             41.4              16.9  \n",
       "3             41.4              16.9  \n",
       "4             41.4              16.9  "
      ]
     },
     "execution_count": 3,
     "metadata": {},
     "output_type": "execute_result"
    }
   ],
   "source": [
    "bari_data = pd.read_csv('./output/ERA5_hourly_data_on_single_levels_from_2020_to_2024_Bari.csv')\n",
    "print(bari_data.shape)\n",
    "bari_data.head()"
   ]
  },
  {
   "cell_type": "code",
   "execution_count": 4,
   "id": "1fc5df16",
   "metadata": {},
   "outputs": [
    {
     "data": {
      "text/html": [
       "<div>\n",
       "<style scoped>\n",
       "    .dataframe tbody tr th:only-of-type {\n",
       "        vertical-align: middle;\n",
       "    }\n",
       "\n",
       "    .dataframe tbody tr th {\n",
       "        vertical-align: top;\n",
       "    }\n",
       "\n",
       "    .dataframe thead th {\n",
       "        text-align: right;\n",
       "    }\n",
       "</style>\n",
       "<table border=\"1\" class=\"dataframe\">\n",
       "  <thead>\n",
       "    <tr style=\"text-align: right;\">\n",
       "      <th></th>\n",
       "      <th>time</th>\n",
       "      <th>number</th>\n",
       "      <th>step</th>\n",
       "      <th>surface</th>\n",
       "      <th>latitude</th>\n",
       "      <th>longitude</th>\n",
       "      <th>valid_time</th>\n",
       "      <th>t2m</th>\n",
       "      <th>actual_latitude</th>\n",
       "      <th>actual_longitude</th>\n",
       "      <th>target_latitude</th>\n",
       "      <th>target_longitude</th>\n",
       "    </tr>\n",
       "  </thead>\n",
       "  <tbody>\n",
       "    <tr>\n",
       "      <th>43843</th>\n",
       "      <td>2024-12-31 19:00:00</td>\n",
       "      <td>0</td>\n",
       "      <td>0 days</td>\n",
       "      <td>0.0</td>\n",
       "      <td>40.25</td>\n",
       "      <td>17.75</td>\n",
       "      <td>2024-12-31 19:00:00</td>\n",
       "      <td>283.77618</td>\n",
       "      <td>40.25</td>\n",
       "      <td>17.75</td>\n",
       "      <td>41.4</td>\n",
       "      <td>16.9</td>\n",
       "    </tr>\n",
       "    <tr>\n",
       "      <th>43844</th>\n",
       "      <td>2024-12-31 20:00:00</td>\n",
       "      <td>0</td>\n",
       "      <td>0 days</td>\n",
       "      <td>0.0</td>\n",
       "      <td>40.25</td>\n",
       "      <td>17.75</td>\n",
       "      <td>2024-12-31 20:00:00</td>\n",
       "      <td>283.91540</td>\n",
       "      <td>40.25</td>\n",
       "      <td>17.75</td>\n",
       "      <td>41.4</td>\n",
       "      <td>16.9</td>\n",
       "    </tr>\n",
       "    <tr>\n",
       "      <th>43845</th>\n",
       "      <td>2024-12-31 21:00:00</td>\n",
       "      <td>0</td>\n",
       "      <td>0 days</td>\n",
       "      <td>0.0</td>\n",
       "      <td>40.25</td>\n",
       "      <td>17.75</td>\n",
       "      <td>2024-12-31 21:00:00</td>\n",
       "      <td>283.92480</td>\n",
       "      <td>40.25</td>\n",
       "      <td>17.75</td>\n",
       "      <td>41.4</td>\n",
       "      <td>16.9</td>\n",
       "    </tr>\n",
       "    <tr>\n",
       "      <th>43846</th>\n",
       "      <td>2024-12-31 22:00:00</td>\n",
       "      <td>0</td>\n",
       "      <td>0 days</td>\n",
       "      <td>0.0</td>\n",
       "      <td>40.25</td>\n",
       "      <td>17.75</td>\n",
       "      <td>2024-12-31 22:00:00</td>\n",
       "      <td>283.33484</td>\n",
       "      <td>40.25</td>\n",
       "      <td>17.75</td>\n",
       "      <td>41.4</td>\n",
       "      <td>16.9</td>\n",
       "    </tr>\n",
       "    <tr>\n",
       "      <th>43847</th>\n",
       "      <td>2024-12-31 23:00:00</td>\n",
       "      <td>0</td>\n",
       "      <td>0 days</td>\n",
       "      <td>0.0</td>\n",
       "      <td>40.25</td>\n",
       "      <td>17.75</td>\n",
       "      <td>2024-12-31 23:00:00</td>\n",
       "      <td>283.42627</td>\n",
       "      <td>40.25</td>\n",
       "      <td>17.75</td>\n",
       "      <td>41.4</td>\n",
       "      <td>16.9</td>\n",
       "    </tr>\n",
       "  </tbody>\n",
       "</table>\n",
       "</div>"
      ],
      "text/plain": [
       "                      time  number    step  surface  latitude  longitude  \\\n",
       "43843  2024-12-31 19:00:00       0  0 days      0.0     40.25      17.75   \n",
       "43844  2024-12-31 20:00:00       0  0 days      0.0     40.25      17.75   \n",
       "43845  2024-12-31 21:00:00       0  0 days      0.0     40.25      17.75   \n",
       "43846  2024-12-31 22:00:00       0  0 days      0.0     40.25      17.75   \n",
       "43847  2024-12-31 23:00:00       0  0 days      0.0     40.25      17.75   \n",
       "\n",
       "                valid_time        t2m  actual_latitude  actual_longitude  \\\n",
       "43843  2024-12-31 19:00:00  283.77618            40.25             17.75   \n",
       "43844  2024-12-31 20:00:00  283.91540            40.25             17.75   \n",
       "43845  2024-12-31 21:00:00  283.92480            40.25             17.75   \n",
       "43846  2024-12-31 22:00:00  283.33484            40.25             17.75   \n",
       "43847  2024-12-31 23:00:00  283.42627            40.25             17.75   \n",
       "\n",
       "       target_latitude  target_longitude  \n",
       "43843             41.4              16.9  \n",
       "43844             41.4              16.9  \n",
       "43845             41.4              16.9  \n",
       "43846             41.4              16.9  \n",
       "43847             41.4              16.9  "
      ]
     },
     "execution_count": 4,
     "metadata": {},
     "output_type": "execute_result"
    }
   ],
   "source": [
    "bari_data.tail()"
   ]
  },
  {
   "cell_type": "code",
   "execution_count": 5,
   "id": "e488fd6a",
   "metadata": {},
   "outputs": [
    {
     "name": "stdout",
     "output_type": "stream",
     "text": [
      "(43848, 12)\n"
     ]
    },
    {
     "data": {
      "text/html": [
       "<div>\n",
       "<style scoped>\n",
       "    .dataframe tbody tr th:only-of-type {\n",
       "        vertical-align: middle;\n",
       "    }\n",
       "\n",
       "    .dataframe tbody tr th {\n",
       "        vertical-align: top;\n",
       "    }\n",
       "\n",
       "    .dataframe thead th {\n",
       "        text-align: right;\n",
       "    }\n",
       "</style>\n",
       "<table border=\"1\" class=\"dataframe\">\n",
       "  <thead>\n",
       "    <tr style=\"text-align: right;\">\n",
       "      <th></th>\n",
       "      <th>time</th>\n",
       "      <th>number</th>\n",
       "      <th>step</th>\n",
       "      <th>surface</th>\n",
       "      <th>latitude</th>\n",
       "      <th>longitude</th>\n",
       "      <th>valid_time</th>\n",
       "      <th>t2m</th>\n",
       "      <th>actual_latitude</th>\n",
       "      <th>actual_longitude</th>\n",
       "      <th>target_latitude</th>\n",
       "      <th>target_longitude</th>\n",
       "    </tr>\n",
       "  </thead>\n",
       "  <tbody>\n",
       "    <tr>\n",
       "      <th>0</th>\n",
       "      <td>2020-01-01 00:00:00</td>\n",
       "      <td>0</td>\n",
       "      <td>0 days</td>\n",
       "      <td>0.0</td>\n",
       "      <td>40.25</td>\n",
       "      <td>18.25</td>\n",
       "      <td>2020-01-01 00:00:00</td>\n",
       "      <td>281.68073</td>\n",
       "      <td>40.25</td>\n",
       "      <td>18.25</td>\n",
       "      <td>40.356541</td>\n",
       "      <td>18.173119</td>\n",
       "    </tr>\n",
       "    <tr>\n",
       "      <th>1</th>\n",
       "      <td>2020-01-01 01:00:00</td>\n",
       "      <td>0</td>\n",
       "      <td>0 days</td>\n",
       "      <td>0.0</td>\n",
       "      <td>40.25</td>\n",
       "      <td>18.25</td>\n",
       "      <td>2020-01-01 01:00:00</td>\n",
       "      <td>281.76758</td>\n",
       "      <td>40.25</td>\n",
       "      <td>18.25</td>\n",
       "      <td>40.356541</td>\n",
       "      <td>18.173119</td>\n",
       "    </tr>\n",
       "    <tr>\n",
       "      <th>2</th>\n",
       "      <td>2020-01-01 02:00:00</td>\n",
       "      <td>0</td>\n",
       "      <td>0 days</td>\n",
       "      <td>0.0</td>\n",
       "      <td>40.25</td>\n",
       "      <td>18.25</td>\n",
       "      <td>2020-01-01 02:00:00</td>\n",
       "      <td>282.17487</td>\n",
       "      <td>40.25</td>\n",
       "      <td>18.25</td>\n",
       "      <td>40.356541</td>\n",
       "      <td>18.173119</td>\n",
       "    </tr>\n",
       "    <tr>\n",
       "      <th>3</th>\n",
       "      <td>2020-01-01 03:00:00</td>\n",
       "      <td>0</td>\n",
       "      <td>0 days</td>\n",
       "      <td>0.0</td>\n",
       "      <td>40.25</td>\n",
       "      <td>18.25</td>\n",
       "      <td>2020-01-01 03:00:00</td>\n",
       "      <td>283.24170</td>\n",
       "      <td>40.25</td>\n",
       "      <td>18.25</td>\n",
       "      <td>40.356541</td>\n",
       "      <td>18.173119</td>\n",
       "    </tr>\n",
       "    <tr>\n",
       "      <th>4</th>\n",
       "      <td>2020-01-01 04:00:00</td>\n",
       "      <td>0</td>\n",
       "      <td>0 days</td>\n",
       "      <td>0.0</td>\n",
       "      <td>40.25</td>\n",
       "      <td>18.25</td>\n",
       "      <td>2020-01-01 04:00:00</td>\n",
       "      <td>283.34674</td>\n",
       "      <td>40.25</td>\n",
       "      <td>18.25</td>\n",
       "      <td>40.356541</td>\n",
       "      <td>18.173119</td>\n",
       "    </tr>\n",
       "  </tbody>\n",
       "</table>\n",
       "</div>"
      ],
      "text/plain": [
       "                  time  number    step  surface  latitude  longitude  \\\n",
       "0  2020-01-01 00:00:00       0  0 days      0.0     40.25      18.25   \n",
       "1  2020-01-01 01:00:00       0  0 days      0.0     40.25      18.25   \n",
       "2  2020-01-01 02:00:00       0  0 days      0.0     40.25      18.25   \n",
       "3  2020-01-01 03:00:00       0  0 days      0.0     40.25      18.25   \n",
       "4  2020-01-01 04:00:00       0  0 days      0.0     40.25      18.25   \n",
       "\n",
       "            valid_time        t2m  actual_latitude  actual_longitude  \\\n",
       "0  2020-01-01 00:00:00  281.68073            40.25             18.25   \n",
       "1  2020-01-01 01:00:00  281.76758            40.25             18.25   \n",
       "2  2020-01-01 02:00:00  282.17487            40.25             18.25   \n",
       "3  2020-01-01 03:00:00  283.24170            40.25             18.25   \n",
       "4  2020-01-01 04:00:00  283.34674            40.25             18.25   \n",
       "\n",
       "   target_latitude  target_longitude  \n",
       "0        40.356541         18.173119  \n",
       "1        40.356541         18.173119  \n",
       "2        40.356541         18.173119  \n",
       "3        40.356541         18.173119  \n",
       "4        40.356541         18.173119  "
      ]
     },
     "execution_count": 5,
     "metadata": {},
     "output_type": "execute_result"
    }
   ],
   "source": [
    "lecce_data = pd.read_csv('./output/ERA5_hourly_data_on_single_levels_from_2020_to_2024_Lecce.csv')\n",
    "print(lecce_data.shape)\n",
    "lecce_data.head()"
   ]
  },
  {
   "cell_type": "code",
   "execution_count": 9,
   "id": "bc104ee3",
   "metadata": {},
   "outputs": [
    {
     "ename": "KeyError",
     "evalue": "'tp'",
     "output_type": "error",
     "traceback": [
      "\u001b[1;31m---------------------------------------------------------------------------\u001b[0m",
      "\u001b[1;31mKeyError\u001b[0m                                  Traceback (most recent call last)",
      "File \u001b[1;32mc:\\ProgramData\\anaconda3\\Lib\\site-packages\\pandas\\core\\indexes\\base.py:3805\u001b[0m, in \u001b[0;36mIndex.get_loc\u001b[1;34m(self, key)\u001b[0m\n\u001b[0;32m   3804\u001b[0m \u001b[38;5;28;01mtry\u001b[39;00m:\n\u001b[1;32m-> 3805\u001b[0m     \u001b[38;5;28;01mreturn\u001b[39;00m \u001b[38;5;28mself\u001b[39m\u001b[38;5;241m.\u001b[39m_engine\u001b[38;5;241m.\u001b[39mget_loc(casted_key)\n\u001b[0;32m   3806\u001b[0m \u001b[38;5;28;01mexcept\u001b[39;00m \u001b[38;5;167;01mKeyError\u001b[39;00m \u001b[38;5;28;01mas\u001b[39;00m err:\n",
      "File \u001b[1;32mindex.pyx:167\u001b[0m, in \u001b[0;36mpandas._libs.index.IndexEngine.get_loc\u001b[1;34m()\u001b[0m\n",
      "File \u001b[1;32mindex.pyx:196\u001b[0m, in \u001b[0;36mpandas._libs.index.IndexEngine.get_loc\u001b[1;34m()\u001b[0m\n",
      "File \u001b[1;32mpandas\\\\_libs\\\\hashtable_class_helper.pxi:7081\u001b[0m, in \u001b[0;36mpandas._libs.hashtable.PyObjectHashTable.get_item\u001b[1;34m()\u001b[0m\n",
      "File \u001b[1;32mpandas\\\\_libs\\\\hashtable_class_helper.pxi:7089\u001b[0m, in \u001b[0;36mpandas._libs.hashtable.PyObjectHashTable.get_item\u001b[1;34m()\u001b[0m\n",
      "\u001b[1;31mKeyError\u001b[0m: 'tp'",
      "\nThe above exception was the direct cause of the following exception:\n",
      "\u001b[1;31mKeyError\u001b[0m                                  Traceback (most recent call last)",
      "Cell \u001b[1;32mIn[9], line 1\u001b[0m\n\u001b[1;32m----> 1\u001b[0m transform_data_to_complete_dataset(bari_data)\n",
      "Cell \u001b[1;32mIn[8], line 23\u001b[0m, in \u001b[0;36mtransform_data_to_complete_dataset\u001b[1;34m(df)\u001b[0m\n\u001b[0;32m     20\u001b[0m df\u001b[38;5;241m.\u001b[39msort_values(by\u001b[38;5;241m=\u001b[39m\u001b[38;5;124m'\u001b[39m\u001b[38;5;124mvalid_time\u001b[39m\u001b[38;5;124m'\u001b[39m, inplace\u001b[38;5;241m=\u001b[39m\u001b[38;5;28;01mTrue\u001b[39;00m)\n\u001b[0;32m     21\u001b[0m df\u001b[38;5;241m.\u001b[39mreset_index(drop\u001b[38;5;241m=\u001b[39m\u001b[38;5;28;01mTrue\u001b[39;00m, inplace\u001b[38;5;241m=\u001b[39m\u001b[38;5;28;01mTrue\u001b[39;00m)\n\u001b[1;32m---> 23\u001b[0m df[\u001b[38;5;124m'\u001b[39m\u001b[38;5;124mRR_mm\u001b[39m\u001b[38;5;124m'\u001b[39m] \u001b[38;5;241m=\u001b[39m df[\u001b[38;5;124m'\u001b[39m\u001b[38;5;124mtp\u001b[39m\u001b[38;5;124m'\u001b[39m] \u001b[38;5;241m*\u001b[39m \u001b[38;5;241m1000\u001b[39m  \u001b[38;5;66;03m# Convert tp from m to mm\u001b[39;00m\n\u001b[0;32m     24\u001b[0m df[\u001b[38;5;124m'\u001b[39m\u001b[38;5;124mt2m_celsius\u001b[39m\u001b[38;5;124m'\u001b[39m] \u001b[38;5;241m=\u001b[39m df[\u001b[38;5;124m'\u001b[39m\u001b[38;5;124mt2m\u001b[39m\u001b[38;5;124m'\u001b[39m] \u001b[38;5;241m-\u001b[39m \u001b[38;5;241m273.15\u001b[39m  \u001b[38;5;66;03m# Convert temperature from Kelvin to Celsius\u001b[39;00m\n\u001b[0;32m     25\u001b[0m df\u001b[38;5;241m.\u001b[39msort_values(by\u001b[38;5;241m=\u001b[39m\u001b[38;5;124m'\u001b[39m\u001b[38;5;124mvalid_time\u001b[39m\u001b[38;5;124m'\u001b[39m, inplace\u001b[38;5;241m=\u001b[39m\u001b[38;5;28;01mTrue\u001b[39;00m)\n",
      "File \u001b[1;32mc:\\ProgramData\\anaconda3\\Lib\\site-packages\\pandas\\core\\frame.py:4102\u001b[0m, in \u001b[0;36mDataFrame.__getitem__\u001b[1;34m(self, key)\u001b[0m\n\u001b[0;32m   4100\u001b[0m \u001b[38;5;28;01mif\u001b[39;00m \u001b[38;5;28mself\u001b[39m\u001b[38;5;241m.\u001b[39mcolumns\u001b[38;5;241m.\u001b[39mnlevels \u001b[38;5;241m>\u001b[39m \u001b[38;5;241m1\u001b[39m:\n\u001b[0;32m   4101\u001b[0m     \u001b[38;5;28;01mreturn\u001b[39;00m \u001b[38;5;28mself\u001b[39m\u001b[38;5;241m.\u001b[39m_getitem_multilevel(key)\n\u001b[1;32m-> 4102\u001b[0m indexer \u001b[38;5;241m=\u001b[39m \u001b[38;5;28mself\u001b[39m\u001b[38;5;241m.\u001b[39mcolumns\u001b[38;5;241m.\u001b[39mget_loc(key)\n\u001b[0;32m   4103\u001b[0m \u001b[38;5;28;01mif\u001b[39;00m is_integer(indexer):\n\u001b[0;32m   4104\u001b[0m     indexer \u001b[38;5;241m=\u001b[39m [indexer]\n",
      "File \u001b[1;32mc:\\ProgramData\\anaconda3\\Lib\\site-packages\\pandas\\core\\indexes\\base.py:3812\u001b[0m, in \u001b[0;36mIndex.get_loc\u001b[1;34m(self, key)\u001b[0m\n\u001b[0;32m   3807\u001b[0m     \u001b[38;5;28;01mif\u001b[39;00m \u001b[38;5;28misinstance\u001b[39m(casted_key, \u001b[38;5;28mslice\u001b[39m) \u001b[38;5;129;01mor\u001b[39;00m (\n\u001b[0;32m   3808\u001b[0m         \u001b[38;5;28misinstance\u001b[39m(casted_key, abc\u001b[38;5;241m.\u001b[39mIterable)\n\u001b[0;32m   3809\u001b[0m         \u001b[38;5;129;01mand\u001b[39;00m \u001b[38;5;28many\u001b[39m(\u001b[38;5;28misinstance\u001b[39m(x, \u001b[38;5;28mslice\u001b[39m) \u001b[38;5;28;01mfor\u001b[39;00m x \u001b[38;5;129;01min\u001b[39;00m casted_key)\n\u001b[0;32m   3810\u001b[0m     ):\n\u001b[0;32m   3811\u001b[0m         \u001b[38;5;28;01mraise\u001b[39;00m InvalidIndexError(key)\n\u001b[1;32m-> 3812\u001b[0m     \u001b[38;5;28;01mraise\u001b[39;00m \u001b[38;5;167;01mKeyError\u001b[39;00m(key) \u001b[38;5;28;01mfrom\u001b[39;00m \u001b[38;5;21;01merr\u001b[39;00m\n\u001b[0;32m   3813\u001b[0m \u001b[38;5;28;01mexcept\u001b[39;00m \u001b[38;5;167;01mTypeError\u001b[39;00m:\n\u001b[0;32m   3814\u001b[0m     \u001b[38;5;66;03m# If we have a listlike key, _check_indexing_error will raise\u001b[39;00m\n\u001b[0;32m   3815\u001b[0m     \u001b[38;5;66;03m#  InvalidIndexError. Otherwise we fall through and re-raise\u001b[39;00m\n\u001b[0;32m   3816\u001b[0m     \u001b[38;5;66;03m#  the TypeError.\u001b[39;00m\n\u001b[0;32m   3817\u001b[0m     \u001b[38;5;28mself\u001b[39m\u001b[38;5;241m.\u001b[39m_check_indexing_error(key)\n",
      "\u001b[1;31mKeyError\u001b[0m: 'tp'"
     ]
    }
   ],
   "source": [
    "transform_data_to_complete_dataset(bari_data)"
   ]
  },
  {
   "cell_type": "code",
   "execution_count": null,
   "id": "5138e3b3",
   "metadata": {},
   "outputs": [],
   "source": []
  },
  {
   "cell_type": "markdown",
   "id": "a329d593",
   "metadata": {},
   "source": [
    "- Data Source: [Copernicus Reanalysis](https://cds.climate.copernicus.eu/datasets/reanalysis-era5-single-levels-timeseries?tab=overview).\n",
    "\n",
    "Downloaded data from 2 different longitude and latitude to compare the precipitation and temperature values."
   ]
  },
  {
   "cell_type": "code",
   "execution_count": 2,
   "id": "c011e58a",
   "metadata": {},
   "outputs": [],
   "source": [
    "puglia_1 = pd.read_csv('./data/puglia/reanalysis-era5-single-levels-timeseries-puglia1.csv')\n",
    "puglia_2 = pd.read_csv('./data/puglia/reanalysis-era5-single-levels-timeseries-puglia2.csv')"
   ]
  },
  {
   "cell_type": "code",
   "execution_count": 3,
   "id": "271dee66",
   "metadata": {},
   "outputs": [
    {
     "name": "stdout",
     "output_type": "stream",
     "text": [
      "(749112, 5)\n",
      "(749112, 5)\n"
     ]
    }
   ],
   "source": [
    "print(puglia_1.shape)\n",
    "print(puglia_2.shape)"
   ]
  },
  {
   "cell_type": "code",
   "execution_count": 26,
   "id": "6e3ef4b2",
   "metadata": {},
   "outputs": [
    {
     "data": {
      "text/html": [
       "<div>\n",
       "<style scoped>\n",
       "    .dataframe tbody tr th:only-of-type {\n",
       "        vertical-align: middle;\n",
       "    }\n",
       "\n",
       "    .dataframe tbody tr th {\n",
       "        vertical-align: top;\n",
       "    }\n",
       "\n",
       "    .dataframe thead th {\n",
       "        text-align: right;\n",
       "    }\n",
       "</style>\n",
       "<table border=\"1\" class=\"dataframe\">\n",
       "  <thead>\n",
       "    <tr style=\"text-align: right;\">\n",
       "      <th></th>\n",
       "      <th>valid_time</th>\n",
       "      <th>t2m</th>\n",
       "      <th>tp</th>\n",
       "      <th>latitude</th>\n",
       "      <th>longitude</th>\n",
       "    </tr>\n",
       "  </thead>\n",
       "  <tbody>\n",
       "    <tr>\n",
       "      <th>0</th>\n",
       "      <td>1940-01-01 00:00:00</td>\n",
       "      <td>275.77838</td>\n",
       "      <td>NaN</td>\n",
       "      <td>40.75</td>\n",
       "      <td>17.5</td>\n",
       "    </tr>\n",
       "    <tr>\n",
       "      <th>1</th>\n",
       "      <td>1940-01-01 01:00:00</td>\n",
       "      <td>275.63390</td>\n",
       "      <td>NaN</td>\n",
       "      <td>40.75</td>\n",
       "      <td>17.5</td>\n",
       "    </tr>\n",
       "    <tr>\n",
       "      <th>2</th>\n",
       "      <td>1940-01-01 02:00:00</td>\n",
       "      <td>275.59552</td>\n",
       "      <td>NaN</td>\n",
       "      <td>40.75</td>\n",
       "      <td>17.5</td>\n",
       "    </tr>\n",
       "    <tr>\n",
       "      <th>3</th>\n",
       "      <td>1940-01-01 03:00:00</td>\n",
       "      <td>275.35193</td>\n",
       "      <td>NaN</td>\n",
       "      <td>40.75</td>\n",
       "      <td>17.5</td>\n",
       "    </tr>\n",
       "    <tr>\n",
       "      <th>4</th>\n",
       "      <td>1940-01-01 04:00:00</td>\n",
       "      <td>275.11063</td>\n",
       "      <td>NaN</td>\n",
       "      <td>40.75</td>\n",
       "      <td>17.5</td>\n",
       "    </tr>\n",
       "  </tbody>\n",
       "</table>\n",
       "</div>"
      ],
      "text/plain": [
       "            valid_time        t2m  tp  latitude  longitude\n",
       "0  1940-01-01 00:00:00  275.77838 NaN     40.75       17.5\n",
       "1  1940-01-01 01:00:00  275.63390 NaN     40.75       17.5\n",
       "2  1940-01-01 02:00:00  275.59552 NaN     40.75       17.5\n",
       "3  1940-01-01 03:00:00  275.35193 NaN     40.75       17.5\n",
       "4  1940-01-01 04:00:00  275.11063 NaN     40.75       17.5"
      ]
     },
     "execution_count": 26,
     "metadata": {},
     "output_type": "execute_result"
    }
   ],
   "source": [
    "puglia_1.head(5)"
   ]
  },
  {
   "cell_type": "code",
   "execution_count": 5,
   "id": "9d1511f3",
   "metadata": {},
   "outputs": [
    {
     "data": {
      "text/html": [
       "<div>\n",
       "<style scoped>\n",
       "    .dataframe tbody tr th:only-of-type {\n",
       "        vertical-align: middle;\n",
       "    }\n",
       "\n",
       "    .dataframe tbody tr th {\n",
       "        vertical-align: top;\n",
       "    }\n",
       "\n",
       "    .dataframe thead th {\n",
       "        text-align: right;\n",
       "    }\n",
       "</style>\n",
       "<table border=\"1\" class=\"dataframe\">\n",
       "  <thead>\n",
       "    <tr style=\"text-align: right;\">\n",
       "      <th></th>\n",
       "      <th>valid_time</th>\n",
       "      <th>t2m</th>\n",
       "      <th>tp</th>\n",
       "      <th>latitude</th>\n",
       "      <th>longitude</th>\n",
       "    </tr>\n",
       "  </thead>\n",
       "  <tbody>\n",
       "    <tr>\n",
       "      <th>749107</th>\n",
       "      <td>2025-06-15 19:00:00</td>\n",
       "      <td>299.60520</td>\n",
       "      <td>0.0</td>\n",
       "      <td>40.5</td>\n",
       "      <td>18.0</td>\n",
       "    </tr>\n",
       "    <tr>\n",
       "      <th>749108</th>\n",
       "      <td>2025-06-15 20:00:00</td>\n",
       "      <td>297.48645</td>\n",
       "      <td>0.0</td>\n",
       "      <td>40.5</td>\n",
       "      <td>18.0</td>\n",
       "    </tr>\n",
       "    <tr>\n",
       "      <th>749109</th>\n",
       "      <td>2025-06-15 21:00:00</td>\n",
       "      <td>295.67438</td>\n",
       "      <td>0.0</td>\n",
       "      <td>40.5</td>\n",
       "      <td>18.0</td>\n",
       "    </tr>\n",
       "    <tr>\n",
       "      <th>749110</th>\n",
       "      <td>2025-06-15 22:00:00</td>\n",
       "      <td>294.39365</td>\n",
       "      <td>0.0</td>\n",
       "      <td>40.5</td>\n",
       "      <td>18.0</td>\n",
       "    </tr>\n",
       "    <tr>\n",
       "      <th>749111</th>\n",
       "      <td>2025-06-15 23:00:00</td>\n",
       "      <td>293.94537</td>\n",
       "      <td>0.0</td>\n",
       "      <td>40.5</td>\n",
       "      <td>18.0</td>\n",
       "    </tr>\n",
       "  </tbody>\n",
       "</table>\n",
       "</div>"
      ],
      "text/plain": [
       "                 valid_time        t2m   tp  latitude  longitude\n",
       "749107  2025-06-15 19:00:00  299.60520  0.0      40.5       18.0\n",
       "749108  2025-06-15 20:00:00  297.48645  0.0      40.5       18.0\n",
       "749109  2025-06-15 21:00:00  295.67438  0.0      40.5       18.0\n",
       "749110  2025-06-15 22:00:00  294.39365  0.0      40.5       18.0\n",
       "749111  2025-06-15 23:00:00  293.94537  0.0      40.5       18.0"
      ]
     },
     "execution_count": 5,
     "metadata": {},
     "output_type": "execute_result"
    }
   ],
   "source": [
    "puglia_2.tail(5)"
   ]
  },
  {
   "cell_type": "code",
   "execution_count": 6,
   "id": "b69021d8",
   "metadata": {},
   "outputs": [
    {
     "data": {
      "text/plain": [
       "valid_time     object\n",
       "t2m           float64\n",
       "tp            float64\n",
       "latitude      float64\n",
       "longitude     float64\n",
       "dtype: object"
      ]
     },
     "execution_count": 6,
     "metadata": {},
     "output_type": "execute_result"
    }
   ],
   "source": [
    "puglia_1.dtypes"
   ]
  },
  {
   "cell_type": "code",
   "execution_count": 8,
   "id": "70578aea",
   "metadata": {},
   "outputs": [],
   "source": [
    "# creating a function transforming the data format in a more\n",
    "# convenient way for furhter analysis\n",
    "\n",
    "# steps\n",
    "## valid_time -> datetime\n",
    "## tp -> RR_mm\n",
    "\n",
    "def transform_data_to_complete_dataset(df):\n",
    "    '''\n",
    "    First step in transforming raw data\n",
    "    it takes the dataframe and creates a new dataframe with the following columns:\n",
    "    - valid_time: datetime object\n",
    "    - RR_mm: precipitation in mm (converted from tp)\n",
    "    - t2m_celsius: temperature in Celsius (converted from t2m)\n",
    "    '''\n",
    "    df = df.copy()\n",
    "    df['valid_time'] = pd.to_datetime(df['valid_time'], format='%Y-%m-%d %H:%M:%S')\n",
    "    df['valid_datetime'] = df['valid_time'].dt.date\n",
    "    \n",
    "    df.sort_values(by='valid_time', inplace=True)\n",
    "    df.reset_index(drop=True, inplace=True)\n",
    "    \n",
    "    df['RR_mm'] = df['tp'] * 1000  # Convert tp from m to mm\n",
    "    df['t2m_celsius'] = df['t2m'] - 273.15  # Convert temperature from Kelvin to Celsius\n",
    "    df.sort_values(by='valid_time', inplace=True)\n",
    "    df.reset_index(drop=True, inplace=True)\n",
    "    return df[['valid_time', 'valid_datetime', 'RR_mm', 't2m_celsius', 'tp', 't2m', 'longitude', 'latitude']]"
   ]
  },
  {
   "cell_type": "code",
   "execution_count": 8,
   "id": "c37970bc",
   "metadata": {},
   "outputs": [],
   "source": [
    "df_puglia_01 = transform_data_to_complete_dataset(puglia_1)\n",
    "df_puglia_02 = transform_data_to_complete_dataset(puglia_2)"
   ]
  },
  {
   "cell_type": "code",
   "execution_count": 9,
   "id": "7a76df42",
   "metadata": {},
   "outputs": [
    {
     "data": {
      "text/html": [
       "<div>\n",
       "<style scoped>\n",
       "    .dataframe tbody tr th:only-of-type {\n",
       "        vertical-align: middle;\n",
       "    }\n",
       "\n",
       "    .dataframe tbody tr th {\n",
       "        vertical-align: top;\n",
       "    }\n",
       "\n",
       "    .dataframe thead th {\n",
       "        text-align: right;\n",
       "    }\n",
       "</style>\n",
       "<table border=\"1\" class=\"dataframe\">\n",
       "  <thead>\n",
       "    <tr style=\"text-align: right;\">\n",
       "      <th></th>\n",
       "      <th>valid_time</th>\n",
       "      <th>valid_datetime</th>\n",
       "      <th>RR_mm</th>\n",
       "      <th>t2m_celsius</th>\n",
       "      <th>tp</th>\n",
       "      <th>t2m</th>\n",
       "      <th>longitude</th>\n",
       "      <th>latitude</th>\n",
       "    </tr>\n",
       "  </thead>\n",
       "  <tbody>\n",
       "    <tr>\n",
       "      <th>0</th>\n",
       "      <td>1940-01-01 00:00:00</td>\n",
       "      <td>1940-01-01</td>\n",
       "      <td>NaN</td>\n",
       "      <td>2.62838</td>\n",
       "      <td>NaN</td>\n",
       "      <td>275.77838</td>\n",
       "      <td>17.5</td>\n",
       "      <td>40.75</td>\n",
       "    </tr>\n",
       "    <tr>\n",
       "      <th>1</th>\n",
       "      <td>1940-01-01 01:00:00</td>\n",
       "      <td>1940-01-01</td>\n",
       "      <td>NaN</td>\n",
       "      <td>2.48390</td>\n",
       "      <td>NaN</td>\n",
       "      <td>275.63390</td>\n",
       "      <td>17.5</td>\n",
       "      <td>40.75</td>\n",
       "    </tr>\n",
       "  </tbody>\n",
       "</table>\n",
       "</div>"
      ],
      "text/plain": [
       "           valid_time valid_datetime  RR_mm  t2m_celsius  tp        t2m  \\\n",
       "0 1940-01-01 00:00:00     1940-01-01    NaN      2.62838 NaN  275.77838   \n",
       "1 1940-01-01 01:00:00     1940-01-01    NaN      2.48390 NaN  275.63390   \n",
       "\n",
       "   longitude  latitude  \n",
       "0       17.5     40.75  \n",
       "1       17.5     40.75  "
      ]
     },
     "execution_count": 9,
     "metadata": {},
     "output_type": "execute_result"
    }
   ],
   "source": [
    "df_puglia_01.head(2)"
   ]
  },
  {
   "cell_type": "code",
   "execution_count": 10,
   "id": "0c00845d",
   "metadata": {},
   "outputs": [
    {
     "data": {
      "text/html": [
       "<div>\n",
       "<style scoped>\n",
       "    .dataframe tbody tr th:only-of-type {\n",
       "        vertical-align: middle;\n",
       "    }\n",
       "\n",
       "    .dataframe tbody tr th {\n",
       "        vertical-align: top;\n",
       "    }\n",
       "\n",
       "    .dataframe thead th {\n",
       "        text-align: right;\n",
       "    }\n",
       "</style>\n",
       "<table border=\"1\" class=\"dataframe\">\n",
       "  <thead>\n",
       "    <tr style=\"text-align: right;\">\n",
       "      <th></th>\n",
       "      <th>valid_time</th>\n",
       "      <th>valid_datetime</th>\n",
       "      <th>RR_mm</th>\n",
       "      <th>t2m_celsius</th>\n",
       "      <th>tp</th>\n",
       "      <th>t2m</th>\n",
       "      <th>longitude</th>\n",
       "      <th>latitude</th>\n",
       "    </tr>\n",
       "  </thead>\n",
       "  <tbody>\n",
       "    <tr>\n",
       "      <th>0</th>\n",
       "      <td>1940-01-01 00:00:00</td>\n",
       "      <td>1940-01-01</td>\n",
       "      <td>NaN</td>\n",
       "      <td>2.24166</td>\n",
       "      <td>NaN</td>\n",
       "      <td>275.39166</td>\n",
       "      <td>18.0</td>\n",
       "      <td>40.5</td>\n",
       "    </tr>\n",
       "    <tr>\n",
       "      <th>1</th>\n",
       "      <td>1940-01-01 01:00:00</td>\n",
       "      <td>1940-01-01</td>\n",
       "      <td>NaN</td>\n",
       "      <td>1.60305</td>\n",
       "      <td>NaN</td>\n",
       "      <td>274.75305</td>\n",
       "      <td>18.0</td>\n",
       "      <td>40.5</td>\n",
       "    </tr>\n",
       "  </tbody>\n",
       "</table>\n",
       "</div>"
      ],
      "text/plain": [
       "           valid_time valid_datetime  RR_mm  t2m_celsius  tp        t2m  \\\n",
       "0 1940-01-01 00:00:00     1940-01-01    NaN      2.24166 NaN  275.39166   \n",
       "1 1940-01-01 01:00:00     1940-01-01    NaN      1.60305 NaN  274.75305   \n",
       "\n",
       "   longitude  latitude  \n",
       "0       18.0      40.5  \n",
       "1       18.0      40.5  "
      ]
     },
     "execution_count": 10,
     "metadata": {},
     "output_type": "execute_result"
    }
   ],
   "source": [
    "df_puglia_02.head(2)"
   ]
  },
  {
   "cell_type": "code",
   "execution_count": 11,
   "id": "4c5e0439",
   "metadata": {},
   "outputs": [],
   "source": [
    "def create_daily_aggregated_dataset(df, start_year = 0, end_year = 9999):\n",
    "    if start_year == 0:\n",
    "        start_year = df['valid_time'].min().year\n",
    "    if end_year == 9999:\n",
    "        end_year = df['valid_time'].max().year\n",
    "    df = df[df['valid_time'].dt.year.between(start_year, end_year)]\n",
    "    df_daily = df.groupby('valid_datetime').agg(\n",
    "        valid_time=('valid_time', 'first'),\n",
    "        RR_mm=('RR_mm', 'sum'),\n",
    "        t2m_celsius_mean=('t2m_celsius', 'mean'),\n",
    "        t2m_celsius_min=('t2m_celsius', 'min'),\n",
    "        t2m_celsius_max=('t2m_celsius', 'max'),\n",
    "        longitude=('longitude', 'first'),\n",
    "        latitude=('latitude', 'first')\n",
    "        ).reset_index().round(2)\n",
    "    return df_daily"
   ]
  },
  {
   "cell_type": "code",
   "execution_count": 12,
   "id": "f6f71bc5",
   "metadata": {},
   "outputs": [],
   "source": [
    "def transform_data_datetime_test(df, date_column='DATE', datetime_format=True):   \n",
    "    df = df.copy()\n",
    "    if datetime_format:\n",
    "        df['year'] = df[date_column].dt.year\n",
    "        df['month int'] = df[date_column].dt.month\n",
    "        df['month'] = df[date_column].dt.strftime('%b')\n",
    "        df['day'] = df[date_column].dt.day\n",
    "\n",
    "        return df\n",
    "    # df['datetime'] = pd.to_datetime(df[date_column], format=\"%Y%m%d\")\n",
    "    df['datetime'] = pd.to_datetime(df[date_column], format=\"%Y%m%d\")\n",
    "    df['year'] = df['datetime'].dt.year\n",
    "    df['month int'] = df['datetime'].dt.month\n",
    "    df['month'] = df['datetime'].dt.strftime('%b')\n",
    "    df['day'] = df['datetime'].dt.day\n",
    "\n",
    "    return df[['datetime', 'valid_time', 'year', 'month','day','RR_mm', 't2m_celsius_mean', 't2m_celsius_min', 't2m_celsius_max', 'month int', 'longitude', 'latitude']]"
   ]
  },
  {
   "cell_type": "code",
   "execution_count": 13,
   "id": "9ce4a35b",
   "metadata": {},
   "outputs": [],
   "source": [
    "daily_aggregate_puglia1 = create_daily_aggregated_dataset(df_puglia_01, start_year=1960)\n",
    "daily_aggregate_puglia2 = create_daily_aggregated_dataset(df_puglia_02, start_year=1960)"
   ]
  },
  {
   "cell_type": "code",
   "execution_count": 14,
   "id": "245316db",
   "metadata": {},
   "outputs": [],
   "source": [
    "daily_aggregate_puglia1 = transform_data_datetime_test(daily_aggregate_puglia1, date_column='valid_time', datetime_format=False)\n",
    "daily_aggregate_puglia2 = transform_data_datetime_test(daily_aggregate_puglia2, date_column='valid_time', datetime_format=False)"
   ]
  },
  {
   "cell_type": "code",
   "execution_count": 15,
   "id": "01a66f9f",
   "metadata": {},
   "outputs": [
    {
     "data": {
      "text/plain": [
       "(23908, 12)"
      ]
     },
     "execution_count": 15,
     "metadata": {},
     "output_type": "execute_result"
    }
   ],
   "source": [
    "daily_aggregate_puglia2.shape"
   ]
  },
  {
   "cell_type": "code",
   "execution_count": 16,
   "id": "005d9c0f",
   "metadata": {},
   "outputs": [],
   "source": [
    "agg_test1 = daily_aggregate_puglia1.rename(columns={'RR_mm': 'RR_mm_1', \n",
    "                                        't2m_celsius_mean' : 't2m_celsius_mean_1',\n",
    "                                        't2m_celsius_min': 't2m_celsius_min_1',\n",
    "                                        't2m_celsius_max': 't2m_celsius_max_1',\n",
    "                                        'longitude': 'longitude_1',\n",
    "                                        'latitude': 'latitude_1'})[['datetime', 'RR_mm_1', 't2m_celsius_mean_1', 't2m_celsius_min_1', 't2m_celsius_max_1', 'longitude_1', 'latitude_1']]\n",
    "agg_test2 = daily_aggregate_puglia2.rename(columns={'RR_mm': 'RR_mm_2', \n",
    "                                        't2m_celsius_mean' : 't2m_celsius_mean_2',\n",
    "                                        't2m_celsius_min': 't2m_celsius_min_2',\n",
    "                                        't2m_celsius_max': 't2m_celsius_max_2',\n",
    "                                        'longitude': 'longitude_2',\n",
    "                                        'latitude': 'latitude_2'})[['datetime', 'RR_mm_2', 't2m_celsius_mean_2', 't2m_celsius_min_2', 't2m_celsius_max_2', 'longitude_2', 'latitude_2']]\n",
    "\n",
    "\n"
   ]
  },
  {
   "cell_type": "code",
   "execution_count": 17,
   "id": "4e960252",
   "metadata": {},
   "outputs": [
    {
     "data": {
      "text/plain": [
       "(23908, 7)"
      ]
     },
     "execution_count": 17,
     "metadata": {},
     "output_type": "execute_result"
    }
   ],
   "source": [
    "agg_test1.shape"
   ]
  },
  {
   "cell_type": "code",
   "execution_count": 18,
   "id": "f60d4bd2",
   "metadata": {},
   "outputs": [
    {
     "data": {
      "text/html": [
       "<div>\n",
       "<style scoped>\n",
       "    .dataframe tbody tr th:only-of-type {\n",
       "        vertical-align: middle;\n",
       "    }\n",
       "\n",
       "    .dataframe tbody tr th {\n",
       "        vertical-align: top;\n",
       "    }\n",
       "\n",
       "    .dataframe thead th {\n",
       "        text-align: right;\n",
       "    }\n",
       "</style>\n",
       "<table border=\"1\" class=\"dataframe\">\n",
       "  <thead>\n",
       "    <tr style=\"text-align: right;\">\n",
       "      <th></th>\n",
       "      <th>datetime</th>\n",
       "      <th>RR_mm_2</th>\n",
       "      <th>t2m_celsius_mean_2</th>\n",
       "      <th>t2m_celsius_min_2</th>\n",
       "      <th>t2m_celsius_max_2</th>\n",
       "      <th>longitude_2</th>\n",
       "      <th>latitude_2</th>\n",
       "    </tr>\n",
       "  </thead>\n",
       "  <tbody>\n",
       "    <tr>\n",
       "      <th>0</th>\n",
       "      <td>1960-01-01</td>\n",
       "      <td>0.00</td>\n",
       "      <td>11.40</td>\n",
       "      <td>7.60</td>\n",
       "      <td>14.44</td>\n",
       "      <td>18.0</td>\n",
       "      <td>40.5</td>\n",
       "    </tr>\n",
       "    <tr>\n",
       "      <th>1</th>\n",
       "      <td>1960-01-02</td>\n",
       "      <td>0.32</td>\n",
       "      <td>9.78</td>\n",
       "      <td>7.02</td>\n",
       "      <td>13.58</td>\n",
       "      <td>18.0</td>\n",
       "      <td>40.5</td>\n",
       "    </tr>\n",
       "    <tr>\n",
       "      <th>2</th>\n",
       "      <td>1960-01-03</td>\n",
       "      <td>6.94</td>\n",
       "      <td>10.17</td>\n",
       "      <td>6.79</td>\n",
       "      <td>12.28</td>\n",
       "      <td>18.0</td>\n",
       "      <td>40.5</td>\n",
       "    </tr>\n",
       "    <tr>\n",
       "      <th>3</th>\n",
       "      <td>1960-01-04</td>\n",
       "      <td>4.47</td>\n",
       "      <td>12.14</td>\n",
       "      <td>10.10</td>\n",
       "      <td>14.95</td>\n",
       "      <td>18.0</td>\n",
       "      <td>40.5</td>\n",
       "    </tr>\n",
       "    <tr>\n",
       "      <th>4</th>\n",
       "      <td>1960-01-05</td>\n",
       "      <td>0.00</td>\n",
       "      <td>11.10</td>\n",
       "      <td>9.04</td>\n",
       "      <td>12.88</td>\n",
       "      <td>18.0</td>\n",
       "      <td>40.5</td>\n",
       "    </tr>\n",
       "  </tbody>\n",
       "</table>\n",
       "</div>"
      ],
      "text/plain": [
       "    datetime  RR_mm_2  t2m_celsius_mean_2  t2m_celsius_min_2  \\\n",
       "0 1960-01-01     0.00               11.40               7.60   \n",
       "1 1960-01-02     0.32                9.78               7.02   \n",
       "2 1960-01-03     6.94               10.17               6.79   \n",
       "3 1960-01-04     4.47               12.14              10.10   \n",
       "4 1960-01-05     0.00               11.10               9.04   \n",
       "\n",
       "   t2m_celsius_max_2  longitude_2  latitude_2  \n",
       "0              14.44         18.0        40.5  \n",
       "1              13.58         18.0        40.5  \n",
       "2              12.28         18.0        40.5  \n",
       "3              14.95         18.0        40.5  \n",
       "4              12.88         18.0        40.5  "
      ]
     },
     "execution_count": 18,
     "metadata": {},
     "output_type": "execute_result"
    }
   ],
   "source": [
    "agg_test2.head()"
   ]
  },
  {
   "cell_type": "code",
   "execution_count": null,
   "id": "a4e2d4af",
   "metadata": {},
   "outputs": [],
   "source": []
  },
  {
   "cell_type": "code",
   "execution_count": 19,
   "id": "075bda99",
   "metadata": {},
   "outputs": [
    {
     "ename": "NameError",
     "evalue": "name 'agg_test' is not defined",
     "output_type": "error",
     "traceback": [
      "\u001b[1;31m---------------------------------------------------------------------------\u001b[0m",
      "\u001b[1;31mNameError\u001b[0m                                 Traceback (most recent call last)",
      "Cell \u001b[1;32mIn[19], line 1\u001b[0m\n\u001b[1;32m----> 1\u001b[0m agg_test[[\u001b[38;5;124m'\u001b[39m\u001b[38;5;124mRR_mm_1\u001b[39m\u001b[38;5;124m'\u001b[39m,\u001b[38;5;124m'\u001b[39m\u001b[38;5;124mRR_mm_2\u001b[39m\u001b[38;5;124m'\u001b[39m]]\u001b[38;5;241m.\u001b[39mcorr()\n",
      "\u001b[1;31mNameError\u001b[0m: name 'agg_test' is not defined"
     ]
    }
   ],
   "source": [
    "agg_test[['RR_mm_1','RR_mm_2']].corr()"
   ]
  },
  {
   "cell_type": "code",
   "execution_count": null,
   "id": "c28e65d8",
   "metadata": {},
   "outputs": [],
   "source": [
    "agg_test[['t2m_celsius_mean_1','t2m_celsius_mean_2']].corr()"
   ]
  },
  {
   "cell_type": "code",
   "execution_count": null,
   "id": "097030f9",
   "metadata": {},
   "outputs": [],
   "source": [
    "agg_test[['t2m_celsius_min_1','t2m_celsius_min_2']].corr()"
   ]
  },
  {
   "cell_type": "code",
   "execution_count": null,
   "id": "acc620db",
   "metadata": {},
   "outputs": [],
   "source": [
    "agg_test[['t2m_celsius_max_1','t2m_celsius_max_2']].corr()"
   ]
  },
  {
   "cell_type": "code",
   "execution_count": 20,
   "id": "ac836eb3",
   "metadata": {},
   "outputs": [],
   "source": [
    "puglia2_yearly_aggregate = (daily_aggregate_puglia2\n",
    "                            .groupby(['year'])\n",
    "                            .agg(\n",
    "                                RR_yearly_sum=('RR_mm', 'sum'),\n",
    "                                t2m_celsius_yearly_mean=('t2m_celsius_mean', 'mean'),\n",
    "                                t2m_celsius_yearly_min=('t2m_celsius_min', 'min'),\n",
    "                                t2m_celsius_yearly_max=('t2m_celsius_max', 'max'),\n",
    "                                ).reset_index()\n",
    "                                )\n",
    "\n",
    "puglia1_yearly_aggregate = (daily_aggregate_puglia1\n",
    "                            .groupby(['year'])\n",
    "                            .agg(\n",
    "                                RR_yearly_sum=('RR_mm', 'sum'),\n",
    "                                t2m_celsius_yearly_mean=('t2m_celsius_mean', 'mean'),\n",
    "                                t2m_celsius_yearly_min=('t2m_celsius_min', 'min'),\n",
    "                                t2m_celsius_yearly_max=('t2m_celsius_max', 'max'),\n",
    "                                ).reset_index()\n",
    "                                )"
   ]
  },
  {
   "cell_type": "code",
   "execution_count": 27,
   "id": "a7feff57",
   "metadata": {},
   "outputs": [
    {
     "data": {
      "image/png": "[encoded data removed]",
      "text/plain": [
       "<Figure size 1200x600 with 1 Axes>"
      ]
     },
     "metadata": {},
     "output_type": "display_data"
    }
   ],
   "source": [
    "# plot_rainfall(df, \n",
    "#                   start_year, \n",
    "#                   latest_year, \n",
    "#                   feature = 'total_rainfall', \n",
    "#                   special_year=2022, \n",
    "#                   title_label ='Total Rainfall',\n",
    "#                   year_shift = False,\n",
    "#                   fig_size = (12,6),\n",
    "#                   orientation = 'v',\n",
    "#                   rotation_x_label = 0):\n",
    "from src.data_plotting import plot_rainfall\n",
    "plot_rainfall(puglia2_yearly_aggregate,\n",
    "              start_year=1960,latest_year=2024,feature='RR_yearly_sum',\n",
    "              special_year=2022, title_label='Total Rainfall in Puglia 2',\n",
    "              rotation_x_label=70)"
   ]
  },
  {
   "cell_type": "code",
   "execution_count": 29,
   "id": "428bf2dd",
   "metadata": {},
   "outputs": [
    {
     "data": {
      "image/png": "[encoded data removed]",
      "text/plain": [
       "<Figure size 1400x800 with 1 Axes>"
      ]
     },
     "metadata": {},
     "output_type": "display_data"
    }
   ],
   "source": [
    "plot_rainfall(puglia1_yearly_aggregate,\n",
    "              start_year=1960,latest_year=2025,feature='RR_yearly_sum',\n",
    "              special_year=2026, title_label='Total Rainfall in Puglia 1',\n",
    "              rotation_x_label=70,\n",
    "              fig_size=(14,8))"
   ]
  },
  {
   "cell_type": "code",
   "execution_count": null,
   "id": "772e374f",
   "metadata": {},
   "outputs": [],
   "source": []
  },
  {
   "cell_type": "code",
   "execution_count": null,
   "id": "99fbe70b",
   "metadata": {},
   "outputs": [],
   "source": []
  },
  {
   "cell_type": "code",
   "execution_count": null,
   "id": "471bd549",
   "metadata": {},
   "outputs": [],
   "source": []
  },
  {
   "cell_type": "code",
   "execution_count": null,
   "id": "342e759a",
   "metadata": {},
   "outputs": [],
   "source": []
  },
  {
   "cell_type": "code",
   "execution_count": null,
   "id": "a757cc93",
   "metadata": {},
   "outputs": [],
   "source": []
  },
  {
   "cell_type": "code",
   "execution_count": null,
   "id": "8a8fc6c7",
   "metadata": {},
   "outputs": [],
   "source": []
  },
  {
   "cell_type": "code",
   "execution_count": null,
   "id": "566c457f",
   "metadata": {},
   "outputs": [],
   "source": []
  },
  {
   "cell_type": "code",
   "execution_count": null,
   "id": "925b1188",
   "metadata": {},
   "outputs": [],
   "source": []
  },
  {
   "cell_type": "code",
   "execution_count": null,
   "id": "1f82bcad",
   "metadata": {},
   "outputs": [],
   "source": [
    "test1 = transform_data_datetime_test(test1, date_column='valid_time', datetime_format=False).head()"
   ]
  },
  {
   "cell_type": "code",
   "execution_count": null,
   "id": "e16549a1",
   "metadata": {},
   "outputs": [],
   "source": [
    "test1"
   ]
  },
  {
   "cell_type": "code",
   "execution_count": null,
   "id": "e784deb2",
   "metadata": {},
   "outputs": [],
   "source": []
  },
  {
   "cell_type": "code",
   "execution_count": null,
   "id": "2fee3fcf",
   "metadata": {},
   "outputs": [],
   "source": [
    "df_daily_puglia_01 = (df_puglia_01[df_puglia_01['year'] >=1960]\n",
    " .groupby('date')\n",
    " .agg(\n",
    "     daily_RR_sum = ('RR_mm', 'sum'),\n",
    "     daily_tp_sum = ('tp', 'sum'),\n",
    "     daily_t2m_mean = ('t2m_celsius', 'mean'),\n",
    "     daily_t2m_max = ('t2m_celsius', 'max'),\n",
    "     daily_t2m_min = ('t2m_celsius', 'min')\n",
    " ).reset_index()\n",
    ")\n",
    "\n",
    "# Round only the selected columns to 2 decimal places\n",
    "df_daily_puglia_01[['daily_RR_sum', 'daily_t2m_mean', 'daily_t2m_max', 'daily_t2m_min']] = df_daily_puglia_01[['daily_RR_sum', 'daily_t2m_mean', 'daily_t2m_max', 'daily_t2m_min']].round(2)"
   ]
  },
  {
   "cell_type": "code",
   "execution_count": null,
   "id": "f1717616",
   "metadata": {},
   "outputs": [],
   "source": [
    "df_daily_puglia_01.head()"
   ]
  },
  {
   "cell_type": "code",
   "execution_count": null,
   "id": "74afbf69",
   "metadata": {},
   "outputs": [],
   "source": [
    "def transform_data_datetime_test(df, date_column='DATE', datetime_format=True):   \n",
    "    df = df.copy()\n",
    "    if datetime_format:\n",
    "        df['year'] = df[date_column].dt.year\n",
    "        df['month int'] = df[date_column].dt.month\n",
    "        df['month'] = df[date_column].dt.strftime('%b')\n",
    "        df['day'] = df[date_column].dt.day\n",
    "\n",
    "        return df\n",
    "    df['datetime'] = pd.to_datetime(df[date_column], format=\"%Y%m%d\")\n",
    "    df['year'] = df['datetime'].dt.year\n",
    "    df['month int'] = df['datetime'].dt.month\n",
    "    df['month'] = df['datetime'].dt.strftime('%b')\n",
    "    df['day'] = df['datetime'].dt.day\n",
    "\n",
    "    return df\n",
    "\n",
    "\n",
    "transform_data_datetime_test(df_daily_puglia_01.head(), 'date')"
   ]
  },
  {
   "cell_type": "code",
   "execution_count": null,
   "id": "77644829",
   "metadata": {},
   "outputs": [],
   "source": [
    "# Meteo Blu\n",
    "\n",
    "# location,Basel,Basel\n",
    "# lat,47.75000,47.75000\n",
    "# lon,7.50000,7.50000\n",
    "# asl,363.653,363.653\n",
    "# variable,Temperature,Precipitation Total\n",
    "# unit,°C,mm\n",
    "# level,2 m elevation corrected,sfc\n",
    "# resolution,hourly,hourly\n",
    "# aggregation,None,None\n",
    "\n",
    "\n",
    "puglia_data = pd.read_csv('./data/puglia/meteo_blu.csv')\n",
    "puglia_data.head()\n"
   ]
  },
  {
   "cell_type": "code",
   "execution_count": null,
   "id": "80555b57",
   "metadata": {},
   "outputs": [],
   "source": [
    "puglia_data['datetime'] = pd.to_datetime(puglia_data['timestamp'],errors='coerce')\n",
    "puglia_data['year'] = puglia_data['datetime'].dt.year\n",
    "puglia_data['month'] = puglia_data['datetime'].dt.month \n",
    "puglia_data['day'] = puglia_data['datetime'].dt.day\n",
    "puglia_data['hour'] = puglia_data['datetime'].dt.hour\n",
    "\n",
    "puglia_data.head()\n"
   ]
  },
  {
   "cell_type": "code",
   "execution_count": null,
   "id": "30edc042",
   "metadata": {},
   "outputs": [],
   "source": [
    "(puglia_data\n",
    " .groupby(['year'], observed = True)['Basel Precipitation Total']\n",
    " .sum()\n",
    " .reset_index()\n",
    ")['Basel Precipitation Total'].mean()\n"
   ]
  },
  {
   "cell_type": "code",
   "execution_count": null,
   "id": "bc0f4900",
   "metadata": {},
   "outputs": [],
   "source": []
  },
  {
   "cell_type": "code",
   "execution_count": null,
   "id": "1e0f1a86",
   "metadata": {},
   "outputs": [],
   "source": [
    "# http://www.webgis.arpa.puglia.it/meteo/index.php\n",
    "# https://scia.isprambiente.it/\n",
    "\n",
    "df_data = pd.read_csv('./data/puglia/dati_meteo_stazione_foggia_2017.csv',\n",
    "                       sep=';')\n",
    "print(df_data.shape)\n",
    "data = df_data[['data', 'precipitazione']].copy()\n",
    "data['datetime'] = pd.to_datetime(data['data'])\n",
    "data['date'] = data['datetime'].dt.date\n",
    "data['date_str'] = data['datetime'].dt.strftime('%Y-%m-%d')\n"
   ]
  },
  {
   "cell_type": "code",
   "execution_count": null,
   "id": "a06a7bb1",
   "metadata": {},
   "outputs": [],
   "source": [
    "data.isna().sum()"
   ]
  },
  {
   "cell_type": "code",
   "execution_count": null,
   "id": "d802f225",
   "metadata": {},
   "outputs": [],
   "source": [
    "c = data[data['precipitazione'].isna()]['date_str'].value_counts()\n",
    "len(c[c == 48])"
   ]
  },
  {
   "cell_type": "code",
   "execution_count": null,
   "id": "1b3a28e4",
   "metadata": {},
   "outputs": [],
   "source": [
    "base = \"./data/puglia/dati_meteo_stazione_foggia_\"\n",
    "ext = '.csv'\n",
    "\n",
    "for i in np.arange(2010,2026):\n",
    "    filename = base + str(i) + ext\n",
    "    df_data = pd.read_csv(filename,sep=';')\n",
    "    data = df_data[['data', 'precipitazione']].copy()\n",
    "    data['datetime'] = pd.to_datetime(data['data'])\n",
    "    data['date'] = data['datetime'].dt.date\n",
    "    data['date_str'] = data['datetime'].dt.strftime('%Y-%m-%d')\n",
    "    c = data[data['precipitazione'].isna()]['date_str'].value_counts()\n",
    "    print(\"year = {} null days = {}\".format((i), len(c[c == 48])))"
   ]
  },
  {
   "cell_type": "code",
   "execution_count": null,
   "id": "79a07b78",
   "metadata": {},
   "outputs": [],
   "source": [
    "base = \"./data/puglia/dati_meteo_stazione_bari_\"\n",
    "ext = '.csv'\n",
    "\n",
    "for i in np.arange(2010,2026):\n",
    "    filename = base + str(i) + ext\n",
    "    df_data = pd.read_csv(filename,sep=';')\n",
    "    data = df_data[['data', 'precipitazione']].copy()\n",
    "    data['datetime'] = pd.to_datetime(data['data'])\n",
    "    data['date'] = data['datetime'].dt.date\n",
    "    data['date_str'] = data['datetime'].dt.strftime('%Y-%m-%d')\n",
    "    c = data[data['precipitazione'].isna()]['date_str'].value_counts()\n",
    "    print(\"year = {} null days = {}\".format((i), len(c[c == 48])))"
   ]
  },
  {
   "cell_type": "code",
   "execution_count": null,
   "id": "7682cc26",
   "metadata": {},
   "outputs": [],
   "source": [
    "base = \"./data/puglia/dati_meteo_stazione_monopoli_\"\n",
    "ext = '.csv'\n",
    "\n",
    "all_dataframes = []\n",
    "\n",
    "for i in np.arange(2017,2026):\n",
    "    filename = base + str(i) + ext\n",
    "    df_data = pd.read_csv(filename,sep=';')\n",
    "    data = df_data[['data', 'precipitazione']].copy()\n",
    "    data['datetime'] = pd.to_datetime(data['data'])\n",
    "    data['date'] = data['datetime'].dt.date\n",
    "    data['date_str'] = data['datetime'].dt.strftime('%Y-%m-%d')\n",
    "    c = data[data['precipitazione'].isna()]['date_str'].value_counts()\n",
    "    print(\"year = {} null days = {}\".format((i), len(c[c == 24])))\n",
    "    all_dataframes.append(data)\n",
    "\n",
    "monopoli_daily_rainfall = pd.concat(all_dataframes, ignore_index=True)"
   ]
  },
  {
   "cell_type": "code",
   "execution_count": null,
   "id": "6f10e047",
   "metadata": {},
   "outputs": [],
   "source": [
    "base = \"./data/puglia/dati_meteo_stazione_brindisi_\"\n",
    "ext = '.csv'\n",
    "\n",
    "for i in np.arange(2010,2026):\n",
    "    filename = base + str(i) + ext\n",
    "    df_data = pd.read_csv(filename,sep=';')\n",
    "    data = df_data[['data', 'precipitazione']].copy()\n",
    "    data['datetime'] = pd.to_datetime(data['data'])\n",
    "    data['date'] = data['datetime'].dt.date\n",
    "    data['date_str'] = data['datetime'].dt.strftime('%Y-%m-%d')\n",
    "    c = data[data['precipitazione'].isna()]['date_str'].value_counts()\n",
    "    print(\"year = {} null days = {}\".format((i), len(c[c == 48])))"
   ]
  },
  {
   "cell_type": "code",
   "execution_count": null,
   "id": "41323e4c",
   "metadata": {},
   "outputs": [],
   "source": [
    "base = \"./data/puglia/dati_meteo_stazione_lecce_\"\n",
    "ext = '.csv'\n",
    "\n",
    "for i in np.arange(2010,2026):\n",
    "    filename = base + str(i) + ext\n",
    "    df_data = pd.read_csv(filename,sep=';')\n",
    "    data = df_data[['data', 'precipitazione']].copy()\n",
    "    data['datetime'] = pd.to_datetime(data['data'])\n",
    "    data['date'] = data['datetime'].dt.date\n",
    "    data['date_str'] = data['datetime'].dt.strftime('%Y-%m-%d')\n",
    "    c = data[data['precipitazione'].isna()]['date_str'].value_counts()\n",
    "    print(\"year = {} null days = {}\".format((i), len(c[c == 48])))"
   ]
  },
  {
   "cell_type": "markdown",
   "id": "9dd50b3b",
   "metadata": {},
   "source": [
    "### Ispra Data"
   ]
  },
  {
   "cell_type": "markdown",
   "id": "9b83a4ef",
   "metadata": {},
   "source": [
    "- [ISPRA data](https://scia.isprambiente.it/)\n",
    "\n",
    "```\n",
    "Variabile : Precipitazioni cumulate\n",
    "Stazione : MONTE S. ANGELO longitudine : 15.95 latitudine : 41.7\n",
    "```"
   ]
  },
  {
   "cell_type": "code",
   "execution_count": null,
   "id": "860737f0",
   "metadata": {},
   "outputs": [],
   "source": [
    "msa_data = pd.read_csv('./data/puglia/PrecipitazionicumulateMSA.csv')\n",
    "print(msa_data.shape)\n",
    "msa_data.head()"
   ]
  },
  {
   "cell_type": "code",
   "execution_count": null,
   "id": "9c07ef7f",
   "metadata": {},
   "outputs": [],
   "source": [
    "msa_data.isna().sum()"
   ]
  },
  {
   "cell_type": "code",
   "execution_count": null,
   "id": "f42bd360",
   "metadata": {},
   "outputs": [],
   "source": [
    "msa_data['datetime'] = pd.to_datetime(msa_data['day'])\n",
    "msa_data['year'] = msa_data['datetime'].dt.year\n",
    "msa_data['month int'] = msa_data['datetime'].dt.month\n",
    "msa_data['month'] = msa_data['datetime'].dt.strftime('%b')\n",
    "msa_data['day'] = msa_data['datetime'].dt.day"
   ]
  },
  {
   "cell_type": "code",
   "execution_count": null,
   "id": "80992e78",
   "metadata": {},
   "outputs": [],
   "source": [
    "msa_data[msa_data['datetime'] == '1970-03-03']"
   ]
  },
  {
   "cell_type": "markdown",
   "id": "a718ac36",
   "metadata": {},
   "source": [
    "As we are considering data ranging from 2010 to 2023 included, the dataset contains few `nan`s values that we can handle separately."
   ]
  },
  {
   "cell_type": "code",
   "execution_count": null,
   "id": "a4ca6244",
   "metadata": {},
   "outputs": [],
   "source": [
    "(msa_data[msa_data['year'] >= 2010]\n",
    " .groupby(['year', 'month'])['VALORE']\n",
    " .apply(lambda x: x.isnull().sum())\n",
    " .reset_index()\n",
    " .sort_values(by = ['VALORE'], ascending=False)\n",
    " .reset_index(drop = True)\n",
    ")[:15]"
   ]
  },
  {
   "cell_type": "markdown",
   "id": "63562b41",
   "metadata": {},
   "source": [
    "For single days, we can fill the `nans` with the average between the previous and next day. For consecutive days, we can choose different strategies."
   ]
  },
  {
   "cell_type": "code",
   "execution_count": null,
   "id": "5cd46d74",
   "metadata": {},
   "outputs": [],
   "source": [
    "# September 2023\n",
    "\n",
    "msa_data.loc[(msa_data['year'] == 2023) &\n",
    "         (msa_data['month'] == 'Sep')]"
   ]
  },
  {
   "cell_type": "markdown",
   "id": "89121816",
   "metadata": {},
   "source": [
    "For September 2023, it is no harm in filling the `NaN`s with 0"
   ]
  },
  {
   "cell_type": "code",
   "execution_count": null,
   "id": "a19217e9",
   "metadata": {},
   "outputs": [],
   "source": [
    "msa_data.loc[((msa_data['year'] == 2023) & (msa_data['month'] == 'Sep')) & (msa_data['VALORE'].isna()), 'VALORE'] = 0\n",
    "\n",
    "msa_data.loc[(msa_data['year'] == 2023) &\n",
    "         (msa_data['month'] == 'Sep')]"
   ]
  },
  {
   "cell_type": "markdown",
   "id": "7d05b3aa",
   "metadata": {},
   "source": [
    "November 2018"
   ]
  },
  {
   "cell_type": "code",
   "execution_count": null,
   "id": "e262593a",
   "metadata": {},
   "outputs": [],
   "source": [
    "# November 2018\n",
    "\n",
    "msa_data.loc[(msa_data['year'] == 2018) &\n",
    "         (msa_data['month'] == 'Nov')]"
   ]
  },
  {
   "cell_type": "markdown",
   "id": "0762f470",
   "metadata": {},
   "source": [
    "Same as before"
   ]
  },
  {
   "cell_type": "code",
   "execution_count": null,
   "id": "43ad2c94",
   "metadata": {},
   "outputs": [],
   "source": [
    "msa_data.loc[((msa_data['year'] == 2018) & (msa_data['month'] == 'Nov')) & (msa_data['VALORE'].isna()), 'VALORE'] = 0\n",
    "\n",
    "msa_data.loc[(msa_data['year'] == 2018) &\n",
    "         (msa_data['month'] == 'Nov')]"
   ]
  },
  {
   "cell_type": "markdown",
   "id": "a269e9ec",
   "metadata": {},
   "source": [
    "May 2019"
   ]
  },
  {
   "cell_type": "code",
   "execution_count": null,
   "id": "c4ec31cd",
   "metadata": {},
   "outputs": [],
   "source": [
    "# May 2019\n",
    "\n",
    "msa_data.loc[(msa_data['year'] == 2019) &\n",
    "         (msa_data['month'] == 'May')]"
   ]
  },
  {
   "cell_type": "markdown",
   "id": "96b475de",
   "metadata": {},
   "source": [
    "In this case, the simplest solution would be to fill the values with the Monthly mean computed outside the 4 days."
   ]
  },
  {
   "cell_type": "code",
   "execution_count": null,
   "id": "6965c5dc",
   "metadata": {},
   "outputs": [],
   "source": [
    "\n",
    "monthly_mean = msa_data.loc[(msa_data['year'] == 2019) &\n",
    "                            (msa_data['month'] == 'May')]['VALORE'].mean()\n",
    "\n",
    "msa_data.loc[((msa_data['year'] == 2019) & (msa_data['month'] == 'May')) & (msa_data['VALORE'].isna()), 'VALORE'] = monthly_mean\n",
    "\n",
    "msa_data.loc[(msa_data['year'] == 2019) &\n",
    "         (msa_data['month'] == 'May')]\n"
   ]
  },
  {
   "cell_type": "markdown",
   "id": "97b1befa",
   "metadata": {},
   "source": [
    "February 2021"
   ]
  },
  {
   "cell_type": "code",
   "execution_count": null,
   "id": "3a00cf11",
   "metadata": {},
   "outputs": [],
   "source": [
    "msa_data.loc[(msa_data['year'] == 2021) & (msa_data['month'] == 'Feb')]"
   ]
  },
  {
   "cell_type": "markdown",
   "id": "bef76542",
   "metadata": {},
   "source": [
    "Here, we can fill with 0 the 20th and 21st of February, and for 11 and 12 we use the monthly mean."
   ]
  },
  {
   "cell_type": "code",
   "execution_count": null,
   "id": "ad81e489",
   "metadata": {},
   "outputs": [],
   "source": [
    "msa_data.loc[((msa_data['year'] == 2021) & (msa_data['month'] == 'Feb')) & \n",
    "             ((msa_data['day'] >=11) & (msa_data['day'] <=12)), 'VALORE'] = 0\n",
    "\n",
    "monthly_mean = monthly_mean = msa_data.loc[(msa_data['year'] == 2021) &\n",
    "                            (msa_data['month'] == 'Feb')]['VALORE'].mean()\n",
    "\n",
    "msa_data.loc[((msa_data['year'] == 2021) & (msa_data['month'] == 'Feb')) & \n",
    "             ((msa_data['day'] >=20) & (msa_data['day'] <=21)), 'VALORE'] = monthly_mean\n",
    "\n",
    "\n",
    "msa_data.loc[(msa_data['year'] == 2021) & (msa_data['month'] == 'Feb')]"
   ]
  },
  {
   "cell_type": "markdown",
   "id": "27142946",
   "metadata": {},
   "source": [
    "Let's now see how many `NaN`s have been left."
   ]
  },
  {
   "cell_type": "code",
   "execution_count": null,
   "id": "ab6a9489",
   "metadata": {},
   "outputs": [],
   "source": [
    "(msa_data\n",
    " .groupby(['year', 'month'])['VALORE']\n",
    " .apply(lambda x: x.isnull().sum())\n",
    " .reset_index()\n",
    " .sort_values(by = ['VALORE'], ascending=False)\n",
    " .reset_index(drop = True)\n",
    ")[:15]"
   ]
  },
  {
   "cell_type": "markdown",
   "id": "ff541ff0",
   "metadata": {},
   "source": [
    "We can now fill the remaining `NaN`s with the mean."
   ]
  },
  {
   "cell_type": "code",
   "execution_count": null,
   "id": "3126638e",
   "metadata": {},
   "outputs": [],
   "source": [
    "msa_data.head()"
   ]
  },
  {
   "cell_type": "code",
   "execution_count": null,
   "id": "9247fbdc",
   "metadata": {},
   "outputs": [],
   "source": [
    "msa_data.columns"
   ]
  },
  {
   "cell_type": "code",
   "execution_count": null,
   "id": "a3b63457",
   "metadata": {},
   "outputs": [],
   "source": [
    "msa_data = msa_data.sort_values('datetime').reset_index(drop = True).copy()\n",
    "msa_data['VALORE'] = msa_data['VALORE'].interpolate('linear')\n",
    "\n",
    "msa_data.isna().sum()"
   ]
  },
  {
   "cell_type": "markdown",
   "id": "fd15f5d7",
   "metadata": {},
   "source": [
    "### MSA yearly precipitation"
   ]
  },
  {
   "cell_type": "code",
   "execution_count": null,
   "id": "67240bb6",
   "metadata": {},
   "outputs": [],
   "source": [
    "msa_yearly_rainfall = (msa_data\n",
    "                       .groupby('year', observed=True)['VALORE']\n",
    "                       .sum()\n",
    "                       .reset_index()\n",
    "                       .rename(columns={'VALORE' : 'RR_mm'})\n",
    "                       )\n",
    "\n",
    "msa_yearly_rainfall.head()"
   ]
  },
  {
   "cell_type": "code",
   "execution_count": null,
   "id": "27e54caf",
   "metadata": {},
   "outputs": [],
   "source": [
    "from src.data_plotting import plot_rainfall\n",
    "\n",
    "\n",
    "plot_rainfall(msa_yearly_rainfall, \n",
    "              start_year= 1960, \n",
    "              latest_year = 2024, \n",
    "              feature='RR_mm', \n",
    "              special_year=1997, \n",
    "              title_label='MSA Yearly Precipitation', year_shift = False,\n",
    "              fig_size=(16,5),\n",
    "              rotation_x_label=75)"
   ]
  },
  {
   "cell_type": "markdown",
   "id": "ce29f2ef",
   "metadata": {},
   "source": [
    "## Amendola"
   ]
  },
  {
   "cell_type": "markdown",
   "id": "a4e10562",
   "metadata": {},
   "source": [
    "```\n",
    "Variabile : Precipitazioni cumulate\n",
    "Stazione : AMENDOLA longitudine : 15.717 latitudine : 41.533\n",
    "```"
   ]
  },
  {
   "cell_type": "code",
   "execution_count": null,
   "id": "9e79c5d2",
   "metadata": {},
   "outputs": [],
   "source": [
    "amendola_data = pd.read_csv('./data/puglia/PrecipitazionicumulateAmendola.csv')\n",
    "print(amendola_data.shape)\n",
    "amendola_data.head()\n"
   ]
  },
  {
   "cell_type": "code",
   "execution_count": null,
   "id": "20728763",
   "metadata": {},
   "outputs": [],
   "source": [
    "amendola_data.isna().sum()"
   ]
  },
  {
   "cell_type": "code",
   "execution_count": null,
   "id": "b308acf3",
   "metadata": {},
   "outputs": [],
   "source": [
    "amendola_data['datetime'] = pd.to_datetime(amendola_data['Date'])\n",
    "amendola_data['year'] = amendola_data['datetime'].dt.year\n",
    "amendola_data['month int'] = amendola_data['datetime'].dt.month\n",
    "amendola_data['month'] = amendola_data['datetime'].dt.strftime('%b')\n",
    "amendola_data['day'] = amendola_data['datetime'].dt.day"
   ]
  },
  {
   "cell_type": "code",
   "execution_count": null,
   "id": "39b49e95",
   "metadata": {},
   "outputs": [],
   "source": [
    "(amendola_data\n",
    " .groupby(['year', 'month'])['RR_mm']\n",
    " .apply(lambda x: x.isnull().sum())\n",
    " .reset_index()\n",
    " .sort_values(by = ['RR_mm'], ascending=False)\n",
    " .reset_index(drop = True)\n",
    ")[:15]"
   ]
  },
  {
   "cell_type": "code",
   "execution_count": null,
   "id": "290beeac",
   "metadata": {},
   "outputs": [],
   "source": [
    "amendola_data['RR_mm'] = amendola_data['RR_mm'].interpolate('linear')"
   ]
  },
  {
   "cell_type": "code",
   "execution_count": null,
   "id": "bae67208",
   "metadata": {},
   "outputs": [],
   "source": [
    "amendola_data.head()"
   ]
  },
  {
   "cell_type": "code",
   "execution_count": null,
   "id": "991512da",
   "metadata": {},
   "outputs": [],
   "source": [
    "amendola_yearly_rainfall = (amendola_data\n",
    "                       .groupby('year', observed=True)['RR_mm']\n",
    "                       .sum()\n",
    "                       .reset_index()\n",
    "                       )\n",
    "\n",
    "amendola_yearly_rainfall.head()"
   ]
  },
  {
   "cell_type": "code",
   "execution_count": null,
   "id": "a64dd17c",
   "metadata": {},
   "outputs": [],
   "source": [
    "plot_rainfall(amendola_yearly_rainfall, \n",
    "              start_year= 1960, \n",
    "              latest_year = 2024, \n",
    "              feature='RR_mm', \n",
    "              special_year=1997, \n",
    "              title_label='MSA Yearly Precipitation', year_shift = False,\n",
    "              fig_size=(16,5),\n",
    "              rotation_x_label=75)\n"
   ]
  },
  {
   "cell_type": "code",
   "execution_count": null,
   "id": "50ac3e5c",
   "metadata": {},
   "outputs": [],
   "source": [
    "plt.figure(figsize=(14, 6))\n",
    "\n",
    "sns.lineplot(data = amendola_yearly_rainfall[amendola_yearly_rainfall['year'] >= 2000],\n",
    "                x = 'year',\n",
    "                y = 'RR_mm'\n",
    ")\n",
    "\n",
    "sns.lineplot(data = msa_yearly_rainfall[msa_yearly_rainfall['year'] >= 2000],\n",
    "                x = 'year',\n",
    "                y = 'RR_mm'\n",
    ")"
   ]
  },
  {
   "cell_type": "markdown",
   "id": "e9944928",
   "metadata": {},
   "source": [
    "## Web Crawler"
   ]
  },
  {
   "cell_type": "code",
   "execution_count": null,
   "id": "f28a7d10",
   "metadata": {},
   "outputs": [],
   "source": [
    "import requests\n",
    "from bs4 import BeautifulSoup\n",
    "import time\n",
    "import os\n",
    "from pathlib import Path\n",
    "import logging\n",
    "from urllib.parse import urljoin\n",
    "import re\n",
    "\n",
    "class ARPAPugliaCrawler:\n",
    "    def __init__(self, base_url=\"http://www.webgis.arpa.puglia.it/meteo/index.php\", delay=1):\n",
    "        self.base_url = base_url\n",
    "        self.session = requests.Session()\n",
    "        self.delay = delay  # Delay between requests to be respectful\n",
    "        self.download_dir = \"arpa_puglia_data\"\n",
    "        \n",
    "        # Setup logging\n",
    "        logging.basicConfig(\n",
    "            level=logging.INFO,\n",
    "            format='%(asctime)s - %(levelname)s - %(message)s'\n",
    "        )\n",
    "        self.logger = logging.getLogger(__name__)\n",
    "        \n",
    "        # Create download directory\n",
    "        Path(self.download_dir).mkdir(exist_ok=True)\n",
    "        \n",
    "    def get_page_content(self):\n",
    "        \"\"\"Fetch the main page content\"\"\"\n",
    "        try:\n",
    "            response = self.session.get(self.base_url)\n",
    "            response.raise_for_status()\n",
    "            return BeautifulSoup(response.content, 'html.parser')\n",
    "        except requests.RequestException as e:\n",
    "            self.logger.error(f\"Error fetching main page: {e}\")\n",
    "            return None\n",
    "    \n",
    "    def extract_dropdown_options(self, soup):\n",
    "        \"\"\"Extract all options from location and year dropdowns\"\"\"\n",
    "        locations = []\n",
    "        years = []\n",
    "        \n",
    "        # Find all select elements\n",
    "        selects = soup.find_all('select')\n",
    "        self.logger.info(f\"Found {len(selects)} select elements\")\n",
    "        \n",
    "        for i, select in enumerate(selects):\n",
    "            select_name = select.get('name', '').lower()\n",
    "            select_id = select.get('id', '').lower()\n",
    "            options = select.find_all('option')\n",
    "            option_data = [(opt.get('value'), opt.text.strip()) for opt in options if opt.get('value')]\n",
    "            \n",
    "            self.logger.info(f\"Select {i}: name='{select_name}', id='{select_id}', options={len(option_data)}\")\n",
    "            \n",
    "            # Log first few options for debugging\n",
    "            if option_data:\n",
    "                sample_options = option_data[:3]\n",
    "                self.logger.info(f\"  Sample options: {sample_options}\")\n",
    "            \n",
    "            # Try to identify location dropdown\n",
    "            if any(keyword in select_name or keyword in select_id \n",
    "                   for keyword in ['location', 'station', 'stazione', 'localita']):\n",
    "                locations = option_data\n",
    "                self.logger.info(f\"Identified as locations dropdown: {len(locations)} items\")\n",
    "                \n",
    "            # Try to identify year dropdown\n",
    "            elif any(keyword in select_name or keyword in select_id \n",
    "                    for keyword in ['year', 'anno', 'data', 'time']):\n",
    "                years = option_data\n",
    "                self.logger.info(f\"Identified as years dropdown: {len(years)} items\")\n",
    "        \n",
    "        # If we couldn't identify by name/id, try by content analysis\n",
    "        if not locations or not years:\n",
    "            self.logger.info(\"Attempting content-based identification...\")\n",
    "            \n",
    "            for i, select in enumerate(selects):\n",
    "                options = select.find_all('option')\n",
    "                option_texts = [opt.text.strip() for opt in options if opt.get('value')]\n",
    "                option_values = [opt.get('value') for opt in options if opt.get('value')]\n",
    "                \n",
    "                if not option_texts:\n",
    "                    continue\n",
    "                \n",
    "                self.logger.info(f\"Analyzing select {i}: {option_texts[:5]}...\")  # Show first 5\n",
    "                \n",
    "                # Check if options look like years (4-digit numbers or contain years)\n",
    "                year_like_count = 0\n",
    "                for text in option_texts:\n",
    "                    if text:\n",
    "                        # Check for exact 4-digit year\n",
    "                        if re.match(r'^\\d{4}$', text):\n",
    "                            year_like_count += 1\n",
    "                        # Check for text containing year pattern\n",
    "                        elif re.search(r'\\b(19|20)\\d{2}\\b', text):\n",
    "                            year_like_count += 1\n",
    "                        # Check for common years\n",
    "                        elif any(year in text for year in ['2020', '2021', '2022', '2023', '2024', '2025']):\n",
    "                            year_like_count += 1\n",
    "                \n",
    "                is_year_dropdown = year_like_count > 0\n",
    "                \n",
    "                if is_year_dropdown and not years:\n",
    "                    years = [(opt.get('value'), opt.text.strip()) \n",
    "                            for opt in options if opt.get('value')]\n",
    "                    self.logger.info(f\"Identified as years by content analysis: {len(years)} items\")\n",
    "                \n",
    "                # If this isn't years and we don't have locations yet, assume it's locations\n",
    "                elif not is_year_dropdown and not locations and option_texts:\n",
    "                    locations = [(opt.get('value'), opt.text.strip()) \n",
    "                               for opt in options if opt.get('value')]\n",
    "                    self.logger.info(f\"Identified as locations by elimination: {len(locations)} items\")\n",
    "        \n",
    "        # Final fallback: if we have exactly 2 dropdowns, assign them\n",
    "        if not years and len(selects) == 2:\n",
    "            self.logger.info(\"Using fallback assignment for 2 dropdowns...\")\n",
    "            for i, select in enumerate(selects):\n",
    "                options = select.find_all('option')\n",
    "                option_data = [(opt.get('value'), opt.text.strip()) for opt in options if opt.get('value')]\n",
    "                \n",
    "                if not locations:\n",
    "                    locations = option_data\n",
    "                    self.logger.info(f\"Assigned select {i} as locations: {len(locations)} items\")\n",
    "                elif not years:\n",
    "                    years = option_data\n",
    "                    self.logger.info(f\"Assigned select {i} as years: {len(years)} items\")\n",
    "        \n",
    "        return locations, years\n",
    "    \n",
    "    def find_form_details(self, soup):\n",
    "        \"\"\"Find form action URL and other required parameters\"\"\"\n",
    "        form = soup.find('form')\n",
    "        if not form:\n",
    "            return None, {}\n",
    "        \n",
    "        action = form.get('action', self.base_url)\n",
    "        if not action.startswith('http'):\n",
    "            action = urljoin(self.base_url, action)\n",
    "        \n",
    "        # Find hidden inputs and other form parameters\n",
    "        hidden_inputs = {}\n",
    "        inputs = form.find_all('input')\n",
    "        for inp in inputs:\n",
    "            if inp.get('type') == 'hidden':\n",
    "                hidden_inputs[inp.get('name')] = inp.get('value', '')\n",
    "        \n",
    "        return action, hidden_inputs\n",
    "    \n",
    "    def download_csv(self, location_value, year_value, form_action, hidden_params):\n",
    "        \"\"\"Download CSV for a specific location and year\"\"\"\n",
    "        try:\n",
    "            # Prepare form data\n",
    "            form_data = hidden_params.copy()\n",
    "            \n",
    "            # Add location and year parameters\n",
    "            # These parameter names might need adjustment based on actual form structure\n",
    "            location_param_names = ['location', 'station', 'stazione', 'localita']\n",
    "            year_param_names = ['year', 'anno', 'data']\n",
    "            \n",
    "            # Try to find the correct parameter names from the form\n",
    "            soup = self.get_page_content()\n",
    "            if soup:\n",
    "                selects = soup.find_all('select')\n",
    "                for select in selects:\n",
    "                    name = select.get('name')\n",
    "                    if name:\n",
    "                        options = select.find_all('option')\n",
    "                        option_values = [opt.get('value') for opt in options if opt.get('value')]\n",
    "                        \n",
    "                        if location_value in option_values:\n",
    "                            form_data[name] = location_value\n",
    "                        elif year_value in option_values:\n",
    "                            form_data[name] = year_value\n",
    "            \n",
    "            # If we couldn't determine parameter names, use common ones\n",
    "            if not any(location_value in str(v) for v in form_data.values()):\n",
    "                form_data['location'] = location_value\n",
    "            if not any(year_value in str(v) for v in form_data.values()):\n",
    "                form_data['year'] = year_value\n",
    "            \n",
    "            # Add CSV download parameter (button name/value)\n",
    "            form_data['download'] = 'csv'  # This might need adjustment\n",
    "            \n",
    "            self.logger.info(f\"Downloading CSV for location: {location_value}, year: {year_value}\")\n",
    "            \n",
    "            response = self.session.post(form_action, data=form_data)\n",
    "            response.raise_for_status()\n",
    "            \n",
    "            # Check if response is actually CSV\n",
    "            content_type = response.headers.get('content-type', '').lower()\n",
    "            if 'csv' in content_type or 'text' in content_type:\n",
    "                # Create filename\n",
    "                filename = f\"arpa_puglia_{location_value}_{year_value}.csv\"\n",
    "                filename = re.sub(r'[^\\w\\-_.]', '_', filename)  # Clean filename\n",
    "                filepath = os.path.join(self.download_dir, filename)\n",
    "                \n",
    "                with open(filepath, 'wb') as f:\n",
    "                    f.write(response.content)\n",
    "                \n",
    "                self.logger.info(f\"Successfully downloaded: {filename}\")\n",
    "                return True\n",
    "            else:\n",
    "                self.logger.warning(f\"Response doesn't appear to be CSV for {location_value}, {year_value}\")\n",
    "                return False\n",
    "                \n",
    "        except requests.RequestException as e:\n",
    "            self.logger.error(f\"Error downloading CSV for {location_value}, {year_value}: {e}\")\n",
    "            return False\n",
    "    \n",
    "    def crawl_all_data(self):\n",
    "        \"\"\"Main method to crawl all data\"\"\"\n",
    "        self.logger.info(\"Starting ARPA Puglia data crawl\")\n",
    "        \n",
    "        # Get main page\n",
    "        soup = self.get_page_content()\n",
    "        if not soup:\n",
    "            self.logger.error(\"Could not fetch main page\")\n",
    "            return\n",
    "        \n",
    "        # Extract dropdown options\n",
    "        locations, years = self.extract_dropdown_options(soup)\n",
    "        \n",
    "        if not locations:\n",
    "            self.logger.error(\"No locations found\")\n",
    "            return\n",
    "        \n",
    "        if not years:\n",
    "            self.logger.error(\"No years found\")\n",
    "            return\n",
    "        \n",
    "        # Find form details\n",
    "        form_action, hidden_params = self.find_form_details(soup)\n",
    "        if not form_action:\n",
    "            self.logger.error(\"Could not find form details\")\n",
    "            return\n",
    "        \n",
    "        self.logger.info(f\"Found {len(locations)} locations and {len(years)} years\")\n",
    "        self.logger.info(f\"Total combinations to download: {len(locations) * len(years)}\")\n",
    "        \n",
    "        # Download all combinations\n",
    "        success_count = 0\n",
    "        total_count = len(locations) * len(years)\n",
    "        \n",
    "        for location_value, location_text in locations:\n",
    "            for year_value, year_text in years:\n",
    "                self.logger.info(f\"Processing {location_text} - {year_text}\")\n",
    "                \n",
    "                if self.download_csv(location_value, year_value, form_action, hidden_params):\n",
    "                    success_count += 1\n",
    "                \n",
    "                # Be respectful with delays\n",
    "                time.sleep(self.delay)\n",
    "        \n",
    "        self.logger.info(f\"Crawl completed. Successfully downloaded {success_count}/{total_count} files\")\n",
    "\n",
    "def main():\n",
    "    \"\"\"Main function to run the crawler\"\"\"\n",
    "    crawler = ARPAPugliaCrawler(delay=2)  # 2 second delay between requests\n",
    "    crawler.crawl_all_data()\n",
    "\n",
    "if __name__ == \"__main__\":\n",
    "    main()"
   ]
  },
  {
   "cell_type": "code",
   "execution_count": null,
   "id": "b527c65f",
   "metadata": {},
   "outputs": [],
   "source": []
  }
 ],
 "metadata": {
  "kernelspec": {
   "display_name": "base",
   "language": "python",
   "name": "python3"
  },
  "language_info": {
   "codemirror_mode": {
    "name": "ipython",
    "version": 3
   },
   "file_extension": ".py",
   "mimetype": "text/x-python",
   "name": "python",
   "nbconvert_exporter": "python",
   "pygments_lexer": "ipython3",
   "version": "3.12.3"
  }
 },
 "nbformat": 4,
 "nbformat_minor": 5
}
