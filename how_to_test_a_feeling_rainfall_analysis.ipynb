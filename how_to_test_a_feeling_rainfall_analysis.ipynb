{
 "cells": [
  {
   "cell_type": "code",
   "execution_count": 1,
   "id": "df47feca",
   "metadata": {},
   "outputs": [],
   "source": [
    "import pandas as pd \n",
    "import numpy as np \n",
    "\n",
    "import matplotlib.pyplot as plt\n",
    "import seaborn as sns"
   ]
  },
  {
   "cell_type": "markdown",
   "id": "5ef0660a",
   "metadata": {},
   "source": [
    "# Rainfall analysis - How to test a feeling"
   ]
  },
  {
   "cell_type": "markdown",
   "id": "0b6d7053",
   "metadata": {},
   "source": [
    "I was whatsapping with a friend of mine the other day, and when it comes with people you don't listen for a while, we made a comment about the weather. Mine was \"is going to be a dry year, there has been so few rainy day that I am expecting a drought this year\". They immediately replaied with \"Puglia, Italy, has always had a higher quantity of rainfall with respect to London\" before commenting about the weather in the region where they are currently living. And yes, I really enjoy and value having nerds friends.\n",
    "\n",
    "Later that day, I started researching about rainfall data in London, South of England, Puglia and South of Italy to verify if my feeling was true or just a feeling, and I stumbled to the core question: \"how can I demontrate a feeling?\" No surprise, I had to shift to a more mundane \"how I test a feeling?\". In the next section of this notebook, I will discuss some findings about my research."
   ]
  },
  {
   "cell_type": "code",
   "execution_count": 7,
   "id": "b26a893a",
   "metadata": {},
   "outputs": [],
   "source": [
    "data = pd.read_csv('./data/south_east_rainfall.csv',\n",
    "                   sep=',')\n",
    "\n",
    "data.columns = data.columns.str.strip()\n",
    "string_columns = data.select_dtypes(include=['object']).columns\n",
    "data[string_columns] = data[string_columns].apply(pd.to_numeric, errors='coerce')\n",
    "data_melt = data[['year', 'jan', 'feb', 'mar', 'apr', 'may', 'jun', 'jul', 'aug', 'sep','oct', 'nov', 'dec']].melt(id_vars='year',var_name='month', value_name='value').sort_values(by='year')\n",
    "data_melt['month'] = pd.Categorical(data_melt['month'], categories=['jan', 'feb', 'mar', 'apr', 'may', 'jun', 'jul', 'aug', 'sep', 'oct', 'nov', 'dec'], ordered=True)\n",
    "data_melt.rename(columns={'value': 'rainfall'}, inplace=True)"
   ]
  },
  {
   "cell_type": "code",
   "execution_count": 8,
   "id": "2c9ad3af",
   "metadata": {},
   "outputs": [
    {
     "data": {
      "text/html": [
       "<div>\n",
       "<style scoped>\n",
       "    .dataframe tbody tr th:only-of-type {\n",
       "        vertical-align: middle;\n",
       "    }\n",
       "\n",
       "    .dataframe tbody tr th {\n",
       "        vertical-align: top;\n",
       "    }\n",
       "\n",
       "    .dataframe thead th {\n",
       "        text-align: right;\n",
       "    }\n",
       "</style>\n",
       "<table border=\"1\" class=\"dataframe\">\n",
       "  <thead>\n",
       "    <tr style=\"text-align: right;\">\n",
       "      <th></th>\n",
       "      <th>year</th>\n",
       "      <th>month</th>\n",
       "      <th>rainfall</th>\n",
       "    </tr>\n",
       "  </thead>\n",
       "  <tbody>\n",
       "    <tr>\n",
       "      <th>0</th>\n",
       "      <td>1836</td>\n",
       "      <td>jan</td>\n",
       "      <td>63.0</td>\n",
       "    </tr>\n",
       "    <tr>\n",
       "      <th>570</th>\n",
       "      <td>1836</td>\n",
       "      <td>apr</td>\n",
       "      <td>69.7</td>\n",
       "    </tr>\n",
       "    <tr>\n",
       "      <th>380</th>\n",
       "      <td>1836</td>\n",
       "      <td>mar</td>\n",
       "      <td>103.6</td>\n",
       "    </tr>\n",
       "    <tr>\n",
       "      <th>1330</th>\n",
       "      <td>1836</td>\n",
       "      <td>aug</td>\n",
       "      <td>43.3</td>\n",
       "    </tr>\n",
       "    <tr>\n",
       "      <th>1900</th>\n",
       "      <td>1836</td>\n",
       "      <td>nov</td>\n",
       "      <td>121.3</td>\n",
       "    </tr>\n",
       "  </tbody>\n",
       "</table>\n",
       "</div>"
      ],
      "text/plain": [
       "      year month  rainfall\n",
       "0     1836   jan      63.0\n",
       "570   1836   apr      69.7\n",
       "380   1836   mar     103.6\n",
       "1330  1836   aug      43.3\n",
       "1900  1836   nov     121.3"
      ]
     },
     "execution_count": 8,
     "metadata": {},
     "output_type": "execute_result"
    }
   ],
   "source": [
    "data_melt.head()"
   ]
  },
  {
   "cell_type": "code",
   "execution_count": 4,
   "id": "7c667c32",
   "metadata": {},
   "outputs": [
    {
     "data": {
      "text/plain": [
       "(192, 3)"
      ]
     },
     "execution_count": 4,
     "metadata": {},
     "output_type": "execute_result"
    }
   ],
   "source": [
    "rainfall_south_east = data_melt[data_melt['year'] >= 2010].copy().reset_index(drop=True)\n",
    "rainfall_south_east.shape"
   ]
  },
  {
   "cell_type": "code",
   "execution_count": 5,
   "id": "85568ab7",
   "metadata": {},
   "outputs": [
    {
     "data": {
      "text/html": [
       "<div>\n",
       "<style scoped>\n",
       "    .dataframe tbody tr th:only-of-type {\n",
       "        vertical-align: middle;\n",
       "    }\n",
       "\n",
       "    .dataframe tbody tr th {\n",
       "        vertical-align: top;\n",
       "    }\n",
       "\n",
       "    .dataframe thead th {\n",
       "        text-align: right;\n",
       "    }\n",
       "</style>\n",
       "<table border=\"1\" class=\"dataframe\">\n",
       "  <thead>\n",
       "    <tr style=\"text-align: right;\">\n",
       "      <th></th>\n",
       "      <th>year</th>\n",
       "      <th>month</th>\n",
       "      <th>value</th>\n",
       "    </tr>\n",
       "  </thead>\n",
       "  <tbody>\n",
       "    <tr>\n",
       "      <th>0</th>\n",
       "      <td>2010</td>\n",
       "      <td>nov</td>\n",
       "      <td>71.3</td>\n",
       "    </tr>\n",
       "    <tr>\n",
       "      <th>1</th>\n",
       "      <td>2010</td>\n",
       "      <td>aug</td>\n",
       "      <td>109.7</td>\n",
       "    </tr>\n",
       "    <tr>\n",
       "      <th>2</th>\n",
       "      <td>2010</td>\n",
       "      <td>jul</td>\n",
       "      <td>42.0</td>\n",
       "    </tr>\n",
       "    <tr>\n",
       "      <th>3</th>\n",
       "      <td>2010</td>\n",
       "      <td>apr</td>\n",
       "      <td>23.9</td>\n",
       "    </tr>\n",
       "    <tr>\n",
       "      <th>4</th>\n",
       "      <td>2010</td>\n",
       "      <td>may</td>\n",
       "      <td>32.3</td>\n",
       "    </tr>\n",
       "  </tbody>\n",
       "</table>\n",
       "</div>"
      ],
      "text/plain": [
       "   year month  value\n",
       "0  2010   nov   71.3\n",
       "1  2010   aug  109.7\n",
       "2  2010   jul   42.0\n",
       "3  2010   apr   23.9\n",
       "4  2010   may   32.3"
      ]
     },
     "execution_count": 5,
     "metadata": {},
     "output_type": "execute_result"
    }
   ],
   "source": [
    "rainfall_south_east.head()"
   ]
  },
  {
   "cell_type": "code",
   "execution_count": null,
   "id": "757f588d",
   "metadata": {},
   "outputs": [
    {
     "data": {
      "text/html": [
       "<div>\n",
       "<style scoped>\n",
       "    .dataframe tbody tr th:only-of-type {\n",
       "        vertical-align: middle;\n",
       "    }\n",
       "\n",
       "    .dataframe tbody tr th {\n",
       "        vertical-align: top;\n",
       "    }\n",
       "\n",
       "    .dataframe thead th {\n",
       "        text-align: right;\n",
       "    }\n",
       "</style>\n",
       "<table border=\"1\" class=\"dataframe\">\n",
       "  <thead>\n",
       "    <tr style=\"text-align: right;\">\n",
       "      <th></th>\n",
       "      <th>month</th>\n",
       "      <th>value</th>\n",
       "    </tr>\n",
       "  </thead>\n",
       "  <tbody>\n",
       "    <tr>\n",
       "      <th>11</th>\n",
       "      <td>dec</td>\n",
       "      <td>94.021429</td>\n",
       "    </tr>\n",
       "    <tr>\n",
       "      <th>9</th>\n",
       "      <td>oct</td>\n",
       "      <td>91.150000</td>\n",
       "    </tr>\n",
       "    <tr>\n",
       "      <th>10</th>\n",
       "      <td>nov</td>\n",
       "      <td>85.321429</td>\n",
       "    </tr>\n",
       "    <tr>\n",
       "      <th>0</th>\n",
       "      <td>jan</td>\n",
       "      <td>80.957143</td>\n",
       "    </tr>\n",
       "    <tr>\n",
       "      <th>7</th>\n",
       "      <td>aug</td>\n",
       "      <td>70.400000</td>\n",
       "    </tr>\n",
       "  </tbody>\n",
       "</table>\n",
       "</div>"
      ],
      "text/plain": [
       "   month      value\n",
       "11   dec  94.021429\n",
       "9    oct  91.150000\n",
       "10   nov  85.321429\n",
       "0    jan  80.957143\n",
       "7    aug  70.400000"
      ]
     },
     "execution_count": 6,
     "metadata": {},
     "output_type": "execute_result"
    }
   ],
   "source": [
    "(rainfall_south_east[rainfall_south_east['year'] < 2024]\n",
    " .groupby('month', observed=True)['value']\n",
    " .mean()\n",
    " .sort_values(by='value', ascending=False)\n",
    " .head(5)\n",
    " )\n"
   ]
  },
  {
   "cell_type": "code",
   "execution_count": null,
   "id": "37bd80b8",
   "metadata": {},
   "outputs": [],
   "source": []
  },
  {
   "cell_type": "code",
   "execution_count": null,
   "id": "a494d0ac",
   "metadata": {},
   "outputs": [],
   "source": [
    "yearly_aggregate = (data_melt\n",
    "                    .groupby(['year'])\n",
    "                    .agg(\n",
    "                        mean_value=('value', 'mean'),\n",
    "                        median_value=('value', 'median'),\n",
    "                        std_value=('value', 'std'),\n",
    "                        min_value=('value', 'min'),\n",
    "                        max_value=('value', 'max')\n",
    "                        )\n",
    "                        ).reset_index()\n",
    "yearly_aggregate.head()"
   ]
  },
  {
   "cell_type": "code",
   "execution_count": null,
   "id": "de6f07be",
   "metadata": {},
   "outputs": [],
   "source": [
    "fig, ax = plt.subplots(figsize=(12, 5))\n",
    "\n",
    "# Plot vertical bars (lines) connecting min and max\n",
    "for idx, row in yearly_aggregate.iterrows():\n",
    "    ax.plot([row['year'], row['year']], [row['min_value'], row['max_value']], color='steelblue', linewidth=2);\n",
    "    ax.scatter([row['year']], [row['min_value']], color='blue', s = 20, label='Min' if idx == 0 else \"\");\n",
    "    ax.scatter([row['year']], [row['max_value']], color='orange', s = 20, label='Max' if idx == 0 else \"\");\n",
    "\n",
    "# Labels and legend\n",
    "ax.set_xlabel('Year')\n",
    "ax.set_ylabel('Rainfall')\n",
    "ax.set_title('Min and Max Rainfall per Year')\n",
    "ax.legend()\n",
    "\n",
    "start_year = yearly_aggregate['year'].min()\n",
    "end_year = yearly_aggregate['year'].max()\n",
    "\n",
    "# Generate ticks: start at 1836, go every 5 years, include last year if needed\n",
    "# xticks = list(np.arange(start_year, end_year + 1, 5));\n",
    "xticks = [1836] + list(np.arange(1840, 2030, 5));\n",
    "if end_year not in xticks:\n",
    "    xticks.append(end_year);\n",
    "\n",
    "plt.xticks(xticks, rotation=60);\n",
    "\n",
    "# plt.xticks(yearly_aggregate['year'], rotation = 60);  # Ensure all years are shown on x-axis"
   ]
  },
  {
   "cell_type": "code",
   "execution_count": null,
   "id": "3ebd30ff",
   "metadata": {},
   "outputs": [],
   "source": [
    "yearly_aggregate"
   ]
  },
  {
   "cell_type": "code",
   "execution_count": null,
   "id": "893ab25d",
   "metadata": {},
   "outputs": [],
   "source": []
  },
  {
   "cell_type": "code",
   "execution_count": null,
   "id": "84228030",
   "metadata": {},
   "outputs": [],
   "source": [
    "# import pandas as pd\n",
    "# import matplotlib.pyplot as plt\n",
    "\n",
    "# # Sample data\n",
    "# data = {\n",
    "#     'year': [1983, 1984, 1985],\n",
    "#     'min': [3, 2, 4],\n",
    "#     'max': [8, 9, 10]\n",
    "# }\n",
    "# df = pd.DataFrame(data)\n",
    "\n",
    "# # Plot\n",
    "# fig, ax = plt.subplots(figsize=(8, 5))\n",
    "\n",
    "# # Plot vertical bars (lines) connecting min and max\n",
    "# for idx, row in df.iterrows():\n",
    "#     ax.plot([row['year'], row['year']], [row['min'], row['max']], color='blue', linewidth=2)\n",
    "#     ax.scatter([row['year']], [row['min']], color='green', label='Min' if idx == 0 else \"\")\n",
    "#     ax.scatter([row['year']], [row['max']], color='red', label='Max' if idx == 0 else \"\")\n",
    "\n",
    "# # Labels and legend\n",
    "# ax.set_xlabel('Year')\n",
    "# ax.set_ylabel('Rainfall')\n",
    "# ax.set_title('Min and Max Rainfall per Year')\n",
    "# ax.legend()\n",
    "# plt.xticks(df['year'])  # Ensure all years are shown on x-axis\n",
    "# plt.tight_layout()\n",
    "# plt.show()"
   ]
  },
  {
   "cell_type": "code",
   "execution_count": null,
   "id": "f9894844",
   "metadata": {},
   "outputs": [],
   "source": [
    "\n",
    "data.head()"
   ]
  },
  {
   "cell_type": "code",
   "execution_count": null,
   "id": "7f735daa",
   "metadata": {},
   "outputs": [],
   "source": [
    "data.dtypes"
   ]
  },
  {
   "cell_type": "code",
   "execution_count": null,
   "id": "a6a94c02",
   "metadata": {},
   "outputs": [],
   "source": [
    "# For specific columns only\n",
    "string_columns = data.select_dtypes(include=['object']).columns\n",
    "string_columns\n",
    "# df[string_columns] = df[string_columns].apply(pd.to_numeric, errors='coerce')"
   ]
  },
  {
   "cell_type": "code",
   "execution_count": null,
   "id": "ae764aa5",
   "metadata": {},
   "outputs": [],
   "source": [
    "\n",
    "data.head()"
   ]
  },
  {
   "cell_type": "code",
   "execution_count": null,
   "id": "f3f76768",
   "metadata": {},
   "outputs": [],
   "source": [
    "data_melt = data[['year', 'jan', 'feb', 'mar', 'apr', 'may', 'jun', 'jul', 'aug', 'sep','oct', 'nov', 'dec']].melt(id_vars='year',var_name='month', value_name='value').sort_values(by='year')\n",
    "data_melt.head()"
   ]
  },
  {
   "cell_type": "code",
   "execution_count": null,
   "id": "5ce28863",
   "metadata": {},
   "outputs": [],
   "source": [
    "months = ['jan', 'feb', 'mar', 'apr', 'may', 'jun', 'jul', 'aug', 'sep', 'oct', 'nov', 'dec']\n",
    "    "
   ]
  },
  {
   "cell_type": "code",
   "execution_count": null,
   "id": "5a26291a",
   "metadata": {},
   "outputs": [],
   "source": [
    "data_melt['month'] = pd.Categorical(data_melt['month'], categories=months, ordered=True)"
   ]
  },
  {
   "cell_type": "code",
   "execution_count": null,
   "id": "302ac7fd",
   "metadata": {},
   "outputs": [],
   "source": [
    "data_melt.sort_values(by=['year', 'month'], inplace=True)\n",
    "data_melt.head()"
   ]
  },
  {
   "cell_type": "code",
   "execution_count": null,
   "id": "b5745523",
   "metadata": {},
   "outputs": [],
   "source": [
    "conds=[\n",
    "    data_melt['month'].isin(['mar', 'apr', 'may']),\n",
    "    data_melt['month'].isin(['jun', 'jul', 'aug']),\n",
    "    data_melt['month'].isin(['sep', 'oct', 'nov']),\n",
    "    data_melt['month'].isin(['dec', 'jan', 'feb'])\n",
    "]\n",
    "choices=['spring', 'summer', 'autumn', 'winter']\n",
    "data_melt['season'] = np.select(conds, choices, default='unknown')"
   ]
  },
  {
   "cell_type": "code",
   "execution_count": null,
   "id": "fdbf8f60",
   "metadata": {},
   "outputs": [],
   "source": [
    "# Define decade bins\n",
    "bins = list(range(1830, 2040, 10))  # Adjust range as needed\n",
    "labels = [f\"{year}s\" for year in bins[:-1]]\n",
    "num_labels = [year for year in bins[:-1]]"
   ]
  },
  {
   "cell_type": "code",
   "execution_count": null,
   "id": "79f3ad32",
   "metadata": {},
   "outputs": [],
   "source": [
    "data_melt['decade'] = pd.cut(data_melt['year'],\n",
    "                        bins=bins,\n",
    "                        labels=labels,\n",
    "                        right=False)\n"
   ]
  },
  {
   "cell_type": "code",
   "execution_count": null,
   "id": "bd22edae",
   "metadata": {},
   "outputs": [],
   "source": [
    "data_melt['decade num'] = pd.cut(data_melt['year'],\n",
    "                        bins=bins,\n",
    "                        labels=num_labels,\n",
    "                        right=False)"
   ]
  },
  {
   "cell_type": "code",
   "execution_count": null,
   "id": "1b7a5e63",
   "metadata": {},
   "outputs": [],
   "source": [
    "data_melt.head()"
   ]
  },
  {
   "cell_type": "code",
   "execution_count": null,
   "id": "3436b9fd",
   "metadata": {},
   "outputs": [],
   "source": [
    "rainfall_decade_season = (data_melt\n",
    " .groupby(['decade num', 'season'])\n",
    " .agg(mean_value=('value', 'mean'),\n",
    "      median_value=('value', 'median'),\n",
    "      std_value=('value', 'std'),\n",
    "      min_value=('value', 'min'),\n",
    "      max_value=('value', 'max')\n",
    " )\n",
    " .reset_index()\n",
    ")"
   ]
  },
  {
   "cell_type": "code",
   "execution_count": null,
   "id": "7342bb66",
   "metadata": {},
   "outputs": [],
   "source": [
    "rainfall_decade_season.head()"
   ]
  },
  {
   "cell_type": "code",
   "execution_count": null,
   "id": "2702843c",
   "metadata": {},
   "outputs": [],
   "source": [
    "sns.lmplot(data=rainfall_decade_season, \n",
    "           x='decade num', \n",
    "           y='mean_value', \n",
    "           hue='season', \n",
    "           height=6, aspect=1.2)\n",
    "plt.xticks(rotation=45)\n",
    "plt.show()"
   ]
  },
  {
   "cell_type": "code",
   "execution_count": null,
   "id": "0e0098ad",
   "metadata": {},
   "outputs": [],
   "source": [
    "sns.lmplot(data=rainfall_decade_season, \n",
    "           x='decade num', \n",
    "           y='std_value', \n",
    "           hue='season', \n",
    "           height=6, aspect=1.2)\n",
    "plt.xticks(rotation=45)\n",
    "plt.show()"
   ]
  },
  {
   "cell_type": "code",
   "execution_count": null,
   "id": "29f3d9de",
   "metadata": {},
   "outputs": [],
   "source": [
    "sns.lmplot(data=rainfall_decade_season, \n",
    "           x='decade num', \n",
    "           y='max_value', \n",
    "           hue='season', \n",
    "           height=6, aspect=1.2)\n",
    "plt.xticks(rotation=45)\n",
    "plt.show()"
   ]
  },
  {
   "cell_type": "code",
   "execution_count": null,
   "id": "fc58a2a6",
   "metadata": {},
   "outputs": [],
   "source": [
    "rainfall_per_year = (data_melt\n",
    "                     .groupby('year')\n",
    "                     .agg(mean_value=('value', 'mean'),\n",
    "                          median_value=('value', 'median'),\n",
    "                          std_value=('value', 'std'),\n",
    "                          min_value=('value', 'min'),\n",
    "                          max_value=('value', 'max')\n",
    "                          )\n",
    "                          ).reset_index()\n",
    "rainfall_per_year"
   ]
  },
  {
   "cell_type": "markdown",
   "id": "2ed8a597",
   "metadata": {},
   "source": [
    "### Dataset"
   ]
  },
  {
   "cell_type": "markdown",
   "id": "b177fb4c",
   "metadata": {},
   "source": [
    "### MuZiK"
   ]
  },
  {
   "cell_type": "markdown",
   "id": "775f54ca",
   "metadata": {},
   "source": []
  }
 ],
 "metadata": {
  "kernelspec": {
   "display_name": "base",
   "language": "python",
   "name": "python3"
  },
  "language_info": {
   "codemirror_mode": {
    "name": "ipython",
    "version": 3
   },
   "file_extension": ".py",
   "mimetype": "text/x-python",
   "name": "python",
   "nbconvert_exporter": "python",
   "pygments_lexer": "ipython3",
   "version": "3.12.3"
  }
 },
 "nbformat": 4,
 "nbformat_minor": 5
}
