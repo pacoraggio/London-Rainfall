{
 "cells": [
  {
   "cell_type": "code",
   "execution_count": 1,
   "id": "36b3eff1",
   "metadata": {},
   "outputs": [],
   "source": [
    "import pandas as pd\n",
    "import numpy as np\n",
    "\n",
    "from matplotlib import pyplot as plt\n",
    "import seaborn as sns"
   ]
  },
  {
   "cell_type": "markdown",
   "id": "5a6c36e9",
   "metadata": {},
   "source": [
    "# Data source analysis"
   ]
  },
  {
   "cell_type": "markdown",
   "id": "99c6c869",
   "metadata": {},
   "source": [
    "In this notebook, I will illustrate the process I followed in collecting and curating the data. I tried different dataset from different sources, checking if they were consistent before merging them if necessary.\n",
    "\n",
    "I started with a dataset containing the monthly data and then searched for daily measurements. When possible, I searched and compared different sources to see if data where trustfully and coherent."
   ]
  },
  {
   "cell_type": "markdown",
   "id": "0ae79553",
   "metadata": {},
   "source": [
    "## Met Office Website"
   ]
  },
  {
   "cell_type": "markdown",
   "id": "5769b215",
   "metadata": {},
   "source": [
    "> Website: [Met Office Website, UK and regional series](https://www.metoffice.gov.uk/research/climate/maps-and-data/uk-and-regional-series)\n",
    "\n",
    "From the UK and regional series webpage, this are the adopted criteria for downloading the data:\n",
    "- Order: Year ordered statistics\n",
    "- Region: England SE/Central S\n",
    "- Parameter: Rainfall \n",
    "\n",
    "Header:\n",
    "```\n",
    "Areal values from HadUK-Grid 1km gridded climate data from land surface network\n",
    "Source: Met Office National Climate Information Centre\n",
    "Monthly, seasonal and annual total precipitation amount for England SE and Central S\n",
    "Areal series, starting in 1836\n",
    "Last updated 01-Jun-2025 11:46\n",
    "```"
   ]
  },
  {
   "cell_type": "code",
   "execution_count": 2,
   "id": "bf0597c1",
   "metadata": {},
   "outputs": [
    {
     "data": {
      "text/html": [
       "<div>\n",
       "<style scoped>\n",
       "    .dataframe tbody tr th:only-of-type {\n",
       "        vertical-align: middle;\n",
       "    }\n",
       "\n",
       "    .dataframe tbody tr th {\n",
       "        vertical-align: top;\n",
       "    }\n",
       "\n",
       "    .dataframe thead th {\n",
       "        text-align: right;\n",
       "    }\n",
       "</style>\n",
       "<table border=\"1\" class=\"dataframe\">\n",
       "  <thead>\n",
       "    <tr style=\"text-align: right;\">\n",
       "      <th></th>\n",
       "      <th>year</th>\n",
       "      <th>jan</th>\n",
       "      <th>feb</th>\n",
       "      <th>mar</th>\n",
       "      <th>apr</th>\n",
       "      <th>may</th>\n",
       "      <th>jun</th>\n",
       "      <th>jul</th>\n",
       "      <th>aug</th>\n",
       "      <th>sep</th>\n",
       "      <th>oct</th>\n",
       "      <th>nov</th>\n",
       "      <th>dec</th>\n",
       "      <th>win</th>\n",
       "      <th>spr</th>\n",
       "      <th>sum</th>\n",
       "      <th>aut</th>\n",
       "      <th>ann</th>\n",
       "    </tr>\n",
       "  </thead>\n",
       "  <tbody>\n",
       "    <tr>\n",
       "      <th>0</th>\n",
       "      <td>1836</td>\n",
       "      <td>67.7</td>\n",
       "      <td>59.0</td>\n",
       "      <td>103.1</td>\n",
       "      <td>90.7</td>\n",
       "      <td>21.5</td>\n",
       "      <td>39.9</td>\n",
       "      <td>65.1</td>\n",
       "      <td>64.4</td>\n",
       "      <td>94.8</td>\n",
       "      <td>126.1</td>\n",
       "      <td>100.0</td>\n",
       "      <td>60.1</td>\n",
       "      <td>---</td>\n",
       "      <td>215.3</td>\n",
       "      <td>169.4</td>\n",
       "      <td>320.9</td>\n",
       "      <td>892.3</td>\n",
       "    </tr>\n",
       "    <tr>\n",
       "      <th>1</th>\n",
       "      <td>1837</td>\n",
       "      <td>80.2</td>\n",
       "      <td>81.1</td>\n",
       "      <td>19.8</td>\n",
       "      <td>34.4</td>\n",
       "      <td>24.9</td>\n",
       "      <td>34.3</td>\n",
       "      <td>44.2</td>\n",
       "      <td>87.5</td>\n",
       "      <td>42.7</td>\n",
       "      <td>67.6</td>\n",
       "      <td>51.9</td>\n",
       "      <td>53.7</td>\n",
       "      <td>221.4</td>\n",
       "      <td>79.2</td>\n",
       "      <td>166.1</td>\n",
       "      <td>162.2</td>\n",
       "      <td>622.5</td>\n",
       "    </tr>\n",
       "    <tr>\n",
       "      <th>2</th>\n",
       "      <td>1838</td>\n",
       "      <td>12.9</td>\n",
       "      <td>58.1</td>\n",
       "      <td>37.6</td>\n",
       "      <td>22.7</td>\n",
       "      <td>28.6</td>\n",
       "      <td>91.8</td>\n",
       "      <td>44.0</td>\n",
       "      <td>37.9</td>\n",
       "      <td>85.9</td>\n",
       "      <td>68.5</td>\n",
       "      <td>122.8</td>\n",
       "      <td>69.1</td>\n",
       "      <td>124.7</td>\n",
       "      <td>88.9</td>\n",
       "      <td>173.7</td>\n",
       "      <td>277.3</td>\n",
       "      <td>679.9</td>\n",
       "    </tr>\n",
       "    <tr>\n",
       "      <th>3</th>\n",
       "      <td>1839</td>\n",
       "      <td>48.6</td>\n",
       "      <td>53.5</td>\n",
       "      <td>51.4</td>\n",
       "      <td>37.5</td>\n",
       "      <td>25.2</td>\n",
       "      <td>65.0</td>\n",
       "      <td>104.8</td>\n",
       "      <td>54.0</td>\n",
       "      <td>137.5</td>\n",
       "      <td>72.7</td>\n",
       "      <td>117.7</td>\n",
       "      <td>108.1</td>\n",
       "      <td>171.1</td>\n",
       "      <td>114.1</td>\n",
       "      <td>223.7</td>\n",
       "      <td>327.9</td>\n",
       "      <td>876.0</td>\n",
       "    </tr>\n",
       "    <tr>\n",
       "      <th>4</th>\n",
       "      <td>1840</td>\n",
       "      <td>87.0</td>\n",
       "      <td>49.3</td>\n",
       "      <td>7.6</td>\n",
       "      <td>5.0</td>\n",
       "      <td>53.2</td>\n",
       "      <td>34.0</td>\n",
       "      <td>59.9</td>\n",
       "      <td>49.9</td>\n",
       "      <td>82.8</td>\n",
       "      <td>38.9</td>\n",
       "      <td>121.6</td>\n",
       "      <td>12.7</td>\n",
       "      <td>244.5</td>\n",
       "      <td>65.8</td>\n",
       "      <td>143.8</td>\n",
       "      <td>243.3</td>\n",
       "      <td>601.9</td>\n",
       "    </tr>\n",
       "  </tbody>\n",
       "</table>\n",
       "</div>"
      ],
      "text/plain": [
       "   year     jan      feb      mar      apr      may      jun     jul     aug  \\\n",
       "0  1836    67.7     59.0    103.1     90.7     21.5     39.9    65.1    64.4   \n",
       "1  1837    80.2     81.1     19.8     34.4     24.9     34.3    44.2    87.5   \n",
       "2  1838    12.9     58.1     37.6     22.7     28.6     91.8    44.0    37.9   \n",
       "3  1839    48.6     53.5     51.4     37.5     25.2     65.0   104.8    54.0   \n",
       "4  1840    87.0     49.3      7.6      5.0     53.2     34.0    59.9    49.9   \n",
       "\n",
       "      sep     oct     nov     dec      win      spr      sum      aut      ann  \n",
       "0    94.8   126.1   100.0    60.1      ---    215.3    169.4    320.9    892.3  \n",
       "1    42.7    67.6    51.9    53.7    221.4     79.2    166.1    162.2    622.5  \n",
       "2    85.9    68.5   122.8    69.1    124.7     88.9    173.7    277.3    679.9  \n",
       "3   137.5    72.7   117.7   108.1    171.1    114.1    223.7    327.9    876.0  \n",
       "4    82.8    38.9   121.6    12.7    244.5     65.8    143.8    243.3    601.9  "
      ]
     },
     "execution_count": 2,
     "metadata": {},
     "output_type": "execute_result"
    }
   ],
   "source": [
    "data = pd.read_csv('./data/england_se_c.csv')\n",
    "data.head()"
   ]
  },
  {
   "cell_type": "code",
   "execution_count": 3,
   "id": "2d83e1f1",
   "metadata": {},
   "outputs": [
    {
     "data": {
      "text/plain": [
       "Index(['year', '   jan', '    feb', '    mar', '    apr', '    may', '    jun',\n",
       "       '   jul', '   aug', '   sep', '   oct', '   nov', '   dec', '    win',\n",
       "       '    spr', '    sum', '    aut', '    ann'],\n",
       "      dtype='object')"
      ]
     },
     "execution_count": 3,
     "metadata": {},
     "output_type": "execute_result"
    }
   ],
   "source": [
    "data.columns"
   ]
  },
  {
   "cell_type": "markdown",
   "id": "fc513e47",
   "metadata": {},
   "source": [
    "The columns names contain some empty characters that need to be strip"
   ]
  },
  {
   "cell_type": "code",
   "execution_count": 4,
   "id": "e6062c00",
   "metadata": {},
   "outputs": [
    {
     "data": {
      "text/plain": [
       "year         int64\n",
       "   jan     float64\n",
       "    feb    float64\n",
       "    mar    float64\n",
       "    apr    float64\n",
       "    may    float64\n",
       "    jun     object\n",
       "   jul      object\n",
       "   aug      object\n",
       "   sep      object\n",
       "   oct      object\n",
       "   nov      object\n",
       "   dec      object\n",
       "    win     object\n",
       "    spr    float64\n",
       "    sum     object\n",
       "    aut     object\n",
       "    ann     object\n",
       "dtype: object"
      ]
     },
     "execution_count": 4,
     "metadata": {},
     "output_type": "execute_result"
    }
   ],
   "source": [
    "data.dtypes"
   ]
  },
  {
   "cell_type": "markdown",
   "id": "e1a214b0",
   "metadata": {},
   "source": [
    "Some columns are loaded as `object` type due to some `nan`s or special characters. They have to be converted into `float` type."
   ]
  },
  {
   "cell_type": "code",
   "execution_count": 5,
   "id": "5dc706b3",
   "metadata": {},
   "outputs": [],
   "source": [
    "data.columns = data.columns.str.strip()\n",
    "string_columns = data.select_dtypes(include=['object']).columns\n",
    "data[string_columns] = data[string_columns].apply(pd.to_numeric, errors='coerce')\n",
    "data_melt = data[['year', 'jan', 'feb', 'mar', 'apr', 'may', 'jun', 'jul', 'aug', 'sep','oct', 'nov', 'dec']].melt(id_vars='year',var_name='month', value_name='value').sort_values(by='year')\n",
    "data_melt['month'] = pd.Categorical(data_melt['month'], categories=['jan', 'feb', 'mar', 'apr', 'may', 'jun', 'jul', 'aug', 'sep', 'oct', 'nov', 'dec'], ordered=True)\n",
    "data_melt.rename(columns={'value': 'rainfall'}, inplace=True)"
   ]
  },
  {
   "cell_type": "code",
   "execution_count": 6,
   "id": "08625ec8",
   "metadata": {},
   "outputs": [
    {
     "data": {
      "text/html": [
       "<div>\n",
       "<style scoped>\n",
       "    .dataframe tbody tr th:only-of-type {\n",
       "        vertical-align: middle;\n",
       "    }\n",
       "\n",
       "    .dataframe tbody tr th {\n",
       "        vertical-align: top;\n",
       "    }\n",
       "\n",
       "    .dataframe thead th {\n",
       "        text-align: right;\n",
       "    }\n",
       "</style>\n",
       "<table border=\"1\" class=\"dataframe\">\n",
       "  <thead>\n",
       "    <tr style=\"text-align: right;\">\n",
       "      <th></th>\n",
       "      <th>year</th>\n",
       "      <th>month</th>\n",
       "      <th>rainfall</th>\n",
       "    </tr>\n",
       "  </thead>\n",
       "  <tbody>\n",
       "    <tr>\n",
       "      <th>0</th>\n",
       "      <td>1836</td>\n",
       "      <td>jan</td>\n",
       "      <td>67.7</td>\n",
       "    </tr>\n",
       "    <tr>\n",
       "      <th>570</th>\n",
       "      <td>1836</td>\n",
       "      <td>apr</td>\n",
       "      <td>90.7</td>\n",
       "    </tr>\n",
       "    <tr>\n",
       "      <th>380</th>\n",
       "      <td>1836</td>\n",
       "      <td>mar</td>\n",
       "      <td>103.1</td>\n",
       "    </tr>\n",
       "    <tr>\n",
       "      <th>1330</th>\n",
       "      <td>1836</td>\n",
       "      <td>aug</td>\n",
       "      <td>64.4</td>\n",
       "    </tr>\n",
       "    <tr>\n",
       "      <th>1900</th>\n",
       "      <td>1836</td>\n",
       "      <td>nov</td>\n",
       "      <td>100.0</td>\n",
       "    </tr>\n",
       "  </tbody>\n",
       "</table>\n",
       "</div>"
      ],
      "text/plain": [
       "      year month  rainfall\n",
       "0     1836   jan      67.7\n",
       "570   1836   apr      90.7\n",
       "380   1836   mar     103.1\n",
       "1330  1836   aug      64.4\n",
       "1900  1836   nov     100.0"
      ]
     },
     "execution_count": 6,
     "metadata": {},
     "output_type": "execute_result"
    }
   ],
   "source": [
    "data_melt.head()"
   ]
  },
  {
   "cell_type": "markdown",
   "id": "1a7ef819",
   "metadata": {},
   "source": [
    "The feeling is that since I joined UK, the latest year has been drier with respect to the previous ones. I am taking into consideration the data starting from 2010 up to 2023 included to calculate the mean and median, and compare with data from 2024 onward."
   ]
  },
  {
   "cell_type": "code",
   "execution_count": 7,
   "id": "b122cb8b",
   "metadata": {},
   "outputs": [
    {
     "data": {
      "text/html": [
       "<div>\n",
       "<style scoped>\n",
       "    .dataframe tbody tr th:only-of-type {\n",
       "        vertical-align: middle;\n",
       "    }\n",
       "\n",
       "    .dataframe tbody tr th {\n",
       "        vertical-align: top;\n",
       "    }\n",
       "\n",
       "    .dataframe thead th {\n",
       "        text-align: right;\n",
       "    }\n",
       "</style>\n",
       "<table border=\"1\" class=\"dataframe\">\n",
       "  <thead>\n",
       "    <tr style=\"text-align: right;\">\n",
       "      <th></th>\n",
       "      <th>year</th>\n",
       "      <th>month</th>\n",
       "      <th>rainfall</th>\n",
       "    </tr>\n",
       "  </thead>\n",
       "  <tbody>\n",
       "    <tr>\n",
       "      <th>2074</th>\n",
       "      <td>2010</td>\n",
       "      <td>nov</td>\n",
       "      <td>76.6</td>\n",
       "    </tr>\n",
       "    <tr>\n",
       "      <th>1504</th>\n",
       "      <td>2010</td>\n",
       "      <td>aug</td>\n",
       "      <td>100.2</td>\n",
       "    </tr>\n",
       "    <tr>\n",
       "      <th>1314</th>\n",
       "      <td>2010</td>\n",
       "      <td>jul</td>\n",
       "      <td>26.1</td>\n",
       "    </tr>\n",
       "    <tr>\n",
       "      <th>744</th>\n",
       "      <td>2010</td>\n",
       "      <td>apr</td>\n",
       "      <td>22.7</td>\n",
       "    </tr>\n",
       "    <tr>\n",
       "      <th>934</th>\n",
       "      <td>2010</td>\n",
       "      <td>may</td>\n",
       "      <td>30.1</td>\n",
       "    </tr>\n",
       "    <tr>\n",
       "      <th>...</th>\n",
       "      <td>...</td>\n",
       "      <td>...</td>\n",
       "      <td>...</td>\n",
       "    </tr>\n",
       "    <tr>\n",
       "      <th>569</th>\n",
       "      <td>2025</td>\n",
       "      <td>mar</td>\n",
       "      <td>6.8</td>\n",
       "    </tr>\n",
       "    <tr>\n",
       "      <th>379</th>\n",
       "      <td>2025</td>\n",
       "      <td>feb</td>\n",
       "      <td>65.4</td>\n",
       "    </tr>\n",
       "    <tr>\n",
       "      <th>189</th>\n",
       "      <td>2025</td>\n",
       "      <td>jan</td>\n",
       "      <td>113.8</td>\n",
       "    </tr>\n",
       "    <tr>\n",
       "      <th>2089</th>\n",
       "      <td>2025</td>\n",
       "      <td>nov</td>\n",
       "      <td>NaN</td>\n",
       "    </tr>\n",
       "    <tr>\n",
       "      <th>2279</th>\n",
       "      <td>2025</td>\n",
       "      <td>dec</td>\n",
       "      <td>NaN</td>\n",
       "    </tr>\n",
       "  </tbody>\n",
       "</table>\n",
       "<p>192 rows × 3 columns</p>\n",
       "</div>"
      ],
      "text/plain": [
       "      year month  rainfall\n",
       "2074  2010   nov      76.6\n",
       "1504  2010   aug     100.2\n",
       "1314  2010   jul      26.1\n",
       "744   2010   apr      22.7\n",
       "934   2010   may      30.1\n",
       "...    ...   ...       ...\n",
       "569   2025   mar       6.8\n",
       "379   2025   feb      65.4\n",
       "189   2025   jan     113.8\n",
       "2089  2025   nov       NaN\n",
       "2279  2025   dec       NaN\n",
       "\n",
       "[192 rows x 3 columns]"
      ]
     },
     "execution_count": 7,
     "metadata": {},
     "output_type": "execute_result"
    }
   ],
   "source": [
    "rainfall_se_data = data_melt[data_melt['year'] >= 2010].copy()\n",
    "rainfall_se_data"
   ]
  },
  {
   "cell_type": "code",
   "execution_count": 8,
   "id": "cfc007c3",
   "metadata": {},
   "outputs": [],
   "source": [
    "rainfall_se = (data_melt\n",
    " .groupby('year')\n",
    " .agg(\n",
    "    total_rainfall=('rainfall', 'sum'),\n",
    "    avg_rainfall=('rainfall', 'mean'),\n",
    "    std_rainfall=('rainfall', 'std'),\n",
    "    median_rainfall = ('rainfall', 'median'),\n",
    "    max_rainfall=('rainfall', 'max'),\n",
    "    min_rainfall=('rainfall', 'min')\n",
    "  )\n",
    " ).reset_index()\n"
   ]
  },
  {
   "cell_type": "code",
   "execution_count": 9,
   "id": "5fc143d2",
   "metadata": {},
   "outputs": [
    {
     "data": {
      "text/html": [
       "<div>\n",
       "<style scoped>\n",
       "    .dataframe tbody tr th:only-of-type {\n",
       "        vertical-align: middle;\n",
       "    }\n",
       "\n",
       "    .dataframe tbody tr th {\n",
       "        vertical-align: top;\n",
       "    }\n",
       "\n",
       "    .dataframe thead th {\n",
       "        text-align: right;\n",
       "    }\n",
       "</style>\n",
       "<table border=\"1\" class=\"dataframe\">\n",
       "  <thead>\n",
       "    <tr style=\"text-align: right;\">\n",
       "      <th></th>\n",
       "      <th>year</th>\n",
       "      <th>total_rainfall</th>\n",
       "      <th>avg_rainfall</th>\n",
       "      <th>std_rainfall</th>\n",
       "      <th>median_rainfall</th>\n",
       "      <th>max_rainfall</th>\n",
       "      <th>min_rainfall</th>\n",
       "    </tr>\n",
       "  </thead>\n",
       "  <tbody>\n",
       "    <tr>\n",
       "      <th>0</th>\n",
       "      <td>1836</td>\n",
       "      <td>892.4</td>\n",
       "      <td>74.366667</td>\n",
       "      <td>29.380678</td>\n",
       "      <td>66.40</td>\n",
       "      <td>126.1</td>\n",
       "      <td>21.5</td>\n",
       "    </tr>\n",
       "    <tr>\n",
       "      <th>1</th>\n",
       "      <td>1837</td>\n",
       "      <td>622.3</td>\n",
       "      <td>51.858333</td>\n",
       "      <td>22.743529</td>\n",
       "      <td>48.05</td>\n",
       "      <td>87.5</td>\n",
       "      <td>19.8</td>\n",
       "    </tr>\n",
       "    <tr>\n",
       "      <th>2</th>\n",
       "      <td>1838</td>\n",
       "      <td>679.9</td>\n",
       "      <td>56.658333</td>\n",
       "      <td>32.322788</td>\n",
       "      <td>51.05</td>\n",
       "      <td>122.8</td>\n",
       "      <td>12.9</td>\n",
       "    </tr>\n",
       "    <tr>\n",
       "      <th>3</th>\n",
       "      <td>1839</td>\n",
       "      <td>876.0</td>\n",
       "      <td>73.000000</td>\n",
       "      <td>35.437448</td>\n",
       "      <td>59.50</td>\n",
       "      <td>137.5</td>\n",
       "      <td>25.2</td>\n",
       "    </tr>\n",
       "    <tr>\n",
       "      <th>4</th>\n",
       "      <td>1840</td>\n",
       "      <td>601.9</td>\n",
       "      <td>50.158333</td>\n",
       "      <td>34.736815</td>\n",
       "      <td>49.60</td>\n",
       "      <td>121.6</td>\n",
       "      <td>5.0</td>\n",
       "    </tr>\n",
       "    <tr>\n",
       "      <th>...</th>\n",
       "      <td>...</td>\n",
       "      <td>...</td>\n",
       "      <td>...</td>\n",
       "      <td>...</td>\n",
       "      <td>...</td>\n",
       "      <td>...</td>\n",
       "      <td>...</td>\n",
       "    </tr>\n",
       "    <tr>\n",
       "      <th>185</th>\n",
       "      <td>2021</td>\n",
       "      <td>807.1</td>\n",
       "      <td>67.258333</td>\n",
       "      <td>38.184563</td>\n",
       "      <td>67.30</td>\n",
       "      <td>137.2</td>\n",
       "      <td>10.0</td>\n",
       "    </tr>\n",
       "    <tr>\n",
       "      <th>186</th>\n",
       "      <td>2022</td>\n",
       "      <td>751.6</td>\n",
       "      <td>62.633333</td>\n",
       "      <td>50.896836</td>\n",
       "      <td>46.70</td>\n",
       "      <td>189.3</td>\n",
       "      <td>5.6</td>\n",
       "    </tr>\n",
       "    <tr>\n",
       "      <th>187</th>\n",
       "      <td>2023</td>\n",
       "      <td>1017.8</td>\n",
       "      <td>84.816667</td>\n",
       "      <td>45.641146</td>\n",
       "      <td>84.15</td>\n",
       "      <td>160.8</td>\n",
       "      <td>7.2</td>\n",
       "    </tr>\n",
       "    <tr>\n",
       "      <th>188</th>\n",
       "      <td>2024</td>\n",
       "      <td>991.9</td>\n",
       "      <td>82.658333</td>\n",
       "      <td>39.899407</td>\n",
       "      <td>77.75</td>\n",
       "      <td>157.4</td>\n",
       "      <td>18.3</td>\n",
       "    </tr>\n",
       "    <tr>\n",
       "      <th>189</th>\n",
       "      <td>2025</td>\n",
       "      <td>231.3</td>\n",
       "      <td>46.260000</td>\n",
       "      <td>43.615341</td>\n",
       "      <td>24.80</td>\n",
       "      <td>113.8</td>\n",
       "      <td>6.8</td>\n",
       "    </tr>\n",
       "  </tbody>\n",
       "</table>\n",
       "<p>190 rows × 7 columns</p>\n",
       "</div>"
      ],
      "text/plain": [
       "     year  total_rainfall  avg_rainfall  std_rainfall  median_rainfall  \\\n",
       "0    1836           892.4     74.366667     29.380678            66.40   \n",
       "1    1837           622.3     51.858333     22.743529            48.05   \n",
       "2    1838           679.9     56.658333     32.322788            51.05   \n",
       "3    1839           876.0     73.000000     35.437448            59.50   \n",
       "4    1840           601.9     50.158333     34.736815            49.60   \n",
       "..    ...             ...           ...           ...              ...   \n",
       "185  2021           807.1     67.258333     38.184563            67.30   \n",
       "186  2022           751.6     62.633333     50.896836            46.70   \n",
       "187  2023          1017.8     84.816667     45.641146            84.15   \n",
       "188  2024           991.9     82.658333     39.899407            77.75   \n",
       "189  2025           231.3     46.260000     43.615341            24.80   \n",
       "\n",
       "     max_rainfall  min_rainfall  \n",
       "0           126.1          21.5  \n",
       "1            87.5          19.8  \n",
       "2           122.8          12.9  \n",
       "3           137.5          25.2  \n",
       "4           121.6           5.0  \n",
       "..            ...           ...  \n",
       "185         137.2          10.0  \n",
       "186         189.3           5.6  \n",
       "187         160.8           7.2  \n",
       "188         157.4          18.3  \n",
       "189         113.8           6.8  \n",
       "\n",
       "[190 rows x 7 columns]"
      ]
     },
     "execution_count": 9,
     "metadata": {},
     "output_type": "execute_result"
    }
   ],
   "source": [
    "rainfall_se"
   ]
  },
  {
   "cell_type": "markdown",
   "id": "4794d9f1",
   "metadata": {},
   "source": [
    "In the following plot I am considering just the sum or rainfall for each year and compare to 2024. I am also highlighting the value of year 2022 as in the summer of that year, in London a [hopepipe ban was issued](https://www.thameswater.co.uk/news/thames-water-lifts-hosepipe-ban) due to one of the driest years on record. "
   ]
  },
  {
   "cell_type": "code",
   "execution_count": 10,
   "id": "a714984a",
   "metadata": {},
   "outputs": [
    {
     "name": "stdout",
     "output_type": "stream",
     "text": [
      "Total Rainfall mean (2010-2023) = 829.99\n"
     ]
    },
    {
     "data": {
      "image/png": "[encoded data removed]",
      "text/plain": [
       "<Figure size 1200x600 with 1 Axes>"
      ]
     },
     "metadata": {},
     "output_type": "display_data"
    }
   ],
   "source": [
    "# Calculate the mean total rainfall for the years 2010-2023\n",
    "# Note: The year 2024 is not included in the mean calculation as we want to compare it with the previous years.\n",
    "# rainfall_mean = rainfall_se_2010_2024[rainfall_se_2010_2024['year'] < 2024]['total_rainfall'].mean()\n",
    "rainfall_mean = rainfall_se[(rainfall_se['year'] >= 2010) & (rainfall_se['year']<=2024)]['total_rainfall'].mean()\n",
    "\n",
    "\n",
    "print(\"Total Rainfall mean (2010-2023) = {}\".format(np.round(rainfall_mean, 2)))\n",
    "\n",
    "years = sorted(rainfall_se[(rainfall_se['year'] >= 2010) & (rainfall_se['year']<=2024)]['year'].unique())\n",
    "colors = ['steelblue'] * len(years)\n",
    "\n",
    "# Set special colors\n",
    "last_year = max(years)\n",
    "for i, year in enumerate(years):\n",
    "    if year == 2022:\n",
    "        colors[i] = 'red'      # Color for 2022\n",
    "    elif year == last_year:\n",
    "        colors[i] = 'orange'   # Color for last year\n",
    "\n",
    "\n",
    "sns.set_theme(style=\"whitegrid\")\n",
    "plt.figure(figsize=(12, 6))\n",
    "\n",
    "ax = sns.barplot(\n",
    "    data=rainfall_se[(rainfall_se['year'] >= 2010) & (rainfall_se['year']<=2024)],\n",
    "    x='year',\n",
    "    y='total_rainfall',\n",
    "    hue='year',\n",
    "    palette=colors,\n",
    "    edgecolor='black',\n",
    "    legend=False\n",
    "    );\n",
    "\n",
    "# Showing bars values\n",
    "for container in ax.containers:\n",
    "        ax.bar_label(container, fmt='%.1f', padding=3)\n",
    "plt.axhline(y=rainfall_mean, color='red', linestyle='--', linewidth=2, label=f'Mean: {rainfall_mean:.2f}');\n",
    "\n",
    "plt.title('Total Rainfall in South East England (2010-2024)', fontsize=16);\n"
   ]
  },
  {
   "cell_type": "code",
   "execution_count": 11,
   "id": "4e5eeaeb",
   "metadata": {},
   "outputs": [
    {
     "data": {
      "text/html": [
       "<div>\n",
       "<style scoped>\n",
       "    .dataframe tbody tr th:only-of-type {\n",
       "        vertical-align: middle;\n",
       "    }\n",
       "\n",
       "    .dataframe tbody tr th {\n",
       "        vertical-align: top;\n",
       "    }\n",
       "\n",
       "    .dataframe thead th {\n",
       "        text-align: right;\n",
       "    }\n",
       "</style>\n",
       "<table border=\"1\" class=\"dataframe\">\n",
       "  <thead>\n",
       "    <tr style=\"text-align: right;\">\n",
       "      <th></th>\n",
       "      <th>year</th>\n",
       "      <th>total_rainfall</th>\n",
       "      <th>avg_rainfall</th>\n",
       "      <th>std_rainfall</th>\n",
       "      <th>median_rainfall</th>\n",
       "      <th>max_rainfall</th>\n",
       "      <th>min_rainfall</th>\n",
       "    </tr>\n",
       "  </thead>\n",
       "  <tbody>\n",
       "    <tr>\n",
       "      <th>0</th>\n",
       "      <td>2011</td>\n",
       "      <td>630.6</td>\n",
       "      <td>52.550000</td>\n",
       "      <td>30.676805</td>\n",
       "      <td>47.40</td>\n",
       "      <td>99.6</td>\n",
       "      <td>3.6</td>\n",
       "    </tr>\n",
       "    <tr>\n",
       "      <th>1</th>\n",
       "      <td>2010</td>\n",
       "      <td>689.6</td>\n",
       "      <td>57.466667</td>\n",
       "      <td>27.546336</td>\n",
       "      <td>54.95</td>\n",
       "      <td>100.2</td>\n",
       "      <td>22.7</td>\n",
       "    </tr>\n",
       "    <tr>\n",
       "      <th>2</th>\n",
       "      <td>2017</td>\n",
       "      <td>726.1</td>\n",
       "      <td>60.508333</td>\n",
       "      <td>27.571905</td>\n",
       "      <td>60.90</td>\n",
       "      <td>106.4</td>\n",
       "      <td>8.5</td>\n",
       "    </tr>\n",
       "    <tr>\n",
       "      <th>3</th>\n",
       "      <td>2016</td>\n",
       "      <td>729.8</td>\n",
       "      <td>60.816667</td>\n",
       "      <td>34.691205</td>\n",
       "      <td>52.65</td>\n",
       "      <td>131.2</td>\n",
       "      <td>17.9</td>\n",
       "    </tr>\n",
       "    <tr>\n",
       "      <th>4</th>\n",
       "      <td>2015</td>\n",
       "      <td>737.3</td>\n",
       "      <td>61.441667</td>\n",
       "      <td>27.963725</td>\n",
       "      <td>61.30</td>\n",
       "      <td>108.2</td>\n",
       "      <td>18.5</td>\n",
       "    </tr>\n",
       "    <tr>\n",
       "      <th>5</th>\n",
       "      <td>2022</td>\n",
       "      <td>751.6</td>\n",
       "      <td>62.633333</td>\n",
       "      <td>50.896836</td>\n",
       "      <td>46.70</td>\n",
       "      <td>189.3</td>\n",
       "      <td>5.6</td>\n",
       "    </tr>\n",
       "    <tr>\n",
       "      <th>6</th>\n",
       "      <td>2018</td>\n",
       "      <td>758.3</td>\n",
       "      <td>63.191667</td>\n",
       "      <td>32.584449</td>\n",
       "      <td>60.75</td>\n",
       "      <td>113.9</td>\n",
       "      <td>2.8</td>\n",
       "    </tr>\n",
       "    <tr>\n",
       "      <th>7</th>\n",
       "      <td>2013</td>\n",
       "      <td>805.7</td>\n",
       "      <td>67.141667</td>\n",
       "      <td>42.638597</td>\n",
       "      <td>54.55</td>\n",
       "      <td>161.3</td>\n",
       "      <td>22.8</td>\n",
       "    </tr>\n",
       "    <tr>\n",
       "      <th>8</th>\n",
       "      <td>2021</td>\n",
       "      <td>807.1</td>\n",
       "      <td>67.258333</td>\n",
       "      <td>38.184563</td>\n",
       "      <td>67.30</td>\n",
       "      <td>137.2</td>\n",
       "      <td>10.0</td>\n",
       "    </tr>\n",
       "    <tr>\n",
       "      <th>9</th>\n",
       "      <td>2019</td>\n",
       "      <td>859.0</td>\n",
       "      <td>71.583333</td>\n",
       "      <td>37.173716</td>\n",
       "      <td>59.50</td>\n",
       "      <td>130.0</td>\n",
       "      <td>25.9</td>\n",
       "    </tr>\n",
       "    <tr>\n",
       "      <th>10</th>\n",
       "      <td>2020</td>\n",
       "      <td>900.3</td>\n",
       "      <td>75.025000</td>\n",
       "      <td>50.003366</td>\n",
       "      <td>59.65</td>\n",
       "      <td>182.4</td>\n",
       "      <td>4.9</td>\n",
       "    </tr>\n",
       "    <tr>\n",
       "      <th>11</th>\n",
       "      <td>2024</td>\n",
       "      <td>991.9</td>\n",
       "      <td>82.658333</td>\n",
       "      <td>39.899407</td>\n",
       "      <td>77.75</td>\n",
       "      <td>157.4</td>\n",
       "      <td>18.3</td>\n",
       "    </tr>\n",
       "    <tr>\n",
       "      <th>12</th>\n",
       "      <td>2012</td>\n",
       "      <td>1005.7</td>\n",
       "      <td>83.808333</td>\n",
       "      <td>45.486970</td>\n",
       "      <td>84.55</td>\n",
       "      <td>142.5</td>\n",
       "      <td>19.3</td>\n",
       "    </tr>\n",
       "    <tr>\n",
       "      <th>13</th>\n",
       "      <td>2023</td>\n",
       "      <td>1017.8</td>\n",
       "      <td>84.816667</td>\n",
       "      <td>45.641146</td>\n",
       "      <td>84.15</td>\n",
       "      <td>160.8</td>\n",
       "      <td>7.2</td>\n",
       "    </tr>\n",
       "    <tr>\n",
       "      <th>14</th>\n",
       "      <td>2014</td>\n",
       "      <td>1039.0</td>\n",
       "      <td>86.583333</td>\n",
       "      <td>55.602973</td>\n",
       "      <td>74.70</td>\n",
       "      <td>205.1</td>\n",
       "      <td>13.7</td>\n",
       "    </tr>\n",
       "  </tbody>\n",
       "</table>\n",
       "</div>"
      ],
      "text/plain": [
       "    year  total_rainfall  avg_rainfall  std_rainfall  median_rainfall  \\\n",
       "0   2011           630.6     52.550000     30.676805            47.40   \n",
       "1   2010           689.6     57.466667     27.546336            54.95   \n",
       "2   2017           726.1     60.508333     27.571905            60.90   \n",
       "3   2016           729.8     60.816667     34.691205            52.65   \n",
       "4   2015           737.3     61.441667     27.963725            61.30   \n",
       "5   2022           751.6     62.633333     50.896836            46.70   \n",
       "6   2018           758.3     63.191667     32.584449            60.75   \n",
       "7   2013           805.7     67.141667     42.638597            54.55   \n",
       "8   2021           807.1     67.258333     38.184563            67.30   \n",
       "9   2019           859.0     71.583333     37.173716            59.50   \n",
       "10  2020           900.3     75.025000     50.003366            59.65   \n",
       "11  2024           991.9     82.658333     39.899407            77.75   \n",
       "12  2012          1005.7     83.808333     45.486970            84.55   \n",
       "13  2023          1017.8     84.816667     45.641146            84.15   \n",
       "14  2014          1039.0     86.583333     55.602973            74.70   \n",
       "\n",
       "    max_rainfall  min_rainfall  \n",
       "0           99.6           3.6  \n",
       "1          100.2          22.7  \n",
       "2          106.4           8.5  \n",
       "3          131.2          17.9  \n",
       "4          108.2          18.5  \n",
       "5          189.3           5.6  \n",
       "6          113.9           2.8  \n",
       "7          161.3          22.8  \n",
       "8          137.2          10.0  \n",
       "9          130.0          25.9  \n",
       "10         182.4           4.9  \n",
       "11         157.4          18.3  \n",
       "12         142.5          19.3  \n",
       "13         160.8           7.2  \n",
       "14         205.1          13.7  "
      ]
     },
     "execution_count": 11,
     "metadata": {},
     "output_type": "execute_result"
    }
   ],
   "source": [
    "rainfall_se[(rainfall_se['year'] >= 2010) & (rainfall_se['year']<=2024)].sort_values('total_rainfall').reset_index(drop=True)"
   ]
  },
  {
   "cell_type": "code",
   "execution_count": 14,
   "id": "dff384b1",
   "metadata": {},
   "outputs": [],
   "source": [
    "from src.data_plotting import plot_rainfall"
   ]
  },
  {
   "cell_type": "code",
   "execution_count": 16,
   "id": "2743f5a6",
   "metadata": {},
   "outputs": [
    {
     "data": {
      "image/png": "[encoded data removed]",
      "text/plain": [
       "<Figure size 1200x600 with 1 Axes>"
      ]
     },
     "metadata": {},
     "output_type": "display_data"
    }
   ],
   "source": [
    "start_year = 2010\n",
    "latest_yaer = 2024\n",
    "\n",
    "plot_rainfall(rainfall_se, start_year, latest_yaer, feature='total_rainfall', special_year=2022, title_label='Yearly Total Rainfall', year_shift = False)"
   ]
  },
  {
   "cell_type": "markdown",
   "id": "6f612e57",
   "metadata": {},
   "source": [
    "In the last 15 years, 2024 was the 4<sup>th</sup> highest year in terms of total rainfall with 991.9mm in twelve months."
   ]
  },
  {
   "cell_type": "code",
   "execution_count": null,
   "id": "4b83b8be",
   "metadata": {},
   "outputs": [
    {
     "data": {
      "text/html": [
       "<style type=\"text/css\">\n",
       "#T_ff6d3_row3_col0, #T_ff6d3_row3_col1, #T_ff6d3_row3_col2, #T_ff6d3_row3_col3, #T_ff6d3_row3_col4 {\n",
       "  background-color: #2d5a87;\n",
       "}\n",
       "</style>\n",
       "<table id=\"T_ff6d3\">\n",
       "  <thead>\n",
       "    <tr>\n",
       "      <th id=\"T_ff6d3_level0_col0\" class=\"col_heading level0 col0\" >year</th>\n",
       "      <th id=\"T_ff6d3_level0_col1\" class=\"col_heading level0 col1\" >Rank</th>\n",
       "      <th id=\"T_ff6d3_level0_col2\" class=\"col_heading level0 col2\" >total_rainfall</th>\n",
       "      <th id=\"T_ff6d3_level0_col3\" class=\"col_heading level0 col3\" >avg_rainfall</th>\n",
       "      <th id=\"T_ff6d3_level0_col4\" class=\"col_heading level0 col4\" >median_rainfall</th>\n",
       "    </tr>\n",
       "  </thead>\n",
       "  <tbody>\n",
       "    <tr>\n",
       "      <td id=\"T_ff6d3_row0_col0\" class=\"data row0 col0\" >2014</td>\n",
       "      <td id=\"T_ff6d3_row0_col1\" class=\"data row0 col1\" >1</td>\n",
       "      <td id=\"T_ff6d3_row0_col2\" class=\"data row0 col2\" >1039.000000</td>\n",
       "      <td id=\"T_ff6d3_row0_col3\" class=\"data row0 col3\" >86.583333</td>\n",
       "      <td id=\"T_ff6d3_row0_col4\" class=\"data row0 col4\" >74.700000</td>\n",
       "    </tr>\n",
       "    <tr>\n",
       "      <td id=\"T_ff6d3_row1_col0\" class=\"data row1 col0\" >2023</td>\n",
       "      <td id=\"T_ff6d3_row1_col1\" class=\"data row1 col1\" >2</td>\n",
       "      <td id=\"T_ff6d3_row1_col2\" class=\"data row1 col2\" >1017.800000</td>\n",
       "      <td id=\"T_ff6d3_row1_col3\" class=\"data row1 col3\" >84.816667</td>\n",
       "      <td id=\"T_ff6d3_row1_col4\" class=\"data row1 col4\" >84.150000</td>\n",
       "    </tr>\n",
       "    <tr>\n",
       "      <td id=\"T_ff6d3_row2_col0\" class=\"data row2 col0\" >2012</td>\n",
       "      <td id=\"T_ff6d3_row2_col1\" class=\"data row2 col1\" >3</td>\n",
       "      <td id=\"T_ff6d3_row2_col2\" class=\"data row2 col2\" >1005.700000</td>\n",
       "      <td id=\"T_ff6d3_row2_col3\" class=\"data row2 col3\" >83.808333</td>\n",
       "      <td id=\"T_ff6d3_row2_col4\" class=\"data row2 col4\" >84.550000</td>\n",
       "    </tr>\n",
       "    <tr>\n",
       "      <td id=\"T_ff6d3_row3_col0\" class=\"data row3 col0\" >2024</td>\n",
       "      <td id=\"T_ff6d3_row3_col1\" class=\"data row3 col1\" >4</td>\n",
       "      <td id=\"T_ff6d3_row3_col2\" class=\"data row3 col2\" >991.900000</td>\n",
       "      <td id=\"T_ff6d3_row3_col3\" class=\"data row3 col3\" >82.658333</td>\n",
       "      <td id=\"T_ff6d3_row3_col4\" class=\"data row3 col4\" >77.750000</td>\n",
       "    </tr>\n",
       "    <tr>\n",
       "      <td id=\"T_ff6d3_row4_col0\" class=\"data row4 col0\" >2020</td>\n",
       "      <td id=\"T_ff6d3_row4_col1\" class=\"data row4 col1\" >5</td>\n",
       "      <td id=\"T_ff6d3_row4_col2\" class=\"data row4 col2\" >900.300000</td>\n",
       "      <td id=\"T_ff6d3_row4_col3\" class=\"data row4 col3\" >75.025000</td>\n",
       "      <td id=\"T_ff6d3_row4_col4\" class=\"data row4 col4\" >59.650000</td>\n",
       "    </tr>\n",
       "    <tr>\n",
       "      <td id=\"T_ff6d3_row5_col0\" class=\"data row5 col0\" >2019</td>\n",
       "      <td id=\"T_ff6d3_row5_col1\" class=\"data row5 col1\" >6</td>\n",
       "      <td id=\"T_ff6d3_row5_col2\" class=\"data row5 col2\" >859.000000</td>\n",
       "      <td id=\"T_ff6d3_row5_col3\" class=\"data row5 col3\" >71.583333</td>\n",
       "      <td id=\"T_ff6d3_row5_col4\" class=\"data row5 col4\" >59.500000</td>\n",
       "    </tr>\n",
       "    <tr>\n",
       "      <td id=\"T_ff6d3_row6_col0\" class=\"data row6 col0\" >2021</td>\n",
       "      <td id=\"T_ff6d3_row6_col1\" class=\"data row6 col1\" >7</td>\n",
       "      <td id=\"T_ff6d3_row6_col2\" class=\"data row6 col2\" >807.100000</td>\n",
       "      <td id=\"T_ff6d3_row6_col3\" class=\"data row6 col3\" >67.258333</td>\n",
       "      <td id=\"T_ff6d3_row6_col4\" class=\"data row6 col4\" >67.300000</td>\n",
       "    </tr>\n",
       "    <tr>\n",
       "      <td id=\"T_ff6d3_row7_col0\" class=\"data row7 col0\" >2013</td>\n",
       "      <td id=\"T_ff6d3_row7_col1\" class=\"data row7 col1\" >8</td>\n",
       "      <td id=\"T_ff6d3_row7_col2\" class=\"data row7 col2\" >805.700000</td>\n",
       "      <td id=\"T_ff6d3_row7_col3\" class=\"data row7 col3\" >67.141667</td>\n",
       "      <td id=\"T_ff6d3_row7_col4\" class=\"data row7 col4\" >54.550000</td>\n",
       "    </tr>\n",
       "    <tr>\n",
       "      <td id=\"T_ff6d3_row8_col0\" class=\"data row8 col0\" >2018</td>\n",
       "      <td id=\"T_ff6d3_row8_col1\" class=\"data row8 col1\" >9</td>\n",
       "      <td id=\"T_ff6d3_row8_col2\" class=\"data row8 col2\" >758.300000</td>\n",
       "      <td id=\"T_ff6d3_row8_col3\" class=\"data row8 col3\" >63.191667</td>\n",
       "      <td id=\"T_ff6d3_row8_col4\" class=\"data row8 col4\" >60.750000</td>\n",
       "    </tr>\n",
       "    <tr>\n",
       "      <td id=\"T_ff6d3_row9_col0\" class=\"data row9 col0\" >2022</td>\n",
       "      <td id=\"T_ff6d3_row9_col1\" class=\"data row9 col1\" >10</td>\n",
       "      <td id=\"T_ff6d3_row9_col2\" class=\"data row9 col2\" >751.600000</td>\n",
       "      <td id=\"T_ff6d3_row9_col3\" class=\"data row9 col3\" >62.633333</td>\n",
       "      <td id=\"T_ff6d3_row9_col4\" class=\"data row9 col4\" >46.700000</td>\n",
       "    </tr>\n",
       "    <tr>\n",
       "      <td id=\"T_ff6d3_row10_col0\" class=\"data row10 col0\" >2015</td>\n",
       "      <td id=\"T_ff6d3_row10_col1\" class=\"data row10 col1\" >11</td>\n",
       "      <td id=\"T_ff6d3_row10_col2\" class=\"data row10 col2\" >737.300000</td>\n",
       "      <td id=\"T_ff6d3_row10_col3\" class=\"data row10 col3\" >61.441667</td>\n",
       "      <td id=\"T_ff6d3_row10_col4\" class=\"data row10 col4\" >61.300000</td>\n",
       "    </tr>\n",
       "    <tr>\n",
       "      <td id=\"T_ff6d3_row11_col0\" class=\"data row11 col0\" >2016</td>\n",
       "      <td id=\"T_ff6d3_row11_col1\" class=\"data row11 col1\" >12</td>\n",
       "      <td id=\"T_ff6d3_row11_col2\" class=\"data row11 col2\" >729.800000</td>\n",
       "      <td id=\"T_ff6d3_row11_col3\" class=\"data row11 col3\" >60.816667</td>\n",
       "      <td id=\"T_ff6d3_row11_col4\" class=\"data row11 col4\" >52.650000</td>\n",
       "    </tr>\n",
       "    <tr>\n",
       "      <td id=\"T_ff6d3_row12_col0\" class=\"data row12 col0\" >2017</td>\n",
       "      <td id=\"T_ff6d3_row12_col1\" class=\"data row12 col1\" >13</td>\n",
       "      <td id=\"T_ff6d3_row12_col2\" class=\"data row12 col2\" >726.100000</td>\n",
       "      <td id=\"T_ff6d3_row12_col3\" class=\"data row12 col3\" >60.508333</td>\n",
       "      <td id=\"T_ff6d3_row12_col4\" class=\"data row12 col4\" >60.900000</td>\n",
       "    </tr>\n",
       "    <tr>\n",
       "      <td id=\"T_ff6d3_row13_col0\" class=\"data row13 col0\" >2010</td>\n",
       "      <td id=\"T_ff6d3_row13_col1\" class=\"data row13 col1\" >14</td>\n",
       "      <td id=\"T_ff6d3_row13_col2\" class=\"data row13 col2\" >689.600000</td>\n",
       "      <td id=\"T_ff6d3_row13_col3\" class=\"data row13 col3\" >57.466667</td>\n",
       "      <td id=\"T_ff6d3_row13_col4\" class=\"data row13 col4\" >54.950000</td>\n",
       "    </tr>\n",
       "    <tr>\n",
       "      <td id=\"T_ff6d3_row14_col0\" class=\"data row14 col0\" >2011</td>\n",
       "      <td id=\"T_ff6d3_row14_col1\" class=\"data row14 col1\" >15</td>\n",
       "      <td id=\"T_ff6d3_row14_col2\" class=\"data row14 col2\" >630.600000</td>\n",
       "      <td id=\"T_ff6d3_row14_col3\" class=\"data row14 col3\" >52.550000</td>\n",
       "      <td id=\"T_ff6d3_row14_col4\" class=\"data row14 col4\" >47.400000</td>\n",
       "    </tr>\n",
       "  </tbody>\n",
       "</table>\n"
      ],
      "text/plain": [
       "<pandas.io.formats.style.Styler at 0x2545f5a37a0>"
      ]
     },
     "execution_count": 17,
     "metadata": {},
     "output_type": "execute_result"
    }
   ],
   "source": [
    "# sorted_dataframe = rainfall_se[(rainfall_se['year']>=2010) & (rainfall_se['year'] <= 2024)].sort_values('total_rainfall', ascending=False).reset_index(drop=True)\n",
    "# # sorted_dataframe['Year'] = sorted_dataframe['year'].astype(str)+'-'+(sorted_dataframe['year']+1).astype(str).str[-2:]\n",
    "# sorted_dataframe['Rank'] = sorted_dataframe.index + 1\n",
    "# index_2024 = sorted_dataframe[sorted_dataframe['year'] == 2024].index[0]\n",
    "\n",
    "\n",
    "# # Highlight specific rows (e.g., rows 1 and 3)\n",
    "# def highlight_rows(s):\n",
    "#     return ['background-color: #2d5a87' if s.name in [index_2024] else '' for _ in s]\n",
    "\n",
    "# sorted_dataframe[['year', 'Rank', 'total_rainfall', 'avg_rainfall', 'median_rainfall']].style.hide(axis='index').apply(highlight_rows, axis=1)\n",
    "\n",
    "# # rainfall_se[(rainfall_se['year']>=2010) & (rainfall_se['year'] <= 2024)].sort_values('total_rainfall', ascending=False)"
   ]
  },
  {
   "cell_type": "markdown",
   "id": "071ff99c",
   "metadata": {},
   "source": [
    "Creating a function that automatically sort the dataframe and highlight desired rows"
   ]
  },
  {
   "cell_type": "code",
   "execution_count": null,
   "id": "59b5b45f",
   "metadata": {},
   "outputs": [],
   "source": []
  },
  {
   "cell_type": "code",
   "execution_count": null,
   "id": "5aa780af",
   "metadata": {},
   "outputs": [],
   "source": [
    "rainfall_se.head(3)"
   ]
  },
  {
   "cell_type": "code",
   "execution_count": null,
   "id": "3ff7a005",
   "metadata": {},
   "outputs": [],
   "source": [
    "import importlib\n",
    "from src.data_manipulation import sort_and_highlight_dataframe"
   ]
  },
  {
   "cell_type": "code",
   "execution_count": null,
   "id": "ffd654ab",
   "metadata": {},
   "outputs": [],
   "source": [
    "import src.data_manipulation\n",
    "importlib.reload(src.data_manipulation)\n",
    "from src.data_manipulation import sort_and_highlight_dataframe\n",
    "\n",
    "\n",
    "# Highlight multiple years\n",
    "result = sort_and_highlight_dataframe(\n",
    "    df=rainfall_se[rainfall_se['year'] > 2010],\n",
    "    sort_column='total_rainfall',\n",
    "    columns_to_display=['year', 'total_rainfall'],\n",
    "    highlight_condition={'year': [2024]},\n",
    "    add_rank = True,\n",
    "    n_rows=10  # Show only top 10\n",
    ")\n",
    "\n",
    "result"
   ]
  },
  {
   "cell_type": "code",
   "execution_count": null,
   "id": "066eab26",
   "metadata": {},
   "outputs": [],
   "source": [
    "plot_rainfall(\n",
    "    rainfall_se,\n",
    "    start_year= 2010,\n",
    "    latest_year=2025,\n",
    "    feature = 'avg_rainfall',\n",
    "    special_year= 2022,\n",
    "    title_label='Monthly Average per Year'\n",
    "    \n",
    ")"
   ]
  },
  {
   "cell_type": "code",
   "execution_count": null,
   "id": "c6089085",
   "metadata": {},
   "outputs": [],
   "source": [
    "result = sort_and_highlight_dataframe(\n",
    "    df=rainfall_se[rainfall_se['year'] > 2010],\n",
    "    sort_column='avg_rainfall',\n",
    "    columns_to_display=['year', 'avg_rainfall', 'total_rainfall'],\n",
    "    highlight_condition=[\n",
    "        {'condition': {'year': 2025}, 'color': \"#ad7712\"},  # Recent years in red\n",
    "        {'condition': {'year': 2022}, 'color': \"#D44521\"}           # 2010 in teal\n",
    "    ],\n",
    "    ascending=True,\n",
    "    n_rows=7\n",
    ")\n",
    "\n",
    "result"
   ]
  },
  {
   "cell_type": "code",
   "execution_count": null,
   "id": "e0cbe927",
   "metadata": {},
   "outputs": [],
   "source": []
  },
  {
   "cell_type": "code",
   "execution_count": null,
   "id": "bc55b878",
   "metadata": {},
   "outputs": [],
   "source": []
  },
  {
   "cell_type": "code",
   "execution_count": null,
   "id": "2cd6db2a",
   "metadata": {},
   "outputs": [],
   "source": []
  },
  {
   "cell_type": "code",
   "execution_count": null,
   "id": "da778bce",
   "metadata": {},
   "outputs": [],
   "source": []
  },
  {
   "cell_type": "code",
   "execution_count": null,
   "id": "7eb60312",
   "metadata": {},
   "outputs": [],
   "source": []
  },
  {
   "cell_type": "markdown",
   "id": "9a5f8a46",
   "metadata": {},
   "source": [
    "At least for year 2024, it doesn't look a particularly dry year. But what about considering also the the beginning of 2025? At first, I just considered the total precipitation per year, but what about the yearly monthly mean? In this way, I can also compare the latest data of 2025. "
   ]
  },
  {
   "cell_type": "code",
   "execution_count": null,
   "id": "6c3d9e7c",
   "metadata": {},
   "outputs": [],
   "source": [
    "start_year = 2010\n",
    "latest_yaer = 2025\n",
    "\n",
    "plot_rainfall(rainfall_se, start_year, latest_yaer, feature='avg_rainfall', special_year=2022, title_label='Monthly Average Rainfall')"
   ]
  },
  {
   "cell_type": "code",
   "execution_count": null,
   "id": "2165f862",
   "metadata": {},
   "outputs": [],
   "source": [
    "plot_rainfall(rainfall_se, start_year, latest_yaer, feature='median_rainfall', special_year=2022, title_label='Monthly Median Rainfall')"
   ]
  },
  {
   "cell_type": "markdown",
   "id": "985092c2",
   "metadata": {},
   "source": [
    "So, if we are having a look to the first 5 months of 2025, the monthly mean looks actually significantly (I am not saying *is* statistically significantly) lower than the previous year. But one could argue that we are just comparing the first 5 months of the year, it could just be that for the first 5 months of the year, each year, the mean might be lower than the rest of the year. The next step is to compare the first 5 months of each year and see what the mean can tell us. "
   ]
  },
  {
   "cell_type": "code",
   "execution_count": null,
   "id": "8de3419b",
   "metadata": {},
   "outputs": [],
   "source": [
    "months_compare = ['jan', 'feb', 'mar', 'apr', 'may']\n",
    "rainfall_se_jan_to_may = (data_melt[data_melt['month'].isin(months_compare)]\n",
    "                          .groupby('year')\n",
    "                          .agg(\n",
    "                              total_rainfall=('rainfall', 'sum'),\n",
    "                              avg_rainfall=('rainfall', 'mean'),\n",
    "                              median_rainfall=('rainfall', 'median'),\n",
    "                              max_rainfall=('rainfall', 'max'),\n",
    "                              min_rainfall=('rainfall', 'min')\n",
    "                              )\n",
    "                              ).reset_index()\n",
    "\n",
    "rainfall_se_jan_to_may.head()"
   ]
  },
  {
   "cell_type": "code",
   "execution_count": null,
   "id": "80c9ddbb",
   "metadata": {},
   "outputs": [],
   "source": [
    "start_year = 2010\n",
    "latest_yaer = 2025\n",
    "\n",
    "plot_rainfall(rainfall_se_jan_to_may, start_year, latest_yaer, feature='avg_rainfall', special_year=2022, title_label='Monthly Average Rainfall - Jan to May')"
   ]
  },
  {
   "cell_type": "code",
   "execution_count": null,
   "id": "c572f017",
   "metadata": {},
   "outputs": [],
   "source": [
    "rainfall_se_jan_to_may[rainfall_se_jan_to_may['year'] >= 2010][['year', 'total_rainfall', 'avg_rainfall', 'median_rainfall']].sort_values(by='total_rainfall', ascending=True).reset_index(drop=True)[:6]"
   ]
  },
  {
   "cell_type": "code",
   "execution_count": null,
   "id": "f39fa5ce",
   "metadata": {},
   "outputs": [],
   "source": [
    "conds=[\n",
    "    data_melt['month'].isin(['mar', 'apr', 'may']),\n",
    "    data_melt['month'].isin(['jun', 'jul', 'aug']),\n",
    "    data_melt['month'].isin(['sep', 'oct', 'nov']),\n",
    "    data_melt['month'].isin(['dec', 'jan', 'feb'])\n",
    "]\n",
    "choices=['spring', 'summer', 'autumn', 'winter']\n",
    "data_melt['season'] = np.select(conds, choices, default='unknown')\n",
    "data_melt.head()"
   ]
  },
  {
   "cell_type": "code",
   "execution_count": null,
   "id": "b19553f2",
   "metadata": {},
   "outputs": [],
   "source": [
    "# Create month order mapping\n",
    "month_order = ['jan', 'feb', 'mar', 'apr', 'may', 'jun', \n",
    "               'jul', 'aug', 'sep', 'oct', 'nov', 'dec']\n",
    "\n",
    "# Function to assign season and season year\n",
    "def assign_season(row):\n",
    "    month = row['month'].lower()\n",
    "    year = row['year']\n",
    "    \n",
    "    if month in ['jun', 'jul', 'aug', 'sep', 'oct', 'nov']:\n",
    "        return 'Jun-Nov', year\n",
    "    elif month in ['dec', 'jan', 'feb', 'mar', 'apr', 'may']:\n",
    "        # For Dec-May season, December belongs to the previous calendar year's season\n",
    "        if month == 'dec':\n",
    "            return 'Dec-May', year + 1\n",
    "        else:\n",
    "            return 'Dec-May', year\n",
    "        \n",
    "# Apply the function to create season columns\n",
    "df_temp = data_melt.copy()\n",
    "df_temp[['semester', 'semester_year']] = df_temp.apply(\n",
    "    assign_season, axis=1, result_type='expand'\n",
    ")\n",
    "\n",
    "df_temp.head()"
   ]
  },
  {
   "cell_type": "code",
   "execution_count": null,
   "id": "0a5f73c2",
   "metadata": {},
   "outputs": [],
   "source": [
    "# Function to assign water year (June to May)\n",
    "\n",
    "def assign_water_year(row):\n",
    "    month = row['month'].lower()\n",
    "    year = row['year']\n",
    "    \n",
    "    # June to December belong to the water year starting in that calendar year\n",
    "    if month in ['jun', 'jul', 'aug', 'sep', 'oct', 'nov', 'dec']:\n",
    "        return year\n",
    "    # January to May belong to the water year that started in the previous calendar year\n",
    "    else:  # jan, feb, mar, apr, may\n",
    "        return year - 1\n",
    "\n",
    "# Apply the function to create water year column\n",
    "# df_temp = df.copy()\n",
    "df_temp['water_year'] = df_temp.apply(assign_water_year, axis=1)\n",
    "df_temp.head()"
   ]
  },
  {
   "cell_type": "code",
   "execution_count": null,
   "id": "5f33c383",
   "metadata": {},
   "outputs": [],
   "source": [
    "df_temp.tail()"
   ]
  },
  {
   "cell_type": "code",
   "execution_count": null,
   "id": "e39218b4",
   "metadata": {},
   "outputs": [],
   "source": [
    "df_temp[(df_temp['water_year'] >= 2010) & (df_temp['water_year'] <= 2024)]"
   ]
  },
  {
   "cell_type": "code",
   "execution_count": null,
   "id": "c992b44e",
   "metadata": {},
   "outputs": [],
   "source": [
    "# Compute yearly statistics for each water year\n",
    "water_yearly_stats = df_temp[(df_temp['water_year'] >= 2010) & (df_temp['water_year'] <= 2024)].groupby('water_year')['rainfall'].agg([\n",
    "    'sum','mean', 'median', 'min', 'max'\n",
    "]).reset_index()\n",
    "\n",
    "# Rename columns for clarity\n",
    "water_yearly_stats.columns = ['year', 'total_rainfall','avg_rainfall', 'median_rainfall', \n",
    "                       'min_rainfall', 'max_rainfall']\n",
    "\n",
    "water_yearly_stats.head()"
   ]
  },
  {
   "cell_type": "code",
   "execution_count": null,
   "id": "a152c658",
   "metadata": {},
   "outputs": [],
   "source": [
    "start_year = 2010\n",
    "latest_yaer = 2024\n",
    "\n",
    "plot_rainfall(water_yearly_stats, start_year, latest_yaer, feature='total_rainfall', special_year=2021, title_label='Yearly Monthly Average Rainfall - Jan to May', year_shift=True)"
   ]
  },
  {
   "cell_type": "code",
   "execution_count": null,
   "id": "1d46656f",
   "metadata": {},
   "outputs": [],
   "source": []
  },
  {
   "cell_type": "markdown",
   "id": "723cfb0c",
   "metadata": {},
   "source": [
    "If we rank the 2024-25 season, we can see that even if below average, still does not look as a particular dry year"
   ]
  },
  {
   "cell_type": "code",
   "execution_count": null,
   "id": "da0d5516",
   "metadata": {},
   "outputs": [],
   "source": [
    "sorted_dataframe = water_yearly_stats.sort_values(['total_rainfall']).reset_index(drop=True)\n",
    "sorted_dataframe['Year'] = sorted_dataframe['year'].astype(str)+'-'+(sorted_dataframe['year']+1).astype(str).str[-2:]\n",
    "sorted_dataframe['Rank'] = sorted_dataframe.index + 1\n",
    "index_2024 = sorted_dataframe[sorted_dataframe['year'] == 2024].index[0]\n",
    "\n",
    "\n",
    "# Highlight specific rows (e.g., rows 1 and 3)\n",
    "def highlight_rows(s):\n",
    "    return ['background-color: #2d5a87' if s.name in [index_2024] else '' for _ in s]\n",
    "\n",
    "sorted_dataframe[['Year', 'Rank', 'total_rainfall', 'avg_rainfall', 'median_rainfall']].style.hide(axis='index').apply(highlight_rows, axis=1)"
   ]
  },
  {
   "cell_type": "code",
   "execution_count": null,
   "id": "bfc6d858",
   "metadata": {},
   "outputs": [],
   "source": [
    "\n",
    "sorted_dataframe"
   ]
  },
  {
   "cell_type": "code",
   "execution_count": null,
   "id": "81cded97",
   "metadata": {},
   "outputs": [],
   "source": []
  },
  {
   "cell_type": "code",
   "execution_count": null,
   "id": "a3b00d0f",
   "metadata": {},
   "outputs": [],
   "source": [
    "# Sample DataFrame\n",
    "df = pd.DataFrame({\n",
    "    'A': [1, 2, 3, 4, 5],\n",
    "    'B': [10, 20, 30, 40, 50],\n",
    "    'C': [100, 200, 300, 400, 500]\n",
    "})\n",
    "\n",
    "# Highlight specific rows (e.g., rows 1 and 3)\n",
    "def highlight_rows(s):\n",
    "    return ['background-color: yellow' if s.name in [1, 3] else '' for _ in s]\n",
    "\n",
    "df.style.apply(highlight_rows, axis=1)"
   ]
  },
  {
   "cell_type": "code",
   "execution_count": null,
   "id": "4480053a",
   "metadata": {},
   "outputs": [],
   "source": []
  },
  {
   "cell_type": "code",
   "execution_count": null,
   "id": "11d9a2ce",
   "metadata": {},
   "outputs": [],
   "source": [
    "water_yearly_stats['year'].astype(str)+'-'+(water_yearly_stats['year']+1).astype(str).str[-2:]"
   ]
  },
  {
   "cell_type": "code",
   "execution_count": null,
   "id": "b4cdf7fe",
   "metadata": {},
   "outputs": [],
   "source": [
    "(water_yearly_stats['year']+1).astype(str).str[-2:]"
   ]
  },
  {
   "cell_type": "code",
   "execution_count": null,
   "id": "309527fc",
   "metadata": {},
   "outputs": [],
   "source": []
  },
  {
   "cell_type": "code",
   "execution_count": null,
   "id": "0a0a5a04",
   "metadata": {},
   "outputs": [],
   "source": [
    "data_melt[data_melt['year'] == 2025].sort_values('month')['rainfall'].sum()"
   ]
  },
  {
   "cell_type": "code",
   "execution_count": null,
   "id": "64e07344",
   "metadata": {},
   "outputs": [],
   "source": [
    "231.3/5"
   ]
  },
  {
   "cell_type": "code",
   "execution_count": null,
   "id": "9764268d",
   "metadata": {},
   "outputs": [],
   "source": [
    "data_melt[data_melt['year'] == 2025].sort_values('month')['rainfall'].mean()"
   ]
  },
  {
   "cell_type": "code",
   "execution_count": null,
   "id": "f73874e4",
   "metadata": {},
   "outputs": [],
   "source": [
    "data_melt[data_melt['year'] == 2025]"
   ]
  },
  {
   "cell_type": "code",
   "execution_count": null,
   "id": "c3429bdc",
   "metadata": {},
   "outputs": [],
   "source": []
  },
  {
   "cell_type": "code",
   "execution_count": null,
   "id": "445c408e",
   "metadata": {},
   "outputs": [],
   "source": [
    "rainfall_se.head()"
   ]
  },
  {
   "cell_type": "code",
   "execution_count": null,
   "id": "12c8b010",
   "metadata": {},
   "outputs": [],
   "source": []
  },
  {
   "cell_type": "code",
   "execution_count": null,
   "id": "10c220bf",
   "metadata": {},
   "outputs": [],
   "source": []
  },
  {
   "cell_type": "code",
   "execution_count": null,
   "id": "9d96a655",
   "metadata": {},
   "outputs": [],
   "source": []
  },
  {
   "cell_type": "code",
   "execution_count": null,
   "id": "1084e13a",
   "metadata": {},
   "outputs": [],
   "source": [
    "# rainfall_se_data[rainfall_se_data['year'] == 2024]['rainfall'].sum()"
   ]
  },
  {
   "cell_type": "code",
   "execution_count": null,
   "id": "36703b98",
   "metadata": {},
   "outputs": [],
   "source": []
  },
  {
   "cell_type": "markdown",
   "id": "55361699",
   "metadata": {},
   "source": [
    "## ECA&D Website"
   ]
  },
  {
   "cell_type": "markdown",
   "id": "70edd0d4",
   "metadata": {},
   "source": [
    "Website: [European Climate Assessment and Dataset](https://www.ecad.eu/)\n",
    "\n",
    "\n",
    "We have [7 different monitoring stations](https://knmi-ecad-assets-prd.s3.amazonaws.com/download/stations.txt) in the nearby of London that I can take into consideration:\n",
    "\n",
    "| Station ID | Station Name | Latitude | Longitude | Elevation (in m) |\n",
    "| ---------- | ------------ | -------- | --------- | ---------------- |\n",
    "| 459 | LONDON, GB | +51:27:36 | +000:00:00 |   24 |\n",
    "| 2128 * | LONDON/GATWICK, GB | +51:09:00 | -000:10:48 | 62 |\n",
    "| 1860 * | HEATHROW,GB | +51:28:44 | -000:26:56 |   25 |\n",
    "| 16445 * | KEW,GB |+51:28:03 | -000:18:50 |    5 |\n",
    "| 16444 | LONDONWEATHER CENTRE, GB | +51:31:00 | -000:07:00 | 77 |\n",
    "| 17476 * | LONDON ST JAMES'S PARK,GB | +51:30:15 |-000:07:45 | 5 |\n",
    "| 21976 *| LONDON-WEATHER-CENTRE,GB | +51:31:18 | -000:06:42 | 43 |"
   ]
  },
  {
   "cell_type": "markdown",
   "id": "f5bbacb0",
   "metadata": {},
   "source": [
    "### Blended vs Non Blended data"
   ]
  },
  {
   "cell_type": "markdown",
   "id": "07a23552",
   "metadata": {},
   "source": [
    "\n",
    "From the [ECA&D FAQ page](https://www.ecad.eu/FAQ/index.php#3)\n",
    "\n",
    "The series collected from participating countries generally do not contain data for the most recent years. This is partly due to the time that is needed for data quality control and archiving at the home institutions of the participants, and partly the result of the efforts required to include the data in the ECA database. To make available for each station a time series that is as complete as possible, we have included an automated update procedure that relies on the daily data from SYNOP messages that are distributed in near real time over the Global Telecommunication System (GTS). In this procedure the gaps in a daily series are also infilled with observations from nearby stations, provided that they are within 12.5km distance and that height differences are less than 25m.\n",
    "\n",
    "The download options under daily data allow to select blend or non-blend. \n",
    "\n",
    "> *The non-blended series are the series as provided by the participants. The blended series underwent the process described above. In case a blended series is chosen, information on the underlying series that are used in the blending process is provided.*\n",
    "\n",
    "In this notebook, I collected both blended and non blended data for all 5 stations. The idea, is to merge all non blended data (issue of missing data) and see if we come up with a coherent dataset."
   ]
  },
  {
   "cell_type": "code",
   "execution_count": null,
   "id": "76bf850e",
   "metadata": {},
   "outputs": [],
   "source": [
    "def transform_data_datetime(df):\n",
    "    df = df.copy()\n",
    "    df['datetime'] = pd.to_datetime(df['DATE'], format=\"%Y%m%d\")\n",
    "    df['year'] = df['datetime'].dt.year\n",
    "    df['month int'] = df['datetime'].dt.month\n",
    "    df['month'] = df['datetime'].dt.strftime('%b')\n",
    "    df['day'] = df['datetime'].dt.day\n",
    "\n",
    "    return df"
   ]
  },
  {
   "cell_type": "markdown",
   "id": "e1efdba1",
   "metadata": {},
   "source": [
    "### Gatwick Data"
   ]
  },
  {
   "cell_type": "code",
   "execution_count": null,
   "id": "0f8f19c5",
   "metadata": {},
   "outputs": [],
   "source": [
    "data = pd.read_csv('./data/non_blended/London_Gatwick_2128_RR_SOUID221586.csv')\n",
    "data.head()"
   ]
  },
  {
   "cell_type": "code",
   "execution_count": null,
   "id": "5ad50605",
   "metadata": {},
   "outputs": [],
   "source": [
    "data_Gatwick_non_blended = transform_data_datetime(data)\n",
    "data_Gatwick_non_blended.head()"
   ]
  },
  {
   "cell_type": "markdown",
   "id": "e6dee7cb",
   "metadata": {},
   "source": [
    "### Heathrow Data"
   ]
  },
  {
   "cell_type": "markdown",
   "id": "fd61b04b",
   "metadata": {},
   "source": [
    "As for the Heathrow data, we have 2 dataset available. One covers data starting from 1960, the other one starting from 1980. The first dataset also contains more \"reliable\" data. I also compared the two dataset to see if they contain measurements that are consistent between each other (in terms of reported precipitation in mm for each day)"
   ]
  },
  {
   "cell_type": "code",
   "execution_count": null,
   "id": "b1506749",
   "metadata": {},
   "outputs": [],
   "source": [
    "data = pd.read_csv('./data/non_blended/London_Heathrow_1860_1_RR_SOUID107650.csv')\n",
    "data.head()"
   ]
  },
  {
   "cell_type": "code",
   "execution_count": null,
   "id": "1db96ac7",
   "metadata": {},
   "outputs": [],
   "source": [
    "data_Heathrow_1_non_blended = transform_data_datetime(data)\n",
    "data_Heathrow_1_non_blended.head()"
   ]
  },
  {
   "cell_type": "code",
   "execution_count": null,
   "id": "d4f3bdec",
   "metadata": {},
   "outputs": [],
   "source": [
    "data = pd.read_csv('./data/non_blended/London_Heathrow_1860_2_RR_SOUID219137.csv')\n",
    "data.head()"
   ]
  },
  {
   "cell_type": "code",
   "execution_count": null,
   "id": "f8da587e",
   "metadata": {},
   "outputs": [],
   "source": [
    "data_Heathrow_2_non_blended = transform_data_datetime(data)\n",
    "data_Heathrow_2_non_blended.head()"
   ]
  },
  {
   "cell_type": "code",
   "execution_count": null,
   "id": "6c2c57f4",
   "metadata": {},
   "outputs": [],
   "source": [
    "data_Heathrow_1_non_blended[(data_Heathrow_1_non_blended['year'] == 1980) & \n",
    "                            (data_Heathrow_1_non_blended['month'] == 'Jul')]['RR'].sum()"
   ]
  },
  {
   "cell_type": "code",
   "execution_count": null,
   "id": "c2e72431",
   "metadata": {},
   "outputs": [],
   "source": [
    "data_Heathrow_2_non_blended[(data_Heathrow_2_non_blended['year'] == 1980) & \n",
    "                            (data_Heathrow_2_non_blended['month'] == 'Jul')]['RR'].sum()"
   ]
  },
  {
   "cell_type": "code",
   "execution_count": null,
   "id": "1bcb07a5",
   "metadata": {},
   "outputs": [],
   "source": [
    "test_1980_1 = data_Heathrow_1_non_blended[data_Heathrow_1_non_blended['year'] == 1980]\n",
    "test_1980_2 = data_Heathrow_2_non_blended[data_Heathrow_2_non_blended['year'] == 1980]"
   ]
  },
  {
   "cell_type": "code",
   "execution_count": null,
   "id": "515f65cd",
   "metadata": {},
   "outputs": [],
   "source": [
    "fig, ax = plt.subplots(figsize=(12, 6))\n",
    "\n",
    "sns.lineplot(\n",
    "    data = test_1980_1,\n",
    "    x = 'datetime',\n",
    "    y = 'RR',\n",
    "    ax=ax,\n",
    "    label='Heathrow 1'\n",
    ")\n",
    "\n",
    "sns.lineplot(\n",
    "    data = test_1980_2,\n",
    "    x = 'datetime',\n",
    "    y = 'RR',\n",
    "    ax=ax,\n",
    "    label='Heathrow 2'\n",
    ")\n"
   ]
  },
  {
   "cell_type": "markdown",
   "id": "1e673a41",
   "metadata": {},
   "source": [
    "### Kew Garden"
   ]
  },
  {
   "cell_type": "code",
   "execution_count": null,
   "id": "1a775998",
   "metadata": {},
   "outputs": [],
   "source": [
    "data = pd.read_csv('./data/non_blended/London_KG_21975_RR_SOUID219141.csv')\n",
    "print(data.shape)\n",
    "data.head()"
   ]
  },
  {
   "cell_type": "code",
   "execution_count": null,
   "id": "29b882b9",
   "metadata": {},
   "outputs": [],
   "source": [
    "data_KG_non_blended = transform_data_datetime(data)\n",
    "data_KG_non_blended.head()"
   ]
  },
  {
   "cell_type": "markdown",
   "id": "21cb3bd4",
   "metadata": {},
   "source": [
    "### St. James Park"
   ]
  },
  {
   "cell_type": "code",
   "execution_count": null,
   "id": "5a519044",
   "metadata": {},
   "outputs": [],
   "source": [
    "data = pd.read_csv('./data/non_blended/London_SJP_17476_RR_SOUID219145.csv')\n",
    "print(data.shape)\n",
    "data.head()"
   ]
  },
  {
   "cell_type": "code",
   "execution_count": null,
   "id": "3809e268",
   "metadata": {},
   "outputs": [],
   "source": [
    "data_SJP_non_blended = transform_data_datetime(data)\n",
    "data_SJP_non_blended.head()"
   ]
  },
  {
   "cell_type": "code",
   "execution_count": null,
   "id": "130097ec",
   "metadata": {},
   "outputs": [],
   "source": [
    "data_SJP_non_blended[data_SJP_non_blended['Q_RR'] != 0].shape"
   ]
  },
  {
   "cell_type": "markdown",
   "id": "ccc4f1fa",
   "metadata": {},
   "source": [
    "### London Weather Center"
   ]
  },
  {
   "cell_type": "code",
   "execution_count": null,
   "id": "e437b7a2",
   "metadata": {},
   "outputs": [],
   "source": [
    "data = pd.read_csv('./data/non_blended/London_WC_21976_RR_SOUID219147.csv')\n",
    "print(data.shape)\n",
    "data.head()"
   ]
  },
  {
   "cell_type": "code",
   "execution_count": null,
   "id": "34bbb1ca",
   "metadata": {},
   "outputs": [],
   "source": [
    "data_WC_non_blended = transform_data_datetime(data)\n",
    "data_WC_non_blended.head()"
   ]
  },
  {
   "cell_type": "markdown",
   "id": "8b5ab1f5",
   "metadata": {},
   "source": [
    "## Data Cleaning"
   ]
  },
  {
   "cell_type": "markdown",
   "id": "a7309d1a",
   "metadata": {},
   "source": [
    "I am starting by considering the St. James Park data (the closest station to where I live) and fill the missing reading with the other available data - Kew Garden first and Heathrow."
   ]
  },
  {
   "cell_type": "code",
   "execution_count": null,
   "id": "e098aaff",
   "metadata": {},
   "outputs": [],
   "source": [
    "data_SJP_non_blended[data_SJP_non_blended['Q_RR'] != 0].shape"
   ]
  },
  {
   "cell_type": "code",
   "execution_count": null,
   "id": "9393a856",
   "metadata": {},
   "outputs": [],
   "source": [
    "data_SJP_non_blended[data_SJP_non_blended['Q_RR'] != 0].shape[0]/ data_SJP_non_blended.shape[0]"
   ]
  },
  {
   "cell_type": "code",
   "execution_count": null,
   "id": "066830ea",
   "metadata": {},
   "outputs": [],
   "source": [
    "data_KG_non_blended[data_KG_non_blended['Q_RR'] != 0].shape[0]/ data_KG_non_blended.shape[0]"
   ]
  },
  {
   "cell_type": "code",
   "execution_count": null,
   "id": "09808082",
   "metadata": {},
   "outputs": [],
   "source": [
    "data_SJP_non_blended['datetime'].min()"
   ]
  },
  {
   "cell_type": "code",
   "execution_count": null,
   "id": "aea9f790",
   "metadata": {},
   "outputs": [],
   "source": [
    "data_KG_non_blended['datetime'].min()"
   ]
  },
  {
   "cell_type": "code",
   "execution_count": null,
   "id": "44aaf9b3",
   "metadata": {},
   "outputs": [],
   "source": [
    "data_SJP_2010 = data_SJP_non_blended[data_SJP_non_blended['datetime'] > '2010-01-01'].copy()\n",
    "data_KG_2010 = data_KG_non_blended[data_KG_non_blended['datetime'] > '2010-01-01'].copy()\n",
    "print(data_SJP_2010.shape, data_KG_2010.shape)"
   ]
  },
  {
   "cell_type": "code",
   "execution_count": null,
   "id": "462ea442",
   "metadata": {},
   "outputs": [],
   "source": [
    "data_SJP_2010[data_SJP_2010['Q_RR'] != 0].shape"
   ]
  },
  {
   "cell_type": "code",
   "execution_count": null,
   "id": "c26d725d",
   "metadata": {},
   "outputs": [],
   "source": [
    "data_KG_2010[data_KG_2010['Q_RR'] != 0].shape"
   ]
  },
  {
   "cell_type": "code",
   "execution_count": null,
   "id": "aecd2011",
   "metadata": {},
   "outputs": [],
   "source": [
    "sns.scatterplot(\n",
    "    data=data_KG_2010,\n",
    "    x='datetime',\n",
    "    y='RR'\n",
    "    )"
   ]
  },
  {
   "cell_type": "code",
   "execution_count": null,
   "id": "3283517e",
   "metadata": {},
   "outputs": [],
   "source": [
    "sns.set_theme(rc={'figure.figsize':(11.7,8.27)})\n",
    "\n",
    "sns.scatterplot(\n",
    "    data=data_Heathrow_1_non_blended[data_Heathrow_1_non_blended['year'] > 2010],\n",
    "    x='datetime',\n",
    "    y='RR'\n",
    "    );"
   ]
  },
  {
   "cell_type": "markdown",
   "id": "35a839f3",
   "metadata": {},
   "source": [
    "So, basically, after searching data for hours, I came to the conclusion that the best dataset for my purpose was just the one from Heathrow as it doesn't contain any ureliable data. All inconsistent data are prior of 2010.\n",
    "\n",
    "> Lesson learned: Set up your constrains and then check if the data fit the purpose as soon as you download it"
   ]
  },
  {
   "cell_type": "code",
   "execution_count": null,
   "id": "959e1566",
   "metadata": {},
   "outputs": [],
   "source": [
    "data_Heathrow_1_non_blended[data_Heathrow_1_non_blended['Q_RR'] != 0]"
   ]
  },
  {
   "cell_type": "code",
   "execution_count": null,
   "id": "dc8adc0f",
   "metadata": {},
   "outputs": [],
   "source": [
    "rainfall_data = data_Heathrow_1_non_blended[(data_Heathrow_1_non_blended['year'] >= 2010) & (data_Heathrow_1_non_blended['year'] <2025)].copy() \n",
    "\n",
    "rainfall_data.month = pd.Categorical(\n",
    "    rainfall_data.month,\n",
    "    categories=['Jan', 'Feb', 'Mar', 'Apr', 'May', 'Jun', \n",
    "                'Jul', 'Aug', 'Sep', 'Oct', 'Nov', 'Dec'],\n",
    "    ordered=True\n",
    ")"
   ]
  },
  {
   "cell_type": "code",
   "execution_count": null,
   "id": "5236ddb1",
   "metadata": {},
   "outputs": [],
   "source": [
    "sns.set_theme(rc={'figure.figsize':(12.,6.)})\n",
    "\n",
    "sns.scatterplot(\n",
    "    data=rainfall_data,\n",
    "    x='datetime',\n",
    "    y='RR'\n",
    "    );"
   ]
  },
  {
   "cell_type": "code",
   "execution_count": null,
   "id": "cf001182",
   "metadata": {},
   "outputs": [],
   "source": [
    "print(rainfall_data['datetime'].min())\n",
    "print(rainfall_data['datetime'].max())"
   ]
  },
  {
   "cell_type": "code",
   "execution_count": null,
   "id": "74a309ed",
   "metadata": {},
   "outputs": [],
   "source": [
    "precipitation_by_year_month = (rainfall_data\n",
    " .groupby(['year', 'month'], observed=False)\n",
    " .agg\n",
    " (\n",
    "     precipitation_sum=('RR', 'sum'),\n",
    "     precipitation_mean=('RR', 'mean'),\n",
    "     precipitation_std=('RR', 'std'),\n",
    "     precipitation_median=('RR', 'median'),\n",
    "     precipitation_max=('RR', 'max'),\n",
    "     precipitation_min=('RR', 'min')\n",
    " )\n",
    " ).reset_index()"
   ]
  },
  {
   "cell_type": "code",
   "execution_count": null,
   "id": "981e28b1",
   "metadata": {},
   "outputs": [],
   "source": [
    "precipitation_by_year_month.head()"
   ]
  },
  {
   "cell_type": "code",
   "execution_count": null,
   "id": "65bdaed9",
   "metadata": {},
   "outputs": [],
   "source": [
    "rainfall_data[(rainfall_data['year'] == 2010) & (rainfall_data['month'] == 'Jan')]['RR'].sum()"
   ]
  },
  {
   "cell_type": "code",
   "execution_count": null,
   "id": "3a490305",
   "metadata": {},
   "outputs": [],
   "source": [
    "rainfall_data[(rainfall_data['year'] == 2010) & (rainfall_data['month'] == 'Jan')]['RR'].mean()"
   ]
  },
  {
   "cell_type": "code",
   "execution_count": null,
   "id": "6cd90192",
   "metadata": {},
   "outputs": [],
   "source": [
    "data = pd.read_csv('./data/south_east_rainfall.csv')\n",
    "\n",
    "data.columns = data.columns.str.strip()\n",
    "string_columns = data.select_dtypes(include=['object']).columns\n",
    "data[string_columns] = data[string_columns].apply(pd.to_numeric, errors='coerce')\n",
    "data_melt = data[['year', 'jan', 'feb', 'mar', 'apr', 'may', 'jun', 'jul', 'aug', 'sep','oct', 'nov', 'dec']].melt(id_vars='year',var_name='month', value_name='value').sort_values(by='year')\n",
    "data_melt['month'] = pd.Categorical(data_melt['month'], categories=['jan', 'feb', 'mar', 'apr', 'may', 'jun', 'jul', 'aug', 'sep', 'oct', 'nov', 'dec'], ordered=True)"
   ]
  },
  {
   "cell_type": "code",
   "execution_count": null,
   "id": "4aa5a46e",
   "metadata": {},
   "outputs": [],
   "source": [
    "rainfall_data_south_east = data_melt[(data_melt['year'] >= 2010) & (data_melt['year'] < 2025)].sort_values(by=['year', 'month']).reset_index(drop=True)"
   ]
  },
  {
   "cell_type": "code",
   "execution_count": null,
   "id": "429b98a7",
   "metadata": {},
   "outputs": [],
   "source": [
    "rainfall_data_heathrow = precipitation_by_year_month.copy()\n",
    "rainfall_data_heathrow.head()"
   ]
  },
  {
   "cell_type": "code",
   "execution_count": null,
   "id": "40b3f45a",
   "metadata": {},
   "outputs": [],
   "source": [
    "rainfall_data_south_east.head()"
   ]
  },
  {
   "cell_type": "code",
   "execution_count": null,
   "id": "5fc0d4d5",
   "metadata": {},
   "outputs": [],
   "source": [
    "rainfall_data_heathrow.dtypes"
   ]
  },
  {
   "cell_type": "code",
   "execution_count": null,
   "id": "8de36845",
   "metadata": {},
   "outputs": [],
   "source": [
    "rainfall_data_south_east['month'] = rainfall_data_south_east['month'].str.capitalize()  # jan -> Jan\n",
    "# df['datetime'] = pd.to_datetime(df[['Year', 'Month']].assign(day=1))"
   ]
  },
  {
   "cell_type": "code",
   "execution_count": null,
   "id": "7db643f2",
   "metadata": {},
   "outputs": [],
   "source": [
    "rainfall_data_south_east['datetime'] = pd.to_datetime(rainfall_data_south_east['year'].astype(str) + '-' + rainfall_data_south_east['month'] + '-01', format='%Y-%b-%d')"
   ]
  },
  {
   "cell_type": "code",
   "execution_count": null,
   "id": "eaa0659a",
   "metadata": {},
   "outputs": [],
   "source": [
    "rainfall_data_heathrow['datetime'] = pd.to_datetime(rainfall_data_heathrow['year'].astype(str) + '-' + rainfall_data_heathrow['month'].astype(str) + '-01', format='%Y-%b-%d')\n",
    "# rainfall_data_south_east.dtypes"
   ]
  },
  {
   "cell_type": "code",
   "execution_count": null,
   "id": "494934d2",
   "metadata": {},
   "outputs": [],
   "source": [
    "rainfall_data_heathrow"
   ]
  },
  {
   "cell_type": "code",
   "execution_count": null,
   "id": "1c5ffd0b",
   "metadata": {},
   "outputs": [],
   "source": [
    "rainfall_heathrow = rainfall_data_heathrow[['datetime', 'precipitation_sum', 'precipitation_mean']].rename(\n",
    "    columns={\n",
    "        'precipitation_sum': 'Heathrow Sum',\n",
    "        'precipitation_mean': 'Heathrow Mean'\n",
    "    }\n",
    ")\n",
    "\n",
    "rainfall_south_east = rainfall_data_south_east[['datetime', 'value']].rename(\n",
    "    columns={\n",
    "        'value': 'South East Sum'\n",
    "    }\n",
    ")"
   ]
  },
  {
   "cell_type": "code",
   "execution_count": null,
   "id": "e777fade",
   "metadata": {},
   "outputs": [],
   "source": [
    "rainfall_heathrow.head()"
   ]
  },
  {
   "cell_type": "code",
   "execution_count": null,
   "id": "64d505ac",
   "metadata": {},
   "outputs": [],
   "source": [
    "rainfall_south_east.head()"
   ]
  },
  {
   "cell_type": "code",
   "execution_count": null,
   "id": "12cb96c3",
   "metadata": {},
   "outputs": [],
   "source": [
    "rainfall_compare = rainfall_heathrow.merge(\n",
    "    rainfall_south_east,\n",
    "    on='datetime',\n",
    "    how='outer'\n",
    ")"
   ]
  },
  {
   "cell_type": "code",
   "execution_count": null,
   "id": "efb2dcdc",
   "metadata": {},
   "outputs": [],
   "source": [
    "rainfall_compare[['Heathrow Sum', 'South East Sum']].corr()"
   ]
  },
  {
   "cell_type": "code",
   "execution_count": null,
   "id": "6176b737",
   "metadata": {},
   "outputs": [],
   "source": [
    "rainfall_compare[['Heathrow Mean', 'South East Sum']].corr()"
   ]
  },
  {
   "cell_type": "code",
   "execution_count": null,
   "id": "0fa93bde",
   "metadata": {},
   "outputs": [],
   "source": [
    "fig, ax = plt.subplots(figsize=(12, 6))\n",
    "\n",
    "sns.lineplot(\n",
    "    data = rainfall_compare,\n",
    "    x = 'datetime',\n",
    "    y = 'Heathrow Mean',\n",
    "    ax=ax,\n",
    "    label='Heathrow'\n",
    ")\n",
    "\n",
    "sns.lineplot(\n",
    "    data = rainfall_compare,\n",
    "    x = 'datetime',\n",
    "    y = 'South East Sum',\n",
    "    ax=ax,\n",
    "    label='South East'\n",
    ")\n"
   ]
  },
  {
   "cell_type": "code",
   "execution_count": null,
   "id": "62eba784",
   "metadata": {},
   "outputs": [],
   "source": []
  },
  {
   "cell_type": "code",
   "execution_count": null,
   "id": "cbd3c431",
   "metadata": {},
   "outputs": [],
   "source": [
    "rainfall_data.corr()"
   ]
  },
  {
   "cell_type": "markdown",
   "id": "99da9069",
   "metadata": {},
   "source": [
    "### Blended - St James park and London central"
   ]
  },
  {
   "cell_type": "code",
   "execution_count": null,
   "id": "2fdf76a9",
   "metadata": {},
   "outputs": [],
   "source": [
    "# St. James park data BLENDED\n",
    "data_sjp_blended = pd.read_csv('./data/RR_STAID017476_blended.csv')\n",
    "# Convert the 'DATE' column to datetime format\n",
    "data_sjp_blended['datetime'] = pd.to_datetime(data_sjp_blended['DATE'], format=\"%Y%m%d\")\n",
    "# Creating year, month, and day columns \n",
    "data_sjp_blended['year'] = data_sjp_blended['datetime'].dt.year\n",
    "data_sjp_blended['month int'] = data_sjp_blended['datetime'].dt.month\n",
    "data_sjp_blended['month'] = data_sjp_blended['datetime'].dt.strftime('%b')\n",
    "data_sjp_blended['day'] = data_sjp_blended['datetime'].dt.day\n",
    "# display the first few rows of the dataframe\n",
    "print(data_sjp_blended.shape)\n",
    "data_sjp_blended.head()"
   ]
  },
  {
   "cell_type": "code",
   "execution_count": null,
   "id": "c417fac9",
   "metadata": {},
   "outputs": [],
   "source": [
    "# London park data BLENDED\n",
    "data_lon_blended = pd.read_csv('./data/London_blended_RR_STAID021976.csv')\n",
    "# Convert the 'DATE' column to datetime format\n",
    "data_lon_blended['datetime'] = pd.to_datetime(data_lon_blended['DATE'], format=\"%Y%m%d\")\n",
    "# Creating year, month, and day columns \n",
    "data_lon_blended['year'] = data_lon_blended['datetime'].dt.year\n",
    "data_lon_blended['month int'] = data_lon_blended['datetime'].dt.month\n",
    "data_lon_blended['month'] = data_lon_blended['datetime'].dt.strftime('%b')\n",
    "data_lon_blended['day'] = data_lon_blended['datetime'].dt.day\n",
    "# display the first few rows of the dataframe\n",
    "print(data_lon_blended.shape)\n",
    "data_lon_blended.head()"
   ]
  },
  {
   "cell_type": "code",
   "execution_count": null,
   "id": "101d1636",
   "metadata": {},
   "outputs": [],
   "source": [
    "# London park data NON BLENDED\n",
    "data_lon_non_blended = pd.read_csv('./data/London_non_blended_RR_SOUID219147.csv')\n",
    "# Convert the 'DATE' column to datetime format\n",
    "data_lon_non_blended['datetime'] = pd.to_datetime(data_lon_non_blended['DATE'], format=\"%Y%m%d\")\n",
    "# Creating year, month, and day columns \n",
    "data_lon_non_blended['year'] = data_lon_non_blended['datetime'].dt.year\n",
    "data_lon_non_blended['month int'] = data_lon_non_blended['datetime'].dt.month\n",
    "data_lon_non_blended['month'] = data_lon_non_blended['datetime'].dt.strftime('%b')\n",
    "data_lon_non_blended['day'] = data_lon_non_blended['datetime'].dt.day\n",
    "# display the first few rows of the dataframe\n",
    "print(data_lon_non_blended.shape)\n",
    "data_lon_non_blended.head()"
   ]
  },
  {
   "cell_type": "code",
   "execution_count": null,
   "id": "fd6e06e4",
   "metadata": {},
   "outputs": [],
   "source": [
    "# London Kew Garded data NON BLENDED\n",
    "data_KG_non_blended = pd.read_csv('./data/London_KG_non_blended_RR_SOUID219141.csv')\n",
    "# Convert the 'DATE' column to datetime format\n",
    "data_KG_non_blended['datetime'] = pd.to_datetime(data_KG_non_blended['DATE'], format=\"%Y%m%d\")\n",
    "# Creating year, month, and day columns \n",
    "data_KG_non_blended['year'] = data_KG_non_blended['datetime'].dt.year\n",
    "data_KG_non_blended['month int'] = data_KG_non_blended['datetime'].dt.month\n",
    "data_KG_non_blended['month'] = data_KG_non_blended['datetime'].dt.strftime('%b')\n",
    "data_KG_non_blended['day'] = data_KG_non_blended['datetime'].dt.day\n",
    "# display the first few rows of the dataframe\n",
    "print(data_KG_non_blended.shape)\n",
    "data_KG_non_blended.head()"
   ]
  },
  {
   "cell_type": "code",
   "execution_count": null,
   "id": "1fd90194",
   "metadata": {},
   "outputs": [],
   "source": []
  },
  {
   "cell_type": "code",
   "execution_count": null,
   "id": "8cbefbd9",
   "metadata": {},
   "outputs": [],
   "source": [
    "data_lon_non_blended[data_lon_non_blended['Q_RR'] != 0].shape"
   ]
  },
  {
   "cell_type": "code",
   "execution_count": null,
   "id": "d0dccc76",
   "metadata": {},
   "outputs": [],
   "source": []
  },
  {
   "cell_type": "code",
   "execution_count": null,
   "id": "bc8ae15b",
   "metadata": {},
   "outputs": [],
   "source": [
    "(data_sjp_blended\n",
    " .groupby(['year', 'month int'])\n",
    " .agg({'RR': 'sum'})\n",
    ").reset_index()[45:55]"
   ]
  },
  {
   "cell_type": "code",
   "execution_count": null,
   "id": "3b1be83a",
   "metadata": {},
   "outputs": [],
   "source": [
    "(data_lon_blended\n",
    " .groupby(['year', 'month int'])\n",
    " .agg({'RR': 'sum'})\n",
    ").reset_index()[152:162]"
   ]
  },
  {
   "cell_type": "code",
   "execution_count": null,
   "id": "179709a2",
   "metadata": {},
   "outputs": [],
   "source": [
    "data_lon_blended[data_lon_blended['datetime'].isin(list(data_sjp_blended[data_sjp_blended['Q_RR'] != 0]['datetime'].values))].tail()"
   ]
  },
  {
   "cell_type": "code",
   "execution_count": null,
   "id": "58794678",
   "metadata": {},
   "outputs": [],
   "source": [
    "data_lon_non_blended[data_lon_non_blended['datetime'].isin(list(data_sjp_blended[data_sjp_blended['Q_RR'] != 0]['datetime'].values))].head()"
   ]
  },
  {
   "cell_type": "code",
   "execution_count": null,
   "id": "2cae99aa",
   "metadata": {},
   "outputs": [],
   "source": [
    "data_KG_non_blended[(data_KG_non_blended['datetime'].isin(list(data_sjp_blended[data_sjp_blended['Q_RR'] != 0]['datetime'].values))) & \n",
    "                    (data_KG_non_blended['Q_RR'] == 0)]"
   ]
  },
  {
   "cell_type": "code",
   "execution_count": null,
   "id": "e20e347c",
   "metadata": {},
   "outputs": [],
   "source": []
  },
  {
   "cell_type": "code",
   "execution_count": null,
   "id": "7ff0a8c4",
   "metadata": {},
   "outputs": [],
   "source": []
  },
  {
   "cell_type": "markdown",
   "id": "9e7f54e0",
   "metadata": {},
   "source": [
    "## Met Office Data\n",
    "\n",
    "- [Met Office Websise](https://www.metoffice.gov.uk/research/climate/maps-and-data/historic-station-data)\n",
    "- [London Heathrow](https://www.metoffice.gov.uk/pub/data/weather/uk/climate/stationdata/heathrowdata.txt)"
   ]
  },
  {
   "cell_type": "markdown",
   "id": "385ca566",
   "metadata": {},
   "source": []
  }
 ],
 "metadata": {
  "kernelspec": {
   "display_name": "base",
   "language": "python",
   "name": "python3"
  },
  "language_info": {
   "codemirror_mode": {
    "name": "ipython",
    "version": 3
   },
   "file_extension": ".py",
   "mimetype": "text/x-python",
   "name": "python",
   "nbconvert_exporter": "python",
   "pygments_lexer": "ipython3",
   "version": "3.12.3"
  }
 },
 "nbformat": 4,
 "nbformat_minor": 5
}
