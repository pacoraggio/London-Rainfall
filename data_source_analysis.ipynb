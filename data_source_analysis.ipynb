{
 "cells": [
  {
   "cell_type": "code",
   "execution_count": 1,
   "id": "36b3eff1",
   "metadata": {},
   "outputs": [],
   "source": [
    "import pandas as pd\n",
    "import numpy as np\n",
    "\n",
    "from matplotlib import pyplot as plt\n",
    "import seaborn as sns"
   ]
  },
  {
   "cell_type": "markdown",
   "id": "5a6c36e9",
   "metadata": {},
   "source": [
    "# Data source analysis"
   ]
  },
  {
   "cell_type": "markdown",
   "id": "99c6c869",
   "metadata": {},
   "source": [
    "In this notebook, I will illustrate the process I followed in collecting and curating the data. I tried different dataset from different sources, checking if they were consistent before merging them if necessary.\n",
    "\n",
    "I started with a dataset containing the monthly data and then searched for daily measurements. When possible, I searched and compared different sources to see if data where trustfully and coherent."
   ]
  },
  {
   "cell_type": "markdown",
   "id": "0ae79553",
   "metadata": {},
   "source": [
    "## Met Office Website"
   ]
  },
  {
   "cell_type": "markdown",
   "id": "5769b215",
   "metadata": {},
   "source": [
    "> Website: [Met Office Website, UK and regional series](https://www.metoffice.gov.uk/research/climate/maps-and-data/uk-and-regional-series)\n",
    "\n",
    "From the UK and regional series webpage, this are the adopted criteria for downloading the data:\n",
    "- Order: Year ordered statistics\n",
    "- Region: England SE/Central S\n",
    "- Parameter: Rainfall \n",
    "\n",
    "Header:\n",
    "```\n",
    "Areal values from HadUK-Grid 1km gridded climate data from land surface network\n",
    "Source: Met Office National Climate Information Centre\n",
    "Monthly, seasonal and annual total precipitation amount for England SE and Central S\n",
    "Areal series, starting in 1836\n",
    "Last updated 01-Jun-2025 11:46\n",
    "```"
   ]
  },
  {
   "cell_type": "code",
   "execution_count": 2,
   "id": "bf0597c1",
   "metadata": {},
   "outputs": [
    {
     "data": {
      "text/html": [
       "<div>\n",
       "<style scoped>\n",
       "    .dataframe tbody tr th:only-of-type {\n",
       "        vertical-align: middle;\n",
       "    }\n",
       "\n",
       "    .dataframe tbody tr th {\n",
       "        vertical-align: top;\n",
       "    }\n",
       "\n",
       "    .dataframe thead th {\n",
       "        text-align: right;\n",
       "    }\n",
       "</style>\n",
       "<table border=\"1\" class=\"dataframe\">\n",
       "  <thead>\n",
       "    <tr style=\"text-align: right;\">\n",
       "      <th></th>\n",
       "      <th>year</th>\n",
       "      <th>jan</th>\n",
       "      <th>feb</th>\n",
       "      <th>mar</th>\n",
       "      <th>apr</th>\n",
       "      <th>may</th>\n",
       "      <th>jun</th>\n",
       "      <th>jul</th>\n",
       "      <th>aug</th>\n",
       "      <th>sep</th>\n",
       "      <th>oct</th>\n",
       "      <th>nov</th>\n",
       "      <th>dec</th>\n",
       "      <th>win</th>\n",
       "      <th>spr</th>\n",
       "      <th>sum</th>\n",
       "      <th>aut</th>\n",
       "      <th>ann</th>\n",
       "    </tr>\n",
       "  </thead>\n",
       "  <tbody>\n",
       "    <tr>\n",
       "      <th>0</th>\n",
       "      <td>1836</td>\n",
       "      <td>67.7</td>\n",
       "      <td>59.0</td>\n",
       "      <td>103.1</td>\n",
       "      <td>90.7</td>\n",
       "      <td>21.5</td>\n",
       "      <td>39.9</td>\n",
       "      <td>65.1</td>\n",
       "      <td>64.4</td>\n",
       "      <td>94.8</td>\n",
       "      <td>126.1</td>\n",
       "      <td>100.0</td>\n",
       "      <td>60.1</td>\n",
       "      <td>---</td>\n",
       "      <td>215.3</td>\n",
       "      <td>169.4</td>\n",
       "      <td>320.9</td>\n",
       "      <td>892.3</td>\n",
       "    </tr>\n",
       "    <tr>\n",
       "      <th>1</th>\n",
       "      <td>1837</td>\n",
       "      <td>80.2</td>\n",
       "      <td>81.1</td>\n",
       "      <td>19.8</td>\n",
       "      <td>34.4</td>\n",
       "      <td>24.9</td>\n",
       "      <td>34.3</td>\n",
       "      <td>44.2</td>\n",
       "      <td>87.5</td>\n",
       "      <td>42.7</td>\n",
       "      <td>67.6</td>\n",
       "      <td>51.9</td>\n",
       "      <td>53.7</td>\n",
       "      <td>221.4</td>\n",
       "      <td>79.2</td>\n",
       "      <td>166.1</td>\n",
       "      <td>162.2</td>\n",
       "      <td>622.5</td>\n",
       "    </tr>\n",
       "    <tr>\n",
       "      <th>2</th>\n",
       "      <td>1838</td>\n",
       "      <td>12.9</td>\n",
       "      <td>58.1</td>\n",
       "      <td>37.6</td>\n",
       "      <td>22.7</td>\n",
       "      <td>28.6</td>\n",
       "      <td>91.8</td>\n",
       "      <td>44.0</td>\n",
       "      <td>37.9</td>\n",
       "      <td>85.9</td>\n",
       "      <td>68.5</td>\n",
       "      <td>122.8</td>\n",
       "      <td>69.1</td>\n",
       "      <td>124.7</td>\n",
       "      <td>88.9</td>\n",
       "      <td>173.7</td>\n",
       "      <td>277.3</td>\n",
       "      <td>679.9</td>\n",
       "    </tr>\n",
       "    <tr>\n",
       "      <th>3</th>\n",
       "      <td>1839</td>\n",
       "      <td>48.6</td>\n",
       "      <td>53.5</td>\n",
       "      <td>51.4</td>\n",
       "      <td>37.5</td>\n",
       "      <td>25.2</td>\n",
       "      <td>65.0</td>\n",
       "      <td>104.8</td>\n",
       "      <td>54.0</td>\n",
       "      <td>137.5</td>\n",
       "      <td>72.7</td>\n",
       "      <td>117.7</td>\n",
       "      <td>108.1</td>\n",
       "      <td>171.1</td>\n",
       "      <td>114.1</td>\n",
       "      <td>223.7</td>\n",
       "      <td>327.9</td>\n",
       "      <td>876.0</td>\n",
       "    </tr>\n",
       "    <tr>\n",
       "      <th>4</th>\n",
       "      <td>1840</td>\n",
       "      <td>87.0</td>\n",
       "      <td>49.3</td>\n",
       "      <td>7.6</td>\n",
       "      <td>5.0</td>\n",
       "      <td>53.2</td>\n",
       "      <td>34.0</td>\n",
       "      <td>59.9</td>\n",
       "      <td>49.9</td>\n",
       "      <td>82.8</td>\n",
       "      <td>38.9</td>\n",
       "      <td>121.6</td>\n",
       "      <td>12.7</td>\n",
       "      <td>244.5</td>\n",
       "      <td>65.8</td>\n",
       "      <td>143.8</td>\n",
       "      <td>243.3</td>\n",
       "      <td>601.9</td>\n",
       "    </tr>\n",
       "  </tbody>\n",
       "</table>\n",
       "</div>"
      ],
      "text/plain": [
       "   year     jan      feb      mar      apr      may      jun     jul     aug  \\\n",
       "0  1836    67.7     59.0    103.1     90.7     21.5     39.9    65.1    64.4   \n",
       "1  1837    80.2     81.1     19.8     34.4     24.9     34.3    44.2    87.5   \n",
       "2  1838    12.9     58.1     37.6     22.7     28.6     91.8    44.0    37.9   \n",
       "3  1839    48.6     53.5     51.4     37.5     25.2     65.0   104.8    54.0   \n",
       "4  1840    87.0     49.3      7.6      5.0     53.2     34.0    59.9    49.9   \n",
       "\n",
       "      sep     oct     nov     dec      win      spr      sum      aut      ann  \n",
       "0    94.8   126.1   100.0    60.1      ---    215.3    169.4    320.9    892.3  \n",
       "1    42.7    67.6    51.9    53.7    221.4     79.2    166.1    162.2    622.5  \n",
       "2    85.9    68.5   122.8    69.1    124.7     88.9    173.7    277.3    679.9  \n",
       "3   137.5    72.7   117.7   108.1    171.1    114.1    223.7    327.9    876.0  \n",
       "4    82.8    38.9   121.6    12.7    244.5     65.8    143.8    243.3    601.9  "
      ]
     },
     "execution_count": 2,
     "metadata": {},
     "output_type": "execute_result"
    }
   ],
   "source": [
    "data = pd.read_csv('./data/england_se_c.csv')\n",
    "data.head()"
   ]
  },
  {
   "cell_type": "code",
   "execution_count": 3,
   "id": "2d83e1f1",
   "metadata": {},
   "outputs": [
    {
     "data": {
      "text/plain": [
       "Index(['year', '   jan', '    feb', '    mar', '    apr', '    may', '    jun',\n",
       "       '   jul', '   aug', '   sep', '   oct', '   nov', '   dec', '    win',\n",
       "       '    spr', '    sum', '    aut', '    ann'],\n",
       "      dtype='object')"
      ]
     },
     "execution_count": 3,
     "metadata": {},
     "output_type": "execute_result"
    }
   ],
   "source": [
    "data.columns"
   ]
  },
  {
   "cell_type": "markdown",
   "id": "fc513e47",
   "metadata": {},
   "source": [
    "The columns names contain some empty characters that need to be strip"
   ]
  },
  {
   "cell_type": "code",
   "execution_count": 4,
   "id": "e6062c00",
   "metadata": {},
   "outputs": [
    {
     "data": {
      "text/plain": [
       "year         int64\n",
       "   jan     float64\n",
       "    feb    float64\n",
       "    mar    float64\n",
       "    apr    float64\n",
       "    may    float64\n",
       "    jun     object\n",
       "   jul      object\n",
       "   aug      object\n",
       "   sep      object\n",
       "   oct      object\n",
       "   nov      object\n",
       "   dec      object\n",
       "    win     object\n",
       "    spr    float64\n",
       "    sum     object\n",
       "    aut     object\n",
       "    ann     object\n",
       "dtype: object"
      ]
     },
     "execution_count": 4,
     "metadata": {},
     "output_type": "execute_result"
    }
   ],
   "source": [
    "data.dtypes"
   ]
  },
  {
   "cell_type": "markdown",
   "id": "e1a214b0",
   "metadata": {},
   "source": [
    "Some columns are loaded as `object` type due to some `nan`s or special characters. They have to be converted into `float` type."
   ]
  },
  {
   "cell_type": "code",
   "execution_count": 5,
   "id": "5dc706b3",
   "metadata": {},
   "outputs": [],
   "source": [
    "data.columns = data.columns.str.strip()\n",
    "string_columns = data.select_dtypes(include=['object']).columns\n",
    "data[string_columns] = data[string_columns].apply(pd.to_numeric, errors='coerce')\n",
    "data_melt = data[['year', 'jan', 'feb', 'mar', 'apr', 'may', 'jun', 'jul', 'aug', 'sep','oct', 'nov', 'dec']].melt(id_vars='year',var_name='month', value_name='value').sort_values(by='year')\n",
    "data_melt['month'] = pd.Categorical(data_melt['month'], categories=['jan', 'feb', 'mar', 'apr', 'may', 'jun', 'jul', 'aug', 'sep', 'oct', 'nov', 'dec'], ordered=True)\n",
    "data_melt.rename(columns={'value': 'rainfall'}, inplace=True)"
   ]
  },
  {
   "cell_type": "code",
   "execution_count": 6,
   "id": "08625ec8",
   "metadata": {},
   "outputs": [
    {
     "data": {
      "text/html": [
       "<div>\n",
       "<style scoped>\n",
       "    .dataframe tbody tr th:only-of-type {\n",
       "        vertical-align: middle;\n",
       "    }\n",
       "\n",
       "    .dataframe tbody tr th {\n",
       "        vertical-align: top;\n",
       "    }\n",
       "\n",
       "    .dataframe thead th {\n",
       "        text-align: right;\n",
       "    }\n",
       "</style>\n",
       "<table border=\"1\" class=\"dataframe\">\n",
       "  <thead>\n",
       "    <tr style=\"text-align: right;\">\n",
       "      <th></th>\n",
       "      <th>year</th>\n",
       "      <th>month</th>\n",
       "      <th>rainfall</th>\n",
       "    </tr>\n",
       "  </thead>\n",
       "  <tbody>\n",
       "    <tr>\n",
       "      <th>0</th>\n",
       "      <td>1836</td>\n",
       "      <td>jan</td>\n",
       "      <td>67.7</td>\n",
       "    </tr>\n",
       "    <tr>\n",
       "      <th>570</th>\n",
       "      <td>1836</td>\n",
       "      <td>apr</td>\n",
       "      <td>90.7</td>\n",
       "    </tr>\n",
       "    <tr>\n",
       "      <th>380</th>\n",
       "      <td>1836</td>\n",
       "      <td>mar</td>\n",
       "      <td>103.1</td>\n",
       "    </tr>\n",
       "    <tr>\n",
       "      <th>1330</th>\n",
       "      <td>1836</td>\n",
       "      <td>aug</td>\n",
       "      <td>64.4</td>\n",
       "    </tr>\n",
       "    <tr>\n",
       "      <th>1900</th>\n",
       "      <td>1836</td>\n",
       "      <td>nov</td>\n",
       "      <td>100.0</td>\n",
       "    </tr>\n",
       "  </tbody>\n",
       "</table>\n",
       "</div>"
      ],
      "text/plain": [
       "      year month  rainfall\n",
       "0     1836   jan      67.7\n",
       "570   1836   apr      90.7\n",
       "380   1836   mar     103.1\n",
       "1330  1836   aug      64.4\n",
       "1900  1836   nov     100.0"
      ]
     },
     "execution_count": 6,
     "metadata": {},
     "output_type": "execute_result"
    }
   ],
   "source": [
    "data_melt.head()"
   ]
  },
  {
   "cell_type": "markdown",
   "id": "1a7ef819",
   "metadata": {},
   "source": [
    "The feeling is that since I joined UK, the latest year has been drier with respect to the previous ones. I am taking into consideration the data starting from 2010 up to 2023 included to calculate the mean and median, and compare with data from 2024 onward."
   ]
  },
  {
   "cell_type": "code",
   "execution_count": 7,
   "id": "b122cb8b",
   "metadata": {},
   "outputs": [
    {
     "data": {
      "text/html": [
       "<div>\n",
       "<style scoped>\n",
       "    .dataframe tbody tr th:only-of-type {\n",
       "        vertical-align: middle;\n",
       "    }\n",
       "\n",
       "    .dataframe tbody tr th {\n",
       "        vertical-align: top;\n",
       "    }\n",
       "\n",
       "    .dataframe thead th {\n",
       "        text-align: right;\n",
       "    }\n",
       "</style>\n",
       "<table border=\"1\" class=\"dataframe\">\n",
       "  <thead>\n",
       "    <tr style=\"text-align: right;\">\n",
       "      <th></th>\n",
       "      <th>year</th>\n",
       "      <th>month</th>\n",
       "      <th>rainfall</th>\n",
       "    </tr>\n",
       "  </thead>\n",
       "  <tbody>\n",
       "    <tr>\n",
       "      <th>2074</th>\n",
       "      <td>2010</td>\n",
       "      <td>nov</td>\n",
       "      <td>76.6</td>\n",
       "    </tr>\n",
       "    <tr>\n",
       "      <th>1504</th>\n",
       "      <td>2010</td>\n",
       "      <td>aug</td>\n",
       "      <td>100.2</td>\n",
       "    </tr>\n",
       "    <tr>\n",
       "      <th>1314</th>\n",
       "      <td>2010</td>\n",
       "      <td>jul</td>\n",
       "      <td>26.1</td>\n",
       "    </tr>\n",
       "    <tr>\n",
       "      <th>744</th>\n",
       "      <td>2010</td>\n",
       "      <td>apr</td>\n",
       "      <td>22.7</td>\n",
       "    </tr>\n",
       "    <tr>\n",
       "      <th>934</th>\n",
       "      <td>2010</td>\n",
       "      <td>may</td>\n",
       "      <td>30.1</td>\n",
       "    </tr>\n",
       "    <tr>\n",
       "      <th>...</th>\n",
       "      <td>...</td>\n",
       "      <td>...</td>\n",
       "      <td>...</td>\n",
       "    </tr>\n",
       "    <tr>\n",
       "      <th>569</th>\n",
       "      <td>2025</td>\n",
       "      <td>mar</td>\n",
       "      <td>6.8</td>\n",
       "    </tr>\n",
       "    <tr>\n",
       "      <th>379</th>\n",
       "      <td>2025</td>\n",
       "      <td>feb</td>\n",
       "      <td>65.4</td>\n",
       "    </tr>\n",
       "    <tr>\n",
       "      <th>189</th>\n",
       "      <td>2025</td>\n",
       "      <td>jan</td>\n",
       "      <td>113.8</td>\n",
       "    </tr>\n",
       "    <tr>\n",
       "      <th>2089</th>\n",
       "      <td>2025</td>\n",
       "      <td>nov</td>\n",
       "      <td>NaN</td>\n",
       "    </tr>\n",
       "    <tr>\n",
       "      <th>2279</th>\n",
       "      <td>2025</td>\n",
       "      <td>dec</td>\n",
       "      <td>NaN</td>\n",
       "    </tr>\n",
       "  </tbody>\n",
       "</table>\n",
       "<p>192 rows × 3 columns</p>\n",
       "</div>"
      ],
      "text/plain": [
       "      year month  rainfall\n",
       "2074  2010   nov      76.6\n",
       "1504  2010   aug     100.2\n",
       "1314  2010   jul      26.1\n",
       "744   2010   apr      22.7\n",
       "934   2010   may      30.1\n",
       "...    ...   ...       ...\n",
       "569   2025   mar       6.8\n",
       "379   2025   feb      65.4\n",
       "189   2025   jan     113.8\n",
       "2089  2025   nov       NaN\n",
       "2279  2025   dec       NaN\n",
       "\n",
       "[192 rows x 3 columns]"
      ]
     },
     "execution_count": 7,
     "metadata": {},
     "output_type": "execute_result"
    }
   ],
   "source": [
    "rainfall_se_data = data_melt[data_melt['year'] >= 2010].copy()\n",
    "rainfall_se_data"
   ]
  },
  {
   "cell_type": "code",
   "execution_count": 8,
   "id": "cfc007c3",
   "metadata": {},
   "outputs": [],
   "source": [
    "rainfall_se_2010_2024 = (rainfall_se_data[rainfall_se_data['year'] < 2025]\n",
    " .groupby('year')\n",
    " .agg(\n",
    "    total_rainfall=('rainfall', 'sum'),\n",
    "    avg_rainfall=('rainfall', 'mean'),\n",
    "    max_rainfall=('rainfall', 'max'),\n",
    "    min_rainfall=('rainfall', 'min')\n",
    "  )\n",
    " ).reset_index()\n"
   ]
  },
  {
   "cell_type": "code",
   "execution_count": 9,
   "id": "5fc143d2",
   "metadata": {},
   "outputs": [
    {
     "data": {
      "text/html": [
       "<div>\n",
       "<style scoped>\n",
       "    .dataframe tbody tr th:only-of-type {\n",
       "        vertical-align: middle;\n",
       "    }\n",
       "\n",
       "    .dataframe tbody tr th {\n",
       "        vertical-align: top;\n",
       "    }\n",
       "\n",
       "    .dataframe thead th {\n",
       "        text-align: right;\n",
       "    }\n",
       "</style>\n",
       "<table border=\"1\" class=\"dataframe\">\n",
       "  <thead>\n",
       "    <tr style=\"text-align: right;\">\n",
       "      <th></th>\n",
       "      <th>year</th>\n",
       "      <th>total_rainfall</th>\n",
       "      <th>avg_rainfall</th>\n",
       "      <th>max_rainfall</th>\n",
       "      <th>min_rainfall</th>\n",
       "    </tr>\n",
       "  </thead>\n",
       "  <tbody>\n",
       "    <tr>\n",
       "      <th>0</th>\n",
       "      <td>2010</td>\n",
       "      <td>689.6</td>\n",
       "      <td>57.466667</td>\n",
       "      <td>100.2</td>\n",
       "      <td>22.7</td>\n",
       "    </tr>\n",
       "    <tr>\n",
       "      <th>1</th>\n",
       "      <td>2011</td>\n",
       "      <td>630.6</td>\n",
       "      <td>52.550000</td>\n",
       "      <td>99.6</td>\n",
       "      <td>3.6</td>\n",
       "    </tr>\n",
       "    <tr>\n",
       "      <th>2</th>\n",
       "      <td>2012</td>\n",
       "      <td>1005.7</td>\n",
       "      <td>83.808333</td>\n",
       "      <td>142.5</td>\n",
       "      <td>19.3</td>\n",
       "    </tr>\n",
       "    <tr>\n",
       "      <th>3</th>\n",
       "      <td>2013</td>\n",
       "      <td>805.7</td>\n",
       "      <td>67.141667</td>\n",
       "      <td>161.3</td>\n",
       "      <td>22.8</td>\n",
       "    </tr>\n",
       "    <tr>\n",
       "      <th>4</th>\n",
       "      <td>2014</td>\n",
       "      <td>1039.0</td>\n",
       "      <td>86.583333</td>\n",
       "      <td>205.1</td>\n",
       "      <td>13.7</td>\n",
       "    </tr>\n",
       "  </tbody>\n",
       "</table>\n",
       "</div>"
      ],
      "text/plain": [
       "   year  total_rainfall  avg_rainfall  max_rainfall  min_rainfall\n",
       "0  2010           689.6     57.466667         100.2          22.7\n",
       "1  2011           630.6     52.550000          99.6           3.6\n",
       "2  2012          1005.7     83.808333         142.5          19.3\n",
       "3  2013           805.7     67.141667         161.3          22.8\n",
       "4  2014          1039.0     86.583333         205.1          13.7"
      ]
     },
     "execution_count": 9,
     "metadata": {},
     "output_type": "execute_result"
    }
   ],
   "source": [
    "rainfall_se_2010_2024.head()"
   ]
  },
  {
   "cell_type": "markdown",
   "id": "4794d9f1",
   "metadata": {},
   "source": [
    "In the following plot I am considering just the sum or rainfall for each year and compare to 2024. I am also highlighting the value of year 2022 as in the summer of that year, in London a [hopepipe ban was issued](https://www.thameswater.co.uk/news/thames-water-lifts-hosepipe-ban) due to one of the driest years on record. "
   ]
  },
  {
   "cell_type": "code",
   "execution_count": 10,
   "id": "a714984a",
   "metadata": {},
   "outputs": [
    {
     "name": "stdout",
     "output_type": "stream",
     "text": [
      "Total Rainfall mean (2010-2023) = 818.42\n"
     ]
    },
    {
     "data": {
      "image/png": "[encoded data removed]",
      "text/plain": [
       "<Figure size 1200x600 with 1 Axes>"
      ]
     },
     "metadata": {},
     "output_type": "display_data"
    }
   ],
   "source": [
    "# Calculate the mean total rainfall for the years 2010-2023\n",
    "# Note: The year 2024 is not included in the mean calculation as we want to compare it with the previous years.\n",
    "rainfall_mean = rainfall_se_2010_2024[rainfall_se_2010_2024['year'] < 2024]['total_rainfall'].mean()\n",
    "\n",
    "print(\"Total Rainfall mean (2010-2023) = {}\".format(np.round(rainfall_mean, 2)))\n",
    "\n",
    "years = sorted(rainfall_se_2010_2024['year'].unique())\n",
    "colors = ['steelblue'] * len(years)\n",
    "\n",
    "# Set special colors\n",
    "last_year = max(years)\n",
    "for i, year in enumerate(years):\n",
    "    if year == 2022:\n",
    "        colors[i] = 'red'      # Color for 2022\n",
    "    elif year == last_year:\n",
    "        colors[i] = 'orange'   # Color for last year\n",
    "\n",
    "\n",
    "sns.set_theme(style=\"whitegrid\")\n",
    "plt.figure(figsize=(12, 6))\n",
    "\n",
    "sns.barplot(x='year', \n",
    "            y='total_rainfall', \n",
    "            hue='year',\n",
    "            data=rainfall_se_2010_2024,\n",
    "            palette=colors,\n",
    "            edgecolor='black',\n",
    "            legend=False);\n",
    "plt.title('Total Rainfall in South East England (2010-2024)', fontsize=16)\n",
    "\n",
    "plt.axhline(y=rainfall_mean, color='red', linestyle='--', linewidth=2, label=f'Mean: {rainfall_mean:.2f}');\n"
   ]
  },
  {
   "cell_type": "code",
   "execution_count": 11,
   "id": "3192e023",
   "metadata": {},
   "outputs": [],
   "source": [
    "# # Let's make a function that generalize the plot creation for generic starting and ending years\n",
    "\n",
    "# def plot_rainfall(df, start_year, latest_year, feature = 'total_rainfall', special_year=2022, title_label ='Total Rainfall'):\n",
    "#     rainfall_se_start_year_latest_year = df[(df['year'] >= start_year) & (df['year'] <= latest_year)].copy()\n",
    "#     mean_previous_years = rainfall_se_start_year_latest_year[rainfall_se_start_year_latest_year['year'] < latest_year][feature].mean()\n",
    "\n",
    "#     years = sorted(rainfall_se_start_year_latest_year['year'].unique())\n",
    "#     colors = ['steelblue'] * len(years)\n",
    "\n",
    "#     # Set special colors\n",
    "#     for i, year in enumerate(years):\n",
    "#         if year == special_year:\n",
    "#             colors[i] = 'red'      # Color for 2022\n",
    "#         elif year == latest_year:\n",
    "#             colors[i] = 'orange'   # Color for last year\n",
    "\n",
    "#     sns.set_theme(style=\"whitegrid\")\n",
    "#     plt.figure(figsize=(12, 6))\n",
    "\n",
    "#     ax = sns.barplot(x='year', \n",
    "#                 y=feature, \n",
    "#                 hue='year',\n",
    "#                 data=rainfall_se_start_year_latest_year,\n",
    "#                 palette=colors,\n",
    "#                 edgecolor='black',\n",
    "#                 errorbar=None,\n",
    "#                 legend=False);\n",
    "    \n",
    "#     # Custom formatting\n",
    "#     for container in ax.containers:\n",
    "#         ax.bar_label(container, fmt='%.1f', padding=3)\n",
    "    \n",
    "#     plt.title(f'{title_label} in South East England ({start_year}-{latest_year})', fontsize=16)\n",
    "#     plt.axhline(y=mean_previous_years, color='red', linestyle='--', linewidth=2, label=f'Mean: {mean_previous_years:.2f}');\n",
    "    \n",
    "#     # Move legend to the right\n",
    "#     plt.legend(bbox_to_anchor=(1., 1), loc='upper left')\n",
    "#     plt.show()"
   ]
  },
  {
   "cell_type": "code",
   "execution_count": 12,
   "id": "dff384b1",
   "metadata": {},
   "outputs": [],
   "source": [
    "from src.plotting import plot_rainfall"
   ]
  },
  {
   "cell_type": "code",
   "execution_count": 13,
   "id": "b2a46a61",
   "metadata": {},
   "outputs": [
    {
     "data": {
      "text/html": [
       "<div>\n",
       "<style scoped>\n",
       "    .dataframe tbody tr th:only-of-type {\n",
       "        vertical-align: middle;\n",
       "    }\n",
       "\n",
       "    .dataframe tbody tr th {\n",
       "        vertical-align: top;\n",
       "    }\n",
       "\n",
       "    .dataframe thead th {\n",
       "        text-align: right;\n",
       "    }\n",
       "</style>\n",
       "<table border=\"1\" class=\"dataframe\">\n",
       "  <thead>\n",
       "    <tr style=\"text-align: right;\">\n",
       "      <th></th>\n",
       "      <th>year</th>\n",
       "      <th>total_rainfall</th>\n",
       "      <th>avg_rainfall</th>\n",
       "      <th>median_rainfall</th>\n",
       "      <th>max_rainfall</th>\n",
       "      <th>min_rainfall</th>\n",
       "    </tr>\n",
       "  </thead>\n",
       "  <tbody>\n",
       "    <tr>\n",
       "      <th>0</th>\n",
       "      <td>1836</td>\n",
       "      <td>892.4</td>\n",
       "      <td>74.366667</td>\n",
       "      <td>66.40</td>\n",
       "      <td>126.1</td>\n",
       "      <td>21.5</td>\n",
       "    </tr>\n",
       "    <tr>\n",
       "      <th>1</th>\n",
       "      <td>1837</td>\n",
       "      <td>622.3</td>\n",
       "      <td>51.858333</td>\n",
       "      <td>48.05</td>\n",
       "      <td>87.5</td>\n",
       "      <td>19.8</td>\n",
       "    </tr>\n",
       "    <tr>\n",
       "      <th>2</th>\n",
       "      <td>1838</td>\n",
       "      <td>679.9</td>\n",
       "      <td>56.658333</td>\n",
       "      <td>51.05</td>\n",
       "      <td>122.8</td>\n",
       "      <td>12.9</td>\n",
       "    </tr>\n",
       "    <tr>\n",
       "      <th>3</th>\n",
       "      <td>1839</td>\n",
       "      <td>876.0</td>\n",
       "      <td>73.000000</td>\n",
       "      <td>59.50</td>\n",
       "      <td>137.5</td>\n",
       "      <td>25.2</td>\n",
       "    </tr>\n",
       "    <tr>\n",
       "      <th>4</th>\n",
       "      <td>1840</td>\n",
       "      <td>601.9</td>\n",
       "      <td>50.158333</td>\n",
       "      <td>49.60</td>\n",
       "      <td>121.6</td>\n",
       "      <td>5.0</td>\n",
       "    </tr>\n",
       "  </tbody>\n",
       "</table>\n",
       "</div>"
      ],
      "text/plain": [
       "   year  total_rainfall  avg_rainfall  median_rainfall  max_rainfall  \\\n",
       "0  1836           892.4     74.366667            66.40         126.1   \n",
       "1  1837           622.3     51.858333            48.05          87.5   \n",
       "2  1838           679.9     56.658333            51.05         122.8   \n",
       "3  1839           876.0     73.000000            59.50         137.5   \n",
       "4  1840           601.9     50.158333            49.60         121.6   \n",
       "\n",
       "   min_rainfall  \n",
       "0          21.5  \n",
       "1          19.8  \n",
       "2          12.9  \n",
       "3          25.2  \n",
       "4           5.0  "
      ]
     },
     "execution_count": 13,
     "metadata": {},
     "output_type": "execute_result"
    }
   ],
   "source": [
    "rainfall_se = (data_melt\n",
    "               .groupby('year')\n",
    "               .agg(\n",
    "                   total_rainfall=('rainfall', 'sum'),\n",
    "                   avg_rainfall=('rainfall', 'mean'),\n",
    "                   median_rainfall=('rainfall', 'median'),\n",
    "                   max_rainfall=('rainfall', 'max'),\n",
    "                   min_rainfall=('rainfall', 'min')\n",
    "                   )\n",
    "                   ).reset_index()\n",
    "rainfall_se.head()"
   ]
  },
  {
   "cell_type": "code",
   "execution_count": 15,
   "id": "2743f5a6",
   "metadata": {},
   "outputs": [
    {
     "data": {
      "image/png": "[encoded data removed]",
      "text/plain": [
       "<Figure size 1200x600 with 1 Axes>"
      ]
     },
     "metadata": {},
     "output_type": "display_data"
    }
   ],
   "source": [
    "start_year = 2010\n",
    "latest_yaer = 2024\n",
    "\n",
    "plot_rainfall(rainfall_se, start_year, latest_yaer, feature='total_rainfall', special_year=2022, title_label='Yearly Total Rainfall', year_shift = False)"
   ]
  },
  {
   "cell_type": "markdown",
   "id": "9a5f8a46",
   "metadata": {},
   "source": [
    "At least for year 2024, it doesn't look a particularly dry year. But what about considering also the the beginning of 2025? At first, I just considered the total precipitation per year, but what about the yearly monthly mean? In this way, I can also compare the latest data of 2025. "
   ]
  },
  {
   "cell_type": "code",
   "execution_count": 17,
   "id": "6c3d9e7c",
   "metadata": {},
   "outputs": [
    {
     "data": {
      "image/png": "[encoded data removed]",
      "text/plain": [
       "<Figure size 1200x600 with 1 Axes>"
      ]
     },
     "metadata": {},
     "output_type": "display_data"
    }
   ],
   "source": [
    "start_year = 2010\n",
    "latest_yaer = 2025\n",
    "\n",
    "plot_rainfall(rainfall_se, start_year, latest_yaer, feature='avg_rainfall', special_year=2022, title_label='Monthly Average Rainfall')"
   ]
  },
  {
   "cell_type": "code",
   "execution_count": 18,
   "id": "2165f862",
   "metadata": {},
   "outputs": [
    {
     "data": {
      "image/png": "[encoded data removed]",
      "text/plain": [
       "<Figure size 1200x600 with 1 Axes>"
      ]
     },
     "metadata": {},
     "output_type": "display_data"
    }
   ],
   "source": [
    "plot_rainfall(rainfall_se, start_year, latest_yaer, feature='median_rainfall', special_year=2022, title_label='Monthly Median Rainfall')"
   ]
  },
  {
   "cell_type": "markdown",
   "id": "985092c2",
   "metadata": {},
   "source": [
    "So, if we are having a look to the first 5 months of 2025, the monthly mean looks actually significantly (I am not saying *is* statistically significantly) lower than the previous year. But one could argue that we are just comparing the first 5 months of the year, it could just be that for the first 5 months of the year, each year, the mean might be lower than the rest of the year. The next step is to compare the first 5 months of each year and see what the mean can tell us. "
   ]
  },
  {
   "cell_type": "code",
   "execution_count": 19,
   "id": "8de3419b",
   "metadata": {},
   "outputs": [
    {
     "data": {
      "text/html": [
       "<div>\n",
       "<style scoped>\n",
       "    .dataframe tbody tr th:only-of-type {\n",
       "        vertical-align: middle;\n",
       "    }\n",
       "\n",
       "    .dataframe tbody tr th {\n",
       "        vertical-align: top;\n",
       "    }\n",
       "\n",
       "    .dataframe thead th {\n",
       "        text-align: right;\n",
       "    }\n",
       "</style>\n",
       "<table border=\"1\" class=\"dataframe\">\n",
       "  <thead>\n",
       "    <tr style=\"text-align: right;\">\n",
       "      <th></th>\n",
       "      <th>year</th>\n",
       "      <th>total_rainfall</th>\n",
       "      <th>avg_rainfall</th>\n",
       "      <th>median_rainfall</th>\n",
       "      <th>max_rainfall</th>\n",
       "      <th>min_rainfall</th>\n",
       "    </tr>\n",
       "  </thead>\n",
       "  <tbody>\n",
       "    <tr>\n",
       "      <th>0</th>\n",
       "      <td>1836</td>\n",
       "      <td>342.0</td>\n",
       "      <td>68.40</td>\n",
       "      <td>67.7</td>\n",
       "      <td>103.1</td>\n",
       "      <td>21.5</td>\n",
       "    </tr>\n",
       "    <tr>\n",
       "      <th>1</th>\n",
       "      <td>1837</td>\n",
       "      <td>240.4</td>\n",
       "      <td>48.08</td>\n",
       "      <td>34.4</td>\n",
       "      <td>81.1</td>\n",
       "      <td>19.8</td>\n",
       "    </tr>\n",
       "    <tr>\n",
       "      <th>2</th>\n",
       "      <td>1838</td>\n",
       "      <td>159.9</td>\n",
       "      <td>31.98</td>\n",
       "      <td>28.6</td>\n",
       "      <td>58.1</td>\n",
       "      <td>12.9</td>\n",
       "    </tr>\n",
       "    <tr>\n",
       "      <th>3</th>\n",
       "      <td>1839</td>\n",
       "      <td>216.2</td>\n",
       "      <td>43.24</td>\n",
       "      <td>48.6</td>\n",
       "      <td>53.5</td>\n",
       "      <td>25.2</td>\n",
       "    </tr>\n",
       "    <tr>\n",
       "      <th>4</th>\n",
       "      <td>1840</td>\n",
       "      <td>202.1</td>\n",
       "      <td>40.42</td>\n",
       "      <td>49.3</td>\n",
       "      <td>87.0</td>\n",
       "      <td>5.0</td>\n",
       "    </tr>\n",
       "  </tbody>\n",
       "</table>\n",
       "</div>"
      ],
      "text/plain": [
       "   year  total_rainfall  avg_rainfall  median_rainfall  max_rainfall  \\\n",
       "0  1836           342.0         68.40             67.7         103.1   \n",
       "1  1837           240.4         48.08             34.4          81.1   \n",
       "2  1838           159.9         31.98             28.6          58.1   \n",
       "3  1839           216.2         43.24             48.6          53.5   \n",
       "4  1840           202.1         40.42             49.3          87.0   \n",
       "\n",
       "   min_rainfall  \n",
       "0          21.5  \n",
       "1          19.8  \n",
       "2          12.9  \n",
       "3          25.2  \n",
       "4           5.0  "
      ]
     },
     "execution_count": 19,
     "metadata": {},
     "output_type": "execute_result"
    }
   ],
   "source": [
    "months_compare = ['jan', 'feb', 'mar', 'apr', 'may']\n",
    "rainfall_se_jan_to_may = (data_melt[data_melt['month'].isin(months_compare)]\n",
    "                          .groupby('year')\n",
    "                          .agg(\n",
    "                              total_rainfall=('rainfall', 'sum'),\n",
    "                              avg_rainfall=('rainfall', 'mean'),\n",
    "                              median_rainfall=('rainfall', 'median'),\n",
    "                              max_rainfall=('rainfall', 'max'),\n",
    "                              min_rainfall=('rainfall', 'min')\n",
    "                              )\n",
    "                              ).reset_index()\n",
    "\n",
    "rainfall_se_jan_to_may.head()"
   ]
  },
  {
   "cell_type": "code",
   "execution_count": 20,
   "id": "80c9ddbb",
   "metadata": {},
   "outputs": [
    {
     "data": {
      "image/png": "[encoded data removed]",
      "text/plain": [
       "<Figure size 1200x600 with 1 Axes>"
      ]
     },
     "metadata": {},
     "output_type": "display_data"
    }
   ],
   "source": [
    "start_year = 2010\n",
    "latest_yaer = 2025\n",
    "\n",
    "plot_rainfall(rainfall_se_jan_to_may, start_year, latest_yaer, feature='avg_rainfall', special_year=2022, title_label='Monthly Average Rainfall - Jan to May')"
   ]
  },
  {
   "cell_type": "code",
   "execution_count": 21,
   "id": "c572f017",
   "metadata": {},
   "outputs": [
    {
     "data": {
      "text/html": [
       "<div>\n",
       "<style scoped>\n",
       "    .dataframe tbody tr th:only-of-type {\n",
       "        vertical-align: middle;\n",
       "    }\n",
       "\n",
       "    .dataframe tbody tr th {\n",
       "        vertical-align: top;\n",
       "    }\n",
       "\n",
       "    .dataframe thead th {\n",
       "        text-align: right;\n",
       "    }\n",
       "</style>\n",
       "<table border=\"1\" class=\"dataframe\">\n",
       "  <thead>\n",
       "    <tr style=\"text-align: right;\">\n",
       "      <th></th>\n",
       "      <th>year</th>\n",
       "      <th>total_rainfall</th>\n",
       "      <th>avg_rainfall</th>\n",
       "      <th>median_rainfall</th>\n",
       "    </tr>\n",
       "  </thead>\n",
       "  <tbody>\n",
       "    <tr>\n",
       "      <th>0</th>\n",
       "      <td>2022</td>\n",
       "      <td>202.5</td>\n",
       "      <td>40.50</td>\n",
       "      <td>42.7</td>\n",
       "    </tr>\n",
       "    <tr>\n",
       "      <th>1</th>\n",
       "      <td>2011</td>\n",
       "      <td>205.1</td>\n",
       "      <td>41.02</td>\n",
       "      <td>27.2</td>\n",
       "    </tr>\n",
       "    <tr>\n",
       "      <th>2</th>\n",
       "      <td>2019</td>\n",
       "      <td>208.7</td>\n",
       "      <td>41.74</td>\n",
       "      <td>32.8</td>\n",
       "    </tr>\n",
       "    <tr>\n",
       "      <th>3</th>\n",
       "      <td>2025</td>\n",
       "      <td>231.3</td>\n",
       "      <td>46.26</td>\n",
       "      <td>24.8</td>\n",
       "    </tr>\n",
       "    <tr>\n",
       "      <th>4</th>\n",
       "      <td>2017</td>\n",
       "      <td>250.6</td>\n",
       "      <td>50.12</td>\n",
       "      <td>50.1</td>\n",
       "    </tr>\n",
       "    <tr>\n",
       "      <th>5</th>\n",
       "      <td>2015</td>\n",
       "      <td>259.8</td>\n",
       "      <td>51.96</td>\n",
       "      <td>58.6</td>\n",
       "    </tr>\n",
       "  </tbody>\n",
       "</table>\n",
       "</div>"
      ],
      "text/plain": [
       "   year  total_rainfall  avg_rainfall  median_rainfall\n",
       "0  2022           202.5         40.50             42.7\n",
       "1  2011           205.1         41.02             27.2\n",
       "2  2019           208.7         41.74             32.8\n",
       "3  2025           231.3         46.26             24.8\n",
       "4  2017           250.6         50.12             50.1\n",
       "5  2015           259.8         51.96             58.6"
      ]
     },
     "execution_count": 21,
     "metadata": {},
     "output_type": "execute_result"
    }
   ],
   "source": [
    "rainfall_se_jan_to_may[rainfall_se_jan_to_may['year'] >= 2010][['year', 'total_rainfall', 'avg_rainfall', 'median_rainfall']].sort_values(by='total_rainfall', ascending=True).reset_index(drop=True)[:6]"
   ]
  },
  {
   "cell_type": "code",
   "execution_count": 22,
   "id": "f39fa5ce",
   "metadata": {},
   "outputs": [
    {
     "data": {
      "text/html": [
       "<div>\n",
       "<style scoped>\n",
       "    .dataframe tbody tr th:only-of-type {\n",
       "        vertical-align: middle;\n",
       "    }\n",
       "\n",
       "    .dataframe tbody tr th {\n",
       "        vertical-align: top;\n",
       "    }\n",
       "\n",
       "    .dataframe thead th {\n",
       "        text-align: right;\n",
       "    }\n",
       "</style>\n",
       "<table border=\"1\" class=\"dataframe\">\n",
       "  <thead>\n",
       "    <tr style=\"text-align: right;\">\n",
       "      <th></th>\n",
       "      <th>year</th>\n",
       "      <th>month</th>\n",
       "      <th>rainfall</th>\n",
       "      <th>season</th>\n",
       "    </tr>\n",
       "  </thead>\n",
       "  <tbody>\n",
       "    <tr>\n",
       "      <th>0</th>\n",
       "      <td>1836</td>\n",
       "      <td>jan</td>\n",
       "      <td>67.7</td>\n",
       "      <td>winter</td>\n",
       "    </tr>\n",
       "    <tr>\n",
       "      <th>570</th>\n",
       "      <td>1836</td>\n",
       "      <td>apr</td>\n",
       "      <td>90.7</td>\n",
       "      <td>spring</td>\n",
       "    </tr>\n",
       "    <tr>\n",
       "      <th>380</th>\n",
       "      <td>1836</td>\n",
       "      <td>mar</td>\n",
       "      <td>103.1</td>\n",
       "      <td>spring</td>\n",
       "    </tr>\n",
       "    <tr>\n",
       "      <th>1330</th>\n",
       "      <td>1836</td>\n",
       "      <td>aug</td>\n",
       "      <td>64.4</td>\n",
       "      <td>summer</td>\n",
       "    </tr>\n",
       "    <tr>\n",
       "      <th>1900</th>\n",
       "      <td>1836</td>\n",
       "      <td>nov</td>\n",
       "      <td>100.0</td>\n",
       "      <td>autumn</td>\n",
       "    </tr>\n",
       "  </tbody>\n",
       "</table>\n",
       "</div>"
      ],
      "text/plain": [
       "      year month  rainfall  season\n",
       "0     1836   jan      67.7  winter\n",
       "570   1836   apr      90.7  spring\n",
       "380   1836   mar     103.1  spring\n",
       "1330  1836   aug      64.4  summer\n",
       "1900  1836   nov     100.0  autumn"
      ]
     },
     "execution_count": 22,
     "metadata": {},
     "output_type": "execute_result"
    }
   ],
   "source": [
    "conds=[\n",
    "    data_melt['month'].isin(['mar', 'apr', 'may']),\n",
    "    data_melt['month'].isin(['jun', 'jul', 'aug']),\n",
    "    data_melt['month'].isin(['sep', 'oct', 'nov']),\n",
    "    data_melt['month'].isin(['dec', 'jan', 'feb'])\n",
    "]\n",
    "choices=['spring', 'summer', 'autumn', 'winter']\n",
    "data_melt['season'] = np.select(conds, choices, default='unknown')\n",
    "data_melt.head()"
   ]
  },
  {
   "cell_type": "code",
   "execution_count": 23,
   "id": "b19553f2",
   "metadata": {},
   "outputs": [
    {
     "data": {
      "text/html": [
       "<div>\n",
       "<style scoped>\n",
       "    .dataframe tbody tr th:only-of-type {\n",
       "        vertical-align: middle;\n",
       "    }\n",
       "\n",
       "    .dataframe tbody tr th {\n",
       "        vertical-align: top;\n",
       "    }\n",
       "\n",
       "    .dataframe thead th {\n",
       "        text-align: right;\n",
       "    }\n",
       "</style>\n",
       "<table border=\"1\" class=\"dataframe\">\n",
       "  <thead>\n",
       "    <tr style=\"text-align: right;\">\n",
       "      <th></th>\n",
       "      <th>year</th>\n",
       "      <th>month</th>\n",
       "      <th>rainfall</th>\n",
       "      <th>season</th>\n",
       "      <th>semester</th>\n",
       "      <th>semester_year</th>\n",
       "    </tr>\n",
       "  </thead>\n",
       "  <tbody>\n",
       "    <tr>\n",
       "      <th>0</th>\n",
       "      <td>1836</td>\n",
       "      <td>jan</td>\n",
       "      <td>67.7</td>\n",
       "      <td>winter</td>\n",
       "      <td>Dec-May</td>\n",
       "      <td>1836</td>\n",
       "    </tr>\n",
       "    <tr>\n",
       "      <th>570</th>\n",
       "      <td>1836</td>\n",
       "      <td>apr</td>\n",
       "      <td>90.7</td>\n",
       "      <td>spring</td>\n",
       "      <td>Dec-May</td>\n",
       "      <td>1836</td>\n",
       "    </tr>\n",
       "    <tr>\n",
       "      <th>380</th>\n",
       "      <td>1836</td>\n",
       "      <td>mar</td>\n",
       "      <td>103.1</td>\n",
       "      <td>spring</td>\n",
       "      <td>Dec-May</td>\n",
       "      <td>1836</td>\n",
       "    </tr>\n",
       "    <tr>\n",
       "      <th>1330</th>\n",
       "      <td>1836</td>\n",
       "      <td>aug</td>\n",
       "      <td>64.4</td>\n",
       "      <td>summer</td>\n",
       "      <td>Jun-Nov</td>\n",
       "      <td>1836</td>\n",
       "    </tr>\n",
       "    <tr>\n",
       "      <th>1900</th>\n",
       "      <td>1836</td>\n",
       "      <td>nov</td>\n",
       "      <td>100.0</td>\n",
       "      <td>autumn</td>\n",
       "      <td>Jun-Nov</td>\n",
       "      <td>1836</td>\n",
       "    </tr>\n",
       "  </tbody>\n",
       "</table>\n",
       "</div>"
      ],
      "text/plain": [
       "      year month  rainfall  season semester  semester_year\n",
       "0     1836   jan      67.7  winter  Dec-May           1836\n",
       "570   1836   apr      90.7  spring  Dec-May           1836\n",
       "380   1836   mar     103.1  spring  Dec-May           1836\n",
       "1330  1836   aug      64.4  summer  Jun-Nov           1836\n",
       "1900  1836   nov     100.0  autumn  Jun-Nov           1836"
      ]
     },
     "execution_count": 23,
     "metadata": {},
     "output_type": "execute_result"
    }
   ],
   "source": [
    "# Create month order mapping\n",
    "month_order = ['jan', 'feb', 'mar', 'apr', 'may', 'jun', \n",
    "               'jul', 'aug', 'sep', 'oct', 'nov', 'dec']\n",
    "\n",
    "# Function to assign season and season year\n",
    "def assign_season(row):\n",
    "    month = row['month'].lower()\n",
    "    year = row['year']\n",
    "    \n",
    "    if month in ['jun', 'jul', 'aug', 'sep', 'oct', 'nov']:\n",
    "        return 'Jun-Nov', year\n",
    "    elif month in ['dec', 'jan', 'feb', 'mar', 'apr', 'may']:\n",
    "        # For Dec-May season, December belongs to the previous calendar year's season\n",
    "        if month == 'dec':\n",
    "            return 'Dec-May', year + 1\n",
    "        else:\n",
    "            return 'Dec-May', year\n",
    "        \n",
    "# Apply the function to create season columns\n",
    "df_temp = data_melt.copy()\n",
    "df_temp[['semester', 'semester_year']] = df_temp.apply(\n",
    "    assign_season, axis=1, result_type='expand'\n",
    ")\n",
    "\n",
    "df_temp.head()"
   ]
  },
  {
   "cell_type": "code",
   "execution_count": 24,
   "id": "0a5f73c2",
   "metadata": {},
   "outputs": [
    {
     "data": {
      "text/html": [
       "<div>\n",
       "<style scoped>\n",
       "    .dataframe tbody tr th:only-of-type {\n",
       "        vertical-align: middle;\n",
       "    }\n",
       "\n",
       "    .dataframe tbody tr th {\n",
       "        vertical-align: top;\n",
       "    }\n",
       "\n",
       "    .dataframe thead th {\n",
       "        text-align: right;\n",
       "    }\n",
       "</style>\n",
       "<table border=\"1\" class=\"dataframe\">\n",
       "  <thead>\n",
       "    <tr style=\"text-align: right;\">\n",
       "      <th></th>\n",
       "      <th>year</th>\n",
       "      <th>month</th>\n",
       "      <th>rainfall</th>\n",
       "      <th>season</th>\n",
       "      <th>semester</th>\n",
       "      <th>semester_year</th>\n",
       "      <th>water_year</th>\n",
       "    </tr>\n",
       "  </thead>\n",
       "  <tbody>\n",
       "    <tr>\n",
       "      <th>0</th>\n",
       "      <td>1836</td>\n",
       "      <td>jan</td>\n",
       "      <td>67.7</td>\n",
       "      <td>winter</td>\n",
       "      <td>Dec-May</td>\n",
       "      <td>1836</td>\n",
       "      <td>1835</td>\n",
       "    </tr>\n",
       "    <tr>\n",
       "      <th>570</th>\n",
       "      <td>1836</td>\n",
       "      <td>apr</td>\n",
       "      <td>90.7</td>\n",
       "      <td>spring</td>\n",
       "      <td>Dec-May</td>\n",
       "      <td>1836</td>\n",
       "      <td>1835</td>\n",
       "    </tr>\n",
       "    <tr>\n",
       "      <th>380</th>\n",
       "      <td>1836</td>\n",
       "      <td>mar</td>\n",
       "      <td>103.1</td>\n",
       "      <td>spring</td>\n",
       "      <td>Dec-May</td>\n",
       "      <td>1836</td>\n",
       "      <td>1835</td>\n",
       "    </tr>\n",
       "    <tr>\n",
       "      <th>1330</th>\n",
       "      <td>1836</td>\n",
       "      <td>aug</td>\n",
       "      <td>64.4</td>\n",
       "      <td>summer</td>\n",
       "      <td>Jun-Nov</td>\n",
       "      <td>1836</td>\n",
       "      <td>1836</td>\n",
       "    </tr>\n",
       "    <tr>\n",
       "      <th>1900</th>\n",
       "      <td>1836</td>\n",
       "      <td>nov</td>\n",
       "      <td>100.0</td>\n",
       "      <td>autumn</td>\n",
       "      <td>Jun-Nov</td>\n",
       "      <td>1836</td>\n",
       "      <td>1836</td>\n",
       "    </tr>\n",
       "  </tbody>\n",
       "</table>\n",
       "</div>"
      ],
      "text/plain": [
       "      year month  rainfall  season semester  semester_year  water_year\n",
       "0     1836   jan      67.7  winter  Dec-May           1836        1835\n",
       "570   1836   apr      90.7  spring  Dec-May           1836        1835\n",
       "380   1836   mar     103.1  spring  Dec-May           1836        1835\n",
       "1330  1836   aug      64.4  summer  Jun-Nov           1836        1836\n",
       "1900  1836   nov     100.0  autumn  Jun-Nov           1836        1836"
      ]
     },
     "execution_count": 24,
     "metadata": {},
     "output_type": "execute_result"
    }
   ],
   "source": [
    "# Function to assign water year (June to May)\n",
    "\n",
    "def assign_water_year(row):\n",
    "    month = row['month'].lower()\n",
    "    year = row['year']\n",
    "    \n",
    "    # June to December belong to the water year starting in that calendar year\n",
    "    if month in ['jun', 'jul', 'aug', 'sep', 'oct', 'nov', 'dec']:\n",
    "        return year\n",
    "    # January to May belong to the water year that started in the previous calendar year\n",
    "    else:  # jan, feb, mar, apr, may\n",
    "        return year - 1\n",
    "\n",
    "# Apply the function to create water year column\n",
    "# df_temp = df.copy()\n",
    "df_temp['water_year'] = df_temp.apply(assign_water_year, axis=1)\n",
    "df_temp.head()"
   ]
  },
  {
   "cell_type": "code",
   "execution_count": 25,
   "id": "5f33c383",
   "metadata": {},
   "outputs": [
    {
     "data": {
      "text/html": [
       "<div>\n",
       "<style scoped>\n",
       "    .dataframe tbody tr th:only-of-type {\n",
       "        vertical-align: middle;\n",
       "    }\n",
       "\n",
       "    .dataframe tbody tr th {\n",
       "        vertical-align: top;\n",
       "    }\n",
       "\n",
       "    .dataframe thead th {\n",
       "        text-align: right;\n",
       "    }\n",
       "</style>\n",
       "<table border=\"1\" class=\"dataframe\">\n",
       "  <thead>\n",
       "    <tr style=\"text-align: right;\">\n",
       "      <th></th>\n",
       "      <th>year</th>\n",
       "      <th>month</th>\n",
       "      <th>rainfall</th>\n",
       "      <th>season</th>\n",
       "      <th>semester</th>\n",
       "      <th>semester_year</th>\n",
       "      <th>water_year</th>\n",
       "    </tr>\n",
       "  </thead>\n",
       "  <tbody>\n",
       "    <tr>\n",
       "      <th>569</th>\n",
       "      <td>2025</td>\n",
       "      <td>mar</td>\n",
       "      <td>6.8</td>\n",
       "      <td>spring</td>\n",
       "      <td>Dec-May</td>\n",
       "      <td>2025</td>\n",
       "      <td>2024</td>\n",
       "    </tr>\n",
       "    <tr>\n",
       "      <th>379</th>\n",
       "      <td>2025</td>\n",
       "      <td>feb</td>\n",
       "      <td>65.4</td>\n",
       "      <td>winter</td>\n",
       "      <td>Dec-May</td>\n",
       "      <td>2025</td>\n",
       "      <td>2024</td>\n",
       "    </tr>\n",
       "    <tr>\n",
       "      <th>189</th>\n",
       "      <td>2025</td>\n",
       "      <td>jan</td>\n",
       "      <td>113.8</td>\n",
       "      <td>winter</td>\n",
       "      <td>Dec-May</td>\n",
       "      <td>2025</td>\n",
       "      <td>2024</td>\n",
       "    </tr>\n",
       "    <tr>\n",
       "      <th>2089</th>\n",
       "      <td>2025</td>\n",
       "      <td>nov</td>\n",
       "      <td>NaN</td>\n",
       "      <td>autumn</td>\n",
       "      <td>Jun-Nov</td>\n",
       "      <td>2025</td>\n",
       "      <td>2025</td>\n",
       "    </tr>\n",
       "    <tr>\n",
       "      <th>2279</th>\n",
       "      <td>2025</td>\n",
       "      <td>dec</td>\n",
       "      <td>NaN</td>\n",
       "      <td>winter</td>\n",
       "      <td>Dec-May</td>\n",
       "      <td>2026</td>\n",
       "      <td>2025</td>\n",
       "    </tr>\n",
       "  </tbody>\n",
       "</table>\n",
       "</div>"
      ],
      "text/plain": [
       "      year month  rainfall  season semester  semester_year  water_year\n",
       "569   2025   mar       6.8  spring  Dec-May           2025        2024\n",
       "379   2025   feb      65.4  winter  Dec-May           2025        2024\n",
       "189   2025   jan     113.8  winter  Dec-May           2025        2024\n",
       "2089  2025   nov       NaN  autumn  Jun-Nov           2025        2025\n",
       "2279  2025   dec       NaN  winter  Dec-May           2026        2025"
      ]
     },
     "execution_count": 25,
     "metadata": {},
     "output_type": "execute_result"
    }
   ],
   "source": [
    "df_temp.tail()"
   ]
  },
  {
   "cell_type": "code",
   "execution_count": 26,
   "id": "e39218b4",
   "metadata": {},
   "outputs": [
    {
     "data": {
      "text/html": [
       "<div>\n",
       "<style scoped>\n",
       "    .dataframe tbody tr th:only-of-type {\n",
       "        vertical-align: middle;\n",
       "    }\n",
       "\n",
       "    .dataframe tbody tr th {\n",
       "        vertical-align: top;\n",
       "    }\n",
       "\n",
       "    .dataframe thead th {\n",
       "        text-align: right;\n",
       "    }\n",
       "</style>\n",
       "<table border=\"1\" class=\"dataframe\">\n",
       "  <thead>\n",
       "    <tr style=\"text-align: right;\">\n",
       "      <th></th>\n",
       "      <th>year</th>\n",
       "      <th>month</th>\n",
       "      <th>rainfall</th>\n",
       "      <th>season</th>\n",
       "      <th>semester</th>\n",
       "      <th>semester_year</th>\n",
       "      <th>water_year</th>\n",
       "    </tr>\n",
       "  </thead>\n",
       "  <tbody>\n",
       "    <tr>\n",
       "      <th>2074</th>\n",
       "      <td>2010</td>\n",
       "      <td>nov</td>\n",
       "      <td>76.6</td>\n",
       "      <td>autumn</td>\n",
       "      <td>Jun-Nov</td>\n",
       "      <td>2010</td>\n",
       "      <td>2010</td>\n",
       "    </tr>\n",
       "    <tr>\n",
       "      <th>1504</th>\n",
       "      <td>2010</td>\n",
       "      <td>aug</td>\n",
       "      <td>100.2</td>\n",
       "      <td>summer</td>\n",
       "      <td>Jun-Nov</td>\n",
       "      <td>2010</td>\n",
       "      <td>2010</td>\n",
       "    </tr>\n",
       "    <tr>\n",
       "      <th>1314</th>\n",
       "      <td>2010</td>\n",
       "      <td>jul</td>\n",
       "      <td>26.1</td>\n",
       "      <td>summer</td>\n",
       "      <td>Jun-Nov</td>\n",
       "      <td>2010</td>\n",
       "      <td>2010</td>\n",
       "    </tr>\n",
       "    <tr>\n",
       "      <th>1884</th>\n",
       "      <td>2010</td>\n",
       "      <td>oct</td>\n",
       "      <td>78.5</td>\n",
       "      <td>autumn</td>\n",
       "      <td>Jun-Nov</td>\n",
       "      <td>2010</td>\n",
       "      <td>2010</td>\n",
       "    </tr>\n",
       "    <tr>\n",
       "      <th>1124</th>\n",
       "      <td>2010</td>\n",
       "      <td>jun</td>\n",
       "      <td>32.8</td>\n",
       "      <td>summer</td>\n",
       "      <td>Jun-Nov</td>\n",
       "      <td>2010</td>\n",
       "      <td>2010</td>\n",
       "    </tr>\n",
       "    <tr>\n",
       "      <th>...</th>\n",
       "      <td>...</td>\n",
       "      <td>...</td>\n",
       "      <td>...</td>\n",
       "      <td>...</td>\n",
       "      <td>...</td>\n",
       "      <td>...</td>\n",
       "      <td>...</td>\n",
       "    </tr>\n",
       "    <tr>\n",
       "      <th>949</th>\n",
       "      <td>2025</td>\n",
       "      <td>may</td>\n",
       "      <td>20.5</td>\n",
       "      <td>spring</td>\n",
       "      <td>Dec-May</td>\n",
       "      <td>2025</td>\n",
       "      <td>2024</td>\n",
       "    </tr>\n",
       "    <tr>\n",
       "      <th>759</th>\n",
       "      <td>2025</td>\n",
       "      <td>apr</td>\n",
       "      <td>24.8</td>\n",
       "      <td>spring</td>\n",
       "      <td>Dec-May</td>\n",
       "      <td>2025</td>\n",
       "      <td>2024</td>\n",
       "    </tr>\n",
       "    <tr>\n",
       "      <th>569</th>\n",
       "      <td>2025</td>\n",
       "      <td>mar</td>\n",
       "      <td>6.8</td>\n",
       "      <td>spring</td>\n",
       "      <td>Dec-May</td>\n",
       "      <td>2025</td>\n",
       "      <td>2024</td>\n",
       "    </tr>\n",
       "    <tr>\n",
       "      <th>379</th>\n",
       "      <td>2025</td>\n",
       "      <td>feb</td>\n",
       "      <td>65.4</td>\n",
       "      <td>winter</td>\n",
       "      <td>Dec-May</td>\n",
       "      <td>2025</td>\n",
       "      <td>2024</td>\n",
       "    </tr>\n",
       "    <tr>\n",
       "      <th>189</th>\n",
       "      <td>2025</td>\n",
       "      <td>jan</td>\n",
       "      <td>113.8</td>\n",
       "      <td>winter</td>\n",
       "      <td>Dec-May</td>\n",
       "      <td>2025</td>\n",
       "      <td>2024</td>\n",
       "    </tr>\n",
       "  </tbody>\n",
       "</table>\n",
       "<p>180 rows × 7 columns</p>\n",
       "</div>"
      ],
      "text/plain": [
       "      year month  rainfall  season semester  semester_year  water_year\n",
       "2074  2010   nov      76.6  autumn  Jun-Nov           2010        2010\n",
       "1504  2010   aug     100.2  summer  Jun-Nov           2010        2010\n",
       "1314  2010   jul      26.1  summer  Jun-Nov           2010        2010\n",
       "1884  2010   oct      78.5  autumn  Jun-Nov           2010        2010\n",
       "1124  2010   jun      32.8  summer  Jun-Nov           2010        2010\n",
       "...    ...   ...       ...     ...      ...            ...         ...\n",
       "949   2025   may      20.5  spring  Dec-May           2025        2024\n",
       "759   2025   apr      24.8  spring  Dec-May           2025        2024\n",
       "569   2025   mar       6.8  spring  Dec-May           2025        2024\n",
       "379   2025   feb      65.4  winter  Dec-May           2025        2024\n",
       "189   2025   jan     113.8  winter  Dec-May           2025        2024\n",
       "\n",
       "[180 rows x 7 columns]"
      ]
     },
     "execution_count": 26,
     "metadata": {},
     "output_type": "execute_result"
    }
   ],
   "source": [
    "df_temp[(df_temp['water_year'] >= 2010) & (df_temp['water_year'] <= 2024)]"
   ]
  },
  {
   "cell_type": "code",
   "execution_count": 27,
   "id": "c992b44e",
   "metadata": {},
   "outputs": [
    {
     "data": {
      "text/html": [
       "<div>\n",
       "<style scoped>\n",
       "    .dataframe tbody tr th:only-of-type {\n",
       "        vertical-align: middle;\n",
       "    }\n",
       "\n",
       "    .dataframe tbody tr th {\n",
       "        vertical-align: top;\n",
       "    }\n",
       "\n",
       "    .dataframe thead th {\n",
       "        text-align: right;\n",
       "    }\n",
       "</style>\n",
       "<table border=\"1\" class=\"dataframe\">\n",
       "  <thead>\n",
       "    <tr style=\"text-align: right;\">\n",
       "      <th></th>\n",
       "      <th>year</th>\n",
       "      <th>total_rainfall</th>\n",
       "      <th>avg_rainfall</th>\n",
       "      <th>median_rainfall</th>\n",
       "      <th>min_rainfall</th>\n",
       "      <th>max_rainfall</th>\n",
       "    </tr>\n",
       "  </thead>\n",
       "  <tbody>\n",
       "    <tr>\n",
       "      <th>0</th>\n",
       "      <td>2010</td>\n",
       "      <td>612.4</td>\n",
       "      <td>51.033333</td>\n",
       "      <td>46.55</td>\n",
       "      <td>3.6</td>\n",
       "      <td>100.2</td>\n",
       "    </tr>\n",
       "    <tr>\n",
       "      <th>1</th>\n",
       "      <td>2011</td>\n",
       "      <td>696.6</td>\n",
       "      <td>58.050000</td>\n",
       "      <td>47.15</td>\n",
       "      <td>19.3</td>\n",
       "      <td>133.8</td>\n",
       "    </tr>\n",
       "    <tr>\n",
       "      <th>2</th>\n",
       "      <td>2012</td>\n",
       "      <td>1022.6</td>\n",
       "      <td>85.216667</td>\n",
       "      <td>75.80</td>\n",
       "      <td>38.1</td>\n",
       "      <td>142.5</td>\n",
       "    </tr>\n",
       "    <tr>\n",
       "      <th>3</th>\n",
       "      <td>2013</td>\n",
       "      <td>1057.1</td>\n",
       "      <td>88.091667</td>\n",
       "      <td>72.85</td>\n",
       "      <td>22.8</td>\n",
       "      <td>205.1</td>\n",
       "    </tr>\n",
       "    <tr>\n",
       "      <th>4</th>\n",
       "      <td>2014</td>\n",
       "      <td>759.4</td>\n",
       "      <td>63.283333</td>\n",
       "      <td>56.30</td>\n",
       "      <td>13.7</td>\n",
       "      <td>135.6</td>\n",
       "    </tr>\n",
       "  </tbody>\n",
       "</table>\n",
       "</div>"
      ],
      "text/plain": [
       "   year  total_rainfall  avg_rainfall  median_rainfall  min_rainfall  \\\n",
       "0  2010           612.4     51.033333            46.55           3.6   \n",
       "1  2011           696.6     58.050000            47.15          19.3   \n",
       "2  2012          1022.6     85.216667            75.80          38.1   \n",
       "3  2013          1057.1     88.091667            72.85          22.8   \n",
       "4  2014           759.4     63.283333            56.30          13.7   \n",
       "\n",
       "   max_rainfall  \n",
       "0         100.2  \n",
       "1         133.8  \n",
       "2         142.5  \n",
       "3         205.1  \n",
       "4         135.6  "
      ]
     },
     "execution_count": 27,
     "metadata": {},
     "output_type": "execute_result"
    }
   ],
   "source": [
    "# Compute yearly statistics for each water year\n",
    "water_yearly_stats = df_temp[(df_temp['water_year'] >= 2010) & (df_temp['water_year'] <= 2024)].groupby('water_year')['rainfall'].agg([\n",
    "    'sum','mean', 'median', 'min', 'max'\n",
    "]).reset_index()\n",
    "\n",
    "# Rename columns for clarity\n",
    "water_yearly_stats.columns = ['year', 'total_rainfall','avg_rainfall', 'median_rainfall', \n",
    "                       'min_rainfall', 'max_rainfall']\n",
    "\n",
    "water_yearly_stats.head()"
   ]
  },
  {
   "cell_type": "code",
   "execution_count": 31,
   "id": "a152c658",
   "metadata": {},
   "outputs": [
    {
     "data": {
      "image/png": "[encoded data removed]",
      "text/plain": [
       "<Figure size 1200x600 with 1 Axes>"
      ]
     },
     "metadata": {},
     "output_type": "display_data"
    }
   ],
   "source": [
    "start_year = 2010\n",
    "latest_yaer = 2024\n",
    "\n",
    "plot_rainfall(water_yearly_stats, start_year, latest_yaer, feature='total_rainfall', special_year=2021, title_label='Yearly Monthly Average Rainfall - Jan to May', year_shift=True)"
   ]
  },
  {
   "cell_type": "code",
   "execution_count": null,
   "id": "1d46656f",
   "metadata": {},
   "outputs": [],
   "source": []
  },
  {
   "cell_type": "markdown",
   "id": "723cfb0c",
   "metadata": {},
   "source": [
    "If we rank the 2024-25 season, we can see that even if below average, still does not look as a particular dry year"
   ]
  },
  {
   "cell_type": "code",
   "execution_count": null,
   "id": "da0d5516",
   "metadata": {},
   "outputs": [
    {
     "data": {
      "text/html": [
       "<style type=\"text/css\">\n",
       "#T_e92dc_row5_col0, #T_e92dc_row5_col1, #T_e92dc_row5_col2, #T_e92dc_row5_col3, #T_e92dc_row5_col4 {\n",
       "  background-color: #4a4a4a;\n",
       "}\n",
       "</style>\n",
       "<table id=\"T_e92dc\">\n",
       "  <thead>\n",
       "    <tr>\n",
       "      <th id=\"T_e92dc_level0_col0\" class=\"col_heading level0 col0\" >Year</th>\n",
       "      <th id=\"T_e92dc_level0_col1\" class=\"col_heading level0 col1\" >Rank</th>\n",
       "      <th id=\"T_e92dc_level0_col2\" class=\"col_heading level0 col2\" >total_rainfall</th>\n",
       "      <th id=\"T_e92dc_level0_col3\" class=\"col_heading level0 col3\" >avg_rainfall</th>\n",
       "      <th id=\"T_e92dc_level0_col4\" class=\"col_heading level0 col4\" >median_rainfall</th>\n",
       "    </tr>\n",
       "  </thead>\n",
       "  <tbody>\n",
       "    <tr>\n",
       "      <td id=\"T_e92dc_row0_col0\" class=\"data row0 col0\" >2016-17</td>\n",
       "      <td id=\"T_e92dc_row0_col1\" class=\"data row0 col1\" >1</td>\n",
       "      <td id=\"T_e92dc_row0_col2\" class=\"data row0 col2\" >599.600000</td>\n",
       "      <td id=\"T_e92dc_row0_col3\" class=\"data row0 col3\" >49.966667</td>\n",
       "      <td id=\"T_e92dc_row0_col4\" class=\"data row0 col4\" >45.950000</td>\n",
       "    </tr>\n",
       "    <tr>\n",
       "      <td id=\"T_e92dc_row1_col0\" class=\"data row1 col0\" >2018-19</td>\n",
       "      <td id=\"T_e92dc_row1_col1\" class=\"data row1 col1\" >2</td>\n",
       "      <td id=\"T_e92dc_row1_col2\" class=\"data row1 col2\" >612.100000</td>\n",
       "      <td id=\"T_e92dc_row1_col3\" class=\"data row1 col3\" >51.008333</td>\n",
       "      <td id=\"T_e92dc_row1_col4\" class=\"data row1 col4\" >45.800000</td>\n",
       "    </tr>\n",
       "    <tr>\n",
       "      <td id=\"T_e92dc_row2_col0\" class=\"data row2 col0\" >2010-11</td>\n",
       "      <td id=\"T_e92dc_row2_col1\" class=\"data row2 col1\" >3</td>\n",
       "      <td id=\"T_e92dc_row2_col2\" class=\"data row2 col2\" >612.400000</td>\n",
       "      <td id=\"T_e92dc_row2_col3\" class=\"data row2 col3\" >51.033333</td>\n",
       "      <td id=\"T_e92dc_row2_col4\" class=\"data row2 col4\" >46.550000</td>\n",
       "    </tr>\n",
       "    <tr>\n",
       "      <td id=\"T_e92dc_row3_col0\" class=\"data row3 col0\" >2011-12</td>\n",
       "      <td id=\"T_e92dc_row3_col1\" class=\"data row3 col1\" >4</td>\n",
       "      <td id=\"T_e92dc_row3_col2\" class=\"data row3 col2\" >696.600000</td>\n",
       "      <td id=\"T_e92dc_row3_col3\" class=\"data row3 col3\" >58.050000</td>\n",
       "      <td id=\"T_e92dc_row3_col4\" class=\"data row3 col4\" >47.150000</td>\n",
       "    </tr>\n",
       "    <tr>\n",
       "      <td id=\"T_e92dc_row4_col0\" class=\"data row4 col0\" >2021-22</td>\n",
       "      <td id=\"T_e92dc_row4_col1\" class=\"data row4 col1\" >5</td>\n",
       "      <td id=\"T_e92dc_row4_col2\" class=\"data row4 col2\" >705.500000</td>\n",
       "      <td id=\"T_e92dc_row4_col3\" class=\"data row4 col3\" >58.791667</td>\n",
       "      <td id=\"T_e92dc_row4_col4\" class=\"data row4 col4\" >51.500000</td>\n",
       "    </tr>\n",
       "    <tr>\n",
       "      <td id=\"T_e92dc_row5_col0\" class=\"data row5 col0\" >2024-25</td>\n",
       "      <td id=\"T_e92dc_row5_col1\" class=\"data row5 col1\" >6</td>\n",
       "      <td id=\"T_e92dc_row5_col2\" class=\"data row5 col2\" >750.000000</td>\n",
       "      <td id=\"T_e92dc_row5_col3\" class=\"data row5 col3\" >62.500000</td>\n",
       "      <td id=\"T_e92dc_row5_col4\" class=\"data row5 col4\" >58.350000</td>\n",
       "    </tr>\n",
       "    <tr>\n",
       "      <td id=\"T_e92dc_row6_col0\" class=\"data row6 col0\" >2014-15</td>\n",
       "      <td id=\"T_e92dc_row6_col1\" class=\"data row6 col1\" >7</td>\n",
       "      <td id=\"T_e92dc_row6_col2\" class=\"data row6 col2\" >759.400000</td>\n",
       "      <td id=\"T_e92dc_row6_col3\" class=\"data row6 col3\" >63.283333</td>\n",
       "      <td id=\"T_e92dc_row6_col4\" class=\"data row6 col4\" >56.300000</td>\n",
       "    </tr>\n",
       "    <tr>\n",
       "      <td id=\"T_e92dc_row7_col0\" class=\"data row7 col0\" >2017-18</td>\n",
       "      <td id=\"T_e92dc_row7_col1\" class=\"data row7 col1\" >8</td>\n",
       "      <td id=\"T_e92dc_row7_col2\" class=\"data row7 col2\" >830.400000</td>\n",
       "      <td id=\"T_e92dc_row7_col3\" class=\"data row7 col3\" >69.200000</td>\n",
       "      <td id=\"T_e92dc_row7_col4\" class=\"data row7 col4\" >71.100000</td>\n",
       "    </tr>\n",
       "    <tr>\n",
       "      <td id=\"T_e92dc_row8_col0\" class=\"data row8 col0\" >2015-16</td>\n",
       "      <td id=\"T_e92dc_row8_col1\" class=\"data row8 col1\" >9</td>\n",
       "      <td id=\"T_e92dc_row8_col2\" class=\"data row8 col2\" >858.300000</td>\n",
       "      <td id=\"T_e92dc_row8_col3\" class=\"data row8 col3\" >71.525000</td>\n",
       "      <td id=\"T_e92dc_row8_col4\" class=\"data row8 col4\" >65.500000</td>\n",
       "    </tr>\n",
       "    <tr>\n",
       "      <td id=\"T_e92dc_row9_col0\" class=\"data row9 col0\" >2020-21</td>\n",
       "      <td id=\"T_e92dc_row9_col1\" class=\"data row9 col1\" >10</td>\n",
       "      <td id=\"T_e92dc_row9_col2\" class=\"data row9 col2\" >881.200000</td>\n",
       "      <td id=\"T_e92dc_row9_col3\" class=\"data row9 col3\" >73.433333</td>\n",
       "      <td id=\"T_e92dc_row9_col4\" class=\"data row9 col4\" >59.350000</td>\n",
       "    </tr>\n",
       "    <tr>\n",
       "      <td id=\"T_e92dc_row10_col0\" class=\"data row10 col0\" >2022-23</td>\n",
       "      <td id=\"T_e92dc_row10_col1\" class=\"data row10 col1\" >11</td>\n",
       "      <td id=\"T_e92dc_row10_col2\" class=\"data row10 col2\" >902.800000</td>\n",
       "      <td id=\"T_e92dc_row10_col3\" class=\"data row10 col3\" >75.233333</td>\n",
       "      <td id=\"T_e92dc_row10_col4\" class=\"data row10 col4\" >82.150000</td>\n",
       "    </tr>\n",
       "    <tr>\n",
       "      <td id=\"T_e92dc_row11_col0\" class=\"data row11 col0\" >2019-20</td>\n",
       "      <td id=\"T_e92dc_row11_col1\" class=\"data row11 col1\" >12</td>\n",
       "      <td id=\"T_e92dc_row11_col2\" class=\"data row11 col2\" >973.500000</td>\n",
       "      <td id=\"T_e92dc_row11_col3\" class=\"data row11 col3\" >81.125000</td>\n",
       "      <td id=\"T_e92dc_row11_col4\" class=\"data row11 col4\" >84.200000</td>\n",
       "    </tr>\n",
       "    <tr>\n",
       "      <td id=\"T_e92dc_row12_col0\" class=\"data row12 col0\" >2012-13</td>\n",
       "      <td id=\"T_e92dc_row12_col1\" class=\"data row12 col1\" >13</td>\n",
       "      <td id=\"T_e92dc_row12_col2\" class=\"data row12 col2\" >1022.600000</td>\n",
       "      <td id=\"T_e92dc_row12_col3\" class=\"data row12 col3\" >85.216667</td>\n",
       "      <td id=\"T_e92dc_row12_col4\" class=\"data row12 col4\" >75.800000</td>\n",
       "    </tr>\n",
       "    <tr>\n",
       "      <td id=\"T_e92dc_row13_col0\" class=\"data row13 col0\" >2013-14</td>\n",
       "      <td id=\"T_e92dc_row13_col1\" class=\"data row13 col1\" >14</td>\n",
       "      <td id=\"T_e92dc_row13_col2\" class=\"data row13 col2\" >1057.100000</td>\n",
       "      <td id=\"T_e92dc_row13_col3\" class=\"data row13 col3\" >88.091667</td>\n",
       "      <td id=\"T_e92dc_row13_col4\" class=\"data row13 col4\" >72.850000</td>\n",
       "    </tr>\n",
       "    <tr>\n",
       "      <td id=\"T_e92dc_row14_col0\" class=\"data row14 col0\" >2023-24</td>\n",
       "      <td id=\"T_e92dc_row14_col1\" class=\"data row14 col1\" >15</td>\n",
       "      <td id=\"T_e92dc_row14_col2\" class=\"data row14 col2\" >1137.300000</td>\n",
       "      <td id=\"T_e92dc_row14_col3\" class=\"data row14 col3\" >94.775000</td>\n",
       "      <td id=\"T_e92dc_row14_col4\" class=\"data row14 col4\" >84.200000</td>\n",
       "    </tr>\n",
       "  </tbody>\n",
       "</table>\n"
      ],
      "text/plain": [
       "<pandas.io.formats.style.Styler at 0x160a139fe00>"
      ]
     },
     "execution_count": 51,
     "metadata": {},
     "output_type": "execute_result"
    }
   ],
   "source": [
    "sorted_dataframe = water_yearly_stats.sort_values(['total_rainfall']).reset_index(drop=True)\n",
    "sorted_dataframe['Year'] = sorted_dataframe['year'].astype(str)+'-'+(sorted_dataframe['year']+1).astype(str).str[-2:]\n",
    "sorted_dataframe['Rank'] = sorted_dataframe.index + 1\n",
    "index_2024 = sorted_dataframe[sorted_dataframe['year'] == 2024].index[0]\n",
    "\n",
    "\n",
    "# Highlight specific rows (e.g., rows 1 and 3)\n",
    "def highlight_rows(s):\n",
    "    return ['background-color: #2d5a87' if s.name in [index_2024] else '' for _ in s]\n",
    "\n",
    "sorted_dataframe[['Year', 'Rank', 'total_rainfall', 'avg_rainfall', 'median_rainfall']].style.hide(axis='index').apply(highlight_rows, axis=1)"
   ]
  },
  {
   "cell_type": "code",
   "execution_count": null,
   "id": "bfc6d858",
   "metadata": {},
   "outputs": [
    {
     "data": {
      "text/html": [
       "<div>\n",
       "<style scoped>\n",
       "    .dataframe tbody tr th:only-of-type {\n",
       "        vertical-align: middle;\n",
       "    }\n",
       "\n",
       "    .dataframe tbody tr th {\n",
       "        vertical-align: top;\n",
       "    }\n",
       "\n",
       "    .dataframe thead th {\n",
       "        text-align: right;\n",
       "    }\n",
       "</style>\n",
       "<table border=\"1\" class=\"dataframe\">\n",
       "  <thead>\n",
       "    <tr style=\"text-align: right;\">\n",
       "      <th></th>\n",
       "      <th>year</th>\n",
       "      <th>total_rainfall</th>\n",
       "      <th>avg_rainfall</th>\n",
       "      <th>median_rainfall</th>\n",
       "      <th>min_rainfall</th>\n",
       "      <th>max_rainfall</th>\n",
       "      <th>Year</th>\n",
       "      <th>rank</th>\n",
       "    </tr>\n",
       "  </thead>\n",
       "  <tbody>\n",
       "    <tr>\n",
       "      <th>0</th>\n",
       "      <td>2016</td>\n",
       "      <td>599.6</td>\n",
       "      <td>49.966667</td>\n",
       "      <td>45.95</td>\n",
       "      <td>8.5</td>\n",
       "      <td>100.7</td>\n",
       "      <td>2016-17</td>\n",
       "      <td>1</td>\n",
       "    </tr>\n",
       "    <tr>\n",
       "      <th>1</th>\n",
       "      <td>2018</td>\n",
       "      <td>612.1</td>\n",
       "      <td>51.008333</td>\n",
       "      <td>45.80</td>\n",
       "      <td>2.8</td>\n",
       "      <td>113.9</td>\n",
       "      <td>2018-19</td>\n",
       "      <td>2</td>\n",
       "    </tr>\n",
       "    <tr>\n",
       "      <th>2</th>\n",
       "      <td>2010</td>\n",
       "      <td>612.4</td>\n",
       "      <td>51.033333</td>\n",
       "      <td>46.55</td>\n",
       "      <td>3.6</td>\n",
       "      <td>100.2</td>\n",
       "      <td>2010-11</td>\n",
       "      <td>3</td>\n",
       "    </tr>\n",
       "    <tr>\n",
       "      <th>3</th>\n",
       "      <td>2011</td>\n",
       "      <td>696.6</td>\n",
       "      <td>58.050000</td>\n",
       "      <td>47.15</td>\n",
       "      <td>19.3</td>\n",
       "      <td>133.8</td>\n",
       "      <td>2011-12</td>\n",
       "      <td>4</td>\n",
       "    </tr>\n",
       "    <tr>\n",
       "      <th>4</th>\n",
       "      <td>2021</td>\n",
       "      <td>705.5</td>\n",
       "      <td>58.791667</td>\n",
       "      <td>51.50</td>\n",
       "      <td>14.2</td>\n",
       "      <td>137.2</td>\n",
       "      <td>2021-22</td>\n",
       "      <td>5</td>\n",
       "    </tr>\n",
       "    <tr>\n",
       "      <th>5</th>\n",
       "      <td>2024</td>\n",
       "      <td>750.0</td>\n",
       "      <td>62.500000</td>\n",
       "      <td>58.35</td>\n",
       "      <td>6.8</td>\n",
       "      <td>157.4</td>\n",
       "      <td>2024-25</td>\n",
       "      <td>6</td>\n",
       "    </tr>\n",
       "    <tr>\n",
       "      <th>6</th>\n",
       "      <td>2014</td>\n",
       "      <td>759.4</td>\n",
       "      <td>63.283333</td>\n",
       "      <td>56.30</td>\n",
       "      <td>13.7</td>\n",
       "      <td>135.6</td>\n",
       "      <td>2014-15</td>\n",
       "      <td>7</td>\n",
       "    </tr>\n",
       "    <tr>\n",
       "      <th>7</th>\n",
       "      <td>2017</td>\n",
       "      <td>830.4</td>\n",
       "      <td>69.200000</td>\n",
       "      <td>71.10</td>\n",
       "      <td>29.8</td>\n",
       "      <td>106.4</td>\n",
       "      <td>2017-18</td>\n",
       "      <td>8</td>\n",
       "    </tr>\n",
       "    <tr>\n",
       "      <th>8</th>\n",
       "      <td>2015</td>\n",
       "      <td>858.3</td>\n",
       "      <td>71.525000</td>\n",
       "      <td>65.50</td>\n",
       "      <td>26.4</td>\n",
       "      <td>131.2</td>\n",
       "      <td>2015-16</td>\n",
       "      <td>9</td>\n",
       "    </tr>\n",
       "    <tr>\n",
       "      <th>9</th>\n",
       "      <td>2020</td>\n",
       "      <td>881.2</td>\n",
       "      <td>73.433333</td>\n",
       "      <td>59.35</td>\n",
       "      <td>10.0</td>\n",
       "      <td>182.4</td>\n",
       "      <td>2020-21</td>\n",
       "      <td>10</td>\n",
       "    </tr>\n",
       "    <tr>\n",
       "      <th>10</th>\n",
       "      <td>2022</td>\n",
       "      <td>902.8</td>\n",
       "      <td>75.233333</td>\n",
       "      <td>82.15</td>\n",
       "      <td>5.6</td>\n",
       "      <td>189.3</td>\n",
       "      <td>2022-23</td>\n",
       "      <td>11</td>\n",
       "    </tr>\n",
       "    <tr>\n",
       "      <th>11</th>\n",
       "      <td>2019</td>\n",
       "      <td>973.5</td>\n",
       "      <td>81.125000</td>\n",
       "      <td>84.20</td>\n",
       "      <td>4.9</td>\n",
       "      <td>137.1</td>\n",
       "      <td>2019-20</td>\n",
       "      <td>12</td>\n",
       "    </tr>\n",
       "    <tr>\n",
       "      <th>12</th>\n",
       "      <td>2012</td>\n",
       "      <td>1022.6</td>\n",
       "      <td>85.216667</td>\n",
       "      <td>75.80</td>\n",
       "      <td>38.1</td>\n",
       "      <td>142.5</td>\n",
       "      <td>2012-13</td>\n",
       "      <td>13</td>\n",
       "    </tr>\n",
       "    <tr>\n",
       "      <th>13</th>\n",
       "      <td>2013</td>\n",
       "      <td>1057.1</td>\n",
       "      <td>88.091667</td>\n",
       "      <td>72.85</td>\n",
       "      <td>22.8</td>\n",
       "      <td>205.1</td>\n",
       "      <td>2013-14</td>\n",
       "      <td>14</td>\n",
       "    </tr>\n",
       "    <tr>\n",
       "      <th>14</th>\n",
       "      <td>2023</td>\n",
       "      <td>1137.3</td>\n",
       "      <td>94.775000</td>\n",
       "      <td>84.20</td>\n",
       "      <td>32.5</td>\n",
       "      <td>160.8</td>\n",
       "      <td>2023-24</td>\n",
       "      <td>15</td>\n",
       "    </tr>\n",
       "  </tbody>\n",
       "</table>\n",
       "</div>"
      ],
      "text/plain": [
       "    year  total_rainfall  avg_rainfall  median_rainfall  min_rainfall  \\\n",
       "0   2016           599.6     49.966667            45.95           8.5   \n",
       "1   2018           612.1     51.008333            45.80           2.8   \n",
       "2   2010           612.4     51.033333            46.55           3.6   \n",
       "3   2011           696.6     58.050000            47.15          19.3   \n",
       "4   2021           705.5     58.791667            51.50          14.2   \n",
       "5   2024           750.0     62.500000            58.35           6.8   \n",
       "6   2014           759.4     63.283333            56.30          13.7   \n",
       "7   2017           830.4     69.200000            71.10          29.8   \n",
       "8   2015           858.3     71.525000            65.50          26.4   \n",
       "9   2020           881.2     73.433333            59.35          10.0   \n",
       "10  2022           902.8     75.233333            82.15           5.6   \n",
       "11  2019           973.5     81.125000            84.20           4.9   \n",
       "12  2012          1022.6     85.216667            75.80          38.1   \n",
       "13  2013          1057.1     88.091667            72.85          22.8   \n",
       "14  2023          1137.3     94.775000            84.20          32.5   \n",
       "\n",
       "    max_rainfall     Year  rank  \n",
       "0          100.7  2016-17     1  \n",
       "1          113.9  2018-19     2  \n",
       "2          100.2  2010-11     3  \n",
       "3          133.8  2011-12     4  \n",
       "4          137.2  2021-22     5  \n",
       "5          157.4  2024-25     6  \n",
       "6          135.6  2014-15     7  \n",
       "7          106.4  2017-18     8  \n",
       "8          131.2  2015-16     9  \n",
       "9          182.4  2020-21    10  \n",
       "10         189.3  2022-23    11  \n",
       "11         137.1  2019-20    12  \n",
       "12         142.5  2012-13    13  \n",
       "13         205.1  2013-14    14  \n",
       "14         160.8  2023-24    15  "
      ]
     },
     "execution_count": 49,
     "metadata": {},
     "output_type": "execute_result"
    }
   ],
   "source": [
    "\n",
    "sorted_dataframe"
   ]
  },
  {
   "cell_type": "code",
   "execution_count": null,
   "id": "81cded97",
   "metadata": {},
   "outputs": [],
   "source": []
  },
  {
   "cell_type": "code",
   "execution_count": 37,
   "id": "a3b00d0f",
   "metadata": {},
   "outputs": [
    {
     "data": {
      "text/html": [
       "<style type=\"text/css\">\n",
       "#T_273a6_row1_col0, #T_273a6_row1_col1, #T_273a6_row1_col2, #T_273a6_row3_col0, #T_273a6_row3_col1, #T_273a6_row3_col2 {\n",
       "  background-color: yellow;\n",
       "}\n",
       "</style>\n",
       "<table id=\"T_273a6\">\n",
       "  <thead>\n",
       "    <tr>\n",
       "      <th class=\"blank level0\" >&nbsp;</th>\n",
       "      <th id=\"T_273a6_level0_col0\" class=\"col_heading level0 col0\" >A</th>\n",
       "      <th id=\"T_273a6_level0_col1\" class=\"col_heading level0 col1\" >B</th>\n",
       "      <th id=\"T_273a6_level0_col2\" class=\"col_heading level0 col2\" >C</th>\n",
       "    </tr>\n",
       "  </thead>\n",
       "  <tbody>\n",
       "    <tr>\n",
       "      <th id=\"T_273a6_level0_row0\" class=\"row_heading level0 row0\" >0</th>\n",
       "      <td id=\"T_273a6_row0_col0\" class=\"data row0 col0\" >1</td>\n",
       "      <td id=\"T_273a6_row0_col1\" class=\"data row0 col1\" >10</td>\n",
       "      <td id=\"T_273a6_row0_col2\" class=\"data row0 col2\" >100</td>\n",
       "    </tr>\n",
       "    <tr>\n",
       "      <th id=\"T_273a6_level0_row1\" class=\"row_heading level0 row1\" >1</th>\n",
       "      <td id=\"T_273a6_row1_col0\" class=\"data row1 col0\" >2</td>\n",
       "      <td id=\"T_273a6_row1_col1\" class=\"data row1 col1\" >20</td>\n",
       "      <td id=\"T_273a6_row1_col2\" class=\"data row1 col2\" >200</td>\n",
       "    </tr>\n",
       "    <tr>\n",
       "      <th id=\"T_273a6_level0_row2\" class=\"row_heading level0 row2\" >2</th>\n",
       "      <td id=\"T_273a6_row2_col0\" class=\"data row2 col0\" >3</td>\n",
       "      <td id=\"T_273a6_row2_col1\" class=\"data row2 col1\" >30</td>\n",
       "      <td id=\"T_273a6_row2_col2\" class=\"data row2 col2\" >300</td>\n",
       "    </tr>\n",
       "    <tr>\n",
       "      <th id=\"T_273a6_level0_row3\" class=\"row_heading level0 row3\" >3</th>\n",
       "      <td id=\"T_273a6_row3_col0\" class=\"data row3 col0\" >4</td>\n",
       "      <td id=\"T_273a6_row3_col1\" class=\"data row3 col1\" >40</td>\n",
       "      <td id=\"T_273a6_row3_col2\" class=\"data row3 col2\" >400</td>\n",
       "    </tr>\n",
       "    <tr>\n",
       "      <th id=\"T_273a6_level0_row4\" class=\"row_heading level0 row4\" >4</th>\n",
       "      <td id=\"T_273a6_row4_col0\" class=\"data row4 col0\" >5</td>\n",
       "      <td id=\"T_273a6_row4_col1\" class=\"data row4 col1\" >50</td>\n",
       "      <td id=\"T_273a6_row4_col2\" class=\"data row4 col2\" >500</td>\n",
       "    </tr>\n",
       "  </tbody>\n",
       "</table>\n"
      ],
      "text/plain": [
       "<pandas.io.formats.style.Styler at 0x160a020abd0>"
      ]
     },
     "execution_count": 37,
     "metadata": {},
     "output_type": "execute_result"
    }
   ],
   "source": [
    "# Sample DataFrame\n",
    "df = pd.DataFrame({\n",
    "    'A': [1, 2, 3, 4, 5],\n",
    "    'B': [10, 20, 30, 40, 50],\n",
    "    'C': [100, 200, 300, 400, 500]\n",
    "})\n",
    "\n",
    "# Highlight specific rows (e.g., rows 1 and 3)\n",
    "def highlight_rows(s):\n",
    "    return ['background-color: yellow' if s.name in [1, 3] else '' for _ in s]\n",
    "\n",
    "df.style.apply(highlight_rows, axis=1)"
   ]
  },
  {
   "cell_type": "code",
   "execution_count": null,
   "id": "4480053a",
   "metadata": {},
   "outputs": [],
   "source": []
  },
  {
   "cell_type": "code",
   "execution_count": null,
   "id": "11d9a2ce",
   "metadata": {},
   "outputs": [],
   "source": [
    "water_yearly_stats['year'].astype(str)+'-'+(water_yearly_stats['year']+1).astype(str).str[-2:]"
   ]
  },
  {
   "cell_type": "code",
   "execution_count": null,
   "id": "b4cdf7fe",
   "metadata": {},
   "outputs": [],
   "source": [
    "(water_yearly_stats['year']+1).astype(str).str[-2:]"
   ]
  },
  {
   "cell_type": "code",
   "execution_count": null,
   "id": "309527fc",
   "metadata": {},
   "outputs": [],
   "source": []
  },
  {
   "cell_type": "code",
   "execution_count": null,
   "id": "0a0a5a04",
   "metadata": {},
   "outputs": [],
   "source": [
    "data_melt[data_melt['year'] == 2025].sort_values('month')['rainfall'].sum()"
   ]
  },
  {
   "cell_type": "code",
   "execution_count": null,
   "id": "64e07344",
   "metadata": {},
   "outputs": [],
   "source": [
    "231.3/5"
   ]
  },
  {
   "cell_type": "code",
   "execution_count": null,
   "id": "9764268d",
   "metadata": {},
   "outputs": [],
   "source": [
    "data_melt[data_melt['year'] == 2025].sort_values('month')['rainfall'].mean()"
   ]
  },
  {
   "cell_type": "code",
   "execution_count": null,
   "id": "f73874e4",
   "metadata": {},
   "outputs": [],
   "source": [
    "data_melt[data_melt['year'] == 2025]"
   ]
  },
  {
   "cell_type": "code",
   "execution_count": null,
   "id": "c3429bdc",
   "metadata": {},
   "outputs": [],
   "source": []
  },
  {
   "cell_type": "code",
   "execution_count": null,
   "id": "445c408e",
   "metadata": {},
   "outputs": [],
   "source": [
    "rainfall_se.head()"
   ]
  },
  {
   "cell_type": "code",
   "execution_count": null,
   "id": "12c8b010",
   "metadata": {},
   "outputs": [],
   "source": []
  },
  {
   "cell_type": "code",
   "execution_count": null,
   "id": "10c220bf",
   "metadata": {},
   "outputs": [],
   "source": []
  },
  {
   "cell_type": "code",
   "execution_count": null,
   "id": "9d96a655",
   "metadata": {},
   "outputs": [],
   "source": []
  },
  {
   "cell_type": "code",
   "execution_count": null,
   "id": "1084e13a",
   "metadata": {},
   "outputs": [],
   "source": [
    "# rainfall_se_data[rainfall_se_data['year'] == 2024]['rainfall'].sum()"
   ]
  },
  {
   "cell_type": "code",
   "execution_count": null,
   "id": "36703b98",
   "metadata": {},
   "outputs": [],
   "source": []
  },
  {
   "cell_type": "markdown",
   "id": "55361699",
   "metadata": {},
   "source": [
    "## ECA&D Website"
   ]
  },
  {
   "cell_type": "markdown",
   "id": "70edd0d4",
   "metadata": {},
   "source": [
    "Website: [European Climate Assessment and Dataset](https://www.ecad.eu/)\n",
    "\n",
    "\n",
    "We have [7 different monitoring stations](https://knmi-ecad-assets-prd.s3.amazonaws.com/download/stations.txt) in the nearby of London that I can take into consideration:\n",
    "\n",
    "| Station ID | Station Name | Latitude | Longitude | Elevation (in m) |\n",
    "| ---------- | ------------ | -------- | --------- | ---------------- |\n",
    "| 459 | LONDON, GB | +51:27:36 | +000:00:00 |   24 |\n",
    "| 2128 * | LONDON/GATWICK, GB | +51:09:00 | -000:10:48 | 62 |\n",
    "| 1860 * | HEATHROW,GB | +51:28:44 | -000:26:56 |   25 |\n",
    "| 16445 * | KEW,GB |+51:28:03 | -000:18:50 |    5 |\n",
    "| 16444 | LONDONWEATHER CENTRE, GB | +51:31:00 | -000:07:00 | 77 |\n",
    "| 17476 * | LONDON ST JAMES'S PARK,GB | +51:30:15 |-000:07:45 | 5 |\n",
    "| 21976 *| LONDON-WEATHER-CENTRE,GB | +51:31:18 | -000:06:42 | 43 |"
   ]
  },
  {
   "cell_type": "markdown",
   "id": "f5bbacb0",
   "metadata": {},
   "source": [
    "### Blended vs Non Blended data"
   ]
  },
  {
   "cell_type": "markdown",
   "id": "07a23552",
   "metadata": {},
   "source": [
    "\n",
    "From the [ECA&D FAQ page](https://www.ecad.eu/FAQ/index.php#3)\n",
    "\n",
    "The series collected from participating countries generally do not contain data for the most recent years. This is partly due to the time that is needed for data quality control and archiving at the home institutions of the participants, and partly the result of the efforts required to include the data in the ECA database. To make available for each station a time series that is as complete as possible, we have included an automated update procedure that relies on the daily data from SYNOP messages that are distributed in near real time over the Global Telecommunication System (GTS). In this procedure the gaps in a daily series are also infilled with observations from nearby stations, provided that they are within 12.5km distance and that height differences are less than 25m.\n",
    "\n",
    "The download options under daily data allow to select blend or non-blend. \n",
    "\n",
    "> *The non-blended series are the series as provided by the participants. The blended series underwent the process described above. In case a blended series is chosen, information on the underlying series that are used in the blending process is provided.*\n",
    "\n",
    "In this notebook, I collected both blended and non blended data for all 5 stations. The idea, is to merge all non blended data (issue of missing data) and see if we come up with a coherent dataset."
   ]
  },
  {
   "cell_type": "code",
   "execution_count": null,
   "id": "76bf850e",
   "metadata": {},
   "outputs": [],
   "source": [
    "def transform_data_datetime(df):\n",
    "    df = df.copy()\n",
    "    df['datetime'] = pd.to_datetime(df['DATE'], format=\"%Y%m%d\")\n",
    "    df['year'] = df['datetime'].dt.year\n",
    "    df['month int'] = df['datetime'].dt.month\n",
    "    df['month'] = df['datetime'].dt.strftime('%b')\n",
    "    df['day'] = df['datetime'].dt.day\n",
    "\n",
    "    return df"
   ]
  },
  {
   "cell_type": "markdown",
   "id": "e1efdba1",
   "metadata": {},
   "source": [
    "### Gatwick Data"
   ]
  },
  {
   "cell_type": "code",
   "execution_count": null,
   "id": "0f8f19c5",
   "metadata": {},
   "outputs": [],
   "source": [
    "data = pd.read_csv('./data/non_blended/London_Gatwick_2128_RR_SOUID221586.csv')\n",
    "data.head()"
   ]
  },
  {
   "cell_type": "code",
   "execution_count": null,
   "id": "5ad50605",
   "metadata": {},
   "outputs": [],
   "source": [
    "data_Gatwick_non_blended = transform_data_datetime(data)\n",
    "data_Gatwick_non_blended.head()"
   ]
  },
  {
   "cell_type": "markdown",
   "id": "e6dee7cb",
   "metadata": {},
   "source": [
    "### Heathrow Data"
   ]
  },
  {
   "cell_type": "markdown",
   "id": "fd61b04b",
   "metadata": {},
   "source": [
    "As for the Heathrow data, we have 2 dataset available. One covers data starting from 1960, the other one starting from 1980. The first dataset also contains more \"reliable\" data. I also compared the two dataset to see if they contain measurements that are consistent between each other (in terms of reported precipitation in mm for each day)"
   ]
  },
  {
   "cell_type": "code",
   "execution_count": null,
   "id": "b1506749",
   "metadata": {},
   "outputs": [],
   "source": [
    "data = pd.read_csv('./data/non_blended/London_Heathrow_1860_1_RR_SOUID107650.csv')\n",
    "data.head()"
   ]
  },
  {
   "cell_type": "code",
   "execution_count": null,
   "id": "1db96ac7",
   "metadata": {},
   "outputs": [],
   "source": [
    "data_Heathrow_1_non_blended = transform_data_datetime(data)\n",
    "data_Heathrow_1_non_blended.head()"
   ]
  },
  {
   "cell_type": "code",
   "execution_count": null,
   "id": "d4f3bdec",
   "metadata": {},
   "outputs": [],
   "source": [
    "data = pd.read_csv('./data/non_blended/London_Heathrow_1860_2_RR_SOUID219137.csv')\n",
    "data.head()"
   ]
  },
  {
   "cell_type": "code",
   "execution_count": null,
   "id": "f8da587e",
   "metadata": {},
   "outputs": [],
   "source": [
    "data_Heathrow_2_non_blended = transform_data_datetime(data)\n",
    "data_Heathrow_2_non_blended.head()"
   ]
  },
  {
   "cell_type": "code",
   "execution_count": null,
   "id": "6c2c57f4",
   "metadata": {},
   "outputs": [],
   "source": [
    "data_Heathrow_1_non_blended[(data_Heathrow_1_non_blended['year'] == 1980) & \n",
    "                            (data_Heathrow_1_non_blended['month'] == 'Jul')]['RR'].sum()"
   ]
  },
  {
   "cell_type": "code",
   "execution_count": null,
   "id": "c2e72431",
   "metadata": {},
   "outputs": [],
   "source": [
    "data_Heathrow_2_non_blended[(data_Heathrow_2_non_blended['year'] == 1980) & \n",
    "                            (data_Heathrow_2_non_blended['month'] == 'Jul')]['RR'].sum()"
   ]
  },
  {
   "cell_type": "code",
   "execution_count": null,
   "id": "1bcb07a5",
   "metadata": {},
   "outputs": [],
   "source": [
    "test_1980_1 = data_Heathrow_1_non_blended[data_Heathrow_1_non_blended['year'] == 1980]\n",
    "test_1980_2 = data_Heathrow_2_non_blended[data_Heathrow_2_non_blended['year'] == 1980]"
   ]
  },
  {
   "cell_type": "code",
   "execution_count": null,
   "id": "515f65cd",
   "metadata": {},
   "outputs": [],
   "source": [
    "fig, ax = plt.subplots(figsize=(12, 6))\n",
    "\n",
    "sns.lineplot(\n",
    "    data = test_1980_1,\n",
    "    x = 'datetime',\n",
    "    y = 'RR',\n",
    "    ax=ax,\n",
    "    label='Heathrow 1'\n",
    ")\n",
    "\n",
    "sns.lineplot(\n",
    "    data = test_1980_2,\n",
    "    x = 'datetime',\n",
    "    y = 'RR',\n",
    "    ax=ax,\n",
    "    label='Heathrow 2'\n",
    ")\n"
   ]
  },
  {
   "cell_type": "markdown",
   "id": "1e673a41",
   "metadata": {},
   "source": [
    "### Kew Garden"
   ]
  },
  {
   "cell_type": "code",
   "execution_count": null,
   "id": "1a775998",
   "metadata": {},
   "outputs": [],
   "source": [
    "data = pd.read_csv('./data/non_blended/London_KG_21975_RR_SOUID219141.csv')\n",
    "print(data.shape)\n",
    "data.head()"
   ]
  },
  {
   "cell_type": "code",
   "execution_count": null,
   "id": "29b882b9",
   "metadata": {},
   "outputs": [],
   "source": [
    "data_KG_non_blended = transform_data_datetime(data)\n",
    "data_KG_non_blended.head()"
   ]
  },
  {
   "cell_type": "markdown",
   "id": "21cb3bd4",
   "metadata": {},
   "source": [
    "### St. James Park"
   ]
  },
  {
   "cell_type": "code",
   "execution_count": null,
   "id": "5a519044",
   "metadata": {},
   "outputs": [],
   "source": [
    "data = pd.read_csv('./data/non_blended/London_SJP_17476_RR_SOUID219145.csv')\n",
    "print(data.shape)\n",
    "data.head()"
   ]
  },
  {
   "cell_type": "code",
   "execution_count": null,
   "id": "3809e268",
   "metadata": {},
   "outputs": [],
   "source": [
    "data_SJP_non_blended = transform_data_datetime(data)\n",
    "data_SJP_non_blended.head()"
   ]
  },
  {
   "cell_type": "code",
   "execution_count": null,
   "id": "130097ec",
   "metadata": {},
   "outputs": [],
   "source": [
    "data_SJP_non_blended[data_SJP_non_blended['Q_RR'] != 0].shape"
   ]
  },
  {
   "cell_type": "markdown",
   "id": "ccc4f1fa",
   "metadata": {},
   "source": [
    "### London Weather Center"
   ]
  },
  {
   "cell_type": "code",
   "execution_count": null,
   "id": "e437b7a2",
   "metadata": {},
   "outputs": [],
   "source": [
    "data = pd.read_csv('./data/non_blended/London_WC_21976_RR_SOUID219147.csv')\n",
    "print(data.shape)\n",
    "data.head()"
   ]
  },
  {
   "cell_type": "code",
   "execution_count": null,
   "id": "34bbb1ca",
   "metadata": {},
   "outputs": [],
   "source": [
    "data_WC_non_blended = transform_data_datetime(data)\n",
    "data_WC_non_blended.head()"
   ]
  },
  {
   "cell_type": "markdown",
   "id": "8b5ab1f5",
   "metadata": {},
   "source": [
    "## Data Cleaning"
   ]
  },
  {
   "cell_type": "markdown",
   "id": "a7309d1a",
   "metadata": {},
   "source": [
    "I am starting by considering the St. James Park data (the closest station to where I live) and fill the missing reading with the other available data - Kew Garden first and Heathrow."
   ]
  },
  {
   "cell_type": "code",
   "execution_count": null,
   "id": "e098aaff",
   "metadata": {},
   "outputs": [],
   "source": [
    "data_SJP_non_blended[data_SJP_non_blended['Q_RR'] != 0].shape"
   ]
  },
  {
   "cell_type": "code",
   "execution_count": null,
   "id": "9393a856",
   "metadata": {},
   "outputs": [],
   "source": [
    "data_SJP_non_blended[data_SJP_non_blended['Q_RR'] != 0].shape[0]/ data_SJP_non_blended.shape[0]"
   ]
  },
  {
   "cell_type": "code",
   "execution_count": null,
   "id": "066830ea",
   "metadata": {},
   "outputs": [],
   "source": [
    "data_KG_non_blended[data_KG_non_blended['Q_RR'] != 0].shape[0]/ data_KG_non_blended.shape[0]"
   ]
  },
  {
   "cell_type": "code",
   "execution_count": null,
   "id": "09808082",
   "metadata": {},
   "outputs": [],
   "source": [
    "data_SJP_non_blended['datetime'].min()"
   ]
  },
  {
   "cell_type": "code",
   "execution_count": null,
   "id": "aea9f790",
   "metadata": {},
   "outputs": [],
   "source": [
    "data_KG_non_blended['datetime'].min()"
   ]
  },
  {
   "cell_type": "code",
   "execution_count": null,
   "id": "44aaf9b3",
   "metadata": {},
   "outputs": [],
   "source": [
    "data_SJP_2010 = data_SJP_non_blended[data_SJP_non_blended['datetime'] > '2010-01-01'].copy()\n",
    "data_KG_2010 = data_KG_non_blended[data_KG_non_blended['datetime'] > '2010-01-01'].copy()\n",
    "print(data_SJP_2010.shape, data_KG_2010.shape)"
   ]
  },
  {
   "cell_type": "code",
   "execution_count": null,
   "id": "462ea442",
   "metadata": {},
   "outputs": [],
   "source": [
    "data_SJP_2010[data_SJP_2010['Q_RR'] != 0].shape"
   ]
  },
  {
   "cell_type": "code",
   "execution_count": null,
   "id": "c26d725d",
   "metadata": {},
   "outputs": [],
   "source": [
    "data_KG_2010[data_KG_2010['Q_RR'] != 0].shape"
   ]
  },
  {
   "cell_type": "code",
   "execution_count": null,
   "id": "aecd2011",
   "metadata": {},
   "outputs": [],
   "source": [
    "sns.scatterplot(\n",
    "    data=data_KG_2010,\n",
    "    x='datetime',\n",
    "    y='RR'\n",
    "    )"
   ]
  },
  {
   "cell_type": "code",
   "execution_count": null,
   "id": "3283517e",
   "metadata": {},
   "outputs": [],
   "source": [
    "sns.set_theme(rc={'figure.figsize':(11.7,8.27)})\n",
    "\n",
    "sns.scatterplot(\n",
    "    data=data_Heathrow_1_non_blended[data_Heathrow_1_non_blended['year'] > 2010],\n",
    "    x='datetime',\n",
    "    y='RR'\n",
    "    );"
   ]
  },
  {
   "cell_type": "markdown",
   "id": "35a839f3",
   "metadata": {},
   "source": [
    "So, basically, after searching data for hours, I came to the conclusion that the best dataset for my purpose was just the one from Heathrow as it doesn't contain any ureliable data. All inconsistent data are prior of 2010.\n",
    "\n",
    "> Lesson learned: Set up your constrains and then check if the data fit the purpose as soon as you download it"
   ]
  },
  {
   "cell_type": "code",
   "execution_count": null,
   "id": "959e1566",
   "metadata": {},
   "outputs": [],
   "source": [
    "data_Heathrow_1_non_blended[data_Heathrow_1_non_blended['Q_RR'] != 0]"
   ]
  },
  {
   "cell_type": "code",
   "execution_count": null,
   "id": "dc8adc0f",
   "metadata": {},
   "outputs": [],
   "source": [
    "rainfall_data = data_Heathrow_1_non_blended[(data_Heathrow_1_non_blended['year'] >= 2010) & (data_Heathrow_1_non_blended['year'] <2025)].copy() \n",
    "\n",
    "rainfall_data.month = pd.Categorical(\n",
    "    rainfall_data.month,\n",
    "    categories=['Jan', 'Feb', 'Mar', 'Apr', 'May', 'Jun', \n",
    "                'Jul', 'Aug', 'Sep', 'Oct', 'Nov', 'Dec'],\n",
    "    ordered=True\n",
    ")"
   ]
  },
  {
   "cell_type": "code",
   "execution_count": null,
   "id": "5236ddb1",
   "metadata": {},
   "outputs": [],
   "source": [
    "sns.set_theme(rc={'figure.figsize':(12.,6.)})\n",
    "\n",
    "sns.scatterplot(\n",
    "    data=rainfall_data,\n",
    "    x='datetime',\n",
    "    y='RR'\n",
    "    );"
   ]
  },
  {
   "cell_type": "code",
   "execution_count": null,
   "id": "cf001182",
   "metadata": {},
   "outputs": [],
   "source": [
    "print(rainfall_data['datetime'].min())\n",
    "print(rainfall_data['datetime'].max())"
   ]
  },
  {
   "cell_type": "code",
   "execution_count": null,
   "id": "74a309ed",
   "metadata": {},
   "outputs": [],
   "source": [
    "precipitation_by_year_month = (rainfall_data\n",
    " .groupby(['year', 'month'], observed=False)\n",
    " .agg\n",
    " (\n",
    "     precipitation_sum=('RR', 'sum'),\n",
    "     precipitation_mean=('RR', 'mean'),\n",
    "     precipitation_std=('RR', 'std'),\n",
    "     precipitation_median=('RR', 'median'),\n",
    "     precipitation_max=('RR', 'max'),\n",
    "     precipitation_min=('RR', 'min')\n",
    " )\n",
    " ).reset_index()"
   ]
  },
  {
   "cell_type": "code",
   "execution_count": null,
   "id": "981e28b1",
   "metadata": {},
   "outputs": [],
   "source": [
    "precipitation_by_year_month.head()"
   ]
  },
  {
   "cell_type": "code",
   "execution_count": null,
   "id": "65bdaed9",
   "metadata": {},
   "outputs": [],
   "source": [
    "rainfall_data[(rainfall_data['year'] == 2010) & (rainfall_data['month'] == 'Jan')]['RR'].sum()"
   ]
  },
  {
   "cell_type": "code",
   "execution_count": null,
   "id": "3a490305",
   "metadata": {},
   "outputs": [],
   "source": [
    "rainfall_data[(rainfall_data['year'] == 2010) & (rainfall_data['month'] == 'Jan')]['RR'].mean()"
   ]
  },
  {
   "cell_type": "code",
   "execution_count": null,
   "id": "6cd90192",
   "metadata": {},
   "outputs": [],
   "source": [
    "data = pd.read_csv('./data/south_east_rainfall.csv')\n",
    "\n",
    "data.columns = data.columns.str.strip()\n",
    "string_columns = data.select_dtypes(include=['object']).columns\n",
    "data[string_columns] = data[string_columns].apply(pd.to_numeric, errors='coerce')\n",
    "data_melt = data[['year', 'jan', 'feb', 'mar', 'apr', 'may', 'jun', 'jul', 'aug', 'sep','oct', 'nov', 'dec']].melt(id_vars='year',var_name='month', value_name='value').sort_values(by='year')\n",
    "data_melt['month'] = pd.Categorical(data_melt['month'], categories=['jan', 'feb', 'mar', 'apr', 'may', 'jun', 'jul', 'aug', 'sep', 'oct', 'nov', 'dec'], ordered=True)"
   ]
  },
  {
   "cell_type": "code",
   "execution_count": null,
   "id": "4aa5a46e",
   "metadata": {},
   "outputs": [],
   "source": [
    "rainfall_data_south_east = data_melt[(data_melt['year'] >= 2010) & (data_melt['year'] < 2025)].sort_values(by=['year', 'month']).reset_index(drop=True)"
   ]
  },
  {
   "cell_type": "code",
   "execution_count": null,
   "id": "429b98a7",
   "metadata": {},
   "outputs": [],
   "source": [
    "rainfall_data_heathrow = precipitation_by_year_month.copy()\n",
    "rainfall_data_heathrow.head()"
   ]
  },
  {
   "cell_type": "code",
   "execution_count": null,
   "id": "40b3f45a",
   "metadata": {},
   "outputs": [],
   "source": [
    "rainfall_data_south_east.head()"
   ]
  },
  {
   "cell_type": "code",
   "execution_count": null,
   "id": "5fc0d4d5",
   "metadata": {},
   "outputs": [],
   "source": [
    "rainfall_data_heathrow.dtypes"
   ]
  },
  {
   "cell_type": "code",
   "execution_count": null,
   "id": "8de36845",
   "metadata": {},
   "outputs": [],
   "source": [
    "rainfall_data_south_east['month'] = rainfall_data_south_east['month'].str.capitalize()  # jan -> Jan\n",
    "# df['datetime'] = pd.to_datetime(df[['Year', 'Month']].assign(day=1))"
   ]
  },
  {
   "cell_type": "code",
   "execution_count": null,
   "id": "7db643f2",
   "metadata": {},
   "outputs": [],
   "source": [
    "rainfall_data_south_east['datetime'] = pd.to_datetime(rainfall_data_south_east['year'].astype(str) + '-' + rainfall_data_south_east['month'] + '-01', format='%Y-%b-%d')"
   ]
  },
  {
   "cell_type": "code",
   "execution_count": null,
   "id": "eaa0659a",
   "metadata": {},
   "outputs": [],
   "source": [
    "rainfall_data_heathrow['datetime'] = pd.to_datetime(rainfall_data_heathrow['year'].astype(str) + '-' + rainfall_data_heathrow['month'].astype(str) + '-01', format='%Y-%b-%d')\n",
    "# rainfall_data_south_east.dtypes"
   ]
  },
  {
   "cell_type": "code",
   "execution_count": null,
   "id": "494934d2",
   "metadata": {},
   "outputs": [],
   "source": [
    "rainfall_data_heathrow"
   ]
  },
  {
   "cell_type": "code",
   "execution_count": null,
   "id": "1c5ffd0b",
   "metadata": {},
   "outputs": [],
   "source": [
    "rainfall_heathrow = rainfall_data_heathrow[['datetime', 'precipitation_sum', 'precipitation_mean']].rename(\n",
    "    columns={\n",
    "        'precipitation_sum': 'Heathrow Sum',\n",
    "        'precipitation_mean': 'Heathrow Mean'\n",
    "    }\n",
    ")\n",
    "\n",
    "rainfall_south_east = rainfall_data_south_east[['datetime', 'value']].rename(\n",
    "    columns={\n",
    "        'value': 'South East Sum'\n",
    "    }\n",
    ")"
   ]
  },
  {
   "cell_type": "code",
   "execution_count": null,
   "id": "e777fade",
   "metadata": {},
   "outputs": [],
   "source": [
    "rainfall_heathrow.head()"
   ]
  },
  {
   "cell_type": "code",
   "execution_count": null,
   "id": "64d505ac",
   "metadata": {},
   "outputs": [],
   "source": [
    "rainfall_south_east.head()"
   ]
  },
  {
   "cell_type": "code",
   "execution_count": null,
   "id": "12cb96c3",
   "metadata": {},
   "outputs": [],
   "source": [
    "rainfall_compare = rainfall_heathrow.merge(\n",
    "    rainfall_south_east,\n",
    "    on='datetime',\n",
    "    how='outer'\n",
    ")"
   ]
  },
  {
   "cell_type": "code",
   "execution_count": null,
   "id": "efb2dcdc",
   "metadata": {},
   "outputs": [],
   "source": [
    "rainfall_compare[['Heathrow Sum', 'South East Sum']].corr()"
   ]
  },
  {
   "cell_type": "code",
   "execution_count": null,
   "id": "6176b737",
   "metadata": {},
   "outputs": [],
   "source": [
    "rainfall_compare[['Heathrow Mean', 'South East Sum']].corr()"
   ]
  },
  {
   "cell_type": "code",
   "execution_count": null,
   "id": "0fa93bde",
   "metadata": {},
   "outputs": [],
   "source": [
    "fig, ax = plt.subplots(figsize=(12, 6))\n",
    "\n",
    "sns.lineplot(\n",
    "    data = rainfall_compare,\n",
    "    x = 'datetime',\n",
    "    y = 'Heathrow Mean',\n",
    "    ax=ax,\n",
    "    label='Heathrow'\n",
    ")\n",
    "\n",
    "sns.lineplot(\n",
    "    data = rainfall_compare,\n",
    "    x = 'datetime',\n",
    "    y = 'South East Sum',\n",
    "    ax=ax,\n",
    "    label='South East'\n",
    ")\n"
   ]
  },
  {
   "cell_type": "code",
   "execution_count": null,
   "id": "62eba784",
   "metadata": {},
   "outputs": [],
   "source": []
  },
  {
   "cell_type": "code",
   "execution_count": null,
   "id": "cbd3c431",
   "metadata": {},
   "outputs": [],
   "source": [
    "rainfall_data.corr()"
   ]
  },
  {
   "cell_type": "markdown",
   "id": "99da9069",
   "metadata": {},
   "source": [
    "### Blended - St James park and London central"
   ]
  },
  {
   "cell_type": "code",
   "execution_count": null,
   "id": "2fdf76a9",
   "metadata": {},
   "outputs": [],
   "source": [
    "# St. James park data BLENDED\n",
    "data_sjp_blended = pd.read_csv('./data/RR_STAID017476_blended.csv')\n",
    "# Convert the 'DATE' column to datetime format\n",
    "data_sjp_blended['datetime'] = pd.to_datetime(data_sjp_blended['DATE'], format=\"%Y%m%d\")\n",
    "# Creating year, month, and day columns \n",
    "data_sjp_blended['year'] = data_sjp_blended['datetime'].dt.year\n",
    "data_sjp_blended['month int'] = data_sjp_blended['datetime'].dt.month\n",
    "data_sjp_blended['month'] = data_sjp_blended['datetime'].dt.strftime('%b')\n",
    "data_sjp_blended['day'] = data_sjp_blended['datetime'].dt.day\n",
    "# display the first few rows of the dataframe\n",
    "print(data_sjp_blended.shape)\n",
    "data_sjp_blended.head()"
   ]
  },
  {
   "cell_type": "code",
   "execution_count": null,
   "id": "c417fac9",
   "metadata": {},
   "outputs": [],
   "source": [
    "# London park data BLENDED\n",
    "data_lon_blended = pd.read_csv('./data/London_blended_RR_STAID021976.csv')\n",
    "# Convert the 'DATE' column to datetime format\n",
    "data_lon_blended['datetime'] = pd.to_datetime(data_lon_blended['DATE'], format=\"%Y%m%d\")\n",
    "# Creating year, month, and day columns \n",
    "data_lon_blended['year'] = data_lon_blended['datetime'].dt.year\n",
    "data_lon_blended['month int'] = data_lon_blended['datetime'].dt.month\n",
    "data_lon_blended['month'] = data_lon_blended['datetime'].dt.strftime('%b')\n",
    "data_lon_blended['day'] = data_lon_blended['datetime'].dt.day\n",
    "# display the first few rows of the dataframe\n",
    "print(data_lon_blended.shape)\n",
    "data_lon_blended.head()"
   ]
  },
  {
   "cell_type": "code",
   "execution_count": null,
   "id": "101d1636",
   "metadata": {},
   "outputs": [],
   "source": [
    "# London park data NON BLENDED\n",
    "data_lon_non_blended = pd.read_csv('./data/London_non_blended_RR_SOUID219147.csv')\n",
    "# Convert the 'DATE' column to datetime format\n",
    "data_lon_non_blended['datetime'] = pd.to_datetime(data_lon_non_blended['DATE'], format=\"%Y%m%d\")\n",
    "# Creating year, month, and day columns \n",
    "data_lon_non_blended['year'] = data_lon_non_blended['datetime'].dt.year\n",
    "data_lon_non_blended['month int'] = data_lon_non_blended['datetime'].dt.month\n",
    "data_lon_non_blended['month'] = data_lon_non_blended['datetime'].dt.strftime('%b')\n",
    "data_lon_non_blended['day'] = data_lon_non_blended['datetime'].dt.day\n",
    "# display the first few rows of the dataframe\n",
    "print(data_lon_non_blended.shape)\n",
    "data_lon_non_blended.head()"
   ]
  },
  {
   "cell_type": "code",
   "execution_count": null,
   "id": "fd6e06e4",
   "metadata": {},
   "outputs": [],
   "source": [
    "# London Kew Garded data NON BLENDED\n",
    "data_KG_non_blended = pd.read_csv('./data/London_KG_non_blended_RR_SOUID219141.csv')\n",
    "# Convert the 'DATE' column to datetime format\n",
    "data_KG_non_blended['datetime'] = pd.to_datetime(data_KG_non_blended['DATE'], format=\"%Y%m%d\")\n",
    "# Creating year, month, and day columns \n",
    "data_KG_non_blended['year'] = data_KG_non_blended['datetime'].dt.year\n",
    "data_KG_non_blended['month int'] = data_KG_non_blended['datetime'].dt.month\n",
    "data_KG_non_blended['month'] = data_KG_non_blended['datetime'].dt.strftime('%b')\n",
    "data_KG_non_blended['day'] = data_KG_non_blended['datetime'].dt.day\n",
    "# display the first few rows of the dataframe\n",
    "print(data_KG_non_blended.shape)\n",
    "data_KG_non_blended.head()"
   ]
  },
  {
   "cell_type": "code",
   "execution_count": null,
   "id": "1fd90194",
   "metadata": {},
   "outputs": [],
   "source": []
  },
  {
   "cell_type": "code",
   "execution_count": null,
   "id": "8cbefbd9",
   "metadata": {},
   "outputs": [],
   "source": [
    "data_lon_non_blended[data_lon_non_blended['Q_RR'] != 0].shape"
   ]
  },
  {
   "cell_type": "code",
   "execution_count": null,
   "id": "d0dccc76",
   "metadata": {},
   "outputs": [],
   "source": []
  },
  {
   "cell_type": "code",
   "execution_count": null,
   "id": "bc8ae15b",
   "metadata": {},
   "outputs": [],
   "source": [
    "(data_sjp_blended\n",
    " .groupby(['year', 'month int'])\n",
    " .agg({'RR': 'sum'})\n",
    ").reset_index()[45:55]"
   ]
  },
  {
   "cell_type": "code",
   "execution_count": null,
   "id": "3b1be83a",
   "metadata": {},
   "outputs": [],
   "source": [
    "(data_lon_blended\n",
    " .groupby(['year', 'month int'])\n",
    " .agg({'RR': 'sum'})\n",
    ").reset_index()[152:162]"
   ]
  },
  {
   "cell_type": "code",
   "execution_count": null,
   "id": "179709a2",
   "metadata": {},
   "outputs": [],
   "source": [
    "data_lon_blended[data_lon_blended['datetime'].isin(list(data_sjp_blended[data_sjp_blended['Q_RR'] != 0]['datetime'].values))].tail()"
   ]
  },
  {
   "cell_type": "code",
   "execution_count": null,
   "id": "58794678",
   "metadata": {},
   "outputs": [],
   "source": [
    "data_lon_non_blended[data_lon_non_blended['datetime'].isin(list(data_sjp_blended[data_sjp_blended['Q_RR'] != 0]['datetime'].values))].head()"
   ]
  },
  {
   "cell_type": "code",
   "execution_count": null,
   "id": "2cae99aa",
   "metadata": {},
   "outputs": [],
   "source": [
    "data_KG_non_blended[(data_KG_non_blended['datetime'].isin(list(data_sjp_blended[data_sjp_blended['Q_RR'] != 0]['datetime'].values))) & \n",
    "                    (data_KG_non_blended['Q_RR'] == 0)]"
   ]
  },
  {
   "cell_type": "code",
   "execution_count": null,
   "id": "e20e347c",
   "metadata": {},
   "outputs": [],
   "source": []
  },
  {
   "cell_type": "code",
   "execution_count": null,
   "id": "7ff0a8c4",
   "metadata": {},
   "outputs": [],
   "source": []
  },
  {
   "cell_type": "markdown",
   "id": "9e7f54e0",
   "metadata": {},
   "source": [
    "## Met Office Data\n",
    "\n",
    "- [Met Office Websise](https://www.metoffice.gov.uk/research/climate/maps-and-data/historic-station-data)\n",
    "- [London Heathrow](https://www.metoffice.gov.uk/pub/data/weather/uk/climate/stationdata/heathrowdata.txt)"
   ]
  },
  {
   "cell_type": "markdown",
   "id": "385ca566",
   "metadata": {},
   "source": []
  }
 ],
 "metadata": {
  "kernelspec": {
   "display_name": "base",
   "language": "python",
   "name": "python3"
  },
  "language_info": {
   "codemirror_mode": {
    "name": "ipython",
    "version": 3
   },
   "file_extension": ".py",
   "mimetype": "text/x-python",
   "name": "python",
   "nbconvert_exporter": "python",
   "pygments_lexer": "ipython3",
   "version": "3.12.3"
  }
 },
 "nbformat": 4,
 "nbformat_minor": 5
}
