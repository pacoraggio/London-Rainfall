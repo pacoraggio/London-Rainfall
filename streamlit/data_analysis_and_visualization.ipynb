{
 "cells": [
  {
   "cell_type": "code",
   "execution_count": 1,
   "id": "8cde26b6",
   "metadata": {},
   "outputs": [],
   "source": [
    "import pandas as pd\n",
    "import numpy as np\n",
    "\n",
    "import matplotlib.pyplot as plt\n",
    "import seaborn as sns\n",
    "\n",
    "import folium"
   ]
  },
  {
   "cell_type": "markdown",
   "id": "85e4a85a",
   "metadata": {},
   "source": [
    "# Data Analysis and Visualization"
   ]
  },
  {
   "cell_type": "markdown",
   "id": "e7ce7f18",
   "metadata": {},
   "source": [
    "In this notebook, we will analyse the produced dataset to compare rainfall in London and Apulia region and visualize the measurements. \n",
    "\n",
    "We will start with yearly precipitation, considering the mean computed for all points in the grid as well as comparing the mean for london with all the grid point for Apulia.  "
   ]
  },
  {
   "cell_type": "code",
   "execution_count": 54,
   "id": "ee4bb991",
   "metadata": {},
   "outputs": [],
   "source": [
    "london_yearly_mean = pd.read_parquet('./data/data_london_yearly_mean.parquet')\n",
    "puglia_yearly_mean = pd.read_parquet('./data/data_puglia_yearly_mean.parquet')"
   ]
  },
  {
   "cell_type": "code",
   "execution_count": null,
   "id": "6506e684",
   "metadata": {},
   "outputs": [
    {
     "data": {
      "text/html": [
       "<div>\n",
       "<style scoped>\n",
       "    .dataframe tbody tr th:only-of-type {\n",
       "        vertical-align: middle;\n",
       "    }\n",
       "\n",
       "    .dataframe tbody tr th {\n",
       "        vertical-align: top;\n",
       "    }\n",
       "\n",
       "    .dataframe thead th {\n",
       "        text-align: right;\n",
       "    }\n",
       "</style>\n",
       "<table border=\"1\" class=\"dataframe\">\n",
       "  <thead>\n",
       "    <tr style=\"text-align: right;\">\n",
       "      <th></th>\n",
       "      <th>year</th>\n",
       "      <th>yearly_tp_mm</th>\n",
       "    </tr>\n",
       "  </thead>\n",
       "  <tbody>\n",
       "    <tr>\n",
       "      <th>1</th>\n",
       "      <td>2018</td>\n",
       "      <td>805.600000</td>\n",
       "    </tr>\n",
       "    <tr>\n",
       "      <th>2</th>\n",
       "      <td>2019</td>\n",
       "      <td>662.272316</td>\n",
       "    </tr>\n",
       "    <tr>\n",
       "      <th>3</th>\n",
       "      <td>2020</td>\n",
       "      <td>548.466102</td>\n",
       "    </tr>\n",
       "    <tr>\n",
       "      <th>4</th>\n",
       "      <td>2021</td>\n",
       "      <td>565.961017</td>\n",
       "    </tr>\n",
       "    <tr>\n",
       "      <th>5</th>\n",
       "      <td>2022</td>\n",
       "      <td>597.719209</td>\n",
       "    </tr>\n",
       "    <tr>\n",
       "      <th>6</th>\n",
       "      <td>2023</td>\n",
       "      <td>623.664972</td>\n",
       "    </tr>\n",
       "    <tr>\n",
       "      <th>7</th>\n",
       "      <td>2024</td>\n",
       "      <td>510.405085</td>\n",
       "    </tr>\n",
       "    <tr>\n",
       "      <th>8</th>\n",
       "      <td>2025</td>\n",
       "      <td>304.990960</td>\n",
       "    </tr>\n",
       "  </tbody>\n",
       "</table>\n",
       "</div>"
      ],
      "text/plain": [
       "   year  yearly_tp_mm\n",
       "1  2018    805.600000\n",
       "2  2019    662.272316\n",
       "3  2020    548.466102\n",
       "4  2021    565.961017\n",
       "5  2022    597.719209\n",
       "6  2023    623.664972\n",
       "7  2024    510.405085\n",
       "8  2025    304.990960"
      ]
     },
     "execution_count": 56,
     "metadata": {},
     "output_type": "execute_result"
    }
   ],
   "source": [
    "london_yearly_mean = london_yearly_mean[london_yearly_mean['year'] > london_yearly_mean['year'].min()]\n",
    "puglia_yearly_mean = puglia_yearly_mean[puglia_yearly_mean['year'] > puglia_yearly_mean['year'].min()]"
   ]
  },
  {
   "cell_type": "code",
   "execution_count": null,
   "id": "9bde237b",
   "metadata": {},
   "outputs": [],
   "source": []
  },
  {
   "cell_type": "code",
   "execution_count": 6,
   "id": "0d2b2f91",
   "metadata": {},
   "outputs": [
    {
     "data": {
      "text/html": [
       "<div>\n",
       "<style scoped>\n",
       "    .dataframe tbody tr th:only-of-type {\n",
       "        vertical-align: middle;\n",
       "    }\n",
       "\n",
       "    .dataframe tbody tr th {\n",
       "        vertical-align: top;\n",
       "    }\n",
       "\n",
       "    .dataframe thead th {\n",
       "        text-align: right;\n",
       "    }\n",
       "</style>\n",
       "<table border=\"1\" class=\"dataframe\">\n",
       "  <thead>\n",
       "    <tr style=\"text-align: right;\">\n",
       "      <th></th>\n",
       "      <th>year</th>\n",
       "      <th>yearly_tp_mm</th>\n",
       "    </tr>\n",
       "  </thead>\n",
       "  <tbody>\n",
       "    <tr>\n",
       "      <th>1</th>\n",
       "      <td>2018</td>\n",
       "      <td>620.941667</td>\n",
       "    </tr>\n",
       "    <tr>\n",
       "      <th>2</th>\n",
       "      <td>2019</td>\n",
       "      <td>789.633333</td>\n",
       "    </tr>\n",
       "    <tr>\n",
       "      <th>3</th>\n",
       "      <td>2020</td>\n",
       "      <td>717.041667</td>\n",
       "    </tr>\n",
       "    <tr>\n",
       "      <th>4</th>\n",
       "      <td>2021</td>\n",
       "      <td>855.466667</td>\n",
       "    </tr>\n",
       "    <tr>\n",
       "      <th>5</th>\n",
       "      <td>2022</td>\n",
       "      <td>659.316667</td>\n",
       "    </tr>\n",
       "    <tr>\n",
       "      <th>6</th>\n",
       "      <td>2023</td>\n",
       "      <td>781.125000</td>\n",
       "    </tr>\n",
       "    <tr>\n",
       "      <th>7</th>\n",
       "      <td>2024</td>\n",
       "      <td>832.166667</td>\n",
       "    </tr>\n",
       "    <tr>\n",
       "      <th>8</th>\n",
       "      <td>2025</td>\n",
       "      <td>232.900000</td>\n",
       "    </tr>\n",
       "  </tbody>\n",
       "</table>\n",
       "</div>"
      ],
      "text/plain": [
       "   year  yearly_tp_mm\n",
       "1  2018    620.941667\n",
       "2  2019    789.633333\n",
       "3  2020    717.041667\n",
       "4  2021    855.466667\n",
       "5  2022    659.316667\n",
       "6  2023    781.125000\n",
       "7  2024    832.166667\n",
       "8  2025    232.900000"
      ]
     },
     "execution_count": 6,
     "metadata": {},
     "output_type": "execute_result"
    }
   ],
   "source": [
    "london_yearly_mean = london_yearly_mean[london_yearly_mean['year'] > 2017]\n",
    "london_yearly_mean"
   ]
  },
  {
   "cell_type": "markdown",
   "id": "df92c907",
   "metadata": {},
   "source": [
    "The first visualization in the streamlit app, will be the global comparison, year by year, of total mean precipitation for 12 points in the grid of London and 177 points in Apulia. We will also consider the min and max value for the point in the grid."
   ]
  },
  {
   "cell_type": "code",
   "execution_count": 32,
   "id": "81bdedd9",
   "metadata": {},
   "outputs": [],
   "source": [
    "london_yearly_points = pd.read_parquet('./data/data_london_yearly_sum_all_points.parquet')\n",
    "london_yearly_points = london_yearly_points[london_yearly_points['year'] > 2017].copy()\n",
    "\n",
    "puglia_yearly_points =pd.read_parquet('./data/data_puglia_yearly_sum_all_points.parquet')\n",
    "puglia_yearly_points = puglia_yearly_points[puglia_yearly_points['year'] > 2017].copy()\n"
   ]
  },
  {
   "cell_type": "code",
   "execution_count": 33,
   "id": "a874000e",
   "metadata": {},
   "outputs": [],
   "source": [
    "def location_year_min_max(df, year = 2018):\n",
    "    df_year = df[df['year'] == year]\n",
    "\n",
    "    tp_min = df_year[df_year['yearly_tp_mm'] == df_year['yearly_tp_mm'].min()]['yearly_tp_mm'].values[0]\n",
    "    lat_min = df_year[df_year['yearly_tp_mm'] == df_year['yearly_tp_mm'].min()]['latitude'].values[0]\n",
    "    lon_min = df_year[df_year['yearly_tp_mm'] == df_year['yearly_tp_mm'].min()]['longitude'].values[0]\n",
    "\n",
    "    tp_max = df_year[df_year['yearly_tp_mm'] == df_year['yearly_tp_mm'].max()]['yearly_tp_mm'].values[0]\n",
    "    lat_max = df_year[df_year['yearly_tp_mm'] == df_year['yearly_tp_mm'].max()]['latitude'].values[0]\n",
    "    lon_max = df_year[df_year['yearly_tp_mm'] == df_year['yearly_tp_mm'].max()]['longitude'].values[0]\n",
    "\n",
    "    min = (tp_min, lat_min, lon_min)\n",
    "    max = (tp_max, lat_max, lon_max)\n",
    "\n",
    "    return min, max"
   ]
  },
  {
   "cell_type": "code",
   "execution_count": 42,
   "id": "76851cb3",
   "metadata": {},
   "outputs": [],
   "source": [
    "year = 2019\n",
    "\n",
    "min, max = location_year_min_max(london_yearly_points, year)"
   ]
  },
  {
   "cell_type": "code",
   "execution_count": null,
   "id": "783bf548",
   "metadata": {},
   "outputs": [],
   "source": []
  },
  {
   "cell_type": "code",
   "execution_count": null,
   "id": "1ad67e69",
   "metadata": {},
   "outputs": [],
   "source": []
  },
  {
   "cell_type": "code",
   "execution_count": null,
   "id": "2414259a",
   "metadata": {},
   "outputs": [],
   "source": []
  },
  {
   "cell_type": "code",
   "execution_count": null,
   "id": "cce86963",
   "metadata": {},
   "outputs": [],
   "source": []
  },
  {
   "cell_type": "code",
   "execution_count": null,
   "id": "ec6a5ae2",
   "metadata": {},
   "outputs": [],
   "source": []
  },
  {
   "cell_type": "code",
   "execution_count": null,
   "id": "b2729155",
   "metadata": {},
   "outputs": [],
   "source": []
  },
  {
   "cell_type": "code",
   "execution_count": null,
   "id": "3f9f9fba",
   "metadata": {},
   "outputs": [],
   "source": []
  },
  {
   "cell_type": "code",
   "execution_count": null,
   "id": "d89ae968",
   "metadata": {},
   "outputs": [],
   "source": []
  }
 ],
 "metadata": {
  "kernelspec": {
   "display_name": "base",
   "language": "python",
   "name": "python3"
  },
  "language_info": {
   "codemirror_mode": {
    "name": "ipython",
    "version": 3
   },
   "file_extension": ".py",
   "mimetype": "text/x-python",
   "name": "python",
   "nbconvert_exporter": "python",
   "pygments_lexer": "ipython3",
   "version": "3.12.3"
  }
 },
 "nbformat": 4,
 "nbformat_minor": 5
}
