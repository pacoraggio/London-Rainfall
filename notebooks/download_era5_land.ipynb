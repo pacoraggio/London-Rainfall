{
 "cells": [
  {
   "cell_type": "code",
   "execution_count": 2,
   "id": "853d2e27",
   "metadata": {},
   "outputs": [],
   "source": [
    "from src.manage_grib_files import download_and_process_era5_precip"
   ]
  },
  {
   "cell_type": "markdown",
   "id": "ee23bab4",
   "metadata": {},
   "source": [
    "# Download ERA5 land"
   ]
  },
  {
   "cell_type": "markdown",
   "id": "26483aa4",
   "metadata": {},
   "source": [
    "- download data\n",
    "- process data"
   ]
  },
  {
   "cell_type": "code",
   "execution_count": null,
   "id": "656acc03",
   "metadata": {},
   "outputs": [],
   "source": [
    "# # London \n",
    "\n",
    "# data_params = {\n",
    "#     'variable' : 'total_precipitation',\n",
    "#     'year' : ['1977'],\n",
    "#     'month': ['01', '02', '03', '04', '05', '06', '07', '08', '09', '10', '11', '12'],\n",
    "#     'day': [f'{i:02d}' for i in range(1, 32)],\n",
    "#     'time': [f'{i:02d}:00' for i in range(24)],\n",
    "#     'area': [51.6, -0.2, 51.4, 0.1],  # London area: North, West, South, East\n",
    "#     'format': 'grib',\n",
    "# }\n",
    "\n",
    "# out_file = \"london_era5land_hourly_tp_1977\"\n",
    "\n",
    "# download_and_process_era5_precip(request_params=data_params, output_file=out_file)"
   ]
  },
  {
   "cell_type": "code",
   "execution_count": null,
   "id": "bb2b23f6",
   "metadata": {},
   "outputs": [],
   "source": [
    "# # London \n",
    "\n",
    "# data_params = {\n",
    "#     'variable' : 'total_precipitation',\n",
    "#     'year' : ['1978'],\n",
    "#     'month': ['01', '02', '03', '04', '05', '06', '07', '08', '09', '10', '11', '12'],\n",
    "#     'day': [f'{i:02d}' for i in range(1, 32)],\n",
    "#     'time': [f'{i:02d}:00' for i in range(24)],\n",
    "#     'area': [51.6, -0.2, 51.4, 0.1],  # London area: North, West, South, East\n",
    "#     'format': 'grib',\n",
    "# }\n",
    "\n",
    "# out_file = \"london_era5land_hourly_tp_1982\"\n",
    "\n",
    "# download_and_process_era5_precip(request_params=data_params, output_file=out_file)"
   ]
  },
  {
   "cell_type": "code",
   "execution_count": 6,
   "id": "4a7b0c40",
   "metadata": {},
   "outputs": [
    {
     "name": "stderr",
     "output_type": "stream",
     "text": [
      "2025-07-15 10:11:18,565 INFO [2024-09-26T00:00:00] Watch our [Forum](https://forum.ecmwf.int/) for Announcements, news and other discussed topics.\n",
      "2025-07-15 10:11:18,765 INFO Request ID is 7d6546ff-83fc-40e6-bfa6-3ff66c9ef175\n"
     ]
    },
    {
     "name": "stdout",
     "output_type": "stream",
     "text": [
      "Downloading ERA5-Land hourly precipitation data...\n"
     ]
    },
    {
     "name": "stderr",
     "output_type": "stream",
     "text": [
      "2025-07-15 10:11:18,845 INFO status has been updated to accepted\n",
      "2025-07-15 10:11:27,297 INFO status has been updated to running\n",
      "2025-07-15 10:51:44,328 INFO status has been updated to successful\n"
     ]
    },
    {
     "data": {
      "application/vnd.jupyter.widget-view+json": {
       "model_id": "be593efcd67a4c709aff61f615e374c6",
       "version_major": 2,
       "version_minor": 0
      },
      "text/plain": [
       "faf9f98225c12ce1a909f301f7e7a287.zip:   0%|          | 0.00/3.42M [00:00<?, ?B/s]"
      ]
     },
     "metadata": {},
     "output_type": "display_data"
    },
    {
     "name": "stdout",
     "output_type": "stream",
     "text": [
      "Data downloaded to ./grib/london_era5land_hourly_tp_1980.grib\n",
      "File size: 3.42 MB\n"
     ]
    }
   ],
   "source": [
    "# Total precipitation\n",
    "year = 1980\n",
    "y_str = str(year)\n",
    "area = 'london'\n",
    "ffolder = './grib/'\n",
    "fname = ffolder + area +'_era5land_hourly_tp_' + y_str\n",
    "\n",
    "data_params = {\n",
    "    'variable' : 'total_precipitation',\n",
    "    'year' : [y_str],\n",
    "    'month': ['01', '02', '03', '04', '05', '06', '07', '08', '09', '10', '11', '12'],\n",
    "    'day': [f'{i:02d}' for i in range(1, 32)],\n",
    "    'time': [f'{i:02d}:00' for i in range(24)],\n",
    "    'area': [41.9, 15.3, 40.2, 18.5],  # Puglia area: North, West, South, East\n",
    "    'format': 'grib',\n",
    "}\n",
    "\n",
    "out_file = fname\n",
    "\n",
    "download_and_process_era5_precip(request_params=data_params, output_file=out_file)"
   ]
  },
  {
   "cell_type": "code",
   "execution_count": 7,
   "id": "7163f854",
   "metadata": {},
   "outputs": [
    {
     "name": "stderr",
     "output_type": "stream",
     "text": [
      "2025-07-15 10:51:45,597 INFO [2024-09-26T00:00:00] Watch our [Forum](https://forum.ecmwf.int/) for Announcements, news and other discussed topics.\n",
      "2025-07-15 10:51:45,762 INFO Request ID is d24487ed-f863-44b7-93dc-933fbcbd2b2d\n"
     ]
    },
    {
     "name": "stdout",
     "output_type": "stream",
     "text": [
      "Downloading ERA5-Land hourly precipitation data...\n"
     ]
    },
    {
     "name": "stderr",
     "output_type": "stream",
     "text": [
      "2025-07-15 10:51:45,845 INFO status has been updated to accepted\n",
      "2025-07-15 10:51:54,595 INFO status has been updated to running\n",
      "2025-07-15 11:20:07,560 INFO status has been updated to accepted\n",
      "2025-07-15 11:22:07,756 INFO status has been updated to running\n",
      "2025-07-15 11:50:11,281 INFO status has been updated to successful\n"
     ]
    },
    {
     "data": {
      "application/vnd.jupyter.widget-view+json": {
       "model_id": "c757a77da1284afba52ad8cc74a27179",
       "version_major": 2,
       "version_minor": 0
      },
      "text/plain": [
       "ada7b38b7560210f290ce02c96ca3eff.zip:   0%|          | 0.00/3.39M [00:00<?, ?B/s]"
      ]
     },
     "metadata": {},
     "output_type": "display_data"
    },
    {
     "name": "stdout",
     "output_type": "stream",
     "text": [
      "Data downloaded to ./grib/london_era5land_hourly_tp_1979.grib\n",
      "File size: 3.39 MB\n"
     ]
    }
   ],
   "source": [
    "# Total precipitation\n",
    "year = 1979\n",
    "y_str = str(year)\n",
    "area = 'london'\n",
    "ffolder = './grib/'\n",
    "fname = ffolder + area +'_era5land_hourly_tp_' + y_str\n",
    "\n",
    "data_params = {\n",
    "    'variable' : 'total_precipitation',\n",
    "    'year' : [y_str],\n",
    "    'month': ['01', '02', '03', '04', '05', '06', '07', '08', '09', '10', '11', '12'],\n",
    "    'day': [f'{i:02d}' for i in range(1, 32)],\n",
    "    'time': [f'{i:02d}:00' for i in range(24)],\n",
    "    'area': [41.9, 15.3, 40.2, 18.5],  # Puglia area: North, West, South, East\n",
    "    'format': 'grib',\n",
    "}\n",
    "\n",
    "out_file = fname\n",
    "\n",
    "download_and_process_era5_precip(request_params=data_params, output_file=out_file)"
   ]
  },
  {
   "cell_type": "code",
   "execution_count": 8,
   "id": "c3cde1dd",
   "metadata": {},
   "outputs": [
    {
     "name": "stderr",
     "output_type": "stream",
     "text": [
      "2025-07-15 11:50:12,575 INFO [2024-09-26T00:00:00] Watch our [Forum](https://forum.ecmwf.int/) for Announcements, news and other discussed topics.\n"
     ]
    },
    {
     "name": "stdout",
     "output_type": "stream",
     "text": [
      "Downloading ERA5-Land hourly precipitation data...\n"
     ]
    },
    {
     "name": "stderr",
     "output_type": "stream",
     "text": [
      "2025-07-15 11:50:12,790 INFO Request ID is 7945384c-f364-4a7f-8a73-7fd3f4ae4e27\n",
      "2025-07-15 11:50:12,907 INFO status has been updated to accepted\n",
      "2025-07-15 11:50:26,574 INFO status has been updated to running\n",
      "2025-07-15 12:16:36,705 INFO status has been updated to successful\n"
     ]
    },
    {
     "data": {
      "application/vnd.jupyter.widget-view+json": {
       "model_id": "85a799cae5304259a96b6395f5c73bb1",
       "version_major": 2,
       "version_minor": 0
      },
      "text/plain": [
       "6ac30ad7e97c5361bcd8042fff9d84d5.zip:   0%|          | 0.00/3.24M [00:00<?, ?B/s]"
      ]
     },
     "metadata": {},
     "output_type": "display_data"
    },
    {
     "name": "stdout",
     "output_type": "stream",
     "text": [
      "Data downloaded to ./grib/london_era5land_hourly_tp_1978.grib\n",
      "File size: 3.24 MB\n"
     ]
    }
   ],
   "source": [
    "# Total precipitation\n",
    "year = 1978\n",
    "y_str = str(year)\n",
    "area = 'london'\n",
    "ffolder = './grib/'\n",
    "fname = ffolder + area +'_era5land_hourly_tp_' + y_str\n",
    "\n",
    "data_params = {\n",
    "    'variable' : 'total_precipitation',\n",
    "    'year' : [y_str],\n",
    "    'month': ['01', '02', '03', '04', '05', '06', '07', '08', '09', '10', '11', '12'],\n",
    "    'day': [f'{i:02d}' for i in range(1, 32)],\n",
    "    'time': [f'{i:02d}:00' for i in range(24)],\n",
    "    'area': [41.9, 15.3, 40.2, 18.5],  # Puglia area: North, West, South, East\n",
    "    'format': 'grib',\n",
    "}\n",
    "\n",
    "out_file = fname\n",
    "\n",
    "download_and_process_era5_precip(request_params=data_params, output_file=out_file)"
   ]
  },
  {
   "cell_type": "code",
   "execution_count": 9,
   "id": "82e05a2f",
   "metadata": {},
   "outputs": [
    {
     "name": "stderr",
     "output_type": "stream",
     "text": [
      "2025-07-15 12:16:38,824 INFO [2024-09-26T00:00:00] Watch our [Forum](https://forum.ecmwf.int/) for Announcements, news and other discussed topics.\n"
     ]
    },
    {
     "name": "stdout",
     "output_type": "stream",
     "text": [
      "Downloading ERA5-Land hourly precipitation data...\n"
     ]
    },
    {
     "name": "stderr",
     "output_type": "stream",
     "text": [
      "2025-07-15 12:16:39,121 INFO Request ID is 4bb7777b-ae4e-4e51-a343-42d1f85e76bc\n",
      "2025-07-15 12:16:39,176 INFO status has been updated to accepted\n",
      "2025-07-15 12:16:44,455 INFO status has been updated to running\n",
      "2025-07-15 13:05:07,651 INFO status has been updated to successful\n"
     ]
    },
    {
     "data": {
      "application/vnd.jupyter.widget-view+json": {
       "model_id": "a390d81425e244f8aa0e2ee9592859c7",
       "version_major": 2,
       "version_minor": 0
      },
      "text/plain": [
       "dc68952ea8f59d7b51d557d574c1103a.zip:   0%|          | 0.00/2.83M [00:00<?, ?B/s]"
      ]
     },
     "metadata": {},
     "output_type": "display_data"
    },
    {
     "name": "stdout",
     "output_type": "stream",
     "text": [
      "Data downloaded to ./grib/london_era5land_hourly_tp_1977.grib\n",
      "File size: 2.83 MB\n"
     ]
    }
   ],
   "source": [
    "# Total precipitation\n",
    "year = 1977\n",
    "y_str = str(year)\n",
    "area = 'london'\n",
    "ffolder = './grib/'\n",
    "fname = ffolder + area +'_era5land_hourly_tp_' + y_str\n",
    "\n",
    "data_params = {\n",
    "    'variable' : 'total_precipitation',\n",
    "    'year' : [y_str],\n",
    "    'month': ['01', '02', '03', '04', '05', '06', '07', '08', '09', '10', '11', '12'],\n",
    "    'day': [f'{i:02d}' for i in range(1, 32)],\n",
    "    'time': [f'{i:02d}:00' for i in range(24)],\n",
    "    'area': [41.9, 15.3, 40.2, 18.5],  # Puglia area: North, West, South, East\n",
    "    'format': 'grib',\n",
    "}\n",
    "\n",
    "out_file = fname\n",
    "\n",
    "download_and_process_era5_precip(request_params=data_params, output_file=out_file)"
   ]
  },
  {
   "cell_type": "code",
   "execution_count": null,
   "id": "28fde390",
   "metadata": {},
   "outputs": [],
   "source": []
  },
  {
   "cell_type": "code",
   "execution_count": null,
   "id": "334500a2",
   "metadata": {},
   "outputs": [],
   "source": []
  },
  {
   "cell_type": "code",
   "execution_count": null,
   "id": "ff219e57",
   "metadata": {},
   "outputs": [],
   "source": []
  },
  {
   "cell_type": "code",
   "execution_count": null,
   "id": "de7107d6",
   "metadata": {},
   "outputs": [],
   "source": []
  },
  {
   "cell_type": "code",
   "execution_count": null,
   "id": "fdc1df40",
   "metadata": {},
   "outputs": [],
   "source": [
    "year = 2001\n",
    "y_str = str(year)\n",
    "area = 'puglia'\n",
    "ffolder = './grib/'\n",
    "fname = ffolder + area +'_era5land_hourly_tp_' + y_str\n",
    "\n",
    "data_params = {\n",
    "    'variable' : 'total_precipitation',\n",
    "    'year' : [y_str],\n",
    "    'month': ['01', '02', '03', '04', '05', '06', '07', '08', '09', '10', '11', '12'],\n",
    "    'day': [f'{i:02d}' for i in range(1, 32)],\n",
    "    'time': [f'{i:02d}:00' for i in range(24)],\n",
    "    'area': [41.9, 15.3, 40.2, 18.5],  # Puglia area: North, West, South, East\n",
    "    'format': 'grib',\n",
    "}\n",
    "\n",
    "out_file = fname\n",
    "\n",
    "download_and_process_era5_precip(request_params=data_params, output_file=out_file)"
   ]
  },
  {
   "cell_type": "code",
   "execution_count": null,
   "id": "86259af0",
   "metadata": {},
   "outputs": [],
   "source": [
    "# temperature\n",
    "\n",
    "year = 2020\n",
    "y_str = str(year)\n",
    "area = 'london'\n",
    "ffolder = './grib/'\n",
    "fname = ffolder + area +'_era5land_hourly_t2m_' + y_str\n",
    "\n",
    "data_params = {\n",
    "    'variable' : '2m_temperature',\n",
    "    'year' : [y_str],\n",
    "    'month': ['01', '02', '03', '04', '05', '06', '07', '08', '09', '10', '11', '12'],\n",
    "    'day': [f'{i:02d}' for i in range(1, 32)],\n",
    "    'time': [f'{i:02d}:00' for i in range(24)],\n",
    "    'area': [51.6, -0.2, 51.4, 0.1],  # London area: North, West, South, East\n",
    "    'format': 'grib',\n",
    "}\n",
    "\n",
    "out_file = fname\n",
    "\n",
    "download_and_process_era5_precip(request_params=data_params, output_file=out_file)"
   ]
  },
  {
   "cell_type": "code",
   "execution_count": null,
   "id": "50a29d6e",
   "metadata": {},
   "outputs": [],
   "source": []
  }
 ],
 "metadata": {
  "kernelspec": {
   "display_name": "base",
   "language": "python",
   "name": "python3"
  },
  "language_info": {
   "codemirror_mode": {
    "name": "ipython",
    "version": 3
   },
   "file_extension": ".py",
   "mimetype": "text/x-python",
   "name": "python",
   "nbconvert_exporter": "python",
   "pygments_lexer": "ipython3",
   "version": "3.12.3"
  }
 },
 "nbformat": 4,
 "nbformat_minor": 5
}
