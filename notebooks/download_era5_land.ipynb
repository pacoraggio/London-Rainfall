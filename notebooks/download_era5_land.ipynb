{
 "cells": [
  {
   "cell_type": "code",
   "execution_count": 2,
   "id": "853d2e27",
   "metadata": {},
   "outputs": [],
   "source": [
    "from src.manage_grib_files import download_and_process_era5_precip"
   ]
  },
  {
   "cell_type": "markdown",
   "id": "ee23bab4",
   "metadata": {},
   "source": [
    "# Download ERA5 land"
   ]
  },
  {
   "cell_type": "markdown",
   "id": "26483aa4",
   "metadata": {},
   "source": [
    "- download data\n",
    "- process data"
   ]
  },
  {
   "cell_type": "code",
   "execution_count": null,
   "id": "b64889f7",
   "metadata": {},
   "outputs": [
    {
     "name": "stderr",
     "output_type": "stream",
     "text": [
      "2025-07-04 05:58:57,531 INFO [2024-09-26T00:00:00] Watch our [Forum](https://forum.ecmwf.int/) for Announcements, news and other discussed topics.\n"
     ]
    },
    {
     "name": "stdout",
     "output_type": "stream",
     "text": [
      "Downloading ERA5-Land hourly precipitation data...\n"
     ]
    },
    {
     "name": "stderr",
     "output_type": "stream",
     "text": [
      "2025-07-04 05:58:57,869 INFO Request ID is 380ff42b-fc29-4703-80ff-48831a3464d2\n",
      "2025-07-04 05:58:57,952 INFO status has been updated to accepted\n",
      "2025-07-04 05:59:06,402 INFO status has been updated to running\n"
     ]
    }
   ],
   "source": [
    "# London \n",
    "\n",
    "data_params = {\n",
    "    'variable' : 'total_precipitation',\n",
    "    'year' : ['2014'],\n",
    "    'month': ['01', '02', '03', '04', '05', '06', '07', '08', '09', '10', '11', '12'],\n",
    "    'day': [f'{i:02d}' for i in range(1, 32)],\n",
    "    'time': [f'{i:02d}:00' for i in range(24)],\n",
    "    'area': [51.6, -0.2, 51.4, 0.1],  # London area: North, West, South, East\n",
    "    'format': 'grib',\n",
    "}\n",
    "\n",
    "out_file = \"london_era5land_hourly_tp_2014\"\n",
    "\n",
    "download_and_process_era5_precip(request_params=data_params, output_file=out_file)"
   ]
  },
  {
   "cell_type": "code",
   "execution_count": null,
   "id": "a515c209",
   "metadata": {},
   "outputs": [],
   "source": []
  },
  {
   "cell_type": "code",
   "execution_count": 3,
   "id": "6af3bdbe",
   "metadata": {},
   "outputs": [
    {
     "name": "stderr",
     "output_type": "stream",
     "text": [
      "2025-07-04 05:15:02,539 INFO [2024-09-26T00:00:00] Watch our [Forum](https://forum.ecmwf.int/) for Announcements, news and other discussed topics.\n"
     ]
    },
    {
     "name": "stdout",
     "output_type": "stream",
     "text": [
      "Downloading ERA5-Land hourly precipitation data...\n"
     ]
    },
    {
     "name": "stderr",
     "output_type": "stream",
     "text": [
      "2025-07-04 05:15:02,925 INFO Request ID is 33d099ec-475e-48cb-ac55-921700af5001\n",
      "2025-07-04 05:15:03,006 INFO status has been updated to accepted\n",
      "2025-07-04 05:15:16,624 INFO status has been updated to running\n",
      "2025-07-04 05:45:26,647 INFO status has been updated to successful\n"
     ]
    },
    {
     "data": {
      "application/vnd.jupyter.widget-view+json": {
       "model_id": "38acfe8d03ac4602aa07f27e29314565",
       "version_major": 2,
       "version_minor": 0
      },
      "text/plain": [
       "2a72235788543cbc7d875fc8cfe0865b.zip:   0%|          | 0.00/203k [00:00<?, ?B/s]"
      ]
     },
     "metadata": {},
     "output_type": "display_data"
    },
    {
     "name": "stdout",
     "output_type": "stream",
     "text": [
      "Data downloaded to london_era5land_hourly_tp_2015.grib\n",
      "File size: 0.20 MB\n"
     ]
    }
   ],
   "source": [
    "# London \n",
    "\n",
    "data_params = {\n",
    "    'variable' : 'total_precipitation',\n",
    "    'year' : ['2015'],\n",
    "    'month': ['01', '02', '03', '04', '05', '06', '07', '08', '09', '10', '11', '12'],\n",
    "    'day': [f'{i:02d}' for i in range(1, 32)],\n",
    "    'time': [f'{i:02d}:00' for i in range(24)],\n",
    "    'area': [51.6, -0.2, 51.4, 0.1],  # London area: North, West, South, East\n",
    "    'format': 'grib',\n",
    "}\n",
    "\n",
    "out_file = \"london_era5land_hourly_tp_2015\"\n",
    "\n",
    "download_and_process_era5_precip(request_params=data_params, output_file=out_file)"
   ]
  },
  {
   "cell_type": "code",
   "execution_count": 16,
   "id": "cb99fe14",
   "metadata": {},
   "outputs": [
    {
     "name": "stderr",
     "output_type": "stream",
     "text": [
      "2025-07-03 19:53:53,075 INFO [2024-09-26T00:00:00] Watch our [Forum](https://forum.ecmwf.int/) for Announcements, news and other discussed topics.\n"
     ]
    },
    {
     "name": "stdout",
     "output_type": "stream",
     "text": [
      "Downloading ERA5-Land hourly precipitation data...\n"
     ]
    },
    {
     "name": "stderr",
     "output_type": "stream",
     "text": [
      "2025-07-03 19:53:54,053 INFO Request ID is 847a7ee6-ae6b-4d49-8874-15abe7545a0a\n",
      "2025-07-03 19:53:54,134 INFO status has been updated to accepted\n",
      "2025-07-03 19:54:03,038 INFO status has been updated to running\n",
      "2025-07-03 19:54:08,166 INFO status has been updated to successful\n"
     ]
    },
    {
     "data": {
      "application/vnd.jupyter.widget-view+json": {
       "model_id": "c6c88890611a40b29dc9afb51a0f8ea0",
       "version_major": 2,
       "version_minor": 0
      },
      "text/plain": [
       "d18df2b1afd3337203134a6229414cf4.zip:   0%|          | 0.00/2.93M [00:00<?, ?B/s]"
      ]
     },
     "metadata": {},
     "output_type": "display_data"
    },
    {
     "name": "stdout",
     "output_type": "stream",
     "text": [
      "Data downloaded to puglia_era5land_hourly_tp_2019.grib\n",
      "File size: 2.93 MB\n"
     ]
    }
   ],
   "source": [
    "# Puglia \n",
    "\n",
    "data_params = {\n",
    "    'variable' : 'total_precipitation',\n",
    "    'year' : ['2019'],\n",
    "    'month': ['01', '02', '03', '04', '05', '06', '07', '08', '09', '10', '11', '12'],\n",
    "    'day': [f'{i:02d}' for i in range(1, 32)],\n",
    "    'time': [f'{i:02d}:00' for i in range(24)],\n",
    "    'area': [41.9, 15.3, 40.2, 18.5],  # Puglia area: North, West, South, East\n",
    "    'format': 'grib',\n",
    "}\n",
    "\n",
    "out_file = \"puglia_era5land_hourly_tp_2019\"\n",
    "\n",
    "download_and_process_era5_precip(request_params=data_params, output_file=out_file)"
   ]
  },
  {
   "cell_type": "code",
   "execution_count": null,
   "id": "0158a034",
   "metadata": {},
   "outputs": [],
   "source": []
  },
  {
   "cell_type": "code",
   "execution_count": 15,
   "id": "4a7b0c40",
   "metadata": {},
   "outputs": [
    {
     "name": "stderr",
     "output_type": "stream",
     "text": [
      "2025-07-03 18:36:01,978 INFO [2024-09-26T00:00:00] Watch our [Forum](https://forum.ecmwf.int/) for Announcements, news and other discussed topics.\n",
      "2025-07-03 18:36:02,161 INFO Request ID is 72381b8f-6383-4cc4-bb9d-07dc52bb15f5\n"
     ]
    },
    {
     "name": "stdout",
     "output_type": "stream",
     "text": [
      "Downloading ERA5-Land hourly precipitation data...\n"
     ]
    },
    {
     "name": "stderr",
     "output_type": "stream",
     "text": [
      "2025-07-03 18:36:02,252 INFO status has been updated to accepted\n",
      "2025-07-03 18:36:10,781 INFO status has been updated to running\n",
      "2025-07-03 19:08:26,006 INFO status has been updated to successful\n"
     ]
    },
    {
     "data": {
      "application/vnd.jupyter.widget-view+json": {
       "model_id": "413d5dbd3c2a42f0bd39e90f36d13bb9",
       "version_major": 2,
       "version_minor": 0
      },
      "text/plain": [
       "8cc77f1460794f8e92a61904e1366ec7.zip:   0%|          | 0.00/3.57M [00:00<?, ?B/s]"
      ]
     },
     "metadata": {},
     "output_type": "display_data"
    },
    {
     "name": "stdout",
     "output_type": "stream",
     "text": [
      "Data downloaded to puglia_era5land_hourly_tp_2018.grib\n",
      "File size: 3.57 MB\n"
     ]
    }
   ],
   "source": [
    "# Puglia \n",
    "\n",
    "data_params = {\n",
    "    'variable' : 'total_precipitation',\n",
    "    'year' : ['2018'],\n",
    "    'month': ['01', '02', '03', '04', '05', '06', '07', '08', '09', '10', '11', '12'],\n",
    "    'day': [f'{i:02d}' for i in range(1, 32)],\n",
    "    'time': [f'{i:02d}:00' for i in range(24)],\n",
    "    'area': [41.9, 15.3, 40.2, 18.5],  # Puglia area: North, West, South, East\n",
    "    'format': 'grib',\n",
    "}\n",
    "\n",
    "out_file = \"puglia_era5land_hourly_tp_2018\"\n",
    "\n",
    "download_and_process_era5_precip(request_params=data_params, output_file=out_file)"
   ]
  },
  {
   "cell_type": "code",
   "execution_count": null,
   "id": "5efed763",
   "metadata": {},
   "outputs": [],
   "source": []
  },
  {
   "cell_type": "code",
   "execution_count": 14,
   "id": "8ef6a796",
   "metadata": {},
   "outputs": [
    {
     "name": "stderr",
     "output_type": "stream",
     "text": [
      "2025-07-03 16:03:51,202 INFO [2024-09-26T00:00:00] Watch our [Forum](https://forum.ecmwf.int/) for Announcements, news and other discussed topics.\n"
     ]
    },
    {
     "name": "stdout",
     "output_type": "stream",
     "text": [
      "Downloading ERA5-Land hourly precipitation data...\n"
     ]
    },
    {
     "name": "stderr",
     "output_type": "stream",
     "text": [
      "2025-07-03 16:03:51,440 INFO Request ID is 6256c43e-9275-4d59-8a1e-1ab1d3b2c74b\n",
      "2025-07-03 16:03:51,516 INFO status has been updated to accepted\n",
      "2025-07-03 16:04:05,239 INFO status has been updated to running\n",
      "2025-07-03 16:36:18,485 INFO status has been updated to successful\n"
     ]
    },
    {
     "data": {
      "application/vnd.jupyter.widget-view+json": {
       "model_id": "12c862f7b7c644289ac1a8ea1d29f690",
       "version_major": 2,
       "version_minor": 0
      },
      "text/plain": [
       "d18df2b1afd3337203134a6229414cf4.zip:   0%|          | 0.00/2.93M [00:00<?, ?B/s]"
      ]
     },
     "metadata": {},
     "output_type": "display_data"
    },
    {
     "name": "stdout",
     "output_type": "stream",
     "text": [
      "Data downloaded to puglia_era5land_hourly_tp_2019.grib\n",
      "File size: 2.93 MB\n"
     ]
    }
   ],
   "source": [
    "# Puglia \n",
    "\n",
    "data_params = {\n",
    "    'variable' : 'total_precipitation',\n",
    "    'year' : ['2019'],\n",
    "    'month': ['01', '02', '03', '04', '05', '06', '07', '08', '09', '10', '11', '12'],\n",
    "    'day': [f'{i:02d}' for i in range(1, 32)],\n",
    "    'time': [f'{i:02d}:00' for i in range(24)],\n",
    "    'area': [41.9, 15.3, 40.2, 18.5],  # Puglia area: North, West, South, East\n",
    "    'format': 'grib',\n",
    "}\n",
    "\n",
    "out_file = \"puglia_era5land_hourly_tp_2019\"\n",
    "\n",
    "download_and_process_era5_precip(request_params=data_params, output_file=out_file)"
   ]
  },
  {
   "cell_type": "code",
   "execution_count": null,
   "id": "4b59291e",
   "metadata": {},
   "outputs": [],
   "source": []
  },
  {
   "cell_type": "code",
   "execution_count": 13,
   "id": "3b88ceda",
   "metadata": {},
   "outputs": [
    {
     "name": "stderr",
     "output_type": "stream",
     "text": [
      "2025-07-03 15:32:10,579 INFO [2024-09-26T00:00:00] Watch our [Forum](https://forum.ecmwf.int/) for Announcements, news and other discussed topics.\n"
     ]
    },
    {
     "name": "stdout",
     "output_type": "stream",
     "text": [
      "Downloading ERA5-Land hourly precipitation data...\n"
     ]
    },
    {
     "name": "stderr",
     "output_type": "stream",
     "text": [
      "2025-07-03 15:32:10,905 INFO Request ID is a8b1542f-d185-41b2-a526-2c93295e4348\n",
      "2025-07-03 15:32:11,037 INFO status has been updated to accepted\n",
      "2025-07-03 15:32:16,686 INFO status has been updated to running\n",
      "2025-07-03 16:02:37,489 INFO status has been updated to successful\n"
     ]
    },
    {
     "data": {
      "application/vnd.jupyter.widget-view+json": {
       "model_id": "3fbee8d060b8477bb4e9cde379e8b17a",
       "version_major": 2,
       "version_minor": 0
      },
      "text/plain": [
       "fe54216d6ebd1af6de515820aa9752b2.zip:   0%|          | 0.00/206k [00:00<?, ?B/s]"
      ]
     },
     "metadata": {},
     "output_type": "display_data"
    },
    {
     "name": "stdout",
     "output_type": "stream",
     "text": [
      "Data downloaded to london_era5land_hourly_tp_2016.grib\n",
      "File size: 0.20 MB\n"
     ]
    }
   ],
   "source": [
    "# London \n",
    "\n",
    "data_params = {\n",
    "    'variable' : 'total_precipitation',\n",
    "    'year' : ['2016'],\n",
    "    'month': ['01', '02', '03', '04', '05', '06', '07', '08', '09', '10', '11', '12'],\n",
    "    'day': [f'{i:02d}' for i in range(1, 32)],\n",
    "    'time': [f'{i:02d}:00' for i in range(24)],\n",
    "    'area': [51.6, -0.2, 51.4, 0.1],  # London area: North, West, South, East\n",
    "    'format': 'grib',\n",
    "}\n",
    "\n",
    "out_file = \"london_era5land_hourly_tp_2016\"\n",
    "\n",
    "download_and_process_era5_precip(request_params=data_params, output_file=out_file)"
   ]
  },
  {
   "cell_type": "code",
   "execution_count": null,
   "id": "44b3bf01",
   "metadata": {},
   "outputs": [],
   "source": []
  },
  {
   "cell_type": "code",
   "execution_count": 12,
   "id": "13da8584",
   "metadata": {},
   "outputs": [
    {
     "name": "stderr",
     "output_type": "stream",
     "text": [
      "2025-07-03 12:59:59,282 INFO [2024-09-26T00:00:00] Watch our [Forum](https://forum.ecmwf.int/) for Announcements, news and other discussed topics.\n"
     ]
    },
    {
     "name": "stdout",
     "output_type": "stream",
     "text": [
      "Downloading ERA5-Land hourly precipitation data...\n"
     ]
    },
    {
     "name": "stderr",
     "output_type": "stream",
     "text": [
      "2025-07-03 12:59:59,523 INFO Request ID is 5fe2b7fc-8026-441a-b07c-47a181076412\n",
      "2025-07-03 12:59:59,734 INFO status has been updated to accepted\n",
      "2025-07-03 13:00:21,036 INFO status has been updated to running\n",
      "2025-07-03 14:08:26,626 INFO status has been updated to successful\n"
     ]
    },
    {
     "data": {
      "application/vnd.jupyter.widget-view+json": {
       "model_id": "148c3a7b53ca487696d6cae536f4f5a9",
       "version_major": 2,
       "version_minor": 0
      },
      "text/plain": [
       "23265279ec9f827aa25019404c12f968.zip:   0%|          | 0.00/207k [00:00<?, ?B/s]"
      ]
     },
     "metadata": {},
     "output_type": "display_data"
    },
    {
     "name": "stdout",
     "output_type": "stream",
     "text": [
      "Data downloaded to london_era5land_hourly_tp_2017.grib\n",
      "File size: 0.20 MB\n"
     ]
    }
   ],
   "source": [
    "# London \n",
    "\n",
    "data_params = {\n",
    "    'variable' : 'total_precipitation',\n",
    "    'year' : ['2017'],\n",
    "    'month': ['01', '02', '03', '04', '05', '06', '07', '08', '09', '10', '11', '12'],\n",
    "    'day': [f'{i:02d}' for i in range(1, 32)],\n",
    "    'time': [f'{i:02d}:00' for i in range(24)],\n",
    "    'area': [51.6, -0.2, 51.4, 0.1],  # London area: North, West, South, East\n",
    "    'format': 'grib',\n",
    "}\n",
    "\n",
    "out_file = \"london_era5land_hourly_tp_2017\"\n",
    "\n",
    "download_and_process_era5_precip(request_params=data_params, output_file=out_file)"
   ]
  },
  {
   "cell_type": "code",
   "execution_count": null,
   "id": "01f2b5a1",
   "metadata": {},
   "outputs": [],
   "source": []
  },
  {
   "cell_type": "code",
   "execution_count": 11,
   "id": "4ebfa574",
   "metadata": {},
   "outputs": [
    {
     "name": "stderr",
     "output_type": "stream",
     "text": [
      "2025-07-03 12:27:26,154 INFO [2024-09-26T00:00:00] Watch our [Forum](https://forum.ecmwf.int/) for Announcements, news and other discussed topics.\n",
      "2025-07-03 12:27:26,334 INFO Request ID is 3980cdfa-0905-4fcd-9e61-8ebabed7b359\n"
     ]
    },
    {
     "name": "stdout",
     "output_type": "stream",
     "text": [
      "Downloading ERA5-Land hourly precipitation data...\n"
     ]
    },
    {
     "name": "stderr",
     "output_type": "stream",
     "text": [
      "2025-07-03 12:27:26,411 INFO status has been updated to accepted\n",
      "2025-07-03 12:28:16,358 INFO status has been updated to running\n",
      "2025-07-03 12:57:50,310 INFO status has been updated to successful\n"
     ]
    },
    {
     "data": {
      "application/vnd.jupyter.widget-view+json": {
       "model_id": "089aefb838214ff0b833c00c40e4a64b",
       "version_major": 2,
       "version_minor": 0
      },
      "text/plain": [
       "678c7320f722a0d0cb8a851a76256177.zip:   0%|          | 0.00/204k [00:00<?, ?B/s]"
      ]
     },
     "metadata": {},
     "output_type": "display_data"
    },
    {
     "name": "stdout",
     "output_type": "stream",
     "text": [
      "Data downloaded to london_era5land_hourly_tp_2018.grib\n",
      "File size: 0.20 MB\n"
     ]
    }
   ],
   "source": [
    "# London \n",
    "\n",
    "data_params = {\n",
    "    'variable' : 'total_precipitation',\n",
    "    'year' : ['2018'],\n",
    "    'month': ['01', '02', '03', '04', '05', '06', '07', '08', '09', '10', '11', '12'],\n",
    "    'day': [f'{i:02d}' for i in range(1, 32)],\n",
    "    'time': [f'{i:02d}:00' for i in range(24)],\n",
    "    'area': [51.6, -0.2, 51.4, 0.1],  # London area: North, West, South, East\n",
    "    'format': 'grib',\n",
    "}\n",
    "\n",
    "out_file = \"london_era5land_hourly_tp_2018\"\n",
    "\n",
    "download_and_process_era5_precip(request_params=data_params, output_file=out_file)"
   ]
  },
  {
   "cell_type": "code",
   "execution_count": null,
   "id": "09ab04f7",
   "metadata": {},
   "outputs": [],
   "source": []
  },
  {
   "cell_type": "code",
   "execution_count": 10,
   "id": "2b386b50",
   "metadata": {},
   "outputs": [
    {
     "name": "stderr",
     "output_type": "stream",
     "text": [
      "2025-07-03 11:35:29,152 INFO [2024-09-26T00:00:00] Watch our [Forum](https://forum.ecmwf.int/) for Announcements, news and other discussed topics.\n"
     ]
    },
    {
     "name": "stdout",
     "output_type": "stream",
     "text": [
      "Downloading ERA5-Land hourly precipitation data...\n"
     ]
    },
    {
     "name": "stderr",
     "output_type": "stream",
     "text": [
      "2025-07-03 11:35:29,391 INFO Request ID is 7cdad573-dbda-4085-a194-1b4d3d69211b\n",
      "2025-07-03 11:35:29,460 INFO status has been updated to accepted\n",
      "2025-07-03 11:35:43,127 INFO status has been updated to running\n",
      "2025-07-03 12:07:54,781 INFO status has been updated to successful\n"
     ]
    },
    {
     "data": {
      "application/vnd.jupyter.widget-view+json": {
       "model_id": "f3ceb0d054d0459d974dbfcdd57d4a04",
       "version_major": 2,
       "version_minor": 0
      },
      "text/plain": [
       "6f52a0084cb2ffa7f60572ea60247782.zip:   0%|          | 0.00/2.49M [00:00<?, ?B/s]"
      ]
     },
     "metadata": {},
     "output_type": "display_data"
    },
    {
     "name": "stdout",
     "output_type": "stream",
     "text": [
      "Data downloaded to puglia_era5land_hourly_tp_2020.grib\n",
      "File size: 2.49 MB\n"
     ]
    }
   ],
   "source": [
    "# Puglia \n",
    "\n",
    "data_params = {\n",
    "    'variable' : 'total_precipitation',\n",
    "    'year' : ['2020'],\n",
    "    'month': ['01', '02', '03', '04', '05', '06', '07', '08', '09', '10', '11', '12'],\n",
    "    'day': [f'{i:02d}' for i in range(1, 32)],\n",
    "    'time': [f'{i:02d}:00' for i in range(24)],\n",
    "    'area': [41.9, 15.3, 40.2, 18.5],  # Puglia area: North, West, South, East\n",
    "    'format': 'grib',\n",
    "}\n",
    "\n",
    "out_file = \"puglia_era5land_hourly_tp_2020\"\n",
    "\n",
    "download_and_process_era5_precip(request_params=data_params, output_file=out_file)"
   ]
  },
  {
   "cell_type": "code",
   "execution_count": null,
   "id": "02623f79",
   "metadata": {},
   "outputs": [],
   "source": []
  },
  {
   "cell_type": "code",
   "execution_count": 9,
   "id": "57dcf820",
   "metadata": {},
   "outputs": [
    {
     "name": "stderr",
     "output_type": "stream",
     "text": [
      "2025-07-03 11:06:38,742 INFO [2024-09-26T00:00:00] Watch our [Forum](https://forum.ecmwf.int/) for Announcements, news and other discussed topics.\n"
     ]
    },
    {
     "name": "stdout",
     "output_type": "stream",
     "text": [
      "Downloading ERA5-Land hourly precipitation data...\n"
     ]
    },
    {
     "name": "stderr",
     "output_type": "stream",
     "text": [
      "2025-07-03 11:06:39,109 INFO Request ID is 6ac45dca-4625-4f3a-9b5c-c32653c2d6a6\n",
      "2025-07-03 11:06:39,309 INFO status has been updated to accepted\n",
      "2025-07-03 11:07:00,540 INFO status has been updated to running\n",
      "2025-07-03 11:35:01,795 INFO status has been updated to successful\n"
     ]
    },
    {
     "data": {
      "application/vnd.jupyter.widget-view+json": {
       "model_id": "90190156b2f346af84155f72b97b8f90",
       "version_major": 2,
       "version_minor": 0
      },
      "text/plain": [
       "768157425c62cb7979c76b55166b36fe.zip:   0%|          | 0.00/2.86M [00:00<?, ?B/s]"
      ]
     },
     "metadata": {},
     "output_type": "display_data"
    },
    {
     "name": "stdout",
     "output_type": "stream",
     "text": [
      "Data downloaded to puglia_era5land_hourly_tp_2021.grib\n",
      "File size: 2.86 MB\n"
     ]
    }
   ],
   "source": [
    "# Puglia \n",
    "\n",
    "data_params = {\n",
    "    'variable' : 'total_precipitation',\n",
    "    'year' : ['2021'],\n",
    "    'month': ['01', '02', '03', '04', '05', '06', '07', '08', '09', '10', '11', '12'],\n",
    "    'day': [f'{i:02d}' for i in range(1, 32)],\n",
    "    'time': [f'{i:02d}:00' for i in range(24)],\n",
    "    'area': [41.9, 15.3, 40.2, 18.5],  # Puglia area: North, West, South, East\n",
    "    'format': 'grib',\n",
    "}\n",
    "\n",
    "out_file = \"puglia_era5land_hourly_tp_2021\"\n",
    "\n",
    "download_and_process_era5_precip(request_params=data_params, output_file=out_file)"
   ]
  },
  {
   "cell_type": "code",
   "execution_count": null,
   "id": "7a5f595c",
   "metadata": {},
   "outputs": [],
   "source": []
  },
  {
   "cell_type": "code",
   "execution_count": 8,
   "id": "72ba9f5a",
   "metadata": {},
   "outputs": [
    {
     "name": "stderr",
     "output_type": "stream",
     "text": [
      "2025-07-03 10:30:52,512 INFO [2024-09-26T00:00:00] Watch our [Forum](https://forum.ecmwf.int/) for Announcements, news and other discussed topics.\n"
     ]
    },
    {
     "name": "stdout",
     "output_type": "stream",
     "text": [
      "Downloading ERA5-Land hourly precipitation data...\n"
     ]
    },
    {
     "name": "stderr",
     "output_type": "stream",
     "text": [
      "2025-07-03 10:30:52,727 INFO Request ID is b380d10a-2b68-40d5-aaeb-77521c981631\n",
      "2025-07-03 10:30:52,828 INFO status has been updated to accepted\n",
      "2025-07-03 10:31:01,403 INFO status has been updated to running\n",
      "2025-07-03 11:01:19,857 INFO status has been updated to successful\n"
     ]
    },
    {
     "data": {
      "application/vnd.jupyter.widget-view+json": {
       "model_id": "996175547c4d4ec3a479a0e88b5df299",
       "version_major": 2,
       "version_minor": 0
      },
      "text/plain": [
       "ff1a8afc36b9666d9ee8a3aafeacef2.zip:   0%|          | 0.00/2.50M [00:00<?, ?B/s]"
      ]
     },
     "metadata": {},
     "output_type": "display_data"
    },
    {
     "name": "stdout",
     "output_type": "stream",
     "text": [
      "Data downloaded to puglia_era5land_hourly_tp_2022.grib\n",
      "File size: 2.50 MB\n"
     ]
    }
   ],
   "source": [
    "# Puglia \n",
    "\n",
    "data_params = {\n",
    "    'variable' : 'total_precipitation',\n",
    "    'year' : ['2022'],\n",
    "    'month': ['01', '02', '03', '04', '05', '06', '07', '08', '09', '10', '11', '12'],\n",
    "    'day': [f'{i:02d}' for i in range(1, 32)],\n",
    "    'time': [f'{i:02d}:00' for i in range(24)],\n",
    "    'area': [41.9, 15.3, 40.2, 18.5],  # Puglia area: North, West, South, East\n",
    "    'format': 'grib',\n",
    "}\n",
    "\n",
    "out_file = \"puglia_era5land_hourly_tp_2022\"\n",
    "\n",
    "download_and_process_era5_precip(request_params=data_params, output_file=out_file)"
   ]
  },
  {
   "cell_type": "code",
   "execution_count": 7,
   "id": "59539a95",
   "metadata": {},
   "outputs": [
    {
     "name": "stderr",
     "output_type": "stream",
     "text": [
      "2025-07-03 07:08:49,211 INFO [2024-09-26T00:00:00] Watch our [Forum](https://forum.ecmwf.int/) for Announcements, news and other discussed topics.\n"
     ]
    },
    {
     "name": "stdout",
     "output_type": "stream",
     "text": [
      "Downloading ERA5-Land hourly precipitation data...\n"
     ]
    },
    {
     "name": "stderr",
     "output_type": "stream",
     "text": [
      "2025-07-03 07:08:49,828 INFO Request ID is f4800bca-052b-41ea-87cc-f43fdf17e532\n",
      "2025-07-03 07:08:49,897 INFO status has been updated to accepted\n",
      "2025-07-03 07:09:03,876 INFO status has been updated to running\n",
      "2025-07-03 10:05:38,680 INFO status has been updated to successful\n"
     ]
    },
    {
     "data": {
      "application/vnd.jupyter.widget-view+json": {
       "model_id": "bf0b81b99e1e44f78a4f5cf00c309a71",
       "version_major": 2,
       "version_minor": 0
      },
      "text/plain": [
       "2dc215c10be2d0c592aaecec7a369f2b.zip:   0%|          | 0.00/204k [00:00<?, ?B/s]"
      ]
     },
     "metadata": {},
     "output_type": "display_data"
    },
    {
     "name": "stdout",
     "output_type": "stream",
     "text": [
      "Data downloaded to london_era5land_hourly_tp_2019.grib\n",
      "File size: 0.20 MB\n"
     ]
    }
   ],
   "source": [
    "# London \n",
    "\n",
    "data_params = {\n",
    "    'variable' : 'total_precipitation',\n",
    "    'year' : ['2019'],\n",
    "    'month': ['01', '02', '03', '04', '05', '06', '07', '08', '09', '10', '11', '12'],\n",
    "    'day': [f'{i:02d}' for i in range(1, 32)],\n",
    "    'time': [f'{i:02d}:00' for i in range(24)],\n",
    "    'area': [51.6, -0.2, 51.4, 0.1],  # London area: North, West, South, East\n",
    "    'format': 'grib',\n",
    "}\n",
    "\n",
    "out_file = \"london_era5land_hourly_tp_2019\"\n",
    "\n",
    "download_and_process_era5_precip(request_params=data_params, output_file=out_file)"
   ]
  },
  {
   "cell_type": "code",
   "execution_count": null,
   "id": "e8c5aaf6",
   "metadata": {},
   "outputs": [],
   "source": []
  },
  {
   "cell_type": "code",
   "execution_count": 5,
   "id": "3724a482",
   "metadata": {},
   "outputs": [
    {
     "name": "stderr",
     "output_type": "stream",
     "text": [
      "2025-07-03 06:34:26,101 INFO [2024-09-26T00:00:00] Watch our [Forum](https://forum.ecmwf.int/) for Announcements, news and other discussed topics.\n"
     ]
    },
    {
     "name": "stdout",
     "output_type": "stream",
     "text": [
      "Downloading ERA5-Land hourly precipitation data...\n"
     ]
    },
    {
     "name": "stderr",
     "output_type": "stream",
     "text": [
      "2025-07-03 06:34:26,398 INFO Request ID is 5c9462bb-1a43-4de3-a048-bab3f98a23b4\n",
      "2025-07-03 06:34:26,465 INFO status has been updated to accepted\n",
      "2025-07-03 06:34:35,019 INFO status has been updated to running\n",
      "2025-07-03 06:34:47,871 INFO status has been updated to accepted\n",
      "2025-07-03 06:34:59,322 INFO status has been updated to running\n",
      "2025-07-03 07:06:49,191 INFO status has been updated to successful\n"
     ]
    },
    {
     "data": {
      "application/vnd.jupyter.widget-view+json": {
       "model_id": "2d684d6232754d7cb235655eb3df8417",
       "version_major": 2,
       "version_minor": 0
      },
      "text/plain": [
       "ce14670a489b394e1d31241a51ae5e13.zip:   0%|          | 0.00/2.79M [00:00<?, ?B/s]"
      ]
     },
     "metadata": {},
     "output_type": "display_data"
    },
    {
     "name": "stdout",
     "output_type": "stream",
     "text": [
      "Data downloaded to puglia_era5land_hourly_tp_2023.grib\n",
      "File size: 2.79 MB\n"
     ]
    }
   ],
   "source": [
    "# Puglia \n",
    "\n",
    "data_params = {\n",
    "    'variable' : 'total_precipitation',\n",
    "    'year' : ['2023'],\n",
    "    'month': ['01', '02', '03', '04', '05', '06', '07', '08', '09', '10', '11', '12'],\n",
    "    'day': [f'{i:02d}' for i in range(1, 32)],\n",
    "    'time': [f'{i:02d}:00' for i in range(24)],\n",
    "    'area': [41.9, 15.3, 40.2, 18.5],  # Puglia area: North, West, South, East\n",
    "    'format': 'grib',\n",
    "}\n",
    "\n",
    "out_file = \"puglia_era5land_hourly_tp_2023\"\n",
    "\n",
    "download_and_process_era5_precip(request_params=data_params, output_file=out_file)"
   ]
  },
  {
   "cell_type": "code",
   "execution_count": null,
   "id": "5c48dd1e",
   "metadata": {},
   "outputs": [],
   "source": []
  },
  {
   "cell_type": "code",
   "execution_count": 3,
   "id": "aaccc81a",
   "metadata": {},
   "outputs": [
    {
     "name": "stderr",
     "output_type": "stream",
     "text": [
      "2025-07-03 05:32:56,976 INFO [2024-09-26T00:00:00] Watch our [Forum](https://forum.ecmwf.int/) for Announcements, news and other discussed topics.\n"
     ]
    },
    {
     "name": "stdout",
     "output_type": "stream",
     "text": [
      "Downloading ERA5-Land hourly precipitation data...\n"
     ]
    },
    {
     "name": "stderr",
     "output_type": "stream",
     "text": [
      "2025-07-03 05:32:57,198 INFO Request ID is 27298744-d94e-44aa-b54c-56f05083ec13\n",
      "2025-07-03 05:32:57,320 INFO status has been updated to accepted\n",
      "2025-07-03 05:33:05,833 INFO status has been updated to running\n",
      "2025-07-03 06:01:19,416 INFO status has been updated to successful\n"
     ]
    },
    {
     "data": {
      "application/vnd.jupyter.widget-view+json": {
       "model_id": "6adba963660842c8af5b2c9d4df5468a",
       "version_major": 2,
       "version_minor": 0
      },
      "text/plain": [
       "c2e1b382bf880f88d802f06415e16130.zip:   0%|          | 0.00/2.57M [00:00<?, ?B/s]"
      ]
     },
     "metadata": {},
     "output_type": "display_data"
    },
    {
     "name": "stdout",
     "output_type": "stream",
     "text": [
      "Data downloaded to puglia_era5land_hourly_tp_2024.grib\n",
      "File size: 2.57 MB\n"
     ]
    }
   ],
   "source": [
    "# Puglia \n",
    "\n",
    "data_params = {\n",
    "    'variable' : 'total_precipitation',\n",
    "    'year' : ['2024'],\n",
    "    'month': ['01', '02', '03', '04', '05', '06', '07', '08', '09', '10', '11', '12'],\n",
    "    'day': [f'{i:02d}' for i in range(1, 32)],\n",
    "    'time': [f'{i:02d}:00' for i in range(24)],\n",
    "    'area': [41.9, 15.3, 40.2, 18.5],  # London area: North, West, South, East\n",
    "    'format': 'grib',\n",
    "}\n",
    "\n",
    "out_file = \"puglia_era5land_hourly_tp_2024\"\n",
    "\n",
    "download_and_process_era5_precip(request_params=data_params, output_file=out_file)"
   ]
  },
  {
   "cell_type": "code",
   "execution_count": 2,
   "id": "1bd57ed0",
   "metadata": {},
   "outputs": [
    {
     "name": "stderr",
     "output_type": "stream",
     "text": [
      "2025-07-03 05:15:15,132 INFO [2024-09-26T00:00:00] Watch our [Forum](https://forum.ecmwf.int/) for Announcements, news and other discussed topics.\n"
     ]
    },
    {
     "name": "stdout",
     "output_type": "stream",
     "text": [
      "Downloading ERA5-Land hourly precipitation data...\n"
     ]
    },
    {
     "name": "stderr",
     "output_type": "stream",
     "text": [
      "2025-07-03 05:15:15,371 INFO Request ID is 3ed00d28-f6f4-46d4-9ae5-8871b0612f75\n",
      "2025-07-03 05:15:15,454 INFO status has been updated to accepted\n",
      "2025-07-03 05:15:29,309 INFO status has been updated to running\n",
      "2025-07-03 05:29:35,661 INFO status has been updated to successful\n"
     ]
    },
    {
     "data": {
      "application/vnd.jupyter.widget-view+json": {
       "model_id": "08066ac13c4f444d9cb0950c230dfeee",
       "version_major": 2,
       "version_minor": 0
      },
      "text/plain": [
       "89850307361ca570ff4c957fbf7fa6fe.zip:   0%|          | 0.00/1.37M [00:00<?, ?B/s]"
      ]
     },
     "metadata": {},
     "output_type": "display_data"
    },
    {
     "name": "stdout",
     "output_type": "stream",
     "text": [
      "Data downloaded to puglia_era5land_hourly_tp_2025.grib\n",
      "File size: 1.37 MB\n"
     ]
    }
   ],
   "source": [
    "# Puglia \n",
    "\n",
    "data_params = {\n",
    "    'variable' : 'total_precipitation',\n",
    "    'year' : ['2025'],\n",
    "    'month': ['01', '02', '03', '04', '05', '06', '07', '08', '09', '10', '11', '12'],\n",
    "    'day': [f'{i:02d}' for i in range(1, 32)],\n",
    "    'time': [f'{i:02d}:00' for i in range(24)],\n",
    "    'area': [41.9, 15.3, 40.2, 18.5],  # London area: North, West, South, East\n",
    "    'format': 'grib',\n",
    "}\n",
    "\n",
    "out_file = \"puglia_era5land_hourly_tp_2025\"\n",
    "\n",
    "download_and_process_era5_precip(request_params=data_params, output_file=out_file)"
   ]
  },
  {
   "cell_type": "code",
   "execution_count": null,
   "id": "9a345ee1",
   "metadata": {},
   "outputs": [],
   "source": []
  },
  {
   "cell_type": "code",
   "execution_count": 5,
   "id": "848fdd1d",
   "metadata": {},
   "outputs": [
    {
     "name": "stderr",
     "output_type": "stream",
     "text": [
      "2025-07-02 21:28:22,606 INFO [2024-09-26T00:00:00] Watch our [Forum](https://forum.ecmwf.int/) for Announcements, news and other discussed topics.\n"
     ]
    },
    {
     "name": "stdout",
     "output_type": "stream",
     "text": [
      "Downloading ERA5-Land hourly precipitation data...\n"
     ]
    },
    {
     "name": "stderr",
     "output_type": "stream",
     "text": [
      "2025-07-02 21:28:22,831 INFO Request ID is 45538d7e-abe3-4cf2-a078-ce71a3a09167\n",
      "2025-07-02 21:28:22,915 INFO status has been updated to accepted\n",
      "2025-07-02 21:28:36,502 INFO status has been updated to running\n",
      "2025-07-02 21:56:45,196 INFO status has been updated to successful\n"
     ]
    },
    {
     "data": {
      "application/vnd.jupyter.widget-view+json": {
       "model_id": "651fe1e553f34e8dbe9c9633d485b6e5",
       "version_major": 2,
       "version_minor": 0
      },
      "text/plain": [
       "e2d0e76649574ea0299a232b4c3abb1c.zip:   0%|          | 0.00/192k [00:00<?, ?B/s]"
      ]
     },
     "metadata": {},
     "output_type": "display_data"
    },
    {
     "name": "stdout",
     "output_type": "stream",
     "text": [
      "Data downloaded to london_era5land_hourly_tp_2020.grib\n",
      "File size: 0.19 MB\n"
     ]
    }
   ],
   "source": [
    "data_params = {\n",
    "    'variable' : 'total_precipitation',\n",
    "    'year' : ['2020'],\n",
    "    'month': ['01', '02', '03', '04', '05', '06', '07', '08', '09', '10', '11', '12'],\n",
    "    'day': [f'{i:02d}' for i in range(1, 32)],\n",
    "    'time': [f'{i:02d}:00' for i in range(24)],\n",
    "    'area': [51.6, -0.2, 51.4, 0.1],  # London area: North, West, South, East\n",
    "    'format': 'grib',\n",
    "}\n",
    "\n",
    "out_file = \"london_era5land_hourly_tp_2020\"\n",
    "\n",
    "download_and_process_era5_precip(request_params=data_params, output_file=out_file)"
   ]
  },
  {
   "cell_type": "code",
   "execution_count": null,
   "id": "f1692182",
   "metadata": {},
   "outputs": [],
   "source": []
  },
  {
   "cell_type": "code",
   "execution_count": 4,
   "id": "5200463a",
   "metadata": {},
   "outputs": [
    {
     "name": "stderr",
     "output_type": "stream",
     "text": [
      "2025-07-02 21:24:38,615 INFO [2024-09-26T00:00:00] Watch our [Forum](https://forum.ecmwf.int/) for Announcements, news and other discussed topics.\n"
     ]
    },
    {
     "name": "stdout",
     "output_type": "stream",
     "text": [
      "Downloading ERA5-Land hourly precipitation data...\n"
     ]
    },
    {
     "name": "stderr",
     "output_type": "stream",
     "text": [
      "2025-07-02 21:24:38,923 INFO Request ID is 82bb6f53-ff1b-451e-abff-61b487fd2d95\n",
      "2025-07-02 21:24:39,029 INFO status has been updated to accepted\n",
      "2025-07-02 21:24:47,482 INFO status has been updated to running\n",
      "2025-07-02 21:24:52,617 INFO status has been updated to successful\n"
     ]
    },
    {
     "data": {
      "application/vnd.jupyter.widget-view+json": {
       "model_id": "c15068879ba74627ade781cdd16fa50e",
       "version_major": 2,
       "version_minor": 0
      },
      "text/plain": [
       "e6b4a71c6737dce9f200ece08d1d27ad.zip:   0%|          | 0.00/222k [00:00<?, ?B/s]"
      ]
     },
     "metadata": {},
     "output_type": "display_data"
    },
    {
     "name": "stdout",
     "output_type": "stream",
     "text": [
      "Data downloaded to london_era5land_hourly_tp_2021.grib\n",
      "File size: 0.22 MB\n"
     ]
    }
   ],
   "source": [
    "data_params = {\n",
    "    'variable' : 'total_precipitation',\n",
    "    'year' : ['2021'],\n",
    "    'month': ['01', '02', '03', '04', '05', '06', '07', '08', '09', '10', '11', '12'],\n",
    "    'day': [f'{i:02d}' for i in range(1, 32)],\n",
    "    'time': [f'{i:02d}:00' for i in range(24)],\n",
    "    'area': [51.6, -0.2, 51.4, 0.1],  # London area: North, West, South, East\n",
    "    'format': 'grib',\n",
    "}\n",
    "\n",
    "out_file = \"london_era5land_hourly_tp_2021\"\n",
    "\n",
    "download_and_process_era5_precip(request_params=data_params, output_file=out_file)"
   ]
  },
  {
   "cell_type": "code",
   "execution_count": null,
   "id": "d2e65d19",
   "metadata": {},
   "outputs": [],
   "source": []
  },
  {
   "cell_type": "code",
   "execution_count": 3,
   "id": "73271d6e",
   "metadata": {},
   "outputs": [
    {
     "name": "stderr",
     "output_type": "stream",
     "text": [
      "2025-07-02 21:21:15,858 INFO [2024-09-26T00:00:00] Watch our [Forum](https://forum.ecmwf.int/) for Announcements, news and other discussed topics.\n"
     ]
    },
    {
     "name": "stdout",
     "output_type": "stream",
     "text": [
      "Downloading ERA5-Land hourly precipitation data...\n"
     ]
    },
    {
     "name": "stderr",
     "output_type": "stream",
     "text": [
      "2025-07-02 21:21:16,703 INFO Request ID is 993f3148-73d2-4b59-8881-1248e80a528c\n",
      "2025-07-02 21:21:16,801 INFO status has been updated to accepted\n",
      "2025-07-02 21:21:25,235 INFO status has been updated to running\n",
      "2025-07-02 21:21:30,410 INFO status has been updated to successful\n"
     ]
    },
    {
     "data": {
      "application/vnd.jupyter.widget-view+json": {
       "model_id": "edf681b8c181468083b0ce86564aa806",
       "version_major": 2,
       "version_minor": 0
      },
      "text/plain": [
       "680d5d694ff0c8393127335063713180.zip:   0%|          | 0.00/193k [00:00<?, ?B/s]"
      ]
     },
     "metadata": {},
     "output_type": "display_data"
    },
    {
     "name": "stdout",
     "output_type": "stream",
     "text": [
      "Data downloaded to london_era5land_hourly_tp_2022.grib\n",
      "File size: 0.19 MB\n"
     ]
    }
   ],
   "source": [
    "data_params = {\n",
    "    'variable' : 'total_precipitation',\n",
    "    'year' : ['2022'],\n",
    "    'month': ['01', '02', '03', '04', '05', '06', '07', '08', '09', '10', '11', '12'],\n",
    "    'day': [f'{i:02d}' for i in range(1, 32)],\n",
    "    'time': [f'{i:02d}:00' for i in range(24)],\n",
    "    'area': [51.6, -0.2, 51.4, 0.1],  # London area: North, West, South, East\n",
    "    'format': 'grib',\n",
    "}\n",
    "\n",
    "out_file = \"london_era5land_hourly_tp_2022\"\n",
    "\n",
    "download_and_process_era5_precip(request_params=data_params, output_file=out_file)"
   ]
  },
  {
   "cell_type": "code",
   "execution_count": 2,
   "id": "f81797f7",
   "metadata": {},
   "outputs": [
    {
     "name": "stderr",
     "output_type": "stream",
     "text": [
      "2025-07-02 21:17:15,599 INFO [2024-09-26T00:00:00] Watch our [Forum](https://forum.ecmwf.int/) for Announcements, news and other discussed topics.\n",
      "2025-07-02 21:17:15,795 INFO Request ID is c94711db-8928-42bf-aca2-d19d2d2cb639\n"
     ]
    },
    {
     "name": "stdout",
     "output_type": "stream",
     "text": [
      "Downloading ERA5-Land hourly precipitation data...\n"
     ]
    },
    {
     "name": "stderr",
     "output_type": "stream",
     "text": [
      "2025-07-02 21:17:15,890 INFO status has been updated to accepted\n",
      "2025-07-02 21:17:24,573 INFO status has been updated to running\n",
      "2025-07-02 21:17:29,696 INFO status has been updated to successful\n"
     ]
    },
    {
     "data": {
      "application/vnd.jupyter.widget-view+json": {
       "model_id": "88ccdc381b264d4891d9b55720907112",
       "version_major": 2,
       "version_minor": 0
      },
      "text/plain": [
       "fdc9b6b6454e7d0240f51eeb32c3484f.zip:   0%|          | 0.00/208k [00:00<?, ?B/s]"
      ]
     },
     "metadata": {},
     "output_type": "display_data"
    },
    {
     "name": "stdout",
     "output_type": "stream",
     "text": [
      "Data downloaded to london_era5land_hourly_tp_2023.grib\n",
      "File size: 0.20 MB\n"
     ]
    }
   ],
   "source": [
    "data_params = {\n",
    "    'variable' : 'total_precipitation',\n",
    "    'year' : ['2023'],\n",
    "    'month': ['01', '02', '03', '04', '05', '06', '07', '08', '09', '10', '11', '12'],\n",
    "    'day': [f'{i:02d}' for i in range(1, 32)],\n",
    "    'time': [f'{i:02d}:00' for i in range(24)],\n",
    "    'area': [51.6, -0.2, 51.4, 0.1],  # London area: North, West, South, East\n",
    "    'format': 'grib',\n",
    "}\n",
    "\n",
    "out_file = \"london_era5land_hourly_tp_2023\"\n",
    "\n",
    "download_and_process_era5_precip(request_params=data_params, output_file=out_file)"
   ]
  },
  {
   "cell_type": "code",
   "execution_count": null,
   "id": "bff60c6b",
   "metadata": {},
   "outputs": [],
   "source": [
    "data_params = {\n",
    "    'variable' : 'total_precipitation',\n",
    "    'year' : ['2024'],\n",
    "    'month': ['01', '02', '03', '04', '05', '06', '07', '08', '09', '10', '11', '12'],\n",
    "    'day': [f'{i:02d}' for i in range(1, 32)],\n",
    "    'time': [f'{i:02d}:00' for i in range(24)],\n",
    "    'area': [51.6, -0.2, 51.4, 0.1],  # London area: North, West, South, East\n",
    "    'format': 'grib',\n",
    "}\n",
    "\n",
    "out_file = \"london_era5land_hourly_tp_2024\"\n",
    "\n",
    "download_and_process_era5_precip(request_params=data_params, output_file=out_file)"
   ]
  }
 ],
 "metadata": {
  "kernelspec": {
   "display_name": "base",
   "language": "python",
   "name": "python3"
  },
  "language_info": {
   "codemirror_mode": {
    "name": "ipython",
    "version": 3
   },
   "file_extension": ".py",
   "mimetype": "text/x-python",
   "name": "python",
   "nbconvert_exporter": "python",
   "pygments_lexer": "ipython3",
   "version": "3.12.3"
  }
 },
 "nbformat": 4,
 "nbformat_minor": 5
}
