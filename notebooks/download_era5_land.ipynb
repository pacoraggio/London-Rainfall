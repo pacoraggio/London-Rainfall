{
 "cells": [
  {
   "cell_type": "code",
   "execution_count": null,
   "id": "853d2e27",
   "metadata": {},
   "outputs": [],
   "source": [
    "from src.manage_grib_files import download_and_process_era5_precip"
   ]
  },
  {
   "cell_type": "markdown",
   "id": "ee23bab4",
   "metadata": {},
   "source": [
    "# ERA5 land"
   ]
  },
  {
   "cell_type": "markdown",
   "id": "26483aa4",
   "metadata": {},
   "source": [
    "- download data\n",
    "- process data"
   ]
  },
  {
   "cell_type": "code",
   "execution_count": null,
   "id": "f81797f7",
   "metadata": {},
   "outputs": [],
   "source": [
    "# 14:36 test\n",
    "\n"
   ]
  },
  {
   "cell_type": "code",
   "execution_count": null,
   "id": "bff60c6b",
   "metadata": {},
   "outputs": [
    {
     "name": "stderr",
     "output_type": "stream",
     "text": [
      "2025-07-02 20:04:16,089 INFO [2024-09-26T00:00:00] Watch our [Forum](https://forum.ecmwf.int/) for Announcements, news and other discussed topics.\n",
      "2025-07-02 20:04:16,273 INFO Request ID is 081797f5-b6a1-4ea5-b740-f7369ec02afb\n"
     ]
    },
    {
     "name": "stdout",
     "output_type": "stream",
     "text": [
      "Downloading ERA5-Land hourly precipitation data...\n"
     ]
    },
    {
     "name": "stderr",
     "output_type": "stream",
     "text": [
      "2025-07-02 20:04:16,339 INFO status has been updated to accepted\n",
      "2025-07-02 20:04:24,847 INFO status has been updated to running\n"
     ]
    }
   ],
   "source": [
    "data_params = {\n",
    "    'variable' : 'total_precipitation',\n",
    "    'year' : ['2024'],\n",
    "    'month': ['01', '02', '03', '04', '05', '06', '07', '08', '09', '10', '11', '12'],\n",
    "    'day': [f'{i:02d}' for i in range(1, 32)],\n",
    "    'time': [f'{i:02d}:00' for i in range(24)],\n",
    "    'area': [51.6, -0.2, 51.4, 0.1],  # London area: North, West, South, East\n",
    "    'format': 'grib',\n",
    "}\n",
    "\n",
    "out_file = \"london_era5land_hourly_tp_2024\"\n",
    "\n",
    "download_and_process_era5_precip(request_params=data_params, output_file=out_file)"
   ]
  },
  {
   "cell_type": "code",
   "execution_count": null,
   "id": "50245b40",
   "metadata": {},
   "outputs": [],
   "source": []
  },
  {
   "cell_type": "code",
   "execution_count": 9,
   "id": "289431a5",
   "metadata": {},
   "outputs": [
    {
     "name": "stdout",
     "output_type": "stream",
     "text": [
      "🌧️  Processing London Precipitation Data\n",
      "==================================================\n",
      "📦 Extracting ZIP file: london_era5land_hourly_tp_2021.grib\n",
      "📋 Files in archive: ['data.grib']\n",
      "✅ Extracted to: .\n",
      "🎯 Found GRIB file: data.grib\n",
      "📊 Loading GRIB file: data.grib\n",
      "🔄 Trying cfgrib...\n",
      "✅ Success with cfgrib!\n",
      "📏 Dataset dimensions: {'time': 366, 'step': 24, 'latitude': 3, 'longitude': 4}\n",
      "📊 Variables: ['tp']\n",
      "\n",
      "📈 Data Summary:\n",
      "==============================\n",
      "🗺️  Coordinates:\n",
      "   number: 0\n",
      "   time: 2020-12-31T00:00:00.000000000 to 2021-12-31T00:00:00.000000000 (366 points)\n",
      "   step: 3600000000000 nanoseconds to 86400000000000 nanoseconds (24 points)\n",
      "   surface: 0.0\n",
      "   latitude: 51.4 to 51.6 (3 points)\n",
      "   longitude: -0.2 to 0.1 (4 points)\n",
      "   valid_time: 2020-12-31T01:00:00.000000000 to 2022-01-01T00:00:00.000000000 (8784 points)\n",
      "\n",
      "📊 Data Variables:\n",
      "   tp: ('time', 'step', 'latitude', 'longitude') - Total precipitation\n",
      "      Units: m\n",
      "\n",
      "🎉 Success! Dataset loaded successfully.\n",
      "\n",
      "To work with your data:\n",
      "1. Use ds[variable_name] to access variables\n",
      "2. Use ds.sel() or ds.isel() to select data\n",
      "3. Use ds.plot() for quick visualizations\n"
     ]
    },
    {
     "name": "stderr",
     "output_type": "stream",
     "text": [
      "c:\\ProgramData\\anaconda3\\Lib\\site-packages\\cfgrib\\xarray_plugin.py:131: FutureWarning: In a future version, xarray will not decode timedelta values based on the presence of a timedelta-like units attribute by default. Instead it will rely on the presence of a timedelta64 dtype attribute, which is now xarray's default way of encoding timedelta64 values. To continue decoding timedeltas based on the presence of a timedelta-like units attribute, users will need to explicitly opt-in by passing True or CFTimedeltaCoder(decode_via_units=True) to decode_timedelta. To silence this warning, set decode_timedelta to True, False, or a 'CFTimedeltaCoder' instance.\n",
      "  vars, attrs, coord_names = xr.conventions.decode_cf_variables(\n",
      "C:\\Users\\pacor\\AppData\\Local\\Temp\\ipykernel_24820\\431597180.py:90: FutureWarning: The return type of `Dataset.dims` will be changed to return a set of dimension names in future, in order to be more consistent with `DataArray.dims`. To access a mapping from dimension names to lengths, please use `Dataset.sizes`.\n",
      "  print(f\"📏 Dataset dimensions: {dict(ds.dims)}\")\n"
     ]
    }
   ],
   "source": [
    "grib_file = out_file + '.grib'\n",
    "\n",
    "ds = process_london_precipitation_data(grib_file)\n",
    "    \n",
    "if ds is not None:\n",
    "    print(\"\\n🎉 Success! Dataset loaded successfully.\")\n",
    "    print(\"\\nTo work with your data:\")\n",
    "    print(\"1. Use ds[variable_name] to access variables\")\n",
    "    print(\"2. Use ds.sel() or ds.isel() to select data\")\n",
    "    print(\"3. Use ds.plot() for quick visualizations\")"
   ]
  },
  {
   "cell_type": "code",
   "execution_count": null,
   "id": "06287d82",
   "metadata": {},
   "outputs": [],
   "source": []
  }
 ],
 "metadata": {
  "kernelspec": {
   "display_name": "base",
   "language": "python",
   "name": "python3"
  },
  "language_info": {
   "codemirror_mode": {
    "name": "ipython",
    "version": 3
   },
   "file_extension": ".py",
   "mimetype": "text/x-python",
   "name": "python",
   "nbconvert_exporter": "python",
   "pygments_lexer": "ipython3",
   "version": "3.12.3"
  }
 },
 "nbformat": 4,
 "nbformat_minor": 5
}
