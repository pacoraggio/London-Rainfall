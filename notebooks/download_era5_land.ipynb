{
 "cells": [
  {
   "cell_type": "code",
   "execution_count": 1,
   "id": "853d2e27",
   "metadata": {},
   "outputs": [],
   "source": [
    "from src.manage_grib_files import download_and_process_era5_precip"
   ]
  },
  {
   "cell_type": "markdown",
   "id": "ee23bab4",
   "metadata": {},
   "source": [
    "# Download ERA5 land"
   ]
  },
  {
   "cell_type": "markdown",
   "id": "26483aa4",
   "metadata": {},
   "source": [
    "- download data\n",
    "- process data"
   ]
  },
  {
   "cell_type": "code",
   "execution_count": 7,
   "id": "656acc03",
   "metadata": {},
   "outputs": [
    {
     "name": "stderr",
     "output_type": "stream",
     "text": [
      "2025-07-06 10:12:48,723 INFO [2024-09-26T00:00:00] Watch our [Forum](https://forum.ecmwf.int/) for Announcements, news and other discussed topics.\n",
      "2025-07-06 10:12:48,923 INFO Request ID is 9ce6e479-4fb0-432a-bd51-cd1e3f2ac506\n"
     ]
    },
    {
     "name": "stdout",
     "output_type": "stream",
     "text": [
      "Downloading ERA5-Land hourly precipitation data...\n"
     ]
    },
    {
     "name": "stderr",
     "output_type": "stream",
     "text": [
      "2025-07-06 10:12:49,022 INFO status has been updated to accepted\n",
      "2025-07-06 10:13:02,808 INFO status has been updated to running\n",
      "2025-07-06 10:39:13,820 INFO status has been updated to successful\n"
     ]
    },
    {
     "data": {
      "application/vnd.jupyter.widget-view+json": {
       "model_id": "7ca7f8b97b3c4671b07027c65b5a8f94",
       "version_major": 2,
       "version_minor": 0
      },
      "text/plain": [
       "6a0b6bbe4d25ca71ec6eb1300d9f8f3e.zip:   0%|          | 0.00/210k [00:00<?, ?B/s]"
      ]
     },
     "metadata": {},
     "output_type": "display_data"
    },
    {
     "name": "stdout",
     "output_type": "stream",
     "text": [
      "Data downloaded to london_era5land_hourly_tp_1994.grib\n",
      "File size: 0.21 MB\n"
     ]
    }
   ],
   "source": [
    "# London \n",
    "\n",
    "data_params = {\n",
    "    'variable' : 'total_precipitation',\n",
    "    'year' : ['1994'],\n",
    "    'month': ['01', '02', '03', '04', '05', '06', '07', '08', '09', '10', '11', '12'],\n",
    "    'day': [f'{i:02d}' for i in range(1, 32)],\n",
    "    'time': [f'{i:02d}:00' for i in range(24)],\n",
    "    'area': [51.6, -0.2, 51.4, 0.1],  # London area: North, West, South, East\n",
    "    'format': 'grib',\n",
    "}\n",
    "\n",
    "out_file = \"london_era5land_hourly_tp_1994\"\n",
    "\n",
    "download_and_process_era5_precip(request_params=data_params, output_file=out_file)"
   ]
  },
  {
   "cell_type": "code",
   "execution_count": null,
   "id": "05c28f5c",
   "metadata": {},
   "outputs": [],
   "source": []
  },
  {
   "cell_type": "code",
   "execution_count": 4,
   "id": "dadf0371",
   "metadata": {},
   "outputs": [
    {
     "name": "stderr",
     "output_type": "stream",
     "text": [
      "2025-07-06 08:39:33,028 INFO [2024-09-26T00:00:00] Watch our [Forum](https://forum.ecmwf.int/) for Announcements, news and other discussed topics.\n"
     ]
    },
    {
     "name": "stdout",
     "output_type": "stream",
     "text": [
      "Downloading ERA5-Land hourly precipitation data...\n"
     ]
    },
    {
     "name": "stderr",
     "output_type": "stream",
     "text": [
      "2025-07-06 08:39:33,381 INFO Request ID is 106b5986-179d-4428-a5b4-b0cab0794381\n",
      "2025-07-06 08:39:33,445 INFO status has been updated to accepted\n",
      "2025-07-06 08:39:42,027 INFO status has been updated to running\n",
      "2025-07-06 09:05:54,712 INFO status has been updated to successful\n"
     ]
    },
    {
     "data": {
      "application/vnd.jupyter.widget-view+json": {
       "model_id": "294745c6ea9c43b69eec03473e0436cf",
       "version_major": 2,
       "version_minor": 0
      },
      "text/plain": [
       "ebfc837379fa9e37eabd1b2c301a4d83.zip:   0%|          | 0.00/215k [00:00<?, ?B/s]"
      ]
     },
     "metadata": {},
     "output_type": "display_data"
    },
    {
     "name": "stdout",
     "output_type": "stream",
     "text": [
      "Data downloaded to london_era5land_hourly_tp_1996.grib\n",
      "File size: 0.21 MB\n"
     ]
    }
   ],
   "source": [
    "# London \n",
    "\n",
    "data_params = {\n",
    "    'variable' : 'total_precipitation',\n",
    "    'year' : ['1996'],\n",
    "    'month': ['01', '02', '03', '04', '05', '06', '07', '08', '09', '10', '11', '12'],\n",
    "    'day': [f'{i:02d}' for i in range(1, 32)],\n",
    "    'time': [f'{i:02d}:00' for i in range(24)],\n",
    "    'area': [51.6, -0.2, 51.4, 0.1],  # London area: North, West, South, East\n",
    "    'format': 'grib',\n",
    "}\n",
    "\n",
    "out_file = \"london_era5land_hourly_tp_1996\"\n",
    "\n",
    "download_and_process_era5_precip(request_params=data_params, output_file=out_file)"
   ]
  },
  {
   "cell_type": "code",
   "execution_count": null,
   "id": "6af3bdbe",
   "metadata": {},
   "outputs": [],
   "source": [
    "# London \n",
    "\n",
    "data_params = {\n",
    "    'variable' : 'total_precipitation',\n",
    "    'year' : ['2015'],\n",
    "    'month': ['01', '02', '03', '04', '05', '06', '07', '08', '09', '10', '11', '12'],\n",
    "    'day': [f'{i:02d}' for i in range(1, 32)],\n",
    "    'time': [f'{i:02d}:00' for i in range(24)],\n",
    "    'area': [51.6, -0.2, 51.4, 0.1],  # London area: North, West, South, East\n",
    "    'format': 'grib',\n",
    "}\n",
    "\n",
    "out_file = \"london_era5land_hourly_tp_2015\"\n",
    "\n",
    "download_and_process_era5_precip(request_params=data_params, output_file=out_file)"
   ]
  },
  {
   "cell_type": "code",
   "execution_count": null,
   "id": "cb99fe14",
   "metadata": {},
   "outputs": [],
   "source": [
    "# Puglia \n",
    "\n",
    "data_params = {\n",
    "    'variable' : 'total_precipitation',\n",
    "    'year' : ['2019'],\n",
    "    'month': ['01', '02', '03', '04', '05', '06', '07', '08', '09', '10', '11', '12'],\n",
    "    'day': [f'{i:02d}' for i in range(1, 32)],\n",
    "    'time': [f'{i:02d}:00' for i in range(24)],\n",
    "    'area': [41.9, 15.3, 40.2, 18.5],  # Puglia area: North, West, South, East\n",
    "    'format': 'grib',\n",
    "}\n",
    "\n",
    "out_file = \"puglia_era5land_hourly_tp_2019\"\n",
    "\n",
    "download_and_process_era5_precip(request_params=data_params, output_file=out_file)"
   ]
  },
  {
   "cell_type": "code",
   "execution_count": null,
   "id": "0158a034",
   "metadata": {},
   "outputs": [],
   "source": []
  },
  {
   "cell_type": "code",
   "execution_count": null,
   "id": "4a7b0c40",
   "metadata": {},
   "outputs": [],
   "source": [
    "# Puglia \n",
    "\n",
    "data_params = {\n",
    "    'variable' : 'total_precipitation',\n",
    "    'year' : ['2018'],\n",
    "    'month': ['01', '02', '03', '04', '05', '06', '07', '08', '09', '10', '11', '12'],\n",
    "    'day': [f'{i:02d}' for i in range(1, 32)],\n",
    "    'time': [f'{i:02d}:00' for i in range(24)],\n",
    "    'area': [41.9, 15.3, 40.2, 18.5],  # Puglia area: North, West, South, East\n",
    "    'format': 'grib',\n",
    "}\n",
    "\n",
    "out_file = \"puglia_era5land_hourly_tp_2018\"\n",
    "\n",
    "download_and_process_era5_precip(request_params=data_params, output_file=out_file)"
   ]
  },
  {
   "cell_type": "code",
   "execution_count": null,
   "id": "5efed763",
   "metadata": {},
   "outputs": [],
   "source": []
  },
  {
   "cell_type": "code",
   "execution_count": null,
   "id": "8ef6a796",
   "metadata": {},
   "outputs": [],
   "source": [
    "# Puglia \n",
    "\n",
    "data_params = {\n",
    "    'variable' : 'total_precipitation',\n",
    "    'year' : ['2019'],\n",
    "    'month': ['01', '02', '03', '04', '05', '06', '07', '08', '09', '10', '11', '12'],\n",
    "    'day': [f'{i:02d}' for i in range(1, 32)],\n",
    "    'time': [f'{i:02d}:00' for i in range(24)],\n",
    "    'area': [41.9, 15.3, 40.2, 18.5],  # Puglia area: North, West, South, East\n",
    "    'format': 'grib',\n",
    "}\n",
    "\n",
    "out_file = \"puglia_era5land_hourly_tp_2019\"\n",
    "\n",
    "download_and_process_era5_precip(request_params=data_params, output_file=out_file)"
   ]
  },
  {
   "cell_type": "code",
   "execution_count": null,
   "id": "4b59291e",
   "metadata": {},
   "outputs": [],
   "source": []
  },
  {
   "cell_type": "code",
   "execution_count": null,
   "id": "3b88ceda",
   "metadata": {},
   "outputs": [],
   "source": [
    "# London \n",
    "\n",
    "data_params = {\n",
    "    'variable' : 'total_precipitation',\n",
    "    'year' : ['2016'],\n",
    "    'month': ['01', '02', '03', '04', '05', '06', '07', '08', '09', '10', '11', '12'],\n",
    "    'day': [f'{i:02d}' for i in range(1, 32)],\n",
    "    'time': [f'{i:02d}:00' for i in range(24)],\n",
    "    'area': [51.6, -0.2, 51.4, 0.1],  # London area: North, West, South, East\n",
    "    'format': 'grib',\n",
    "}\n",
    "\n",
    "out_file = \"london_era5land_hourly_tp_2016\"\n",
    "\n",
    "download_and_process_era5_precip(request_params=data_params, output_file=out_file)"
   ]
  },
  {
   "cell_type": "code",
   "execution_count": null,
   "id": "44b3bf01",
   "metadata": {},
   "outputs": [],
   "source": []
  },
  {
   "cell_type": "code",
   "execution_count": null,
   "id": "13da8584",
   "metadata": {},
   "outputs": [],
   "source": [
    "# London \n",
    "\n",
    "data_params = {\n",
    "    'variable' : 'total_precipitation',\n",
    "    'year' : ['2017'],\n",
    "    'month': ['01', '02', '03', '04', '05', '06', '07', '08', '09', '10', '11', '12'],\n",
    "    'day': [f'{i:02d}' for i in range(1, 32)],\n",
    "    'time': [f'{i:02d}:00' for i in range(24)],\n",
    "    'area': [51.6, -0.2, 51.4, 0.1],  # London area: North, West, South, East\n",
    "    'format': 'grib',\n",
    "}\n",
    "\n",
    "out_file = \"london_era5land_hourly_tp_2017\"\n",
    "\n",
    "download_and_process_era5_precip(request_params=data_params, output_file=out_file)"
   ]
  },
  {
   "cell_type": "code",
   "execution_count": null,
   "id": "01f2b5a1",
   "metadata": {},
   "outputs": [],
   "source": []
  },
  {
   "cell_type": "code",
   "execution_count": null,
   "id": "4ebfa574",
   "metadata": {},
   "outputs": [],
   "source": [
    "# London \n",
    "\n",
    "data_params = {\n",
    "    'variable' : 'total_precipitation',\n",
    "    'year' : ['2018'],\n",
    "    'month': ['01', '02', '03', '04', '05', '06', '07', '08', '09', '10', '11', '12'],\n",
    "    'day': [f'{i:02d}' for i in range(1, 32)],\n",
    "    'time': [f'{i:02d}:00' for i in range(24)],\n",
    "    'area': [51.6, -0.2, 51.4, 0.1],  # London area: North, West, South, East\n",
    "    'format': 'grib',\n",
    "}\n",
    "\n",
    "out_file = \"london_era5land_hourly_tp_2018\"\n",
    "\n",
    "download_and_process_era5_precip(request_params=data_params, output_file=out_file)"
   ]
  },
  {
   "cell_type": "code",
   "execution_count": null,
   "id": "09ab04f7",
   "metadata": {},
   "outputs": [],
   "source": []
  },
  {
   "cell_type": "code",
   "execution_count": null,
   "id": "2b386b50",
   "metadata": {},
   "outputs": [],
   "source": [
    "# Puglia \n",
    "\n",
    "data_params = {\n",
    "    'variable' : 'total_precipitation',\n",
    "    'year' : ['2020'],\n",
    "    'month': ['01', '02', '03', '04', '05', '06', '07', '08', '09', '10', '11', '12'],\n",
    "    'day': [f'{i:02d}' for i in range(1, 32)],\n",
    "    'time': [f'{i:02d}:00' for i in range(24)],\n",
    "    'area': [41.9, 15.3, 40.2, 18.5],  # Puglia area: North, West, South, East\n",
    "    'format': 'grib',\n",
    "}\n",
    "\n",
    "out_file = \"puglia_era5land_hourly_tp_2020\"\n",
    "\n",
    "download_and_process_era5_precip(request_params=data_params, output_file=out_file)"
   ]
  },
  {
   "cell_type": "code",
   "execution_count": null,
   "id": "02623f79",
   "metadata": {},
   "outputs": [],
   "source": []
  },
  {
   "cell_type": "code",
   "execution_count": null,
   "id": "57dcf820",
   "metadata": {},
   "outputs": [],
   "source": [
    "# Puglia \n",
    "\n",
    "data_params = {\n",
    "    'variable' : 'total_precipitation',\n",
    "    'year' : ['2021'],\n",
    "    'month': ['01', '02', '03', '04', '05', '06', '07', '08', '09', '10', '11', '12'],\n",
    "    'day': [f'{i:02d}' for i in range(1, 32)],\n",
    "    'time': [f'{i:02d}:00' for i in range(24)],\n",
    "    'area': [41.9, 15.3, 40.2, 18.5],  # Puglia area: North, West, South, East\n",
    "    'format': 'grib',\n",
    "}\n",
    "\n",
    "out_file = \"puglia_era5land_hourly_tp_2021\"\n",
    "\n",
    "download_and_process_era5_precip(request_params=data_params, output_file=out_file)"
   ]
  },
  {
   "cell_type": "code",
   "execution_count": null,
   "id": "7a5f595c",
   "metadata": {},
   "outputs": [],
   "source": []
  },
  {
   "cell_type": "code",
   "execution_count": null,
   "id": "72ba9f5a",
   "metadata": {},
   "outputs": [],
   "source": [
    "# Puglia \n",
    "\n",
    "data_params = {\n",
    "    'variable' : 'total_precipitation',\n",
    "    'year' : ['2022'],\n",
    "    'month': ['01', '02', '03', '04', '05', '06', '07', '08', '09', '10', '11', '12'],\n",
    "    'day': [f'{i:02d}' for i in range(1, 32)],\n",
    "    'time': [f'{i:02d}:00' for i in range(24)],\n",
    "    'area': [41.9, 15.3, 40.2, 18.5],  # Puglia area: North, West, South, East\n",
    "    'format': 'grib',\n",
    "}\n",
    "\n",
    "out_file = \"puglia_era5land_hourly_tp_2022\"\n",
    "\n",
    "download_and_process_era5_precip(request_params=data_params, output_file=out_file)"
   ]
  },
  {
   "cell_type": "code",
   "execution_count": null,
   "id": "59539a95",
   "metadata": {},
   "outputs": [],
   "source": [
    "# London \n",
    "\n",
    "data_params = {\n",
    "    'variable' : 'total_precipitation',\n",
    "    'year' : ['2019'],\n",
    "    'month': ['01', '02', '03', '04', '05', '06', '07', '08', '09', '10', '11', '12'],\n",
    "    'day': [f'{i:02d}' for i in range(1, 32)],\n",
    "    'time': [f'{i:02d}:00' for i in range(24)],\n",
    "    'area': [51.6, -0.2, 51.4, 0.1],  # London area: North, West, South, East\n",
    "    'format': 'grib',\n",
    "}\n",
    "\n",
    "out_file = \"london_era5land_hourly_tp_2019\"\n",
    "\n",
    "download_and_process_era5_precip(request_params=data_params, output_file=out_file)"
   ]
  },
  {
   "cell_type": "code",
   "execution_count": null,
   "id": "e8c5aaf6",
   "metadata": {},
   "outputs": [],
   "source": []
  },
  {
   "cell_type": "code",
   "execution_count": null,
   "id": "3724a482",
   "metadata": {},
   "outputs": [],
   "source": [
    "# Puglia \n",
    "\n",
    "data_params = {\n",
    "    'variable' : 'total_precipitation',\n",
    "    'year' : ['2023'],\n",
    "    'month': ['01', '02', '03', '04', '05', '06', '07', '08', '09', '10', '11', '12'],\n",
    "    'day': [f'{i:02d}' for i in range(1, 32)],\n",
    "    'time': [f'{i:02d}:00' for i in range(24)],\n",
    "    'area': [41.9, 15.3, 40.2, 18.5],  # Puglia area: North, West, South, East\n",
    "    'format': 'grib',\n",
    "}\n",
    "\n",
    "out_file = \"puglia_era5land_hourly_tp_2023\"\n",
    "\n",
    "download_and_process_era5_precip(request_params=data_params, output_file=out_file)"
   ]
  },
  {
   "cell_type": "code",
   "execution_count": null,
   "id": "5c48dd1e",
   "metadata": {},
   "outputs": [],
   "source": []
  },
  {
   "cell_type": "code",
   "execution_count": null,
   "id": "aaccc81a",
   "metadata": {},
   "outputs": [],
   "source": [
    "# Puglia \n",
    "\n",
    "data_params = {\n",
    "    'variable' : 'total_precipitation',\n",
    "    'year' : ['2024'],\n",
    "    'month': ['01', '02', '03', '04', '05', '06', '07', '08', '09', '10', '11', '12'],\n",
    "    'day': [f'{i:02d}' for i in range(1, 32)],\n",
    "    'time': [f'{i:02d}:00' for i in range(24)],\n",
    "    'area': [41.9, 15.3, 40.2, 18.5],  # London area: North, West, South, East\n",
    "    'format': 'grib',\n",
    "}\n",
    "\n",
    "out_file = \"puglia_era5land_hourly_tp_2024\"\n",
    "\n",
    "download_and_process_era5_precip(request_params=data_params, output_file=out_file)"
   ]
  },
  {
   "cell_type": "code",
   "execution_count": null,
   "id": "1bd57ed0",
   "metadata": {},
   "outputs": [],
   "source": [
    "# Puglia \n",
    "\n",
    "data_params = {\n",
    "    'variable' : 'total_precipitation',\n",
    "    'year' : ['2025'],\n",
    "    'month': ['01', '02', '03', '04', '05', '06', '07', '08', '09', '10', '11', '12'],\n",
    "    'day': [f'{i:02d}' for i in range(1, 32)],\n",
    "    'time': [f'{i:02d}:00' for i in range(24)],\n",
    "    'area': [41.9, 15.3, 40.2, 18.5],  # London area: North, West, South, East\n",
    "    'format': 'grib',\n",
    "}\n",
    "\n",
    "out_file = \"puglia_era5land_hourly_tp_2025\"\n",
    "\n",
    "download_and_process_era5_precip(request_params=data_params, output_file=out_file)"
   ]
  },
  {
   "cell_type": "code",
   "execution_count": null,
   "id": "9a345ee1",
   "metadata": {},
   "outputs": [],
   "source": []
  },
  {
   "cell_type": "code",
   "execution_count": null,
   "id": "848fdd1d",
   "metadata": {},
   "outputs": [],
   "source": [
    "data_params = {\n",
    "    'variable' : 'total_precipitation',\n",
    "    'year' : ['2020'],\n",
    "    'month': ['01', '02', '03', '04', '05', '06', '07', '08', '09', '10', '11', '12'],\n",
    "    'day': [f'{i:02d}' for i in range(1, 32)],\n",
    "    'time': [f'{i:02d}:00' for i in range(24)],\n",
    "    'area': [51.6, -0.2, 51.4, 0.1],  # London area: North, West, South, East\n",
    "    'format': 'grib',\n",
    "}\n",
    "\n",
    "out_file = \"london_era5land_hourly_tp_2020\"\n",
    "\n",
    "download_and_process_era5_precip(request_params=data_params, output_file=out_file)"
   ]
  },
  {
   "cell_type": "code",
   "execution_count": null,
   "id": "f1692182",
   "metadata": {},
   "outputs": [],
   "source": []
  },
  {
   "cell_type": "code",
   "execution_count": null,
   "id": "5200463a",
   "metadata": {},
   "outputs": [],
   "source": [
    "data_params = {\n",
    "    'variable' : 'total_precipitation',\n",
    "    'year' : ['2021'],\n",
    "    'month': ['01', '02', '03', '04', '05', '06', '07', '08', '09', '10', '11', '12'],\n",
    "    'day': [f'{i:02d}' for i in range(1, 32)],\n",
    "    'time': [f'{i:02d}:00' for i in range(24)],\n",
    "    'area': [51.6, -0.2, 51.4, 0.1],  # London area: North, West, South, East\n",
    "    'format': 'grib',\n",
    "}\n",
    "\n",
    "out_file = \"london_era5land_hourly_tp_2021\"\n",
    "\n",
    "download_and_process_era5_precip(request_params=data_params, output_file=out_file)"
   ]
  },
  {
   "cell_type": "code",
   "execution_count": null,
   "id": "d2e65d19",
   "metadata": {},
   "outputs": [],
   "source": []
  },
  {
   "cell_type": "code",
   "execution_count": null,
   "id": "73271d6e",
   "metadata": {},
   "outputs": [],
   "source": [
    "data_params = {\n",
    "    'variable' : 'total_precipitation',\n",
    "    'year' : ['2022'],\n",
    "    'month': ['01', '02', '03', '04', '05', '06', '07', '08', '09', '10', '11', '12'],\n",
    "    'day': [f'{i:02d}' for i in range(1, 32)],\n",
    "    'time': [f'{i:02d}:00' for i in range(24)],\n",
    "    'area': [51.6, -0.2, 51.4, 0.1],  # London area: North, West, South, East\n",
    "    'format': 'grib',\n",
    "}\n",
    "\n",
    "out_file = \"london_era5land_hourly_tp_2022\"\n",
    "\n",
    "download_and_process_era5_precip(request_params=data_params, output_file=out_file)"
   ]
  },
  {
   "cell_type": "code",
   "execution_count": null,
   "id": "f81797f7",
   "metadata": {},
   "outputs": [],
   "source": [
    "data_params = {\n",
    "    'variable' : 'total_precipitation',\n",
    "    'year' : ['2023'],\n",
    "    'month': ['01', '02', '03', '04', '05', '06', '07', '08', '09', '10', '11', '12'],\n",
    "    'day': [f'{i:02d}' for i in range(1, 32)],\n",
    "    'time': [f'{i:02d}:00' for i in range(24)],\n",
    "    'area': [51.6, -0.2, 51.4, 0.1],  # London area: North, West, South, East\n",
    "    'format': 'grib',\n",
    "}\n",
    "\n",
    "out_file = \"london_era5land_hourly_tp_2023\"\n",
    "\n",
    "download_and_process_era5_precip(request_params=data_params, output_file=out_file)"
   ]
  },
  {
   "cell_type": "code",
   "execution_count": null,
   "id": "bff60c6b",
   "metadata": {},
   "outputs": [],
   "source": [
    "data_params = {\n",
    "    'variable' : 'total_precipitation',\n",
    "    'year' : ['2024'],\n",
    "    'month': ['01', '02', '03', '04', '05', '06', '07', '08', '09', '10', '11', '12'],\n",
    "    'day': [f'{i:02d}' for i in range(1, 32)],\n",
    "    'time': [f'{i:02d}:00' for i in range(24)],\n",
    "    'area': [51.6, -0.2, 51.4, 0.1],  # London area: North, West, South, East\n",
    "    'format': 'grib',\n",
    "}\n",
    "\n",
    "out_file = \"london_era5land_hourly_tp_2024\"\n",
    "\n",
    "download_and_process_era5_precip(request_params=data_params, output_file=out_file)"
   ]
  }
 ],
 "metadata": {
  "kernelspec": {
   "display_name": "base",
   "language": "python",
   "name": "python3"
  },
  "language_info": {
   "codemirror_mode": {
    "name": "ipython",
    "version": 3
   },
   "file_extension": ".py",
   "mimetype": "text/x-python",
   "name": "python",
   "nbconvert_exporter": "python",
   "pygments_lexer": "ipython3",
   "version": "3.12.3"
  }
 },
 "nbformat": 4,
 "nbformat_minor": 5
}
