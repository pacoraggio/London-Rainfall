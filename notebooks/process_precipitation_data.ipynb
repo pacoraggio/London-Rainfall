{
 "cells": [
  {
   "cell_type": "code",
   "execution_count": 1,
   "id": "3bcff4bc",
   "metadata": {},
   "outputs": [],
   "source": [
    "import pandas as pd\n",
    "import numpy as np\n",
    "\n",
    "import matplotlib.pyplot as plt\n",
    "import seaborn as sns\n",
    "\n",
    "from src.manage_precipitation_data import create_tp_daily_summary, create_tp_monthly_aggregate"
   ]
  },
  {
   "cell_type": "code",
   "execution_count": null,
   "id": "c980223a",
   "metadata": {},
   "outputs": [],
   "source": []
  },
  {
   "cell_type": "markdown",
   "id": "d8d050b6",
   "metadata": {},
   "source": [
    "# Process Precipitation Data"
   ]
  },
  {
   "cell_type": "markdown",
   "id": "799a06d2",
   "metadata": {},
   "source": [
    "- open `csv` files\n",
    "- process data"
   ]
  },
  {
   "cell_type": "markdown",
   "id": "f72973e5",
   "metadata": {},
   "source": [
    "## Precipitation Long Format"
   ]
  },
  {
   "cell_type": "markdown",
   "id": "49a0838e",
   "metadata": {},
   "source": [
    "The `long_format.csv` files contain data for each point of the grid (latitude, longitue). When downloading the data, we consider a rectangular box (N,S,W,E) and collect data that are outside Puglia region. Let's see if I can discharge coordinates that do not belong to the region we want to consider."
   ]
  },
  {
   "cell_type": "code",
   "execution_count": 4,
   "id": "0adf29a4",
   "metadata": {},
   "outputs": [
    {
     "data": {
      "text/plain": [
       "(2687904, 8)"
      ]
     },
     "execution_count": 4,
     "metadata": {},
     "output_type": "execute_result"
    }
   ],
   "source": [
    "data_puglia_2020_lf = pd.read_csv('./data/2020_puglia_era5_precipitation_long_format.csv',comment = '#')\n",
    "data_puglia_2020_lf.shape"
   ]
  },
  {
   "cell_type": "code",
   "execution_count": null,
   "id": "02564024",
   "metadata": {},
   "outputs": [],
   "source": [
    "# collecting all possible combination of lat, long in the dataset\n",
    "\n",
    "lats = data_puglia_2020_lf['latitude'].unique()\n",
    "lons = data_puglia_2020_lf['longitude'].unique()\n",
    "# latit = []\n",
    "# longit = []\n",
    "lat_long = []\n",
    "\n",
    "for lat in lats:\n",
    "    for lon in lons:\n",
    "        df = data_puglia_2020_lf[(data_puglia_2020_lf['latitude'] == lat) &\n",
    "                                 (data_puglia_2020_lf['longitude'] == lon)]\n",
    "        if df.shape[0] != 0:\n",
    "            # print(f\"lat = {lat}, lon = {lon}, df_shape = {df.shape}\")\n",
    "            # latit.append(lat)\n",
    "            # longit.append(lon)\n",
    "            lat_long.append((lat,lon))"
   ]
  },
  {
   "cell_type": "code",
   "execution_count": 6,
   "id": "d6d8ad51",
   "metadata": {},
   "outputs": [
    {
     "data": {
      "text/plain": [
       "306"
      ]
     },
     "execution_count": 6,
     "metadata": {},
     "output_type": "execute_result"
    }
   ],
   "source": [
    "len(lat_long)"
   ]
  },
  {
   "cell_type": "markdown",
   "id": "75a00980",
   "metadata": {},
   "source": [
    "We have 306 coordinates. First, we can also check if we have all expected data. For each point in the grid, we have 24 measurements a day."
   ]
  },
  {
   "cell_type": "code",
   "execution_count": 8,
   "id": "0d9fc24c",
   "metadata": {},
   "outputs": [
    {
     "name": "stdout",
     "output_type": "stream",
     "text": [
      "number of expected data = 2687904\n",
      "number of rows in the dataframe = 2687904\n"
     ]
    }
   ],
   "source": [
    "print(f\"number of expected data = {306*24*366}\")\n",
    "print(f\"number of rows in the dataframe = {data_puglia_2020_lf.shape[0]}\")"
   ]
  },
  {
   "cell_type": "code",
   "execution_count": 10,
   "id": "6c4a14a6",
   "metadata": {},
   "outputs": [
    {
     "data": {
      "text/plain": [
       "[(41.9, 15.4), (41.9, 15.5), (41.9, 15.8), (41.9, 15.9)]"
      ]
     },
     "execution_count": 10,
     "metadata": {},
     "output_type": "execute_result"
    }
   ],
   "source": [
    "lat_long[:4]"
   ]
  },
  {
   "cell_type": "markdown",
   "id": "22f89848",
   "metadata": {},
   "source": []
  },
  {
   "cell_type": "markdown",
   "id": "c89e72ba",
   "metadata": {},
   "source": [
    "## Precipitation Time series"
   ]
  },
  {
   "cell_type": "markdown",
   "id": "6fd1797e",
   "metadata": {},
   "source": [
    "Analyzing time_series files. It should contain the mean of all long/lat data for inputted values. `tp` should be cumulative value.\n",
    "\n",
    "> To Do: Considering for London data the long/lat closer to Hampstead\n",
    "\n",
    "1. Create column for rainfall in mm\n",
    "2. Threshold the rainfall: values under 0.09 are set to 0.0 and then we round to one decimal digit.\n",
    "2. Create columns for date/hour\n",
    "3. Group by date and take max - checking it's the same as 23 hour, latest hour."
   ]
  },
  {
   "cell_type": "code",
   "execution_count": 4,
   "id": "b90747ef",
   "metadata": {},
   "outputs": [],
   "source": [
    "data_london_2020 = pd.read_csv('./data/2020_london_era5_precipitation_time_series.csv',comment = '#')\n",
    "data_puglia_2020 = pd.read_csv('./data/2020_puglia_era5_precipitation_time_series.csv',comment = '#')\n",
    "data_london_2021 = pd.read_csv('./data/2021_london_era5_precipitation_time_series.csv',comment = '#')\n",
    "data_puglia_2021 = pd.read_csv('./data/2021_puglia_era5_precipitation_time_series.csv',comment = '#')\n",
    "data_london_2022 = pd.read_csv('./data/2022_london_era5_precipitation_time_series.csv',comment = '#')\n",
    "data_puglia_2022 = pd.read_csv('./data/2022_puglia_era5_precipitation_time_series.csv',comment = '#')\n",
    "data_london_2023 = pd.read_csv('./data/2023_london_era5_precipitation_time_series.csv',comment = '#')\n",
    "data_puglia_2023 = pd.read_csv('./data/2023_puglia_era5_precipitation_time_series.csv',comment = '#')\n",
    "data_london_2024 = pd.read_csv('./data/2024_london_era5_precipitation_time_series.csv',comment = '#')\n",
    "data_puglia_2024 = pd.read_csv('./data/2024_puglia_era5_precipitation_time_series.csv',comment = '#')"
   ]
  },
  {
   "cell_type": "code",
   "execution_count": 5,
   "id": "0d72c48c",
   "metadata": {},
   "outputs": [],
   "source": [
    "df_london_2020 = create_tp_daily_summary(data_london_2020, year=2020)\n",
    "df_puglia_2020 = create_tp_daily_summary(data_puglia_2020, year=2020)\n",
    "df_london_2021 = create_tp_daily_summary(data_london_2021, year=2021)\n",
    "df_puglia_2021 = create_tp_daily_summary(data_puglia_2021, year=2021)\n",
    "df_london_2022 = create_tp_daily_summary(data_london_2022, year=2022)\n",
    "df_puglia_2022 = create_tp_daily_summary(data_puglia_2022, year=2022)\n",
    "df_london_2023 = create_tp_daily_summary(data_london_2023, year=2023)\n",
    "df_puglia_2023 = create_tp_daily_summary(data_puglia_2023, year=2023)\n",
    "df_london_2024 = create_tp_daily_summary(data_london_2024, year=2024)\n",
    "df_puglia_2024 = create_tp_daily_summary(data_puglia_2024, year=2024)"
   ]
  },
  {
   "cell_type": "code",
   "execution_count": 24,
   "id": "96e5aaa0",
   "metadata": {},
   "outputs": [],
   "source": [
    "london_monthly_2020 = create_tp_monthly_aggregate(df_london_2020)\n",
    "puglia_monthly_2020 = create_tp_monthly_aggregate(df_puglia_2020)\n",
    "london_monthly_2021 = create_tp_monthly_aggregate(df_london_2021)\n",
    "puglia_monthly_2021 = create_tp_monthly_aggregate(df_puglia_2021)\n",
    "london_monthly_2022 = create_tp_monthly_aggregate(df_london_2022)\n",
    "puglia_monthly_2022 = create_tp_monthly_aggregate(df_puglia_2022)\n",
    "london_monthly_2023 = create_tp_monthly_aggregate(df_london_2023)\n",
    "puglia_monthly_2023 = create_tp_monthly_aggregate(df_puglia_2023)\n",
    "london_monthly_2024 = create_tp_monthly_aggregate(df_london_2024)\n",
    "puglia_monthly_2024 = create_tp_monthly_aggregate(df_puglia_2024)"
   ]
  },
  {
   "cell_type": "code",
   "execution_count": 30,
   "id": "00582f77",
   "metadata": {},
   "outputs": [
    {
     "data": {
      "text/plain": [
       "Index(['month_int', 'month_str', 'monthly_tp_mm'], dtype='object')"
      ]
     },
     "execution_count": 30,
     "metadata": {},
     "output_type": "execute_result"
    }
   ],
   "source": [
    "london_monthly_2024.columns"
   ]
  },
  {
   "cell_type": "code",
   "execution_count": 35,
   "id": "26ce3982",
   "metadata": {},
   "outputs": [
    {
     "name": "stdout",
     "output_type": "stream",
     "text": [
      "london 2020 yearly tp = 716.8\n",
      "puglia 2020 yearly tp = 619.6 \n",
      "\n",
      "london 2021 yearly tp = 854.9999999999999\n",
      "puglia 2021 yearly tp = 650.5 \n",
      "\n",
      "london 2022 yearly tp = 658.5\n",
      "puglia 2022 yearly tp = 657.8 \n",
      "\n",
      "london 2023 yearly tp = 780.6999999999999\n",
      "puglia 2023 yearly tp = 732.8000000000001 \n",
      "\n",
      "london 2024 yearly tp = 832.5999999999999\n",
      "puglia 2024 yearly tp = 570.6 \n",
      "\n"
     ]
    }
   ],
   "source": [
    "print(f\"london 2020 yearly tp = {london_monthly_2020['monthly_tp_mm'].sum()}\")\n",
    "print(f\"puglia 2020 yearly tp = {puglia_monthly_2020['monthly_tp_mm'].sum()} \\n\")\n",
    "print(f\"london 2021 yearly tp = {london_monthly_2021['monthly_tp_mm'].sum()}\")\n",
    "print(f\"puglia 2021 yearly tp = {puglia_monthly_2021['monthly_tp_mm'].sum()} \\n\")\n",
    "print(f\"london 2022 yearly tp = {london_monthly_2022['monthly_tp_mm'].sum()}\")\n",
    "print(f\"puglia 2022 yearly tp = {puglia_monthly_2022['monthly_tp_mm'].sum()} \\n\")\n",
    "print(f\"london 2023 yearly tp = {london_monthly_2023['monthly_tp_mm'].sum()}\")\n",
    "print(f\"puglia 2023 yearly tp = {puglia_monthly_2023['monthly_tp_mm'].sum()} \\n\")\n",
    "print(f\"london 2024 yearly tp = {london_monthly_2024['monthly_tp_mm'].sum()}\")\n",
    "print(f\"puglia 2024 yearly tp = {puglia_monthly_2024['monthly_tp_mm'].sum()} \\n\")"
   ]
  },
  {
   "cell_type": "code",
   "execution_count": null,
   "id": "2964cad4",
   "metadata": {},
   "outputs": [],
   "source": []
  },
  {
   "cell_type": "code",
   "execution_count": null,
   "id": "fa4f832f",
   "metadata": {},
   "outputs": [],
   "source": []
  },
  {
   "cell_type": "code",
   "execution_count": 50,
   "metadata": {},
   "outputs": [],
   "source": [
    "mmonth = 'Mar'\n",
    "data_plot = df_london_2020[df_london_2020['month_str'] == mmonth].copy()\n",
    "data_plot['day'] = data_plot['valid_date_dt'].dt.day"
   ]
  },
  {
   "cell_type": "code",
   "execution_count": 51,
   "id": "d7e0b3c2",
   "metadata": {},
   "outputs": [
    {
     "data": {
      "image/png": "[encoded data removed]",
      "text/plain": [
       "<Figure size 1200x600 with 1 Axes>"
      ]
     },
     "metadata": {},
     "output_type": "display_data"
    }
   ],
   "source": [
    "fig_size = (12,6)\n",
    "\n",
    "sns.set_theme(style=\"whitegrid\")\n",
    "plt.figure(figsize=fig_size)\n",
    "\n",
    "sns.barplot(\n",
    "    data = data_plot,\n",
    "    x = 'day',\n",
    "    y = 'tp_mm'\n",
    ");"
   ]
  },
  {
   "cell_type": "code",
   "execution_count": 52,
   "id": "abb4f296",
   "metadata": {},
   "outputs": [
    {
     "data": {
      "text/plain": [
       "37.900000000000006"
      ]
     },
     "execution_count": 52,
     "metadata": {},
     "output_type": "execute_result"
    }
   ],
   "source": [
    "data_plot['tp_mm'].sum()"
   ]
  },
  {
   "cell_type": "code",
   "execution_count": null,
   "id": "88cf8e84",
   "metadata": {},
   "outputs": [],
   "source": []
  },
  {
   "cell_type": "code",
   "execution_count": null,
   "id": "9f69b071",
   "metadata": {},
   "outputs": [],
   "source": []
  },
  {
   "cell_type": "code",
   "execution_count": null,
   "id": "5e7cc419",
   "metadata": {},
   "outputs": [],
   "source": []
  },
  {
   "cell_type": "code",
   "execution_count": null,
   "id": "e48865f5",
   "metadata": {},
   "outputs": [],
   "source": []
  },
  {
   "cell_type": "code",
   "execution_count": 28,
   "id": "7d24d9aa",
   "metadata": {},
   "outputs": [
    {
     "data": {
      "text/plain": [
       "<Axes: xlabel='month_int', ylabel='monthly_tp_mm'>"
      ]
     },
     "execution_count": 28,
     "metadata": {},
     "output_type": "execute_result"
    },
    {
     "data": {
      "image/png": "[encoded data removed]",
      "text/plain": [
       "<Figure size 1200x600 with 1 Axes>"
      ]
     },
     "metadata": {},
     "output_type": "display_data"
    }
   ],
   "source": [
    "fig_size = (12,6)\n",
    "\n",
    "sns.set_theme(style=\"whitegrid\")\n",
    "plt.figure(figsize=fig_size)\n",
    "\n",
    "sns.barplot(\n",
    "    data = london_monthly_2024,\n",
    "    x = 'month_int',\n",
    "    y = 'monthly_tp_mm'\n",
    ")"
   ]
  },
  {
   "cell_type": "code",
   "execution_count": 29,
   "id": "e4da60bb",
   "metadata": {},
   "outputs": [
    {
     "data": {
      "text/plain": [
       "<Axes: xlabel='month_int', ylabel='monthly_tp_mm'>"
      ]
     },
     "execution_count": 29,
     "metadata": {},
     "output_type": "execute_result"
    },
    {
     "data": {
      "image/png": "[encoded data removed]",
      "text/plain": [
       "<Figure size 1200x600 with 1 Axes>"
      ]
     },
     "metadata": {},
     "output_type": "display_data"
    }
   ],
   "source": [
    "fig_size = (12,6)\n",
    "\n",
    "sns.set_theme(style=\"whitegrid\")\n",
    "plt.figure(figsize=fig_size)\n",
    "\n",
    "sns.barplot(\n",
    "    data = puglia_monthly_2024,\n",
    "    x = 'month_int',\n",
    "    y = 'monthly_tp_mm'\n",
    ")"
   ]
  },
  {
   "cell_type": "code",
   "execution_count": null,
   "id": "3bb364a0",
   "metadata": {},
   "outputs": [],
   "source": []
  },
  {
   "cell_type": "code",
   "execution_count": 19,
   "id": "91289d20",
   "metadata": {},
   "outputs": [
    {
     "data": {
      "image/png": "[encoded data removed]",
      "text/plain": [
       "<Figure size 1200x600 with 1 Axes>"
      ]
     },
     "metadata": {},
     "output_type": "display_data"
    }
   ],
   "source": [
    "fig_size = (12,6)\n",
    "\n",
    "sns.set_theme(style=\"whitegrid\")\n",
    "plt.figure(figsize=fig_size)\n",
    "\n",
    "ax = sns.scatterplot(\n",
    "    data=df_puglia_2024,\n",
    "    x='valid_date_dt',\n",
    "    y='tp_mm'\n",
    "    );\n",
    "\n",
    "ax = sns.lineplot(\n",
    "    data=df_puglia_2024,\n",
    "    x='valid_date_dt',\n",
    "    y='tp_mm'\n",
    "    );"
   ]
  },
  {
   "cell_type": "code",
   "execution_count": 23,
   "id": "b509df38",
   "metadata": {},
   "outputs": [
    {
     "data": {
      "text/html": [
       "<div>\n",
       "<style scoped>\n",
       "    .dataframe tbody tr th:only-of-type {\n",
       "        vertical-align: middle;\n",
       "    }\n",
       "\n",
       "    .dataframe tbody tr th {\n",
       "        vertical-align: top;\n",
       "    }\n",
       "\n",
       "    .dataframe thead th {\n",
       "        text-align: right;\n",
       "    }\n",
       "</style>\n",
       "<table border=\"1\" class=\"dataframe\">\n",
       "  <thead>\n",
       "    <tr style=\"text-align: right;\">\n",
       "      <th></th>\n",
       "      <th>valid_date_dt</th>\n",
       "      <th>tp_mm</th>\n",
       "    </tr>\n",
       "  </thead>\n",
       "  <tbody>\n",
       "    <tr>\n",
       "      <th>0</th>\n",
       "      <td>2024-01-01</td>\n",
       "      <td>12.4</td>\n",
       "    </tr>\n",
       "    <tr>\n",
       "      <th>1</th>\n",
       "      <td>2024-01-02</td>\n",
       "      <td>11.0</td>\n",
       "    </tr>\n",
       "    <tr>\n",
       "      <th>2</th>\n",
       "      <td>2024-01-03</td>\n",
       "      <td>0.3</td>\n",
       "    </tr>\n",
       "    <tr>\n",
       "      <th>3</th>\n",
       "      <td>2024-01-04</td>\n",
       "      <td>14.6</td>\n",
       "    </tr>\n",
       "    <tr>\n",
       "      <th>4</th>\n",
       "      <td>2024-01-05</td>\n",
       "      <td>4.1</td>\n",
       "    </tr>\n",
       "    <tr>\n",
       "      <th>...</th>\n",
       "      <td>...</td>\n",
       "      <td>...</td>\n",
       "    </tr>\n",
       "    <tr>\n",
       "      <th>361</th>\n",
       "      <td>2024-12-27</td>\n",
       "      <td>0.3</td>\n",
       "    </tr>\n",
       "    <tr>\n",
       "      <th>362</th>\n",
       "      <td>2024-12-28</td>\n",
       "      <td>0.2</td>\n",
       "    </tr>\n",
       "    <tr>\n",
       "      <th>363</th>\n",
       "      <td>2024-12-29</td>\n",
       "      <td>0.0</td>\n",
       "    </tr>\n",
       "    <tr>\n",
       "      <th>364</th>\n",
       "      <td>2024-12-30</td>\n",
       "      <td>0.0</td>\n",
       "    </tr>\n",
       "    <tr>\n",
       "      <th>365</th>\n",
       "      <td>2024-12-31</td>\n",
       "      <td>0.1</td>\n",
       "    </tr>\n",
       "  </tbody>\n",
       "</table>\n",
       "<p>366 rows × 2 columns</p>\n",
       "</div>"
      ],
      "text/plain": [
       "    valid_date_dt  tp_mm\n",
       "0      2024-01-01   12.4\n",
       "1      2024-01-02   11.0\n",
       "2      2024-01-03    0.3\n",
       "3      2024-01-04   14.6\n",
       "4      2024-01-05    4.1\n",
       "..            ...    ...\n",
       "361    2024-12-27    0.3\n",
       "362    2024-12-28    0.2\n",
       "363    2024-12-29    0.0\n",
       "364    2024-12-30    0.0\n",
       "365    2024-12-31    0.1\n",
       "\n",
       "[366 rows x 2 columns]"
      ]
     },
     "execution_count": 23,
     "metadata": {},
     "output_type": "execute_result"
    }
   ],
   "source": [
    "df_london_2024"
   ]
  },
  {
   "cell_type": "code",
   "execution_count": null,
   "id": "45ba3f73",
   "metadata": {},
   "outputs": [],
   "source": []
  },
  {
   "cell_type": "code",
   "execution_count": 62,
   "id": "48041013",
   "metadata": {},
   "outputs": [
    {
     "data": {
      "text/plain": [
       "(2687904, 8)"
      ]
     },
     "execution_count": 62,
     "metadata": {},
     "output_type": "execute_result"
    }
   ],
   "source": [
    "data_puglia_2020_lf = pd.read_csv('./data/2020_puglia_era5_precipitation_long_format.csv',comment = '#')\n",
    "data_puglia_2020_lf.shape"
   ]
  },
  {
   "cell_type": "code",
   "execution_count": 65,
   "id": "01904275",
   "metadata": {},
   "outputs": [
    {
     "data": {
      "text/plain": [
       "18"
      ]
     },
     "execution_count": 65,
     "metadata": {},
     "output_type": "execute_result"
    }
   ],
   "source": [
    "data_puglia_2020_lf['latitude'].nunique()"
   ]
  },
  {
   "cell_type": "code",
   "execution_count": 67,
   "id": "3abc6be0",
   "metadata": {},
   "outputs": [
    {
     "data": {
      "text/plain": [
       "32"
      ]
     },
     "execution_count": 67,
     "metadata": {},
     "output_type": "execute_result"
    }
   ],
   "source": [
    "data_puglia_2020_lf['longitude'].nunique()"
   ]
  },
  {
   "cell_type": "code",
   "execution_count": 68,
   "id": "475daeb3",
   "metadata": {},
   "outputs": [
    {
     "data": {
      "text/plain": [
       "576"
      ]
     },
     "execution_count": 68,
     "metadata": {},
     "output_type": "execute_result"
    }
   ],
   "source": [
    "18*32"
   ]
  },
  {
   "cell_type": "code",
   "execution_count": 70,
   "id": "fbe7a66b",
   "metadata": {},
   "outputs": [
    {
     "data": {
      "text/plain": [
       "5045760"
      ]
     },
     "execution_count": 70,
     "metadata": {},
     "output_type": "execute_result"
    }
   ],
   "source": [
    "(18*32)*24*365"
   ]
  },
  {
   "cell_type": "code",
   "execution_count": 140,
   "id": "d62049b3",
   "metadata": {},
   "outputs": [
    {
     "data": {
      "text/plain": [
       "40.899999999999984"
      ]
     },
     "execution_count": 140,
     "metadata": {},
     "output_type": "execute_result"
    }
   ],
   "source": [
    "data_puglia_2020_lf['latitude'].unique()[10]"
   ]
  },
  {
   "cell_type": "code",
   "execution_count": 169,
   "id": "a9dac092",
   "metadata": {},
   "outputs": [],
   "source": [
    "lats = data_puglia_2020_lf['latitude'].unique()\n",
    "lons = data_puglia_2020_lf['longitude'].unique()\n",
    "latit = []\n",
    "longit = []\n",
    "tp_sum = []\n",
    "\n",
    "for lat in lats:\n",
    "    for lon in lons:\n",
    "        df = data_puglia_2020_lf[(data_puglia_2020_lf['latitude'] == lat) &\n",
    "                                 (data_puglia_2020_lf['longitude'] == lon)]\n",
    "        if df.shape[0] != 0:\n",
    "            # print(f\"lat = {lat}, lon = {lon}, df_shape = {df.shape}\")\n",
    "            latit.append(lat)\n",
    "            longit.append(lon)\n",
    "            df_data = df[(df['latitude'] == lat) & (df['longitude'] == lon)].copy()\n",
    "            test = create_tp_daily_summary(df_data, year=2020)\n",
    "            tp_sum.append(test['tp_mm'].sum())\n",
    "            \n",
    "# for lat in lats:\n",
    "#     print(f\"lat = {lat}, \")"
   ]
  },
  {
   "cell_type": "code",
   "execution_count": 174,
   "id": "cfeed4f2",
   "metadata": {},
   "outputs": [],
   "source": [
    "df_map = pd.DataFrame(\n",
    "        {\n",
    "        'latitude' : latit,\n",
    "        'longitude' : longit,\n",
    "        'tp_mm_year_2022' : tp_sum\n",
    "        }\n",
    "        )"
   ]
  },
  {
   "cell_type": "code",
   "execution_count": 175,
   "id": "f4233edf",
   "metadata": {},
   "outputs": [
    {
     "data": {
      "text/html": [
       "<div>\n",
       "<style scoped>\n",
       "    .dataframe tbody tr th:only-of-type {\n",
       "        vertical-align: middle;\n",
       "    }\n",
       "\n",
       "    .dataframe tbody tr th {\n",
       "        vertical-align: top;\n",
       "    }\n",
       "\n",
       "    .dataframe thead th {\n",
       "        text-align: right;\n",
       "    }\n",
       "</style>\n",
       "<table border=\"1\" class=\"dataframe\">\n",
       "  <thead>\n",
       "    <tr style=\"text-align: right;\">\n",
       "      <th></th>\n",
       "      <th>latitude</th>\n",
       "      <th>longitude</th>\n",
       "      <th>tp_mm_year_2022</th>\n",
       "    </tr>\n",
       "  </thead>\n",
       "  <tbody>\n",
       "    <tr>\n",
       "      <th>0</th>\n",
       "      <td>41.9</td>\n",
       "      <td>15.4</td>\n",
       "      <td>525.3</td>\n",
       "    </tr>\n",
       "    <tr>\n",
       "      <th>1</th>\n",
       "      <td>41.9</td>\n",
       "      <td>15.5</td>\n",
       "      <td>541.9</td>\n",
       "    </tr>\n",
       "    <tr>\n",
       "      <th>2</th>\n",
       "      <td>41.9</td>\n",
       "      <td>15.8</td>\n",
       "      <td>591.9</td>\n",
       "    </tr>\n",
       "    <tr>\n",
       "      <th>3</th>\n",
       "      <td>41.9</td>\n",
       "      <td>15.9</td>\n",
       "      <td>551.9</td>\n",
       "    </tr>\n",
       "    <tr>\n",
       "      <th>4</th>\n",
       "      <td>41.9</td>\n",
       "      <td>16.0</td>\n",
       "      <td>524.2</td>\n",
       "    </tr>\n",
       "    <tr>\n",
       "      <th>...</th>\n",
       "      <td>...</td>\n",
       "      <td>...</td>\n",
       "      <td>...</td>\n",
       "    </tr>\n",
       "    <tr>\n",
       "      <th>301</th>\n",
       "      <td>40.2</td>\n",
       "      <td>18.0</td>\n",
       "      <td>596.8</td>\n",
       "    </tr>\n",
       "    <tr>\n",
       "      <th>302</th>\n",
       "      <td>40.2</td>\n",
       "      <td>18.1</td>\n",
       "      <td>617.2</td>\n",
       "    </tr>\n",
       "    <tr>\n",
       "      <th>303</th>\n",
       "      <td>40.2</td>\n",
       "      <td>18.2</td>\n",
       "      <td>634.1</td>\n",
       "    </tr>\n",
       "    <tr>\n",
       "      <th>304</th>\n",
       "      <td>40.2</td>\n",
       "      <td>18.3</td>\n",
       "      <td>636.4</td>\n",
       "    </tr>\n",
       "    <tr>\n",
       "      <th>305</th>\n",
       "      <td>40.2</td>\n",
       "      <td>18.4</td>\n",
       "      <td>660.5</td>\n",
       "    </tr>\n",
       "  </tbody>\n",
       "</table>\n",
       "<p>306 rows × 3 columns</p>\n",
       "</div>"
      ],
      "text/plain": [
       "     latitude  longitude  tp_mm_year_2022\n",
       "0        41.9       15.4            525.3\n",
       "1        41.9       15.5            541.9\n",
       "2        41.9       15.8            591.9\n",
       "3        41.9       15.9            551.9\n",
       "4        41.9       16.0            524.2\n",
       "..        ...        ...              ...\n",
       "301      40.2       18.0            596.8\n",
       "302      40.2       18.1            617.2\n",
       "303      40.2       18.2            634.1\n",
       "304      40.2       18.3            636.4\n",
       "305      40.2       18.4            660.5\n",
       "\n",
       "[306 rows x 3 columns]"
      ]
     },
     "execution_count": 175,
     "metadata": {},
     "output_type": "execute_result"
    }
   ],
   "source": [
    "df_map"
   ]
  },
  {
   "cell_type": "code",
   "execution_count": null,
   "id": "5579fa37",
   "metadata": {},
   "outputs": [
    {
     "data": {
      "application/vnd.plotly.v1+json": {
       "config": {
        "plotlyServerURL": "https://plot.ly"
       },
       "data": [
        {
         "hovertemplate": "latitude=%{lat}<br>longitude=%{lon}<br>tp_mm_year_2022=%{marker.color}<extra></extra>",
         "lat": [
          41.9,
          41.9,
          41.9,
          41.9,
          41.9,
          41.9,
          41.8,
          41.8,
          41.8,
          41.8,
          41.8,
          41.8,
          41.8,
          41.8,
          41.8,
          41.8,
          41.7,
          41.7,
          41.7,
          41.7,
          41.7,
          41.7,
          41.7,
          41.7,
          41.6,
          41.6,
          41.6,
          41.6,
          41.6,
          41.6,
          41.49999999999999,
          41.49999999999999,
          41.49999999999999,
          41.49999999999999,
          41.49999999999999,
          41.49999999999999,
          41.39999999999999,
          41.39999999999999,
          41.39999999999999,
          41.39999999999999,
          41.39999999999999,
          41.39999999999999,
          41.39999999999999,
          41.39999999999999,
          41.39999999999999,
          41.29999999999999,
          41.29999999999999,
          41.29999999999999,
          41.29999999999999,
          41.29999999999999,
          41.29999999999999,
          41.29999999999999,
          41.29999999999999,
          41.29999999999999,
          41.29999999999999,
          41.29999999999999,
          41.19999999999999,
          41.19999999999999,
          41.19999999999999,
          41.19999999999999,
          41.19999999999999,
          41.19999999999999,
          41.19999999999999,
          41.19999999999999,
          41.19999999999999,
          41.19999999999999,
          41.19999999999999,
          41.19999999999999,
          41.19999999999999,
          41.19999999999999,
          41.19999999999999,
          41.09999999999999,
          41.09999999999999,
          41.09999999999999,
          41.09999999999999,
          41.09999999999999,
          41.09999999999999,
          41.09999999999999,
          41.09999999999999,
          41.09999999999999,
          41.09999999999999,
          41.09999999999999,
          41.09999999999999,
          41.09999999999999,
          41.09999999999999,
          41.09999999999999,
          41.09999999999999,
          41.09999999999999,
          41.09999999999999,
          40.99999999999999,
          40.99999999999999,
          40.99999999999999,
          40.99999999999999,
          40.99999999999999,
          40.99999999999999,
          40.99999999999999,
          40.99999999999999,
          40.99999999999999,
          40.99999999999999,
          40.99999999999999,
          40.99999999999999,
          40.99999999999999,
          40.99999999999999,
          40.99999999999999,
          40.99999999999999,
          40.99999999999999,
          40.99999999999999,
          40.99999999999999,
          40.899999999999984,
          40.899999999999984,
          40.899999999999984,
          40.899999999999984,
          40.899999999999984,
          40.899999999999984,
          40.899999999999984,
          40.899999999999984,
          40.899999999999984,
          40.899999999999984,
          40.899999999999984,
          40.899999999999984,
          40.899999999999984,
          40.899999999999984,
          40.899999999999984,
          40.899999999999984,
          40.899999999999984,
          40.899999999999984,
          40.899999999999984,
          40.899999999999984,
          40.899999999999984,
          40.899999999999984,
          40.79999999999998,
          40.79999999999998,
          40.79999999999998,
          40.79999999999998,
          40.79999999999998,
          40.79999999999998,
          40.79999999999998,
          40.79999999999998,
          40.79999999999998,
          40.79999999999998,
          40.79999999999998,
          40.79999999999998,
          40.79999999999998,
          40.79999999999998,
          40.79999999999998,
          40.79999999999998,
          40.79999999999998,
          40.79999999999998,
          40.79999999999998,
          40.79999999999998,
          40.79999999999998,
          40.79999999999998,
          40.79999999999998,
          40.69999999999998,
          40.69999999999998,
          40.69999999999998,
          40.69999999999998,
          40.69999999999998,
          40.69999999999998,
          40.69999999999998,
          40.69999999999998,
          40.69999999999998,
          40.69999999999998,
          40.69999999999998,
          40.69999999999998,
          40.69999999999998,
          40.69999999999998,
          40.69999999999998,
          40.69999999999998,
          40.69999999999998,
          40.69999999999998,
          40.69999999999998,
          40.69999999999998,
          40.69999999999998,
          40.69999999999998,
          40.69999999999998,
          40.69999999999998,
          40.69999999999998,
          40.69999999999998,
          40.59999999999998,
          40.59999999999998,
          40.59999999999998,
          40.59999999999998,
          40.59999999999998,
          40.59999999999998,
          40.59999999999998,
          40.59999999999998,
          40.59999999999998,
          40.59999999999998,
          40.59999999999998,
          40.59999999999998,
          40.59999999999998,
          40.59999999999998,
          40.59999999999998,
          40.59999999999998,
          40.59999999999998,
          40.59999999999998,
          40.59999999999998,
          40.59999999999998,
          40.59999999999998,
          40.59999999999998,
          40.59999999999998,
          40.59999999999998,
          40.59999999999998,
          40.59999999999998,
          40.59999999999998,
          40.59999999999998,
          40.49999999999998,
          40.49999999999998,
          40.49999999999998,
          40.49999999999998,
          40.49999999999998,
          40.49999999999998,
          40.49999999999998,
          40.49999999999998,
          40.49999999999998,
          40.49999999999998,
          40.49999999999998,
          40.49999999999998,
          40.49999999999998,
          40.49999999999998,
          40.49999999999998,
          40.49999999999998,
          40.49999999999998,
          40.49999999999998,
          40.49999999999998,
          40.49999999999998,
          40.49999999999998,
          40.49999999999998,
          40.49999999999998,
          40.49999999999998,
          40.49999999999998,
          40.49999999999998,
          40.49999999999998,
          40.49999999999998,
          40.49999999999998,
          40.39999999999998,
          40.39999999999998,
          40.39999999999998,
          40.39999999999998,
          40.39999999999998,
          40.39999999999998,
          40.39999999999998,
          40.39999999999998,
          40.39999999999998,
          40.39999999999998,
          40.39999999999998,
          40.39999999999998,
          40.39999999999998,
          40.39999999999998,
          40.39999999999998,
          40.39999999999998,
          40.39999999999998,
          40.39999999999998,
          40.39999999999998,
          40.39999999999998,
          40.39999999999998,
          40.39999999999998,
          40.39999999999998,
          40.39999999999998,
          40.39999999999998,
          40.39999999999998,
          40.299999999999976,
          40.299999999999976,
          40.299999999999976,
          40.299999999999976,
          40.299999999999976,
          40.299999999999976,
          40.299999999999976,
          40.299999999999976,
          40.299999999999976,
          40.299999999999976,
          40.299999999999976,
          40.299999999999976,
          40.299999999999976,
          40.299999999999976,
          40.299999999999976,
          40.299999999999976,
          40.299999999999976,
          40.299999999999976,
          40.299999999999976,
          40.299999999999976,
          40.299999999999976,
          40.299999999999976,
          40.299999999999976,
          40.299999999999976,
          40.2,
          40.2,
          40.2,
          40.2,
          40.2,
          40.2,
          40.2,
          40.2,
          40.2,
          40.2,
          40.2,
          40.2,
          40.2,
          40.2,
          40.2,
          40.2,
          40.2,
          40.2,
          40.2,
          40.2
         ],
         "legendgroup": "",
         "lon": [
          15.4,
          15.5,
          15.8,
          15.9,
          15.999999999999998,
          16.099999999999998,
          15.4,
          15.5,
          15.8,
          15.9,
          15.999999999999998,
          16.099999999999998,
          15.3,
          15.6,
          15.7,
          16.2,
          15.4,
          15.5,
          15.8,
          15.9,
          15.999999999999998,
          15.3,
          15.6,
          15.7,
          15.4,
          15.5,
          15.8,
          15.3,
          15.6,
          15.7,
          15.4,
          15.5,
          15.8,
          15.3,
          15.6,
          15.7,
          15.4,
          15.5,
          15.8,
          15.9,
          15.999999999999998,
          16.099999999999998,
          15.3,
          15.6,
          15.7,
          15.4,
          15.5,
          15.8,
          15.9,
          15.999999999999998,
          16.099999999999998,
          15.3,
          15.6,
          15.7,
          16.2,
          16.3,
          15.4,
          15.5,
          15.8,
          15.9,
          15.999999999999998,
          16.099999999999998,
          15.3,
          15.6,
          15.7,
          16.2,
          16.3,
          16.400000000000002,
          16.500000000000004,
          16.600000000000005,
          16.700000000000006,
          15.4,
          15.5,
          15.8,
          15.9,
          15.999999999999998,
          16.099999999999998,
          15.3,
          15.6,
          15.7,
          16.2,
          16.3,
          16.400000000000002,
          16.500000000000004,
          16.600000000000005,
          16.700000000000006,
          16.800000000000008,
          16.90000000000001,
          17.00000000000001,
          15.4,
          15.5,
          15.8,
          15.9,
          15.999999999999998,
          16.099999999999998,
          15.3,
          15.6,
          15.7,
          16.2,
          16.3,
          16.400000000000002,
          16.500000000000004,
          16.600000000000005,
          16.700000000000006,
          16.800000000000008,
          16.90000000000001,
          17.00000000000001,
          17.100000000000012,
          15.4,
          15.5,
          15.8,
          15.9,
          15.999999999999998,
          16.099999999999998,
          15.3,
          15.6,
          15.7,
          16.2,
          16.3,
          16.400000000000002,
          16.500000000000004,
          16.600000000000005,
          16.700000000000006,
          16.800000000000008,
          16.90000000000001,
          17.00000000000001,
          17.100000000000012,
          17.200000000000014,
          17.300000000000015,
          17.400000000000016,
          15.4,
          15.5,
          15.8,
          15.9,
          15.999999999999998,
          16.099999999999998,
          15.3,
          15.6,
          15.7,
          16.2,
          16.3,
          16.400000000000002,
          16.500000000000004,
          16.600000000000005,
          16.700000000000006,
          16.800000000000008,
          16.90000000000001,
          17.00000000000001,
          17.100000000000012,
          17.200000000000014,
          17.300000000000015,
          17.400000000000016,
          17.500000000000018,
          15.4,
          15.5,
          15.8,
          15.9,
          15.999999999999998,
          16.099999999999998,
          15.3,
          15.6,
          15.7,
          16.2,
          16.3,
          16.400000000000002,
          16.500000000000004,
          16.600000000000005,
          16.700000000000006,
          16.800000000000008,
          16.90000000000001,
          17.00000000000001,
          17.100000000000012,
          17.200000000000014,
          17.300000000000015,
          17.400000000000016,
          17.500000000000018,
          17.60000000000002,
          17.70000000000002,
          17.800000000000022,
          15.4,
          15.5,
          15.8,
          15.9,
          15.999999999999998,
          16.099999999999998,
          15.3,
          15.6,
          15.7,
          16.2,
          16.3,
          16.400000000000002,
          16.500000000000004,
          16.600000000000005,
          16.700000000000006,
          16.800000000000008,
          16.90000000000001,
          17.00000000000001,
          17.100000000000012,
          17.200000000000014,
          17.300000000000015,
          17.400000000000016,
          17.500000000000018,
          17.60000000000002,
          17.70000000000002,
          17.800000000000022,
          17.900000000000023,
          18.000000000000025,
          15.4,
          15.5,
          15.8,
          15.9,
          15.999999999999998,
          16.099999999999998,
          15.3,
          15.6,
          15.7,
          16.2,
          16.3,
          16.400000000000002,
          16.500000000000004,
          16.600000000000005,
          16.700000000000006,
          16.800000000000008,
          16.90000000000001,
          17.00000000000001,
          17.100000000000012,
          17.200000000000014,
          17.300000000000015,
          17.400000000000016,
          17.500000000000018,
          17.60000000000002,
          17.70000000000002,
          17.800000000000022,
          17.900000000000023,
          18.000000000000025,
          18.100000000000023,
          15.4,
          15.5,
          15.8,
          15.9,
          15.999999999999998,
          16.099999999999998,
          15.3,
          15.6,
          15.7,
          16.2,
          16.3,
          16.400000000000002,
          16.500000000000004,
          16.600000000000005,
          16.700000000000006,
          17.300000000000015,
          17.400000000000016,
          17.500000000000018,
          17.60000000000002,
          17.70000000000002,
          17.800000000000022,
          17.900000000000023,
          18.000000000000025,
          18.100000000000023,
          18.200000000000028,
          18.30000000000003,
          15.4,
          15.5,
          15.8,
          15.9,
          15.999999999999998,
          16.099999999999998,
          15.3,
          15.6,
          15.7,
          16.2,
          16.3,
          16.400000000000002,
          16.500000000000004,
          16.600000000000005,
          16.700000000000006,
          17.60000000000002,
          17.70000000000002,
          17.800000000000022,
          17.900000000000023,
          18.000000000000025,
          18.100000000000023,
          18.200000000000028,
          18.30000000000003,
          18.40000000000003,
          15.4,
          15.5,
          15.8,
          15.9,
          15.999999999999998,
          16.099999999999998,
          15.3,
          15.6,
          15.7,
          16.2,
          16.3,
          16.400000000000002,
          16.500000000000004,
          16.600000000000005,
          16.700000000000006,
          18.000000000000025,
          18.100000000000023,
          18.200000000000028,
          18.30000000000003,
          18.40000000000003
         ],
         "marker": {
          "color": [
           525.3,
           541.9,
           591.9,
           551.8999999999999,
           524.2,
           492.59999999999997,
           537.8000000000001,
           544.3000000000001,
           618.0999999999999,
           602.5,
           573.5,
           542.8,
           542.4000000000001,
           570.9,
           600,
           525,
           542.7,
           545.7,
           617.3,
           626.3,
           602.9,
           547.7,
           575.9,
           607.0999999999999,
           523.5999999999999,
           530.2,
           550.3,
           529,
           553.9000000000001,
           561.7,
           516.4000000000001,
           509.4,
           466.2,
           549.2,
           508.09999999999997,
           487.29999999999995,
           538.0999999999999,
           514.5,
           447.6,
           436.70000000000005,
           435.1,
           442.5999999999999,
           574.4000000000001,
           488.40000000000003,
           466.50000000000006,
           589.3,
           573.3,
           490.70000000000005,
           477.70000000000005,
           476.8,
           472.5,
           609.6,
           539.8,
           511.4,
           471.09999999999997,
           472.1,
           647.1000000000001,
           627.7,
           532.8,
           520,
           517.5,
           513.8,
           660.3,
           595.7,
           562.8000000000001,
           510.5,
           512.8,
           516.4,
           519.1999999999999,
           522,
           497.2,
           677.6000000000001,
           655.8,
           573.5,
           563.5,
           560.3000000000001,
           556.2,
           691.1,
           626.5,
           594.3,
           552.3,
           555.8,
           559.0999999999999,
           561.9,
           560.8,
           544.8,
           519.8,
           503.8,
           490.90000000000003,
           699.0999999999999,
           674.3000000000001,
           613.5,
           606.2,
           603.3,
           602.5999999999999,
           731.0999999999999,
           650.2,
           627.0999999999999,
           598.7,
           601.2,
           607.0999999999999,
           613.2,
           612.5,
           598.3,
           580.7,
           560.5999999999999,
           540.2,
           520.3,
           749.1,
           697.8,
           654.9000000000001,
           646.6999999999998,
           644.9,
           642.5,
           819.1999999999999,
           682.4000000000001,
           667.5,
           640,
           642.3,
           649.5,
           657.0999999999999,
           653.2,
           641.6999999999999,
           628.2,
           612.7,
           587.4,
           559.4,
           527.8,
           501.3,
           494.69999999999993,
           784.8,
           720.0999999999999,
           677.2,
           669,
           663.0999999999999,
           658.7,
           865.1,
           702.9,
           690.5,
           634.2,
           626.7,
           631.4000000000001,
           637.5999999999999,
           634.6999999999999,
           623.4000000000001,
           608.3000000000001,
           593.7,
           583.9,
           559.7,
           529.4,
           505.49999999999994,
           493.40000000000003,
           483.2,
           801.5,
           741.1,
           693.3,
           684.3,
           664.1,
           638.5999999999999,
           891.5,
           717.5,
           706.1,
           607.4000000000001,
           603.5,
           601.7,
           604.7,
           602.9000000000001,
           588.5,
           572,
           557,
           545.9000000000001,
           538.5,
           522.5999999999999,
           498.8,
           493.99999999999994,
           495.70000000000005,
           504.6,
           505.69999999999993,
           502.1,
           828,
           768.5999999999999,
           719.6999999999999,
           687.3,
           655.5,
           621.8,
           918.6999999999999,
           744.2,
           732.8,
           596.3999999999999,
           587.3,
           585.7,
           583.5,
           572.9,
           555.2,
           538.2,
           521.9,
           511.6,
           503.9,
           497.1,
           493.2,
           500,
           508.8,
           516.1999999999999,
           520,
           516.2,
           513.2,
           512.7,
           958.1999999999998,
           882.8,
           784.1,
           721.8,
           683.6,
           648.5,
           1047.9999999999998,
           872.4000000000001,
           832.3,
           624.8000000000001,
           613.3,
           608.9,
           598.0999999999999,
           573.5999999999999,
           542.2,
           523.8,
           507.5,
           502.09999999999997,
           495.29999999999995,
           477.9,
           470.29999999999995,
           480.59999999999997,
           490.4,
           498,
           500.29999999999995,
           499.59999999999997,
           508.4,
           529.4000000000001,
           550.1,
           1072.8,
           1014.4,
           822.4,
           762.4,
           718.8999999999999,
           678.2,
           1121.4999999999998,
           979.5,
           897.8999999999999,
           648.4,
           635,
           624.5999999999999,
           607.3999999999999,
           584.1,
           550.6,
           454.49999999999994,
           458,
           467.90000000000003,
           478.29999999999995,
           485.1,
           496.9,
           520.7,
           545.5,
           567.1,
           588.9,
           603.3000000000001,
           1119.3,
           1082.4,
           855.4,
           799.5,
           754.8000000000001,
           722.5,
           1141.6,
           1018.6999999999999,
           938.0999999999999,
           686.0999999999999,
           661.1,
           644.1,
           628.7,
           606.1999999999999,
           571.1000000000001,
           466.4,
           486.79999999999995,
           508.80000000000007,
           539.5,
           564.0999999999999,
           586.8,
           608.4,
           625.4,
           635.3,
           1088.2000000000003,
           1073.8000000000002,
           880.4999999999999,
           822.2999999999998,
           786.8,
           778.6,
           1090.9,
           1029.4,
           957.5,
           768.4,
           731.8,
           690.6,
           674.5,
           650.9,
           623.5,
           596.8,
           617.2,
           634.1,
           636.4000000000001,
           660.5
          ],
          "coloraxis": "coloraxis"
         },
         "mode": "markers",
         "name": "",
         "showlegend": false,
         "subplot": "mapbox",
         "type": "scattermapbox"
        }
       ],
       "layout": {
        "coloraxis": {
         "colorbar": {
          "title": {
           "text": "tp_mm_year_2022"
          }
         },
         "colorscale": [
          [
           0,
           "#440154"
          ],
          [
           0.1111111111111111,
           "#482878"
          ],
          [
           0.2222222222222222,
           "#3e4989"
          ],
          [
           0.3333333333333333,
           "#31688e"
          ],
          [
           0.4444444444444444,
           "#26828e"
          ],
          [
           0.5555555555555556,
           "#1f9e89"
          ],
          [
           0.6666666666666666,
           "#35b779"
          ],
          [
           0.7777777777777778,
           "#6ece58"
          ],
          [
           0.8888888888888888,
           "#b5de2b"
          ],
          [
           1,
           "#fde725"
          ]
         ]
        },
        "legend": {
         "tracegroupgap": 0
        },
        "mapbox": {
         "center": {
          "lat": 40.832026143790834,
          "lon": 16.353267973856216
         },
         "domain": {
          "x": [
           0,
           1
          ],
          "y": [
           0,
           1
          ]
         },
         "style": "open-street-map",
         "zoom": 5
        },
        "template": {
         "data": {
          "bar": [
           {
            "error_x": {
             "color": "#2a3f5f"
            },
            "error_y": {
             "color": "#2a3f5f"
            },
            "marker": {
             "line": {
              "color": "#E5ECF6",
              "width": 0.5
             },
             "pattern": {
              "fillmode": "overlay",
              "size": 10,
              "solidity": 0.2
             }
            },
            "type": "bar"
           }
          ],
          "barpolar": [
           {
            "marker": {
             "line": {
              "color": "#E5ECF6",
              "width": 0.5
             },
             "pattern": {
              "fillmode": "overlay",
              "size": 10,
              "solidity": 0.2
             }
            },
            "type": "barpolar"
           }
          ],
          "carpet": [
           {
            "aaxis": {
             "endlinecolor": "#2a3f5f",
             "gridcolor": "white",
             "linecolor": "white",
             "minorgridcolor": "white",
             "startlinecolor": "#2a3f5f"
            },
            "baxis": {
             "endlinecolor": "#2a3f5f",
             "gridcolor": "white",
             "linecolor": "white",
             "minorgridcolor": "white",
             "startlinecolor": "#2a3f5f"
            },
            "type": "carpet"
           }
          ],
          "choropleth": [
           {
            "colorbar": {
             "outlinewidth": 0,
             "ticks": ""
            },
            "type": "choropleth"
           }
          ],
          "contour": [
           {
            "colorbar": {
             "outlinewidth": 0,
             "ticks": ""
            },
            "colorscale": [
             [
              0,
              "#0d0887"
             ],
             [
              0.1111111111111111,
              "#46039f"
             ],
             [
              0.2222222222222222,
              "#7201a8"
             ],
             [
              0.3333333333333333,
              "#9c179e"
             ],
             [
              0.4444444444444444,
              "#bd3786"
             ],
             [
              0.5555555555555556,
              "#d8576b"
             ],
             [
              0.6666666666666666,
              "#ed7953"
             ],
             [
              0.7777777777777778,
              "#fb9f3a"
             ],
             [
              0.8888888888888888,
              "#fdca26"
             ],
             [
              1,
              "#f0f921"
             ]
            ],
            "type": "contour"
           }
          ],
          "contourcarpet": [
           {
            "colorbar": {
             "outlinewidth": 0,
             "ticks": ""
            },
            "type": "contourcarpet"
           }
          ],
          "heatmap": [
           {
            "colorbar": {
             "outlinewidth": 0,
             "ticks": ""
            },
            "colorscale": [
             [
              0,
              "#0d0887"
             ],
             [
              0.1111111111111111,
              "#46039f"
             ],
             [
              0.2222222222222222,
              "#7201a8"
             ],
             [
              0.3333333333333333,
              "#9c179e"
             ],
             [
              0.4444444444444444,
              "#bd3786"
             ],
             [
              0.5555555555555556,
              "#d8576b"
             ],
             [
              0.6666666666666666,
              "#ed7953"
             ],
             [
              0.7777777777777778,
              "#fb9f3a"
             ],
             [
              0.8888888888888888,
              "#fdca26"
             ],
             [
              1,
              "#f0f921"
             ]
            ],
            "type": "heatmap"
           }
          ],
          "heatmapgl": [
           {
            "colorbar": {
             "outlinewidth": 0,
             "ticks": ""
            },
            "colorscale": [
             [
              0,
              "#0d0887"
             ],
             [
              0.1111111111111111,
              "#46039f"
             ],
             [
              0.2222222222222222,
              "#7201a8"
             ],
             [
              0.3333333333333333,
              "#9c179e"
             ],
             [
              0.4444444444444444,
              "#bd3786"
             ],
             [
              0.5555555555555556,
              "#d8576b"
             ],
             [
              0.6666666666666666,
              "#ed7953"
             ],
             [
              0.7777777777777778,
              "#fb9f3a"
             ],
             [
              0.8888888888888888,
              "#fdca26"
             ],
             [
              1,
              "#f0f921"
             ]
            ],
            "type": "heatmapgl"
           }
          ],
          "histogram": [
           {
            "marker": {
             "pattern": {
              "fillmode": "overlay",
              "size": 10,
              "solidity": 0.2
             }
            },
            "type": "histogram"
           }
          ],
          "histogram2d": [
           {
            "colorbar": {
             "outlinewidth": 0,
             "ticks": ""
            },
            "colorscale": [
             [
              0,
              "#0d0887"
             ],
             [
              0.1111111111111111,
              "#46039f"
             ],
             [
              0.2222222222222222,
              "#7201a8"
             ],
             [
              0.3333333333333333,
              "#9c179e"
             ],
             [
              0.4444444444444444,
              "#bd3786"
             ],
             [
              0.5555555555555556,
              "#d8576b"
             ],
             [
              0.6666666666666666,
              "#ed7953"
             ],
             [
              0.7777777777777778,
              "#fb9f3a"
             ],
             [
              0.8888888888888888,
              "#fdca26"
             ],
             [
              1,
              "#f0f921"
             ]
            ],
            "type": "histogram2d"
           }
          ],
          "histogram2dcontour": [
           {
            "colorbar": {
             "outlinewidth": 0,
             "ticks": ""
            },
            "colorscale": [
             [
              0,
              "#0d0887"
             ],
             [
              0.1111111111111111,
              "#46039f"
             ],
             [
              0.2222222222222222,
              "#7201a8"
             ],
             [
              0.3333333333333333,
              "#9c179e"
             ],
             [
              0.4444444444444444,
              "#bd3786"
             ],
             [
              0.5555555555555556,
              "#d8576b"
             ],
             [
              0.6666666666666666,
              "#ed7953"
             ],
             [
              0.7777777777777778,
              "#fb9f3a"
             ],
             [
              0.8888888888888888,
              "#fdca26"
             ],
             [
              1,
              "#f0f921"
             ]
            ],
            "type": "histogram2dcontour"
           }
          ],
          "mesh3d": [
           {
            "colorbar": {
             "outlinewidth": 0,
             "ticks": ""
            },
            "type": "mesh3d"
           }
          ],
          "parcoords": [
           {
            "line": {
             "colorbar": {
              "outlinewidth": 0,
              "ticks": ""
             }
            },
            "type": "parcoords"
           }
          ],
          "pie": [
           {
            "automargin": true,
            "type": "pie"
           }
          ],
          "scatter": [
           {
            "fillpattern": {
             "fillmode": "overlay",
             "size": 10,
             "solidity": 0.2
            },
            "type": "scatter"
           }
          ],
          "scatter3d": [
           {
            "line": {
             "colorbar": {
              "outlinewidth": 0,
              "ticks": ""
             }
            },
            "marker": {
             "colorbar": {
              "outlinewidth": 0,
              "ticks": ""
             }
            },
            "type": "scatter3d"
           }
          ],
          "scattercarpet": [
           {
            "marker": {
             "colorbar": {
              "outlinewidth": 0,
              "ticks": ""
             }
            },
            "type": "scattercarpet"
           }
          ],
          "scattergeo": [
           {
            "marker": {
             "colorbar": {
              "outlinewidth": 0,
              "ticks": ""
             }
            },
            "type": "scattergeo"
           }
          ],
          "scattergl": [
           {
            "marker": {
             "colorbar": {
              "outlinewidth": 0,
              "ticks": ""
             }
            },
            "type": "scattergl"
           }
          ],
          "scattermapbox": [
           {
            "marker": {
             "colorbar": {
              "outlinewidth": 0,
              "ticks": ""
             }
            },
            "type": "scattermapbox"
           }
          ],
          "scatterpolar": [
           {
            "marker": {
             "colorbar": {
              "outlinewidth": 0,
              "ticks": ""
             }
            },
            "type": "scatterpolar"
           }
          ],
          "scatterpolargl": [
           {
            "marker": {
             "colorbar": {
              "outlinewidth": 0,
              "ticks": ""
             }
            },
            "type": "scatterpolargl"
           }
          ],
          "scatterternary": [
           {
            "marker": {
             "colorbar": {
              "outlinewidth": 0,
              "ticks": ""
             }
            },
            "type": "scatterternary"
           }
          ],
          "surface": [
           {
            "colorbar": {
             "outlinewidth": 0,
             "ticks": ""
            },
            "colorscale": [
             [
              0,
              "#0d0887"
             ],
             [
              0.1111111111111111,
              "#46039f"
             ],
             [
              0.2222222222222222,
              "#7201a8"
             ],
             [
              0.3333333333333333,
              "#9c179e"
             ],
             [
              0.4444444444444444,
              "#bd3786"
             ],
             [
              0.5555555555555556,
              "#d8576b"
             ],
             [
              0.6666666666666666,
              "#ed7953"
             ],
             [
              0.7777777777777778,
              "#fb9f3a"
             ],
             [
              0.8888888888888888,
              "#fdca26"
             ],
             [
              1,
              "#f0f921"
             ]
            ],
            "type": "surface"
           }
          ],
          "table": [
           {
            "cells": {
             "fill": {
              "color": "#EBF0F8"
             },
             "line": {
              "color": "white"
             }
            },
            "header": {
             "fill": {
              "color": "#C8D4E3"
             },
             "line": {
              "color": "white"
             }
            },
            "type": "table"
           }
          ]
         },
         "layout": {
          "annotationdefaults": {
           "arrowcolor": "#2a3f5f",
           "arrowhead": 0,
           "arrowwidth": 1
          },
          "autotypenumbers": "strict",
          "coloraxis": {
           "colorbar": {
            "outlinewidth": 0,
            "ticks": ""
           }
          },
          "colorscale": {
           "diverging": [
            [
             0,
             "#8e0152"
            ],
            [
             0.1,
             "#c51b7d"
            ],
            [
             0.2,
             "#de77ae"
            ],
            [
             0.3,
             "#f1b6da"
            ],
            [
             0.4,
             "#fde0ef"
            ],
            [
             0.5,
             "#f7f7f7"
            ],
            [
             0.6,
             "#e6f5d0"
            ],
            [
             0.7,
             "#b8e186"
            ],
            [
             0.8,
             "#7fbc41"
            ],
            [
             0.9,
             "#4d9221"
            ],
            [
             1,
             "#276419"
            ]
           ],
           "sequential": [
            [
             0,
             "#0d0887"
            ],
            [
             0.1111111111111111,
             "#46039f"
            ],
            [
             0.2222222222222222,
             "#7201a8"
            ],
            [
             0.3333333333333333,
             "#9c179e"
            ],
            [
             0.4444444444444444,
             "#bd3786"
            ],
            [
             0.5555555555555556,
             "#d8576b"
            ],
            [
             0.6666666666666666,
             "#ed7953"
            ],
            [
             0.7777777777777778,
             "#fb9f3a"
            ],
            [
             0.8888888888888888,
             "#fdca26"
            ],
            [
             1,
             "#f0f921"
            ]
           ],
           "sequentialminus": [
            [
             0,
             "#0d0887"
            ],
            [
             0.1111111111111111,
             "#46039f"
            ],
            [
             0.2222222222222222,
             "#7201a8"
            ],
            [
             0.3333333333333333,
             "#9c179e"
            ],
            [
             0.4444444444444444,
             "#bd3786"
            ],
            [
             0.5555555555555556,
             "#d8576b"
            ],
            [
             0.6666666666666666,
             "#ed7953"
            ],
            [
             0.7777777777777778,
             "#fb9f3a"
            ],
            [
             0.8888888888888888,
             "#fdca26"
            ],
            [
             1,
             "#f0f921"
            ]
           ]
          },
          "colorway": [
           "#636efa",
           "#EF553B",
           "#00cc96",
           "#ab63fa",
           "#FFA15A",
           "#19d3f3",
           "#FF6692",
           "#B6E880",
           "#FF97FF",
           "#FECB52"
          ],
          "font": {
           "color": "#2a3f5f"
          },
          "geo": {
           "bgcolor": "white",
           "lakecolor": "white",
           "landcolor": "#E5ECF6",
           "showlakes": true,
           "showland": true,
           "subunitcolor": "white"
          },
          "hoverlabel": {
           "align": "left"
          },
          "hovermode": "closest",
          "mapbox": {
           "style": "light"
          },
          "paper_bgcolor": "white",
          "plot_bgcolor": "#E5ECF6",
          "polar": {
           "angularaxis": {
            "gridcolor": "white",
            "linecolor": "white",
            "ticks": ""
           },
           "bgcolor": "#E5ECF6",
           "radialaxis": {
            "gridcolor": "white",
            "linecolor": "white",
            "ticks": ""
           }
          },
          "scene": {
           "xaxis": {
            "backgroundcolor": "#E5ECF6",
            "gridcolor": "white",
            "gridwidth": 2,
            "linecolor": "white",
            "showbackground": true,
            "ticks": "",
            "zerolinecolor": "white"
           },
           "yaxis": {
            "backgroundcolor": "#E5ECF6",
            "gridcolor": "white",
            "gridwidth": 2,
            "linecolor": "white",
            "showbackground": true,
            "ticks": "",
            "zerolinecolor": "white"
           },
           "zaxis": {
            "backgroundcolor": "#E5ECF6",
            "gridcolor": "white",
            "gridwidth": 2,
            "linecolor": "white",
            "showbackground": true,
            "ticks": "",
            "zerolinecolor": "white"
           }
          },
          "shapedefaults": {
           "line": {
            "color": "#2a3f5f"
           }
          },
          "ternary": {
           "aaxis": {
            "gridcolor": "white",
            "linecolor": "white",
            "ticks": ""
           },
           "baxis": {
            "gridcolor": "white",
            "linecolor": "white",
            "ticks": ""
           },
           "bgcolor": "#E5ECF6",
           "caxis": {
            "gridcolor": "white",
            "linecolor": "white",
            "ticks": ""
           }
          },
          "title": {
           "x": 0.05
          },
          "xaxis": {
           "automargin": true,
           "gridcolor": "white",
           "linecolor": "white",
           "ticks": "",
           "title": {
            "standoff": 15
           },
           "zerolinecolor": "white",
           "zerolinewidth": 2
          },
          "yaxis": {
           "automargin": true,
           "gridcolor": "white",
           "linecolor": "white",
           "ticks": "",
           "title": {
            "standoff": 15
           },
           "zerolinecolor": "white",
           "zerolinewidth": 2
          }
         }
        },
        "title": {
         "text": "Precipitation Map"
        }
       }
      }
     },
     "metadata": {},
     "output_type": "display_data"
    },
    {
     "data": {
      "text/plain": [
       "<Figure size 1200x1200 with 0 Axes>"
      ]
     },
     "metadata": {},
     "output_type": "display_data"
    }
   ],
   "source": [
    "import plotly.express as px\n",
    "\n",
    "fig_size = (12,12)\n",
    "\n",
    "sns.set_theme(style=\"whitegrid\")\n",
    "plt.figure(figsize=fig_size)\n",
    "\n",
    "fig = px.scatter_mapbox(\n",
    "    df_map, \n",
    "    lat=\"latitude\", \n",
    "    lon=\"longitude\", \n",
    "    color=\"tp_mm_year_2022\",\n",
    "    size_max=15,\n",
    "    zoom=5,\n",
    "    mapbox_style=\"open-street-map\",\n",
    "    title=\"Precipitation Map\",\n",
    "    color_continuous_scale=\"Viridis\"\n",
    ")\n",
    "\n",
    "fig.show();"
   ]
  },
  {
   "cell_type": "code",
   "execution_count": null,
   "id": "24fb1ee4",
   "metadata": {},
   "outputs": [],
   "source": []
  },
  {
   "cell_type": "code",
   "execution_count": null,
   "id": "6d4e63d7",
   "metadata": {},
   "outputs": [],
   "source": []
  },
  {
   "cell_type": "code",
   "execution_count": null,
   "id": "2a52bcd5",
   "metadata": {},
   "outputs": [],
   "source": []
  },
  {
   "cell_type": "code",
   "execution_count": 167,
   "id": "551ba25e",
   "metadata": {},
   "outputs": [
    {
     "data": {
      "text/plain": [
       "<Axes: >"
      ]
     },
     "execution_count": 167,
     "metadata": {},
     "output_type": "execute_result"
    },
    {
     "data": {
      "image/png": "[encoded data removed]",
      "text/plain": [
       "<Figure size 640x480 with 1 Axes>"
      ]
     },
     "metadata": {},
     "output_type": "display_data"
    }
   ],
   "source": [
    "sns.scatterplot(\n",
    "    x = np.arange(0, len(tp_sum)),\n",
    "    y = tp_sum\n",
    ")"
   ]
  },
  {
   "cell_type": "code",
   "execution_count": 159,
   "id": "94ed4be3",
   "metadata": {},
   "outputs": [
    {
     "data": {
      "text/plain": [
       "306"
      ]
     },
     "execution_count": 159,
     "metadata": {},
     "output_type": "execute_result"
    }
   ],
   "source": [
    "len(lat_lon)"
   ]
  },
  {
   "cell_type": "code",
   "execution_count": null,
   "id": "9a4cc5f3",
   "metadata": {},
   "outputs": [],
   "source": []
  },
  {
   "cell_type": "code",
   "execution_count": null,
   "id": "9da6a89c",
   "metadata": {},
   "outputs": [],
   "source": []
  },
  {
   "cell_type": "code",
   "execution_count": null,
   "id": "83135f85",
   "metadata": {},
   "outputs": [],
   "source": []
  },
  {
   "cell_type": "code",
   "execution_count": null,
   "id": "6c8bb1ec",
   "metadata": {},
   "outputs": [],
   "source": []
  },
  {
   "cell_type": "code",
   "execution_count": null,
   "id": "c42ad4e4",
   "metadata": {},
   "outputs": [
    {
     "name": "stdout",
     "output_type": "stream",
     "text": [
      "41.9\n",
      "41.8\n",
      "41.7\n",
      "41.6\n",
      "41.49999999999999\n",
      "41.39999999999999\n",
      "41.29999999999999\n",
      "41.19999999999999\n",
      "41.09999999999999\n",
      "40.99999999999999\n",
      "40.899999999999984\n",
      "40.79999999999998\n",
      "40.69999999999998\n",
      "40.59999999999998\n",
      "40.49999999999998\n",
      "40.39999999999998\n",
      "40.299999999999976\n",
      "40.2\n"
     ]
    }
   ],
   "source": []
  },
  {
   "cell_type": "code",
   "execution_count": 130,
   "id": "9262bd8a",
   "metadata": {},
   "outputs": [
    {
     "data": {
      "text/html": [
       "<div>\n",
       "<style scoped>\n",
       "    .dataframe tbody tr th:only-of-type {\n",
       "        vertical-align: middle;\n",
       "    }\n",
       "\n",
       "    .dataframe tbody tr th {\n",
       "        vertical-align: top;\n",
       "    }\n",
       "\n",
       "    .dataframe thead th {\n",
       "        text-align: right;\n",
       "    }\n",
       "</style>\n",
       "<table border=\"1\" class=\"dataframe\">\n",
       "  <thead>\n",
       "    <tr style=\"text-align: right;\">\n",
       "      <th></th>\n",
       "      <th>time</th>\n",
       "      <th>step</th>\n",
       "      <th>latitude</th>\n",
       "      <th>longitude</th>\n",
       "      <th>number</th>\n",
       "      <th>surface</th>\n",
       "      <th>valid_time</th>\n",
       "      <th>tp</th>\n",
       "    </tr>\n",
       "  </thead>\n",
       "  <tbody>\n",
       "  </tbody>\n",
       "</table>\n",
       "</div>"
      ],
      "text/plain": [
       "Empty DataFrame\n",
       "Columns: [time, step, latitude, longitude, number, surface, valid_time, tp]\n",
       "Index: []"
      ]
     },
     "execution_count": 130,
     "metadata": {},
     "output_type": "execute_result"
    }
   ],
   "source": [
    "data_puglia_2020_lf[(data_puglia_2020_lf['step'].str[0] == '1') & \n",
    "                    (data_puglia_2020_lf['time'] == '2020-01-03') &\n",
    "                    (data_puglia_2020_lf['latitude'] == 40.5)]"
   ]
  },
  {
   "cell_type": "code",
   "execution_count": 142,
   "id": "b8c3a6f7",
   "metadata": {},
   "outputs": [
    {
     "data": {
      "text/html": [
       "<div>\n",
       "<style scoped>\n",
       "    .dataframe tbody tr th:only-of-type {\n",
       "        vertical-align: middle;\n",
       "    }\n",
       "\n",
       "    .dataframe tbody tr th {\n",
       "        vertical-align: top;\n",
       "    }\n",
       "\n",
       "    .dataframe thead th {\n",
       "        text-align: right;\n",
       "    }\n",
       "</style>\n",
       "<table border=\"1\" class=\"dataframe\">\n",
       "  <thead>\n",
       "    <tr style=\"text-align: right;\">\n",
       "      <th></th>\n",
       "      <th>time</th>\n",
       "      <th>step</th>\n",
       "      <th>latitude</th>\n",
       "      <th>longitude</th>\n",
       "      <th>number</th>\n",
       "      <th>surface</th>\n",
       "      <th>valid_time</th>\n",
       "      <th>tp</th>\n",
       "    </tr>\n",
       "  </thead>\n",
       "  <tbody>\n",
       "    <tr>\n",
       "      <th>22140</th>\n",
       "      <td>2020-01-03</td>\n",
       "      <td>1 days 00:00:00</td>\n",
       "      <td>40.9</td>\n",
       "      <td>15.3</td>\n",
       "      <td>0</td>\n",
       "      <td>0.0</td>\n",
       "      <td>2020-01-04 00:00:00</td>\n",
       "      <td>0.000002</td>\n",
       "    </tr>\n",
       "    <tr>\n",
       "      <th>22141</th>\n",
       "      <td>2020-01-03</td>\n",
       "      <td>1 days 00:00:00</td>\n",
       "      <td>40.9</td>\n",
       "      <td>15.4</td>\n",
       "      <td>0</td>\n",
       "      <td>0.0</td>\n",
       "      <td>2020-01-04 00:00:00</td>\n",
       "      <td>0.000002</td>\n",
       "    </tr>\n",
       "    <tr>\n",
       "      <th>22142</th>\n",
       "      <td>2020-01-03</td>\n",
       "      <td>1 days 00:00:00</td>\n",
       "      <td>40.9</td>\n",
       "      <td>15.5</td>\n",
       "      <td>0</td>\n",
       "      <td>0.0</td>\n",
       "      <td>2020-01-04 00:00:00</td>\n",
       "      <td>0.000002</td>\n",
       "    </tr>\n",
       "    <tr>\n",
       "      <th>22143</th>\n",
       "      <td>2020-01-03</td>\n",
       "      <td>1 days 00:00:00</td>\n",
       "      <td>40.9</td>\n",
       "      <td>15.6</td>\n",
       "      <td>0</td>\n",
       "      <td>0.0</td>\n",
       "      <td>2020-01-04 00:00:00</td>\n",
       "      <td>0.000002</td>\n",
       "    </tr>\n",
       "    <tr>\n",
       "      <th>22144</th>\n",
       "      <td>2020-01-03</td>\n",
       "      <td>1 days 00:00:00</td>\n",
       "      <td>40.9</td>\n",
       "      <td>15.7</td>\n",
       "      <td>0</td>\n",
       "      <td>0.0</td>\n",
       "      <td>2020-01-04 00:00:00</td>\n",
       "      <td>0.000002</td>\n",
       "    </tr>\n",
       "    <tr>\n",
       "      <th>22145</th>\n",
       "      <td>2020-01-03</td>\n",
       "      <td>1 days 00:00:00</td>\n",
       "      <td>40.9</td>\n",
       "      <td>15.8</td>\n",
       "      <td>0</td>\n",
       "      <td>0.0</td>\n",
       "      <td>2020-01-04 00:00:00</td>\n",
       "      <td>0.000002</td>\n",
       "    </tr>\n",
       "    <tr>\n",
       "      <th>22146</th>\n",
       "      <td>2020-01-03</td>\n",
       "      <td>1 days 00:00:00</td>\n",
       "      <td>40.9</td>\n",
       "      <td>15.9</td>\n",
       "      <td>0</td>\n",
       "      <td>0.0</td>\n",
       "      <td>2020-01-04 00:00:00</td>\n",
       "      <td>0.000002</td>\n",
       "    </tr>\n",
       "    <tr>\n",
       "      <th>22147</th>\n",
       "      <td>2020-01-03</td>\n",
       "      <td>1 days 00:00:00</td>\n",
       "      <td>40.9</td>\n",
       "      <td>16.0</td>\n",
       "      <td>0</td>\n",
       "      <td>0.0</td>\n",
       "      <td>2020-01-04 00:00:00</td>\n",
       "      <td>0.000002</td>\n",
       "    </tr>\n",
       "    <tr>\n",
       "      <th>22148</th>\n",
       "      <td>2020-01-03</td>\n",
       "      <td>1 days 00:00:00</td>\n",
       "      <td>40.9</td>\n",
       "      <td>16.1</td>\n",
       "      <td>0</td>\n",
       "      <td>0.0</td>\n",
       "      <td>2020-01-04 00:00:00</td>\n",
       "      <td>0.000002</td>\n",
       "    </tr>\n",
       "    <tr>\n",
       "      <th>22149</th>\n",
       "      <td>2020-01-03</td>\n",
       "      <td>1 days 00:00:00</td>\n",
       "      <td>40.9</td>\n",
       "      <td>16.2</td>\n",
       "      <td>0</td>\n",
       "      <td>0.0</td>\n",
       "      <td>2020-01-04 00:00:00</td>\n",
       "      <td>0.000002</td>\n",
       "    </tr>\n",
       "    <tr>\n",
       "      <th>22150</th>\n",
       "      <td>2020-01-03</td>\n",
       "      <td>1 days 00:00:00</td>\n",
       "      <td>40.9</td>\n",
       "      <td>16.3</td>\n",
       "      <td>0</td>\n",
       "      <td>0.0</td>\n",
       "      <td>2020-01-04 00:00:00</td>\n",
       "      <td>0.000002</td>\n",
       "    </tr>\n",
       "    <tr>\n",
       "      <th>22151</th>\n",
       "      <td>2020-01-03</td>\n",
       "      <td>1 days 00:00:00</td>\n",
       "      <td>40.9</td>\n",
       "      <td>16.4</td>\n",
       "      <td>0</td>\n",
       "      <td>0.0</td>\n",
       "      <td>2020-01-04 00:00:00</td>\n",
       "      <td>0.000002</td>\n",
       "    </tr>\n",
       "    <tr>\n",
       "      <th>22152</th>\n",
       "      <td>2020-01-03</td>\n",
       "      <td>1 days 00:00:00</td>\n",
       "      <td>40.9</td>\n",
       "      <td>16.5</td>\n",
       "      <td>0</td>\n",
       "      <td>0.0</td>\n",
       "      <td>2020-01-04 00:00:00</td>\n",
       "      <td>0.000002</td>\n",
       "    </tr>\n",
       "    <tr>\n",
       "      <th>22153</th>\n",
       "      <td>2020-01-03</td>\n",
       "      <td>1 days 00:00:00</td>\n",
       "      <td>40.9</td>\n",
       "      <td>16.6</td>\n",
       "      <td>0</td>\n",
       "      <td>0.0</td>\n",
       "      <td>2020-01-04 00:00:00</td>\n",
       "      <td>0.000002</td>\n",
       "    </tr>\n",
       "    <tr>\n",
       "      <th>22154</th>\n",
       "      <td>2020-01-03</td>\n",
       "      <td>1 days 00:00:00</td>\n",
       "      <td>40.9</td>\n",
       "      <td>16.7</td>\n",
       "      <td>0</td>\n",
       "      <td>0.0</td>\n",
       "      <td>2020-01-04 00:00:00</td>\n",
       "      <td>0.000002</td>\n",
       "    </tr>\n",
       "    <tr>\n",
       "      <th>22155</th>\n",
       "      <td>2020-01-03</td>\n",
       "      <td>1 days 00:00:00</td>\n",
       "      <td>40.9</td>\n",
       "      <td>16.8</td>\n",
       "      <td>0</td>\n",
       "      <td>0.0</td>\n",
       "      <td>2020-01-04 00:00:00</td>\n",
       "      <td>0.000002</td>\n",
       "    </tr>\n",
       "    <tr>\n",
       "      <th>22156</th>\n",
       "      <td>2020-01-03</td>\n",
       "      <td>1 days 00:00:00</td>\n",
       "      <td>40.9</td>\n",
       "      <td>16.9</td>\n",
       "      <td>0</td>\n",
       "      <td>0.0</td>\n",
       "      <td>2020-01-04 00:00:00</td>\n",
       "      <td>0.000002</td>\n",
       "    </tr>\n",
       "    <tr>\n",
       "      <th>22157</th>\n",
       "      <td>2020-01-03</td>\n",
       "      <td>1 days 00:00:00</td>\n",
       "      <td>40.9</td>\n",
       "      <td>17.0</td>\n",
       "      <td>0</td>\n",
       "      <td>0.0</td>\n",
       "      <td>2020-01-04 00:00:00</td>\n",
       "      <td>0.000002</td>\n",
       "    </tr>\n",
       "    <tr>\n",
       "      <th>22158</th>\n",
       "      <td>2020-01-03</td>\n",
       "      <td>1 days 00:00:00</td>\n",
       "      <td>40.9</td>\n",
       "      <td>17.1</td>\n",
       "      <td>0</td>\n",
       "      <td>0.0</td>\n",
       "      <td>2020-01-04 00:00:00</td>\n",
       "      <td>0.000002</td>\n",
       "    </tr>\n",
       "    <tr>\n",
       "      <th>22159</th>\n",
       "      <td>2020-01-03</td>\n",
       "      <td>1 days 00:00:00</td>\n",
       "      <td>40.9</td>\n",
       "      <td>17.2</td>\n",
       "      <td>0</td>\n",
       "      <td>0.0</td>\n",
       "      <td>2020-01-04 00:00:00</td>\n",
       "      <td>0.000002</td>\n",
       "    </tr>\n",
       "    <tr>\n",
       "      <th>22160</th>\n",
       "      <td>2020-01-03</td>\n",
       "      <td>1 days 00:00:00</td>\n",
       "      <td>40.9</td>\n",
       "      <td>17.3</td>\n",
       "      <td>0</td>\n",
       "      <td>0.0</td>\n",
       "      <td>2020-01-04 00:00:00</td>\n",
       "      <td>0.000002</td>\n",
       "    </tr>\n",
       "    <tr>\n",
       "      <th>22161</th>\n",
       "      <td>2020-01-03</td>\n",
       "      <td>1 days 00:00:00</td>\n",
       "      <td>40.9</td>\n",
       "      <td>17.4</td>\n",
       "      <td>0</td>\n",
       "      <td>0.0</td>\n",
       "      <td>2020-01-04 00:00:00</td>\n",
       "      <td>0.000002</td>\n",
       "    </tr>\n",
       "  </tbody>\n",
       "</table>\n",
       "</div>"
      ],
      "text/plain": [
       "             time             step  latitude  longitude  number  surface  \\\n",
       "22140  2020-01-03  1 days 00:00:00      40.9       15.3       0      0.0   \n",
       "22141  2020-01-03  1 days 00:00:00      40.9       15.4       0      0.0   \n",
       "22142  2020-01-03  1 days 00:00:00      40.9       15.5       0      0.0   \n",
       "22143  2020-01-03  1 days 00:00:00      40.9       15.6       0      0.0   \n",
       "22144  2020-01-03  1 days 00:00:00      40.9       15.7       0      0.0   \n",
       "22145  2020-01-03  1 days 00:00:00      40.9       15.8       0      0.0   \n",
       "22146  2020-01-03  1 days 00:00:00      40.9       15.9       0      0.0   \n",
       "22147  2020-01-03  1 days 00:00:00      40.9       16.0       0      0.0   \n",
       "22148  2020-01-03  1 days 00:00:00      40.9       16.1       0      0.0   \n",
       "22149  2020-01-03  1 days 00:00:00      40.9       16.2       0      0.0   \n",
       "22150  2020-01-03  1 days 00:00:00      40.9       16.3       0      0.0   \n",
       "22151  2020-01-03  1 days 00:00:00      40.9       16.4       0      0.0   \n",
       "22152  2020-01-03  1 days 00:00:00      40.9       16.5       0      0.0   \n",
       "22153  2020-01-03  1 days 00:00:00      40.9       16.6       0      0.0   \n",
       "22154  2020-01-03  1 days 00:00:00      40.9       16.7       0      0.0   \n",
       "22155  2020-01-03  1 days 00:00:00      40.9       16.8       0      0.0   \n",
       "22156  2020-01-03  1 days 00:00:00      40.9       16.9       0      0.0   \n",
       "22157  2020-01-03  1 days 00:00:00      40.9       17.0       0      0.0   \n",
       "22158  2020-01-03  1 days 00:00:00      40.9       17.1       0      0.0   \n",
       "22159  2020-01-03  1 days 00:00:00      40.9       17.2       0      0.0   \n",
       "22160  2020-01-03  1 days 00:00:00      40.9       17.3       0      0.0   \n",
       "22161  2020-01-03  1 days 00:00:00      40.9       17.4       0      0.0   \n",
       "\n",
       "                valid_time        tp  \n",
       "22140  2020-01-04 00:00:00  0.000002  \n",
       "22141  2020-01-04 00:00:00  0.000002  \n",
       "22142  2020-01-04 00:00:00  0.000002  \n",
       "22143  2020-01-04 00:00:00  0.000002  \n",
       "22144  2020-01-04 00:00:00  0.000002  \n",
       "22145  2020-01-04 00:00:00  0.000002  \n",
       "22146  2020-01-04 00:00:00  0.000002  \n",
       "22147  2020-01-04 00:00:00  0.000002  \n",
       "22148  2020-01-04 00:00:00  0.000002  \n",
       "22149  2020-01-04 00:00:00  0.000002  \n",
       "22150  2020-01-04 00:00:00  0.000002  \n",
       "22151  2020-01-04 00:00:00  0.000002  \n",
       "22152  2020-01-04 00:00:00  0.000002  \n",
       "22153  2020-01-04 00:00:00  0.000002  \n",
       "22154  2020-01-04 00:00:00  0.000002  \n",
       "22155  2020-01-04 00:00:00  0.000002  \n",
       "22156  2020-01-04 00:00:00  0.000002  \n",
       "22157  2020-01-04 00:00:00  0.000002  \n",
       "22158  2020-01-04 00:00:00  0.000002  \n",
       "22159  2020-01-04 00:00:00  0.000002  \n",
       "22160  2020-01-04 00:00:00  0.000002  \n",
       "22161  2020-01-04 00:00:00  0.000002  "
      ]
     },
     "execution_count": 142,
     "metadata": {},
     "output_type": "execute_result"
    }
   ],
   "source": [
    "data_puglia_2020_lf[ (data_puglia_2020_lf['step'].str[0] == '1') & \n",
    "                    (data_puglia_2020_lf['time'] == '2020-01-03') &\n",
    "                    (data_puglia_2020_lf['latitude'] == 40.899999999999984)]"
   ]
  },
  {
   "cell_type": "code",
   "execution_count": 145,
   "id": "057f851b",
   "metadata": {},
   "outputs": [],
   "source": [
    "data_puglia_2020_409_162 = data_puglia_2020_lf[(data_puglia_2020_lf['latitude'] == 40.899999999999984) &\n",
    "                                               (data_puglia_2020_lf['longitude'] == 16.2)]"
   ]
  },
  {
   "cell_type": "code",
   "execution_count": 147,
   "id": "ee132c42",
   "metadata": {},
   "outputs": [
    {
     "data": {
      "text/html": [
       "<div>\n",
       "<style scoped>\n",
       "    .dataframe tbody tr th:only-of-type {\n",
       "        vertical-align: middle;\n",
       "    }\n",
       "\n",
       "    .dataframe tbody tr th {\n",
       "        vertical-align: top;\n",
       "    }\n",
       "\n",
       "    .dataframe thead th {\n",
       "        text-align: right;\n",
       "    }\n",
       "</style>\n",
       "<table border=\"1\" class=\"dataframe\">\n",
       "  <thead>\n",
       "    <tr style=\"text-align: right;\">\n",
       "      <th></th>\n",
       "      <th>time</th>\n",
       "      <th>step</th>\n",
       "      <th>latitude</th>\n",
       "      <th>longitude</th>\n",
       "      <th>number</th>\n",
       "      <th>surface</th>\n",
       "      <th>valid_time</th>\n",
       "      <th>tp</th>\n",
       "    </tr>\n",
       "  </thead>\n",
       "  <tbody>\n",
       "    <tr>\n",
       "      <th>117</th>\n",
       "      <td>2019-12-31</td>\n",
       "      <td>1 days 00:00:00</td>\n",
       "      <td>40.9</td>\n",
       "      <td>16.2</td>\n",
       "      <td>0</td>\n",
       "      <td>0.0</td>\n",
       "      <td>2020-01-01 00:00:00</td>\n",
       "      <td>8.523463e-07</td>\n",
       "    </tr>\n",
       "    <tr>\n",
       "      <th>423</th>\n",
       "      <td>2020-01-01</td>\n",
       "      <td>0 days 01:00:00</td>\n",
       "      <td>40.9</td>\n",
       "      <td>16.2</td>\n",
       "      <td>0</td>\n",
       "      <td>0.0</td>\n",
       "      <td>2020-01-01 01:00:00</td>\n",
       "      <td>0.000000e+00</td>\n",
       "    </tr>\n",
       "    <tr>\n",
       "      <th>729</th>\n",
       "      <td>2020-01-01</td>\n",
       "      <td>0 days 02:00:00</td>\n",
       "      <td>40.9</td>\n",
       "      <td>16.2</td>\n",
       "      <td>0</td>\n",
       "      <td>0.0</td>\n",
       "      <td>2020-01-01 02:00:00</td>\n",
       "      <td>0.000000e+00</td>\n",
       "    </tr>\n",
       "    <tr>\n",
       "      <th>1035</th>\n",
       "      <td>2020-01-01</td>\n",
       "      <td>0 days 03:00:00</td>\n",
       "      <td>40.9</td>\n",
       "      <td>16.2</td>\n",
       "      <td>0</td>\n",
       "      <td>0.0</td>\n",
       "      <td>2020-01-01 03:00:00</td>\n",
       "      <td>0.000000e+00</td>\n",
       "    </tr>\n",
       "    <tr>\n",
       "      <th>1341</th>\n",
       "      <td>2020-01-01</td>\n",
       "      <td>0 days 04:00:00</td>\n",
       "      <td>40.9</td>\n",
       "      <td>16.2</td>\n",
       "      <td>0</td>\n",
       "      <td>0.0</td>\n",
       "      <td>2020-01-01 04:00:00</td>\n",
       "      <td>0.000000e+00</td>\n",
       "    </tr>\n",
       "    <tr>\n",
       "      <th>...</th>\n",
       "      <td>...</td>\n",
       "      <td>...</td>\n",
       "      <td>...</td>\n",
       "      <td>...</td>\n",
       "      <td>...</td>\n",
       "      <td>...</td>\n",
       "      <td>...</td>\n",
       "      <td>...</td>\n",
       "    </tr>\n",
       "    <tr>\n",
       "      <th>2686491</th>\n",
       "      <td>2020-12-31</td>\n",
       "      <td>0 days 19:00:00</td>\n",
       "      <td>40.9</td>\n",
       "      <td>16.2</td>\n",
       "      <td>0</td>\n",
       "      <td>0.0</td>\n",
       "      <td>2020-12-31 19:00:00</td>\n",
       "      <td>1.771514e-04</td>\n",
       "    </tr>\n",
       "    <tr>\n",
       "      <th>2686797</th>\n",
       "      <td>2020-12-31</td>\n",
       "      <td>0 days 20:00:00</td>\n",
       "      <td>40.9</td>\n",
       "      <td>16.2</td>\n",
       "      <td>0</td>\n",
       "      <td>0.0</td>\n",
       "      <td>2020-12-31 20:00:00</td>\n",
       "      <td>1.771514e-04</td>\n",
       "    </tr>\n",
       "    <tr>\n",
       "      <th>2687103</th>\n",
       "      <td>2020-12-31</td>\n",
       "      <td>0 days 21:00:00</td>\n",
       "      <td>40.9</td>\n",
       "      <td>16.2</td>\n",
       "      <td>0</td>\n",
       "      <td>0.0</td>\n",
       "      <td>2020-12-31 21:00:00</td>\n",
       "      <td>1.771514e-04</td>\n",
       "    </tr>\n",
       "    <tr>\n",
       "      <th>2687409</th>\n",
       "      <td>2020-12-31</td>\n",
       "      <td>0 days 22:00:00</td>\n",
       "      <td>40.9</td>\n",
       "      <td>16.2</td>\n",
       "      <td>0</td>\n",
       "      <td>0.0</td>\n",
       "      <td>2020-12-31 22:00:00</td>\n",
       "      <td>1.771514e-04</td>\n",
       "    </tr>\n",
       "    <tr>\n",
       "      <th>2687715</th>\n",
       "      <td>2020-12-31</td>\n",
       "      <td>0 days 23:00:00</td>\n",
       "      <td>40.9</td>\n",
       "      <td>16.2</td>\n",
       "      <td>0</td>\n",
       "      <td>0.0</td>\n",
       "      <td>2020-12-31 23:00:00</td>\n",
       "      <td>1.771514e-04</td>\n",
       "    </tr>\n",
       "  </tbody>\n",
       "</table>\n",
       "<p>8784 rows × 8 columns</p>\n",
       "</div>"
      ],
      "text/plain": [
       "               time             step  latitude  longitude  number  surface  \\\n",
       "117      2019-12-31  1 days 00:00:00      40.9       16.2       0      0.0   \n",
       "423      2020-01-01  0 days 01:00:00      40.9       16.2       0      0.0   \n",
       "729      2020-01-01  0 days 02:00:00      40.9       16.2       0      0.0   \n",
       "1035     2020-01-01  0 days 03:00:00      40.9       16.2       0      0.0   \n",
       "1341     2020-01-01  0 days 04:00:00      40.9       16.2       0      0.0   \n",
       "...             ...              ...       ...        ...     ...      ...   \n",
       "2686491  2020-12-31  0 days 19:00:00      40.9       16.2       0      0.0   \n",
       "2686797  2020-12-31  0 days 20:00:00      40.9       16.2       0      0.0   \n",
       "2687103  2020-12-31  0 days 21:00:00      40.9       16.2       0      0.0   \n",
       "2687409  2020-12-31  0 days 22:00:00      40.9       16.2       0      0.0   \n",
       "2687715  2020-12-31  0 days 23:00:00      40.9       16.2       0      0.0   \n",
       "\n",
       "                  valid_time            tp  \n",
       "117      2020-01-01 00:00:00  8.523463e-07  \n",
       "423      2020-01-01 01:00:00  0.000000e+00  \n",
       "729      2020-01-01 02:00:00  0.000000e+00  \n",
       "1035     2020-01-01 03:00:00  0.000000e+00  \n",
       "1341     2020-01-01 04:00:00  0.000000e+00  \n",
       "...                      ...           ...  \n",
       "2686491  2020-12-31 19:00:00  1.771514e-04  \n",
       "2686797  2020-12-31 20:00:00  1.771514e-04  \n",
       "2687103  2020-12-31 21:00:00  1.771514e-04  \n",
       "2687409  2020-12-31 22:00:00  1.771514e-04  \n",
       "2687715  2020-12-31 23:00:00  1.771514e-04  \n",
       "\n",
       "[8784 rows x 8 columns]"
      ]
     },
     "execution_count": 147,
     "metadata": {},
     "output_type": "execute_result"
    }
   ],
   "source": [
    "data_puglia_2020_409_162"
   ]
  },
  {
   "cell_type": "code",
   "execution_count": 148,
   "id": "4812b9ce",
   "metadata": {},
   "outputs": [
    {
     "data": {
      "text/plain": [
       "640.0"
      ]
     },
     "execution_count": 148,
     "metadata": {},
     "output_type": "execute_result"
    }
   ],
   "source": [
    "test_2020 = create_tp_daily_summary(data_puglia_2020_409_162, year=2020)\n",
    "test_2020['tp_mm'].sum()"
   ]
  },
  {
   "cell_type": "code",
   "execution_count": null,
   "id": "66ed3935",
   "metadata": {},
   "outputs": [],
   "source": []
  },
  {
   "cell_type": "code",
   "execution_count": null,
   "id": "19a16a94",
   "metadata": {},
   "outputs": [],
   "source": []
  },
  {
   "cell_type": "code",
   "execution_count": 105,
   "id": "f8fa2f93",
   "metadata": {},
   "outputs": [
    {
     "data": {
      "text/html": [
       "<div>\n",
       "<style scoped>\n",
       "    .dataframe tbody tr th:only-of-type {\n",
       "        vertical-align: middle;\n",
       "    }\n",
       "\n",
       "    .dataframe tbody tr th {\n",
       "        vertical-align: top;\n",
       "    }\n",
       "\n",
       "    .dataframe thead th {\n",
       "        text-align: right;\n",
       "    }\n",
       "</style>\n",
       "<table border=\"1\" class=\"dataframe\">\n",
       "  <thead>\n",
       "    <tr style=\"text-align: right;\">\n",
       "      <th></th>\n",
       "      <th>time</th>\n",
       "      <th>step</th>\n",
       "      <th>latitude</th>\n",
       "      <th>longitude</th>\n",
       "      <th>number</th>\n",
       "      <th>surface</th>\n",
       "      <th>valid_time</th>\n",
       "      <th>tp</th>\n",
       "    </tr>\n",
       "  </thead>\n",
       "  <tbody>\n",
       "  </tbody>\n",
       "</table>\n",
       "</div>"
      ],
      "text/plain": [
       "Empty DataFrame\n",
       "Columns: [time, step, latitude, longitude, number, surface, valid_time, tp]\n",
       "Index: []"
      ]
     },
     "execution_count": 105,
     "metadata": {},
     "output_type": "execute_result"
    }
   ],
   "source": [
    "data_puglia_2020_418_160"
   ]
  },
  {
   "cell_type": "code",
   "execution_count": 91,
   "id": "08379ef9",
   "metadata": {},
   "outputs": [],
   "source": [
    "test_2020 = create_tp_daily_summary(data_puglia_2020_418_153, year=2020)"
   ]
  },
  {
   "cell_type": "code",
   "execution_count": 93,
   "id": "77a00323",
   "metadata": {},
   "outputs": [
    {
     "data": {
      "text/plain": [
       "542.4000000000001"
      ]
     },
     "execution_count": 93,
     "metadata": {},
     "output_type": "execute_result"
    }
   ],
   "source": [
    "test_2020['tp_mm'].sum()"
   ]
  },
  {
   "cell_type": "code",
   "execution_count": null,
   "id": "3e31b092",
   "metadata": {},
   "outputs": [],
   "source": []
  },
  {
   "cell_type": "code",
   "execution_count": null,
   "id": "211ed7ae",
   "metadata": {},
   "outputs": [],
   "source": []
  },
  {
   "cell_type": "code",
   "execution_count": 88,
   "id": "a6249880",
   "metadata": {},
   "outputs": [
    {
     "data": {
      "text/plain": [
       "366.0"
      ]
     },
     "execution_count": 88,
     "metadata": {},
     "output_type": "execute_result"
    }
   ],
   "source": [
    "8784/24"
   ]
  },
  {
   "cell_type": "code",
   "execution_count": null,
   "id": "b4a69a1c",
   "metadata": {},
   "outputs": [],
   "source": []
  },
  {
   "cell_type": "code",
   "execution_count": 77,
   "id": "5f8065d4",
   "metadata": {},
   "outputs": [
    {
     "data": {
      "text/plain": [
       "(2687904, 8)"
      ]
     },
     "execution_count": 77,
     "metadata": {},
     "output_type": "execute_result"
    }
   ],
   "source": [
    "data_puglia_2020_lf.shape"
   ]
  },
  {
   "cell_type": "code",
   "execution_count": 81,
   "id": "8de75351",
   "metadata": {},
   "outputs": [
    {
     "data": {
      "text/plain": [
       "32"
      ]
     },
     "execution_count": 81,
     "metadata": {},
     "output_type": "execute_result"
    }
   ],
   "source": [
    "data_puglia_2020_lf['longitude'].nunique()"
   ]
  },
  {
   "cell_type": "code",
   "execution_count": 83,
   "id": "3a54578e",
   "metadata": {},
   "outputs": [
    {
     "data": {
      "text/plain": [
       "18"
      ]
     },
     "execution_count": 83,
     "metadata": {},
     "output_type": "execute_result"
    }
   ],
   "source": [
    "data_puglia_2020_lf['latitude'].nunique()"
   ]
  },
  {
   "cell_type": "code",
   "execution_count": null,
   "id": "5b71f544",
   "metadata": {},
   "outputs": [],
   "source": []
  },
  {
   "cell_type": "code",
   "execution_count": 59,
   "id": "e054792b",
   "metadata": {},
   "outputs": [
    {
     "data": {
      "text/plain": [
       "array(['0 days 01:00:00', '0 days 02:00:00', '0 days 03:00:00',\n",
       "       '0 days 04:00:00', '0 days 05:00:00', '0 days 06:00:00',\n",
       "       '0 days 07:00:00', '0 days 08:00:00', '0 days 09:00:00',\n",
       "       '0 days 10:00:00', '0 days 11:00:00', '0 days 12:00:00',\n",
       "       '0 days 13:00:00', '0 days 14:00:00', '0 days 15:00:00',\n",
       "       '0 days 16:00:00', '0 days 17:00:00', '0 days 18:00:00',\n",
       "       '0 days 19:00:00', '0 days 20:00:00', '0 days 21:00:00',\n",
       "       '0 days 22:00:00', '0 days 23:00:00', '1 days 00:00:00'],\n",
       "      dtype=object)"
      ]
     },
     "execution_count": 59,
     "metadata": {},
     "output_type": "execute_result"
    }
   ],
   "source": [
    "data_puglia_2020['step'].unique()"
   ]
  },
  {
   "cell_type": "code",
   "execution_count": 61,
   "id": "9c5505a7",
   "metadata": {},
   "outputs": [
    {
     "data": {
      "text/plain": [
       "0.5201062476"
      ]
     },
     "execution_count": 61,
     "metadata": {},
     "output_type": "execute_result"
    }
   ],
   "source": [
    "data_puglia_2020[data_puglia_2020['step'].str[0] =='1']['tp'].sum()"
   ]
  },
  {
   "cell_type": "code",
   "execution_count": null,
   "id": "67c51e0e",
   "metadata": {},
   "outputs": [],
   "source": []
  },
  {
   "cell_type": "code",
   "execution_count": null,
   "id": "faa082a6",
   "metadata": {},
   "outputs": [],
   "source": []
  },
  {
   "cell_type": "code",
   "execution_count": null,
   "id": "52c9738a",
   "metadata": {},
   "outputs": [],
   "source": []
  },
  {
   "cell_type": "code",
   "execution_count": null,
   "id": "9211fa1a",
   "metadata": {},
   "outputs": [],
   "source": []
  },
  {
   "cell_type": "code",
   "execution_count": null,
   "id": "e471fb4b",
   "metadata": {},
   "outputs": [],
   "source": []
  },
  {
   "cell_type": "code",
   "execution_count": null,
   "id": "97db8285",
   "metadata": {},
   "outputs": [],
   "source": []
  },
  {
   "cell_type": "markdown",
   "id": "7dd9c821",
   "metadata": {},
   "source": [
    "-------------------"
   ]
  },
  {
   "cell_type": "code",
   "execution_count": 53,
   "id": "07293c08",
   "metadata": {},
   "outputs": [],
   "source": [
    "from datetime import timedelta\n",
    "\n",
    "def create_tp_daily_summary(df_data, year = 2025, threshold = 0.1):\n",
    "    # creating `tp_mm`\n",
    "    df = df_data.copy()\n",
    "    df['tp_mm'] = 1000*df['tp']\n",
    "\n",
    "    # Creating valid date column\n",
    "    df['valid_time_dt'] = pd.to_datetime(df['valid_time'])\n",
    "    df['valid_date'] = df['valid_time_dt'].dt.date\n",
    "    mask_hour_0 = df['valid_time_dt'].dt.hour == 0\n",
    "    df.loc[mask_hour_0, 'valid_date'] = df.loc[mask_hour_0, 'valid_date'] - timedelta(days=1)\n",
    "\n",
    "    # thresholding and rounding tp_mm\n",
    "    df.loc[df['tp_mm'] < threshold, 'tp_mm'] = 0.0\n",
    "    df['tp_mm'] = np.round(df['tp_mm'], 1)\n",
    "\n",
    "    # computing daily aggregate\n",
    "    df['valid_date_dt'] = pd.to_datetime(df['valid_date'])\n",
    "    df['year'] = df['valid_date_dt'].dt.year\n",
    "\n",
    "    df_daily_tp_mm = (df[df['year'] == year]\n",
    "                  .groupby('valid_date_dt')['tp_mm']\n",
    "                  .max()\n",
    "                  ).reset_index()\n",
    "    return(df_daily_tp_mm)\n"
   ]
  },
  {
   "cell_type": "code",
   "execution_count": 108,
   "id": "85078ae3",
   "metadata": {},
   "outputs": [],
   "source": [
    "def create_tp_monthly_aggregate(df_data):\n",
    "    df_data['month_int'] = df_data['valid_date_dt'].dt.month\n",
    "    df_data['month_str'] = df_data['valid_date_dt'].dt.strftime('%b')\n",
    "\n",
    "    tp_monthly_aggregate = (df_data\n",
    "                            .groupby('month_int')\n",
    "                            .agg(\n",
    "                                month_str = ('month_str', 'first'),\n",
    "                                monthly_tp_mm = ('tp_mm', 'sum')\n",
    "                                )\n",
    "                                ).reset_index()\n",
    "    \n",
    "    return(tp_monthly_aggregate)"
   ]
  },
  {
   "cell_type": "code",
   "execution_count": 112,
   "id": "e1336ab0",
   "metadata": {},
   "outputs": [],
   "source": [
    "df_london_2024 = create_tp_daily_summary(df_data,\n",
    "                                  year=2024)"
   ]
  },
  {
   "cell_type": "code",
   "execution_count": 113,
   "id": "6cb88d5b",
   "metadata": {},
   "outputs": [
    {
     "data": {
      "text/html": [
       "<div>\n",
       "<style scoped>\n",
       "    .dataframe tbody tr th:only-of-type {\n",
       "        vertical-align: middle;\n",
       "    }\n",
       "\n",
       "    .dataframe tbody tr th {\n",
       "        vertical-align: top;\n",
       "    }\n",
       "\n",
       "    .dataframe thead th {\n",
       "        text-align: right;\n",
       "    }\n",
       "</style>\n",
       "<table border=\"1\" class=\"dataframe\">\n",
       "  <thead>\n",
       "    <tr style=\"text-align: right;\">\n",
       "      <th></th>\n",
       "      <th>month_int</th>\n",
       "      <th>month_str</th>\n",
       "      <th>monthly_tp_mm</th>\n",
       "    </tr>\n",
       "  </thead>\n",
       "  <tbody>\n",
       "    <tr>\n",
       "      <th>0</th>\n",
       "      <td>1</td>\n",
       "      <td>Jan</td>\n",
       "      <td>56.8</td>\n",
       "    </tr>\n",
       "    <tr>\n",
       "      <th>1</th>\n",
       "      <td>2</td>\n",
       "      <td>Feb</td>\n",
       "      <td>116.2</td>\n",
       "    </tr>\n",
       "    <tr>\n",
       "      <th>2</th>\n",
       "      <td>3</td>\n",
       "      <td>Mar</td>\n",
       "      <td>82.3</td>\n",
       "    </tr>\n",
       "    <tr>\n",
       "      <th>3</th>\n",
       "      <td>4</td>\n",
       "      <td>Apr</td>\n",
       "      <td>65.5</td>\n",
       "    </tr>\n",
       "    <tr>\n",
       "      <th>4</th>\n",
       "      <td>5</td>\n",
       "      <td>May</td>\n",
       "      <td>89.1</td>\n",
       "    </tr>\n",
       "  </tbody>\n",
       "</table>\n",
       "</div>"
      ],
      "text/plain": [
       "   month_int month_str  monthly_tp_mm\n",
       "0          1       Jan           56.8\n",
       "1          2       Feb          116.2\n",
       "2          3       Mar           82.3\n",
       "3          4       Apr           65.5\n",
       "4          5       May           89.1"
      ]
     },
     "execution_count": 113,
     "metadata": {},
     "output_type": "execute_result"
    }
   ],
   "source": [
    "london_monthly_2024 = create_tp_monthly_aggregate(df_london_2024)\n",
    "london_monthly_2024.head()"
   ]
  },
  {
   "cell_type": "code",
   "execution_count": 114,
   "id": "b58bb103",
   "metadata": {},
   "outputs": [
    {
     "data": {
      "text/plain": [
       "832.5999999999999"
      ]
     },
     "execution_count": 114,
     "metadata": {},
     "output_type": "execute_result"
    }
   ],
   "source": [
    "london_monthly_2024['monthly_tp_mm'].sum()"
   ]
  },
  {
   "cell_type": "code",
   "execution_count": 110,
   "id": "b854260f",
   "metadata": {},
   "outputs": [
    {
     "data": {
      "text/html": [
       "<div>\n",
       "<style scoped>\n",
       "    .dataframe tbody tr th:only-of-type {\n",
       "        vertical-align: middle;\n",
       "    }\n",
       "\n",
       "    .dataframe tbody tr th {\n",
       "        vertical-align: top;\n",
       "    }\n",
       "\n",
       "    .dataframe thead th {\n",
       "        text-align: right;\n",
       "    }\n",
       "</style>\n",
       "<table border=\"1\" class=\"dataframe\">\n",
       "  <thead>\n",
       "    <tr style=\"text-align: right;\">\n",
       "      <th></th>\n",
       "      <th>month_int</th>\n",
       "      <th>month_str</th>\n",
       "      <th>monthly_tp_mm</th>\n",
       "    </tr>\n",
       "  </thead>\n",
       "  <tbody>\n",
       "    <tr>\n",
       "      <th>0</th>\n",
       "      <td>1</td>\n",
       "      <td>Jan</td>\n",
       "      <td>54.7</td>\n",
       "    </tr>\n",
       "    <tr>\n",
       "      <th>1</th>\n",
       "      <td>2</td>\n",
       "      <td>Feb</td>\n",
       "      <td>69.8</td>\n",
       "    </tr>\n",
       "    <tr>\n",
       "      <th>2</th>\n",
       "      <td>3</td>\n",
       "      <td>Mar</td>\n",
       "      <td>59.2</td>\n",
       "    </tr>\n",
       "    <tr>\n",
       "      <th>3</th>\n",
       "      <td>4</td>\n",
       "      <td>Apr</td>\n",
       "      <td>45.0</td>\n",
       "    </tr>\n",
       "    <tr>\n",
       "      <th>4</th>\n",
       "      <td>5</td>\n",
       "      <td>May</td>\n",
       "      <td>49.7</td>\n",
       "    </tr>\n",
       "  </tbody>\n",
       "</table>\n",
       "</div>"
      ],
      "text/plain": [
       "   month_int month_str  monthly_tp_mm\n",
       "0          1       Jan           54.7\n",
       "1          2       Feb           69.8\n",
       "2          3       Mar           59.2\n",
       "3          4       Apr           45.0\n",
       "4          5       May           49.7"
      ]
     },
     "execution_count": 110,
     "metadata": {},
     "output_type": "execute_result"
    }
   ],
   "source": [
    "puglia_monthly_2024 =create_tp_monthly_aggregate(df_test)\n",
    "puglia_monthly_2024.head()"
   ]
  },
  {
   "cell_type": "code",
   "execution_count": null,
   "id": "a8ff3f18",
   "metadata": {},
   "outputs": [],
   "source": []
  },
  {
   "cell_type": "code",
   "execution_count": 99,
   "id": "ba50d1dc",
   "metadata": {},
   "outputs": [],
   "source": [
    "df_test['month_int'] = df_test['valid_date_dt'].dt.month\n",
    "df_test['month_str'] = df_test['valid_date_dt'].dt.strftime('%b')"
   ]
  },
  {
   "cell_type": "code",
   "execution_count": 107,
   "id": "722d6c4a",
   "metadata": {},
   "outputs": [
    {
     "data": {
      "text/html": [
       "<div>\n",
       "<style scoped>\n",
       "    .dataframe tbody tr th:only-of-type {\n",
       "        vertical-align: middle;\n",
       "    }\n",
       "\n",
       "    .dataframe tbody tr th {\n",
       "        vertical-align: top;\n",
       "    }\n",
       "\n",
       "    .dataframe thead th {\n",
       "        text-align: right;\n",
       "    }\n",
       "</style>\n",
       "<table border=\"1\" class=\"dataframe\">\n",
       "  <thead>\n",
       "    <tr style=\"text-align: right;\">\n",
       "      <th></th>\n",
       "      <th>month_int</th>\n",
       "      <th>month_str</th>\n",
       "      <th>monthly_tp_mm</th>\n",
       "    </tr>\n",
       "  </thead>\n",
       "  <tbody>\n",
       "    <tr>\n",
       "      <th>0</th>\n",
       "      <td>1</td>\n",
       "      <td>Jan</td>\n",
       "      <td>54.7</td>\n",
       "    </tr>\n",
       "    <tr>\n",
       "      <th>1</th>\n",
       "      <td>2</td>\n",
       "      <td>Feb</td>\n",
       "      <td>69.8</td>\n",
       "    </tr>\n",
       "    <tr>\n",
       "      <th>2</th>\n",
       "      <td>3</td>\n",
       "      <td>Mar</td>\n",
       "      <td>59.2</td>\n",
       "    </tr>\n",
       "    <tr>\n",
       "      <th>3</th>\n",
       "      <td>4</td>\n",
       "      <td>Apr</td>\n",
       "      <td>45.0</td>\n",
       "    </tr>\n",
       "    <tr>\n",
       "      <th>4</th>\n",
       "      <td>5</td>\n",
       "      <td>May</td>\n",
       "      <td>49.7</td>\n",
       "    </tr>\n",
       "    <tr>\n",
       "      <th>5</th>\n",
       "      <td>6</td>\n",
       "      <td>Jun</td>\n",
       "      <td>9.7</td>\n",
       "    </tr>\n",
       "    <tr>\n",
       "      <th>6</th>\n",
       "      <td>7</td>\n",
       "      <td>Jul</td>\n",
       "      <td>16.7</td>\n",
       "    </tr>\n",
       "    <tr>\n",
       "      <th>7</th>\n",
       "      <td>8</td>\n",
       "      <td>Aug</td>\n",
       "      <td>30.5</td>\n",
       "    </tr>\n",
       "    <tr>\n",
       "      <th>8</th>\n",
       "      <td>9</td>\n",
       "      <td>Sep</td>\n",
       "      <td>58.9</td>\n",
       "    </tr>\n",
       "    <tr>\n",
       "      <th>9</th>\n",
       "      <td>10</td>\n",
       "      <td>Oct</td>\n",
       "      <td>59.8</td>\n",
       "    </tr>\n",
       "    <tr>\n",
       "      <th>10</th>\n",
       "      <td>11</td>\n",
       "      <td>Nov</td>\n",
       "      <td>37.6</td>\n",
       "    </tr>\n",
       "    <tr>\n",
       "      <th>11</th>\n",
       "      <td>12</td>\n",
       "      <td>Dec</td>\n",
       "      <td>79.0</td>\n",
       "    </tr>\n",
       "  </tbody>\n",
       "</table>\n",
       "</div>"
      ],
      "text/plain": [
       "    month_int month_str  monthly_tp_mm\n",
       "0           1       Jan           54.7\n",
       "1           2       Feb           69.8\n",
       "2           3       Mar           59.2\n",
       "3           4       Apr           45.0\n",
       "4           5       May           49.7\n",
       "5           6       Jun            9.7\n",
       "6           7       Jul           16.7\n",
       "7           8       Aug           30.5\n",
       "8           9       Sep           58.9\n",
       "9          10       Oct           59.8\n",
       "10         11       Nov           37.6\n",
       "11         12       Dec           79.0"
      ]
     },
     "execution_count": 107,
     "metadata": {},
     "output_type": "execute_result"
    }
   ],
   "source": [
    "(df_test\n",
    " .groupby('month_int')\n",
    " .agg(\n",
    "     month_str = ('month_str', 'first'),\n",
    "     monthly_tp_mm = ('tp_mm', 'sum')\n",
    " )\n",
    ").reset_index()\n"
   ]
  },
  {
   "cell_type": "code",
   "execution_count": 106,
   "id": "6292972d",
   "metadata": {},
   "outputs": [
    {
     "data": {
      "text/html": [
       "<div>\n",
       "<style scoped>\n",
       "    .dataframe tbody tr th:only-of-type {\n",
       "        vertical-align: middle;\n",
       "    }\n",
       "\n",
       "    .dataframe tbody tr th {\n",
       "        vertical-align: top;\n",
       "    }\n",
       "\n",
       "    .dataframe thead th {\n",
       "        text-align: right;\n",
       "    }\n",
       "</style>\n",
       "<table border=\"1\" class=\"dataframe\">\n",
       "  <thead>\n",
       "    <tr style=\"text-align: right;\">\n",
       "      <th></th>\n",
       "      <th>valid_date_dt</th>\n",
       "      <th>tp_mm</th>\n",
       "      <th>month_int</th>\n",
       "      <th>month_str</th>\n",
       "    </tr>\n",
       "  </thead>\n",
       "  <tbody>\n",
       "    <tr>\n",
       "      <th>0</th>\n",
       "      <td>2024-01-01</td>\n",
       "      <td>0.8</td>\n",
       "      <td>1</td>\n",
       "      <td>Jan</td>\n",
       "    </tr>\n",
       "    <tr>\n",
       "      <th>1</th>\n",
       "      <td>2024-01-02</td>\n",
       "      <td>0.2</td>\n",
       "      <td>1</td>\n",
       "      <td>Jan</td>\n",
       "    </tr>\n",
       "    <tr>\n",
       "      <th>2</th>\n",
       "      <td>2024-01-03</td>\n",
       "      <td>0.2</td>\n",
       "      <td>1</td>\n",
       "      <td>Jan</td>\n",
       "    </tr>\n",
       "    <tr>\n",
       "      <th>3</th>\n",
       "      <td>2024-01-04</td>\n",
       "      <td>0.1</td>\n",
       "      <td>1</td>\n",
       "      <td>Jan</td>\n",
       "    </tr>\n",
       "    <tr>\n",
       "      <th>4</th>\n",
       "      <td>2024-01-05</td>\n",
       "      <td>0.0</td>\n",
       "      <td>1</td>\n",
       "      <td>Jan</td>\n",
       "    </tr>\n",
       "    <tr>\n",
       "      <th>...</th>\n",
       "      <td>...</td>\n",
       "      <td>...</td>\n",
       "      <td>...</td>\n",
       "      <td>...</td>\n",
       "    </tr>\n",
       "    <tr>\n",
       "      <th>361</th>\n",
       "      <td>2024-12-27</td>\n",
       "      <td>0.0</td>\n",
       "      <td>12</td>\n",
       "      <td>Dec</td>\n",
       "    </tr>\n",
       "    <tr>\n",
       "      <th>362</th>\n",
       "      <td>2024-12-28</td>\n",
       "      <td>0.0</td>\n",
       "      <td>12</td>\n",
       "      <td>Dec</td>\n",
       "    </tr>\n",
       "    <tr>\n",
       "      <th>363</th>\n",
       "      <td>2024-12-29</td>\n",
       "      <td>0.0</td>\n",
       "      <td>12</td>\n",
       "      <td>Dec</td>\n",
       "    </tr>\n",
       "    <tr>\n",
       "      <th>364</th>\n",
       "      <td>2024-12-30</td>\n",
       "      <td>0.0</td>\n",
       "      <td>12</td>\n",
       "      <td>Dec</td>\n",
       "    </tr>\n",
       "    <tr>\n",
       "      <th>365</th>\n",
       "      <td>2024-12-31</td>\n",
       "      <td>0.0</td>\n",
       "      <td>12</td>\n",
       "      <td>Dec</td>\n",
       "    </tr>\n",
       "  </tbody>\n",
       "</table>\n",
       "<p>366 rows × 4 columns</p>\n",
       "</div>"
      ],
      "text/plain": [
       "    valid_date_dt  tp_mm  month_int month_str\n",
       "0      2024-01-01    0.8          1       Jan\n",
       "1      2024-01-02    0.2          1       Jan\n",
       "2      2024-01-03    0.2          1       Jan\n",
       "3      2024-01-04    0.1          1       Jan\n",
       "4      2024-01-05    0.0          1       Jan\n",
       "..            ...    ...        ...       ...\n",
       "361    2024-12-27    0.0         12       Dec\n",
       "362    2024-12-28    0.0         12       Dec\n",
       "363    2024-12-29    0.0         12       Dec\n",
       "364    2024-12-30    0.0         12       Dec\n",
       "365    2024-12-31    0.0         12       Dec\n",
       "\n",
       "[366 rows x 4 columns]"
      ]
     },
     "execution_count": 106,
     "metadata": {},
     "output_type": "execute_result"
    }
   ],
   "source": [
    "df_test"
   ]
  },
  {
   "cell_type": "code",
   "execution_count": null,
   "id": "7989458a",
   "metadata": {},
   "outputs": [],
   "source": []
  },
  {
   "cell_type": "code",
   "execution_count": null,
   "id": "042a59bc",
   "metadata": {},
   "outputs": [],
   "source": []
  },
  {
   "cell_type": "code",
   "execution_count": 96,
   "id": "643ae5cf",
   "metadata": {},
   "outputs": [
    {
     "data": {
      "image/png": "[encoded data removed]",
      "text/plain": [
       "<Figure size 1200x600 with 1 Axes>"
      ]
     },
     "metadata": {},
     "output_type": "display_data"
    }
   ],
   "source": [
    "fig_size = (12,6)\n",
    "\n",
    "\n",
    "sns.set_theme(style=\"whitegrid\")\n",
    "plt.figure(figsize=fig_size)\n",
    "\n",
    "ax = sns.scatterplot(\n",
    "    data=df_test,\n",
    "    x='valid_date_dt',\n",
    "    y='tp_mm'\n",
    "    );\n",
    "\n",
    "ax = sns.lineplot(\n",
    "    data=df_test,\n",
    "    x='valid_date_dt',\n",
    "    y='tp_mm'\n",
    "    );"
   ]
  },
  {
   "cell_type": "code",
   "execution_count": null,
   "id": "d1b521d4",
   "metadata": {},
   "outputs": [],
   "source": []
  },
  {
   "cell_type": "code",
   "execution_count": null,
   "id": "4bd8461f",
   "metadata": {},
   "outputs": [],
   "source": []
  },
  {
   "cell_type": "code",
   "execution_count": 3,
   "id": "0d2236f8",
   "metadata": {},
   "outputs": [],
   "source": [
    "# creating `tp_mm`\n",
    "\n",
    "df_data['tp_mm'] = 1000*df_data['tp']"
   ]
  },
  {
   "cell_type": "code",
   "execution_count": 4,
   "id": "08f4912e",
   "metadata": {},
   "outputs": [
    {
     "data": {
      "text/html": [
       "<div>\n",
       "<style scoped>\n",
       "    .dataframe tbody tr th:only-of-type {\n",
       "        vertical-align: middle;\n",
       "    }\n",
       "\n",
       "    .dataframe tbody tr th {\n",
       "        vertical-align: top;\n",
       "    }\n",
       "\n",
       "    .dataframe thead th {\n",
       "        text-align: right;\n",
       "    }\n",
       "</style>\n",
       "<table border=\"1\" class=\"dataframe\">\n",
       "  <thead>\n",
       "    <tr style=\"text-align: right;\">\n",
       "      <th></th>\n",
       "      <th>step</th>\n",
       "      <th>number</th>\n",
       "      <th>surface</th>\n",
       "      <th>valid_time</th>\n",
       "      <th>tp</th>\n",
       "      <th>tp_mm</th>\n",
       "    </tr>\n",
       "  </thead>\n",
       "  <tbody>\n",
       "    <tr>\n",
       "      <th>0</th>\n",
       "      <td>1 days 00:00:00</td>\n",
       "      <td>0</td>\n",
       "      <td>0.0</td>\n",
       "      <td>2025-01-01 00:00:00</td>\n",
       "      <td>1.214221e-04</td>\n",
       "      <td>0.121422</td>\n",
       "    </tr>\n",
       "    <tr>\n",
       "      <th>1</th>\n",
       "      <td>0 days 01:00:00</td>\n",
       "      <td>0</td>\n",
       "      <td>0.0</td>\n",
       "      <td>2025-01-01 01:00:00</td>\n",
       "      <td>9.459133e-07</td>\n",
       "      <td>0.000946</td>\n",
       "    </tr>\n",
       "    <tr>\n",
       "      <th>2</th>\n",
       "      <td>0 days 02:00:00</td>\n",
       "      <td>0</td>\n",
       "      <td>0.0</td>\n",
       "      <td>2025-01-01 02:00:00</td>\n",
       "      <td>1.864197e-06</td>\n",
       "      <td>0.001864</td>\n",
       "    </tr>\n",
       "  </tbody>\n",
       "</table>\n",
       "</div>"
      ],
      "text/plain": [
       "              step  number  surface           valid_time            tp  \\\n",
       "0  1 days 00:00:00       0      0.0  2025-01-01 00:00:00  1.214221e-04   \n",
       "1  0 days 01:00:00       0      0.0  2025-01-01 01:00:00  9.459133e-07   \n",
       "2  0 days 02:00:00       0      0.0  2025-01-01 02:00:00  1.864197e-06   \n",
       "\n",
       "      tp_mm  \n",
       "0  0.121422  \n",
       "1  0.000946  \n",
       "2  0.001864  "
      ]
     },
     "execution_count": 4,
     "metadata": {},
     "output_type": "execute_result"
    }
   ],
   "source": [
    "df_data.head(3)"
   ]
  },
  {
   "cell_type": "markdown",
   "id": "849d53cb",
   "metadata": {},
   "source": [
    "The raws with 1 days contains the cumulative sum of rainfall. To consider the total rainfall for each day, we should take the 00 hour of each day and scale back by one day. So, to assign the 2025-01-01 tp, we need to extract the \"00:00:00\" hour of the next day `valid_date`"
   ]
  },
  {
   "cell_type": "code",
   "execution_count": 5,
   "id": "963a19ad",
   "metadata": {},
   "outputs": [],
   "source": [
    "# Creating valid date\n",
    "\n",
    "from datetime import timedelta\n",
    "\n",
    "# # Method 2 - Corrected for date objects\n",
    "# df_london_2025_reduced['valid_date'] = df_london_2025_reduced['date']  # Start with original date\n",
    "# mask_hour_0 = df_london_2025_reduced['hour'] == 0\n",
    "# df_london_2025_reduced.loc[mask_hour_0, 'valid_date'] = df_london_2025_reduced.loc[mask_hour_0, 'date'] - timedelta(days=1)\n",
    "\n",
    "df_data['valid_time_dt'] = pd.to_datetime(df_data['valid_time'])\n",
    "df_data['valid_date'] = df_data['valid_time_dt'].dt.date\n",
    "mask_hour_0 = df_data['valid_time_dt'].dt.hour == 0\n",
    "df_data.loc[mask_hour_0, 'valid_date'] = df_data.loc[mask_hour_0, 'valid_date'] - timedelta(days=1)"
   ]
  },
  {
   "cell_type": "markdown",
   "id": "05dc5bb5",
   "metadata": {},
   "source": [
    "At this step, we can save the daily data as `pkl` file if needed for different analysis around the time of the day."
   ]
  },
  {
   "cell_type": "code",
   "execution_count": 6,
   "id": "ca199d77",
   "metadata": {},
   "outputs": [
    {
     "data": {
      "text/plain": [
       "'2025_01_01_2025_06_27'"
      ]
     },
     "execution_count": 6,
     "metadata": {},
     "output_type": "execute_result"
    }
   ],
   "source": [
    "starting_date = df_data[df_data['valid_time'] == df_data['valid_time'].min()]['valid_time_dt'].dt.strftime('%Y-%m-%d').values[0].replace('-','_')\n",
    "ending_date = df_data[df_data['valid_time_dt'] == df_data['valid_time_dt'].max()]['valid_time_dt'].dt.strftime('%Y-%m-%d').values[0].replace('-','_')\n",
    "\n",
    "starting_date + '_' + ending_date\n",
    "\n",
    "# ['valid_time_dt'].dt.strftime('%Y-%m-%d')\n"
   ]
  },
  {
   "cell_type": "markdown",
   "id": "73df4d4d",
   "metadata": {},
   "source": [
    "- rounding `tp_mm`\n",
    "\n",
    "We set all values below 0.09 to 0 and then round `tp_mm` to the first decimal digit "
   ]
  },
  {
   "cell_type": "code",
   "execution_count": 7,
   "id": "7e848cb1",
   "metadata": {},
   "outputs": [],
   "source": [
    "# threshold set\n",
    "threshold = 0.1\n",
    "df_data.loc[df_data['tp_mm'] < threshold, 'tp_mm'] = 0.0\n",
    "df_data['tp_mm'] = np.round(df_data['tp_mm'], 1)\n"
   ]
  },
  {
   "cell_type": "code",
   "execution_count": 8,
   "id": "84db4188",
   "metadata": {},
   "outputs": [
    {
     "data": {
      "text/html": [
       "<div>\n",
       "<style scoped>\n",
       "    .dataframe tbody tr th:only-of-type {\n",
       "        vertical-align: middle;\n",
       "    }\n",
       "\n",
       "    .dataframe tbody tr th {\n",
       "        vertical-align: top;\n",
       "    }\n",
       "\n",
       "    .dataframe thead th {\n",
       "        text-align: right;\n",
       "    }\n",
       "</style>\n",
       "<table border=\"1\" class=\"dataframe\">\n",
       "  <thead>\n",
       "    <tr style=\"text-align: right;\">\n",
       "      <th></th>\n",
       "      <th>step</th>\n",
       "      <th>number</th>\n",
       "      <th>surface</th>\n",
       "      <th>valid_time</th>\n",
       "      <th>tp</th>\n",
       "      <th>tp_mm</th>\n",
       "      <th>valid_time_dt</th>\n",
       "      <th>valid_date</th>\n",
       "    </tr>\n",
       "  </thead>\n",
       "  <tbody>\n",
       "    <tr>\n",
       "      <th>0</th>\n",
       "      <td>1 days 00:00:00</td>\n",
       "      <td>0</td>\n",
       "      <td>0.0</td>\n",
       "      <td>2025-01-01 00:00:00</td>\n",
       "      <td>1.214221e-04</td>\n",
       "      <td>0.1</td>\n",
       "      <td>2025-01-01 00:00:00</td>\n",
       "      <td>2024-12-31</td>\n",
       "    </tr>\n",
       "    <tr>\n",
       "      <th>1</th>\n",
       "      <td>0 days 01:00:00</td>\n",
       "      <td>0</td>\n",
       "      <td>0.0</td>\n",
       "      <td>2025-01-01 01:00:00</td>\n",
       "      <td>9.459133e-07</td>\n",
       "      <td>0.0</td>\n",
       "      <td>2025-01-01 01:00:00</td>\n",
       "      <td>2025-01-01</td>\n",
       "    </tr>\n",
       "    <tr>\n",
       "      <th>2</th>\n",
       "      <td>0 days 02:00:00</td>\n",
       "      <td>0</td>\n",
       "      <td>0.0</td>\n",
       "      <td>2025-01-01 02:00:00</td>\n",
       "      <td>1.864197e-06</td>\n",
       "      <td>0.0</td>\n",
       "      <td>2025-01-01 02:00:00</td>\n",
       "      <td>2025-01-01</td>\n",
       "    </tr>\n",
       "    <tr>\n",
       "      <th>3</th>\n",
       "      <td>0 days 03:00:00</td>\n",
       "      <td>0</td>\n",
       "      <td>0.0</td>\n",
       "      <td>2025-01-01 03:00:00</td>\n",
       "      <td>1.998929e-06</td>\n",
       "      <td>0.0</td>\n",
       "      <td>2025-01-01 03:00:00</td>\n",
       "      <td>2025-01-01</td>\n",
       "    </tr>\n",
       "    <tr>\n",
       "      <th>4</th>\n",
       "      <td>0 days 04:00:00</td>\n",
       "      <td>0</td>\n",
       "      <td>0.0</td>\n",
       "      <td>2025-01-01 04:00:00</td>\n",
       "      <td>2.486942e-06</td>\n",
       "      <td>0.0</td>\n",
       "      <td>2025-01-01 04:00:00</td>\n",
       "      <td>2025-01-01</td>\n",
       "    </tr>\n",
       "  </tbody>\n",
       "</table>\n",
       "</div>"
      ],
      "text/plain": [
       "              step  number  surface           valid_time            tp  tp_mm  \\\n",
       "0  1 days 00:00:00       0      0.0  2025-01-01 00:00:00  1.214221e-04    0.1   \n",
       "1  0 days 01:00:00       0      0.0  2025-01-01 01:00:00  9.459133e-07    0.0   \n",
       "2  0 days 02:00:00       0      0.0  2025-01-01 02:00:00  1.864197e-06    0.0   \n",
       "3  0 days 03:00:00       0      0.0  2025-01-01 03:00:00  1.998929e-06    0.0   \n",
       "4  0 days 04:00:00       0      0.0  2025-01-01 04:00:00  2.486942e-06    0.0   \n",
       "\n",
       "        valid_time_dt  valid_date  \n",
       "0 2025-01-01 00:00:00  2024-12-31  \n",
       "1 2025-01-01 01:00:00  2025-01-01  \n",
       "2 2025-01-01 02:00:00  2025-01-01  \n",
       "3 2025-01-01 03:00:00  2025-01-01  \n",
       "4 2025-01-01 04:00:00  2025-01-01  "
      ]
     },
     "execution_count": 8,
     "metadata": {},
     "output_type": "execute_result"
    }
   ],
   "source": [
    "df_data.head()"
   ]
  },
  {
   "cell_type": "markdown",
   "id": "9299de1e",
   "metadata": {},
   "source": [
    "## Daily Aggregate"
   ]
  },
  {
   "cell_type": "markdown",
   "id": "5e5cdeb7",
   "metadata": {},
   "source": [
    "The following code refers to annual data. We will expand while dealing with multi years dataset."
   ]
  },
  {
   "cell_type": "code",
   "execution_count": 9,
   "id": "94a07469",
   "metadata": {},
   "outputs": [],
   "source": [
    "df_data['valid_date_dt'] = pd.to_datetime(df_data['valid_date'])"
   ]
  },
  {
   "cell_type": "code",
   "execution_count": 11,
   "id": "80de3fce",
   "metadata": {},
   "outputs": [],
   "source": [
    "df_data['year'] = df_data['valid_date_dt'].dt.year\n",
    "# df_data['month_int'] = df_data['valid_date_dt'].dt.month\n",
    "# df_data['month'] = df_data['valid_date_dt'].dt.strftime('%b')"
   ]
  },
  {
   "cell_type": "code",
   "execution_count": 17,
   "id": "1f524ff1",
   "metadata": {},
   "outputs": [],
   "source": [
    "df_daily_tp_mm = (df_data[df_data['year'] == 2025]\n",
    "                  .groupby('valid_date_dt')['tp_mm']\n",
    "                  .max()\n",
    "                  ).reset_index()"
   ]
  },
  {
   "cell_type": "code",
   "execution_count": 18,
   "id": "50533c9f",
   "metadata": {},
   "outputs": [
    {
     "data": {
      "text/html": [
       "<div>\n",
       "<style scoped>\n",
       "    .dataframe tbody tr th:only-of-type {\n",
       "        vertical-align: middle;\n",
       "    }\n",
       "\n",
       "    .dataframe tbody tr th {\n",
       "        vertical-align: top;\n",
       "    }\n",
       "\n",
       "    .dataframe thead th {\n",
       "        text-align: right;\n",
       "    }\n",
       "</style>\n",
       "<table border=\"1\" class=\"dataframe\">\n",
       "  <thead>\n",
       "    <tr style=\"text-align: right;\">\n",
       "      <th></th>\n",
       "      <th>valid_date_dt</th>\n",
       "      <th>tp_mm</th>\n",
       "    </tr>\n",
       "  </thead>\n",
       "  <tbody>\n",
       "    <tr>\n",
       "      <th>0</th>\n",
       "      <td>2025-01-01</td>\n",
       "      <td>9.2</td>\n",
       "    </tr>\n",
       "    <tr>\n",
       "      <th>1</th>\n",
       "      <td>2025-01-02</td>\n",
       "      <td>0.0</td>\n",
       "    </tr>\n",
       "    <tr>\n",
       "      <th>2</th>\n",
       "      <td>2025-01-03</td>\n",
       "      <td>0.0</td>\n",
       "    </tr>\n",
       "    <tr>\n",
       "      <th>3</th>\n",
       "      <td>2025-01-04</td>\n",
       "      <td>4.9</td>\n",
       "    </tr>\n",
       "    <tr>\n",
       "      <th>4</th>\n",
       "      <td>2025-01-05</td>\n",
       "      <td>20.3</td>\n",
       "    </tr>\n",
       "  </tbody>\n",
       "</table>\n",
       "</div>"
      ],
      "text/plain": [
       "  valid_date_dt  tp_mm\n",
       "0    2025-01-01    9.2\n",
       "1    2025-01-02    0.0\n",
       "2    2025-01-03    0.0\n",
       "3    2025-01-04    4.9\n",
       "4    2025-01-05   20.3"
      ]
     },
     "execution_count": 18,
     "metadata": {},
     "output_type": "execute_result"
    }
   ],
   "source": [
    "df_daily_tp_mm.head()"
   ]
  },
  {
   "cell_type": "code",
   "execution_count": 20,
   "id": "6c4b745e",
   "metadata": {},
   "outputs": [
    {
     "data": {
      "image/png": "[encoded data removed]",
      "text/plain": [
       "<Figure size 1200x600 with 1 Axes>"
      ]
     },
     "metadata": {},
     "output_type": "display_data"
    }
   ],
   "source": [
    "fig_size = (12,6)\n",
    "\n",
    "\n",
    "sns.set_theme(style=\"whitegrid\")\n",
    "plt.figure(figsize=fig_size)\n",
    "\n",
    "ax = sns.scatterplot(\n",
    "    data=df_daily_tp_mm,\n",
    "    x='valid_date_dt',\n",
    "    y='tp_mm'\n",
    "    );\n",
    "\n",
    "ax = sns.lineplot(\n",
    "    data=df_daily_tp_mm,\n",
    "    x='valid_date_dt',\n",
    "    y='tp_mm'\n",
    "    );"
   ]
  },
  {
   "cell_type": "code",
   "execution_count": null,
   "id": "1b016c34",
   "metadata": {},
   "outputs": [],
   "source": []
  },
  {
   "cell_type": "code",
   "execution_count": null,
   "id": "c1753c09",
   "metadata": {},
   "outputs": [],
   "source": []
  },
  {
   "cell_type": "code",
   "execution_count": null,
   "id": "ec0d0f73",
   "metadata": {},
   "outputs": [],
   "source": []
  },
  {
   "cell_type": "code",
   "execution_count": 48,
   "id": "0fe1531c",
   "metadata": {},
   "outputs": [],
   "source": [
    "df_london_2025['valid_time_dt'] = pd.to_datetime(df_london_2025['valid_time'])\n",
    "\n",
    "# Create all derived columns\n",
    "df_london_2025['date'] = df_london_2025['valid_time_dt'].dt.date  # Date without time\n",
    "df_london_2025['date_str'] = df_london_2025['valid_time_dt'].dt.strftime('%Y-%m-%d')  # String format\n",
    "\n",
    "df_london_2025['year'] = df_london_2025['valid_time_dt'].dt.year\n",
    "df_london_2025['month'] = df_london_2025['valid_time_dt'].dt.strftime('%b')  # Jan, Feb, etc.\n",
    "df_london_2025['day'] = df_london_2025['valid_time_dt'].dt.day  # Day as integer\n",
    "df_london_2025['hour'] = df_london_2025['valid_time_dt'].dt.hour\n",
    "df_london_2025['month_int'] = df_london_2025['valid_time_dt'].dt.month  # Month as integer"
   ]
  },
  {
   "cell_type": "code",
   "execution_count": 51,
   "id": "2baf0262",
   "metadata": {},
   "outputs": [
    {
     "data": {
      "text/plain": [
       "datetime.date(2025, 1, 1)"
      ]
     },
     "execution_count": 51,
     "metadata": {},
     "output_type": "execute_result"
    }
   ],
   "source": [
    "df_london_2025['date'][0]"
   ]
  },
  {
   "cell_type": "code",
   "execution_count": 42,
   "id": "6ce931f4",
   "metadata": {},
   "outputs": [],
   "source": [
    "feats = ['valid_time_dt', 'date', 'year', 'month', 'day', 'hour', 'tp_mm']\n",
    "df_london_2025_reduced = df_london_2025[feats].copy()"
   ]
  },
  {
   "cell_type": "code",
   "execution_count": 56,
   "id": "875fcffd",
   "metadata": {},
   "outputs": [],
   "source": [
    "from datetime import timedelta\n",
    "\n",
    "# Method 2 - Corrected for date objects\n",
    "df_london_2025_reduced['valid_date'] = df_london_2025_reduced['date']  # Start with original date\n",
    "mask_hour_0 = df_london_2025_reduced['hour'] == 0\n",
    "df_london_2025_reduced.loc[mask_hour_0, 'valid_date'] = df_london_2025_reduced.loc[mask_hour_0, 'date'] - timedelta(days=1)\n"
   ]
  },
  {
   "cell_type": "code",
   "execution_count": 57,
   "id": "58111317",
   "metadata": {},
   "outputs": [
    {
     "data": {
      "text/html": [
       "<div>\n",
       "<style scoped>\n",
       "    .dataframe tbody tr th:only-of-type {\n",
       "        vertical-align: middle;\n",
       "    }\n",
       "\n",
       "    .dataframe tbody tr th {\n",
       "        vertical-align: top;\n",
       "    }\n",
       "\n",
       "    .dataframe thead th {\n",
       "        text-align: right;\n",
       "    }\n",
       "</style>\n",
       "<table border=\"1\" class=\"dataframe\">\n",
       "  <thead>\n",
       "    <tr style=\"text-align: right;\">\n",
       "      <th></th>\n",
       "      <th>valid_time_dt</th>\n",
       "      <th>date</th>\n",
       "      <th>year</th>\n",
       "      <th>month</th>\n",
       "      <th>day</th>\n",
       "      <th>hour</th>\n",
       "      <th>tp_mm</th>\n",
       "      <th>valid_date</th>\n",
       "    </tr>\n",
       "  </thead>\n",
       "  <tbody>\n",
       "    <tr>\n",
       "      <th>0</th>\n",
       "      <td>2025-01-01 00:00:00</td>\n",
       "      <td>2025-01-01</td>\n",
       "      <td>2025</td>\n",
       "      <td>Jan</td>\n",
       "      <td>1</td>\n",
       "      <td>0</td>\n",
       "      <td>0.121422</td>\n",
       "      <td>2024-12-31</td>\n",
       "    </tr>\n",
       "    <tr>\n",
       "      <th>1</th>\n",
       "      <td>2025-01-01 01:00:00</td>\n",
       "      <td>2025-01-01</td>\n",
       "      <td>2025</td>\n",
       "      <td>Jan</td>\n",
       "      <td>1</td>\n",
       "      <td>1</td>\n",
       "      <td>0.000946</td>\n",
       "      <td>2025-01-01</td>\n",
       "    </tr>\n",
       "    <tr>\n",
       "      <th>2</th>\n",
       "      <td>2025-01-01 02:00:00</td>\n",
       "      <td>2025-01-01</td>\n",
       "      <td>2025</td>\n",
       "      <td>Jan</td>\n",
       "      <td>1</td>\n",
       "      <td>2</td>\n",
       "      <td>0.001864</td>\n",
       "      <td>2025-01-01</td>\n",
       "    </tr>\n",
       "    <tr>\n",
       "      <th>3</th>\n",
       "      <td>2025-01-01 03:00:00</td>\n",
       "      <td>2025-01-01</td>\n",
       "      <td>2025</td>\n",
       "      <td>Jan</td>\n",
       "      <td>1</td>\n",
       "      <td>3</td>\n",
       "      <td>0.001999</td>\n",
       "      <td>2025-01-01</td>\n",
       "    </tr>\n",
       "    <tr>\n",
       "      <th>4</th>\n",
       "      <td>2025-01-01 04:00:00</td>\n",
       "      <td>2025-01-01</td>\n",
       "      <td>2025</td>\n",
       "      <td>Jan</td>\n",
       "      <td>1</td>\n",
       "      <td>4</td>\n",
       "      <td>0.002487</td>\n",
       "      <td>2025-01-01</td>\n",
       "    </tr>\n",
       "    <tr>\n",
       "      <th>5</th>\n",
       "      <td>2025-01-01 05:00:00</td>\n",
       "      <td>2025-01-01</td>\n",
       "      <td>2025</td>\n",
       "      <td>Jan</td>\n",
       "      <td>1</td>\n",
       "      <td>5</td>\n",
       "      <td>0.002949</td>\n",
       "      <td>2025-01-01</td>\n",
       "    </tr>\n",
       "    <tr>\n",
       "      <th>6</th>\n",
       "      <td>2025-01-01 06:00:00</td>\n",
       "      <td>2025-01-01</td>\n",
       "      <td>2025</td>\n",
       "      <td>Jan</td>\n",
       "      <td>1</td>\n",
       "      <td>6</td>\n",
       "      <td>0.004123</td>\n",
       "      <td>2025-01-01</td>\n",
       "    </tr>\n",
       "    <tr>\n",
       "      <th>7</th>\n",
       "      <td>2025-01-01 07:00:00</td>\n",
       "      <td>2025-01-01</td>\n",
       "      <td>2025</td>\n",
       "      <td>Jan</td>\n",
       "      <td>1</td>\n",
       "      <td>7</td>\n",
       "      <td>0.007323</td>\n",
       "      <td>2025-01-01</td>\n",
       "    </tr>\n",
       "    <tr>\n",
       "      <th>8</th>\n",
       "      <td>2025-01-01 08:00:00</td>\n",
       "      <td>2025-01-01</td>\n",
       "      <td>2025</td>\n",
       "      <td>Jan</td>\n",
       "      <td>1</td>\n",
       "      <td>8</td>\n",
       "      <td>0.013674</td>\n",
       "      <td>2025-01-01</td>\n",
       "    </tr>\n",
       "    <tr>\n",
       "      <th>9</th>\n",
       "      <td>2025-01-01 09:00:00</td>\n",
       "      <td>2025-01-01</td>\n",
       "      <td>2025</td>\n",
       "      <td>Jan</td>\n",
       "      <td>1</td>\n",
       "      <td>9</td>\n",
       "      <td>0.040860</td>\n",
       "      <td>2025-01-01</td>\n",
       "    </tr>\n",
       "    <tr>\n",
       "      <th>10</th>\n",
       "      <td>2025-01-01 10:00:00</td>\n",
       "      <td>2025-01-01</td>\n",
       "      <td>2025</td>\n",
       "      <td>Jan</td>\n",
       "      <td>1</td>\n",
       "      <td>10</td>\n",
       "      <td>0.092620</td>\n",
       "      <td>2025-01-01</td>\n",
       "    </tr>\n",
       "    <tr>\n",
       "      <th>11</th>\n",
       "      <td>2025-01-01 11:00:00</td>\n",
       "      <td>2025-01-01</td>\n",
       "      <td>2025</td>\n",
       "      <td>Jan</td>\n",
       "      <td>1</td>\n",
       "      <td>11</td>\n",
       "      <td>0.203942</td>\n",
       "      <td>2025-01-01</td>\n",
       "    </tr>\n",
       "    <tr>\n",
       "      <th>12</th>\n",
       "      <td>2025-01-01 12:00:00</td>\n",
       "      <td>2025-01-01</td>\n",
       "      <td>2025</td>\n",
       "      <td>Jan</td>\n",
       "      <td>1</td>\n",
       "      <td>12</td>\n",
       "      <td>1.014063</td>\n",
       "      <td>2025-01-01</td>\n",
       "    </tr>\n",
       "    <tr>\n",
       "      <th>13</th>\n",
       "      <td>2025-01-01 13:00:00</td>\n",
       "      <td>2025-01-01</td>\n",
       "      <td>2025</td>\n",
       "      <td>Jan</td>\n",
       "      <td>1</td>\n",
       "      <td>13</td>\n",
       "      <td>3.252183</td>\n",
       "      <td>2025-01-01</td>\n",
       "    </tr>\n",
       "    <tr>\n",
       "      <th>14</th>\n",
       "      <td>2025-01-01 14:00:00</td>\n",
       "      <td>2025-01-01</td>\n",
       "      <td>2025</td>\n",
       "      <td>Jan</td>\n",
       "      <td>1</td>\n",
       "      <td>14</td>\n",
       "      <td>5.175879</td>\n",
       "      <td>2025-01-01</td>\n",
       "    </tr>\n",
       "    <tr>\n",
       "      <th>15</th>\n",
       "      <td>2025-01-01 15:00:00</td>\n",
       "      <td>2025-01-01</td>\n",
       "      <td>2025</td>\n",
       "      <td>Jan</td>\n",
       "      <td>1</td>\n",
       "      <td>15</td>\n",
       "      <td>6.499826</td>\n",
       "      <td>2025-01-01</td>\n",
       "    </tr>\n",
       "    <tr>\n",
       "      <th>16</th>\n",
       "      <td>2025-01-01 16:00:00</td>\n",
       "      <td>2025-01-01</td>\n",
       "      <td>2025</td>\n",
       "      <td>Jan</td>\n",
       "      <td>1</td>\n",
       "      <td>16</td>\n",
       "      <td>7.501216</td>\n",
       "      <td>2025-01-01</td>\n",
       "    </tr>\n",
       "    <tr>\n",
       "      <th>17</th>\n",
       "      <td>2025-01-01 17:00:00</td>\n",
       "      <td>2025-01-01</td>\n",
       "      <td>2025</td>\n",
       "      <td>Jan</td>\n",
       "      <td>1</td>\n",
       "      <td>17</td>\n",
       "      <td>8.137427</td>\n",
       "      <td>2025-01-01</td>\n",
       "    </tr>\n",
       "    <tr>\n",
       "      <th>18</th>\n",
       "      <td>2025-01-01 18:00:00</td>\n",
       "      <td>2025-01-01</td>\n",
       "      <td>2025</td>\n",
       "      <td>Jan</td>\n",
       "      <td>1</td>\n",
       "      <td>18</td>\n",
       "      <td>8.544721</td>\n",
       "      <td>2025-01-01</td>\n",
       "    </tr>\n",
       "    <tr>\n",
       "      <th>19</th>\n",
       "      <td>2025-01-01 19:00:00</td>\n",
       "      <td>2025-01-01</td>\n",
       "      <td>2025</td>\n",
       "      <td>Jan</td>\n",
       "      <td>1</td>\n",
       "      <td>19</td>\n",
       "      <td>8.822076</td>\n",
       "      <td>2025-01-01</td>\n",
       "    </tr>\n",
       "    <tr>\n",
       "      <th>20</th>\n",
       "      <td>2025-01-01 20:00:00</td>\n",
       "      <td>2025-01-01</td>\n",
       "      <td>2025</td>\n",
       "      <td>Jan</td>\n",
       "      <td>1</td>\n",
       "      <td>20</td>\n",
       "      <td>8.978377</td>\n",
       "      <td>2025-01-01</td>\n",
       "    </tr>\n",
       "    <tr>\n",
       "      <th>21</th>\n",
       "      <td>2025-01-01 21:00:00</td>\n",
       "      <td>2025-01-01</td>\n",
       "      <td>2025</td>\n",
       "      <td>Jan</td>\n",
       "      <td>1</td>\n",
       "      <td>21</td>\n",
       "      <td>9.077981</td>\n",
       "      <td>2025-01-01</td>\n",
       "    </tr>\n",
       "    <tr>\n",
       "      <th>22</th>\n",
       "      <td>2025-01-01 22:00:00</td>\n",
       "      <td>2025-01-01</td>\n",
       "      <td>2025</td>\n",
       "      <td>Jan</td>\n",
       "      <td>1</td>\n",
       "      <td>22</td>\n",
       "      <td>9.142992</td>\n",
       "      <td>2025-01-01</td>\n",
       "    </tr>\n",
       "    <tr>\n",
       "      <th>23</th>\n",
       "      <td>2025-01-01 23:00:00</td>\n",
       "      <td>2025-01-01</td>\n",
       "      <td>2025</td>\n",
       "      <td>Jan</td>\n",
       "      <td>1</td>\n",
       "      <td>23</td>\n",
       "      <td>9.169598</td>\n",
       "      <td>2025-01-01</td>\n",
       "    </tr>\n",
       "    <tr>\n",
       "      <th>24</th>\n",
       "      <td>2025-01-02 00:00:00</td>\n",
       "      <td>2025-01-02</td>\n",
       "      <td>2025</td>\n",
       "      <td>Jan</td>\n",
       "      <td>2</td>\n",
       "      <td>0</td>\n",
       "      <td>9.174707</td>\n",
       "      <td>2025-01-01</td>\n",
       "    </tr>\n",
       "    <tr>\n",
       "      <th>25</th>\n",
       "      <td>2025-01-02 01:00:00</td>\n",
       "      <td>2025-01-02</td>\n",
       "      <td>2025</td>\n",
       "      <td>Jan</td>\n",
       "      <td>2</td>\n",
       "      <td>1</td>\n",
       "      <td>0.001794</td>\n",
       "      <td>2025-01-02</td>\n",
       "    </tr>\n",
       "    <tr>\n",
       "      <th>26</th>\n",
       "      <td>2025-01-02 02:00:00</td>\n",
       "      <td>2025-01-02</td>\n",
       "      <td>2025</td>\n",
       "      <td>Jan</td>\n",
       "      <td>2</td>\n",
       "      <td>2</td>\n",
       "      <td>0.002651</td>\n",
       "      <td>2025-01-02</td>\n",
       "    </tr>\n",
       "  </tbody>\n",
       "</table>\n",
       "</div>"
      ],
      "text/plain": [
       "         valid_time_dt        date  year month  day  hour     tp_mm  \\\n",
       "0  2025-01-01 00:00:00  2025-01-01  2025   Jan    1     0  0.121422   \n",
       "1  2025-01-01 01:00:00  2025-01-01  2025   Jan    1     1  0.000946   \n",
       "2  2025-01-01 02:00:00  2025-01-01  2025   Jan    1     2  0.001864   \n",
       "3  2025-01-01 03:00:00  2025-01-01  2025   Jan    1     3  0.001999   \n",
       "4  2025-01-01 04:00:00  2025-01-01  2025   Jan    1     4  0.002487   \n",
       "5  2025-01-01 05:00:00  2025-01-01  2025   Jan    1     5  0.002949   \n",
       "6  2025-01-01 06:00:00  2025-01-01  2025   Jan    1     6  0.004123   \n",
       "7  2025-01-01 07:00:00  2025-01-01  2025   Jan    1     7  0.007323   \n",
       "8  2025-01-01 08:00:00  2025-01-01  2025   Jan    1     8  0.013674   \n",
       "9  2025-01-01 09:00:00  2025-01-01  2025   Jan    1     9  0.040860   \n",
       "10 2025-01-01 10:00:00  2025-01-01  2025   Jan    1    10  0.092620   \n",
       "11 2025-01-01 11:00:00  2025-01-01  2025   Jan    1    11  0.203942   \n",
       "12 2025-01-01 12:00:00  2025-01-01  2025   Jan    1    12  1.014063   \n",
       "13 2025-01-01 13:00:00  2025-01-01  2025   Jan    1    13  3.252183   \n",
       "14 2025-01-01 14:00:00  2025-01-01  2025   Jan    1    14  5.175879   \n",
       "15 2025-01-01 15:00:00  2025-01-01  2025   Jan    1    15  6.499826   \n",
       "16 2025-01-01 16:00:00  2025-01-01  2025   Jan    1    16  7.501216   \n",
       "17 2025-01-01 17:00:00  2025-01-01  2025   Jan    1    17  8.137427   \n",
       "18 2025-01-01 18:00:00  2025-01-01  2025   Jan    1    18  8.544721   \n",
       "19 2025-01-01 19:00:00  2025-01-01  2025   Jan    1    19  8.822076   \n",
       "20 2025-01-01 20:00:00  2025-01-01  2025   Jan    1    20  8.978377   \n",
       "21 2025-01-01 21:00:00  2025-01-01  2025   Jan    1    21  9.077981   \n",
       "22 2025-01-01 22:00:00  2025-01-01  2025   Jan    1    22  9.142992   \n",
       "23 2025-01-01 23:00:00  2025-01-01  2025   Jan    1    23  9.169598   \n",
       "24 2025-01-02 00:00:00  2025-01-02  2025   Jan    2     0  9.174707   \n",
       "25 2025-01-02 01:00:00  2025-01-02  2025   Jan    2     1  0.001794   \n",
       "26 2025-01-02 02:00:00  2025-01-02  2025   Jan    2     2  0.002651   \n",
       "\n",
       "    valid_date  \n",
       "0   2024-12-31  \n",
       "1   2025-01-01  \n",
       "2   2025-01-01  \n",
       "3   2025-01-01  \n",
       "4   2025-01-01  \n",
       "5   2025-01-01  \n",
       "6   2025-01-01  \n",
       "7   2025-01-01  \n",
       "8   2025-01-01  \n",
       "9   2025-01-01  \n",
       "10  2025-01-01  \n",
       "11  2025-01-01  \n",
       "12  2025-01-01  \n",
       "13  2025-01-01  \n",
       "14  2025-01-01  \n",
       "15  2025-01-01  \n",
       "16  2025-01-01  \n",
       "17  2025-01-01  \n",
       "18  2025-01-01  \n",
       "19  2025-01-01  \n",
       "20  2025-01-01  \n",
       "21  2025-01-01  \n",
       "22  2025-01-01  \n",
       "23  2025-01-01  \n",
       "24  2025-01-01  \n",
       "25  2025-01-02  \n",
       "26  2025-01-02  "
      ]
     },
     "execution_count": 57,
     "metadata": {},
     "output_type": "execute_result"
    }
   ],
   "source": [
    "df_london_2025_reduced.head(27)"
   ]
  },
  {
   "cell_type": "code",
   "execution_count": 78,
   "id": "bce19d75",
   "metadata": {},
   "outputs": [],
   "source": [
    "df_london_2025_daily = (df_london_2025_reduced\n",
    "                        .groupby('valid_date')['tp_mm']\n",
    "                        .max()\n",
    "                        ).reset_index()"
   ]
  },
  {
   "cell_type": "code",
   "execution_count": 79,
   "id": "65ed741f",
   "metadata": {},
   "outputs": [
    {
     "data": {
      "text/html": [
       "<div>\n",
       "<style scoped>\n",
       "    .dataframe tbody tr th:only-of-type {\n",
       "        vertical-align: middle;\n",
       "    }\n",
       "\n",
       "    .dataframe tbody tr th {\n",
       "        vertical-align: top;\n",
       "    }\n",
       "\n",
       "    .dataframe thead th {\n",
       "        text-align: right;\n",
       "    }\n",
       "</style>\n",
       "<table border=\"1\" class=\"dataframe\">\n",
       "  <thead>\n",
       "    <tr style=\"text-align: right;\">\n",
       "      <th></th>\n",
       "      <th>valid_date</th>\n",
       "      <th>tp_mm</th>\n",
       "    </tr>\n",
       "  </thead>\n",
       "  <tbody>\n",
       "    <tr>\n",
       "      <th>0</th>\n",
       "      <td>2024-12-31</td>\n",
       "      <td>0.121422</td>\n",
       "    </tr>\n",
       "    <tr>\n",
       "      <th>1</th>\n",
       "      <td>2025-01-01</td>\n",
       "      <td>9.174707</td>\n",
       "    </tr>\n",
       "    <tr>\n",
       "      <th>2</th>\n",
       "      <td>2025-01-02</td>\n",
       "      <td>0.002662</td>\n",
       "    </tr>\n",
       "    <tr>\n",
       "      <th>3</th>\n",
       "      <td>2025-01-03</td>\n",
       "      <td>0.000860</td>\n",
       "    </tr>\n",
       "    <tr>\n",
       "      <th>4</th>\n",
       "      <td>2025-01-04</td>\n",
       "      <td>4.871828</td>\n",
       "    </tr>\n",
       "    <tr>\n",
       "      <th>...</th>\n",
       "      <td>...</td>\n",
       "      <td>...</td>\n",
       "    </tr>\n",
       "    <tr>\n",
       "      <th>174</th>\n",
       "      <td>2025-06-23</td>\n",
       "      <td>0.391878</td>\n",
       "    </tr>\n",
       "    <tr>\n",
       "      <th>175</th>\n",
       "      <td>2025-06-24</td>\n",
       "      <td>0.184347</td>\n",
       "    </tr>\n",
       "    <tr>\n",
       "      <th>176</th>\n",
       "      <td>2025-06-25</td>\n",
       "      <td>0.043636</td>\n",
       "    </tr>\n",
       "    <tr>\n",
       "      <th>177</th>\n",
       "      <td>2025-06-26</td>\n",
       "      <td>1.363419</td>\n",
       "    </tr>\n",
       "    <tr>\n",
       "      <th>178</th>\n",
       "      <td>2025-06-27</td>\n",
       "      <td>1.716062</td>\n",
       "    </tr>\n",
       "  </tbody>\n",
       "</table>\n",
       "<p>179 rows × 2 columns</p>\n",
       "</div>"
      ],
      "text/plain": [
       "     valid_date     tp_mm\n",
       "0    2024-12-31  0.121422\n",
       "1    2025-01-01  9.174707\n",
       "2    2025-01-02  0.002662\n",
       "3    2025-01-03  0.000860\n",
       "4    2025-01-04  4.871828\n",
       "..          ...       ...\n",
       "174  2025-06-23  0.391878\n",
       "175  2025-06-24  0.184347\n",
       "176  2025-06-25  0.043636\n",
       "177  2025-06-26  1.363419\n",
       "178  2025-06-27  1.716062\n",
       "\n",
       "[179 rows x 2 columns]"
      ]
     },
     "execution_count": 79,
     "metadata": {},
     "output_type": "execute_result"
    }
   ],
   "source": [
    "df_london_2025_daily"
   ]
  },
  {
   "cell_type": "code",
   "execution_count": 63,
   "id": "9f1900de",
   "metadata": {},
   "outputs": [
    {
     "data": {
      "text/plain": [
       "0       0.121422\n",
       "24      9.174707\n",
       "48      0.002660\n",
       "72      0.000852\n",
       "96      4.871828\n",
       "          ...   \n",
       "4152    0.164652\n",
       "4176    0.391878\n",
       "4200    0.184346\n",
       "4224    0.043636\n",
       "4248    1.363419\n",
       "Name: tp_mm, Length: 178, dtype: float64"
      ]
     },
     "execution_count": 63,
     "metadata": {},
     "output_type": "execute_result"
    }
   ],
   "source": [
    "df_london_2025_reduced[df_london_2025_reduced['hour'] == 0]['tp_mm']"
   ]
  },
  {
   "cell_type": "code",
   "execution_count": 76,
   "id": "d497574b",
   "metadata": {},
   "outputs": [
    {
     "data": {
      "text/plain": [
       "datetime.date"
      ]
     },
     "execution_count": 76,
     "metadata": {},
     "output_type": "execute_result"
    }
   ],
   "source": [
    "type(df_london_2025_daily['valid_date'][0])"
   ]
  },
  {
   "cell_type": "code",
   "execution_count": 17,
   "id": "026212a5",
   "metadata": {},
   "outputs": [
    {
     "data": {
      "text/plain": [
       "0       2025-01-01\n",
       "1       2025-01-01\n",
       "2       2025-01-01\n",
       "3       2025-01-01\n",
       "4       2025-01-01\n",
       "           ...    \n",
       "4260    2025-06-27\n",
       "4261    2025-06-27\n",
       "4262    2025-06-27\n",
       "4263    2025-06-27\n",
       "4264    2025-06-27\n",
       "Name: valid_datetime, Length: 4265, dtype: object"
      ]
     },
     "execution_count": 17,
     "metadata": {},
     "output_type": "execute_result"
    }
   ],
   "source": [
    "df_london_2025['valid_datetime'].dt.date"
   ]
  },
  {
   "cell_type": "code",
   "execution_count": 80,
   "id": "b6a46bf2",
   "metadata": {},
   "outputs": [],
   "source": [
    "# Convert to datetime temporarily\n",
    "temp_dt = pd.to_datetime(df_london_2025_daily['valid_date'])\n",
    "\n",
    "# Extract components\n",
    "df_london_2025_daily['year'] = temp_dt.dt.year\n",
    "df_london_2025_daily['month_int'] = temp_dt.dt.month\n",
    "df_london_2025_daily['day'] = temp_dt.dt.day\n",
    "df_london_2025_daily['month_str'] = temp_dt.dt.strftime('%b').str.lower()"
   ]
  },
  {
   "cell_type": "code",
   "execution_count": 81,
   "id": "330546ea",
   "metadata": {},
   "outputs": [
    {
     "data": {
      "text/html": [
       "<div>\n",
       "<style scoped>\n",
       "    .dataframe tbody tr th:only-of-type {\n",
       "        vertical-align: middle;\n",
       "    }\n",
       "\n",
       "    .dataframe tbody tr th {\n",
       "        vertical-align: top;\n",
       "    }\n",
       "\n",
       "    .dataframe thead th {\n",
       "        text-align: right;\n",
       "    }\n",
       "</style>\n",
       "<table border=\"1\" class=\"dataframe\">\n",
       "  <thead>\n",
       "    <tr style=\"text-align: right;\">\n",
       "      <th></th>\n",
       "      <th>valid_date</th>\n",
       "      <th>tp_mm</th>\n",
       "      <th>year</th>\n",
       "      <th>month_int</th>\n",
       "      <th>day</th>\n",
       "      <th>month_str</th>\n",
       "    </tr>\n",
       "  </thead>\n",
       "  <tbody>\n",
       "    <tr>\n",
       "      <th>0</th>\n",
       "      <td>2024-12-31</td>\n",
       "      <td>0.121422</td>\n",
       "      <td>2024</td>\n",
       "      <td>12</td>\n",
       "      <td>31</td>\n",
       "      <td>dec</td>\n",
       "    </tr>\n",
       "    <tr>\n",
       "      <th>1</th>\n",
       "      <td>2025-01-01</td>\n",
       "      <td>9.174707</td>\n",
       "      <td>2025</td>\n",
       "      <td>1</td>\n",
       "      <td>1</td>\n",
       "      <td>jan</td>\n",
       "    </tr>\n",
       "    <tr>\n",
       "      <th>2</th>\n",
       "      <td>2025-01-02</td>\n",
       "      <td>0.002662</td>\n",
       "      <td>2025</td>\n",
       "      <td>1</td>\n",
       "      <td>2</td>\n",
       "      <td>jan</td>\n",
       "    </tr>\n",
       "    <tr>\n",
       "      <th>3</th>\n",
       "      <td>2025-01-03</td>\n",
       "      <td>0.000860</td>\n",
       "      <td>2025</td>\n",
       "      <td>1</td>\n",
       "      <td>3</td>\n",
       "      <td>jan</td>\n",
       "    </tr>\n",
       "    <tr>\n",
       "      <th>4</th>\n",
       "      <td>2025-01-04</td>\n",
       "      <td>4.871828</td>\n",
       "      <td>2025</td>\n",
       "      <td>1</td>\n",
       "      <td>4</td>\n",
       "      <td>jan</td>\n",
       "    </tr>\n",
       "    <tr>\n",
       "      <th>...</th>\n",
       "      <td>...</td>\n",
       "      <td>...</td>\n",
       "      <td>...</td>\n",
       "      <td>...</td>\n",
       "      <td>...</td>\n",
       "      <td>...</td>\n",
       "    </tr>\n",
       "    <tr>\n",
       "      <th>174</th>\n",
       "      <td>2025-06-23</td>\n",
       "      <td>0.391878</td>\n",
       "      <td>2025</td>\n",
       "      <td>6</td>\n",
       "      <td>23</td>\n",
       "      <td>jun</td>\n",
       "    </tr>\n",
       "    <tr>\n",
       "      <th>175</th>\n",
       "      <td>2025-06-24</td>\n",
       "      <td>0.184347</td>\n",
       "      <td>2025</td>\n",
       "      <td>6</td>\n",
       "      <td>24</td>\n",
       "      <td>jun</td>\n",
       "    </tr>\n",
       "    <tr>\n",
       "      <th>176</th>\n",
       "      <td>2025-06-25</td>\n",
       "      <td>0.043636</td>\n",
       "      <td>2025</td>\n",
       "      <td>6</td>\n",
       "      <td>25</td>\n",
       "      <td>jun</td>\n",
       "    </tr>\n",
       "    <tr>\n",
       "      <th>177</th>\n",
       "      <td>2025-06-26</td>\n",
       "      <td>1.363419</td>\n",
       "      <td>2025</td>\n",
       "      <td>6</td>\n",
       "      <td>26</td>\n",
       "      <td>jun</td>\n",
       "    </tr>\n",
       "    <tr>\n",
       "      <th>178</th>\n",
       "      <td>2025-06-27</td>\n",
       "      <td>1.716062</td>\n",
       "      <td>2025</td>\n",
       "      <td>6</td>\n",
       "      <td>27</td>\n",
       "      <td>jun</td>\n",
       "    </tr>\n",
       "  </tbody>\n",
       "</table>\n",
       "<p>179 rows × 6 columns</p>\n",
       "</div>"
      ],
      "text/plain": [
       "     valid_date     tp_mm  year  month_int  day month_str\n",
       "0    2024-12-31  0.121422  2024         12   31       dec\n",
       "1    2025-01-01  9.174707  2025          1    1       jan\n",
       "2    2025-01-02  0.002662  2025          1    2       jan\n",
       "3    2025-01-03  0.000860  2025          1    3       jan\n",
       "4    2025-01-04  4.871828  2025          1    4       jan\n",
       "..          ...       ...   ...        ...  ...       ...\n",
       "174  2025-06-23  0.391878  2025          6   23       jun\n",
       "175  2025-06-24  0.184347  2025          6   24       jun\n",
       "176  2025-06-25  0.043636  2025          6   25       jun\n",
       "177  2025-06-26  1.363419  2025          6   26       jun\n",
       "178  2025-06-27  1.716062  2025          6   27       jun\n",
       "\n",
       "[179 rows x 6 columns]"
      ]
     },
     "execution_count": 81,
     "metadata": {},
     "output_type": "execute_result"
    }
   ],
   "source": [
    "df_london_2025_daily"
   ]
  },
  {
   "cell_type": "code",
   "execution_count": 87,
   "id": "bb442a0f",
   "metadata": {},
   "outputs": [
    {
     "data": {
      "text/html": [
       "<div>\n",
       "<style scoped>\n",
       "    .dataframe tbody tr th:only-of-type {\n",
       "        vertical-align: middle;\n",
       "    }\n",
       "\n",
       "    .dataframe tbody tr th {\n",
       "        vertical-align: top;\n",
       "    }\n",
       "\n",
       "    .dataframe thead th {\n",
       "        text-align: right;\n",
       "    }\n",
       "</style>\n",
       "<table border=\"1\" class=\"dataframe\">\n",
       "  <thead>\n",
       "    <tr style=\"text-align: right;\">\n",
       "      <th></th>\n",
       "      <th>month_int</th>\n",
       "      <th>tp_mm</th>\n",
       "    </tr>\n",
       "  </thead>\n",
       "  <tbody>\n",
       "    <tr>\n",
       "      <th>0</th>\n",
       "      <td>1</td>\n",
       "      <td>79.178369</td>\n",
       "    </tr>\n",
       "    <tr>\n",
       "      <th>1</th>\n",
       "      <td>2</td>\n",
       "      <td>50.425044</td>\n",
       "    </tr>\n",
       "    <tr>\n",
       "      <th>2</th>\n",
       "      <td>3</td>\n",
       "      <td>17.099948</td>\n",
       "    </tr>\n",
       "    <tr>\n",
       "      <th>3</th>\n",
       "      <td>4</td>\n",
       "      <td>31.663935</td>\n",
       "    </tr>\n",
       "    <tr>\n",
       "      <th>4</th>\n",
       "      <td>5</td>\n",
       "      <td>27.608642</td>\n",
       "    </tr>\n",
       "    <tr>\n",
       "      <th>5</th>\n",
       "      <td>6</td>\n",
       "      <td>30.419911</td>\n",
       "    </tr>\n",
       "  </tbody>\n",
       "</table>\n",
       "</div>"
      ],
      "text/plain": [
       "   month_int      tp_mm\n",
       "0          1  79.178369\n",
       "1          2  50.425044\n",
       "2          3  17.099948\n",
       "3          4  31.663935\n",
       "4          5  27.608642\n",
       "5          6  30.419911"
      ]
     },
     "execution_count": 87,
     "metadata": {},
     "output_type": "execute_result"
    }
   ],
   "source": [
    "(df_london_2025_daily[df_london_2025_daily['year'] == 2025]\n",
    " .groupby('month_int')['tp_mm']\n",
    " .sum()\n",
    " ).reset_index()"
   ]
  },
  {
   "cell_type": "code",
   "execution_count": null,
   "id": "856bc5f0",
   "metadata": {},
   "outputs": [],
   "source": []
  },
  {
   "cell_type": "code",
   "execution_count": 85,
   "id": "cc9fcc81",
   "metadata": {},
   "outputs": [
    {
     "data": {
      "text/html": [
       "<div>\n",
       "<style scoped>\n",
       "    .dataframe tbody tr th:only-of-type {\n",
       "        vertical-align: middle;\n",
       "    }\n",
       "\n",
       "    .dataframe tbody tr th {\n",
       "        vertical-align: top;\n",
       "    }\n",
       "\n",
       "    .dataframe thead th {\n",
       "        text-align: right;\n",
       "    }\n",
       "</style>\n",
       "<table border=\"1\" class=\"dataframe\">\n",
       "  <thead>\n",
       "    <tr style=\"text-align: right;\">\n",
       "      <th></th>\n",
       "      <th>valid_date</th>\n",
       "      <th>tp_mm</th>\n",
       "      <th>year</th>\n",
       "      <th>month_int</th>\n",
       "      <th>day</th>\n",
       "      <th>month_str</th>\n",
       "    </tr>\n",
       "  </thead>\n",
       "  <tbody>\n",
       "    <tr>\n",
       "      <th>1</th>\n",
       "      <td>2025-01-01</td>\n",
       "      <td>9.174707</td>\n",
       "      <td>2025</td>\n",
       "      <td>1</td>\n",
       "      <td>1</td>\n",
       "      <td>jan</td>\n",
       "    </tr>\n",
       "    <tr>\n",
       "      <th>2</th>\n",
       "      <td>2025-01-02</td>\n",
       "      <td>0.002662</td>\n",
       "      <td>2025</td>\n",
       "      <td>1</td>\n",
       "      <td>2</td>\n",
       "      <td>jan</td>\n",
       "    </tr>\n",
       "    <tr>\n",
       "      <th>3</th>\n",
       "      <td>2025-01-03</td>\n",
       "      <td>0.000860</td>\n",
       "      <td>2025</td>\n",
       "      <td>1</td>\n",
       "      <td>3</td>\n",
       "      <td>jan</td>\n",
       "    </tr>\n",
       "    <tr>\n",
       "      <th>4</th>\n",
       "      <td>2025-01-04</td>\n",
       "      <td>4.871828</td>\n",
       "      <td>2025</td>\n",
       "      <td>1</td>\n",
       "      <td>4</td>\n",
       "      <td>jan</td>\n",
       "    </tr>\n",
       "    <tr>\n",
       "      <th>5</th>\n",
       "      <td>2025-01-05</td>\n",
       "      <td>20.303559</td>\n",
       "      <td>2025</td>\n",
       "      <td>1</td>\n",
       "      <td>5</td>\n",
       "      <td>jan</td>\n",
       "    </tr>\n",
       "    <tr>\n",
       "      <th>6</th>\n",
       "      <td>2025-01-06</td>\n",
       "      <td>4.635741</td>\n",
       "      <td>2025</td>\n",
       "      <td>1</td>\n",
       "      <td>6</td>\n",
       "      <td>jan</td>\n",
       "    </tr>\n",
       "    <tr>\n",
       "      <th>7</th>\n",
       "      <td>2025-01-07</td>\n",
       "      <td>0.009011</td>\n",
       "      <td>2025</td>\n",
       "      <td>1</td>\n",
       "      <td>7</td>\n",
       "      <td>jan</td>\n",
       "    </tr>\n",
       "    <tr>\n",
       "      <th>8</th>\n",
       "      <td>2025-01-08</td>\n",
       "      <td>2.509024</td>\n",
       "      <td>2025</td>\n",
       "      <td>1</td>\n",
       "      <td>8</td>\n",
       "      <td>jan</td>\n",
       "    </tr>\n",
       "    <tr>\n",
       "      <th>9</th>\n",
       "      <td>2025-01-09</td>\n",
       "      <td>0.087420</td>\n",
       "      <td>2025</td>\n",
       "      <td>1</td>\n",
       "      <td>9</td>\n",
       "      <td>jan</td>\n",
       "    </tr>\n",
       "    <tr>\n",
       "      <th>10</th>\n",
       "      <td>2025-01-10</td>\n",
       "      <td>0.002157</td>\n",
       "      <td>2025</td>\n",
       "      <td>1</td>\n",
       "      <td>10</td>\n",
       "      <td>jan</td>\n",
       "    </tr>\n",
       "    <tr>\n",
       "      <th>11</th>\n",
       "      <td>2025-01-11</td>\n",
       "      <td>0.011050</td>\n",
       "      <td>2025</td>\n",
       "      <td>1</td>\n",
       "      <td>11</td>\n",
       "      <td>jan</td>\n",
       "    </tr>\n",
       "    <tr>\n",
       "      <th>12</th>\n",
       "      <td>2025-01-12</td>\n",
       "      <td>0.022034</td>\n",
       "      <td>2025</td>\n",
       "      <td>1</td>\n",
       "      <td>12</td>\n",
       "      <td>jan</td>\n",
       "    </tr>\n",
       "    <tr>\n",
       "      <th>13</th>\n",
       "      <td>2025-01-13</td>\n",
       "      <td>0.052103</td>\n",
       "      <td>2025</td>\n",
       "      <td>1</td>\n",
       "      <td>13</td>\n",
       "      <td>jan</td>\n",
       "    </tr>\n",
       "    <tr>\n",
       "      <th>14</th>\n",
       "      <td>2025-01-14</td>\n",
       "      <td>0.003565</td>\n",
       "      <td>2025</td>\n",
       "      <td>1</td>\n",
       "      <td>14</td>\n",
       "      <td>jan</td>\n",
       "    </tr>\n",
       "    <tr>\n",
       "      <th>15</th>\n",
       "      <td>2025-01-15</td>\n",
       "      <td>0.265911</td>\n",
       "      <td>2025</td>\n",
       "      <td>1</td>\n",
       "      <td>15</td>\n",
       "      <td>jan</td>\n",
       "    </tr>\n",
       "    <tr>\n",
       "      <th>16</th>\n",
       "      <td>2025-01-16</td>\n",
       "      <td>0.122907</td>\n",
       "      <td>2025</td>\n",
       "      <td>1</td>\n",
       "      <td>16</td>\n",
       "      <td>jan</td>\n",
       "    </tr>\n",
       "    <tr>\n",
       "      <th>17</th>\n",
       "      <td>2025-01-17</td>\n",
       "      <td>0.045111</td>\n",
       "      <td>2025</td>\n",
       "      <td>1</td>\n",
       "      <td>17</td>\n",
       "      <td>jan</td>\n",
       "    </tr>\n",
       "    <tr>\n",
       "      <th>18</th>\n",
       "      <td>2025-01-18</td>\n",
       "      <td>0.152976</td>\n",
       "      <td>2025</td>\n",
       "      <td>1</td>\n",
       "      <td>18</td>\n",
       "      <td>jan</td>\n",
       "    </tr>\n",
       "    <tr>\n",
       "      <th>19</th>\n",
       "      <td>2025-01-19</td>\n",
       "      <td>0.377319</td>\n",
       "      <td>2025</td>\n",
       "      <td>1</td>\n",
       "      <td>19</td>\n",
       "      <td>jan</td>\n",
       "    </tr>\n",
       "    <tr>\n",
       "      <th>20</th>\n",
       "      <td>2025-01-20</td>\n",
       "      <td>0.234722</td>\n",
       "      <td>2025</td>\n",
       "      <td>1</td>\n",
       "      <td>20</td>\n",
       "      <td>jan</td>\n",
       "    </tr>\n",
       "    <tr>\n",
       "      <th>21</th>\n",
       "      <td>2025-01-21</td>\n",
       "      <td>0.101781</td>\n",
       "      <td>2025</td>\n",
       "      <td>1</td>\n",
       "      <td>21</td>\n",
       "      <td>jan</td>\n",
       "    </tr>\n",
       "    <tr>\n",
       "      <th>22</th>\n",
       "      <td>2025-01-22</td>\n",
       "      <td>1.825852</td>\n",
       "      <td>2025</td>\n",
       "      <td>1</td>\n",
       "      <td>22</td>\n",
       "      <td>jan</td>\n",
       "    </tr>\n",
       "    <tr>\n",
       "      <th>23</th>\n",
       "      <td>2025-01-23</td>\n",
       "      <td>3.978638</td>\n",
       "      <td>2025</td>\n",
       "      <td>1</td>\n",
       "      <td>23</td>\n",
       "      <td>jan</td>\n",
       "    </tr>\n",
       "    <tr>\n",
       "      <th>24</th>\n",
       "      <td>2025-01-24</td>\n",
       "      <td>3.634951</td>\n",
       "      <td>2025</td>\n",
       "      <td>1</td>\n",
       "      <td>24</td>\n",
       "      <td>jan</td>\n",
       "    </tr>\n",
       "    <tr>\n",
       "      <th>25</th>\n",
       "      <td>2025-01-25</td>\n",
       "      <td>0.237470</td>\n",
       "      <td>2025</td>\n",
       "      <td>1</td>\n",
       "      <td>25</td>\n",
       "      <td>jan</td>\n",
       "    </tr>\n",
       "    <tr>\n",
       "      <th>26</th>\n",
       "      <td>2025-01-26</td>\n",
       "      <td>10.383819</td>\n",
       "      <td>2025</td>\n",
       "      <td>1</td>\n",
       "      <td>26</td>\n",
       "      <td>jan</td>\n",
       "    </tr>\n",
       "    <tr>\n",
       "      <th>27</th>\n",
       "      <td>2025-01-27</td>\n",
       "      <td>4.389152</td>\n",
       "      <td>2025</td>\n",
       "      <td>1</td>\n",
       "      <td>27</td>\n",
       "      <td>jan</td>\n",
       "    </tr>\n",
       "    <tr>\n",
       "      <th>28</th>\n",
       "      <td>2025-01-28</td>\n",
       "      <td>4.593247</td>\n",
       "      <td>2025</td>\n",
       "      <td>1</td>\n",
       "      <td>28</td>\n",
       "      <td>jan</td>\n",
       "    </tr>\n",
       "    <tr>\n",
       "      <th>29</th>\n",
       "      <td>2025-01-29</td>\n",
       "      <td>0.726326</td>\n",
       "      <td>2025</td>\n",
       "      <td>1</td>\n",
       "      <td>29</td>\n",
       "      <td>jan</td>\n",
       "    </tr>\n",
       "    <tr>\n",
       "      <th>30</th>\n",
       "      <td>2025-01-30</td>\n",
       "      <td>0.036398</td>\n",
       "      <td>2025</td>\n",
       "      <td>1</td>\n",
       "      <td>30</td>\n",
       "      <td>jan</td>\n",
       "    </tr>\n",
       "    <tr>\n",
       "      <th>31</th>\n",
       "      <td>2025-01-31</td>\n",
       "      <td>6.386066</td>\n",
       "      <td>2025</td>\n",
       "      <td>1</td>\n",
       "      <td>31</td>\n",
       "      <td>jan</td>\n",
       "    </tr>\n",
       "  </tbody>\n",
       "</table>\n",
       "</div>"
      ],
      "text/plain": [
       "    valid_date      tp_mm  year  month_int  day month_str\n",
       "1   2025-01-01   9.174707  2025          1    1       jan\n",
       "2   2025-01-02   0.002662  2025          1    2       jan\n",
       "3   2025-01-03   0.000860  2025          1    3       jan\n",
       "4   2025-01-04   4.871828  2025          1    4       jan\n",
       "5   2025-01-05  20.303559  2025          1    5       jan\n",
       "6   2025-01-06   4.635741  2025          1    6       jan\n",
       "7   2025-01-07   0.009011  2025          1    7       jan\n",
       "8   2025-01-08   2.509024  2025          1    8       jan\n",
       "9   2025-01-09   0.087420  2025          1    9       jan\n",
       "10  2025-01-10   0.002157  2025          1   10       jan\n",
       "11  2025-01-11   0.011050  2025          1   11       jan\n",
       "12  2025-01-12   0.022034  2025          1   12       jan\n",
       "13  2025-01-13   0.052103  2025          1   13       jan\n",
       "14  2025-01-14   0.003565  2025          1   14       jan\n",
       "15  2025-01-15   0.265911  2025          1   15       jan\n",
       "16  2025-01-16   0.122907  2025          1   16       jan\n",
       "17  2025-01-17   0.045111  2025          1   17       jan\n",
       "18  2025-01-18   0.152976  2025          1   18       jan\n",
       "19  2025-01-19   0.377319  2025          1   19       jan\n",
       "20  2025-01-20   0.234722  2025          1   20       jan\n",
       "21  2025-01-21   0.101781  2025          1   21       jan\n",
       "22  2025-01-22   1.825852  2025          1   22       jan\n",
       "23  2025-01-23   3.978638  2025          1   23       jan\n",
       "24  2025-01-24   3.634951  2025          1   24       jan\n",
       "25  2025-01-25   0.237470  2025          1   25       jan\n",
       "26  2025-01-26  10.383819  2025          1   26       jan\n",
       "27  2025-01-27   4.389152  2025          1   27       jan\n",
       "28  2025-01-28   4.593247  2025          1   28       jan\n",
       "29  2025-01-29   0.726326  2025          1   29       jan\n",
       "30  2025-01-30   0.036398  2025          1   30       jan\n",
       "31  2025-01-31   6.386066  2025          1   31       jan"
      ]
     },
     "execution_count": 85,
     "metadata": {},
     "output_type": "execute_result"
    }
   ],
   "source": [
    "df_london_2025_daily[df_london_2025_daily['month_int'] == 1]"
   ]
  },
  {
   "cell_type": "code",
   "execution_count": null,
   "id": "835f8df0",
   "metadata": {},
   "outputs": [],
   "source": []
  }
 ],
 "metadata": {
  "kernelspec": {
   "display_name": "base",
   "language": "python",
   "name": "python3"
  },
  "language_info": {
   "codemirror_mode": {
    "name": "ipython",
    "version": 3
   },
   "file_extension": ".py",
   "mimetype": "text/x-python",
   "name": "python",
   "nbconvert_exporter": "python",
   "pygments_lexer": "ipython3",
   "version": "3.12.3"
  }
 },
 "nbformat": 4,
 "nbformat_minor": 5
}
