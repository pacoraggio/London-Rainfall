{
 "cells": [
  {
   "cell_type": "code",
   "execution_count": 1,
   "id": "7a5c6fa9",
   "metadata": {},
   "outputs": [],
   "source": [
    "import pandas as pd\n",
    "import numpy as np\n",
    "\n",
    "import matplotlib.pyplot as plt\n",
    "import seaborn as sns\n",
    "\n",
    "from src.manage_precipitation_data import create_tp_daily_summary, create_tp_monthly_aggregate, create_list_lat_long"
   ]
  },
  {
   "cell_type": "code",
   "execution_count": 13,
   "id": "172c2d49",
   "metadata": {},
   "outputs": [],
   "source": [
    "from pathlib import Path\n",
    "\n",
    "\n",
    "def create_daily_rainfall_dataframe(file_path = './output', location = 'london', debug = False):\n",
    "    # retrieve all files for location\n",
    "    folder_path = Path('./output')\n",
    "    string_in_filename = location + '_daily'\n",
    "    location_files = [f for f in folder_path.glob('*.parquet') if string_in_filename in f.name]\n",
    "    \n",
    "    # open each files and create a list of dataframe\n",
    "    dfs = []\n",
    "    for file in location_files:\n",
    "        df = pd.read_parquet(file)\n",
    "        dfs.append(df)\n",
    "\n",
    "    # concat list of dataframes\n",
    "    df_all = pd.concat(dfs, axis = 0).sort_values('time_dt').reset_index(drop=True)\n",
    "    if debug:\n",
    "        n_points = len(create_list_lat_long(df_all))\n",
    "        n_days = ((df_all['time_dt'].max() - df_all['time_dt'].min()).days+1)\n",
    "        print(f\"number of expected rows = {n_points*n_days}, number of returned rows = {df_all.shape[0]}\")\n",
    "    return(df_all)\n",
    "\n",
    "def transform_data_datetime(df):\n",
    "    df = df.copy()\n",
    "    df['year'] = df['time_dt'].dt.year\n",
    "    df['month int'] = df['time_dt'].dt.month\n",
    "    df['month'] = df['time_dt'].dt.strftime('%b')\n",
    "    df['month'] = pd.Categorical(df['month'], categories=['Jan', 'Feb', 'Mar', 'Apr', 'May', 'Jun',\n",
    "                                                          'Jul', 'Aug', 'Sep', 'Oct', 'Nov', 'Dec'], ordered=True)\n",
    "\n",
    "    df['day'] = df['time_dt'].dt.day\n",
    "\n",
    "\n",
    "    return df\n",
    "\n",
    "def thresholding_and_rounding(series, threshold = 0.1):\n",
    "    s1 = series.copy()\n",
    "    s1[s1 < threshold] = 0\n",
    "    return(np.round(s1,1))\n",
    "\n",
    "def create_monthly_aggregate(location = 'london', remove_date_list = ['2009-12-31'], debug = False):\n",
    "    '''\n",
    "    Create function signature    \n",
    "    '''\n",
    "\n",
    "    # first, create daily total precipitation for all points in the grid\n",
    "    # in the area defined by location. This data is contained in pickle files \n",
    "    # from a specific folder. The function concat all yearly files created in\n",
    "    # previous steps\n",
    "    df_data = create_daily_rainfall_dataframe(location=location, debug=debug)\n",
    "    # removing data contained in remove_date_list\n",
    "    df_data = df_data[~df_data['time'].isin(remove_date_list)].reset_index(drop=True).copy()\n",
    "\n",
    "    # creating time_dt column to process the mean\n",
    "    df_data = transform_data_datetime(df_data)\n",
    "\n",
    "    # Averaging measurements for all points in the grid\n",
    "    df_data_mean = (df_data\n",
    "                        .groupby('time_dt')['tp_mm']\n",
    "                        .mean()\n",
    "                        ).reset_index()\n",
    "\n",
    "    # creating year, month, day colums\n",
    "    df_data_mean = transform_data_datetime(df_data_mean)\n",
    "    # thresholding and rounding tp_mm values\n",
    "    df_data_mean['tp_mm'] = thresholding_and_rounding(df_data_mean['tp_mm'])\n",
    "    # creating year-month aggregate - to decide if saving the result as a parquet file for further analysis on time/monthly series\n",
    "    # At this stage, we are just using the monthly sum\n",
    "    df_data_year_month = (df_data_mean\n",
    "                            .groupby(['year', 'month int'])\n",
    "                            .agg(\n",
    "                                month = ('month', 'first'),\n",
    "                                tp_monthly_sum = ('tp_mm', 'sum'),\n",
    "                                tp_daily_median = ('tp_mm', 'median'),\n",
    "                                tp_daily_avg = ('tp_mm', 'mean'),\n",
    "                                tp_daily_std = ('tp_mm', 'std'),\n",
    "                                tp_daily_min = ('tp_mm', 'min'),\n",
    "                                tp_daily_max = ('tp_mm', 'max')\n",
    "                                ).reset_index()\n",
    "                                )\n",
    "    \n",
    "    # creating the 'year_month' as string variable - this is just if we want to save the resulting dataframe for further analysis\n",
    "    df_data_year_month['year_month'] = df_data_year_month['year'].astype(str) + '-' + df_data_year_month['month int'].astype(str).str.zfill(2)\n",
    "    \n",
    "    filename_str = location + '_year_month_from_' + df_data_year_month['year_month'].min() + '_to_' + df_data_year_month['year_month'].max()\n",
    "    if debug:\n",
    "        print(filename_str)\n",
    "    \n",
    "    # finally, creating monthly aggregate\n",
    "\n",
    "    data_monthly_tp = (df_data_year_month\n",
    "                         .groupby('month', observed=True)\n",
    "                         .agg(\n",
    "                             month_sum = ('tp_monthly_sum', 'sum'),\n",
    "                             month_median = ('tp_monthly_sum', 'median'),\n",
    "                             month_avg = ('tp_monthly_sum', 'mean'),\n",
    "                             month_std = ('tp_monthly_sum', 'std'),\n",
    "                             month_min = ('tp_monthly_sum', 'min'),\n",
    "                             month_max = ('tp_monthly_sum', 'max')\n",
    "                             )\n",
    "                             .reset_index()\n",
    "                             )\n",
    "    \n",
    "    data_monthly_tp[['month_median', 'month_avg','month_std']] = np.round(data_monthly_tp[['month_median', 'month_avg','month_std']],1)    \n",
    "    \n",
    "    return(data_monthly_tp)\n",
    "\n",
    "import matplotlib.pyplot as plt\n",
    "import numpy as np\n",
    "\n",
    "# Example data\n",
    "def plot_monthly_aggregate_static(df_plot, feature_label = 'Mean', bar_width = 0.35, location = 'London'):\n",
    "    label_dict = {'Mean':'month_avg', 'Median':'month_median', 'Sum':'month_sum', 'Avg' :'month_avg', 'Average':'month_avg'}\n",
    "    feature = label_dict[feature_label]\n",
    "    months = df_plot['month'].values\n",
    "    # agg_precip = df_plot[feature].values\n",
    "    min_precip = df_plot['month_min'].values\n",
    "    max_precip = df_plot['month_max'].values\n",
    "\n",
    "    # Convert months to x-axis positions\n",
    "    x = np.arange(len(months))\n",
    "\n",
    "    # Plot\n",
    "    plt.figure(figsize=(10, 4))\n",
    "    # plt.plot(x, agg_precip, label='Mean Precipitation', color='blue', marker='o')\n",
    "    print(feature)\n",
    "    ax = sns.barplot(data = df_plot, \n",
    "                x = 'month', \n",
    "                y = feature,\n",
    "                width=0.5)\n",
    "\n",
    "    plt.plot(x, max_precip, label='Max Precipitation', color='red', marker='o')\n",
    "    plt.fill_between(x, min_precip, max_precip, color='lightblue', alpha=0.4, label='Min-Max Range')\n",
    "    plt.plot(x, min_precip, label='Min Precipitation', color='green', marker='d')\n",
    "\n",
    "    # Add annotations on top of each bar\n",
    "    for container in ax.containers:\n",
    "        ax.bar_label(container, fmt='%.2f', label_type='edge', padding=3)\n",
    "\n",
    "    # Move legend outside the plot\n",
    "    ax.legend(\n",
    "        title='Aggregate Values',\n",
    "        bbox_to_anchor=(1.05, 1),  # x=1.05 moves it to the right\n",
    "        loc='upper left',          # anchor point of the legend\n",
    "        borderaxespad=0.\n",
    "    )\n",
    "\n",
    "    plt.xticks(x, months)\n",
    "    plt.ylabel(\"Precipitation (mm)\")\n",
    "    plt.title(f\"Monthly {feature_label} Rainfall with Min-Max Range in {location}\")\n",
    "    plt.grid(True)\n",
    "    plt.tight_layout()\n",
    "    plt.show()"
   ]
  },
  {
   "cell_type": "code",
   "execution_count": null,
   "id": "3c65fed6",
   "metadata": {},
   "outputs": [],
   "source": []
  },
  {
   "cell_type": "code",
   "execution_count": 10,
   "id": "b828eda3",
   "metadata": {},
   "outputs": [
    {
     "name": "stdout",
     "output_type": "stream",
     "text": [
      "number of expected rows = 67884, number of returned rows = 67884\n",
      "london_year_month_from_2010-01_to_2025-06\n",
      "number of expected rows = 1001466, number of returned rows = 1001466\n",
      "puglia_year_month_from_2010-01_to_2025-06\n"
     ]
    }
   ],
   "source": [
    "london_monthly_aggregate = create_monthly_aggregate(debug=True)\n",
    "apulia_monthly_aggregate = create_monthly_aggregate('puglia', debug=True)"
   ]
  },
  {
   "cell_type": "code",
   "execution_count": 11,
   "id": "83e85269",
   "metadata": {},
   "outputs": [
    {
     "data": {
      "text/html": [
       "<div>\n",
       "<style scoped>\n",
       "    .dataframe tbody tr th:only-of-type {\n",
       "        vertical-align: middle;\n",
       "    }\n",
       "\n",
       "    .dataframe tbody tr th {\n",
       "        vertical-align: top;\n",
       "    }\n",
       "\n",
       "    .dataframe thead th {\n",
       "        text-align: right;\n",
       "    }\n",
       "</style>\n",
       "<table border=\"1\" class=\"dataframe\">\n",
       "  <thead>\n",
       "    <tr style=\"text-align: right;\">\n",
       "      <th></th>\n",
       "      <th>month</th>\n",
       "      <th>month_sum</th>\n",
       "      <th>month_median</th>\n",
       "      <th>month_avg</th>\n",
       "      <th>month_std</th>\n",
       "      <th>month_min</th>\n",
       "      <th>month_max</th>\n",
       "    </tr>\n",
       "  </thead>\n",
       "  <tbody>\n",
       "    <tr>\n",
       "      <th>0</th>\n",
       "      <td>Jan</td>\n",
       "      <td>1023.8</td>\n",
       "      <td>60.0</td>\n",
       "      <td>64.0</td>\n",
       "      <td>26.1</td>\n",
       "      <td>18.3</td>\n",
       "      <td>114.4</td>\n",
       "    </tr>\n",
       "    <tr>\n",
       "      <th>1</th>\n",
       "      <td>Feb</td>\n",
       "      <td>872.7</td>\n",
       "      <td>46.8</td>\n",
       "      <td>54.5</td>\n",
       "      <td>29.1</td>\n",
       "      <td>9.7</td>\n",
       "      <td>116.1</td>\n",
       "    </tr>\n",
       "    <tr>\n",
       "      <th>2</th>\n",
       "      <td>Mar</td>\n",
       "      <td>783.1</td>\n",
       "      <td>41.4</td>\n",
       "      <td>48.9</td>\n",
       "      <td>28.8</td>\n",
       "      <td>12.1</td>\n",
       "      <td>106.0</td>\n",
       "    </tr>\n",
       "    <tr>\n",
       "      <th>3</th>\n",
       "      <td>Apr</td>\n",
       "      <td>732.4</td>\n",
       "      <td>38.0</td>\n",
       "      <td>45.8</td>\n",
       "      <td>29.0</td>\n",
       "      <td>5.2</td>\n",
       "      <td>116.1</td>\n",
       "    </tr>\n",
       "    <tr>\n",
       "      <th>4</th>\n",
       "      <td>May</td>\n",
       "      <td>906.0</td>\n",
       "      <td>54.6</td>\n",
       "      <td>56.6</td>\n",
       "      <td>26.8</td>\n",
       "      <td>6.3</td>\n",
       "      <td>98.8</td>\n",
       "    </tr>\n",
       "    <tr>\n",
       "      <th>5</th>\n",
       "      <td>Jun</td>\n",
       "      <td>999.8</td>\n",
       "      <td>51.7</td>\n",
       "      <td>62.5</td>\n",
       "      <td>42.3</td>\n",
       "      <td>8.6</td>\n",
       "      <td>136.8</td>\n",
       "    </tr>\n",
       "    <tr>\n",
       "      <th>6</th>\n",
       "      <td>Jul</td>\n",
       "      <td>928.7</td>\n",
       "      <td>56.0</td>\n",
       "      <td>61.9</td>\n",
       "      <td>29.4</td>\n",
       "      <td>16.3</td>\n",
       "      <td>116.5</td>\n",
       "    </tr>\n",
       "    <tr>\n",
       "      <th>7</th>\n",
       "      <td>Aug</td>\n",
       "      <td>1067.1</td>\n",
       "      <td>65.0</td>\n",
       "      <td>71.1</td>\n",
       "      <td>26.2</td>\n",
       "      <td>30.1</td>\n",
       "      <td>117.3</td>\n",
       "    </tr>\n",
       "    <tr>\n",
       "      <th>8</th>\n",
       "      <td>Sep</td>\n",
       "      <td>806.3</td>\n",
       "      <td>48.4</td>\n",
       "      <td>53.8</td>\n",
       "      <td>27.7</td>\n",
       "      <td>16.6</td>\n",
       "      <td>132.4</td>\n",
       "    </tr>\n",
       "    <tr>\n",
       "      <th>9</th>\n",
       "      <td>Oct</td>\n",
       "      <td>1089.5</td>\n",
       "      <td>79.0</td>\n",
       "      <td>72.6</td>\n",
       "      <td>36.1</td>\n",
       "      <td>22.3</td>\n",
       "      <td>135.2</td>\n",
       "    </tr>\n",
       "    <tr>\n",
       "      <th>10</th>\n",
       "      <td>Nov</td>\n",
       "      <td>954.7</td>\n",
       "      <td>59.2</td>\n",
       "      <td>63.6</td>\n",
       "      <td>27.9</td>\n",
       "      <td>13.3</td>\n",
       "      <td>118.6</td>\n",
       "    </tr>\n",
       "    <tr>\n",
       "      <th>11</th>\n",
       "      <td>Dec</td>\n",
       "      <td>989.9</td>\n",
       "      <td>63.3</td>\n",
       "      <td>66.0</td>\n",
       "      <td>26.7</td>\n",
       "      <td>10.1</td>\n",
       "      <td>101.8</td>\n",
       "    </tr>\n",
       "  </tbody>\n",
       "</table>\n",
       "</div>"
      ],
      "text/plain": [
       "   month  month_sum  month_median  month_avg  month_std  month_min  month_max\n",
       "0    Jan     1023.8          60.0       64.0       26.1       18.3      114.4\n",
       "1    Feb      872.7          46.8       54.5       29.1        9.7      116.1\n",
       "2    Mar      783.1          41.4       48.9       28.8       12.1      106.0\n",
       "3    Apr      732.4          38.0       45.8       29.0        5.2      116.1\n",
       "4    May      906.0          54.6       56.6       26.8        6.3       98.8\n",
       "5    Jun      999.8          51.7       62.5       42.3        8.6      136.8\n",
       "6    Jul      928.7          56.0       61.9       29.4       16.3      116.5\n",
       "7    Aug     1067.1          65.0       71.1       26.2       30.1      117.3\n",
       "8    Sep      806.3          48.4       53.8       27.7       16.6      132.4\n",
       "9    Oct     1089.5          79.0       72.6       36.1       22.3      135.2\n",
       "10   Nov      954.7          59.2       63.6       27.9       13.3      118.6\n",
       "11   Dec      989.9          63.3       66.0       26.7       10.1      101.8"
      ]
     },
     "execution_count": 11,
     "metadata": {},
     "output_type": "execute_result"
    }
   ],
   "source": [
    "london_monthly_aggregate"
   ]
  },
  {
   "cell_type": "code",
   "execution_count": 12,
   "id": "096ba048",
   "metadata": {},
   "outputs": [
    {
     "data": {
      "text/html": [
       "<div>\n",
       "<style scoped>\n",
       "    .dataframe tbody tr th:only-of-type {\n",
       "        vertical-align: middle;\n",
       "    }\n",
       "\n",
       "    .dataframe tbody tr th {\n",
       "        vertical-align: top;\n",
       "    }\n",
       "\n",
       "    .dataframe thead th {\n",
       "        text-align: right;\n",
       "    }\n",
       "</style>\n",
       "<table border=\"1\" class=\"dataframe\">\n",
       "  <thead>\n",
       "    <tr style=\"text-align: right;\">\n",
       "      <th></th>\n",
       "      <th>month</th>\n",
       "      <th>month_sum</th>\n",
       "      <th>month_median</th>\n",
       "      <th>month_avg</th>\n",
       "      <th>month_std</th>\n",
       "      <th>month_min</th>\n",
       "      <th>month_max</th>\n",
       "    </tr>\n",
       "  </thead>\n",
       "  <tbody>\n",
       "    <tr>\n",
       "      <th>0</th>\n",
       "      <td>Jan</td>\n",
       "      <td>943.5</td>\n",
       "      <td>57.0</td>\n",
       "      <td>59.0</td>\n",
       "      <td>25.0</td>\n",
       "      <td>9.7</td>\n",
       "      <td>108.6</td>\n",
       "    </tr>\n",
       "    <tr>\n",
       "      <th>1</th>\n",
       "      <td>Feb</td>\n",
       "      <td>997.7</td>\n",
       "      <td>58.0</td>\n",
       "      <td>62.4</td>\n",
       "      <td>29.4</td>\n",
       "      <td>11.8</td>\n",
       "      <td>126.8</td>\n",
       "    </tr>\n",
       "    <tr>\n",
       "      <th>2</th>\n",
       "      <td>Mar</td>\n",
       "      <td>1122.9</td>\n",
       "      <td>64.2</td>\n",
       "      <td>70.2</td>\n",
       "      <td>29.7</td>\n",
       "      <td>21.0</td>\n",
       "      <td>125.9</td>\n",
       "    </tr>\n",
       "    <tr>\n",
       "      <th>3</th>\n",
       "      <td>Apr</td>\n",
       "      <td>837.1</td>\n",
       "      <td>49.2</td>\n",
       "      <td>52.3</td>\n",
       "      <td>24.3</td>\n",
       "      <td>16.5</td>\n",
       "      <td>103.1</td>\n",
       "    </tr>\n",
       "    <tr>\n",
       "      <th>4</th>\n",
       "      <td>May</td>\n",
       "      <td>852.5</td>\n",
       "      <td>43.0</td>\n",
       "      <td>53.3</td>\n",
       "      <td>30.6</td>\n",
       "      <td>11.8</td>\n",
       "      <td>122.5</td>\n",
       "    </tr>\n",
       "    <tr>\n",
       "      <th>5</th>\n",
       "      <td>Jun</td>\n",
       "      <td>485.3</td>\n",
       "      <td>31.4</td>\n",
       "      <td>30.3</td>\n",
       "      <td>22.2</td>\n",
       "      <td>0.7</td>\n",
       "      <td>74.2</td>\n",
       "    </tr>\n",
       "    <tr>\n",
       "      <th>6</th>\n",
       "      <td>Jul</td>\n",
       "      <td>313.8</td>\n",
       "      <td>22.5</td>\n",
       "      <td>20.9</td>\n",
       "      <td>10.3</td>\n",
       "      <td>4.8</td>\n",
       "      <td>36.1</td>\n",
       "    </tr>\n",
       "    <tr>\n",
       "      <th>7</th>\n",
       "      <td>Aug</td>\n",
       "      <td>345.9</td>\n",
       "      <td>17.8</td>\n",
       "      <td>23.1</td>\n",
       "      <td>19.5</td>\n",
       "      <td>2.0</td>\n",
       "      <td>71.8</td>\n",
       "    </tr>\n",
       "    <tr>\n",
       "      <th>8</th>\n",
       "      <td>Sep</td>\n",
       "      <td>785.9</td>\n",
       "      <td>54.9</td>\n",
       "      <td>52.4</td>\n",
       "      <td>33.6</td>\n",
       "      <td>11.4</td>\n",
       "      <td>141.9</td>\n",
       "    </tr>\n",
       "    <tr>\n",
       "      <th>9</th>\n",
       "      <td>Oct</td>\n",
       "      <td>1006.9</td>\n",
       "      <td>51.0</td>\n",
       "      <td>67.1</td>\n",
       "      <td>43.3</td>\n",
       "      <td>27.1</td>\n",
       "      <td>162.8</td>\n",
       "    </tr>\n",
       "    <tr>\n",
       "      <th>10</th>\n",
       "      <td>Nov</td>\n",
       "      <td>1337.6</td>\n",
       "      <td>82.3</td>\n",
       "      <td>89.2</td>\n",
       "      <td>35.6</td>\n",
       "      <td>34.0</td>\n",
       "      <td>150.9</td>\n",
       "    </tr>\n",
       "    <tr>\n",
       "      <th>11</th>\n",
       "      <td>Dec</td>\n",
       "      <td>680.4</td>\n",
       "      <td>43.3</td>\n",
       "      <td>45.4</td>\n",
       "      <td>25.4</td>\n",
       "      <td>3.1</td>\n",
       "      <td>86.6</td>\n",
       "    </tr>\n",
       "  </tbody>\n",
       "</table>\n",
       "</div>"
      ],
      "text/plain": [
       "   month  month_sum  month_median  month_avg  month_std  month_min  month_max\n",
       "0    Jan      943.5          57.0       59.0       25.0        9.7      108.6\n",
       "1    Feb      997.7          58.0       62.4       29.4       11.8      126.8\n",
       "2    Mar     1122.9          64.2       70.2       29.7       21.0      125.9\n",
       "3    Apr      837.1          49.2       52.3       24.3       16.5      103.1\n",
       "4    May      852.5          43.0       53.3       30.6       11.8      122.5\n",
       "5    Jun      485.3          31.4       30.3       22.2        0.7       74.2\n",
       "6    Jul      313.8          22.5       20.9       10.3        4.8       36.1\n",
       "7    Aug      345.9          17.8       23.1       19.5        2.0       71.8\n",
       "8    Sep      785.9          54.9       52.4       33.6       11.4      141.9\n",
       "9    Oct     1006.9          51.0       67.1       43.3       27.1      162.8\n",
       "10   Nov     1337.6          82.3       89.2       35.6       34.0      150.9\n",
       "11   Dec      680.4          43.3       45.4       25.4        3.1       86.6"
      ]
     },
     "execution_count": 12,
     "metadata": {},
     "output_type": "execute_result"
    }
   ],
   "source": [
    "apulia_monthly_aggregate"
   ]
  },
  {
   "cell_type": "code",
   "execution_count": 17,
   "id": "8eba767b",
   "metadata": {},
   "outputs": [
    {
     "name": "stdout",
     "output_type": "stream",
     "text": [
      "month_avg\n"
     ]
    },
    {
     "data": {
      "image/png": "[encoded data removed]",
      "text/plain": [
       "<Figure size 1000x400 with 1 Axes>"
      ]
     },
     "metadata": {},
     "output_type": "display_data"
    }
   ],
   "source": [
    "plot_monthly_aggregate_static(apulia_monthly_aggregate, 'Mean')"
   ]
  },
  {
   "cell_type": "code",
   "execution_count": 18,
   "id": "05fb9d6a",
   "metadata": {},
   "outputs": [
    {
     "name": "stdout",
     "output_type": "stream",
     "text": [
      "month_avg\n"
     ]
    },
    {
     "data": {
      "image/png": "[encoded data removed]",
      "text/plain": [
       "<Figure size 1000x400 with 1 Axes>"
      ]
     },
     "metadata": {},
     "output_type": "display_data"
    }
   ],
   "source": [
    "plot_monthly_aggregate_static(london_monthly_aggregate, 'Mean')"
   ]
  },
  {
   "cell_type": "code",
   "execution_count": 41,
   "id": "7048daf6",
   "metadata": {},
   "outputs": [],
   "source": [
    "import plotly.graph_objects as go\n",
    "\n",
    "\n",
    "def plot_monthly_aggregate_dynamic(df_plot, \n",
    "                                   feature_label = 'Mean', \n",
    "                                   bar_width = 0.35, \n",
    "                                   location = 'London',\n",
    "                                   fig_width = 800,\n",
    "                                   fig_height = 400):\n",
    "    # Create figure\n",
    "    fig = go.Figure()\n",
    "\n",
    "    label_dict = {'Mean':'month_avg', 'Median':'month_median', 'Sum':'month_sum', 'Avg' :'month_avg', 'Average':'month_avg'}\n",
    "    feature = label_dict[feature_label]\n",
    "\n",
    "    months = df_plot['month'].values\n",
    "    mean_precip = df_plot[feature].values\n",
    "    min_precip = df_plot['month_min'].values\n",
    "    max_precip = df_plot['month_max'].values\n",
    "\n",
    "\n",
    "    # Add min-max range as a filled area\n",
    "    months = ['Jan', 'Feb', 'Mar', 'Apr', 'May', 'Jun',\n",
    "            'Jul', 'Aug', 'Sep', 'Oct', 'Nov', 'Dec']\n",
    "\n",
    "    fig.add_trace(go.Scatter(\n",
    "        x=months + months[::-1],  # x: Jan to Dec and back from Dec to Jan\n",
    "        y=list(max_precip) + list(min_precip[::-1]),  # Upper bound + lower bound reversed\n",
    "        fill='toself',\n",
    "        fillcolor='rgba(135, 206, 250, 0.4)',  # Light blue with transparency\n",
    "        line=dict(color='rgba(255,255,255,0)'),  # No line\n",
    "        hoverinfo=\"skip\",\n",
    "        showlegend=True,\n",
    "        name='Min-Max Range'\n",
    "    ))\n",
    "\n",
    "    # Add mean line\n",
    "    # fig.add_trace(go.Scatter(\n",
    "    #     x=months,\n",
    "    #     y=mean_precip,\n",
    "    #     mode='lines+markers',\n",
    "    #     name='Mean Precipitation',\n",
    "    #     line=dict(color='blue'),\n",
    "    #     marker=dict(size=6)\n",
    "    # ))\n",
    "\n",
    "    fig.add_trace(go.Bar(\n",
    "        x = months,\n",
    "        y = mean_precip,\n",
    "        name='Mean Precipitation',\n",
    "        marker=dict(\n",
    "            color='blue',\n",
    "            line=dict(width=0),\n",
    "            opacity=0.9\n",
    "        ),\n",
    "        width=bar_width\n",
    "    ))\n",
    "\n",
    "    # Layout\n",
    "    fig.update_layout(\n",
    "        title = f\"Monthly {feature_label} Rainfall with Min-Max Range in {location}\",\n",
    "        xaxis_title='Month',\n",
    "        yaxis_title='Precipitation (mm)',\n",
    "        template='plotly_white',\n",
    "        hovermode=\"x unified\",\n",
    "        barmode='overlay',\n",
    "        barcornerradius=8,\n",
    "        width=fig_width,\n",
    "        height=fig_height,\n",
    "    )\n",
    "\n",
    "    return(fig)"
   ]
  },
  {
   "cell_type": "code",
   "execution_count": 43,
   "id": "22147a96",
   "metadata": {},
   "outputs": [
    {
     "data": {
      "application/vnd.plotly.v1+json": {
       "config": {
        "plotlyServerURL": "https://plot.ly"
       },
       "data": [
        {
         "fill": "toself",
         "fillcolor": "rgba(135, 206, 250, 0.4)",
         "hoverinfo": "skip",
         "line": {
          "color": "rgba(255,255,255,0)"
         },
         "name": "Min-Max Range",
         "showlegend": true,
         "type": "scatter",
         "x": [
          "Jan",
          "Feb",
          "Mar",
          "Apr",
          "May",
          "Jun",
          "Jul",
          "Aug",
          "Sep",
          "Oct",
          "Nov",
          "Dec",
          "Dec",
          "Nov",
          "Oct",
          "Sep",
          "Aug",
          "Jul",
          "Jun",
          "May",
          "Apr",
          "Mar",
          "Feb",
          "Jan"
         ],
         "y": [
          114.4,
          116.1,
          106,
          116.1,
          98.8,
          136.8,
          116.5,
          117.30000000000001,
          132.4,
          135.2,
          118.6,
          101.8,
          10.1,
          13.3,
          22.3,
          16.6,
          30.1,
          16.3,
          8.6,
          6.3,
          5.2,
          12.1,
          9.7,
          18.3
         ]
        },
        {
         "marker": {
          "color": "blue",
          "line": {
           "width": 0
          },
          "opacity": 0.9
         },
         "name": "Mean Precipitation",
         "type": "bar",
         "width": 0.65,
         "x": [
          "Jan",
          "Feb",
          "Mar",
          "Apr",
          "May",
          "Jun",
          "Jul",
          "Aug",
          "Sep",
          "Oct",
          "Nov",
          "Dec"
         ],
         "y": [
          64,
          54.5,
          48.9,
          45.8,
          56.6,
          62.5,
          61.9,
          71.1,
          53.8,
          72.6,
          63.6,
          66
         ]
        }
       ],
       "layout": {
        "barcornerradius": 8,
        "barmode": "overlay",
        "height": 600,
        "hovermode": "x unified",
        "template": {
         "data": {
          "bar": [
           {
            "error_x": {
             "color": "#2a3f5f"
            },
            "error_y": {
             "color": "#2a3f5f"
            },
            "marker": {
             "line": {
              "color": "white",
              "width": 0.5
             },
             "pattern": {
              "fillmode": "overlay",
              "size": 10,
              "solidity": 0.2
             }
            },
            "type": "bar"
           }
          ],
          "barpolar": [
           {
            "marker": {
             "line": {
              "color": "white",
              "width": 0.5
             },
             "pattern": {
              "fillmode": "overlay",
              "size": 10,
              "solidity": 0.2
             }
            },
            "type": "barpolar"
           }
          ],
          "carpet": [
           {
            "aaxis": {
             "endlinecolor": "#2a3f5f",
             "gridcolor": "#C8D4E3",
             "linecolor": "#C8D4E3",
             "minorgridcolor": "#C8D4E3",
             "startlinecolor": "#2a3f5f"
            },
            "baxis": {
             "endlinecolor": "#2a3f5f",
             "gridcolor": "#C8D4E3",
             "linecolor": "#C8D4E3",
             "minorgridcolor": "#C8D4E3",
             "startlinecolor": "#2a3f5f"
            },
            "type": "carpet"
           }
          ],
          "choropleth": [
           {
            "colorbar": {
             "outlinewidth": 0,
             "ticks": ""
            },
            "type": "choropleth"
           }
          ],
          "contour": [
           {
            "colorbar": {
             "outlinewidth": 0,
             "ticks": ""
            },
            "colorscale": [
             [
              0,
              "#0d0887"
             ],
             [
              0.1111111111111111,
              "#46039f"
             ],
             [
              0.2222222222222222,
              "#7201a8"
             ],
             [
              0.3333333333333333,
              "#9c179e"
             ],
             [
              0.4444444444444444,
              "#bd3786"
             ],
             [
              0.5555555555555556,
              "#d8576b"
             ],
             [
              0.6666666666666666,
              "#ed7953"
             ],
             [
              0.7777777777777778,
              "#fb9f3a"
             ],
             [
              0.8888888888888888,
              "#fdca26"
             ],
             [
              1,
              "#f0f921"
             ]
            ],
            "type": "contour"
           }
          ],
          "contourcarpet": [
           {
            "colorbar": {
             "outlinewidth": 0,
             "ticks": ""
            },
            "type": "contourcarpet"
           }
          ],
          "heatmap": [
           {
            "colorbar": {
             "outlinewidth": 0,
             "ticks": ""
            },
            "colorscale": [
             [
              0,
              "#0d0887"
             ],
             [
              0.1111111111111111,
              "#46039f"
             ],
             [
              0.2222222222222222,
              "#7201a8"
             ],
             [
              0.3333333333333333,
              "#9c179e"
             ],
             [
              0.4444444444444444,
              "#bd3786"
             ],
             [
              0.5555555555555556,
              "#d8576b"
             ],
             [
              0.6666666666666666,
              "#ed7953"
             ],
             [
              0.7777777777777778,
              "#fb9f3a"
             ],
             [
              0.8888888888888888,
              "#fdca26"
             ],
             [
              1,
              "#f0f921"
             ]
            ],
            "type": "heatmap"
           }
          ],
          "heatmapgl": [
           {
            "colorbar": {
             "outlinewidth": 0,
             "ticks": ""
            },
            "colorscale": [
             [
              0,
              "#0d0887"
             ],
             [
              0.1111111111111111,
              "#46039f"
             ],
             [
              0.2222222222222222,
              "#7201a8"
             ],
             [
              0.3333333333333333,
              "#9c179e"
             ],
             [
              0.4444444444444444,
              "#bd3786"
             ],
             [
              0.5555555555555556,
              "#d8576b"
             ],
             [
              0.6666666666666666,
              "#ed7953"
             ],
             [
              0.7777777777777778,
              "#fb9f3a"
             ],
             [
              0.8888888888888888,
              "#fdca26"
             ],
             [
              1,
              "#f0f921"
             ]
            ],
            "type": "heatmapgl"
           }
          ],
          "histogram": [
           {
            "marker": {
             "pattern": {
              "fillmode": "overlay",
              "size": 10,
              "solidity": 0.2
             }
            },
            "type": "histogram"
           }
          ],
          "histogram2d": [
           {
            "colorbar": {
             "outlinewidth": 0,
             "ticks": ""
            },
            "colorscale": [
             [
              0,
              "#0d0887"
             ],
             [
              0.1111111111111111,
              "#46039f"
             ],
             [
              0.2222222222222222,
              "#7201a8"
             ],
             [
              0.3333333333333333,
              "#9c179e"
             ],
             [
              0.4444444444444444,
              "#bd3786"
             ],
             [
              0.5555555555555556,
              "#d8576b"
             ],
             [
              0.6666666666666666,
              "#ed7953"
             ],
             [
              0.7777777777777778,
              "#fb9f3a"
             ],
             [
              0.8888888888888888,
              "#fdca26"
             ],
             [
              1,
              "#f0f921"
             ]
            ],
            "type": "histogram2d"
           }
          ],
          "histogram2dcontour": [
           {
            "colorbar": {
             "outlinewidth": 0,
             "ticks": ""
            },
            "colorscale": [
             [
              0,
              "#0d0887"
             ],
             [
              0.1111111111111111,
              "#46039f"
             ],
             [
              0.2222222222222222,
              "#7201a8"
             ],
             [
              0.3333333333333333,
              "#9c179e"
             ],
             [
              0.4444444444444444,
              "#bd3786"
             ],
             [
              0.5555555555555556,
              "#d8576b"
             ],
             [
              0.6666666666666666,
              "#ed7953"
             ],
             [
              0.7777777777777778,
              "#fb9f3a"
             ],
             [
              0.8888888888888888,
              "#fdca26"
             ],
             [
              1,
              "#f0f921"
             ]
            ],
            "type": "histogram2dcontour"
           }
          ],
          "mesh3d": [
           {
            "colorbar": {
             "outlinewidth": 0,
             "ticks": ""
            },
            "type": "mesh3d"
           }
          ],
          "parcoords": [
           {
            "line": {
             "colorbar": {
              "outlinewidth": 0,
              "ticks": ""
             }
            },
            "type": "parcoords"
           }
          ],
          "pie": [
           {
            "automargin": true,
            "type": "pie"
           }
          ],
          "scatter": [
           {
            "fillpattern": {
             "fillmode": "overlay",
             "size": 10,
             "solidity": 0.2
            },
            "type": "scatter"
           }
          ],
          "scatter3d": [
           {
            "line": {
             "colorbar": {
              "outlinewidth": 0,
              "ticks": ""
             }
            },
            "marker": {
             "colorbar": {
              "outlinewidth": 0,
              "ticks": ""
             }
            },
            "type": "scatter3d"
           }
          ],
          "scattercarpet": [
           {
            "marker": {
             "colorbar": {
              "outlinewidth": 0,
              "ticks": ""
             }
            },
            "type": "scattercarpet"
           }
          ],
          "scattergeo": [
           {
            "marker": {
             "colorbar": {
              "outlinewidth": 0,
              "ticks": ""
             }
            },
            "type": "scattergeo"
           }
          ],
          "scattergl": [
           {
            "marker": {
             "colorbar": {
              "outlinewidth": 0,
              "ticks": ""
             }
            },
            "type": "scattergl"
           }
          ],
          "scattermapbox": [
           {
            "marker": {
             "colorbar": {
              "outlinewidth": 0,
              "ticks": ""
             }
            },
            "type": "scattermapbox"
           }
          ],
          "scatterpolar": [
           {
            "marker": {
             "colorbar": {
              "outlinewidth": 0,
              "ticks": ""
             }
            },
            "type": "scatterpolar"
           }
          ],
          "scatterpolargl": [
           {
            "marker": {
             "colorbar": {
              "outlinewidth": 0,
              "ticks": ""
             }
            },
            "type": "scatterpolargl"
           }
          ],
          "scatterternary": [
           {
            "marker": {
             "colorbar": {
              "outlinewidth": 0,
              "ticks": ""
             }
            },
            "type": "scatterternary"
           }
          ],
          "surface": [
           {
            "colorbar": {
             "outlinewidth": 0,
             "ticks": ""
            },
            "colorscale": [
             [
              0,
              "#0d0887"
             ],
             [
              0.1111111111111111,
              "#46039f"
             ],
             [
              0.2222222222222222,
              "#7201a8"
             ],
             [
              0.3333333333333333,
              "#9c179e"
             ],
             [
              0.4444444444444444,
              "#bd3786"
             ],
             [
              0.5555555555555556,
              "#d8576b"
             ],
             [
              0.6666666666666666,
              "#ed7953"
             ],
             [
              0.7777777777777778,
              "#fb9f3a"
             ],
             [
              0.8888888888888888,
              "#fdca26"
             ],
             [
              1,
              "#f0f921"
             ]
            ],
            "type": "surface"
           }
          ],
          "table": [
           {
            "cells": {
             "fill": {
              "color": "#EBF0F8"
             },
             "line": {
              "color": "white"
             }
            },
            "header": {
             "fill": {
              "color": "#C8D4E3"
             },
             "line": {
              "color": "white"
             }
            },
            "type": "table"
           }
          ]
         },
         "layout": {
          "annotationdefaults": {
           "arrowcolor": "#2a3f5f",
           "arrowhead": 0,
           "arrowwidth": 1
          },
          "autotypenumbers": "strict",
          "coloraxis": {
           "colorbar": {
            "outlinewidth": 0,
            "ticks": ""
           }
          },
          "colorscale": {
           "diverging": [
            [
             0,
             "#8e0152"
            ],
            [
             0.1,
             "#c51b7d"
            ],
            [
             0.2,
             "#de77ae"
            ],
            [
             0.3,
             "#f1b6da"
            ],
            [
             0.4,
             "#fde0ef"
            ],
            [
             0.5,
             "#f7f7f7"
            ],
            [
             0.6,
             "#e6f5d0"
            ],
            [
             0.7,
             "#b8e186"
            ],
            [
             0.8,
             "#7fbc41"
            ],
            [
             0.9,
             "#4d9221"
            ],
            [
             1,
             "#276419"
            ]
           ],
           "sequential": [
            [
             0,
             "#0d0887"
            ],
            [
             0.1111111111111111,
             "#46039f"
            ],
            [
             0.2222222222222222,
             "#7201a8"
            ],
            [
             0.3333333333333333,
             "#9c179e"
            ],
            [
             0.4444444444444444,
             "#bd3786"
            ],
            [
             0.5555555555555556,
             "#d8576b"
            ],
            [
             0.6666666666666666,
             "#ed7953"
            ],
            [
             0.7777777777777778,
             "#fb9f3a"
            ],
            [
             0.8888888888888888,
             "#fdca26"
            ],
            [
             1,
             "#f0f921"
            ]
           ],
           "sequentialminus": [
            [
             0,
             "#0d0887"
            ],
            [
             0.1111111111111111,
             "#46039f"
            ],
            [
             0.2222222222222222,
             "#7201a8"
            ],
            [
             0.3333333333333333,
             "#9c179e"
            ],
            [
             0.4444444444444444,
             "#bd3786"
            ],
            [
             0.5555555555555556,
             "#d8576b"
            ],
            [
             0.6666666666666666,
             "#ed7953"
            ],
            [
             0.7777777777777778,
             "#fb9f3a"
            ],
            [
             0.8888888888888888,
             "#fdca26"
            ],
            [
             1,
             "#f0f921"
            ]
           ]
          },
          "colorway": [
           "#636efa",
           "#EF553B",
           "#00cc96",
           "#ab63fa",
           "#FFA15A",
           "#19d3f3",
           "#FF6692",
           "#B6E880",
           "#FF97FF",
           "#FECB52"
          ],
          "font": {
           "color": "#2a3f5f"
          },
          "geo": {
           "bgcolor": "white",
           "lakecolor": "white",
           "landcolor": "white",
           "showlakes": true,
           "showland": true,
           "subunitcolor": "#C8D4E3"
          },
          "hoverlabel": {
           "align": "left"
          },
          "hovermode": "closest",
          "mapbox": {
           "style": "light"
          },
          "paper_bgcolor": "white",
          "plot_bgcolor": "white",
          "polar": {
           "angularaxis": {
            "gridcolor": "#EBF0F8",
            "linecolor": "#EBF0F8",
            "ticks": ""
           },
           "bgcolor": "white",
           "radialaxis": {
            "gridcolor": "#EBF0F8",
            "linecolor": "#EBF0F8",
            "ticks": ""
           }
          },
          "scene": {
           "xaxis": {
            "backgroundcolor": "white",
            "gridcolor": "#DFE8F3",
            "gridwidth": 2,
            "linecolor": "#EBF0F8",
            "showbackground": true,
            "ticks": "",
            "zerolinecolor": "#EBF0F8"
           },
           "yaxis": {
            "backgroundcolor": "white",
            "gridcolor": "#DFE8F3",
            "gridwidth": 2,
            "linecolor": "#EBF0F8",
            "showbackground": true,
            "ticks": "",
            "zerolinecolor": "#EBF0F8"
           },
           "zaxis": {
            "backgroundcolor": "white",
            "gridcolor": "#DFE8F3",
            "gridwidth": 2,
            "linecolor": "#EBF0F8",
            "showbackground": true,
            "ticks": "",
            "zerolinecolor": "#EBF0F8"
           }
          },
          "shapedefaults": {
           "line": {
            "color": "#2a3f5f"
           }
          },
          "ternary": {
           "aaxis": {
            "gridcolor": "#DFE8F3",
            "linecolor": "#A2B1C6",
            "ticks": ""
           },
           "baxis": {
            "gridcolor": "#DFE8F3",
            "linecolor": "#A2B1C6",
            "ticks": ""
           },
           "bgcolor": "white",
           "caxis": {
            "gridcolor": "#DFE8F3",
            "linecolor": "#A2B1C6",
            "ticks": ""
           }
          },
          "title": {
           "x": 0.05
          },
          "xaxis": {
           "automargin": true,
           "gridcolor": "#EBF0F8",
           "linecolor": "#EBF0F8",
           "ticks": "",
           "title": {
            "standoff": 15
           },
           "zerolinecolor": "#EBF0F8",
           "zerolinewidth": 2
          },
          "yaxis": {
           "automargin": true,
           "gridcolor": "#EBF0F8",
           "linecolor": "#EBF0F8",
           "ticks": "",
           "title": {
            "standoff": 15
           },
           "zerolinecolor": "#EBF0F8",
           "zerolinewidth": 2
          }
         }
        },
        "title": {
         "text": "Monthly Mean Rainfall with Min-Max Range in London"
        },
        "width": 1000,
        "xaxis": {
         "title": {
          "text": "Month"
         }
        },
        "yaxis": {
         "title": {
          "text": "Precipitation (mm)"
         }
        }
       }
      }
     },
     "metadata": {},
     "output_type": "display_data"
    }
   ],
   "source": [
    "plot_monthly_aggregate_dynamic(london_monthly_aggregate, 'Mean', bar_width=0.65, fig_width=1000, fig_height=600)"
   ]
  },
  {
   "cell_type": "code",
   "execution_count": 44,
   "id": "1d9bf7a7",
   "metadata": {},
   "outputs": [],
   "source": [
    "def plot_monthly_aggregate_dynamic_V2(df_plot, \n",
    "                                   feature_label='Mean', \n",
    "                                   bar_width=0.35, \n",
    "                                   location='London',\n",
    "                                   fig_width=800,\n",
    "                                   fig_height=400):\n",
    "    fig = go.Figure()\n",
    "\n",
    "    # Label mapping\n",
    "    label_dict = {'Mean': 'month_avg', 'Median': 'month_median', 'Sum': 'month_sum', 'Avg': 'month_avg', 'Average': 'month_avg'}\n",
    "    feature = label_dict[feature_label]\n",
    "\n",
    "    # Months and data\n",
    "    months = ['Jan', 'Feb', 'Mar', 'Apr', 'May', 'Jun',\n",
    "              'Jul', 'Aug', 'Sep', 'Oct', 'Nov', 'Dec']\n",
    "\n",
    "    mean_precip = df_plot[feature].values\n",
    "    min_precip = df_plot['month_min'].values\n",
    "    max_precip = df_plot['month_max'].values\n",
    "\n",
    "    # --- Min-Max filled area ---\n",
    "    fig.add_trace(go.Scatter(\n",
    "        x=months + months[::-1],  # Jan→Dec + Dec→Jan\n",
    "        y=list(max_precip) + list(min_precip[::-1]),\n",
    "        fill='toself',\n",
    "        fillcolor='rgba(135, 206, 250, 0.3)',  # Transparent blue\n",
    "        line=dict(color='rgba(255,255,255,0)'),  # No border line\n",
    "        hoverinfo='skip',\n",
    "        showlegend=True,\n",
    "        name='Min-Max Range'\n",
    "    ))\n",
    "\n",
    "    # --- Bar for Mean/Median/Sum ---\n",
    "    fig.add_trace(go.Bar(\n",
    "        x=months,\n",
    "        y=mean_precip,\n",
    "        name=f'{feature_label} Precipitation',\n",
    "        marker=dict(\n",
    "            color='blue',\n",
    "            opacity=0.9\n",
    "        ),\n",
    "        width=bar_width\n",
    "    ))\n",
    "\n",
    "    # --- Scatter for Min ---\n",
    "    fig.add_trace(go.Scatter(\n",
    "        x=months,\n",
    "        y=min_precip,\n",
    "        mode='markers',\n",
    "        name='Min',\n",
    "        marker=dict(\n",
    "            symbol='circle',\n",
    "            color='dodgerblue',\n",
    "            size=8\n",
    "        )\n",
    "    ))\n",
    "\n",
    "    # --- Scatter for Max ---\n",
    "    fig.add_trace(go.Scatter(\n",
    "        x=months,\n",
    "        y=max_precip,\n",
    "        mode='markers',\n",
    "        name='Max',\n",
    "        marker=dict(\n",
    "            symbol='diamond',\n",
    "            color='darkblue',\n",
    "            size=8\n",
    "        )\n",
    "    ))\n",
    "\n",
    "    # --- Layout with grid ---\n",
    "    fig.update_layout(\n",
    "        title=f\"Monthly {feature_label} Rainfall with Min-Max Range in {location}\",\n",
    "        xaxis_title='Month',\n",
    "        yaxis_title='Precipitation (mm)',\n",
    "        template='plotly_white',\n",
    "        hovermode=\"x unified\",\n",
    "        barmode='overlay',\n",
    "        barcornerradius=8,\n",
    "        width=fig_width,\n",
    "        height=fig_height,\n",
    "        xaxis=dict(\n",
    "            showgrid=True,\n",
    "            gridcolor='lightgray'\n",
    "        ),\n",
    "        yaxis=dict(\n",
    "            showgrid=True,\n",
    "            gridcolor='lightgray'\n",
    "        ),\n",
    "    )\n",
    "\n",
    "    return fig"
   ]
  },
  {
   "cell_type": "code",
   "execution_count": 46,
   "id": "b2181cef",
   "metadata": {},
   "outputs": [
    {
     "data": {
      "application/vnd.plotly.v1+json": {
       "config": {
        "plotlyServerURL": "https://plot.ly"
       },
       "data": [
        {
         "fill": "toself",
         "fillcolor": "rgba(135, 206, 250, 0.3)",
         "hoverinfo": "skip",
         "line": {
          "color": "rgba(255,255,255,0)"
         },
         "name": "Min-Max Range",
         "showlegend": true,
         "type": "scatter",
         "x": [
          "Jan",
          "Feb",
          "Mar",
          "Apr",
          "May",
          "Jun",
          "Jul",
          "Aug",
          "Sep",
          "Oct",
          "Nov",
          "Dec",
          "Dec",
          "Nov",
          "Oct",
          "Sep",
          "Aug",
          "Jul",
          "Jun",
          "May",
          "Apr",
          "Mar",
          "Feb",
          "Jan"
         ],
         "y": [
          114.4,
          116.1,
          106,
          116.1,
          98.8,
          136.8,
          116.5,
          117.30000000000001,
          132.4,
          135.2,
          118.6,
          101.8,
          10.1,
          13.3,
          22.3,
          16.6,
          30.1,
          16.3,
          8.6,
          6.3,
          5.2,
          12.1,
          9.7,
          18.3
         ]
        },
        {
         "marker": {
          "color": "blue",
          "opacity": 0.9
         },
         "name": "Mean Precipitation",
         "type": "bar",
         "width": 0.65,
         "x": [
          "Jan",
          "Feb",
          "Mar",
          "Apr",
          "May",
          "Jun",
          "Jul",
          "Aug",
          "Sep",
          "Oct",
          "Nov",
          "Dec"
         ],
         "y": [
          64,
          54.5,
          48.9,
          45.8,
          56.6,
          62.5,
          61.9,
          71.1,
          53.8,
          72.6,
          63.6,
          66
         ]
        },
        {
         "marker": {
          "color": "dodgerblue",
          "size": 8,
          "symbol": "circle"
         },
         "mode": "markers",
         "name": "Min",
         "type": "scatter",
         "x": [
          "Jan",
          "Feb",
          "Mar",
          "Apr",
          "May",
          "Jun",
          "Jul",
          "Aug",
          "Sep",
          "Oct",
          "Nov",
          "Dec"
         ],
         "y": [
          18.3,
          9.7,
          12.1,
          5.2,
          6.3,
          8.6,
          16.3,
          30.1,
          16.6,
          22.3,
          13.3,
          10.1
         ]
        },
        {
         "marker": {
          "color": "darkblue",
          "size": 8,
          "symbol": "diamond"
         },
         "mode": "markers",
         "name": "Max",
         "type": "scatter",
         "x": [
          "Jan",
          "Feb",
          "Mar",
          "Apr",
          "May",
          "Jun",
          "Jul",
          "Aug",
          "Sep",
          "Oct",
          "Nov",
          "Dec"
         ],
         "y": [
          114.4,
          116.1,
          106,
          116.1,
          98.8,
          136.8,
          116.5,
          117.30000000000001,
          132.4,
          135.2,
          118.6,
          101.8
         ]
        }
       ],
       "layout": {
        "barcornerradius": 8,
        "barmode": "overlay",
        "height": 600,
        "hovermode": "x unified",
        "template": {
         "data": {
          "bar": [
           {
            "error_x": {
             "color": "#2a3f5f"
            },
            "error_y": {
             "color": "#2a3f5f"
            },
            "marker": {
             "line": {
              "color": "white",
              "width": 0.5
             },
             "pattern": {
              "fillmode": "overlay",
              "size": 10,
              "solidity": 0.2
             }
            },
            "type": "bar"
           }
          ],
          "barpolar": [
           {
            "marker": {
             "line": {
              "color": "white",
              "width": 0.5
             },
             "pattern": {
              "fillmode": "overlay",
              "size": 10,
              "solidity": 0.2
             }
            },
            "type": "barpolar"
           }
          ],
          "carpet": [
           {
            "aaxis": {
             "endlinecolor": "#2a3f5f",
             "gridcolor": "#C8D4E3",
             "linecolor": "#C8D4E3",
             "minorgridcolor": "#C8D4E3",
             "startlinecolor": "#2a3f5f"
            },
            "baxis": {
             "endlinecolor": "#2a3f5f",
             "gridcolor": "#C8D4E3",
             "linecolor": "#C8D4E3",
             "minorgridcolor": "#C8D4E3",
             "startlinecolor": "#2a3f5f"
            },
            "type": "carpet"
           }
          ],
          "choropleth": [
           {
            "colorbar": {
             "outlinewidth": 0,
             "ticks": ""
            },
            "type": "choropleth"
           }
          ],
          "contour": [
           {
            "colorbar": {
             "outlinewidth": 0,
             "ticks": ""
            },
            "colorscale": [
             [
              0,
              "#0d0887"
             ],
             [
              0.1111111111111111,
              "#46039f"
             ],
             [
              0.2222222222222222,
              "#7201a8"
             ],
             [
              0.3333333333333333,
              "#9c179e"
             ],
             [
              0.4444444444444444,
              "#bd3786"
             ],
             [
              0.5555555555555556,
              "#d8576b"
             ],
             [
              0.6666666666666666,
              "#ed7953"
             ],
             [
              0.7777777777777778,
              "#fb9f3a"
             ],
             [
              0.8888888888888888,
              "#fdca26"
             ],
             [
              1,
              "#f0f921"
             ]
            ],
            "type": "contour"
           }
          ],
          "contourcarpet": [
           {
            "colorbar": {
             "outlinewidth": 0,
             "ticks": ""
            },
            "type": "contourcarpet"
           }
          ],
          "heatmap": [
           {
            "colorbar": {
             "outlinewidth": 0,
             "ticks": ""
            },
            "colorscale": [
             [
              0,
              "#0d0887"
             ],
             [
              0.1111111111111111,
              "#46039f"
             ],
             [
              0.2222222222222222,
              "#7201a8"
             ],
             [
              0.3333333333333333,
              "#9c179e"
             ],
             [
              0.4444444444444444,
              "#bd3786"
             ],
             [
              0.5555555555555556,
              "#d8576b"
             ],
             [
              0.6666666666666666,
              "#ed7953"
             ],
             [
              0.7777777777777778,
              "#fb9f3a"
             ],
             [
              0.8888888888888888,
              "#fdca26"
             ],
             [
              1,
              "#f0f921"
             ]
            ],
            "type": "heatmap"
           }
          ],
          "heatmapgl": [
           {
            "colorbar": {
             "outlinewidth": 0,
             "ticks": ""
            },
            "colorscale": [
             [
              0,
              "#0d0887"
             ],
             [
              0.1111111111111111,
              "#46039f"
             ],
             [
              0.2222222222222222,
              "#7201a8"
             ],
             [
              0.3333333333333333,
              "#9c179e"
             ],
             [
              0.4444444444444444,
              "#bd3786"
             ],
             [
              0.5555555555555556,
              "#d8576b"
             ],
             [
              0.6666666666666666,
              "#ed7953"
             ],
             [
              0.7777777777777778,
              "#fb9f3a"
             ],
             [
              0.8888888888888888,
              "#fdca26"
             ],
             [
              1,
              "#f0f921"
             ]
            ],
            "type": "heatmapgl"
           }
          ],
          "histogram": [
           {
            "marker": {
             "pattern": {
              "fillmode": "overlay",
              "size": 10,
              "solidity": 0.2
             }
            },
            "type": "histogram"
           }
          ],
          "histogram2d": [
           {
            "colorbar": {
             "outlinewidth": 0,
             "ticks": ""
            },
            "colorscale": [
             [
              0,
              "#0d0887"
             ],
             [
              0.1111111111111111,
              "#46039f"
             ],
             [
              0.2222222222222222,
              "#7201a8"
             ],
             [
              0.3333333333333333,
              "#9c179e"
             ],
             [
              0.4444444444444444,
              "#bd3786"
             ],
             [
              0.5555555555555556,
              "#d8576b"
             ],
             [
              0.6666666666666666,
              "#ed7953"
             ],
             [
              0.7777777777777778,
              "#fb9f3a"
             ],
             [
              0.8888888888888888,
              "#fdca26"
             ],
             [
              1,
              "#f0f921"
             ]
            ],
            "type": "histogram2d"
           }
          ],
          "histogram2dcontour": [
           {
            "colorbar": {
             "outlinewidth": 0,
             "ticks": ""
            },
            "colorscale": [
             [
              0,
              "#0d0887"
             ],
             [
              0.1111111111111111,
              "#46039f"
             ],
             [
              0.2222222222222222,
              "#7201a8"
             ],
             [
              0.3333333333333333,
              "#9c179e"
             ],
             [
              0.4444444444444444,
              "#bd3786"
             ],
             [
              0.5555555555555556,
              "#d8576b"
             ],
             [
              0.6666666666666666,
              "#ed7953"
             ],
             [
              0.7777777777777778,
              "#fb9f3a"
             ],
             [
              0.8888888888888888,
              "#fdca26"
             ],
             [
              1,
              "#f0f921"
             ]
            ],
            "type": "histogram2dcontour"
           }
          ],
          "mesh3d": [
           {
            "colorbar": {
             "outlinewidth": 0,
             "ticks": ""
            },
            "type": "mesh3d"
           }
          ],
          "parcoords": [
           {
            "line": {
             "colorbar": {
              "outlinewidth": 0,
              "ticks": ""
             }
            },
            "type": "parcoords"
           }
          ],
          "pie": [
           {
            "automargin": true,
            "type": "pie"
           }
          ],
          "scatter": [
           {
            "fillpattern": {
             "fillmode": "overlay",
             "size": 10,
             "solidity": 0.2
            },
            "type": "scatter"
           }
          ],
          "scatter3d": [
           {
            "line": {
             "colorbar": {
              "outlinewidth": 0,
              "ticks": ""
             }
            },
            "marker": {
             "colorbar": {
              "outlinewidth": 0,
              "ticks": ""
             }
            },
            "type": "scatter3d"
           }
          ],
          "scattercarpet": [
           {
            "marker": {
             "colorbar": {
              "outlinewidth": 0,
              "ticks": ""
             }
            },
            "type": "scattercarpet"
           }
          ],
          "scattergeo": [
           {
            "marker": {
             "colorbar": {
              "outlinewidth": 0,
              "ticks": ""
             }
            },
            "type": "scattergeo"
           }
          ],
          "scattergl": [
           {
            "marker": {
             "colorbar": {
              "outlinewidth": 0,
              "ticks": ""
             }
            },
            "type": "scattergl"
           }
          ],
          "scattermapbox": [
           {
            "marker": {
             "colorbar": {
              "outlinewidth": 0,
              "ticks": ""
             }
            },
            "type": "scattermapbox"
           }
          ],
          "scatterpolar": [
           {
            "marker": {
             "colorbar": {
              "outlinewidth": 0,
              "ticks": ""
             }
            },
            "type": "scatterpolar"
           }
          ],
          "scatterpolargl": [
           {
            "marker": {
             "colorbar": {
              "outlinewidth": 0,
              "ticks": ""
             }
            },
            "type": "scatterpolargl"
           }
          ],
          "scatterternary": [
           {
            "marker": {
             "colorbar": {
              "outlinewidth": 0,
              "ticks": ""
             }
            },
            "type": "scatterternary"
           }
          ],
          "surface": [
           {
            "colorbar": {
             "outlinewidth": 0,
             "ticks": ""
            },
            "colorscale": [
             [
              0,
              "#0d0887"
             ],
             [
              0.1111111111111111,
              "#46039f"
             ],
             [
              0.2222222222222222,
              "#7201a8"
             ],
             [
              0.3333333333333333,
              "#9c179e"
             ],
             [
              0.4444444444444444,
              "#bd3786"
             ],
             [
              0.5555555555555556,
              "#d8576b"
             ],
             [
              0.6666666666666666,
              "#ed7953"
             ],
             [
              0.7777777777777778,
              "#fb9f3a"
             ],
             [
              0.8888888888888888,
              "#fdca26"
             ],
             [
              1,
              "#f0f921"
             ]
            ],
            "type": "surface"
           }
          ],
          "table": [
           {
            "cells": {
             "fill": {
              "color": "#EBF0F8"
             },
             "line": {
              "color": "white"
             }
            },
            "header": {
             "fill": {
              "color": "#C8D4E3"
             },
             "line": {
              "color": "white"
             }
            },
            "type": "table"
           }
          ]
         },
         "layout": {
          "annotationdefaults": {
           "arrowcolor": "#2a3f5f",
           "arrowhead": 0,
           "arrowwidth": 1
          },
          "autotypenumbers": "strict",
          "coloraxis": {
           "colorbar": {
            "outlinewidth": 0,
            "ticks": ""
           }
          },
          "colorscale": {
           "diverging": [
            [
             0,
             "#8e0152"
            ],
            [
             0.1,
             "#c51b7d"
            ],
            [
             0.2,
             "#de77ae"
            ],
            [
             0.3,
             "#f1b6da"
            ],
            [
             0.4,
             "#fde0ef"
            ],
            [
             0.5,
             "#f7f7f7"
            ],
            [
             0.6,
             "#e6f5d0"
            ],
            [
             0.7,
             "#b8e186"
            ],
            [
             0.8,
             "#7fbc41"
            ],
            [
             0.9,
             "#4d9221"
            ],
            [
             1,
             "#276419"
            ]
           ],
           "sequential": [
            [
             0,
             "#0d0887"
            ],
            [
             0.1111111111111111,
             "#46039f"
            ],
            [
             0.2222222222222222,
             "#7201a8"
            ],
            [
             0.3333333333333333,
             "#9c179e"
            ],
            [
             0.4444444444444444,
             "#bd3786"
            ],
            [
             0.5555555555555556,
             "#d8576b"
            ],
            [
             0.6666666666666666,
             "#ed7953"
            ],
            [
             0.7777777777777778,
             "#fb9f3a"
            ],
            [
             0.8888888888888888,
             "#fdca26"
            ],
            [
             1,
             "#f0f921"
            ]
           ],
           "sequentialminus": [
            [
             0,
             "#0d0887"
            ],
            [
             0.1111111111111111,
             "#46039f"
            ],
            [
             0.2222222222222222,
             "#7201a8"
            ],
            [
             0.3333333333333333,
             "#9c179e"
            ],
            [
             0.4444444444444444,
             "#bd3786"
            ],
            [
             0.5555555555555556,
             "#d8576b"
            ],
            [
             0.6666666666666666,
             "#ed7953"
            ],
            [
             0.7777777777777778,
             "#fb9f3a"
            ],
            [
             0.8888888888888888,
             "#fdca26"
            ],
            [
             1,
             "#f0f921"
            ]
           ]
          },
          "colorway": [
           "#636efa",
           "#EF553B",
           "#00cc96",
           "#ab63fa",
           "#FFA15A",
           "#19d3f3",
           "#FF6692",
           "#B6E880",
           "#FF97FF",
           "#FECB52"
          ],
          "font": {
           "color": "#2a3f5f"
          },
          "geo": {
           "bgcolor": "white",
           "lakecolor": "white",
           "landcolor": "white",
           "showlakes": true,
           "showland": true,
           "subunitcolor": "#C8D4E3"
          },
          "hoverlabel": {
           "align": "left"
          },
          "hovermode": "closest",
          "mapbox": {
           "style": "light"
          },
          "paper_bgcolor": "white",
          "plot_bgcolor": "white",
          "polar": {
           "angularaxis": {
            "gridcolor": "#EBF0F8",
            "linecolor": "#EBF0F8",
            "ticks": ""
           },
           "bgcolor": "white",
           "radialaxis": {
            "gridcolor": "#EBF0F8",
            "linecolor": "#EBF0F8",
            "ticks": ""
           }
          },
          "scene": {
           "xaxis": {
            "backgroundcolor": "white",
            "gridcolor": "#DFE8F3",
            "gridwidth": 2,
            "linecolor": "#EBF0F8",
            "showbackground": true,
            "ticks": "",
            "zerolinecolor": "#EBF0F8"
           },
           "yaxis": {
            "backgroundcolor": "white",
            "gridcolor": "#DFE8F3",
            "gridwidth": 2,
            "linecolor": "#EBF0F8",
            "showbackground": true,
            "ticks": "",
            "zerolinecolor": "#EBF0F8"
           },
           "zaxis": {
            "backgroundcolor": "white",
            "gridcolor": "#DFE8F3",
            "gridwidth": 2,
            "linecolor": "#EBF0F8",
            "showbackground": true,
            "ticks": "",
            "zerolinecolor": "#EBF0F8"
           }
          },
          "shapedefaults": {
           "line": {
            "color": "#2a3f5f"
           }
          },
          "ternary": {
           "aaxis": {
            "gridcolor": "#DFE8F3",
            "linecolor": "#A2B1C6",
            "ticks": ""
           },
           "baxis": {
            "gridcolor": "#DFE8F3",
            "linecolor": "#A2B1C6",
            "ticks": ""
           },
           "bgcolor": "white",
           "caxis": {
            "gridcolor": "#DFE8F3",
            "linecolor": "#A2B1C6",
            "ticks": ""
           }
          },
          "title": {
           "x": 0.05
          },
          "xaxis": {
           "automargin": true,
           "gridcolor": "#EBF0F8",
           "linecolor": "#EBF0F8",
           "ticks": "",
           "title": {
            "standoff": 15
           },
           "zerolinecolor": "#EBF0F8",
           "zerolinewidth": 2
          },
          "yaxis": {
           "automargin": true,
           "gridcolor": "#EBF0F8",
           "linecolor": "#EBF0F8",
           "ticks": "",
           "title": {
            "standoff": 15
           },
           "zerolinecolor": "#EBF0F8",
           "zerolinewidth": 2
          }
         }
        },
        "title": {
         "text": "Monthly Mean Rainfall with Min-Max Range in London"
        },
        "width": 1000,
        "xaxis": {
         "gridcolor": "lightgray",
         "showgrid": true,
         "title": {
          "text": "Month"
         }
        },
        "yaxis": {
         "gridcolor": "lightgray",
         "showgrid": true,
         "title": {
          "text": "Precipitation (mm)"
         }
        }
       }
      }
     },
     "metadata": {},
     "output_type": "display_data"
    }
   ],
   "source": [
    "plot_monthly_aggregate_dynamic_V2(london_monthly_aggregate, 'Mean', bar_width=0.65, fig_width=1000, fig_height=600)"
   ]
  },
  {
   "cell_type": "code",
   "execution_count": 64,
   "id": "a97e8e0b",
   "metadata": {},
   "outputs": [],
   "source": [
    "import plotly.graph_objects as go\n",
    "\n",
    "def plot_monthly_aggregate_dynamic_v3(df_plot, \n",
    "                                   feature_label='Mean', \n",
    "                                   bar_width=0.35, \n",
    "                                   location='London',\n",
    "                                   fig_width=800,\n",
    "                                   fig_height=400,\n",
    "                                   dark_mode=False):\n",
    "    fig = go.Figure()\n",
    "\n",
    "    # Label mapping\n",
    "    label_dict = {\n",
    "        'Mean': 'month_avg', 'Median': 'month_median',\n",
    "        'Sum': 'month_sum', 'Avg': 'month_avg', 'Average': 'month_avg'\n",
    "    }\n",
    "    feature = label_dict[feature_label]\n",
    "\n",
    "    # Consistent month order\n",
    "    months = ['Jan', 'Feb', 'Mar', 'Apr', 'May', 'Jun',\n",
    "              'Jul', 'Aug', 'Sep', 'Oct', 'Nov', 'Dec']\n",
    "\n",
    "    mean_precip = df_plot[feature].values\n",
    "    min_precip = df_plot['month_min'].values\n",
    "    max_precip = df_plot['month_max'].values\n",
    "\n",
    "    # --- Colorblind-safe palette ---\n",
    "    bar_color = '#0072B2'        # royal blue\n",
    "    min_color = '#D55E00'        # vermillion\n",
    "    max_color = '#009E73'        # bluish green\n",
    "    fill_color = 'rgba(100, 100, 100, 0.2)' if not dark_mode else 'rgba(200, 200, 200, 0.2)'\n",
    "    grid_color = 'gray' if dark_mode else 'lightgray'\n",
    "    text_color = 'white' if dark_mode else 'black'\n",
    "\n",
    "    # --- Filled area ---\n",
    "    fig.add_trace(go.Scatter(\n",
    "        x=months + months[::-1],\n",
    "        y=list(max_precip) + list(min_precip[::-1]),\n",
    "        fill='toself',\n",
    "        fillcolor=fill_color,\n",
    "        line=dict(color='rgba(0,0,0,0)'),\n",
    "        hoverinfo='skip',\n",
    "        showlegend=True,\n",
    "        name='Min-Max Range'\n",
    "    ))\n",
    "\n",
    "    # --- Bar plot ---\n",
    "    fig.add_trace(go.Bar(\n",
    "        x=months,\n",
    "        y=mean_precip,\n",
    "        name=f'{feature_label}',\n",
    "        marker=dict(\n",
    "            color=bar_color,\n",
    "            opacity=0.9\n",
    "        ),\n",
    "        width=bar_width,\n",
    "        hovertemplate=f'{feature_label}: %{{y:.1f}} mm<extra></extra>'\n",
    "    ))\n",
    "\n",
    "    # --- Min line+markers ---\n",
    "    fig.add_trace(go.Scatter(\n",
    "        x=months,\n",
    "        y=min_precip,\n",
    "        mode='lines+markers',\n",
    "        name='Min',\n",
    "        line=dict(color=min_color, width=2, dash='dot'),\n",
    "        marker=dict(symbol='circle', size=7, color=min_color),\n",
    "        hovertemplate=f'Min: %{{y:.1f}} mm<extra></extra>'\n",
    "    ))\n",
    "\n",
    "    # --- Max line+markers ---\n",
    "    fig.add_trace(go.Scatter(\n",
    "        x=months,\n",
    "        y=max_precip,\n",
    "        mode='lines+markers',\n",
    "        name='Max',\n",
    "        line=dict(color=max_color, width=2),\n",
    "        marker=dict(symbol='diamond', size=8, color=max_color),\n",
    "        hovertemplate=f'Max: %{{y:.1f}} mm<extra></extra>'\n",
    "    ))\n",
    "\n",
    "    # --- Layout ---\n",
    "    fig.update_layout(\n",
    "        title=f\"Monthly {feature_label} Rainfall with Min-Max Range in {location}\",\n",
    "        xaxis_title='Month',\n",
    "        yaxis_title='Precipitation (mm)',\n",
    "        template='plotly_dark' if dark_mode else 'plotly_white',\n",
    "        hovermode=\"x unified\",\n",
    "        barmode='overlay',\n",
    "        barcornerradius=8,\n",
    "        width=fig_width,\n",
    "        height=fig_height,\n",
    "        font=dict(color=text_color),\n",
    "        xaxis=dict(\n",
    "            showgrid=True,\n",
    "            gridcolor=grid_color,\n",
    "            zeroline=False\n",
    "        ),\n",
    "        yaxis=dict(\n",
    "            showgrid=True,\n",
    "            gridcolor=grid_color,\n",
    "            zeroline=False\n",
    "        ),\n",
    "        legend=dict(\n",
    "            bgcolor='rgba(0,0,0,0)' if dark_mode else 'rgba(255,255,255,0)',\n",
    "            borderwidth=0\n",
    "        )\n",
    "    )\n",
    "\n",
    "    return fig\n"
   ]
  },
  {
   "cell_type": "code",
   "execution_count": 65,
   "id": "55df43da",
   "metadata": {},
   "outputs": [
    {
     "data": {
      "application/vnd.plotly.v1+json": {
       "config": {
        "plotlyServerURL": "https://plot.ly"
       },
       "data": [
        {
         "fill": "toself",
         "fillcolor": "rgba(100, 100, 100, 0.2)",
         "hoverinfo": "skip",
         "line": {
          "color": "rgba(0,0,0,0)"
         },
         "name": "Min-Max Range",
         "showlegend": true,
         "type": "scatter",
         "x": [
          "Jan",
          "Feb",
          "Mar",
          "Apr",
          "May",
          "Jun",
          "Jul",
          "Aug",
          "Sep",
          "Oct",
          "Nov",
          "Dec",
          "Dec",
          "Nov",
          "Oct",
          "Sep",
          "Aug",
          "Jul",
          "Jun",
          "May",
          "Apr",
          "Mar",
          "Feb",
          "Jan"
         ],
         "y": [
          114.4,
          116.1,
          106,
          116.1,
          98.8,
          136.8,
          116.5,
          117.30000000000001,
          132.4,
          135.2,
          118.6,
          101.8,
          10.1,
          13.3,
          22.3,
          16.6,
          30.1,
          16.3,
          8.6,
          6.3,
          5.2,
          12.1,
          9.7,
          18.3
         ]
        },
        {
         "hovertemplate": "Average: %{y:.1f} mm<extra></extra>",
         "marker": {
          "color": "#0072B2",
          "opacity": 0.9
         },
         "name": "Average",
         "type": "bar",
         "width": 0.65,
         "x": [
          "Jan",
          "Feb",
          "Mar",
          "Apr",
          "May",
          "Jun",
          "Jul",
          "Aug",
          "Sep",
          "Oct",
          "Nov",
          "Dec"
         ],
         "y": [
          64,
          54.5,
          48.9,
          45.8,
          56.6,
          62.5,
          61.9,
          71.1,
          53.8,
          72.6,
          63.6,
          66
         ]
        },
        {
         "hovertemplate": "Min: %{y:.1f} mm<extra></extra>",
         "line": {
          "color": "#D55E00",
          "dash": "dot",
          "width": 2
         },
         "marker": {
          "color": "#D55E00",
          "size": 7,
          "symbol": "circle"
         },
         "mode": "lines+markers",
         "name": "Min",
         "type": "scatter",
         "x": [
          "Jan",
          "Feb",
          "Mar",
          "Apr",
          "May",
          "Jun",
          "Jul",
          "Aug",
          "Sep",
          "Oct",
          "Nov",
          "Dec"
         ],
         "y": [
          18.3,
          9.7,
          12.1,
          5.2,
          6.3,
          8.6,
          16.3,
          30.1,
          16.6,
          22.3,
          13.3,
          10.1
         ]
        },
        {
         "hovertemplate": "Max: %{y:.1f} mm<extra></extra>",
         "line": {
          "color": "#009E73",
          "width": 2
         },
         "marker": {
          "color": "#009E73",
          "size": 8,
          "symbol": "diamond"
         },
         "mode": "lines+markers",
         "name": "Max",
         "type": "scatter",
         "x": [
          "Jan",
          "Feb",
          "Mar",
          "Apr",
          "May",
          "Jun",
          "Jul",
          "Aug",
          "Sep",
          "Oct",
          "Nov",
          "Dec"
         ],
         "y": [
          114.4,
          116.1,
          106,
          116.1,
          98.8,
          136.8,
          116.5,
          117.30000000000001,
          132.4,
          135.2,
          118.6,
          101.8
         ]
        }
       ],
       "layout": {
        "barcornerradius": 8,
        "barmode": "overlay",
        "font": {
         "color": "black"
        },
        "height": 600,
        "hovermode": "x unified",
        "legend": {
         "bgcolor": "rgba(255,255,255,0)",
         "borderwidth": 0
        },
        "template": {
         "data": {
          "bar": [
           {
            "error_x": {
             "color": "#2a3f5f"
            },
            "error_y": {
             "color": "#2a3f5f"
            },
            "marker": {
             "line": {
              "color": "white",
              "width": 0.5
             },
             "pattern": {
              "fillmode": "overlay",
              "size": 10,
              "solidity": 0.2
             }
            },
            "type": "bar"
           }
          ],
          "barpolar": [
           {
            "marker": {
             "line": {
              "color": "white",
              "width": 0.5
             },
             "pattern": {
              "fillmode": "overlay",
              "size": 10,
              "solidity": 0.2
             }
            },
            "type": "barpolar"
           }
          ],
          "carpet": [
           {
            "aaxis": {
             "endlinecolor": "#2a3f5f",
             "gridcolor": "#C8D4E3",
             "linecolor": "#C8D4E3",
             "minorgridcolor": "#C8D4E3",
             "startlinecolor": "#2a3f5f"
            },
            "baxis": {
             "endlinecolor": "#2a3f5f",
             "gridcolor": "#C8D4E3",
             "linecolor": "#C8D4E3",
             "minorgridcolor": "#C8D4E3",
             "startlinecolor": "#2a3f5f"
            },
            "type": "carpet"
           }
          ],
          "choropleth": [
           {
            "colorbar": {
             "outlinewidth": 0,
             "ticks": ""
            },
            "type": "choropleth"
           }
          ],
          "contour": [
           {
            "colorbar": {
             "outlinewidth": 0,
             "ticks": ""
            },
            "colorscale": [
             [
              0,
              "#0d0887"
             ],
             [
              0.1111111111111111,
              "#46039f"
             ],
             [
              0.2222222222222222,
              "#7201a8"
             ],
             [
              0.3333333333333333,
              "#9c179e"
             ],
             [
              0.4444444444444444,
              "#bd3786"
             ],
             [
              0.5555555555555556,
              "#d8576b"
             ],
             [
              0.6666666666666666,
              "#ed7953"
             ],
             [
              0.7777777777777778,
              "#fb9f3a"
             ],
             [
              0.8888888888888888,
              "#fdca26"
             ],
             [
              1,
              "#f0f921"
             ]
            ],
            "type": "contour"
           }
          ],
          "contourcarpet": [
           {
            "colorbar": {
             "outlinewidth": 0,
             "ticks": ""
            },
            "type": "contourcarpet"
           }
          ],
          "heatmap": [
           {
            "colorbar": {
             "outlinewidth": 0,
             "ticks": ""
            },
            "colorscale": [
             [
              0,
              "#0d0887"
             ],
             [
              0.1111111111111111,
              "#46039f"
             ],
             [
              0.2222222222222222,
              "#7201a8"
             ],
             [
              0.3333333333333333,
              "#9c179e"
             ],
             [
              0.4444444444444444,
              "#bd3786"
             ],
             [
              0.5555555555555556,
              "#d8576b"
             ],
             [
              0.6666666666666666,
              "#ed7953"
             ],
             [
              0.7777777777777778,
              "#fb9f3a"
             ],
             [
              0.8888888888888888,
              "#fdca26"
             ],
             [
              1,
              "#f0f921"
             ]
            ],
            "type": "heatmap"
           }
          ],
          "heatmapgl": [
           {
            "colorbar": {
             "outlinewidth": 0,
             "ticks": ""
            },
            "colorscale": [
             [
              0,
              "#0d0887"
             ],
             [
              0.1111111111111111,
              "#46039f"
             ],
             [
              0.2222222222222222,
              "#7201a8"
             ],
             [
              0.3333333333333333,
              "#9c179e"
             ],
             [
              0.4444444444444444,
              "#bd3786"
             ],
             [
              0.5555555555555556,
              "#d8576b"
             ],
             [
              0.6666666666666666,
              "#ed7953"
             ],
             [
              0.7777777777777778,
              "#fb9f3a"
             ],
             [
              0.8888888888888888,
              "#fdca26"
             ],
             [
              1,
              "#f0f921"
             ]
            ],
            "type": "heatmapgl"
           }
          ],
          "histogram": [
           {
            "marker": {
             "pattern": {
              "fillmode": "overlay",
              "size": 10,
              "solidity": 0.2
             }
            },
            "type": "histogram"
           }
          ],
          "histogram2d": [
           {
            "colorbar": {
             "outlinewidth": 0,
             "ticks": ""
            },
            "colorscale": [
             [
              0,
              "#0d0887"
             ],
             [
              0.1111111111111111,
              "#46039f"
             ],
             [
              0.2222222222222222,
              "#7201a8"
             ],
             [
              0.3333333333333333,
              "#9c179e"
             ],
             [
              0.4444444444444444,
              "#bd3786"
             ],
             [
              0.5555555555555556,
              "#d8576b"
             ],
             [
              0.6666666666666666,
              "#ed7953"
             ],
             [
              0.7777777777777778,
              "#fb9f3a"
             ],
             [
              0.8888888888888888,
              "#fdca26"
             ],
             [
              1,
              "#f0f921"
             ]
            ],
            "type": "histogram2d"
           }
          ],
          "histogram2dcontour": [
           {
            "colorbar": {
             "outlinewidth": 0,
             "ticks": ""
            },
            "colorscale": [
             [
              0,
              "#0d0887"
             ],
             [
              0.1111111111111111,
              "#46039f"
             ],
             [
              0.2222222222222222,
              "#7201a8"
             ],
             [
              0.3333333333333333,
              "#9c179e"
             ],
             [
              0.4444444444444444,
              "#bd3786"
             ],
             [
              0.5555555555555556,
              "#d8576b"
             ],
             [
              0.6666666666666666,
              "#ed7953"
             ],
             [
              0.7777777777777778,
              "#fb9f3a"
             ],
             [
              0.8888888888888888,
              "#fdca26"
             ],
             [
              1,
              "#f0f921"
             ]
            ],
            "type": "histogram2dcontour"
           }
          ],
          "mesh3d": [
           {
            "colorbar": {
             "outlinewidth": 0,
             "ticks": ""
            },
            "type": "mesh3d"
           }
          ],
          "parcoords": [
           {
            "line": {
             "colorbar": {
              "outlinewidth": 0,
              "ticks": ""
             }
            },
            "type": "parcoords"
           }
          ],
          "pie": [
           {
            "automargin": true,
            "type": "pie"
           }
          ],
          "scatter": [
           {
            "fillpattern": {
             "fillmode": "overlay",
             "size": 10,
             "solidity": 0.2
            },
            "type": "scatter"
           }
          ],
          "scatter3d": [
           {
            "line": {
             "colorbar": {
              "outlinewidth": 0,
              "ticks": ""
             }
            },
            "marker": {
             "colorbar": {
              "outlinewidth": 0,
              "ticks": ""
             }
            },
            "type": "scatter3d"
           }
          ],
          "scattercarpet": [
           {
            "marker": {
             "colorbar": {
              "outlinewidth": 0,
              "ticks": ""
             }
            },
            "type": "scattercarpet"
           }
          ],
          "scattergeo": [
           {
            "marker": {
             "colorbar": {
              "outlinewidth": 0,
              "ticks": ""
             }
            },
            "type": "scattergeo"
           }
          ],
          "scattergl": [
           {
            "marker": {
             "colorbar": {
              "outlinewidth": 0,
              "ticks": ""
             }
            },
            "type": "scattergl"
           }
          ],
          "scattermapbox": [
           {
            "marker": {
             "colorbar": {
              "outlinewidth": 0,
              "ticks": ""
             }
            },
            "type": "scattermapbox"
           }
          ],
          "scatterpolar": [
           {
            "marker": {
             "colorbar": {
              "outlinewidth": 0,
              "ticks": ""
             }
            },
            "type": "scatterpolar"
           }
          ],
          "scatterpolargl": [
           {
            "marker": {
             "colorbar": {
              "outlinewidth": 0,
              "ticks": ""
             }
            },
            "type": "scatterpolargl"
           }
          ],
          "scatterternary": [
           {
            "marker": {
             "colorbar": {
              "outlinewidth": 0,
              "ticks": ""
             }
            },
            "type": "scatterternary"
           }
          ],
          "surface": [
           {
            "colorbar": {
             "outlinewidth": 0,
             "ticks": ""
            },
            "colorscale": [
             [
              0,
              "#0d0887"
             ],
             [
              0.1111111111111111,
              "#46039f"
             ],
             [
              0.2222222222222222,
              "#7201a8"
             ],
             [
              0.3333333333333333,
              "#9c179e"
             ],
             [
              0.4444444444444444,
              "#bd3786"
             ],
             [
              0.5555555555555556,
              "#d8576b"
             ],
             [
              0.6666666666666666,
              "#ed7953"
             ],
             [
              0.7777777777777778,
              "#fb9f3a"
             ],
             [
              0.8888888888888888,
              "#fdca26"
             ],
             [
              1,
              "#f0f921"
             ]
            ],
            "type": "surface"
           }
          ],
          "table": [
           {
            "cells": {
             "fill": {
              "color": "#EBF0F8"
             },
             "line": {
              "color": "white"
             }
            },
            "header": {
             "fill": {
              "color": "#C8D4E3"
             },
             "line": {
              "color": "white"
             }
            },
            "type": "table"
           }
          ]
         },
         "layout": {
          "annotationdefaults": {
           "arrowcolor": "#2a3f5f",
           "arrowhead": 0,
           "arrowwidth": 1
          },
          "autotypenumbers": "strict",
          "coloraxis": {
           "colorbar": {
            "outlinewidth": 0,
            "ticks": ""
           }
          },
          "colorscale": {
           "diverging": [
            [
             0,
             "#8e0152"
            ],
            [
             0.1,
             "#c51b7d"
            ],
            [
             0.2,
             "#de77ae"
            ],
            [
             0.3,
             "#f1b6da"
            ],
            [
             0.4,
             "#fde0ef"
            ],
            [
             0.5,
             "#f7f7f7"
            ],
            [
             0.6,
             "#e6f5d0"
            ],
            [
             0.7,
             "#b8e186"
            ],
            [
             0.8,
             "#7fbc41"
            ],
            [
             0.9,
             "#4d9221"
            ],
            [
             1,
             "#276419"
            ]
           ],
           "sequential": [
            [
             0,
             "#0d0887"
            ],
            [
             0.1111111111111111,
             "#46039f"
            ],
            [
             0.2222222222222222,
             "#7201a8"
            ],
            [
             0.3333333333333333,
             "#9c179e"
            ],
            [
             0.4444444444444444,
             "#bd3786"
            ],
            [
             0.5555555555555556,
             "#d8576b"
            ],
            [
             0.6666666666666666,
             "#ed7953"
            ],
            [
             0.7777777777777778,
             "#fb9f3a"
            ],
            [
             0.8888888888888888,
             "#fdca26"
            ],
            [
             1,
             "#f0f921"
            ]
           ],
           "sequentialminus": [
            [
             0,
             "#0d0887"
            ],
            [
             0.1111111111111111,
             "#46039f"
            ],
            [
             0.2222222222222222,
             "#7201a8"
            ],
            [
             0.3333333333333333,
             "#9c179e"
            ],
            [
             0.4444444444444444,
             "#bd3786"
            ],
            [
             0.5555555555555556,
             "#d8576b"
            ],
            [
             0.6666666666666666,
             "#ed7953"
            ],
            [
             0.7777777777777778,
             "#fb9f3a"
            ],
            [
             0.8888888888888888,
             "#fdca26"
            ],
            [
             1,
             "#f0f921"
            ]
           ]
          },
          "colorway": [
           "#636efa",
           "#EF553B",
           "#00cc96",
           "#ab63fa",
           "#FFA15A",
           "#19d3f3",
           "#FF6692",
           "#B6E880",
           "#FF97FF",
           "#FECB52"
          ],
          "font": {
           "color": "#2a3f5f"
          },
          "geo": {
           "bgcolor": "white",
           "lakecolor": "white",
           "landcolor": "white",
           "showlakes": true,
           "showland": true,
           "subunitcolor": "#C8D4E3"
          },
          "hoverlabel": {
           "align": "left"
          },
          "hovermode": "closest",
          "mapbox": {
           "style": "light"
          },
          "paper_bgcolor": "white",
          "plot_bgcolor": "white",
          "polar": {
           "angularaxis": {
            "gridcolor": "#EBF0F8",
            "linecolor": "#EBF0F8",
            "ticks": ""
           },
           "bgcolor": "white",
           "radialaxis": {
            "gridcolor": "#EBF0F8",
            "linecolor": "#EBF0F8",
            "ticks": ""
           }
          },
          "scene": {
           "xaxis": {
            "backgroundcolor": "white",
            "gridcolor": "#DFE8F3",
            "gridwidth": 2,
            "linecolor": "#EBF0F8",
            "showbackground": true,
            "ticks": "",
            "zerolinecolor": "#EBF0F8"
           },
           "yaxis": {
            "backgroundcolor": "white",
            "gridcolor": "#DFE8F3",
            "gridwidth": 2,
            "linecolor": "#EBF0F8",
            "showbackground": true,
            "ticks": "",
            "zerolinecolor": "#EBF0F8"
           },
           "zaxis": {
            "backgroundcolor": "white",
            "gridcolor": "#DFE8F3",
            "gridwidth": 2,
            "linecolor": "#EBF0F8",
            "showbackground": true,
            "ticks": "",
            "zerolinecolor": "#EBF0F8"
           }
          },
          "shapedefaults": {
           "line": {
            "color": "#2a3f5f"
           }
          },
          "ternary": {
           "aaxis": {
            "gridcolor": "#DFE8F3",
            "linecolor": "#A2B1C6",
            "ticks": ""
           },
           "baxis": {
            "gridcolor": "#DFE8F3",
            "linecolor": "#A2B1C6",
            "ticks": ""
           },
           "bgcolor": "white",
           "caxis": {
            "gridcolor": "#DFE8F3",
            "linecolor": "#A2B1C6",
            "ticks": ""
           }
          },
          "title": {
           "x": 0.05
          },
          "xaxis": {
           "automargin": true,
           "gridcolor": "#EBF0F8",
           "linecolor": "#EBF0F8",
           "ticks": "",
           "title": {
            "standoff": 15
           },
           "zerolinecolor": "#EBF0F8",
           "zerolinewidth": 2
          },
          "yaxis": {
           "automargin": true,
           "gridcolor": "#EBF0F8",
           "linecolor": "#EBF0F8",
           "ticks": "",
           "title": {
            "standoff": 15
           },
           "zerolinecolor": "#EBF0F8",
           "zerolinewidth": 2
          }
         }
        },
        "title": {
         "text": "Monthly Average Rainfall with Min-Max Range in London"
        },
        "width": 1000,
        "xaxis": {
         "gridcolor": "lightgray",
         "showgrid": true,
         "title": {
          "text": "Month"
         },
         "zeroline": false
        },
        "yaxis": {
         "gridcolor": "lightgray",
         "showgrid": true,
         "title": {
          "text": "Precipitation (mm)"
         },
         "zeroline": false
        }
       }
      }
     },
     "metadata": {},
     "output_type": "display_data"
    }
   ],
   "source": [
    "plot_monthly_aggregate_dynamic_v3(london_monthly_aggregate, 'Average', bar_width=0.65, fig_width=1000, fig_height=600, dark_mode=False)"
   ]
  },
  {
   "cell_type": "code",
   "execution_count": 66,
   "id": "afe5f5a5",
   "metadata": {},
   "outputs": [],
   "source": [
    "import plotly.graph_objects as go\n",
    "\n",
    "def plot_monthly_aggregate_comparison(df1, df2,\n",
    "                                      label1='Dataset 1',\n",
    "                                      label2='Dataset 2',\n",
    "                                      feature_label='Mean',\n",
    "                                      bar_width=0.35,\n",
    "                                      location='Comparison',\n",
    "                                      fig_width=900,\n",
    "                                      fig_height=500,\n",
    "                                      dark_mode=False):\n",
    "    fig = go.Figure()\n",
    "\n",
    "    # Label mapping\n",
    "    label_dict = {'Mean': 'month_avg', 'Median': 'month_median',\n",
    "                  'Sum': 'month_sum', 'Avg': 'month_avg', 'Average': 'month_avg'}\n",
    "    feature = label_dict[feature_label]\n",
    "\n",
    "    # Shared months axis\n",
    "    months = ['Jan', 'Feb', 'Mar', 'Apr', 'May', 'Jun',\n",
    "              'Jul', 'Aug', 'Sep', 'Oct', 'Nov', 'Dec']\n",
    "\n",
    "    # --- Colorblind-safe palette ---\n",
    "    # Dataset 1\n",
    "    bar_color1 = '#0072B2'     # royal blue\n",
    "    min_color1 = '#D55E00'     # vermillion\n",
    "    max_color1 = '#009E73'     # bluish green\n",
    "\n",
    "    # Dataset 2\n",
    "    bar_color2 = '#E69F00'     # orange\n",
    "    min_color2 = '#56B4E9'     # sky blue\n",
    "    max_color2 = '#CC79A7'     # reddish pink\n",
    "\n",
    "    fill_color = 'rgba(120, 120, 120, 0.15)' if not dark_mode else 'rgba(200, 200, 200, 0.15)'\n",
    "    grid_color = 'gray' if dark_mode else 'lightgray'\n",
    "    text_color = 'white' if dark_mode else 'black'\n",
    "\n",
    "    # --- Dataset 1 values ---\n",
    "    mean1 = df1[feature].values\n",
    "    min1 = df1['month_min'].values\n",
    "    max1 = df1['month_max'].values\n",
    "\n",
    "    # --- Dataset 2 values ---\n",
    "    mean2 = df2[feature].values\n",
    "    min2 = df2['month_min'].values\n",
    "    max2 = df2['month_max'].values\n",
    "\n",
    "    # === Dataset 1 ===\n",
    "    fig.add_trace(go.Scatter(\n",
    "        x=months + months[::-1],\n",
    "        y=list(max1) + list(min1[::-1]),\n",
    "        fill='toself',\n",
    "        fillcolor=fill_color,\n",
    "        line=dict(color='rgba(0,0,0,0)'),\n",
    "        hoverinfo='skip',\n",
    "        showlegend=True,\n",
    "        name=f'{label1} Min-Max Range'\n",
    "    ))\n",
    "\n",
    "    fig.add_trace(go.Bar(\n",
    "        x=months,\n",
    "        y=mean1,\n",
    "        name=f'{label1} {feature_label}',\n",
    "        marker=dict(color=bar_color1, opacity=0.85),\n",
    "        width=bar_width,\n",
    "        hovertemplate=f'{label1} {feature_label}: %{{y:.1f}}<extra></extra>'\n",
    "    ))\n",
    "\n",
    "    fig.add_trace(go.Scatter(\n",
    "        x=months,\n",
    "        y=min1,\n",
    "        mode='lines+markers',\n",
    "        name=f'{label1} Min',\n",
    "        line=dict(color=min_color1, width=2, dash='dot'),\n",
    "        marker=dict(symbol='circle', size=7, color=min_color1),\n",
    "        hovertemplate=f'{label1} Min: %{{y:.1f}}<extra></extra>'\n",
    "    ))\n",
    "\n",
    "    fig.add_trace(go.Scatter(\n",
    "        x=months,\n",
    "        y=max1,\n",
    "        mode='lines+markers',\n",
    "        name=f'{label1} Max',\n",
    "        line=dict(color=max_color1, width=2),\n",
    "        marker=dict(symbol='diamond', size=8, color=max_color1),\n",
    "        hovertemplate=f'{label1} Max: %{{y:.1f}}<extra></extra>'\n",
    "    ))\n",
    "\n",
    "    # === Dataset 2 ===\n",
    "    fig.add_trace(go.Scatter(\n",
    "        x=months + months[::-1],\n",
    "        y=list(max2) + list(min2[::-1]),\n",
    "        fill='toself',\n",
    "        fillcolor=fill_color,\n",
    "        line=dict(color='rgba(0,0,0,0)'),\n",
    "        hoverinfo='skip',\n",
    "        showlegend=True,\n",
    "        name=f'{label2} Min-Max Range'\n",
    "    ))\n",
    "\n",
    "    fig.add_trace(go.Bar(\n",
    "        x=months,\n",
    "        y=mean2,\n",
    "        name=f'{label2} {feature_label}',\n",
    "        marker=dict(color=bar_color2, opacity=0.85),\n",
    "        width=bar_width,\n",
    "        hovertemplate=f'{label2} {feature_label}: %{{y:.1f}}<extra></extra>'\n",
    "    ))\n",
    "\n",
    "    fig.add_trace(go.Scatter(\n",
    "        x=months,\n",
    "        y=min2,\n",
    "        mode='lines+markers',\n",
    "        name=f'{label2} Min',\n",
    "        line=dict(color=min_color2, width=2, dash='dot'),\n",
    "        marker=dict(symbol='circle', size=7, color=min_color2),\n",
    "        hovertemplate=f'{label2} Min: %{{y:.1f}}<extra></extra>'\n",
    "    ))\n",
    "\n",
    "    fig.add_trace(go.Scatter(\n",
    "        x=months,\n",
    "        y=max2,\n",
    "        mode='lines+markers',\n",
    "        name=f'{label2} Max',\n",
    "        line=dict(color=max_color2, width=2),\n",
    "        marker=dict(symbol='diamond', size=8, color=max_color2),\n",
    "        hovertemplate=f'{label2} Max: %{{y:.1f}}<extra></extra>'\n",
    "    ))\n",
    "\n",
    "    # === Layout ===\n",
    "    fig.update_layout(\n",
    "        title=f\"Monthly {feature_label} Rainfall Comparison in {location}\",\n",
    "        xaxis_title='Month',\n",
    "        yaxis_title='Precipitation (mm)',\n",
    "        template='plotly_dark' if dark_mode else 'plotly_white',\n",
    "        hovermode='x unified',\n",
    "        barmode='overlay',  # alternatives: 'group', 'relative'\n",
    "        barcornerradius=6,\n",
    "        width=fig_width,\n",
    "        height=fig_height,\n",
    "        font=dict(color=text_color),\n",
    "        xaxis=dict(\n",
    "            showgrid=True,\n",
    "            gridcolor=grid_color\n",
    "        ),\n",
    "        yaxis=dict(\n",
    "            showgrid=True,\n",
    "            gridcolor=grid_color\n",
    "        ),\n",
    "        legend=dict(\n",
    "            bgcolor='rgba(0,0,0,0)' if dark_mode else 'rgba(255,255,255,0)',\n",
    "            borderwidth=0\n",
    "        )\n",
    "    )\n",
    "\n",
    "    return fig"
   ]
  },
  {
   "cell_type": "code",
   "execution_count": 67,
   "id": "8f80aabe",
   "metadata": {},
   "outputs": [
    {
     "data": {
      "application/vnd.plotly.v1+json": {
       "config": {
        "plotlyServerURL": "https://plot.ly"
       },
       "data": [
        {
         "fill": "toself",
         "fillcolor": "rgba(120, 120, 120, 0.15)",
         "hoverinfo": "skip",
         "line": {
          "color": "rgba(0,0,0,0)"
         },
         "name": "London Min-Max Range",
         "showlegend": true,
         "type": "scatter",
         "x": [
          "Jan",
          "Feb",
          "Mar",
          "Apr",
          "May",
          "Jun",
          "Jul",
          "Aug",
          "Sep",
          "Oct",
          "Nov",
          "Dec",
          "Dec",
          "Nov",
          "Oct",
          "Sep",
          "Aug",
          "Jul",
          "Jun",
          "May",
          "Apr",
          "Mar",
          "Feb",
          "Jan"
         ],
         "y": [
          114.4,
          116.1,
          106,
          116.1,
          98.8,
          136.8,
          116.5,
          117.30000000000001,
          132.4,
          135.2,
          118.6,
          101.8,
          10.1,
          13.3,
          22.3,
          16.6,
          30.1,
          16.3,
          8.6,
          6.3,
          5.2,
          12.1,
          9.7,
          18.3
         ]
        },
        {
         "hovertemplate": "London Mean: %{y:.1f}<extra></extra>",
         "marker": {
          "color": "#0072B2",
          "opacity": 0.85
         },
         "name": "London Mean",
         "type": "bar",
         "width": 0.35,
         "x": [
          "Jan",
          "Feb",
          "Mar",
          "Apr",
          "May",
          "Jun",
          "Jul",
          "Aug",
          "Sep",
          "Oct",
          "Nov",
          "Dec"
         ],
         "y": [
          64,
          54.5,
          48.9,
          45.8,
          56.6,
          62.5,
          61.9,
          71.1,
          53.8,
          72.6,
          63.6,
          66
         ]
        },
        {
         "hovertemplate": "London Min: %{y:.1f}<extra></extra>",
         "line": {
          "color": "#D55E00",
          "dash": "dot",
          "width": 2
         },
         "marker": {
          "color": "#D55E00",
          "size": 7,
          "symbol": "circle"
         },
         "mode": "lines+markers",
         "name": "London Min",
         "type": "scatter",
         "x": [
          "Jan",
          "Feb",
          "Mar",
          "Apr",
          "May",
          "Jun",
          "Jul",
          "Aug",
          "Sep",
          "Oct",
          "Nov",
          "Dec"
         ],
         "y": [
          18.3,
          9.7,
          12.1,
          5.2,
          6.3,
          8.6,
          16.3,
          30.1,
          16.6,
          22.3,
          13.3,
          10.1
         ]
        },
        {
         "hovertemplate": "London Max: %{y:.1f}<extra></extra>",
         "line": {
          "color": "#009E73",
          "width": 2
         },
         "marker": {
          "color": "#009E73",
          "size": 8,
          "symbol": "diamond"
         },
         "mode": "lines+markers",
         "name": "London Max",
         "type": "scatter",
         "x": [
          "Jan",
          "Feb",
          "Mar",
          "Apr",
          "May",
          "Jun",
          "Jul",
          "Aug",
          "Sep",
          "Oct",
          "Nov",
          "Dec"
         ],
         "y": [
          114.4,
          116.1,
          106,
          116.1,
          98.8,
          136.8,
          116.5,
          117.30000000000001,
          132.4,
          135.2,
          118.6,
          101.8
         ]
        },
        {
         "fill": "toself",
         "fillcolor": "rgba(120, 120, 120, 0.15)",
         "hoverinfo": "skip",
         "line": {
          "color": "rgba(0,0,0,0)"
         },
         "name": "Apulia Min-Max Range",
         "showlegend": true,
         "type": "scatter",
         "x": [
          "Jan",
          "Feb",
          "Mar",
          "Apr",
          "May",
          "Jun",
          "Jul",
          "Aug",
          "Sep",
          "Oct",
          "Nov",
          "Dec",
          "Dec",
          "Nov",
          "Oct",
          "Sep",
          "Aug",
          "Jul",
          "Jun",
          "May",
          "Apr",
          "Mar",
          "Feb",
          "Jan"
         ],
         "y": [
          108.6,
          126.8,
          125.9,
          103.1,
          122.5,
          74.2,
          36.1,
          71.8,
          141.9,
          162.8,
          150.9,
          86.6,
          3.1,
          34,
          27.099999999999998,
          11.4,
          2,
          4.8,
          0.7,
          11.799999999999999,
          16.5,
          21,
          11.8,
          9.700000000000001
         ]
        },
        {
         "hovertemplate": "Apulia Mean: %{y:.1f}<extra></extra>",
         "marker": {
          "color": "#E69F00",
          "opacity": 0.85
         },
         "name": "Apulia Mean",
         "type": "bar",
         "width": 0.35,
         "x": [
          "Jan",
          "Feb",
          "Mar",
          "Apr",
          "May",
          "Jun",
          "Jul",
          "Aug",
          "Sep",
          "Oct",
          "Nov",
          "Dec"
         ],
         "y": [
          59,
          62.4,
          70.2,
          52.3,
          53.3,
          30.3,
          20.9,
          23.1,
          52.4,
          67.1,
          89.2,
          45.4
         ]
        },
        {
         "hovertemplate": "Apulia Min: %{y:.1f}<extra></extra>",
         "line": {
          "color": "#56B4E9",
          "dash": "dot",
          "width": 2
         },
         "marker": {
          "color": "#56B4E9",
          "size": 7,
          "symbol": "circle"
         },
         "mode": "lines+markers",
         "name": "Apulia Min",
         "type": "scatter",
         "x": [
          "Jan",
          "Feb",
          "Mar",
          "Apr",
          "May",
          "Jun",
          "Jul",
          "Aug",
          "Sep",
          "Oct",
          "Nov",
          "Dec"
         ],
         "y": [
          9.700000000000001,
          11.8,
          21,
          16.5,
          11.799999999999999,
          0.7,
          4.8,
          2,
          11.4,
          27.099999999999998,
          34,
          3.1
         ]
        },
        {
         "hovertemplate": "Apulia Max: %{y:.1f}<extra></extra>",
         "line": {
          "color": "#CC79A7",
          "width": 2
         },
         "marker": {
          "color": "#CC79A7",
          "size": 8,
          "symbol": "diamond"
         },
         "mode": "lines+markers",
         "name": "Apulia Max",
         "type": "scatter",
         "x": [
          "Jan",
          "Feb",
          "Mar",
          "Apr",
          "May",
          "Jun",
          "Jul",
          "Aug",
          "Sep",
          "Oct",
          "Nov",
          "Dec"
         ],
         "y": [
          108.6,
          126.8,
          125.9,
          103.1,
          122.5,
          74.2,
          36.1,
          71.8,
          141.9,
          162.8,
          150.9,
          86.6
         ]
        }
       ],
       "layout": {
        "barcornerradius": 6,
        "barmode": "overlay",
        "font": {
         "color": "black"
        },
        "height": 500,
        "hovermode": "x unified",
        "legend": {
         "bgcolor": "rgba(255,255,255,0)",
         "borderwidth": 0
        },
        "template": {
         "data": {
          "bar": [
           {
            "error_x": {
             "color": "#2a3f5f"
            },
            "error_y": {
             "color": "#2a3f5f"
            },
            "marker": {
             "line": {
              "color": "white",
              "width": 0.5
             },
             "pattern": {
              "fillmode": "overlay",
              "size": 10,
              "solidity": 0.2
             }
            },
            "type": "bar"
           }
          ],
          "barpolar": [
           {
            "marker": {
             "line": {
              "color": "white",
              "width": 0.5
             },
             "pattern": {
              "fillmode": "overlay",
              "size": 10,
              "solidity": 0.2
             }
            },
            "type": "barpolar"
           }
          ],
          "carpet": [
           {
            "aaxis": {
             "endlinecolor": "#2a3f5f",
             "gridcolor": "#C8D4E3",
             "linecolor": "#C8D4E3",
             "minorgridcolor": "#C8D4E3",
             "startlinecolor": "#2a3f5f"
            },
            "baxis": {
             "endlinecolor": "#2a3f5f",
             "gridcolor": "#C8D4E3",
             "linecolor": "#C8D4E3",
             "minorgridcolor": "#C8D4E3",
             "startlinecolor": "#2a3f5f"
            },
            "type": "carpet"
           }
          ],
          "choropleth": [
           {
            "colorbar": {
             "outlinewidth": 0,
             "ticks": ""
            },
            "type": "choropleth"
           }
          ],
          "contour": [
           {
            "colorbar": {
             "outlinewidth": 0,
             "ticks": ""
            },
            "colorscale": [
             [
              0,
              "#0d0887"
             ],
             [
              0.1111111111111111,
              "#46039f"
             ],
             [
              0.2222222222222222,
              "#7201a8"
             ],
             [
              0.3333333333333333,
              "#9c179e"
             ],
             [
              0.4444444444444444,
              "#bd3786"
             ],
             [
              0.5555555555555556,
              "#d8576b"
             ],
             [
              0.6666666666666666,
              "#ed7953"
             ],
             [
              0.7777777777777778,
              "#fb9f3a"
             ],
             [
              0.8888888888888888,
              "#fdca26"
             ],
             [
              1,
              "#f0f921"
             ]
            ],
            "type": "contour"
           }
          ],
          "contourcarpet": [
           {
            "colorbar": {
             "outlinewidth": 0,
             "ticks": ""
            },
            "type": "contourcarpet"
           }
          ],
          "heatmap": [
           {
            "colorbar": {
             "outlinewidth": 0,
             "ticks": ""
            },
            "colorscale": [
             [
              0,
              "#0d0887"
             ],
             [
              0.1111111111111111,
              "#46039f"
             ],
             [
              0.2222222222222222,
              "#7201a8"
             ],
             [
              0.3333333333333333,
              "#9c179e"
             ],
             [
              0.4444444444444444,
              "#bd3786"
             ],
             [
              0.5555555555555556,
              "#d8576b"
             ],
             [
              0.6666666666666666,
              "#ed7953"
             ],
             [
              0.7777777777777778,
              "#fb9f3a"
             ],
             [
              0.8888888888888888,
              "#fdca26"
             ],
             [
              1,
              "#f0f921"
             ]
            ],
            "type": "heatmap"
           }
          ],
          "heatmapgl": [
           {
            "colorbar": {
             "outlinewidth": 0,
             "ticks": ""
            },
            "colorscale": [
             [
              0,
              "#0d0887"
             ],
             [
              0.1111111111111111,
              "#46039f"
             ],
             [
              0.2222222222222222,
              "#7201a8"
             ],
             [
              0.3333333333333333,
              "#9c179e"
             ],
             [
              0.4444444444444444,
              "#bd3786"
             ],
             [
              0.5555555555555556,
              "#d8576b"
             ],
             [
              0.6666666666666666,
              "#ed7953"
             ],
             [
              0.7777777777777778,
              "#fb9f3a"
             ],
             [
              0.8888888888888888,
              "#fdca26"
             ],
             [
              1,
              "#f0f921"
             ]
            ],
            "type": "heatmapgl"
           }
          ],
          "histogram": [
           {
            "marker": {
             "pattern": {
              "fillmode": "overlay",
              "size": 10,
              "solidity": 0.2
             }
            },
            "type": "histogram"
           }
          ],
          "histogram2d": [
           {
            "colorbar": {
             "outlinewidth": 0,
             "ticks": ""
            },
            "colorscale": [
             [
              0,
              "#0d0887"
             ],
             [
              0.1111111111111111,
              "#46039f"
             ],
             [
              0.2222222222222222,
              "#7201a8"
             ],
             [
              0.3333333333333333,
              "#9c179e"
             ],
             [
              0.4444444444444444,
              "#bd3786"
             ],
             [
              0.5555555555555556,
              "#d8576b"
             ],
             [
              0.6666666666666666,
              "#ed7953"
             ],
             [
              0.7777777777777778,
              "#fb9f3a"
             ],
             [
              0.8888888888888888,
              "#fdca26"
             ],
             [
              1,
              "#f0f921"
             ]
            ],
            "type": "histogram2d"
           }
          ],
          "histogram2dcontour": [
           {
            "colorbar": {
             "outlinewidth": 0,
             "ticks": ""
            },
            "colorscale": [
             [
              0,
              "#0d0887"
             ],
             [
              0.1111111111111111,
              "#46039f"
             ],
             [
              0.2222222222222222,
              "#7201a8"
             ],
             [
              0.3333333333333333,
              "#9c179e"
             ],
             [
              0.4444444444444444,
              "#bd3786"
             ],
             [
              0.5555555555555556,
              "#d8576b"
             ],
             [
              0.6666666666666666,
              "#ed7953"
             ],
             [
              0.7777777777777778,
              "#fb9f3a"
             ],
             [
              0.8888888888888888,
              "#fdca26"
             ],
             [
              1,
              "#f0f921"
             ]
            ],
            "type": "histogram2dcontour"
           }
          ],
          "mesh3d": [
           {
            "colorbar": {
             "outlinewidth": 0,
             "ticks": ""
            },
            "type": "mesh3d"
           }
          ],
          "parcoords": [
           {
            "line": {
             "colorbar": {
              "outlinewidth": 0,
              "ticks": ""
             }
            },
            "type": "parcoords"
           }
          ],
          "pie": [
           {
            "automargin": true,
            "type": "pie"
           }
          ],
          "scatter": [
           {
            "fillpattern": {
             "fillmode": "overlay",
             "size": 10,
             "solidity": 0.2
            },
            "type": "scatter"
           }
          ],
          "scatter3d": [
           {
            "line": {
             "colorbar": {
              "outlinewidth": 0,
              "ticks": ""
             }
            },
            "marker": {
             "colorbar": {
              "outlinewidth": 0,
              "ticks": ""
             }
            },
            "type": "scatter3d"
           }
          ],
          "scattercarpet": [
           {
            "marker": {
             "colorbar": {
              "outlinewidth": 0,
              "ticks": ""
             }
            },
            "type": "scattercarpet"
           }
          ],
          "scattergeo": [
           {
            "marker": {
             "colorbar": {
              "outlinewidth": 0,
              "ticks": ""
             }
            },
            "type": "scattergeo"
           }
          ],
          "scattergl": [
           {
            "marker": {
             "colorbar": {
              "outlinewidth": 0,
              "ticks": ""
             }
            },
            "type": "scattergl"
           }
          ],
          "scattermapbox": [
           {
            "marker": {
             "colorbar": {
              "outlinewidth": 0,
              "ticks": ""
             }
            },
            "type": "scattermapbox"
           }
          ],
          "scatterpolar": [
           {
            "marker": {
             "colorbar": {
              "outlinewidth": 0,
              "ticks": ""
             }
            },
            "type": "scatterpolar"
           }
          ],
          "scatterpolargl": [
           {
            "marker": {
             "colorbar": {
              "outlinewidth": 0,
              "ticks": ""
             }
            },
            "type": "scatterpolargl"
           }
          ],
          "scatterternary": [
           {
            "marker": {
             "colorbar": {
              "outlinewidth": 0,
              "ticks": ""
             }
            },
            "type": "scatterternary"
           }
          ],
          "surface": [
           {
            "colorbar": {
             "outlinewidth": 0,
             "ticks": ""
            },
            "colorscale": [
             [
              0,
              "#0d0887"
             ],
             [
              0.1111111111111111,
              "#46039f"
             ],
             [
              0.2222222222222222,
              "#7201a8"
             ],
             [
              0.3333333333333333,
              "#9c179e"
             ],
             [
              0.4444444444444444,
              "#bd3786"
             ],
             [
              0.5555555555555556,
              "#d8576b"
             ],
             [
              0.6666666666666666,
              "#ed7953"
             ],
             [
              0.7777777777777778,
              "#fb9f3a"
             ],
             [
              0.8888888888888888,
              "#fdca26"
             ],
             [
              1,
              "#f0f921"
             ]
            ],
            "type": "surface"
           }
          ],
          "table": [
           {
            "cells": {
             "fill": {
              "color": "#EBF0F8"
             },
             "line": {
              "color": "white"
             }
            },
            "header": {
             "fill": {
              "color": "#C8D4E3"
             },
             "line": {
              "color": "white"
             }
            },
            "type": "table"
           }
          ]
         },
         "layout": {
          "annotationdefaults": {
           "arrowcolor": "#2a3f5f",
           "arrowhead": 0,
           "arrowwidth": 1
          },
          "autotypenumbers": "strict",
          "coloraxis": {
           "colorbar": {
            "outlinewidth": 0,
            "ticks": ""
           }
          },
          "colorscale": {
           "diverging": [
            [
             0,
             "#8e0152"
            ],
            [
             0.1,
             "#c51b7d"
            ],
            [
             0.2,
             "#de77ae"
            ],
            [
             0.3,
             "#f1b6da"
            ],
            [
             0.4,
             "#fde0ef"
            ],
            [
             0.5,
             "#f7f7f7"
            ],
            [
             0.6,
             "#e6f5d0"
            ],
            [
             0.7,
             "#b8e186"
            ],
            [
             0.8,
             "#7fbc41"
            ],
            [
             0.9,
             "#4d9221"
            ],
            [
             1,
             "#276419"
            ]
           ],
           "sequential": [
            [
             0,
             "#0d0887"
            ],
            [
             0.1111111111111111,
             "#46039f"
            ],
            [
             0.2222222222222222,
             "#7201a8"
            ],
            [
             0.3333333333333333,
             "#9c179e"
            ],
            [
             0.4444444444444444,
             "#bd3786"
            ],
            [
             0.5555555555555556,
             "#d8576b"
            ],
            [
             0.6666666666666666,
             "#ed7953"
            ],
            [
             0.7777777777777778,
             "#fb9f3a"
            ],
            [
             0.8888888888888888,
             "#fdca26"
            ],
            [
             1,
             "#f0f921"
            ]
           ],
           "sequentialminus": [
            [
             0,
             "#0d0887"
            ],
            [
             0.1111111111111111,
             "#46039f"
            ],
            [
             0.2222222222222222,
             "#7201a8"
            ],
            [
             0.3333333333333333,
             "#9c179e"
            ],
            [
             0.4444444444444444,
             "#bd3786"
            ],
            [
             0.5555555555555556,
             "#d8576b"
            ],
            [
             0.6666666666666666,
             "#ed7953"
            ],
            [
             0.7777777777777778,
             "#fb9f3a"
            ],
            [
             0.8888888888888888,
             "#fdca26"
            ],
            [
             1,
             "#f0f921"
            ]
           ]
          },
          "colorway": [
           "#636efa",
           "#EF553B",
           "#00cc96",
           "#ab63fa",
           "#FFA15A",
           "#19d3f3",
           "#FF6692",
           "#B6E880",
           "#FF97FF",
           "#FECB52"
          ],
          "font": {
           "color": "#2a3f5f"
          },
          "geo": {
           "bgcolor": "white",
           "lakecolor": "white",
           "landcolor": "white",
           "showlakes": true,
           "showland": true,
           "subunitcolor": "#C8D4E3"
          },
          "hoverlabel": {
           "align": "left"
          },
          "hovermode": "closest",
          "mapbox": {
           "style": "light"
          },
          "paper_bgcolor": "white",
          "plot_bgcolor": "white",
          "polar": {
           "angularaxis": {
            "gridcolor": "#EBF0F8",
            "linecolor": "#EBF0F8",
            "ticks": ""
           },
           "bgcolor": "white",
           "radialaxis": {
            "gridcolor": "#EBF0F8",
            "linecolor": "#EBF0F8",
            "ticks": ""
           }
          },
          "scene": {
           "xaxis": {
            "backgroundcolor": "white",
            "gridcolor": "#DFE8F3",
            "gridwidth": 2,
            "linecolor": "#EBF0F8",
            "showbackground": true,
            "ticks": "",
            "zerolinecolor": "#EBF0F8"
           },
           "yaxis": {
            "backgroundcolor": "white",
            "gridcolor": "#DFE8F3",
            "gridwidth": 2,
            "linecolor": "#EBF0F8",
            "showbackground": true,
            "ticks": "",
            "zerolinecolor": "#EBF0F8"
           },
           "zaxis": {
            "backgroundcolor": "white",
            "gridcolor": "#DFE8F3",
            "gridwidth": 2,
            "linecolor": "#EBF0F8",
            "showbackground": true,
            "ticks": "",
            "zerolinecolor": "#EBF0F8"
           }
          },
          "shapedefaults": {
           "line": {
            "color": "#2a3f5f"
           }
          },
          "ternary": {
           "aaxis": {
            "gridcolor": "#DFE8F3",
            "linecolor": "#A2B1C6",
            "ticks": ""
           },
           "baxis": {
            "gridcolor": "#DFE8F3",
            "linecolor": "#A2B1C6",
            "ticks": ""
           },
           "bgcolor": "white",
           "caxis": {
            "gridcolor": "#DFE8F3",
            "linecolor": "#A2B1C6",
            "ticks": ""
           }
          },
          "title": {
           "x": 0.05
          },
          "xaxis": {
           "automargin": true,
           "gridcolor": "#EBF0F8",
           "linecolor": "#EBF0F8",
           "ticks": "",
           "title": {
            "standoff": 15
           },
           "zerolinecolor": "#EBF0F8",
           "zerolinewidth": 2
          },
          "yaxis": {
           "automargin": true,
           "gridcolor": "#EBF0F8",
           "linecolor": "#EBF0F8",
           "ticks": "",
           "title": {
            "standoff": 15
           },
           "zerolinecolor": "#EBF0F8",
           "zerolinewidth": 2
          }
         }
        },
        "title": {
         "text": "Monthly Mean Rainfall Comparison in Comparison"
        },
        "width": 900,
        "xaxis": {
         "gridcolor": "lightgray",
         "showgrid": true,
         "title": {
          "text": "Month"
         }
        },
        "yaxis": {
         "gridcolor": "lightgray",
         "showgrid": true,
         "title": {
          "text": "Precipitation (mm)"
         }
        }
       }
      }
     },
     "metadata": {},
     "output_type": "display_data"
    }
   ],
   "source": [
    "plot_monthly_aggregate_comparison(london_monthly_aggregate, apulia_monthly_aggregate,\n",
    "                                      label1='London',\n",
    "                                      label2='Apulia',\n",
    "                                      feature_label='Mean',\n",
    "                                      bar_width=0.35,\n",
    "                                      location='Comparison',\n",
    "                                      fig_width=900,\n",
    "                                      fig_height=500,\n",
    "                                      dark_mode=False)"
   ]
  },
  {
   "cell_type": "code",
   "execution_count": 69,
   "id": "291fa063",
   "metadata": {},
   "outputs": [],
   "source": [
    "import plotly.graph_objects as go\n",
    "from plotly.subplots import make_subplots\n",
    "\n",
    "def plot_monthly_aggregate_stacked(df1, df2,\n",
    "                                   label1='Dataset 1',\n",
    "                                   label2='Dataset 2',\n",
    "                                   feature_label='Mean',\n",
    "                                   bar_width=0.35,\n",
    "                                   location='Comparison',\n",
    "                                   fig_width=900,\n",
    "                                   fig_height=800,\n",
    "                                   dark_mode=False):\n",
    "    # Setup subplots: 2 rows, shared x-axis\n",
    "    fig = make_subplots(rows=2, cols=1,\n",
    "                        shared_xaxes=True,\n",
    "                        vertical_spacing=0.1,\n",
    "                        subplot_titles=(f\"{label1} Monthly {feature_label}\", f\"{label2} Monthly {feature_label}\"))\n",
    "\n",
    "    label_dict = {'Mean': 'month_avg', 'Median': 'month_median',\n",
    "                  'Sum': 'month_sum', 'Avg': 'month_avg', 'Average': 'month_avg'}\n",
    "    feature = label_dict[feature_label]\n",
    "\n",
    "    months = ['Jan', 'Feb', 'Mar', 'Apr', 'May', 'Jun',\n",
    "              'Jul', 'Aug', 'Sep', 'Oct', 'Nov', 'Dec']\n",
    "\n",
    "    # --- Colorblind-safe palette ---\n",
    "    bar_color1 = '#0072B2'; min_color1 = '#D55E00'; max_color1 = '#009E73'\n",
    "    bar_color2 = '#E69F00'; min_color2 = '#56B4E9'; max_color2 = '#CC79A7'\n",
    "    fill_color = 'rgba(120, 120, 120, 0.15)' if not dark_mode else 'rgba(200, 200, 200, 0.15)'\n",
    "    grid_color = 'gray' if dark_mode else 'lightgray'\n",
    "    text_color = 'white' if dark_mode else 'black'\n",
    "\n",
    "    # === Plot Dataset 1 ===\n",
    "    mean1 = df1[feature].values\n",
    "    min1 = df1['month_min'].values\n",
    "    max1 = df1['month_max'].values\n",
    "\n",
    "    fig.add_trace(go.Scatter(\n",
    "        x=months + months[::-1],\n",
    "        y=list(max1) + list(min1[::-1]),\n",
    "        fill='toself',\n",
    "        fillcolor=fill_color,\n",
    "        line=dict(color='rgba(0,0,0,0)'),\n",
    "        hoverinfo='skip',\n",
    "        showlegend=False,\n",
    "        name=f'{label1} Min-Max Range'\n",
    "    ), row=1, col=1)\n",
    "\n",
    "    fig.add_trace(go.Bar(\n",
    "        x=months,\n",
    "        y=mean1,\n",
    "        name=f'{label1} {feature_label}',\n",
    "        marker=dict(color=bar_color1, opacity=0.85),\n",
    "        width=bar_width,\n",
    "        hovertemplate=f'{label1} {feature_label}: %{{y:.1f}}<extra></extra>'\n",
    "    ), row=1, col=1)\n",
    "\n",
    "    fig.add_trace(go.Scatter(\n",
    "        x=months,\n",
    "        y=min1,\n",
    "        mode='lines+markers',\n",
    "        name=f'{label1} Min',\n",
    "        line=dict(color=min_color1, width=2, dash='dot'),\n",
    "        marker=dict(symbol='circle', size=7, color=min_color1),\n",
    "        hovertemplate=f'{label1} Min: %{{y:.1f}}<extra></extra>'\n",
    "    ), row=1, col=1)\n",
    "\n",
    "    fig.add_trace(go.Scatter(\n",
    "        x=months,\n",
    "        y=max1,\n",
    "        mode='lines+markers',\n",
    "        name=f'{label1} Max',\n",
    "        line=dict(color=max_color1, width=2),\n",
    "        marker=dict(symbol='diamond', size=8, color=max_color1),\n",
    "        hovertemplate=f'{label1} Max: %{{y:.1f}}<extra></extra>'\n",
    "    ), row=1, col=1)\n",
    "\n",
    "    # === Plot Dataset 2 ===\n",
    "    mean2 = df2[feature].values\n",
    "    min2 = df2['month_min'].values\n",
    "    max2 = df2['month_max'].values\n",
    "\n",
    "    fig.add_trace(go.Scatter(\n",
    "        x=months + months[::-1],\n",
    "        y=list(max2) + list(min2[::-1]),\n",
    "        fill='toself',\n",
    "        fillcolor=fill_color,\n",
    "        line=dict(color='rgba(0,0,0,0)'),\n",
    "        hoverinfo='skip',\n",
    "        showlegend=False,\n",
    "        name=f'{label2} Min-Max Range'\n",
    "    ), row=2, col=1)\n",
    "\n",
    "    fig.add_trace(go.Bar(\n",
    "        x=months,\n",
    "        y=mean2,\n",
    "        name=f'{label2} {feature_label}',\n",
    "        marker=dict(color=bar_color2, opacity=0.85),\n",
    "        width=bar_width,\n",
    "        hovertemplate=f'{label2} {feature_label}: %{{y:.1f}}<extra></extra>'\n",
    "    ), row=2, col=1)\n",
    "\n",
    "    fig.add_trace(go.Scatter(\n",
    "        x=months,\n",
    "        y=min2,\n",
    "        mode='lines+markers',\n",
    "        name=f'{label2} Min',\n",
    "        line=dict(color=min_color2, width=2, dash='dot'),\n",
    "        marker=dict(symbol='circle', size=7, color=min_color2),\n",
    "        hovertemplate=f'{label2} Min: %{{y:.1f}}<extra></extra>'\n",
    "    ), row=2, col=1)\n",
    "\n",
    "    fig.add_trace(go.Scatter(\n",
    "        x=months,\n",
    "        y=max2,\n",
    "        mode='lines+markers',\n",
    "        name=f'{label2} Max',\n",
    "        line=dict(color=max_color2, width=2),\n",
    "        marker=dict(symbol='diamond', size=8, color=max_color2),\n",
    "        hovertemplate=f'{label2} Max: %{{y:.1f}}<extra></extra>'\n",
    "    ), row=2, col=1)\n",
    "\n",
    "    # === Layout ===\n",
    "    fig.update_layout(\n",
    "        title=f\"{feature_label} Monthly Rainfall in {location}\",\n",
    "        xaxis_title='Month',\n",
    "        yaxis_title='Precipitation (mm)',\n",
    "        template='plotly_dark' if dark_mode else 'plotly_white',\n",
    "        hovermode='x unified',\n",
    "        width=fig_width,\n",
    "        height=fig_height,\n",
    "        font=dict(color=text_color),\n",
    "        xaxis=dict(showgrid=True, gridcolor=grid_color),\n",
    "        xaxis2=dict(showgrid=True, gridcolor=grid_color),\n",
    "        yaxis=dict(showgrid=True, gridcolor=grid_color),\n",
    "        yaxis2=dict(showgrid=True, gridcolor=grid_color),\n",
    "        legend=dict(\n",
    "            orientation=\"h\",\n",
    "            yanchor=\"bottom\",\n",
    "            y=-0.15,\n",
    "            xanchor=\"center\",\n",
    "            x=0.5,\n",
    "            bgcolor='rgba(0,0,0,0)' if dark_mode else 'rgba(255,255,255,0)',\n",
    "            borderwidth=0\n",
    "        )\n",
    "    )\n",
    "\n",
    "    return fig"
   ]
  },
  {
   "cell_type": "code",
   "execution_count": 71,
   "id": "878e8d94",
   "metadata": {},
   "outputs": [
    {
     "data": {
      "application/vnd.plotly.v1+json": {
       "config": {
        "plotlyServerURL": "https://plot.ly"
       },
       "data": [
        {
         "fill": "toself",
         "fillcolor": "rgba(200, 200, 200, 0.15)",
         "hoverinfo": "skip",
         "line": {
          "color": "rgba(0,0,0,0)"
         },
         "name": "London Min-Max Range",
         "showlegend": false,
         "type": "scatter",
         "x": [
          "Jan",
          "Feb",
          "Mar",
          "Apr",
          "May",
          "Jun",
          "Jul",
          "Aug",
          "Sep",
          "Oct",
          "Nov",
          "Dec",
          "Dec",
          "Nov",
          "Oct",
          "Sep",
          "Aug",
          "Jul",
          "Jun",
          "May",
          "Apr",
          "Mar",
          "Feb",
          "Jan"
         ],
         "xaxis": "x",
         "y": [
          114.4,
          116.1,
          106,
          116.1,
          98.8,
          136.8,
          116.5,
          117.30000000000001,
          132.4,
          135.2,
          118.6,
          101.8,
          10.1,
          13.3,
          22.3,
          16.6,
          30.1,
          16.3,
          8.6,
          6.3,
          5.2,
          12.1,
          9.7,
          18.3
         ],
         "yaxis": "y"
        },
        {
         "hovertemplate": "London Mean: %{y:.1f}<extra></extra>",
         "marker": {
          "color": "#0072B2",
          "opacity": 0.85
         },
         "name": "London Mean",
         "type": "bar",
         "width": 0.35,
         "x": [
          "Jan",
          "Feb",
          "Mar",
          "Apr",
          "May",
          "Jun",
          "Jul",
          "Aug",
          "Sep",
          "Oct",
          "Nov",
          "Dec"
         ],
         "xaxis": "x",
         "y": [
          64,
          54.5,
          48.9,
          45.8,
          56.6,
          62.5,
          61.9,
          71.1,
          53.8,
          72.6,
          63.6,
          66
         ],
         "yaxis": "y"
        },
        {
         "hovertemplate": "London Min: %{y:.1f}<extra></extra>",
         "line": {
          "color": "#D55E00",
          "dash": "dot",
          "width": 2
         },
         "marker": {
          "color": "#D55E00",
          "size": 7,
          "symbol": "circle"
         },
         "mode": "lines+markers",
         "name": "London Min",
         "type": "scatter",
         "x": [
          "Jan",
          "Feb",
          "Mar",
          "Apr",
          "May",
          "Jun",
          "Jul",
          "Aug",
          "Sep",
          "Oct",
          "Nov",
          "Dec"
         ],
         "xaxis": "x",
         "y": [
          18.3,
          9.7,
          12.1,
          5.2,
          6.3,
          8.6,
          16.3,
          30.1,
          16.6,
          22.3,
          13.3,
          10.1
         ],
         "yaxis": "y"
        },
        {
         "hovertemplate": "London Max: %{y:.1f}<extra></extra>",
         "line": {
          "color": "#009E73",
          "width": 2
         },
         "marker": {
          "color": "#009E73",
          "size": 8,
          "symbol": "diamond"
         },
         "mode": "lines+markers",
         "name": "London Max",
         "type": "scatter",
         "x": [
          "Jan",
          "Feb",
          "Mar",
          "Apr",
          "May",
          "Jun",
          "Jul",
          "Aug",
          "Sep",
          "Oct",
          "Nov",
          "Dec"
         ],
         "xaxis": "x",
         "y": [
          114.4,
          116.1,
          106,
          116.1,
          98.8,
          136.8,
          116.5,
          117.30000000000001,
          132.4,
          135.2,
          118.6,
          101.8
         ],
         "yaxis": "y"
        },
        {
         "fill": "toself",
         "fillcolor": "rgba(200, 200, 200, 0.15)",
         "hoverinfo": "skip",
         "line": {
          "color": "rgba(0,0,0,0)"
         },
         "name": "Apulia Min-Max Range",
         "showlegend": false,
         "type": "scatter",
         "x": [
          "Jan",
          "Feb",
          "Mar",
          "Apr",
          "May",
          "Jun",
          "Jul",
          "Aug",
          "Sep",
          "Oct",
          "Nov",
          "Dec",
          "Dec",
          "Nov",
          "Oct",
          "Sep",
          "Aug",
          "Jul",
          "Jun",
          "May",
          "Apr",
          "Mar",
          "Feb",
          "Jan"
         ],
         "xaxis": "x2",
         "y": [
          108.6,
          126.8,
          125.9,
          103.1,
          122.5,
          74.2,
          36.1,
          71.8,
          141.9,
          162.8,
          150.9,
          86.6,
          3.1,
          34,
          27.099999999999998,
          11.4,
          2,
          4.8,
          0.7,
          11.799999999999999,
          16.5,
          21,
          11.8,
          9.700000000000001
         ],
         "yaxis": "y2"
        },
        {
         "hovertemplate": "Apulia Mean: %{y:.1f}<extra></extra>",
         "marker": {
          "color": "#E69F00",
          "opacity": 0.85
         },
         "name": "Apulia Mean",
         "type": "bar",
         "width": 0.35,
         "x": [
          "Jan",
          "Feb",
          "Mar",
          "Apr",
          "May",
          "Jun",
          "Jul",
          "Aug",
          "Sep",
          "Oct",
          "Nov",
          "Dec"
         ],
         "xaxis": "x2",
         "y": [
          59,
          62.4,
          70.2,
          52.3,
          53.3,
          30.3,
          20.9,
          23.1,
          52.4,
          67.1,
          89.2,
          45.4
         ],
         "yaxis": "y2"
        },
        {
         "hovertemplate": "Apulia Min: %{y:.1f}<extra></extra>",
         "line": {
          "color": "#56B4E9",
          "dash": "dot",
          "width": 2
         },
         "marker": {
          "color": "#56B4E9",
          "size": 7,
          "symbol": "circle"
         },
         "mode": "lines+markers",
         "name": "Apulia Min",
         "type": "scatter",
         "x": [
          "Jan",
          "Feb",
          "Mar",
          "Apr",
          "May",
          "Jun",
          "Jul",
          "Aug",
          "Sep",
          "Oct",
          "Nov",
          "Dec"
         ],
         "xaxis": "x2",
         "y": [
          9.700000000000001,
          11.8,
          21,
          16.5,
          11.799999999999999,
          0.7,
          4.8,
          2,
          11.4,
          27.099999999999998,
          34,
          3.1
         ],
         "yaxis": "y2"
        },
        {
         "hovertemplate": "Apulia Max: %{y:.1f}<extra></extra>",
         "line": {
          "color": "#CC79A7",
          "width": 2
         },
         "marker": {
          "color": "#CC79A7",
          "size": 8,
          "symbol": "diamond"
         },
         "mode": "lines+markers",
         "name": "Apulia Max",
         "type": "scatter",
         "x": [
          "Jan",
          "Feb",
          "Mar",
          "Apr",
          "May",
          "Jun",
          "Jul",
          "Aug",
          "Sep",
          "Oct",
          "Nov",
          "Dec"
         ],
         "xaxis": "x2",
         "y": [
          108.6,
          126.8,
          125.9,
          103.1,
          122.5,
          74.2,
          36.1,
          71.8,
          141.9,
          162.8,
          150.9,
          86.6
         ],
         "yaxis": "y2"
        }
       ],
       "layout": {
        "annotations": [
         {
          "font": {
           "size": 16
          },
          "showarrow": false,
          "text": "London Monthly Mean",
          "x": 0.5,
          "xanchor": "center",
          "xref": "paper",
          "y": 1,
          "yanchor": "bottom",
          "yref": "paper"
         },
         {
          "font": {
           "size": 16
          },
          "showarrow": false,
          "text": "Apulia Monthly Mean",
          "x": 0.5,
          "xanchor": "center",
          "xref": "paper",
          "y": 0.45,
          "yanchor": "bottom",
          "yref": "paper"
         }
        ],
        "font": {
         "color": "white"
        },
        "height": 800,
        "hovermode": "x unified",
        "legend": {
         "bgcolor": "rgba(0,0,0,0)",
         "borderwidth": 0,
         "orientation": "h",
         "x": 0.5,
         "xanchor": "center",
         "y": -0.15,
         "yanchor": "bottom"
        },
        "template": {
         "data": {
          "bar": [
           {
            "error_x": {
             "color": "#f2f5fa"
            },
            "error_y": {
             "color": "#f2f5fa"
            },
            "marker": {
             "line": {
              "color": "rgb(17,17,17)",
              "width": 0.5
             },
             "pattern": {
              "fillmode": "overlay",
              "size": 10,
              "solidity": 0.2
             }
            },
            "type": "bar"
           }
          ],
          "barpolar": [
           {
            "marker": {
             "line": {
              "color": "rgb(17,17,17)",
              "width": 0.5
             },
             "pattern": {
              "fillmode": "overlay",
              "size": 10,
              "solidity": 0.2
             }
            },
            "type": "barpolar"
           }
          ],
          "carpet": [
           {
            "aaxis": {
             "endlinecolor": "#A2B1C6",
             "gridcolor": "#506784",
             "linecolor": "#506784",
             "minorgridcolor": "#506784",
             "startlinecolor": "#A2B1C6"
            },
            "baxis": {
             "endlinecolor": "#A2B1C6",
             "gridcolor": "#506784",
             "linecolor": "#506784",
             "minorgridcolor": "#506784",
             "startlinecolor": "#A2B1C6"
            },
            "type": "carpet"
           }
          ],
          "choropleth": [
           {
            "colorbar": {
             "outlinewidth": 0,
             "ticks": ""
            },
            "type": "choropleth"
           }
          ],
          "contour": [
           {
            "colorbar": {
             "outlinewidth": 0,
             "ticks": ""
            },
            "colorscale": [
             [
              0,
              "#0d0887"
             ],
             [
              0.1111111111111111,
              "#46039f"
             ],
             [
              0.2222222222222222,
              "#7201a8"
             ],
             [
              0.3333333333333333,
              "#9c179e"
             ],
             [
              0.4444444444444444,
              "#bd3786"
             ],
             [
              0.5555555555555556,
              "#d8576b"
             ],
             [
              0.6666666666666666,
              "#ed7953"
             ],
             [
              0.7777777777777778,
              "#fb9f3a"
             ],
             [
              0.8888888888888888,
              "#fdca26"
             ],
             [
              1,
              "#f0f921"
             ]
            ],
            "type": "contour"
           }
          ],
          "contourcarpet": [
           {
            "colorbar": {
             "outlinewidth": 0,
             "ticks": ""
            },
            "type": "contourcarpet"
           }
          ],
          "heatmap": [
           {
            "colorbar": {
             "outlinewidth": 0,
             "ticks": ""
            },
            "colorscale": [
             [
              0,
              "#0d0887"
             ],
             [
              0.1111111111111111,
              "#46039f"
             ],
             [
              0.2222222222222222,
              "#7201a8"
             ],
             [
              0.3333333333333333,
              "#9c179e"
             ],
             [
              0.4444444444444444,
              "#bd3786"
             ],
             [
              0.5555555555555556,
              "#d8576b"
             ],
             [
              0.6666666666666666,
              "#ed7953"
             ],
             [
              0.7777777777777778,
              "#fb9f3a"
             ],
             [
              0.8888888888888888,
              "#fdca26"
             ],
             [
              1,
              "#f0f921"
             ]
            ],
            "type": "heatmap"
           }
          ],
          "heatmapgl": [
           {
            "colorbar": {
             "outlinewidth": 0,
             "ticks": ""
            },
            "colorscale": [
             [
              0,
              "#0d0887"
             ],
             [
              0.1111111111111111,
              "#46039f"
             ],
             [
              0.2222222222222222,
              "#7201a8"
             ],
             [
              0.3333333333333333,
              "#9c179e"
             ],
             [
              0.4444444444444444,
              "#bd3786"
             ],
             [
              0.5555555555555556,
              "#d8576b"
             ],
             [
              0.6666666666666666,
              "#ed7953"
             ],
             [
              0.7777777777777778,
              "#fb9f3a"
             ],
             [
              0.8888888888888888,
              "#fdca26"
             ],
             [
              1,
              "#f0f921"
             ]
            ],
            "type": "heatmapgl"
           }
          ],
          "histogram": [
           {
            "marker": {
             "pattern": {
              "fillmode": "overlay",
              "size": 10,
              "solidity": 0.2
             }
            },
            "type": "histogram"
           }
          ],
          "histogram2d": [
           {
            "colorbar": {
             "outlinewidth": 0,
             "ticks": ""
            },
            "colorscale": [
             [
              0,
              "#0d0887"
             ],
             [
              0.1111111111111111,
              "#46039f"
             ],
             [
              0.2222222222222222,
              "#7201a8"
             ],
             [
              0.3333333333333333,
              "#9c179e"
             ],
             [
              0.4444444444444444,
              "#bd3786"
             ],
             [
              0.5555555555555556,
              "#d8576b"
             ],
             [
              0.6666666666666666,
              "#ed7953"
             ],
             [
              0.7777777777777778,
              "#fb9f3a"
             ],
             [
              0.8888888888888888,
              "#fdca26"
             ],
             [
              1,
              "#f0f921"
             ]
            ],
            "type": "histogram2d"
           }
          ],
          "histogram2dcontour": [
           {
            "colorbar": {
             "outlinewidth": 0,
             "ticks": ""
            },
            "colorscale": [
             [
              0,
              "#0d0887"
             ],
             [
              0.1111111111111111,
              "#46039f"
             ],
             [
              0.2222222222222222,
              "#7201a8"
             ],
             [
              0.3333333333333333,
              "#9c179e"
             ],
             [
              0.4444444444444444,
              "#bd3786"
             ],
             [
              0.5555555555555556,
              "#d8576b"
             ],
             [
              0.6666666666666666,
              "#ed7953"
             ],
             [
              0.7777777777777778,
              "#fb9f3a"
             ],
             [
              0.8888888888888888,
              "#fdca26"
             ],
             [
              1,
              "#f0f921"
             ]
            ],
            "type": "histogram2dcontour"
           }
          ],
          "mesh3d": [
           {
            "colorbar": {
             "outlinewidth": 0,
             "ticks": ""
            },
            "type": "mesh3d"
           }
          ],
          "parcoords": [
           {
            "line": {
             "colorbar": {
              "outlinewidth": 0,
              "ticks": ""
             }
            },
            "type": "parcoords"
           }
          ],
          "pie": [
           {
            "automargin": true,
            "type": "pie"
           }
          ],
          "scatter": [
           {
            "marker": {
             "line": {
              "color": "#283442"
             }
            },
            "type": "scatter"
           }
          ],
          "scatter3d": [
           {
            "line": {
             "colorbar": {
              "outlinewidth": 0,
              "ticks": ""
             }
            },
            "marker": {
             "colorbar": {
              "outlinewidth": 0,
              "ticks": ""
             }
            },
            "type": "scatter3d"
           }
          ],
          "scattercarpet": [
           {
            "marker": {
             "colorbar": {
              "outlinewidth": 0,
              "ticks": ""
             }
            },
            "type": "scattercarpet"
           }
          ],
          "scattergeo": [
           {
            "marker": {
             "colorbar": {
              "outlinewidth": 0,
              "ticks": ""
             }
            },
            "type": "scattergeo"
           }
          ],
          "scattergl": [
           {
            "marker": {
             "line": {
              "color": "#283442"
             }
            },
            "type": "scattergl"
           }
          ],
          "scattermapbox": [
           {
            "marker": {
             "colorbar": {
              "outlinewidth": 0,
              "ticks": ""
             }
            },
            "type": "scattermapbox"
           }
          ],
          "scatterpolar": [
           {
            "marker": {
             "colorbar": {
              "outlinewidth": 0,
              "ticks": ""
             }
            },
            "type": "scatterpolar"
           }
          ],
          "scatterpolargl": [
           {
            "marker": {
             "colorbar": {
              "outlinewidth": 0,
              "ticks": ""
             }
            },
            "type": "scatterpolargl"
           }
          ],
          "scatterternary": [
           {
            "marker": {
             "colorbar": {
              "outlinewidth": 0,
              "ticks": ""
             }
            },
            "type": "scatterternary"
           }
          ],
          "surface": [
           {
            "colorbar": {
             "outlinewidth": 0,
             "ticks": ""
            },
            "colorscale": [
             [
              0,
              "#0d0887"
             ],
             [
              0.1111111111111111,
              "#46039f"
             ],
             [
              0.2222222222222222,
              "#7201a8"
             ],
             [
              0.3333333333333333,
              "#9c179e"
             ],
             [
              0.4444444444444444,
              "#bd3786"
             ],
             [
              0.5555555555555556,
              "#d8576b"
             ],
             [
              0.6666666666666666,
              "#ed7953"
             ],
             [
              0.7777777777777778,
              "#fb9f3a"
             ],
             [
              0.8888888888888888,
              "#fdca26"
             ],
             [
              1,
              "#f0f921"
             ]
            ],
            "type": "surface"
           }
          ],
          "table": [
           {
            "cells": {
             "fill": {
              "color": "#506784"
             },
             "line": {
              "color": "rgb(17,17,17)"
             }
            },
            "header": {
             "fill": {
              "color": "#2a3f5f"
             },
             "line": {
              "color": "rgb(17,17,17)"
             }
            },
            "type": "table"
           }
          ]
         },
         "layout": {
          "annotationdefaults": {
           "arrowcolor": "#f2f5fa",
           "arrowhead": 0,
           "arrowwidth": 1
          },
          "autotypenumbers": "strict",
          "coloraxis": {
           "colorbar": {
            "outlinewidth": 0,
            "ticks": ""
           }
          },
          "colorscale": {
           "diverging": [
            [
             0,
             "#8e0152"
            ],
            [
             0.1,
             "#c51b7d"
            ],
            [
             0.2,
             "#de77ae"
            ],
            [
             0.3,
             "#f1b6da"
            ],
            [
             0.4,
             "#fde0ef"
            ],
            [
             0.5,
             "#f7f7f7"
            ],
            [
             0.6,
             "#e6f5d0"
            ],
            [
             0.7,
             "#b8e186"
            ],
            [
             0.8,
             "#7fbc41"
            ],
            [
             0.9,
             "#4d9221"
            ],
            [
             1,
             "#276419"
            ]
           ],
           "sequential": [
            [
             0,
             "#0d0887"
            ],
            [
             0.1111111111111111,
             "#46039f"
            ],
            [
             0.2222222222222222,
             "#7201a8"
            ],
            [
             0.3333333333333333,
             "#9c179e"
            ],
            [
             0.4444444444444444,
             "#bd3786"
            ],
            [
             0.5555555555555556,
             "#d8576b"
            ],
            [
             0.6666666666666666,
             "#ed7953"
            ],
            [
             0.7777777777777778,
             "#fb9f3a"
            ],
            [
             0.8888888888888888,
             "#fdca26"
            ],
            [
             1,
             "#f0f921"
            ]
           ],
           "sequentialminus": [
            [
             0,
             "#0d0887"
            ],
            [
             0.1111111111111111,
             "#46039f"
            ],
            [
             0.2222222222222222,
             "#7201a8"
            ],
            [
             0.3333333333333333,
             "#9c179e"
            ],
            [
             0.4444444444444444,
             "#bd3786"
            ],
            [
             0.5555555555555556,
             "#d8576b"
            ],
            [
             0.6666666666666666,
             "#ed7953"
            ],
            [
             0.7777777777777778,
             "#fb9f3a"
            ],
            [
             0.8888888888888888,
             "#fdca26"
            ],
            [
             1,
             "#f0f921"
            ]
           ]
          },
          "colorway": [
           "#636efa",
           "#EF553B",
           "#00cc96",
           "#ab63fa",
           "#FFA15A",
           "#19d3f3",
           "#FF6692",
           "#B6E880",
           "#FF97FF",
           "#FECB52"
          ],
          "font": {
           "color": "#f2f5fa"
          },
          "geo": {
           "bgcolor": "rgb(17,17,17)",
           "lakecolor": "rgb(17,17,17)",
           "landcolor": "rgb(17,17,17)",
           "showlakes": true,
           "showland": true,
           "subunitcolor": "#506784"
          },
          "hoverlabel": {
           "align": "left"
          },
          "hovermode": "closest",
          "mapbox": {
           "style": "dark"
          },
          "paper_bgcolor": "rgb(17,17,17)",
          "plot_bgcolor": "rgb(17,17,17)",
          "polar": {
           "angularaxis": {
            "gridcolor": "#506784",
            "linecolor": "#506784",
            "ticks": ""
           },
           "bgcolor": "rgb(17,17,17)",
           "radialaxis": {
            "gridcolor": "#506784",
            "linecolor": "#506784",
            "ticks": ""
           }
          },
          "scene": {
           "xaxis": {
            "backgroundcolor": "rgb(17,17,17)",
            "gridcolor": "#506784",
            "gridwidth": 2,
            "linecolor": "#506784",
            "showbackground": true,
            "ticks": "",
            "zerolinecolor": "#C8D4E3"
           },
           "yaxis": {
            "backgroundcolor": "rgb(17,17,17)",
            "gridcolor": "#506784",
            "gridwidth": 2,
            "linecolor": "#506784",
            "showbackground": true,
            "ticks": "",
            "zerolinecolor": "#C8D4E3"
           },
           "zaxis": {
            "backgroundcolor": "rgb(17,17,17)",
            "gridcolor": "#506784",
            "gridwidth": 2,
            "linecolor": "#506784",
            "showbackground": true,
            "ticks": "",
            "zerolinecolor": "#C8D4E3"
           }
          },
          "shapedefaults": {
           "line": {
            "color": "#f2f5fa"
           }
          },
          "sliderdefaults": {
           "bgcolor": "#C8D4E3",
           "bordercolor": "rgb(17,17,17)",
           "borderwidth": 1,
           "tickwidth": 0
          },
          "ternary": {
           "aaxis": {
            "gridcolor": "#506784",
            "linecolor": "#506784",
            "ticks": ""
           },
           "baxis": {
            "gridcolor": "#506784",
            "linecolor": "#506784",
            "ticks": ""
           },
           "bgcolor": "rgb(17,17,17)",
           "caxis": {
            "gridcolor": "#506784",
            "linecolor": "#506784",
            "ticks": ""
           }
          },
          "title": {
           "x": 0.05
          },
          "updatemenudefaults": {
           "bgcolor": "#506784",
           "borderwidth": 0
          },
          "xaxis": {
           "automargin": true,
           "gridcolor": "#283442",
           "linecolor": "#506784",
           "ticks": "",
           "title": {
            "standoff": 15
           },
           "zerolinecolor": "#283442",
           "zerolinewidth": 2
          },
          "yaxis": {
           "automargin": true,
           "gridcolor": "#283442",
           "linecolor": "#506784",
           "ticks": "",
           "title": {
            "standoff": 15
           },
           "zerolinecolor": "#283442",
           "zerolinewidth": 2
          }
         }
        },
        "title": {
         "text": "Mean Monthly Rainfall in Comparison"
        },
        "width": 900,
        "xaxis": {
         "anchor": "y",
         "domain": [
          0,
          1
         ],
         "gridcolor": "gray",
         "matches": "x2",
         "showgrid": true,
         "showticklabels": false,
         "title": {
          "text": "Month"
         }
        },
        "xaxis2": {
         "anchor": "y2",
         "domain": [
          0,
          1
         ],
         "gridcolor": "gray",
         "showgrid": true
        },
        "yaxis": {
         "anchor": "x",
         "domain": [
          0.55,
          1
         ],
         "gridcolor": "gray",
         "showgrid": true,
         "title": {
          "text": "Precipitation (mm)"
         }
        },
        "yaxis2": {
         "anchor": "x2",
         "domain": [
          0,
          0.45
         ],
         "gridcolor": "gray",
         "showgrid": true
        }
       }
      }
     },
     "metadata": {},
     "output_type": "display_data"
    }
   ],
   "source": [
    "plot_monthly_aggregate_stacked(london_monthly_aggregate, apulia_monthly_aggregate,\n",
    "                                   label1='London',\n",
    "                                   label2='Apulia',\n",
    "                                   feature_label='Mean',\n",
    "                                   bar_width=0.35,\n",
    "                                   location='Comparison',\n",
    "                                   fig_width=900,\n",
    "                                   fig_height=800,\n",
    "                                   dark_mode=True)"
   ]
  },
  {
   "cell_type": "code",
   "execution_count": 72,
   "id": "8c50b0eb",
   "metadata": {},
   "outputs": [],
   "source": [
    "import plotly.graph_objects as go\n",
    "\n",
    "def plot_monthly_aggregate_overlaid(df1, df2,\n",
    "                                    label1='Dataset 1',\n",
    "                                    label2='Dataset 2',\n",
    "                                    feature_label='Mean',\n",
    "                                    bar_width=0.35,\n",
    "                                    location='Comparison',\n",
    "                                    fig_width=1000,\n",
    "                                    fig_height=500,\n",
    "                                    dark_mode=False):\n",
    "    fig = go.Figure()\n",
    "\n",
    "    label_dict = {'Mean': 'month_avg', 'Median': 'month_median',\n",
    "                  'Sum': 'month_sum', 'Avg': 'month_avg', 'Average': 'month_avg'}\n",
    "    feature = label_dict[feature_label]\n",
    "\n",
    "    months = ['Jan', 'Feb', 'Mar', 'Apr', 'May', 'Jun',\n",
    "              'Jul', 'Aug', 'Sep', 'Oct', 'Nov', 'Dec']\n",
    "\n",
    "    # Colorblind-safe palette\n",
    "    bar_color1 = '#0072B2'; min_color1 = '#D55E00'; max_color1 = '#009E73'\n",
    "    bar_color2 = '#E69F00'; min_color2 = '#56B4E9'; max_color2 = '#CC79A7'\n",
    "    fill_color1 = 'rgba(100, 100, 100, 0.1)'\n",
    "    fill_color2 = 'rgba(150, 150, 150, 0.1)'\n",
    "    grid_color = 'gray' if dark_mode else 'lightgray'\n",
    "    text_color = 'white' if dark_mode else 'black'\n",
    "\n",
    "    # Dataset 1 values\n",
    "    mean1 = df1[feature].values\n",
    "    min1 = df1['month_min'].values\n",
    "    max1 = df1['month_max'].values\n",
    "\n",
    "    # Dataset 2 values\n",
    "    mean2 = df2[feature].values\n",
    "    min2 = df2['month_min'].values\n",
    "    max2 = df2['month_max'].values\n",
    "\n",
    "    # --- Fill Areas (Optional) ---\n",
    "    fig.add_trace(go.Scatter(\n",
    "        x=months + months[::-1],\n",
    "        y=list(max1) + list(min1[::-1]),\n",
    "        fill='toself',\n",
    "        fillcolor=fill_color1,\n",
    "        line=dict(color='rgba(0,0,0,0)'),\n",
    "        hoverinfo='skip',\n",
    "        showlegend=True,\n",
    "        name=f'{label1} Min-Max Range'\n",
    "    ))\n",
    "\n",
    "    fig.add_trace(go.Scatter(\n",
    "        x=months + months[::-1],\n",
    "        y=list(max2) + list(min2[::-1]),\n",
    "        fill='toself',\n",
    "        fillcolor=fill_color2,\n",
    "        line=dict(color='rgba(0,0,0,0)'),\n",
    "        hoverinfo='skip',\n",
    "        showlegend=True,\n",
    "        name=f'{label2} Min-Max Range'\n",
    "    ))\n",
    "\n",
    "    # --- Bars for Dataset 1 ---\n",
    "    fig.add_trace(go.Bar(\n",
    "        x=months,\n",
    "        y=mean1,\n",
    "        name=f'{label1} {feature_label}',\n",
    "        marker=dict(color=bar_color1),\n",
    "        width=bar_width,\n",
    "        offsetgroup=0,\n",
    "        hovertemplate=f'{label1} {feature_label}: %{{y:.1f}}<extra></extra>'\n",
    "    ))\n",
    "\n",
    "    # --- Bars for Dataset 2 ---\n",
    "    fig.add_trace(go.Bar(\n",
    "        x=months,\n",
    "        y=mean2,\n",
    "        name=f'{label2} {feature_label}',\n",
    "        marker=dict(color=bar_color2),\n",
    "        width=bar_width,\n",
    "        offsetgroup=1,\n",
    "        hovertemplate=f'{label2} {feature_label}: %{{y:.1f}}<extra></extra>'\n",
    "    ))\n",
    "\n",
    "    # --- Min/Max lines for Dataset 1 ---\n",
    "    fig.add_trace(go.Scatter(\n",
    "        x=months,\n",
    "        y=min1,\n",
    "        mode='lines+markers',\n",
    "        name=f'{label1} Min',\n",
    "        line=dict(color=min_color1, width=2, dash='dot'),\n",
    "        marker=dict(symbol='circle', size=7, color=min_color1),\n",
    "        hovertemplate=f'{label1} Min: %{{y:.1f}}<extra></extra>'\n",
    "    ))\n",
    "\n",
    "    fig.add_trace(go.Scatter(\n",
    "        x=months,\n",
    "        y=max1,\n",
    "        mode='lines+markers',\n",
    "        name=f'{label1} Max',\n",
    "        line=dict(color=max_color1, width=2),\n",
    "        marker=dict(symbol='diamond', size=8, color=max_color1),\n",
    "        hovertemplate=f'{label1} Max: %{{y:.1f}}<extra></extra>'\n",
    "    ))\n",
    "\n",
    "    # --- Min/Max lines for Dataset 2 ---\n",
    "    fig.add_trace(go.Scatter(\n",
    "        x=months,\n",
    "        y=min2,\n",
    "        mode='lines+markers',\n",
    "        name=f'{label2} Min',\n",
    "        line=dict(color=min_color2, width=2, dash='dot'),\n",
    "        marker=dict(symbol='circle', size=7, color=min_color2),\n",
    "        hovertemplate=f'{label2} Min: %{{y:.1f}}<extra></extra>'\n",
    "    ))\n",
    "\n",
    "    fig.add_trace(go.Scatter(\n",
    "        x=months,\n",
    "        y=max2,\n",
    "        mode='lines+markers',\n",
    "        name=f'{label2} Max',\n",
    "        line=dict(color=max_color2, width=2),\n",
    "        marker=dict(symbol='diamond', size=8, color=max_color2),\n",
    "        hovertemplate=f'{label2} Max: %{{y:.1f}}<extra></extra>'\n",
    "    ))\n",
    "\n",
    "    # --- Layout ---\n",
    "    fig.update_layout(\n",
    "        title=f\"{feature_label} Monthly Rainfall Comparison in {location}\",\n",
    "        xaxis_title='Month',\n",
    "        yaxis_title='Precipitation (mm)',\n",
    "        template='plotly_dark' if dark_mode else 'plotly_white',\n",
    "        hovermode='x unified',\n",
    "        barmode='group',  # group instead of overlay\n",
    "        width=fig_width,\n",
    "        height=fig_height,\n",
    "        font=dict(color=text_color),\n",
    "        xaxis=dict(\n",
    "            showgrid=True,\n",
    "            gridcolor=grid_color,\n",
    "        ),\n",
    "        yaxis=dict(\n",
    "            showgrid=True,\n",
    "            gridcolor=grid_color,\n",
    "        ),\n",
    "        legend=dict(\n",
    "            orientation=\"h\",\n",
    "            yanchor=\"bottom\",\n",
    "            y=-0.3,\n",
    "            xanchor=\"center\",\n",
    "            x=0.5,\n",
    "            bgcolor='rgba(0,0,0,0)' if dark_mode else 'rgba(255,255,255,0)'\n",
    "        )\n",
    "    )\n",
    "\n",
    "    return fig"
   ]
  },
  {
   "cell_type": "code",
   "execution_count": 73,
   "id": "f0b5c0a3",
   "metadata": {},
   "outputs": [
    {
     "data": {
      "application/vnd.plotly.v1+json": {
       "config": {
        "plotlyServerURL": "https://plot.ly"
       },
       "data": [
        {
         "fill": "toself",
         "fillcolor": "rgba(100, 100, 100, 0.1)",
         "hoverinfo": "skip",
         "line": {
          "color": "rgba(0,0,0,0)"
         },
         "name": "London Min-Max Range",
         "showlegend": true,
         "type": "scatter",
         "x": [
          "Jan",
          "Feb",
          "Mar",
          "Apr",
          "May",
          "Jun",
          "Jul",
          "Aug",
          "Sep",
          "Oct",
          "Nov",
          "Dec",
          "Dec",
          "Nov",
          "Oct",
          "Sep",
          "Aug",
          "Jul",
          "Jun",
          "May",
          "Apr",
          "Mar",
          "Feb",
          "Jan"
         ],
         "y": [
          114.4,
          116.1,
          106,
          116.1,
          98.8,
          136.8,
          116.5,
          117.30000000000001,
          132.4,
          135.2,
          118.6,
          101.8,
          10.1,
          13.3,
          22.3,
          16.6,
          30.1,
          16.3,
          8.6,
          6.3,
          5.2,
          12.1,
          9.7,
          18.3
         ]
        },
        {
         "fill": "toself",
         "fillcolor": "rgba(150, 150, 150, 0.1)",
         "hoverinfo": "skip",
         "line": {
          "color": "rgba(0,0,0,0)"
         },
         "name": "Apulia Min-Max Range",
         "showlegend": true,
         "type": "scatter",
         "x": [
          "Jan",
          "Feb",
          "Mar",
          "Apr",
          "May",
          "Jun",
          "Jul",
          "Aug",
          "Sep",
          "Oct",
          "Nov",
          "Dec",
          "Dec",
          "Nov",
          "Oct",
          "Sep",
          "Aug",
          "Jul",
          "Jun",
          "May",
          "Apr",
          "Mar",
          "Feb",
          "Jan"
         ],
         "y": [
          108.6,
          126.8,
          125.9,
          103.1,
          122.5,
          74.2,
          36.1,
          71.8,
          141.9,
          162.8,
          150.9,
          86.6,
          3.1,
          34,
          27.099999999999998,
          11.4,
          2,
          4.8,
          0.7,
          11.799999999999999,
          16.5,
          21,
          11.8,
          9.700000000000001
         ]
        },
        {
         "hovertemplate": "London Mean: %{y:.1f}<extra></extra>",
         "marker": {
          "color": "#0072B2"
         },
         "name": "London Mean",
         "offsetgroup": "0",
         "type": "bar",
         "width": 0.35,
         "x": [
          "Jan",
          "Feb",
          "Mar",
          "Apr",
          "May",
          "Jun",
          "Jul",
          "Aug",
          "Sep",
          "Oct",
          "Nov",
          "Dec"
         ],
         "y": [
          64,
          54.5,
          48.9,
          45.8,
          56.6,
          62.5,
          61.9,
          71.1,
          53.8,
          72.6,
          63.6,
          66
         ]
        },
        {
         "hovertemplate": "Apulia Mean: %{y:.1f}<extra></extra>",
         "marker": {
          "color": "#E69F00"
         },
         "name": "Apulia Mean",
         "offsetgroup": "1",
         "type": "bar",
         "width": 0.35,
         "x": [
          "Jan",
          "Feb",
          "Mar",
          "Apr",
          "May",
          "Jun",
          "Jul",
          "Aug",
          "Sep",
          "Oct",
          "Nov",
          "Dec"
         ],
         "y": [
          59,
          62.4,
          70.2,
          52.3,
          53.3,
          30.3,
          20.9,
          23.1,
          52.4,
          67.1,
          89.2,
          45.4
         ]
        },
        {
         "hovertemplate": "London Min: %{y:.1f}<extra></extra>",
         "line": {
          "color": "#D55E00",
          "dash": "dot",
          "width": 2
         },
         "marker": {
          "color": "#D55E00",
          "size": 7,
          "symbol": "circle"
         },
         "mode": "lines+markers",
         "name": "London Min",
         "type": "scatter",
         "x": [
          "Jan",
          "Feb",
          "Mar",
          "Apr",
          "May",
          "Jun",
          "Jul",
          "Aug",
          "Sep",
          "Oct",
          "Nov",
          "Dec"
         ],
         "y": [
          18.3,
          9.7,
          12.1,
          5.2,
          6.3,
          8.6,
          16.3,
          30.1,
          16.6,
          22.3,
          13.3,
          10.1
         ]
        },
        {
         "hovertemplate": "London Max: %{y:.1f}<extra></extra>",
         "line": {
          "color": "#009E73",
          "width": 2
         },
         "marker": {
          "color": "#009E73",
          "size": 8,
          "symbol": "diamond"
         },
         "mode": "lines+markers",
         "name": "London Max",
         "type": "scatter",
         "x": [
          "Jan",
          "Feb",
          "Mar",
          "Apr",
          "May",
          "Jun",
          "Jul",
          "Aug",
          "Sep",
          "Oct",
          "Nov",
          "Dec"
         ],
         "y": [
          114.4,
          116.1,
          106,
          116.1,
          98.8,
          136.8,
          116.5,
          117.30000000000001,
          132.4,
          135.2,
          118.6,
          101.8
         ]
        },
        {
         "hovertemplate": "Apulia Min: %{y:.1f}<extra></extra>",
         "line": {
          "color": "#56B4E9",
          "dash": "dot",
          "width": 2
         },
         "marker": {
          "color": "#56B4E9",
          "size": 7,
          "symbol": "circle"
         },
         "mode": "lines+markers",
         "name": "Apulia Min",
         "type": "scatter",
         "x": [
          "Jan",
          "Feb",
          "Mar",
          "Apr",
          "May",
          "Jun",
          "Jul",
          "Aug",
          "Sep",
          "Oct",
          "Nov",
          "Dec"
         ],
         "y": [
          9.700000000000001,
          11.8,
          21,
          16.5,
          11.799999999999999,
          0.7,
          4.8,
          2,
          11.4,
          27.099999999999998,
          34,
          3.1
         ]
        },
        {
         "hovertemplate": "Apulia Max: %{y:.1f}<extra></extra>",
         "line": {
          "color": "#CC79A7",
          "width": 2
         },
         "marker": {
          "color": "#CC79A7",
          "size": 8,
          "symbol": "diamond"
         },
         "mode": "lines+markers",
         "name": "Apulia Max",
         "type": "scatter",
         "x": [
          "Jan",
          "Feb",
          "Mar",
          "Apr",
          "May",
          "Jun",
          "Jul",
          "Aug",
          "Sep",
          "Oct",
          "Nov",
          "Dec"
         ],
         "y": [
          108.6,
          126.8,
          125.9,
          103.1,
          122.5,
          74.2,
          36.1,
          71.8,
          141.9,
          162.8,
          150.9,
          86.6
         ]
        }
       ],
       "layout": {
        "barmode": "group",
        "font": {
         "color": "white"
        },
        "height": 800,
        "hovermode": "x unified",
        "legend": {
         "bgcolor": "rgba(0,0,0,0)",
         "orientation": "h",
         "x": 0.5,
         "xanchor": "center",
         "y": -0.3,
         "yanchor": "bottom"
        },
        "template": {
         "data": {
          "bar": [
           {
            "error_x": {
             "color": "#f2f5fa"
            },
            "error_y": {
             "color": "#f2f5fa"
            },
            "marker": {
             "line": {
              "color": "rgb(17,17,17)",
              "width": 0.5
             },
             "pattern": {
              "fillmode": "overlay",
              "size": 10,
              "solidity": 0.2
             }
            },
            "type": "bar"
           }
          ],
          "barpolar": [
           {
            "marker": {
             "line": {
              "color": "rgb(17,17,17)",
              "width": 0.5
             },
             "pattern": {
              "fillmode": "overlay",
              "size": 10,
              "solidity": 0.2
             }
            },
            "type": "barpolar"
           }
          ],
          "carpet": [
           {
            "aaxis": {
             "endlinecolor": "#A2B1C6",
             "gridcolor": "#506784",
             "linecolor": "#506784",
             "minorgridcolor": "#506784",
             "startlinecolor": "#A2B1C6"
            },
            "baxis": {
             "endlinecolor": "#A2B1C6",
             "gridcolor": "#506784",
             "linecolor": "#506784",
             "minorgridcolor": "#506784",
             "startlinecolor": "#A2B1C6"
            },
            "type": "carpet"
           }
          ],
          "choropleth": [
           {
            "colorbar": {
             "outlinewidth": 0,
             "ticks": ""
            },
            "type": "choropleth"
           }
          ],
          "contour": [
           {
            "colorbar": {
             "outlinewidth": 0,
             "ticks": ""
            },
            "colorscale": [
             [
              0,
              "#0d0887"
             ],
             [
              0.1111111111111111,
              "#46039f"
             ],
             [
              0.2222222222222222,
              "#7201a8"
             ],
             [
              0.3333333333333333,
              "#9c179e"
             ],
             [
              0.4444444444444444,
              "#bd3786"
             ],
             [
              0.5555555555555556,
              "#d8576b"
             ],
             [
              0.6666666666666666,
              "#ed7953"
             ],
             [
              0.7777777777777778,
              "#fb9f3a"
             ],
             [
              0.8888888888888888,
              "#fdca26"
             ],
             [
              1,
              "#f0f921"
             ]
            ],
            "type": "contour"
           }
          ],
          "contourcarpet": [
           {
            "colorbar": {
             "outlinewidth": 0,
             "ticks": ""
            },
            "type": "contourcarpet"
           }
          ],
          "heatmap": [
           {
            "colorbar": {
             "outlinewidth": 0,
             "ticks": ""
            },
            "colorscale": [
             [
              0,
              "#0d0887"
             ],
             [
              0.1111111111111111,
              "#46039f"
             ],
             [
              0.2222222222222222,
              "#7201a8"
             ],
             [
              0.3333333333333333,
              "#9c179e"
             ],
             [
              0.4444444444444444,
              "#bd3786"
             ],
             [
              0.5555555555555556,
              "#d8576b"
             ],
             [
              0.6666666666666666,
              "#ed7953"
             ],
             [
              0.7777777777777778,
              "#fb9f3a"
             ],
             [
              0.8888888888888888,
              "#fdca26"
             ],
             [
              1,
              "#f0f921"
             ]
            ],
            "type": "heatmap"
           }
          ],
          "heatmapgl": [
           {
            "colorbar": {
             "outlinewidth": 0,
             "ticks": ""
            },
            "colorscale": [
             [
              0,
              "#0d0887"
             ],
             [
              0.1111111111111111,
              "#46039f"
             ],
             [
              0.2222222222222222,
              "#7201a8"
             ],
             [
              0.3333333333333333,
              "#9c179e"
             ],
             [
              0.4444444444444444,
              "#bd3786"
             ],
             [
              0.5555555555555556,
              "#d8576b"
             ],
             [
              0.6666666666666666,
              "#ed7953"
             ],
             [
              0.7777777777777778,
              "#fb9f3a"
             ],
             [
              0.8888888888888888,
              "#fdca26"
             ],
             [
              1,
              "#f0f921"
             ]
            ],
            "type": "heatmapgl"
           }
          ],
          "histogram": [
           {
            "marker": {
             "pattern": {
              "fillmode": "overlay",
              "size": 10,
              "solidity": 0.2
             }
            },
            "type": "histogram"
           }
          ],
          "histogram2d": [
           {
            "colorbar": {
             "outlinewidth": 0,
             "ticks": ""
            },
            "colorscale": [
             [
              0,
              "#0d0887"
             ],
             [
              0.1111111111111111,
              "#46039f"
             ],
             [
              0.2222222222222222,
              "#7201a8"
             ],
             [
              0.3333333333333333,
              "#9c179e"
             ],
             [
              0.4444444444444444,
              "#bd3786"
             ],
             [
              0.5555555555555556,
              "#d8576b"
             ],
             [
              0.6666666666666666,
              "#ed7953"
             ],
             [
              0.7777777777777778,
              "#fb9f3a"
             ],
             [
              0.8888888888888888,
              "#fdca26"
             ],
             [
              1,
              "#f0f921"
             ]
            ],
            "type": "histogram2d"
           }
          ],
          "histogram2dcontour": [
           {
            "colorbar": {
             "outlinewidth": 0,
             "ticks": ""
            },
            "colorscale": [
             [
              0,
              "#0d0887"
             ],
             [
              0.1111111111111111,
              "#46039f"
             ],
             [
              0.2222222222222222,
              "#7201a8"
             ],
             [
              0.3333333333333333,
              "#9c179e"
             ],
             [
              0.4444444444444444,
              "#bd3786"
             ],
             [
              0.5555555555555556,
              "#d8576b"
             ],
             [
              0.6666666666666666,
              "#ed7953"
             ],
             [
              0.7777777777777778,
              "#fb9f3a"
             ],
             [
              0.8888888888888888,
              "#fdca26"
             ],
             [
              1,
              "#f0f921"
             ]
            ],
            "type": "histogram2dcontour"
           }
          ],
          "mesh3d": [
           {
            "colorbar": {
             "outlinewidth": 0,
             "ticks": ""
            },
            "type": "mesh3d"
           }
          ],
          "parcoords": [
           {
            "line": {
             "colorbar": {
              "outlinewidth": 0,
              "ticks": ""
             }
            },
            "type": "parcoords"
           }
          ],
          "pie": [
           {
            "automargin": true,
            "type": "pie"
           }
          ],
          "scatter": [
           {
            "marker": {
             "line": {
              "color": "#283442"
             }
            },
            "type": "scatter"
           }
          ],
          "scatter3d": [
           {
            "line": {
             "colorbar": {
              "outlinewidth": 0,
              "ticks": ""
             }
            },
            "marker": {
             "colorbar": {
              "outlinewidth": 0,
              "ticks": ""
             }
            },
            "type": "scatter3d"
           }
          ],
          "scattercarpet": [
           {
            "marker": {
             "colorbar": {
              "outlinewidth": 0,
              "ticks": ""
             }
            },
            "type": "scattercarpet"
           }
          ],
          "scattergeo": [
           {
            "marker": {
             "colorbar": {
              "outlinewidth": 0,
              "ticks": ""
             }
            },
            "type": "scattergeo"
           }
          ],
          "scattergl": [
           {
            "marker": {
             "line": {
              "color": "#283442"
             }
            },
            "type": "scattergl"
           }
          ],
          "scattermapbox": [
           {
            "marker": {
             "colorbar": {
              "outlinewidth": 0,
              "ticks": ""
             }
            },
            "type": "scattermapbox"
           }
          ],
          "scatterpolar": [
           {
            "marker": {
             "colorbar": {
              "outlinewidth": 0,
              "ticks": ""
             }
            },
            "type": "scatterpolar"
           }
          ],
          "scatterpolargl": [
           {
            "marker": {
             "colorbar": {
              "outlinewidth": 0,
              "ticks": ""
             }
            },
            "type": "scatterpolargl"
           }
          ],
          "scatterternary": [
           {
            "marker": {
             "colorbar": {
              "outlinewidth": 0,
              "ticks": ""
             }
            },
            "type": "scatterternary"
           }
          ],
          "surface": [
           {
            "colorbar": {
             "outlinewidth": 0,
             "ticks": ""
            },
            "colorscale": [
             [
              0,
              "#0d0887"
             ],
             [
              0.1111111111111111,
              "#46039f"
             ],
             [
              0.2222222222222222,
              "#7201a8"
             ],
             [
              0.3333333333333333,
              "#9c179e"
             ],
             [
              0.4444444444444444,
              "#bd3786"
             ],
             [
              0.5555555555555556,
              "#d8576b"
             ],
             [
              0.6666666666666666,
              "#ed7953"
             ],
             [
              0.7777777777777778,
              "#fb9f3a"
             ],
             [
              0.8888888888888888,
              "#fdca26"
             ],
             [
              1,
              "#f0f921"
             ]
            ],
            "type": "surface"
           }
          ],
          "table": [
           {
            "cells": {
             "fill": {
              "color": "#506784"
             },
             "line": {
              "color": "rgb(17,17,17)"
             }
            },
            "header": {
             "fill": {
              "color": "#2a3f5f"
             },
             "line": {
              "color": "rgb(17,17,17)"
             }
            },
            "type": "table"
           }
          ]
         },
         "layout": {
          "annotationdefaults": {
           "arrowcolor": "#f2f5fa",
           "arrowhead": 0,
           "arrowwidth": 1
          },
          "autotypenumbers": "strict",
          "coloraxis": {
           "colorbar": {
            "outlinewidth": 0,
            "ticks": ""
           }
          },
          "colorscale": {
           "diverging": [
            [
             0,
             "#8e0152"
            ],
            [
             0.1,
             "#c51b7d"
            ],
            [
             0.2,
             "#de77ae"
            ],
            [
             0.3,
             "#f1b6da"
            ],
            [
             0.4,
             "#fde0ef"
            ],
            [
             0.5,
             "#f7f7f7"
            ],
            [
             0.6,
             "#e6f5d0"
            ],
            [
             0.7,
             "#b8e186"
            ],
            [
             0.8,
             "#7fbc41"
            ],
            [
             0.9,
             "#4d9221"
            ],
            [
             1,
             "#276419"
            ]
           ],
           "sequential": [
            [
             0,
             "#0d0887"
            ],
            [
             0.1111111111111111,
             "#46039f"
            ],
            [
             0.2222222222222222,
             "#7201a8"
            ],
            [
             0.3333333333333333,
             "#9c179e"
            ],
            [
             0.4444444444444444,
             "#bd3786"
            ],
            [
             0.5555555555555556,
             "#d8576b"
            ],
            [
             0.6666666666666666,
             "#ed7953"
            ],
            [
             0.7777777777777778,
             "#fb9f3a"
            ],
            [
             0.8888888888888888,
             "#fdca26"
            ],
            [
             1,
             "#f0f921"
            ]
           ],
           "sequentialminus": [
            [
             0,
             "#0d0887"
            ],
            [
             0.1111111111111111,
             "#46039f"
            ],
            [
             0.2222222222222222,
             "#7201a8"
            ],
            [
             0.3333333333333333,
             "#9c179e"
            ],
            [
             0.4444444444444444,
             "#bd3786"
            ],
            [
             0.5555555555555556,
             "#d8576b"
            ],
            [
             0.6666666666666666,
             "#ed7953"
            ],
            [
             0.7777777777777778,
             "#fb9f3a"
            ],
            [
             0.8888888888888888,
             "#fdca26"
            ],
            [
             1,
             "#f0f921"
            ]
           ]
          },
          "colorway": [
           "#636efa",
           "#EF553B",
           "#00cc96",
           "#ab63fa",
           "#FFA15A",
           "#19d3f3",
           "#FF6692",
           "#B6E880",
           "#FF97FF",
           "#FECB52"
          ],
          "font": {
           "color": "#f2f5fa"
          },
          "geo": {
           "bgcolor": "rgb(17,17,17)",
           "lakecolor": "rgb(17,17,17)",
           "landcolor": "rgb(17,17,17)",
           "showlakes": true,
           "showland": true,
           "subunitcolor": "#506784"
          },
          "hoverlabel": {
           "align": "left"
          },
          "hovermode": "closest",
          "mapbox": {
           "style": "dark"
          },
          "paper_bgcolor": "rgb(17,17,17)",
          "plot_bgcolor": "rgb(17,17,17)",
          "polar": {
           "angularaxis": {
            "gridcolor": "#506784",
            "linecolor": "#506784",
            "ticks": ""
           },
           "bgcolor": "rgb(17,17,17)",
           "radialaxis": {
            "gridcolor": "#506784",
            "linecolor": "#506784",
            "ticks": ""
           }
          },
          "scene": {
           "xaxis": {
            "backgroundcolor": "rgb(17,17,17)",
            "gridcolor": "#506784",
            "gridwidth": 2,
            "linecolor": "#506784",
            "showbackground": true,
            "ticks": "",
            "zerolinecolor": "#C8D4E3"
           },
           "yaxis": {
            "backgroundcolor": "rgb(17,17,17)",
            "gridcolor": "#506784",
            "gridwidth": 2,
            "linecolor": "#506784",
            "showbackground": true,
            "ticks": "",
            "zerolinecolor": "#C8D4E3"
           },
           "zaxis": {
            "backgroundcolor": "rgb(17,17,17)",
            "gridcolor": "#506784",
            "gridwidth": 2,
            "linecolor": "#506784",
            "showbackground": true,
            "ticks": "",
            "zerolinecolor": "#C8D4E3"
           }
          },
          "shapedefaults": {
           "line": {
            "color": "#f2f5fa"
           }
          },
          "sliderdefaults": {
           "bgcolor": "#C8D4E3",
           "bordercolor": "rgb(17,17,17)",
           "borderwidth": 1,
           "tickwidth": 0
          },
          "ternary": {
           "aaxis": {
            "gridcolor": "#506784",
            "linecolor": "#506784",
            "ticks": ""
           },
           "baxis": {
            "gridcolor": "#506784",
            "linecolor": "#506784",
            "ticks": ""
           },
           "bgcolor": "rgb(17,17,17)",
           "caxis": {
            "gridcolor": "#506784",
            "linecolor": "#506784",
            "ticks": ""
           }
          },
          "title": {
           "x": 0.05
          },
          "updatemenudefaults": {
           "bgcolor": "#506784",
           "borderwidth": 0
          },
          "xaxis": {
           "automargin": true,
           "gridcolor": "#283442",
           "linecolor": "#506784",
           "ticks": "",
           "title": {
            "standoff": 15
           },
           "zerolinecolor": "#283442",
           "zerolinewidth": 2
          },
          "yaxis": {
           "automargin": true,
           "gridcolor": "#283442",
           "linecolor": "#506784",
           "ticks": "",
           "title": {
            "standoff": 15
           },
           "zerolinecolor": "#283442",
           "zerolinewidth": 2
          }
         }
        },
        "title": {
         "text": "Mean Monthly Rainfall Comparison in Comparison"
        },
        "width": 900,
        "xaxis": {
         "gridcolor": "gray",
         "showgrid": true,
         "title": {
          "text": "Month"
         }
        },
        "yaxis": {
         "gridcolor": "gray",
         "showgrid": true,
         "title": {
          "text": "Precipitation (mm)"
         }
        }
       }
      }
     },
     "metadata": {},
     "output_type": "display_data"
    }
   ],
   "source": [
    "plot_monthly_aggregate_overlaid(london_monthly_aggregate, apulia_monthly_aggregate,\n",
    "                                   label1='London',\n",
    "                                   label2='Apulia',\n",
    "                                   feature_label='Mean',\n",
    "                                   bar_width=0.35,\n",
    "                                   location='Comparison',\n",
    "                                   fig_width=900,\n",
    "                                   fig_height=800,\n",
    "                                   dark_mode=True)"
   ]
  },
  {
   "cell_type": "code",
   "execution_count": null,
   "id": "f732b692",
   "metadata": {},
   "outputs": [],
   "source": []
  },
  {
   "cell_type": "code",
   "execution_count": null,
   "id": "5f03869c",
   "metadata": {},
   "outputs": [],
   "source": []
  },
  {
   "cell_type": "code",
   "execution_count": null,
   "id": "07eded41",
   "metadata": {},
   "outputs": [],
   "source": []
  },
  {
   "cell_type": "code",
   "execution_count": null,
   "id": "476a5106",
   "metadata": {},
   "outputs": [],
   "source": []
  },
  {
   "cell_type": "code",
   "execution_count": 7,
   "id": "df352b93",
   "metadata": {},
   "outputs": [
    {
     "data": {
      "text/html": [
       "<div>\n",
       "<style scoped>\n",
       "    .dataframe tbody tr th:only-of-type {\n",
       "        vertical-align: middle;\n",
       "    }\n",
       "\n",
       "    .dataframe tbody tr th {\n",
       "        vertical-align: top;\n",
       "    }\n",
       "\n",
       "    .dataframe thead th {\n",
       "        text-align: right;\n",
       "    }\n",
       "</style>\n",
       "<table border=\"1\" class=\"dataframe\">\n",
       "  <thead>\n",
       "    <tr style=\"text-align: right;\">\n",
       "      <th></th>\n",
       "      <th>month</th>\n",
       "      <th>month_sum</th>\n",
       "      <th>month_median</th>\n",
       "      <th>month_avg</th>\n",
       "      <th>month_std</th>\n",
       "      <th>month_min</th>\n",
       "      <th>month_max</th>\n",
       "    </tr>\n",
       "  </thead>\n",
       "  <tbody>\n",
       "    <tr>\n",
       "      <th>0</th>\n",
       "      <td>Jan</td>\n",
       "      <td>1023.8</td>\n",
       "      <td>60.0</td>\n",
       "      <td>64.0</td>\n",
       "      <td>26.1</td>\n",
       "      <td>18.3</td>\n",
       "      <td>114.4</td>\n",
       "    </tr>\n",
       "    <tr>\n",
       "      <th>1</th>\n",
       "      <td>Feb</td>\n",
       "      <td>872.7</td>\n",
       "      <td>46.8</td>\n",
       "      <td>54.5</td>\n",
       "      <td>29.1</td>\n",
       "      <td>9.7</td>\n",
       "      <td>116.1</td>\n",
       "    </tr>\n",
       "    <tr>\n",
       "      <th>2</th>\n",
       "      <td>Mar</td>\n",
       "      <td>783.1</td>\n",
       "      <td>41.4</td>\n",
       "      <td>48.9</td>\n",
       "      <td>28.8</td>\n",
       "      <td>12.1</td>\n",
       "      <td>106.0</td>\n",
       "    </tr>\n",
       "    <tr>\n",
       "      <th>3</th>\n",
       "      <td>Apr</td>\n",
       "      <td>732.4</td>\n",
       "      <td>38.0</td>\n",
       "      <td>45.8</td>\n",
       "      <td>29.0</td>\n",
       "      <td>5.2</td>\n",
       "      <td>116.1</td>\n",
       "    </tr>\n",
       "    <tr>\n",
       "      <th>4</th>\n",
       "      <td>May</td>\n",
       "      <td>906.0</td>\n",
       "      <td>54.6</td>\n",
       "      <td>56.6</td>\n",
       "      <td>26.8</td>\n",
       "      <td>6.3</td>\n",
       "      <td>98.8</td>\n",
       "    </tr>\n",
       "  </tbody>\n",
       "</table>\n",
       "</div>"
      ],
      "text/plain": [
       "  month  month_sum  month_median  month_avg  month_std  month_min  month_max\n",
       "0   Jan     1023.8          60.0       64.0       26.1       18.3      114.4\n",
       "1   Feb      872.7          46.8       54.5       29.1        9.7      116.1\n",
       "2   Mar      783.1          41.4       48.9       28.8       12.1      106.0\n",
       "3   Apr      732.4          38.0       45.8       29.0        5.2      116.1\n",
       "4   May      906.0          54.6       56.6       26.8        6.3       98.8"
      ]
     },
     "execution_count": 7,
     "metadata": {},
     "output_type": "execute_result"
    }
   ],
   "source": [
    "london_monthly_aggregate[['month_median', 'month_avg','month_std']] = np.round(london_monthly_aggregate[['month_median', 'month_avg','month_std']],1)\n",
    "london_monthly_aggregate.head()"
   ]
  },
  {
   "cell_type": "code",
   "execution_count": 8,
   "id": "301ea20e",
   "metadata": {},
   "outputs": [
    {
     "data": {
      "text/html": [
       "<div>\n",
       "<style scoped>\n",
       "    .dataframe tbody tr th:only-of-type {\n",
       "        vertical-align: middle;\n",
       "    }\n",
       "\n",
       "    .dataframe tbody tr th {\n",
       "        vertical-align: top;\n",
       "    }\n",
       "\n",
       "    .dataframe thead th {\n",
       "        text-align: right;\n",
       "    }\n",
       "</style>\n",
       "<table border=\"1\" class=\"dataframe\">\n",
       "  <thead>\n",
       "    <tr style=\"text-align: right;\">\n",
       "      <th></th>\n",
       "      <th>month</th>\n",
       "      <th>month_sum</th>\n",
       "      <th>month_median</th>\n",
       "      <th>month_avg</th>\n",
       "      <th>month_std</th>\n",
       "      <th>month_min</th>\n",
       "      <th>month_max</th>\n",
       "    </tr>\n",
       "  </thead>\n",
       "  <tbody>\n",
       "    <tr>\n",
       "      <th>0</th>\n",
       "      <td>Jan</td>\n",
       "      <td>1023.8</td>\n",
       "      <td>60.0</td>\n",
       "      <td>64.0</td>\n",
       "      <td>26.1</td>\n",
       "      <td>18.3</td>\n",
       "      <td>114.4</td>\n",
       "    </tr>\n",
       "    <tr>\n",
       "      <th>1</th>\n",
       "      <td>Feb</td>\n",
       "      <td>872.7</td>\n",
       "      <td>46.8</td>\n",
       "      <td>54.5</td>\n",
       "      <td>29.1</td>\n",
       "      <td>9.7</td>\n",
       "      <td>116.1</td>\n",
       "    </tr>\n",
       "    <tr>\n",
       "      <th>2</th>\n",
       "      <td>Mar</td>\n",
       "      <td>783.1</td>\n",
       "      <td>41.4</td>\n",
       "      <td>48.9</td>\n",
       "      <td>28.8</td>\n",
       "      <td>12.1</td>\n",
       "      <td>106.0</td>\n",
       "    </tr>\n",
       "    <tr>\n",
       "      <th>3</th>\n",
       "      <td>Apr</td>\n",
       "      <td>732.4</td>\n",
       "      <td>38.0</td>\n",
       "      <td>45.8</td>\n",
       "      <td>29.0</td>\n",
       "      <td>5.2</td>\n",
       "      <td>116.1</td>\n",
       "    </tr>\n",
       "    <tr>\n",
       "      <th>4</th>\n",
       "      <td>May</td>\n",
       "      <td>906.0</td>\n",
       "      <td>54.6</td>\n",
       "      <td>56.6</td>\n",
       "      <td>26.8</td>\n",
       "      <td>6.3</td>\n",
       "      <td>98.8</td>\n",
       "    </tr>\n",
       "    <tr>\n",
       "      <th>5</th>\n",
       "      <td>Jun</td>\n",
       "      <td>999.8</td>\n",
       "      <td>51.7</td>\n",
       "      <td>62.5</td>\n",
       "      <td>42.3</td>\n",
       "      <td>8.6</td>\n",
       "      <td>136.8</td>\n",
       "    </tr>\n",
       "    <tr>\n",
       "      <th>6</th>\n",
       "      <td>Jul</td>\n",
       "      <td>928.7</td>\n",
       "      <td>56.0</td>\n",
       "      <td>61.9</td>\n",
       "      <td>29.4</td>\n",
       "      <td>16.3</td>\n",
       "      <td>116.5</td>\n",
       "    </tr>\n",
       "    <tr>\n",
       "      <th>7</th>\n",
       "      <td>Aug</td>\n",
       "      <td>1067.1</td>\n",
       "      <td>65.0</td>\n",
       "      <td>71.1</td>\n",
       "      <td>26.2</td>\n",
       "      <td>30.1</td>\n",
       "      <td>117.3</td>\n",
       "    </tr>\n",
       "    <tr>\n",
       "      <th>8</th>\n",
       "      <td>Sep</td>\n",
       "      <td>806.3</td>\n",
       "      <td>48.4</td>\n",
       "      <td>53.8</td>\n",
       "      <td>27.7</td>\n",
       "      <td>16.6</td>\n",
       "      <td>132.4</td>\n",
       "    </tr>\n",
       "    <tr>\n",
       "      <th>9</th>\n",
       "      <td>Oct</td>\n",
       "      <td>1089.5</td>\n",
       "      <td>79.0</td>\n",
       "      <td>72.6</td>\n",
       "      <td>36.1</td>\n",
       "      <td>22.3</td>\n",
       "      <td>135.2</td>\n",
       "    </tr>\n",
       "    <tr>\n",
       "      <th>10</th>\n",
       "      <td>Nov</td>\n",
       "      <td>954.7</td>\n",
       "      <td>59.2</td>\n",
       "      <td>63.6</td>\n",
       "      <td>27.9</td>\n",
       "      <td>13.3</td>\n",
       "      <td>118.6</td>\n",
       "    </tr>\n",
       "    <tr>\n",
       "      <th>11</th>\n",
       "      <td>Dec</td>\n",
       "      <td>989.9</td>\n",
       "      <td>63.3</td>\n",
       "      <td>66.0</td>\n",
       "      <td>26.7</td>\n",
       "      <td>10.1</td>\n",
       "      <td>101.8</td>\n",
       "    </tr>\n",
       "  </tbody>\n",
       "</table>\n",
       "</div>"
      ],
      "text/plain": [
       "   month  month_sum  month_median  month_avg  month_std  month_min  month_max\n",
       "0    Jan     1023.8          60.0       64.0       26.1       18.3      114.4\n",
       "1    Feb      872.7          46.8       54.5       29.1        9.7      116.1\n",
       "2    Mar      783.1          41.4       48.9       28.8       12.1      106.0\n",
       "3    Apr      732.4          38.0       45.8       29.0        5.2      116.1\n",
       "4    May      906.0          54.6       56.6       26.8        6.3       98.8\n",
       "5    Jun      999.8          51.7       62.5       42.3        8.6      136.8\n",
       "6    Jul      928.7          56.0       61.9       29.4       16.3      116.5\n",
       "7    Aug     1067.1          65.0       71.1       26.2       30.1      117.3\n",
       "8    Sep      806.3          48.4       53.8       27.7       16.6      132.4\n",
       "9    Oct     1089.5          79.0       72.6       36.1       22.3      135.2\n",
       "10   Nov      954.7          59.2       63.6       27.9       13.3      118.6\n",
       "11   Dec      989.9          63.3       66.0       26.7       10.1      101.8"
      ]
     },
     "execution_count": 8,
     "metadata": {},
     "output_type": "execute_result"
    }
   ],
   "source": [
    "london_monthly_aggregate"
   ]
  },
  {
   "cell_type": "code",
   "execution_count": 5,
   "id": "7ebf17b7",
   "metadata": {},
   "outputs": [
    {
     "data": {
      "text/html": [
       "<div>\n",
       "<style scoped>\n",
       "    .dataframe tbody tr th:only-of-type {\n",
       "        vertical-align: middle;\n",
       "    }\n",
       "\n",
       "    .dataframe tbody tr th {\n",
       "        vertical-align: top;\n",
       "    }\n",
       "\n",
       "    .dataframe thead th {\n",
       "        text-align: right;\n",
       "    }\n",
       "</style>\n",
       "<table border=\"1\" class=\"dataframe\">\n",
       "  <thead>\n",
       "    <tr style=\"text-align: right;\">\n",
       "      <th></th>\n",
       "      <th>month</th>\n",
       "      <th>month_sum</th>\n",
       "      <th>month_median</th>\n",
       "      <th>month_avg</th>\n",
       "      <th>month_std</th>\n",
       "      <th>month_min</th>\n",
       "      <th>month_max</th>\n",
       "    </tr>\n",
       "  </thead>\n",
       "  <tbody>\n",
       "    <tr>\n",
       "      <th>0</th>\n",
       "      <td>Jan</td>\n",
       "      <td>943.5</td>\n",
       "      <td>56.95</td>\n",
       "      <td>58.968750</td>\n",
       "      <td>25.008951</td>\n",
       "      <td>9.7</td>\n",
       "      <td>108.6</td>\n",
       "    </tr>\n",
       "    <tr>\n",
       "      <th>1</th>\n",
       "      <td>Feb</td>\n",
       "      <td>997.7</td>\n",
       "      <td>58.00</td>\n",
       "      <td>62.356250</td>\n",
       "      <td>29.375295</td>\n",
       "      <td>11.8</td>\n",
       "      <td>126.8</td>\n",
       "    </tr>\n",
       "    <tr>\n",
       "      <th>2</th>\n",
       "      <td>Mar</td>\n",
       "      <td>1122.9</td>\n",
       "      <td>64.25</td>\n",
       "      <td>70.181250</td>\n",
       "      <td>29.703024</td>\n",
       "      <td>21.0</td>\n",
       "      <td>125.9</td>\n",
       "    </tr>\n",
       "    <tr>\n",
       "      <th>3</th>\n",
       "      <td>Apr</td>\n",
       "      <td>837.1</td>\n",
       "      <td>49.15</td>\n",
       "      <td>52.318750</td>\n",
       "      <td>24.330316</td>\n",
       "      <td>16.5</td>\n",
       "      <td>103.1</td>\n",
       "    </tr>\n",
       "    <tr>\n",
       "      <th>4</th>\n",
       "      <td>May</td>\n",
       "      <td>852.5</td>\n",
       "      <td>43.05</td>\n",
       "      <td>53.281250</td>\n",
       "      <td>30.575660</td>\n",
       "      <td>11.8</td>\n",
       "      <td>122.5</td>\n",
       "    </tr>\n",
       "    <tr>\n",
       "      <th>5</th>\n",
       "      <td>Jun</td>\n",
       "      <td>485.3</td>\n",
       "      <td>31.40</td>\n",
       "      <td>30.331250</td>\n",
       "      <td>22.221813</td>\n",
       "      <td>0.7</td>\n",
       "      <td>74.2</td>\n",
       "    </tr>\n",
       "    <tr>\n",
       "      <th>6</th>\n",
       "      <td>Jul</td>\n",
       "      <td>313.8</td>\n",
       "      <td>22.50</td>\n",
       "      <td>20.920000</td>\n",
       "      <td>10.298072</td>\n",
       "      <td>4.8</td>\n",
       "      <td>36.1</td>\n",
       "    </tr>\n",
       "    <tr>\n",
       "      <th>7</th>\n",
       "      <td>Aug</td>\n",
       "      <td>345.9</td>\n",
       "      <td>17.80</td>\n",
       "      <td>23.060000</td>\n",
       "      <td>19.500359</td>\n",
       "      <td>2.0</td>\n",
       "      <td>71.8</td>\n",
       "    </tr>\n",
       "    <tr>\n",
       "      <th>8</th>\n",
       "      <td>Sep</td>\n",
       "      <td>785.9</td>\n",
       "      <td>54.90</td>\n",
       "      <td>52.393333</td>\n",
       "      <td>33.624066</td>\n",
       "      <td>11.4</td>\n",
       "      <td>141.9</td>\n",
       "    </tr>\n",
       "    <tr>\n",
       "      <th>9</th>\n",
       "      <td>Oct</td>\n",
       "      <td>1006.9</td>\n",
       "      <td>51.00</td>\n",
       "      <td>67.126667</td>\n",
       "      <td>43.271443</td>\n",
       "      <td>27.1</td>\n",
       "      <td>162.8</td>\n",
       "    </tr>\n",
       "    <tr>\n",
       "      <th>10</th>\n",
       "      <td>Nov</td>\n",
       "      <td>1337.6</td>\n",
       "      <td>82.30</td>\n",
       "      <td>89.173333</td>\n",
       "      <td>35.571949</td>\n",
       "      <td>34.0</td>\n",
       "      <td>150.9</td>\n",
       "    </tr>\n",
       "    <tr>\n",
       "      <th>11</th>\n",
       "      <td>Dec</td>\n",
       "      <td>680.4</td>\n",
       "      <td>43.30</td>\n",
       "      <td>45.360000</td>\n",
       "      <td>25.355383</td>\n",
       "      <td>3.1</td>\n",
       "      <td>86.6</td>\n",
       "    </tr>\n",
       "  </tbody>\n",
       "</table>\n",
       "</div>"
      ],
      "text/plain": [
       "   month  month_sum  month_median  month_avg  month_std  month_min  month_max\n",
       "0    Jan      943.5         56.95  58.968750  25.008951        9.7      108.6\n",
       "1    Feb      997.7         58.00  62.356250  29.375295       11.8      126.8\n",
       "2    Mar     1122.9         64.25  70.181250  29.703024       21.0      125.9\n",
       "3    Apr      837.1         49.15  52.318750  24.330316       16.5      103.1\n",
       "4    May      852.5         43.05  53.281250  30.575660       11.8      122.5\n",
       "5    Jun      485.3         31.40  30.331250  22.221813        0.7       74.2\n",
       "6    Jul      313.8         22.50  20.920000  10.298072        4.8       36.1\n",
       "7    Aug      345.9         17.80  23.060000  19.500359        2.0       71.8\n",
       "8    Sep      785.9         54.90  52.393333  33.624066       11.4      141.9\n",
       "9    Oct     1006.9         51.00  67.126667  43.271443       27.1      162.8\n",
       "10   Nov     1337.6         82.30  89.173333  35.571949       34.0      150.9\n",
       "11   Dec      680.4         43.30  45.360000  25.355383        3.1       86.6"
      ]
     },
     "execution_count": 5,
     "metadata": {},
     "output_type": "execute_result"
    }
   ],
   "source": [
    "apulia_monthly_aggregate"
   ]
  },
  {
   "cell_type": "code",
   "execution_count": null,
   "id": "cceb37b8",
   "metadata": {},
   "outputs": [],
   "source": []
  },
  {
   "cell_type": "code",
   "execution_count": null,
   "id": "1f777599",
   "metadata": {},
   "outputs": [],
   "source": [
    "df_all_puglia = create_daily_rainfall_dataframe(location='puglia', debug=True)\n",
    "df_all_london = create_daily_rainfall_dataframe(location='london', debug=True)\n",
    "\n",
    "# still have one day from 2009 - removing it\n",
    "df_all_london = df_all_london[df_all_london['time'] != '2009-12-31'].reset_index(drop=True).copy()\n",
    "df_all_puglia = df_all_puglia[df_all_puglia['time'] != '2009-12-31'].reset_index(drop=True).copy()"
   ]
  },
  {
   "cell_type": "code",
   "execution_count": null,
   "id": "39fe8730",
   "metadata": {},
   "outputs": [],
   "source": [
    "df_all_london.head()"
   ]
  },
  {
   "cell_type": "markdown",
   "id": "d36e9f7c",
   "metadata": {},
   "source": [
    "# Rainfall Monthly and Seasonal Analysis"
   ]
  },
  {
   "cell_type": "markdown",
   "id": "8046adb6",
   "metadata": {},
   "source": [
    "In this notebook we will perform monthly and seasonal total precipitation analysis and exploring:\n",
    "1. how total precipitation is characterised during the different months of the year and how they compare between London area and Apulia\n",
    "2. with respect to season, which are the ones where it rains more and which less\n",
    "3. is there any change in the last 50 years - that's for London area only.\n",
    "\n",
    "As for point 1. and 2., we will compare how it does change between London and Apulia area, while for point 3., we will refer to London are only for the moment"
   ]
  },
  {
   "cell_type": "code",
   "execution_count": null,
   "id": "e61b5247",
   "metadata": {},
   "outputs": [],
   "source": [
    "df_all_london.head()"
   ]
  },
  {
   "cell_type": "code",
   "execution_count": null,
   "id": "cbedc9bd",
   "metadata": {},
   "outputs": [],
   "source": [
    "apulia_data_all_points = transform_data_datetime(df_all_puglia)\n",
    "london_data_all_points = transform_data_datetime(df_all_london)"
   ]
  },
  {
   "cell_type": "markdown",
   "id": "6b33ccf4",
   "metadata": {},
   "source": [
    "### Monthly sum, mean, median, mean and max"
   ]
  },
  {
   "cell_type": "markdown",
   "id": "9fab1c4d",
   "metadata": {},
   "source": [
    "As we want to analyse the monthly precipitation data, we want to measure what was the montly total precipitaion sum, mean, median, min and max in the 2 different areas."
   ]
  },
  {
   "cell_type": "code",
   "execution_count": null,
   "id": "0efdc283",
   "metadata": {},
   "outputs": [],
   "source": [
    "df_london_daily_mean = (df_all_london\n",
    "                        .groupby('time_dt')['tp_mm']\n",
    "                        .mean()\n",
    "                        ).reset_index()\n",
    "\n",
    "df_london_daily_mean.head()"
   ]
  },
  {
   "cell_type": "code",
   "execution_count": null,
   "id": "91965940",
   "metadata": {},
   "outputs": [],
   "source": [
    "df_london_daily_mean = transform_data_datetime(df_london_daily_mean)"
   ]
  },
  {
   "cell_type": "code",
   "execution_count": null,
   "id": "99934000",
   "metadata": {},
   "outputs": [],
   "source": [
    "df_london_daily_mean.head(3)"
   ]
  },
  {
   "cell_type": "code",
   "execution_count": null,
   "id": "ec2cdbe7",
   "metadata": {},
   "outputs": [],
   "source": [
    "def thresholding_and_rounding(series, threshold = 0.1):\n",
    "    s1 = series.copy()\n",
    "    s1[s1 < threshold] = 0\n",
    "    return(np.round(s1,1))"
   ]
  },
  {
   "cell_type": "code",
   "execution_count": null,
   "id": "616649bc",
   "metadata": {},
   "outputs": [],
   "source": [
    "df_london_daily_mean['tp_mm'] = thresholding_and_rounding(df_london_daily_mean['tp_mm'])"
   ]
  },
  {
   "cell_type": "code",
   "execution_count": null,
   "id": "52541e1c",
   "metadata": {},
   "outputs": [],
   "source": [
    "df_london_year_month = (df_london_daily_mean\n",
    " .groupby(['year', 'month int'])\n",
    " .agg(\n",
    "     month = ('month', 'first'),\n",
    "     tp_monthly_sum = ('tp_mm', 'sum'),\n",
    "     tp_daily_median = ('tp_mm', 'median'),\n",
    "     tp_daily_avg = ('tp_mm', 'mean'),\n",
    "     tp_daily_std = ('tp_mm', 'std'),\n",
    "     tp_daily_min = ('tp_mm', 'min'),\n",
    "     tp_daily_max = ('tp_mm', 'max')\n",
    " ).reset_index()\n",
    ")\n",
    "\n",
    "df_london_year_month['year_month'] = df_london_year_month['year'].astype(str) + '-' + df_london_year_month['month int'].astype(str).str.zfill(2)\n",
    "df_london_year_month.head()"
   ]
  },
  {
   "cell_type": "code",
   "execution_count": null,
   "id": "53ae8110",
   "metadata": {},
   "outputs": [],
   "source": [
    "sns.set_theme(rc={'figure.figsize':(14.,4.)})\n",
    "\n",
    "df_plot = df_london_year_month[['year_month', 'tp_monthly_sum']].copy()\n",
    "# df_plot['year_month'] = pd.to_datetime(df_plot['year_month'], format = '%Y-%m')\n",
    "# df_plot = df_plot.sort_values('year_month')\n",
    "\n",
    "sns.barplot(\n",
    "    data = df_plot,\n",
    "    x = 'year_month',\n",
    "    y = 'tp_monthly_sum'\n",
    ");\n",
    "\n",
    "## Show only every 6th label\n",
    "xticks = df_plot['year_month'].unique()\n",
    "plt.xticks(\n",
    "    ticks=range(0, len(xticks), 6),\n",
    "    labels=xticks[::6],\n",
    "    rotation=90\n",
    ")\n",
    "\n",
    "plt.xlabel('Year-Month')\n",
    "plt.ylabel('tp_mm')\n",
    "plt.tight_layout()\n",
    "plt.show()"
   ]
  },
  {
   "cell_type": "code",
   "execution_count": null,
   "id": "cbb5d897",
   "metadata": {},
   "outputs": [],
   "source": [
    "df_london_year_month.head()"
   ]
  },
  {
   "cell_type": "code",
   "execution_count": null,
   "id": "f7d1b601",
   "metadata": {},
   "outputs": [],
   "source": [
    "london_monthly_tp = (df_london_year_month\n",
    " .groupby('month', observed=True)\n",
    " .agg(\n",
    "     month_sum = ('tp_monthly_sum', 'sum'),\n",
    "     month_median = ('tp_monthly_sum', 'mean'),\n",
    "     month_avg = ('tp_monthly_sum', 'mean'),\n",
    "     month_std = ('tp_monthly_sum', 'std'),\n",
    "     month_min = ('tp_monthly_sum', 'min'),\n",
    "     month_max = ('tp_monthly_sum', 'max')\n",
    "     )\n",
    "     .reset_index()\n",
    " )"
   ]
  },
  {
   "cell_type": "code",
   "execution_count": null,
   "id": "30005522",
   "metadata": {},
   "outputs": [],
   "source": [
    "london_monthly_tp"
   ]
  },
  {
   "cell_type": "code",
   "execution_count": null,
   "id": "e7646666",
   "metadata": {},
   "outputs": [],
   "source": [
    "sns.barplot(\n",
    "    data = london_monthly_tp,\n",
    "    x= 'month',\n",
    "    y = 'month_median'\n",
    ")\n",
    "\n",
    "sns.scatterplot(\n",
    "    data = london_monthly_tp,\n",
    "    x= 'month',\n",
    "    y = 'month_max'\n",
    ")\n",
    "sns.lineplot(\n",
    "    data = london_monthly_tp,\n",
    "    x= 'month',\n",
    "    y = 'month_max',\n",
    "    color = 'green'\n",
    ")\n",
    "\n",
    "sns.scatterplot(\n",
    "    data = london_monthly_tp,\n",
    "    x= 'month',\n",
    "    y = 'month_min'\n",
    ")\n",
    "sns.lineplot(\n",
    "    data = london_monthly_tp,\n",
    "    x= 'month',\n",
    "    y = 'month_min',\n",
    "    color = 'orange'\n",
    ")"
   ]
  },
  {
   "cell_type": "code",
   "execution_count": null,
   "id": "5b066c39",
   "metadata": {},
   "outputs": [],
   "source": [
    "import matplotlib.pyplot as plt\n",
    "import numpy as np\n",
    "\n",
    "# Example data\n",
    "months = london_monthly_tp['month'].values\n",
    "mean_precip = london_monthly_tp['month_avg'].values\n",
    "min_precip = london_monthly_tp['month_min'].values\n",
    "max_precip = london_monthly_tp['month_max'].values\n",
    "\n",
    "# Convert months to x-axis positions\n",
    "x = np.arange(len(months))\n",
    "\n",
    "# Plot\n",
    "plt.figure(figsize=(10, 4))\n",
    "plt.plot(x, mean_precip, label='Mean Precipitation', color='blue', marker='o')\n",
    "plt.fill_between(x, min_precip, max_precip, color='lightblue', alpha=0.4, label='Min-Max Range')\n",
    "\n",
    "plt.xticks(x, months)\n",
    "plt.ylabel(\"Precipitation (mm)\")\n",
    "plt.title(\"Monthly Mean Rainfall with Min-Max Range\")\n",
    "plt.legend()\n",
    "plt.grid(True)\n",
    "plt.tight_layout()\n",
    "plt.show()"
   ]
  },
  {
   "cell_type": "code",
   "execution_count": null,
   "id": "d9e0883c",
   "metadata": {},
   "outputs": [],
   "source": [
    "max_precip"
   ]
  },
  {
   "cell_type": "code",
   "execution_count": null,
   "id": "83f37e2f",
   "metadata": {},
   "outputs": [],
   "source": [
    "import plotly.graph_objects as go\n",
    "# Create figure\n",
    "fig = go.Figure()\n",
    "\n",
    "# Add min-max range as a filled area\n",
    "months = ['Jan', 'Feb', 'Mar', 'Apr', 'May', 'Jun',\n",
    "          'Jul', 'Aug', 'Sep', 'Oct', 'Nov', 'Dec']\n",
    "\n",
    "fig.add_trace(go.Scatter(\n",
    "    x=months + months[::-1],  # x: Jan to Dec and back from Dec to Jan\n",
    "    y=list(max_precip) + list(min_precip[::-1]),  # Upper bound + lower bound reversed\n",
    "    fill='toself',\n",
    "    fillcolor='rgba(135, 206, 250, 0.4)',  # Light blue with transparency\n",
    "    line=dict(color='rgba(255,255,255,0)'),  # No line\n",
    "    hoverinfo=\"skip\",\n",
    "    showlegend=True,\n",
    "    name='Min-Max Range'\n",
    "))\n",
    "\n",
    "# Add mean line\n",
    "# fig.add_trace(go.Scatter(\n",
    "#     x=months,\n",
    "#     y=mean_precip,\n",
    "#     mode='lines+markers',\n",
    "#     name='Mean Precipitation',\n",
    "#     line=dict(color='blue'),\n",
    "#     marker=dict(size=6)\n",
    "# ))\n",
    "\n",
    "fig.add_trace(go.Bar(\n",
    "    x = months,\n",
    "    y = mean_precip,\n",
    "    name='Mean Precipitation',\n",
    "    marker=dict(\n",
    "        color='blue',\n",
    "        line=dict(width=0),\n",
    "        opacity=0.9\n",
    "    ),\n",
    "    width=0.3\n",
    "))\n",
    "\n",
    "# Layout\n",
    "fig.update_layout(\n",
    "    title='Monthly Rainfall: Mean with Min-Max Range',\n",
    "    xaxis_title='Month',\n",
    "    yaxis_title='Precipitation (mm)',\n",
    "    template='plotly_white',\n",
    "    hovermode=\"x unified\",\n",
    "    barmode='overlay',\n",
    "    barcornerradius=8\n",
    ")\n",
    "\n",
    "fig.show()"
   ]
  },
  {
   "cell_type": "code",
   "execution_count": null,
   "id": "28dc4b1d",
   "metadata": {},
   "outputs": [],
   "source": []
  },
  {
   "cell_type": "code",
   "execution_count": null,
   "id": "0c6e677b",
   "metadata": {},
   "outputs": [],
   "source": [
    "sns.boxplot(\n",
    "    data = df_london_year_month,\n",
    "    x = 'month',\n",
    "    y = 'tp_monthly_sum'\n",
    ")"
   ]
  },
  {
   "cell_type": "markdown",
   "id": "0c3e3643",
   "metadata": {},
   "source": [
    "## Apulia Monthly Analysis"
   ]
  },
  {
   "cell_type": "code",
   "execution_count": null,
   "id": "d0e39d32",
   "metadata": {},
   "outputs": [],
   "source": [
    "df_apulia_daily_mean = (df_all_puglia\n",
    "                        .groupby('time_dt')['tp_mm']\n",
    "                        .mean()\n",
    "                        ).reset_index()\n",
    "\n",
    "\n",
    "df_apulia_daily_mean = transform_data_datetime(df_apulia_daily_mean)\n",
    "df_apulia_daily_mean['tp_mm'] = thresholding_and_rounding(df_apulia_daily_mean['tp_mm'])\n",
    "\n",
    "df_apulia_year_month = (df_apulia_daily_mean\n",
    " .groupby(['year', 'month int'])\n",
    " .agg(\n",
    "     month = ('month', 'first'),\n",
    "     tp_monthly_sum = ('tp_mm', 'sum'),\n",
    "     tp_daily_median = ('tp_mm', 'median'),\n",
    "     tp_daily_avg = ('tp_mm', 'mean'),\n",
    "     tp_daily_std = ('tp_mm', 'std'),\n",
    "     tp_daily_min = ('tp_mm', 'min'),\n",
    "     tp_daily_max = ('tp_mm', 'max')\n",
    " ).reset_index()\n",
    ")\n",
    "\n",
    "df_apulia_year_month['year_month'] = df_apulia_year_month['year'].astype(str) + '-' + df_apulia_year_month['month int'].astype(str).str.zfill(2)\n",
    "\n",
    "apulia_monthly_tp = (df_apulia_year_month\n",
    " .groupby('month', observed=True)\n",
    " .agg(\n",
    "     month_sum = ('tp_monthly_sum', 'sum'),\n",
    "     month_median = ('tp_monthly_sum', 'mean'),\n",
    "     month_avg = ('tp_monthly_sum', 'mean'),\n",
    "     month_std = ('tp_monthly_sum', 'std'),\n",
    "     month_min = ('tp_monthly_sum', 'min'),\n",
    "     month_max = ('tp_monthly_sum', 'max')\n",
    "     )\n",
    "     .reset_index()\n",
    " )\n",
    "\n",
    "apulia_monthly_tp\n"
   ]
  },
  {
   "cell_type": "code",
   "execution_count": null,
   "id": "4af5825f",
   "metadata": {},
   "outputs": [],
   "source": [
    "import matplotlib.pyplot as plt\n",
    "import numpy as np\n",
    "\n",
    "# Example data\n",
    "months = apulia_monthly_tp['month'].values\n",
    "mean_precip = apulia_monthly_tp['month_avg'].values\n",
    "min_precip = apulia_monthly_tp['month_min'].values\n",
    "max_precip = apulia_monthly_tp['month_max'].values\n",
    "\n",
    "# Convert months to x-axis positions\n",
    "x = np.arange(len(months))\n",
    "\n",
    "# Plot\n",
    "plt.figure(figsize=(10, 4))\n",
    "plt.plot(x, mean_precip, label='Mean Precipitation', color='blue', marker='o')\n",
    "plt.fill_between(x, min_precip, max_precip, color='lightblue', alpha=0.4, label='Min-Max Range')\n",
    "\n",
    "plt.xticks(x, months)\n",
    "plt.ylabel(\"Precipitation (mm)\")\n",
    "plt.title(\"Monthly Mean Rainfall with Min-Max Range\")\n",
    "plt.legend()\n",
    "plt.grid(True)\n",
    "plt.tight_layout()\n",
    "plt.show()"
   ]
  },
  {
   "cell_type": "markdown",
   "id": "d6efa3c3",
   "metadata": {},
   "source": [
    "## `create_monthly_aggregate` - function creating Monthly Aggregate from daily rainfall data"
   ]
  },
  {
   "cell_type": "markdown",
   "id": "6c8efb1b",
   "metadata": {},
   "source": [
    "The function takes as an input the location of the area we want to create the Monthly Aggregate dataframe. \n",
    "\n",
    "The output dataframe will have the following format: \n",
    "\n",
    "| Month | sum    |  tp_mm_median | tp_mm_avg | tp_mm_std | tp_mm_min | tp_mm_max |\n",
    "|------:|:-------|:--------------|:----------|:----------|:----------|:----------|\n",
    "| Jan   | 2404.5 |   26.6        | 18.1      |  4.3      |   1.3     |  50.3     |\n",
    "| ...   |   ...  |   ...         | ...       |  ...      |   ...     |  ...      |"
   ]
  },
  {
   "cell_type": "code",
   "execution_count": null,
   "id": "e3044db9",
   "metadata": {},
   "outputs": [],
   "source": [
    "def create_monthly_aggregate(location = 'london', remove_date_list = ['2009-12-31'], debug = False):\n",
    "    '''\n",
    "    Create function signature    \n",
    "    '''\n",
    "\n",
    "    # first, create daily total precipitation for all points in the grid\n",
    "    # in the area defined by location. This data is contained in pickle files \n",
    "    # from a specific folder. The function concat all yearly files created in\n",
    "    # previous steps\n",
    "    df_data = create_daily_rainfall_dataframe(location=location, debug=debug)\n",
    "    # removing data contained in remove_date_list\n",
    "    df_data = df_data[~df_data['time'].isin(remove_date_list)].reset_index(drop=True).copy()\n",
    "\n",
    "    # creating time_dt column to process the mean\n",
    "    df_data = transform_data_datetime(df_data)\n",
    "\n",
    "    # Averaging measurements for all points in the grid\n",
    "    df_data_mean = (df_data\n",
    "                        .groupby('time_dt')['tp_mm']\n",
    "                        .mean()\n",
    "                        ).reset_index()\n",
    "\n",
    "    # creating year, month, day colums\n",
    "    df_data_mean = transform_data_datetime(df_data_mean)\n",
    "    # thresholding and rounding tp_mm values\n",
    "    df_data_mean['tp_mm'] = thresholding_and_rounding(df_data_mean['tp_mm'])\n",
    "    # creating year-month aggregate - to decide if saving the result as a parquet file for further analysis on time/monthly series\n",
    "    # At this stage, we are just using the monthly sum\n",
    "    df_data_year_month = (df_data_mean\n",
    "                            .groupby(['year', 'month int'])\n",
    "                            .agg(\n",
    "                                month = ('month', 'first'),\n",
    "                                tp_monthly_sum = ('tp_mm', 'sum'),\n",
    "                                tp_daily_median = ('tp_mm', 'median'),\n",
    "                                tp_daily_avg = ('tp_mm', 'mean'),\n",
    "                                tp_daily_std = ('tp_mm', 'std'),\n",
    "                                tp_daily_min = ('tp_mm', 'min'),\n",
    "                                tp_daily_max = ('tp_mm', 'max')\n",
    "                                ).reset_index()\n",
    "                                )\n",
    "    \n",
    "    # creating the 'year_month' as string variable - this is just if we want to save the resulting dataframe for further analysis\n",
    "    df_data_year_month['year_month'] = df_data_year_month['year'].astype(str) + '-' + df_data_year_month['month int'].astype(str).str.zfill(2)\n",
    "    \n",
    "    filename_str = location + '_year_month_from_' + df_data_year_month['year_month'].min() + '_to_' + df_data_year_month['year_month'].max()\n",
    "    if debug:\n",
    "        print(filename_str)\n",
    "    \n",
    "    # finally, creating monthly aggregate\n",
    "\n",
    "    data_monthly_tp = (df_data_year_month\n",
    "                         .groupby('month', observed=True)\n",
    "                         .agg(\n",
    "                             month_sum = ('tp_monthly_sum', 'sum'),\n",
    "                             month_median = ('tp_monthly_sum', 'median'),\n",
    "                             month_avg = ('tp_monthly_sum', 'mean'),\n",
    "                             month_std = ('tp_monthly_sum', 'std'),\n",
    "                             month_min = ('tp_monthly_sum', 'min'),\n",
    "                             month_max = ('tp_monthly_sum', 'max')\n",
    "                             )\n",
    "                             .reset_index()\n",
    "                             )\n",
    "\n",
    "    \n",
    "    return(data_monthly_tp)"
   ]
  },
  {
   "cell_type": "code",
   "execution_count": null,
   "id": "f873fd41",
   "metadata": {},
   "outputs": [],
   "source": [
    "test_apulia = create_monthly_aggregate(location='puglia')\n",
    "test_apulia.head()"
   ]
  },
  {
   "cell_type": "code",
   "execution_count": null,
   "id": "b9c3105b",
   "metadata": {},
   "outputs": [],
   "source": [
    "test_london = create_monthly_aggregate(location='london')\n",
    "test_london.head()"
   ]
  },
  {
   "cell_type": "markdown",
   "id": "acd50be4",
   "metadata": {},
   "source": [
    "## Visualizing monthly aggregate"
   ]
  },
  {
   "cell_type": "markdown",
   "id": "10ed0906",
   "metadata": {},
   "source": [
    "We have two different functions to visualize monthly sum/median/avg with min and max values using matplotlib and plotly for static and dinamyc visualization."
   ]
  },
  {
   "cell_type": "code",
   "execution_count": null,
   "id": "7a4a14ee",
   "metadata": {},
   "outputs": [],
   "source": [
    "import matplotlib.pyplot as plt\n",
    "import numpy as np\n",
    "\n",
    "# Example data\n",
    "def plot_monthly_aggregate_static(df_plot, feature_label = 'Mean', bar_width = 0.35, location = 'London'):\n",
    "    label_dict = {'Mean':'month_avg', 'Median':'month_median', 'Sum':'month_sum', 'Avg' :'month_avg', 'Average':'month_avg'}\n",
    "    feature = label_dict[feature_label]\n",
    "    months = df_plot['month'].values\n",
    "    # agg_precip = df_plot[feature].values\n",
    "    min_precip = df_plot['month_min'].values\n",
    "    max_precip = df_plot['month_max'].values\n",
    "\n",
    "    # Convert months to x-axis positions\n",
    "    x = np.arange(len(months))\n",
    "\n",
    "    # Plot\n",
    "    plt.figure(figsize=(10, 4))\n",
    "    # plt.plot(x, agg_precip, label='Mean Precipitation', color='blue', marker='o')\n",
    "    print(feature)\n",
    "    ax = sns.barplot(data = df_plot, \n",
    "                x = 'month', \n",
    "                y = feature,\n",
    "                width=0.5)\n",
    "\n",
    "    plt.plot(x, max_precip, label='Max Precipitation', color='red', marker='o')\n",
    "    plt.fill_between(x, min_precip, max_precip, color='lightblue', alpha=0.4, label='Min-Max Range')\n",
    "    plt.plot(x, min_precip, label='Min Precipitation', color='green', marker='d')\n",
    "\n",
    "    # Add annotations on top of each bar\n",
    "    for container in ax.containers:\n",
    "        ax.bar_label(container, fmt='%.2f', label_type='edge', padding=3)\n",
    "\n",
    "    # Move legend outside the plot\n",
    "    ax.legend(\n",
    "        title='Aggregate Values',\n",
    "        bbox_to_anchor=(1.05, 1),  # x=1.05 moves it to the right\n",
    "        loc='upper left',          # anchor point of the legend\n",
    "        borderaxespad=0.\n",
    "    )\n",
    "\n",
    "    plt.xticks(x, months)\n",
    "    plt.ylabel(\"Precipitation (mm)\")\n",
    "    plt.title(f\"Monthly {feature_label} Rainfall with Min-Max Range in {location}\")\n",
    "    plt.grid(True)\n",
    "    plt.tight_layout()\n",
    "    plt.show()"
   ]
  },
  {
   "cell_type": "code",
   "execution_count": null,
   "id": "13899d0e",
   "metadata": {},
   "outputs": [],
   "source": [
    "plot_monthly_aggregate_static(test_london, feature_label='Sum')"
   ]
  },
  {
   "cell_type": "code",
   "execution_count": null,
   "id": "3092af7c",
   "metadata": {},
   "outputs": [],
   "source": []
  },
  {
   "cell_type": "code",
   "execution_count": null,
   "id": "bdc73738",
   "metadata": {},
   "outputs": [],
   "source": [
    "k = {'mean':'month_avg', 'median':'month_median', 'sum':'month_sum'}\n",
    "k['mean']"
   ]
  },
  {
   "cell_type": "code",
   "execution_count": null,
   "id": "9725e538",
   "metadata": {},
   "outputs": [],
   "source": []
  },
  {
   "cell_type": "markdown",
   "id": "7b6ed4b2",
   "metadata": {},
   "source": [
    "## Notes: ***How often it rains in London or Apulia region?***\n",
    "\n",
    "I have a question: I want to analyse the number of dry days, i.e. the number of days withour raining. As I have measurements for 12 different points in the grid of London, we want to check if by calculating the mean of precipitation considering the 12 points is different if we consider each point separately. What I mean, if in one particular point only of the grid I measure some rain, how it effects the number of dry days with compare the mean of all 12 points. This is particularly interesting if we are considering a larger area like a region in a country like Apulia. In a larger region, I can end up by considering much less dry day if I consider the mean for all points then finding a way to define dry days for the region. To illustrate better this point, let's assume that in the north part of Apulia region I have a rainy day in the first 182 days and no rain for the rest of the year, and the opposite happens in the south part. If I take the precipitation mean, I will conlcude that there are no dry days in the Apulia region even if in some parts there have been more than 180 days without rain. So, considering the daily mean for each point, does not give you the right idea of how often it rains in Apulia.\n",
    "\n",
    "Let's start with London area and see what data report.\n",
    "\n",
    "First I will consider how many dry days I have for each singular point. And then I will calculate the number of dry days after computing the mean for each day.\n"
   ]
  },
  {
   "cell_type": "code",
   "execution_count": null,
   "id": "c79293e4",
   "metadata": {},
   "outputs": [],
   "source": [
    "london_data_all_points.head()"
   ]
  },
  {
   "cell_type": "code",
   "execution_count": null,
   "id": "d3b4aa23",
   "metadata": {},
   "outputs": [],
   "source": [
    "london_data_all_points['rainy_day'] = np.where(london_data_all_points['tp_mm'] > 0, 1, 0)"
   ]
  },
  {
   "cell_type": "code",
   "execution_count": null,
   "id": "a97221e9",
   "metadata": {},
   "outputs": [],
   "source": [
    "london_rainy_days_points = london_data_all_points.groupby('time')['rainy_day'].sum().reset_index()"
   ]
  },
  {
   "cell_type": "code",
   "execution_count": null,
   "id": "099fe6eb",
   "metadata": {},
   "outputs": [],
   "source": [
    "london_rainy_days_points.head()"
   ]
  },
  {
   "cell_type": "code",
   "execution_count": null,
   "id": "97c59142",
   "metadata": {},
   "outputs": [],
   "source": [
    "(london_rainy_days_points[london_rainy_days_points['rainy_day'] == 0].shape[0] + london_rainy_days_points[london_rainy_days_points['rainy_day'] == 12].shape[0])/london_rainy_days_points.shape[0]"
   ]
  },
  {
   "cell_type": "code",
   "execution_count": null,
   "id": "5c14c354",
   "metadata": {},
   "outputs": [],
   "source": [
    "sns.histplot(\n",
    "    data = london_rainy_days_points,\n",
    "    x = 'rainy_day',\n",
    "    bins = 12\n",
    ");"
   ]
  },
  {
   "cell_type": "markdown",
   "id": "e0f85164",
   "metadata": {},
   "source": [
    "The plot shows that there are few instances where all 12 points in the grid report rain or not. The 90% of the data show that we have measured rain or not in all 12 different points of the grid."
   ]
  },
  {
   "cell_type": "code",
   "execution_count": null,
   "id": "746537ff",
   "metadata": {},
   "outputs": [],
   "source": [
    "apulia_data_all_points['rainy_day'] = np.where(apulia_data_all_points['tp_mm'] > 0, 1, 0)\n",
    "apulia_data_all_points.head()"
   ]
  },
  {
   "cell_type": "code",
   "execution_count": null,
   "id": "4e7ddf7c",
   "metadata": {},
   "outputs": [],
   "source": [
    "apulia_rainy_days_points = apulia_data_all_points.groupby('time')['rainy_day'].sum().reset_index()\n",
    "apulia_rainy_days_points.head()"
   ]
  },
  {
   "cell_type": "code",
   "execution_count": null,
   "id": "60c0fd5a",
   "metadata": {},
   "outputs": [],
   "source": [
    "sns.set_theme(rc={'figure.figsize':(14.,4.)})\n",
    "\n",
    "sns.histplot(\n",
    "    data = apulia_rainy_days_points,\n",
    "    x = 'rainy_day',\n",
    "    bins = 177\n",
    ");"
   ]
  },
  {
   "cell_type": "code",
   "execution_count": null,
   "id": "246e3da1",
   "metadata": {},
   "outputs": [],
   "source": [
    "sns.set_theme(rc={'figure.figsize':(14.,4.)})\n",
    "\n",
    "sns.histplot(\n",
    "    data = apulia_rainy_days_points[apulia_rainy_days_points['rainy_day'] <= 25],\n",
    "    x = 'rainy_day',\n",
    "    bins = 25\n",
    ");"
   ]
  },
  {
   "cell_type": "markdown",
   "id": "5544dce4",
   "metadata": {},
   "source": []
  },
  {
   "cell_type": "code",
   "execution_count": null,
   "id": "9835390d",
   "metadata": {},
   "outputs": [],
   "source": []
  },
  {
   "cell_type": "code",
   "execution_count": null,
   "id": "e45a7d7f",
   "metadata": {},
   "outputs": [],
   "source": [
    "london_daily_data = pd.read_pickle('../streamlit/data/london_tp_daily_data.pkl')\n",
    "london_daily_data.shape"
   ]
  },
  {
   "cell_type": "code",
   "execution_count": null,
   "id": "2946ae81",
   "metadata": {},
   "outputs": [],
   "source": [
    "london_daily_data.head()"
   ]
  },
  {
   "cell_type": "code",
   "execution_count": null,
   "id": "be3610ed",
   "metadata": {},
   "outputs": [],
   "source": [
    "london_daily_data.dtypes"
   ]
  },
  {
   "cell_type": "code",
   "execution_count": null,
   "id": "2681e9f6",
   "metadata": {},
   "outputs": [],
   "source": [
    "(london_daily_data['date'].max() - london_daily_data['date'].min()).days"
   ]
  },
  {
   "cell_type": "code",
   "execution_count": null,
   "id": "8cba2f08",
   "metadata": {},
   "outputs": [],
   "source": [
    "(london_daily_data\n",
    " .groupby('month')\n",
    " .agg(\n",
    "     tp_mm_daily_month_avg = ('tp_mm_daily_sum', 'mean'),\n",
    "     tp_mm_daily_month_min = ('tp_mm_daily_sum', 'min'),\n",
    "     tp_mm_daily_month_max = ('tp_mm_daily_sum', 'max'),\n",
    " )\n",
    " ).reset_index()"
   ]
  },
  {
   "cell_type": "code",
   "execution_count": null,
   "id": "ac2da107",
   "metadata": {},
   "outputs": [],
   "source": [
    "(london_daily_data\n",
    " .groupby(['year', 'month'])\n",
    " .agg(\n",
    "     tp_mm_month_sum = ('tp_mm_daily_sum', 'sum'),\n",
    "     tp_mm_daily_mean = ('tp_mm_daily_sum', 'mean'),\n",
    "     tp_mm_daily_min = ('tp_mm_daily_sum', 'min'),\n",
    "     tp_mm_daily_max = ('tp_mm_daily_sum', 'max'),\n",
    " ).reset_index()\n",
    ")"
   ]
  },
  {
   "cell_type": "code",
   "execution_count": null,
   "id": "f44101ee",
   "metadata": {},
   "outputs": [],
   "source": [
    "year = 1999\n",
    "month = 'Aug'\n",
    "\n",
    "london_daily_data[(london_daily_data['year'] == year) &\n",
    "                  (london_daily_data['month'] == month)][['day', 'tp_mm_daily_sum']]"
   ]
  },
  {
   "cell_type": "code",
   "execution_count": null,
   "id": "b458a949",
   "metadata": {},
   "outputs": [],
   "source": []
  },
  {
   "cell_type": "code",
   "execution_count": null,
   "id": "de9fa50b",
   "metadata": {},
   "outputs": [],
   "source": []
  },
  {
   "cell_type": "code",
   "execution_count": null,
   "id": "d8414d44",
   "metadata": {},
   "outputs": [],
   "source": [
    "year = 2015\n",
    "\n",
    "sns.set_theme(rc={'figure.figsize':(14.,4.)})\n",
    "\n",
    "sns.scatterplot(\n",
    "    data = london_daily_data[london_daily_data['year'] == year],\n",
    "    x = 'date',\n",
    "    y = 'tp_mm_daily_sum'\n",
    ");"
   ]
  },
  {
   "cell_type": "code",
   "execution_count": null,
   "id": "f37603e6",
   "metadata": {},
   "outputs": [],
   "source": [
    "max_tp_per_year = (london_daily_data\n",
    " .groupby('year')\n",
    " .agg(\n",
    "     max_tp = ('tp_mm_daily_sum', 'max')\n",
    "     )\n",
    "     .rename(columns = {'max_tp':'tp_mm_daily_sum'})\n",
    " ).reset_index()\n",
    "\n",
    "\n",
    "max_tp_per_year"
   ]
  },
  {
   "cell_type": "code",
   "execution_count": null,
   "id": "061ec5bc",
   "metadata": {},
   "outputs": [],
   "source": [
    "max_tp_per_year.merge(london_daily_data[['year', 'tp_mm_daily_sum','month']], how = 'left')"
   ]
  },
  {
   "cell_type": "code",
   "execution_count": null,
   "id": "25ccb064",
   "metadata": {},
   "outputs": [],
   "source": [
    "(max_tp_per_year.merge(london_daily_data[['year', 'tp_mm_daily_sum','month']], how = 'left')\n",
    " .groupby('month')['year']\n",
    " .count()\n",
    ").reset_index().sort_values('year', ascending = False)"
   ]
  },
  {
   "cell_type": "code",
   "execution_count": null,
   "id": "d11d9740",
   "metadata": {},
   "outputs": [],
   "source": []
  },
  {
   "cell_type": "code",
   "execution_count": null,
   "id": "f748ec23",
   "metadata": {},
   "outputs": [],
   "source": []
  }
 ],
 "metadata": {
  "kernelspec": {
   "display_name": "base",
   "language": "python",
   "name": "python3"
  },
  "language_info": {
   "codemirror_mode": {
    "name": "ipython",
    "version": 3
   },
   "file_extension": ".py",
   "mimetype": "text/x-python",
   "name": "python",
   "nbconvert_exporter": "python",
   "pygments_lexer": "ipython3",
   "version": "3.12.3"
  }
 },
 "nbformat": 4,
 "nbformat_minor": 5
}
