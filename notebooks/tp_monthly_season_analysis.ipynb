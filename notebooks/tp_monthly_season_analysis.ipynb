{
 "cells": [
  {
   "cell_type": "code",
   "execution_count": 2,
   "id": "7a5c6fa9",
   "metadata": {},
   "outputs": [],
   "source": [
    "import pandas as pd\n",
    "import numpy as np\n",
    "\n",
    "import matplotlib.pyplot as plt\n",
    "import seaborn as sns"
   ]
  },
  {
   "cell_type": "markdown",
   "id": "80743eaf",
   "metadata": {},
   "source": [
    "# Rainfall Monthly and Seasonal Analysis"
   ]
  },
  {
   "cell_type": "markdown",
   "id": "5544dce4",
   "metadata": {},
   "source": [
    "In this notebook we will perform monthly and seasonal total precipitation analysis and exploring:\n",
    "1. how total precipitation is characterised during the different months of the year and how they compare between London area and Apulia\n",
    "2. with respect to season, which are the ones where it rains more and which less\n",
    "3. is there any change in the last 50 years - that's for London area only.\n",
    "\n",
    "As for point 1. and 2., we will compare how it does change between London and Apulia area, while for point 3., we will refer to London are only for the moment"
   ]
  },
  {
   "cell_type": "code",
   "execution_count": 15,
   "id": "e45a7d7f",
   "metadata": {},
   "outputs": [
    {
     "data": {
      "text/plain": [
       "(9665, 18)"
      ]
     },
     "execution_count": 15,
     "metadata": {},
     "output_type": "execute_result"
    }
   ],
   "source": [
    "london_daily_data = pd.read_pickle('../streamlit/data/london_tp_daily_data.pkl')\n",
    "london_daily_data.shape"
   ]
  },
  {
   "cell_type": "code",
   "execution_count": 16,
   "id": "be3610ed",
   "metadata": {},
   "outputs": [
    {
     "data": {
      "text/plain": [
       "date                  datetime64[ns]\n",
       "year                           int32\n",
       "month                         object\n",
       "day                            int32\n",
       "tp_daily_sum                 float64\n",
       "tp_daily_mean                float64\n",
       "tp_daily_std                 float64\n",
       "tp_daily_median              float64\n",
       "tp_daily_max                 float64\n",
       "tp_daily_min                 float64\n",
       "tp_mm_daily_sum              float64\n",
       "tp_mm_daily_mean             float64\n",
       "tp_mm_daily_std              float64\n",
       "tp_mm_daily_median           float64\n",
       "tp_mm_daily_min              float64\n",
       "tp_mm_daily_max              float64\n",
       "month_int                      int32\n",
       "rainy_day                      int64\n",
       "dtype: object"
      ]
     },
     "execution_count": 16,
     "metadata": {},
     "output_type": "execute_result"
    }
   ],
   "source": [
    "london_daily_data.dtypes"
   ]
  },
  {
   "cell_type": "code",
   "execution_count": 17,
   "id": "2681e9f6",
   "metadata": {},
   "outputs": [
    {
     "data": {
      "text/plain": [
       "9664"
      ]
     },
     "execution_count": 17,
     "metadata": {},
     "output_type": "execute_result"
    }
   ],
   "source": [
    "(london_daily_data['date'].max() - london_daily_data['date'].min()).days"
   ]
  },
  {
   "cell_type": "code",
   "execution_count": null,
   "id": "d8414d44",
   "metadata": {},
   "outputs": [],
   "source": [
    ")"
   ]
  }
 ],
 "metadata": {
  "kernelspec": {
   "display_name": "base",
   "language": "python",
   "name": "python3"
  },
  "language_info": {
   "codemirror_mode": {
    "name": "ipython",
    "version": 3
   },
   "file_extension": ".py",
   "mimetype": "text/x-python",
   "name": "python",
   "nbconvert_exporter": "python",
   "pygments_lexer": "ipython3",
   "version": "3.12.3"
  }
 },
 "nbformat": 4,
 "nbformat_minor": 5
}
