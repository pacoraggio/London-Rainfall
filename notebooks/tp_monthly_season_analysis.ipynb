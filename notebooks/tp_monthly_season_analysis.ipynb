{
 "cells": [
  {
   "cell_type": "code",
   "execution_count": 3,
   "id": "7a5c6fa9",
   "metadata": {},
   "outputs": [],
   "source": [
    "import pandas as pd\n",
    "import numpy as np\n",
    "\n",
    "import matplotlib.pyplot as plt\n",
    "import seaborn as sns\n",
    "\n",
    "from src.manage_precipitation_data import create_tp_daily_summary, create_tp_monthly_aggregate, create_list_lat_long"
   ]
  },
  {
   "cell_type": "code",
   "execution_count": 42,
   "id": "172c2d49",
   "metadata": {},
   "outputs": [],
   "source": [
    "from pathlib import Path\n",
    "\n",
    "\n",
    "def create_daily_rainfall_dataframe(file_path = './output', location = 'london', debug = False):\n",
    "    # retrieve all files for location\n",
    "    folder_path = Path('./output')\n",
    "    string_in_filename = location + '_daily'\n",
    "    location_files = [f for f in folder_path.glob('*.parquet') if string_in_filename in f.name]\n",
    "    \n",
    "    # open each files and create a list of dataframe\n",
    "    dfs = []\n",
    "    for file in location_files:\n",
    "        df = pd.read_parquet(file)\n",
    "        dfs.append(df)\n",
    "\n",
    "    # concat list of dataframes\n",
    "    df_all = pd.concat(dfs, axis = 0).sort_values('time_dt').reset_index(drop=True)\n",
    "    if debug:\n",
    "        n_points = len(create_list_lat_long(df_all))\n",
    "        n_days = ((df_all['time_dt'].max() - df_all['time_dt'].min()).days+1)\n",
    "        print(f\"number of expected rows = {n_points*n_days}, number of returned rows = {df_all.shape[0]}\")\n",
    "    return(df_all)\n",
    "\n",
    "def transform_data_datetime(df):\n",
    "    df = df.copy()\n",
    "    df['year'] = df['time_dt'].dt.year\n",
    "    df['month int'] = df['time_dt'].dt.month\n",
    "    df['month'] = df['time_dt'].dt.strftime('%b')\n",
    "    df['month'] = pd.Categorical(df['month'], categories=['Jan', 'Feb', 'Mar', 'Apr', 'May', 'Jun',\n",
    "                                                          'Jul', 'Aug', 'Sep', 'Oct', 'Nov', 'Dec'], ordered=True)\n",
    "\n",
    "    df['day'] = df['time_dt'].dt.day\n",
    "\n",
    "\n",
    "    return df\n",
    "\n",
    "def get_monthly_stats(df_year_month):\n",
    "    # Group by month_int (or month if you prefer month names)\n",
    "    grouped = df_year_month.groupby('month int', observed=True)\n",
    "    \n",
    "    # Calculate basic statistics\n",
    "    stats = grouped['tp_monthly_sum'].agg([\n",
    "        'sum', 'median', 'mean', 'std', 'min', 'max'\n",
    "    ]).round(2)\n",
    "    \n",
    "    # Find years when min and max occurred\n",
    "    min_years = grouped.apply(lambda x: x.loc[x['tp_monthly_sum'].idxmin(), 'year'], include_groups=False)\n",
    "    max_years = grouped.apply(lambda x: x.loc[x['tp_monthly_sum'].idxmax(), 'year'], include_groups=False)\n",
    "    \n",
    "    # Combine everything into final dataframe\n",
    "    result = stats.copy()\n",
    "    result['min_year'] = min_years\n",
    "    result['max_year'] = max_years\n",
    "    \n",
    "    # Add month names for readability (optional)\n",
    "    month_names = df_year_month.groupby('month int', observed = True)['month'].first()\n",
    "    result['month_name'] = month_names\n",
    "    \n",
    "    # Reorder columns for better readability\n",
    "    result = result[['month_name', 'sum', 'median', 'mean', 'std', 'min', 'max', 'min_year', 'max_year']]\n",
    "    \n",
    "    return result.reset_index(drop = True).rename(columns = {'month_name': 'month',\n",
    "                                                             'sum': 'month_sum',\n",
    "                                                           'median': 'month_median',\n",
    "                                                           'mean': 'month_avg',\n",
    "                                                           'std': 'month_std',\n",
    "                                                           'min': 'month_min',\n",
    "                                                           'max': 'month_max'})\n",
    "\n",
    "\n",
    "def thresholding_and_rounding(series, threshold = 0.1):\n",
    "    s1 = series.copy()\n",
    "    s1[s1 < threshold] = 0\n",
    "    return(np.round(s1,1))\n",
    "\n",
    "def create_monthly_aggregate(location = 'london', remove_date_list = ['2009-12-31'], debug = False, save_parquet = True):\n",
    "    '''\n",
    "    Create function signature    \n",
    "    '''\n",
    "\n",
    "    # first, create daily total precipitation for all points in the grid\n",
    "    # in the area defined by location. This data is contained in pickle files \n",
    "    # from a specific folder. The function concat all yearly files created in\n",
    "    # previous steps\n",
    "    df_data = create_daily_rainfall_dataframe(location=location, debug=debug)\n",
    "    if debug:\n",
    "        print(df_data[df_data['time'] == df_data['time'].min()])\n",
    "    # removing data contained in remove_date_list\n",
    "    df_data = df_data[~df_data['time'].isin(remove_date_list)].reset_index(drop=True).copy()\n",
    "\n",
    "    # creating time_dt column to process the mean\n",
    "    df_data = transform_data_datetime(df_data)\n",
    "\n",
    "    # Averaging measurements for all points in the grid\n",
    "    df_data_mean = (df_data\n",
    "                        .groupby('time_dt')['tp_mm']\n",
    "                        .mean()\n",
    "                        ).reset_index()\n",
    "\n",
    "    # creating year, month, day colums\n",
    "    df_data_mean = transform_data_datetime(df_data_mean)\n",
    "    # thresholding and rounding tp_mm values\n",
    "    df_data_mean['tp_mm'] = thresholding_and_rounding(df_data_mean['tp_mm'])\n",
    "    # creating year-month aggregate - to decide if saving the result as a parquet file for further analysis on time/monthly series\n",
    "    # At this stage, we are just using the monthly sum\n",
    "    df_data_year_month = (df_data_mean\n",
    "                            .groupby(['year', 'month int'])\n",
    "                            .agg(\n",
    "                                month = ('month', 'first'),\n",
    "                                tp_monthly_sum = ('tp_mm', 'sum'),\n",
    "                                tp_daily_median = ('tp_mm', 'median'),\n",
    "                                tp_daily_avg = ('tp_mm', 'mean'),\n",
    "                                tp_daily_std = ('tp_mm', 'std'),\n",
    "                                tp_daily_min = ('tp_mm', 'min'),\n",
    "                                tp_daily_max = ('tp_mm', 'max')\n",
    "                                ).reset_index()\n",
    "                                )\n",
    "    \n",
    "    # creating the 'year_month' as string variable - this is just if we want to save the resulting dataframe for further analysis\n",
    "    df_data_year_month['year_month'] = df_data_year_month['year'].astype(str) + '-' + df_data_year_month['month int'].astype(str).str.zfill(2)\n",
    "    \n",
    "    filename_str = location + '_year_month_from_' + df_data_year_month['year_month'].min() + '_to_' + df_data_year_month['year_month'].max()\n",
    "    if debug:\n",
    "        print(filename_str)\n",
    "    \n",
    "    \n",
    "    # finally, creating monthly aggregate\n",
    "\n",
    "    data_monthly_tp = get_monthly_stats(df_data_year_month)\n",
    "                        #  .groupby('month', observed=True)\n",
    "                        #  .agg(\n",
    "                        #      month_sum = ('tp_monthly_sum', 'sum'),\n",
    "                        #      month_median = ('tp_monthly_sum', 'median'),\n",
    "                        #      month_avg = ('tp_monthly_sum', 'mean'),\n",
    "                        #      month_std = ('tp_monthly_sum', 'std'),\n",
    "                        #      month_min = ('tp_monthly_sum', 'min'),\n",
    "                        #      month_max = ('tp_monthly_sum', 'max')\n",
    "                        #      )\n",
    "                        #      .reset_index()\n",
    "                        #      )\n",
    "    \n",
    "#    data_monthly_tp[['month_median', 'month_avg','month_std']] = np.round(data_monthly_tp[['month_median', 'month_avg','month_std']],1)    \n",
    "\n",
    "    if save_parquet:\n",
    "        df_data_year_month.to_parquet(f'../streamlit/data/{filename_str}.parquet', index=False)\n",
    "        data_monthly_tp.to_parquet(f'../streamlit/data/{location}_monthly_aggregate.parquet', index=False)\n",
    "\n",
    "    return(df_data_year_month, data_monthly_tp)\n",
    "\n",
    "import matplotlib.pyplot as plt\n",
    "import numpy as np\n",
    "\n",
    "# Example data\n",
    "def plot_monthly_aggregate_static(df_plot, feature_label = 'Mean', bar_width = 0.35, location = 'London'):\n",
    "    label_dict = {'Mean':'month_avg', 'Median':'month_median', 'Sum':'month_sum', 'Avg' :'month_avg', 'Average':'month_avg'}\n",
    "    feature = label_dict[feature_label]\n",
    "    months = df_plot['month'].values\n",
    "    # agg_precip = df_plot[feature].values\n",
    "    min_precip = df_plot['month_min'].values\n",
    "    max_precip = df_plot['month_max'].values\n",
    "\n",
    "    # Convert months to x-axis positions\n",
    "    x = np.arange(len(months))\n",
    "\n",
    "    # Plot\n",
    "    plt.figure(figsize=(10, 4))\n",
    "    # plt.plot(x, agg_precip, label='Mean Precipitation', color='blue', marker='o')\n",
    "    print(feature)\n",
    "    ax = sns.barplot(data = df_plot, \n",
    "                x = 'month', \n",
    "                y = feature,\n",
    "                width=0.5)\n",
    "\n",
    "    plt.plot(x, max_precip, label='Max Precipitation', color='red', marker='o')\n",
    "    plt.fill_between(x, min_precip, max_precip, color='lightblue', alpha=0.4, label='Min-Max Range')\n",
    "    plt.plot(x, min_precip, label='Min Precipitation', color='green', marker='d')\n",
    "\n",
    "    # Add annotations on top of each bar\n",
    "    for container in ax.containers:\n",
    "        ax.bar_label(container, fmt='%.2f', label_type='edge', padding=3)\n",
    "\n",
    "    # Move legend outside the plot\n",
    "    ax.legend(\n",
    "        title='Aggregate Values',\n",
    "        bbox_to_anchor=(1.05, 1),  # x=1.05 moves it to the right\n",
    "        loc='upper left',          # anchor point of the legend\n",
    "        borderaxespad=0.\n",
    "    )\n",
    "\n",
    "    plt.xticks(x, months)\n",
    "    plt.ylabel(\"Precipitation (mm)\")\n",
    "    plt.title(f\"Monthly {feature_label} Rainfall with Min-Max Range in {location}\")\n",
    "    plt.grid(True)\n",
    "    plt.tight_layout()\n",
    "    plt.show()"
   ]
  },
  {
   "cell_type": "code",
   "execution_count": 64,
   "id": "a16da8c6",
   "metadata": {},
   "outputs": [],
   "source": [
    "import plotly.graph_objects as go\n",
    "from plotly.subplots import make_subplots\n",
    "\n",
    "def plot_monthly_aggregate_overlaid(df1, df2,\n",
    "                                    label1='Dataset 1',\n",
    "                                    label2='Dataset 2',\n",
    "                                    feature_label='Mean',\n",
    "                                    bar_width=0.35,\n",
    "                                    location='Comparison',\n",
    "                                    fig_width=1000,\n",
    "                                    fig_height=500,\n",
    "                                    dark_mode=False,\n",
    "                                    show_title = True):\n",
    "    fig = go.Figure()\n",
    "\n",
    "    label_dict = {'Mean': 'month_avg', 'Median': 'month_median',\n",
    "                  'Sum': 'month_sum', 'Avg': 'month_avg', 'Average': 'month_avg'}\n",
    "    feature = label_dict[feature_label]\n",
    "\n",
    "    months = ['Jan', 'Feb', 'Mar', 'Apr', 'May', 'Jun',\n",
    "              'Jul', 'Aug', 'Sep', 'Oct', 'Nov', 'Dec']\n",
    "\n",
    "    # Colorblind-safe palette\n",
    "    bar_color1 = '#0072B2'; min_color1 = '#D55E00'; max_color1 = '#009E73'\n",
    "    bar_color2 = '#E69F00'; min_color2 = '#56B4E9'; max_color2 = '#CC79A7'\n",
    "    fill_color1 = 'rgba(100, 100, 100, 0.1)'\n",
    "    fill_color2 = 'rgba(150, 150, 150, 0.1)'\n",
    "    grid_color = 'gray' if dark_mode else 'lightgray'\n",
    "    text_color = 'white' if dark_mode else 'black'\n",
    "\n",
    "    # Dataset 1 values\n",
    "    mean1 = df1[feature].values\n",
    "    min1 = df1['month_min'].values\n",
    "    max1 = df1['month_max'].values\n",
    "\n",
    "    # Dataset 2 values\n",
    "    mean2 = df2[feature].values\n",
    "    min2 = df2['month_min'].values\n",
    "    max2 = df2['month_max'].values\n",
    "\n",
    "    # --- Fill Areas (Optional) ---\n",
    "    fig.add_trace(go.Scatter(\n",
    "        x=months + months[::-1],\n",
    "        y=list(max1) + list(min1[::-1]),\n",
    "        fill='toself',\n",
    "        fillcolor=fill_color1,\n",
    "        line=dict(color='rgba(0,0,0,0)'),\n",
    "        hoverinfo='skip',\n",
    "        showlegend=True,\n",
    "        name=f'{label1} Min-Max Range'\n",
    "    ))\n",
    "\n",
    "    fig.add_trace(go.Scatter(\n",
    "        x=months + months[::-1],\n",
    "        y=list(max2) + list(min2[::-1]),\n",
    "        fill='toself',\n",
    "        fillcolor=fill_color2,\n",
    "        line=dict(color='rgba(0,0,0,0)'),\n",
    "        hoverinfo='skip',\n",
    "        showlegend=True,\n",
    "        name=f'{label2} Min-Max Range'\n",
    "    ))\n",
    "\n",
    "    # --- Bars for Dataset 1 ---\n",
    "    fig.add_trace(go.Bar(\n",
    "        x=months,\n",
    "        y=mean1,\n",
    "        name=f'{label1} {feature_label}',\n",
    "        marker=dict(color=bar_color1),\n",
    "        width=bar_width,\n",
    "        offsetgroup=0,\n",
    "        hovertemplate=f'{label1} {feature_label}: %{{y:.1f}}<extra></extra>'\n",
    "    ))\n",
    "\n",
    "    # --- Bars for Dataset 2 ---\n",
    "    fig.add_trace(go.Bar(\n",
    "        x=months,\n",
    "        y=mean2,\n",
    "        name=f'{label2} {feature_label}',\n",
    "        marker=dict(color=bar_color2),\n",
    "        width=bar_width,\n",
    "        offsetgroup=1,\n",
    "        hovertemplate=f'{label2} {feature_label}: %{{y:.1f}}<extra></extra>'\n",
    "    ))\n",
    "\n",
    "    # --- Min/Max lines for Dataset 1 ---\n",
    "    fig.add_trace(go.Scatter(\n",
    "        x=months,\n",
    "        y=min1,\n",
    "        mode='lines+markers',\n",
    "        name=f'{label1} Min',\n",
    "        line=dict(color=min_color1, width=2, dash='dot'),\n",
    "        marker=dict(symbol='circle', size=7, color=min_color1),\n",
    "        hovertemplate=f'{label1} Min: %{{y:.1f}}<extra></extra>'\n",
    "    ))\n",
    "\n",
    "    fig.add_trace(go.Scatter(\n",
    "        x=months,\n",
    "        y=max1,\n",
    "        mode='lines+markers',\n",
    "        name=f'{label1} Max',\n",
    "        line=dict(color=max_color1, width=2),\n",
    "        marker=dict(symbol='diamond', size=8, color=max_color1),\n",
    "        hovertemplate=f'{label1} Max: %{{y:.1f}}<extra></extra>'\n",
    "    ))\n",
    "\n",
    "    # --- Min/Max lines for Dataset 2 ---\n",
    "    fig.add_trace(go.Scatter(\n",
    "        x=months,\n",
    "        y=min2,\n",
    "        mode='lines+markers',\n",
    "        name=f'{label2} Min',\n",
    "        line=dict(color=min_color2, width=2, dash='dot'),\n",
    "        marker=dict(symbol='circle', size=7, color=min_color2),\n",
    "        hovertemplate=f'{label2} Min: %{{y:.1f}}<extra></extra>'\n",
    "    ))\n",
    "\n",
    "    fig.add_trace(go.Scatter(\n",
    "        x=months,\n",
    "        y=max2,\n",
    "        mode='lines+markers',\n",
    "        name=f'{label2} Max',\n",
    "        line=dict(color=max_color2, width=2),\n",
    "        marker=dict(symbol='diamond', size=8, color=max_color2),\n",
    "        hovertemplate=f'{label2} Max: %{{y:.1f}}<extra></extra>'\n",
    "    ))\n",
    "\n",
    "    # --- Layout ---\n",
    "    layout_params = {\n",
    "    'xaxis_title': 'Month',\n",
    "    'yaxis_title': 'Precipitation (mm)',\n",
    "    'template': 'plotly_dark' if dark_mode else 'plotly_white',\n",
    "    'hovermode': 'x unified',\n",
    "    'barmode': 'group',\n",
    "    'width': fig_width,\n",
    "    'height': fig_height,\n",
    "    'font': dict(color=text_color),\n",
    "    'xaxis': dict(\n",
    "        showgrid=True,\n",
    "        gridcolor=grid_color,\n",
    "    ),\n",
    "    'yaxis': dict(\n",
    "        showgrid=True,\n",
    "        gridcolor=grid_color,\n",
    "    ),\n",
    "    'legend': dict(\n",
    "        bgcolor='rgba(0,0,0,0)' if dark_mode else 'rgba(255,255,255,0)',\n",
    "        borderwidth=0\n",
    "    )\n",
    "}\n",
    "\n",
    "    if show_title:\n",
    "        layout_params['title'] = f\"{feature_label} Monthly Rainfall Comparison in {location}\"\n",
    "    else:\n",
    "        layout_params['title'] = \"\"\n",
    "        layout_params['margin'] = dict(t=60)  # Reduce top margin when no title\n",
    "\n",
    "    fig.update_layout(**layout_params)\n",
    "\n",
    "    return fig"
   ]
  },
  {
   "cell_type": "code",
   "execution_count": 66,
   "id": "b6667436",
   "metadata": {},
   "outputs": [],
   "source": [
    "metric = 'Mean'\n",
    "\n",
    "fig = plot_monthly_aggregate_overlaid(london_monthly_aggregate, apulia_monthly_aggregate,\n",
    "                            label1='London',\n",
    "                            label2='Apulia',\n",
    "                            feature_label=metric,\n",
    "                            bar_width=0.35,\n",
    "                            location='Comparison',\n",
    "                            fig_width=900,\n",
    "                            fig_height=500,\n",
    "                            dark_mode=True,\n",
    "                            show_title=False)"
   ]
  },
  {
   "cell_type": "code",
   "execution_count": 67,
   "id": "2b3a299c",
   "metadata": {},
   "outputs": [
    {
     "data": {
      "application/vnd.plotly.v1+json": {
       "config": {
        "plotlyServerURL": "https://plot.ly"
       },
       "data": [
        {
         "fill": "toself",
         "fillcolor": "rgba(100, 100, 100, 0.1)",
         "hoverinfo": "skip",
         "line": {
          "color": "rgba(0,0,0,0)"
         },
         "name": "London Min-Max Range",
         "showlegend": true,
         "type": "scatter",
         "x": [
          "Jan",
          "Feb",
          "Mar",
          "Apr",
          "May",
          "Jun",
          "Jul",
          "Aug",
          "Sep",
          "Oct",
          "Nov",
          "Dec",
          "Dec",
          "Nov",
          "Oct",
          "Sep",
          "Aug",
          "Jul",
          "Jun",
          "May",
          "Apr",
          "Mar",
          "Feb",
          "Jan"
         ],
         "y": [
          114.4,
          116.1,
          114.9,
          119.2,
          110.7,
          136.8,
          116.5,
          125.4,
          132.4,
          143.3,
          119.4,
          109.7,
          10.1,
          13.3,
          22.3,
          15.4,
          17,
          16.3,
          8.6,
          6.3,
          5.2,
          12.1,
          9.7,
          17.9
         ]
        },
        {
         "fill": "toself",
         "fillcolor": "rgba(150, 150, 150, 0.1)",
         "hoverinfo": "skip",
         "line": {
          "color": "rgba(0,0,0,0)"
         },
         "name": "Apulia Min-Max Range",
         "showlegend": true,
         "type": "scatter",
         "x": [
          "Jan",
          "Feb",
          "Mar",
          "Apr",
          "May",
          "Jun",
          "Jul",
          "Aug",
          "Sep",
          "Oct",
          "Nov",
          "Dec",
          "Dec",
          "Nov",
          "Oct",
          "Sep",
          "Aug",
          "Jul",
          "Jun",
          "May",
          "Apr",
          "Mar",
          "Feb",
          "Jan"
         ],
         "y": [
          165.5,
          126.8,
          125.9,
          116.8,
          122.5,
          80.9,
          78,
          71.8,
          141.9,
          162.8,
          150.9,
          152.5,
          3.1,
          18.8,
          20.4,
          11.4,
          2,
          2.5,
          0.7,
          11.8,
          16.5,
          18.2,
          11.8,
          9.7
         ]
        },
        {
         "hovertemplate": "London Mean: %{y:.1f}<extra></extra>",
         "marker": {
          "color": "#0072B2"
         },
         "name": "London Mean",
         "offsetgroup": "0",
         "type": "bar",
         "width": 0.35,
         "x": [
          "Jan",
          "Feb",
          "Mar",
          "Apr",
          "May",
          "Jun",
          "Jul",
          "Aug",
          "Sep",
          "Oct",
          "Nov",
          "Dec"
         ],
         "y": [
          59.5,
          54.13,
          50.17,
          49.61,
          61.34,
          61.05,
          67.76,
          67.27,
          48.56,
          69.24,
          67.97,
          61.02
         ]
        },
        {
         "hovertemplate": "Apulia Mean: %{y:.1f}<extra></extra>",
         "marker": {
          "color": "#E69F00"
         },
         "name": "Apulia Mean",
         "offsetgroup": "1",
         "type": "bar",
         "width": 0.35,
         "x": [
          "Jan",
          "Feb",
          "Mar",
          "Apr",
          "May",
          "Jun",
          "Jul",
          "Aug",
          "Sep",
          "Oct",
          "Nov",
          "Dec"
         ],
         "y": [
          62.33,
          56.82,
          65.03,
          57.5,
          46.51,
          33.24,
          21.08,
          22.84,
          58.21,
          67.32,
          78.34,
          67.21
         ]
        },
        {
         "hovertemplate": "London Min: %{y:.1f}<extra></extra>",
         "line": {
          "color": "#D55E00",
          "dash": "dot",
          "width": 2
         },
         "marker": {
          "color": "#D55E00",
          "size": 7,
          "symbol": "circle"
         },
         "mode": "lines+markers",
         "name": "London Min",
         "type": "scatter",
         "x": [
          "Jan",
          "Feb",
          "Mar",
          "Apr",
          "May",
          "Jun",
          "Jul",
          "Aug",
          "Sep",
          "Oct",
          "Nov",
          "Dec"
         ],
         "y": [
          17.9,
          9.7,
          12.1,
          5.2,
          6.3,
          8.6,
          16.3,
          17,
          15.4,
          22.3,
          13.3,
          10.1
         ]
        },
        {
         "hovertemplate": "London Max: %{y:.1f}<extra></extra>",
         "line": {
          "color": "#009E73",
          "width": 2
         },
         "marker": {
          "color": "#009E73",
          "size": 8,
          "symbol": "diamond"
         },
         "mode": "lines+markers",
         "name": "London Max",
         "type": "scatter",
         "x": [
          "Jan",
          "Feb",
          "Mar",
          "Apr",
          "May",
          "Jun",
          "Jul",
          "Aug",
          "Sep",
          "Oct",
          "Nov",
          "Dec"
         ],
         "y": [
          114.4,
          116.1,
          114.9,
          119.2,
          110.7,
          136.8,
          116.5,
          125.4,
          132.4,
          143.3,
          119.4,
          109.7
         ]
        },
        {
         "hovertemplate": "Apulia Min: %{y:.1f}<extra></extra>",
         "line": {
          "color": "#56B4E9",
          "dash": "dot",
          "width": 2
         },
         "marker": {
          "color": "#56B4E9",
          "size": 7,
          "symbol": "circle"
         },
         "mode": "lines+markers",
         "name": "Apulia Min",
         "type": "scatter",
         "x": [
          "Jan",
          "Feb",
          "Mar",
          "Apr",
          "May",
          "Jun",
          "Jul",
          "Aug",
          "Sep",
          "Oct",
          "Nov",
          "Dec"
         ],
         "y": [
          9.7,
          11.8,
          18.2,
          16.5,
          11.8,
          0.7,
          2.5,
          2,
          11.4,
          20.4,
          18.8,
          3.1
         ]
        },
        {
         "hovertemplate": "Apulia Max: %{y:.1f}<extra></extra>",
         "line": {
          "color": "#CC79A7",
          "width": 2
         },
         "marker": {
          "color": "#CC79A7",
          "size": 8,
          "symbol": "diamond"
         },
         "mode": "lines+markers",
         "name": "Apulia Max",
         "type": "scatter",
         "x": [
          "Jan",
          "Feb",
          "Mar",
          "Apr",
          "May",
          "Jun",
          "Jul",
          "Aug",
          "Sep",
          "Oct",
          "Nov",
          "Dec"
         ],
         "y": [
          165.5,
          126.8,
          125.9,
          116.8,
          122.5,
          80.9,
          78,
          71.8,
          141.9,
          162.8,
          150.9,
          152.5
         ]
        }
       ],
       "layout": {
        "barmode": "group",
        "font": {
         "color": "white"
        },
        "height": 500,
        "hovermode": "x unified",
        "legend": {
         "bgcolor": "rgba(0,0,0,0)",
         "borderwidth": 0
        },
        "margin": {
         "t": 60
        },
        "template": {
         "data": {
          "bar": [
           {
            "error_x": {
             "color": "#f2f5fa"
            },
            "error_y": {
             "color": "#f2f5fa"
            },
            "marker": {
             "line": {
              "color": "rgb(17,17,17)",
              "width": 0.5
             },
             "pattern": {
              "fillmode": "overlay",
              "size": 10,
              "solidity": 0.2
             }
            },
            "type": "bar"
           }
          ],
          "barpolar": [
           {
            "marker": {
             "line": {
              "color": "rgb(17,17,17)",
              "width": 0.5
             },
             "pattern": {
              "fillmode": "overlay",
              "size": 10,
              "solidity": 0.2
             }
            },
            "type": "barpolar"
           }
          ],
          "carpet": [
           {
            "aaxis": {
             "endlinecolor": "#A2B1C6",
             "gridcolor": "#506784",
             "linecolor": "#506784",
             "minorgridcolor": "#506784",
             "startlinecolor": "#A2B1C6"
            },
            "baxis": {
             "endlinecolor": "#A2B1C6",
             "gridcolor": "#506784",
             "linecolor": "#506784",
             "minorgridcolor": "#506784",
             "startlinecolor": "#A2B1C6"
            },
            "type": "carpet"
           }
          ],
          "choropleth": [
           {
            "colorbar": {
             "outlinewidth": 0,
             "ticks": ""
            },
            "type": "choropleth"
           }
          ],
          "contour": [
           {
            "colorbar": {
             "outlinewidth": 0,
             "ticks": ""
            },
            "colorscale": [
             [
              0,
              "#0d0887"
             ],
             [
              0.1111111111111111,
              "#46039f"
             ],
             [
              0.2222222222222222,
              "#7201a8"
             ],
             [
              0.3333333333333333,
              "#9c179e"
             ],
             [
              0.4444444444444444,
              "#bd3786"
             ],
             [
              0.5555555555555556,
              "#d8576b"
             ],
             [
              0.6666666666666666,
              "#ed7953"
             ],
             [
              0.7777777777777778,
              "#fb9f3a"
             ],
             [
              0.8888888888888888,
              "#fdca26"
             ],
             [
              1,
              "#f0f921"
             ]
            ],
            "type": "contour"
           }
          ],
          "contourcarpet": [
           {
            "colorbar": {
             "outlinewidth": 0,
             "ticks": ""
            },
            "type": "contourcarpet"
           }
          ],
          "heatmap": [
           {
            "colorbar": {
             "outlinewidth": 0,
             "ticks": ""
            },
            "colorscale": [
             [
              0,
              "#0d0887"
             ],
             [
              0.1111111111111111,
              "#46039f"
             ],
             [
              0.2222222222222222,
              "#7201a8"
             ],
             [
              0.3333333333333333,
              "#9c179e"
             ],
             [
              0.4444444444444444,
              "#bd3786"
             ],
             [
              0.5555555555555556,
              "#d8576b"
             ],
             [
              0.6666666666666666,
              "#ed7953"
             ],
             [
              0.7777777777777778,
              "#fb9f3a"
             ],
             [
              0.8888888888888888,
              "#fdca26"
             ],
             [
              1,
              "#f0f921"
             ]
            ],
            "type": "heatmap"
           }
          ],
          "heatmapgl": [
           {
            "colorbar": {
             "outlinewidth": 0,
             "ticks": ""
            },
            "colorscale": [
             [
              0,
              "#0d0887"
             ],
             [
              0.1111111111111111,
              "#46039f"
             ],
             [
              0.2222222222222222,
              "#7201a8"
             ],
             [
              0.3333333333333333,
              "#9c179e"
             ],
             [
              0.4444444444444444,
              "#bd3786"
             ],
             [
              0.5555555555555556,
              "#d8576b"
             ],
             [
              0.6666666666666666,
              "#ed7953"
             ],
             [
              0.7777777777777778,
              "#fb9f3a"
             ],
             [
              0.8888888888888888,
              "#fdca26"
             ],
             [
              1,
              "#f0f921"
             ]
            ],
            "type": "heatmapgl"
           }
          ],
          "histogram": [
           {
            "marker": {
             "pattern": {
              "fillmode": "overlay",
              "size": 10,
              "solidity": 0.2
             }
            },
            "type": "histogram"
           }
          ],
          "histogram2d": [
           {
            "colorbar": {
             "outlinewidth": 0,
             "ticks": ""
            },
            "colorscale": [
             [
              0,
              "#0d0887"
             ],
             [
              0.1111111111111111,
              "#46039f"
             ],
             [
              0.2222222222222222,
              "#7201a8"
             ],
             [
              0.3333333333333333,
              "#9c179e"
             ],
             [
              0.4444444444444444,
              "#bd3786"
             ],
             [
              0.5555555555555556,
              "#d8576b"
             ],
             [
              0.6666666666666666,
              "#ed7953"
             ],
             [
              0.7777777777777778,
              "#fb9f3a"
             ],
             [
              0.8888888888888888,
              "#fdca26"
             ],
             [
              1,
              "#f0f921"
             ]
            ],
            "type": "histogram2d"
           }
          ],
          "histogram2dcontour": [
           {
            "colorbar": {
             "outlinewidth": 0,
             "ticks": ""
            },
            "colorscale": [
             [
              0,
              "#0d0887"
             ],
             [
              0.1111111111111111,
              "#46039f"
             ],
             [
              0.2222222222222222,
              "#7201a8"
             ],
             [
              0.3333333333333333,
              "#9c179e"
             ],
             [
              0.4444444444444444,
              "#bd3786"
             ],
             [
              0.5555555555555556,
              "#d8576b"
             ],
             [
              0.6666666666666666,
              "#ed7953"
             ],
             [
              0.7777777777777778,
              "#fb9f3a"
             ],
             [
              0.8888888888888888,
              "#fdca26"
             ],
             [
              1,
              "#f0f921"
             ]
            ],
            "type": "histogram2dcontour"
           }
          ],
          "mesh3d": [
           {
            "colorbar": {
             "outlinewidth": 0,
             "ticks": ""
            },
            "type": "mesh3d"
           }
          ],
          "parcoords": [
           {
            "line": {
             "colorbar": {
              "outlinewidth": 0,
              "ticks": ""
             }
            },
            "type": "parcoords"
           }
          ],
          "pie": [
           {
            "automargin": true,
            "type": "pie"
           }
          ],
          "scatter": [
           {
            "marker": {
             "line": {
              "color": "#283442"
             }
            },
            "type": "scatter"
           }
          ],
          "scatter3d": [
           {
            "line": {
             "colorbar": {
              "outlinewidth": 0,
              "ticks": ""
             }
            },
            "marker": {
             "colorbar": {
              "outlinewidth": 0,
              "ticks": ""
             }
            },
            "type": "scatter3d"
           }
          ],
          "scattercarpet": [
           {
            "marker": {
             "colorbar": {
              "outlinewidth": 0,
              "ticks": ""
             }
            },
            "type": "scattercarpet"
           }
          ],
          "scattergeo": [
           {
            "marker": {
             "colorbar": {
              "outlinewidth": 0,
              "ticks": ""
             }
            },
            "type": "scattergeo"
           }
          ],
          "scattergl": [
           {
            "marker": {
             "line": {
              "color": "#283442"
             }
            },
            "type": "scattergl"
           }
          ],
          "scattermapbox": [
           {
            "marker": {
             "colorbar": {
              "outlinewidth": 0,
              "ticks": ""
             }
            },
            "type": "scattermapbox"
           }
          ],
          "scatterpolar": [
           {
            "marker": {
             "colorbar": {
              "outlinewidth": 0,
              "ticks": ""
             }
            },
            "type": "scatterpolar"
           }
          ],
          "scatterpolargl": [
           {
            "marker": {
             "colorbar": {
              "outlinewidth": 0,
              "ticks": ""
             }
            },
            "type": "scatterpolargl"
           }
          ],
          "scatterternary": [
           {
            "marker": {
             "colorbar": {
              "outlinewidth": 0,
              "ticks": ""
             }
            },
            "type": "scatterternary"
           }
          ],
          "surface": [
           {
            "colorbar": {
             "outlinewidth": 0,
             "ticks": ""
            },
            "colorscale": [
             [
              0,
              "#0d0887"
             ],
             [
              0.1111111111111111,
              "#46039f"
             ],
             [
              0.2222222222222222,
              "#7201a8"
             ],
             [
              0.3333333333333333,
              "#9c179e"
             ],
             [
              0.4444444444444444,
              "#bd3786"
             ],
             [
              0.5555555555555556,
              "#d8576b"
             ],
             [
              0.6666666666666666,
              "#ed7953"
             ],
             [
              0.7777777777777778,
              "#fb9f3a"
             ],
             [
              0.8888888888888888,
              "#fdca26"
             ],
             [
              1,
              "#f0f921"
             ]
            ],
            "type": "surface"
           }
          ],
          "table": [
           {
            "cells": {
             "fill": {
              "color": "#506784"
             },
             "line": {
              "color": "rgb(17,17,17)"
             }
            },
            "header": {
             "fill": {
              "color": "#2a3f5f"
             },
             "line": {
              "color": "rgb(17,17,17)"
             }
            },
            "type": "table"
           }
          ]
         },
         "layout": {
          "annotationdefaults": {
           "arrowcolor": "#f2f5fa",
           "arrowhead": 0,
           "arrowwidth": 1
          },
          "autotypenumbers": "strict",
          "coloraxis": {
           "colorbar": {
            "outlinewidth": 0,
            "ticks": ""
           }
          },
          "colorscale": {
           "diverging": [
            [
             0,
             "#8e0152"
            ],
            [
             0.1,
             "#c51b7d"
            ],
            [
             0.2,
             "#de77ae"
            ],
            [
             0.3,
             "#f1b6da"
            ],
            [
             0.4,
             "#fde0ef"
            ],
            [
             0.5,
             "#f7f7f7"
            ],
            [
             0.6,
             "#e6f5d0"
            ],
            [
             0.7,
             "#b8e186"
            ],
            [
             0.8,
             "#7fbc41"
            ],
            [
             0.9,
             "#4d9221"
            ],
            [
             1,
             "#276419"
            ]
           ],
           "sequential": [
            [
             0,
             "#0d0887"
            ],
            [
             0.1111111111111111,
             "#46039f"
            ],
            [
             0.2222222222222222,
             "#7201a8"
            ],
            [
             0.3333333333333333,
             "#9c179e"
            ],
            [
             0.4444444444444444,
             "#bd3786"
            ],
            [
             0.5555555555555556,
             "#d8576b"
            ],
            [
             0.6666666666666666,
             "#ed7953"
            ],
            [
             0.7777777777777778,
             "#fb9f3a"
            ],
            [
             0.8888888888888888,
             "#fdca26"
            ],
            [
             1,
             "#f0f921"
            ]
           ],
           "sequentialminus": [
            [
             0,
             "#0d0887"
            ],
            [
             0.1111111111111111,
             "#46039f"
            ],
            [
             0.2222222222222222,
             "#7201a8"
            ],
            [
             0.3333333333333333,
             "#9c179e"
            ],
            [
             0.4444444444444444,
             "#bd3786"
            ],
            [
             0.5555555555555556,
             "#d8576b"
            ],
            [
             0.6666666666666666,
             "#ed7953"
            ],
            [
             0.7777777777777778,
             "#fb9f3a"
            ],
            [
             0.8888888888888888,
             "#fdca26"
            ],
            [
             1,
             "#f0f921"
            ]
           ]
          },
          "colorway": [
           "#636efa",
           "#EF553B",
           "#00cc96",
           "#ab63fa",
           "#FFA15A",
           "#19d3f3",
           "#FF6692",
           "#B6E880",
           "#FF97FF",
           "#FECB52"
          ],
          "font": {
           "color": "#f2f5fa"
          },
          "geo": {
           "bgcolor": "rgb(17,17,17)",
           "lakecolor": "rgb(17,17,17)",
           "landcolor": "rgb(17,17,17)",
           "showlakes": true,
           "showland": true,
           "subunitcolor": "#506784"
          },
          "hoverlabel": {
           "align": "left"
          },
          "hovermode": "closest",
          "mapbox": {
           "style": "dark"
          },
          "paper_bgcolor": "rgb(17,17,17)",
          "plot_bgcolor": "rgb(17,17,17)",
          "polar": {
           "angularaxis": {
            "gridcolor": "#506784",
            "linecolor": "#506784",
            "ticks": ""
           },
           "bgcolor": "rgb(17,17,17)",
           "radialaxis": {
            "gridcolor": "#506784",
            "linecolor": "#506784",
            "ticks": ""
           }
          },
          "scene": {
           "xaxis": {
            "backgroundcolor": "rgb(17,17,17)",
            "gridcolor": "#506784",
            "gridwidth": 2,
            "linecolor": "#506784",
            "showbackground": true,
            "ticks": "",
            "zerolinecolor": "#C8D4E3"
           },
           "yaxis": {
            "backgroundcolor": "rgb(17,17,17)",
            "gridcolor": "#506784",
            "gridwidth": 2,
            "linecolor": "#506784",
            "showbackground": true,
            "ticks": "",
            "zerolinecolor": "#C8D4E3"
           },
           "zaxis": {
            "backgroundcolor": "rgb(17,17,17)",
            "gridcolor": "#506784",
            "gridwidth": 2,
            "linecolor": "#506784",
            "showbackground": true,
            "ticks": "",
            "zerolinecolor": "#C8D4E3"
           }
          },
          "shapedefaults": {
           "line": {
            "color": "#f2f5fa"
           }
          },
          "sliderdefaults": {
           "bgcolor": "#C8D4E3",
           "bordercolor": "rgb(17,17,17)",
           "borderwidth": 1,
           "tickwidth": 0
          },
          "ternary": {
           "aaxis": {
            "gridcolor": "#506784",
            "linecolor": "#506784",
            "ticks": ""
           },
           "baxis": {
            "gridcolor": "#506784",
            "linecolor": "#506784",
            "ticks": ""
           },
           "bgcolor": "rgb(17,17,17)",
           "caxis": {
            "gridcolor": "#506784",
            "linecolor": "#506784",
            "ticks": ""
           }
          },
          "title": {
           "x": 0.05
          },
          "updatemenudefaults": {
           "bgcolor": "#506784",
           "borderwidth": 0
          },
          "xaxis": {
           "automargin": true,
           "gridcolor": "#283442",
           "linecolor": "#506784",
           "ticks": "",
           "title": {
            "standoff": 15
           },
           "zerolinecolor": "#283442",
           "zerolinewidth": 2
          },
          "yaxis": {
           "automargin": true,
           "gridcolor": "#283442",
           "linecolor": "#506784",
           "ticks": "",
           "title": {
            "standoff": 15
           },
           "zerolinecolor": "#283442",
           "zerolinewidth": 2
          }
         }
        },
        "title": {
         "text": ""
        },
        "width": 900,
        "xaxis": {
         "gridcolor": "gray",
         "showgrid": true,
         "title": {
          "text": "Month"
         }
        },
        "yaxis": {
         "gridcolor": "gray",
         "showgrid": true,
         "title": {
          "text": "Precipitation (mm)"
         }
        }
       }
      }
     },
     "metadata": {},
     "output_type": "display_data"
    }
   ],
   "source": [
    "fig.show()"
   ]
  },
  {
   "cell_type": "code",
   "execution_count": null,
   "id": "abe29811",
   "metadata": {},
   "outputs": [],
   "source": []
  },
  {
   "cell_type": "code",
   "execution_count": 43,
   "id": "3c65fed6",
   "metadata": {},
   "outputs": [],
   "source": [
    "# london_monthly_aggregate = create_monthly_aggregate(remove_date_list = ['1999-12-31'],debug=False)\n",
    "# apulia_monthly_aggregate = create_monthly_aggregate('puglia',remove_date_list = ['1999-12-31'], debug=False)"
   ]
  },
  {
   "cell_type": "code",
   "execution_count": 44,
   "id": "d9dd54fc",
   "metadata": {},
   "outputs": [],
   "source": [
    "london_year_month, london_monthly_aggregate = create_monthly_aggregate(remove_date_list = ['1999-12-31'],debug=False, save_parquet=False)\n",
    "apulia_year_month, apulia_monthly_aggregate = create_monthly_aggregate(location='puglia', remove_date_list = ['1999-12-31'],debug=False, save_parquet=False)"
   ]
  },
  {
   "cell_type": "code",
   "execution_count": 45,
   "id": "1fc39f33",
   "metadata": {},
   "outputs": [
    {
     "data": {
      "text/html": [
       "<div>\n",
       "<style scoped>\n",
       "    .dataframe tbody tr th:only-of-type {\n",
       "        vertical-align: middle;\n",
       "    }\n",
       "\n",
       "    .dataframe tbody tr th {\n",
       "        vertical-align: top;\n",
       "    }\n",
       "\n",
       "    .dataframe thead th {\n",
       "        text-align: right;\n",
       "    }\n",
       "</style>\n",
       "<table border=\"1\" class=\"dataframe\">\n",
       "  <thead>\n",
       "    <tr style=\"text-align: right;\">\n",
       "      <th></th>\n",
       "      <th>month</th>\n",
       "      <th>month_sum</th>\n",
       "      <th>month_median</th>\n",
       "      <th>month_avg</th>\n",
       "      <th>month_std</th>\n",
       "      <th>month_min</th>\n",
       "      <th>month_max</th>\n",
       "      <th>min_year</th>\n",
       "      <th>max_year</th>\n",
       "    </tr>\n",
       "  </thead>\n",
       "  <tbody>\n",
       "    <tr>\n",
       "      <th>0</th>\n",
       "      <td>Jan</td>\n",
       "      <td>1546.9</td>\n",
       "      <td>57.60</td>\n",
       "      <td>59.50</td>\n",
       "      <td>25.25</td>\n",
       "      <td>17.9</td>\n",
       "      <td>114.4</td>\n",
       "      <td>2000</td>\n",
       "      <td>2021</td>\n",
       "    </tr>\n",
       "    <tr>\n",
       "      <th>1</th>\n",
       "      <td>Feb</td>\n",
       "      <td>1407.4</td>\n",
       "      <td>48.75</td>\n",
       "      <td>54.13</td>\n",
       "      <td>27.42</td>\n",
       "      <td>9.7</td>\n",
       "      <td>116.1</td>\n",
       "      <td>2023</td>\n",
       "      <td>2024</td>\n",
       "    </tr>\n",
       "    <tr>\n",
       "      <th>2</th>\n",
       "      <td>Mar</td>\n",
       "      <td>1304.3</td>\n",
       "      <td>45.90</td>\n",
       "      <td>50.17</td>\n",
       "      <td>28.31</td>\n",
       "      <td>12.1</td>\n",
       "      <td>114.9</td>\n",
       "      <td>2011</td>\n",
       "      <td>2001</td>\n",
       "    </tr>\n",
       "    <tr>\n",
       "      <th>3</th>\n",
       "      <td>Apr</td>\n",
       "      <td>1289.9</td>\n",
       "      <td>43.65</td>\n",
       "      <td>49.61</td>\n",
       "      <td>29.91</td>\n",
       "      <td>5.2</td>\n",
       "      <td>119.2</td>\n",
       "      <td>2011</td>\n",
       "      <td>2000</td>\n",
       "    </tr>\n",
       "    <tr>\n",
       "      <th>4</th>\n",
       "      <td>May</td>\n",
       "      <td>1594.8</td>\n",
       "      <td>54.65</td>\n",
       "      <td>61.34</td>\n",
       "      <td>27.45</td>\n",
       "      <td>6.3</td>\n",
       "      <td>110.7</td>\n",
       "      <td>2020</td>\n",
       "      <td>2007</td>\n",
       "    </tr>\n",
       "    <tr>\n",
       "      <th>5</th>\n",
       "      <td>Jun</td>\n",
       "      <td>1587.3</td>\n",
       "      <td>49.15</td>\n",
       "      <td>61.05</td>\n",
       "      <td>36.50</td>\n",
       "      <td>8.6</td>\n",
       "      <td>136.8</td>\n",
       "      <td>2018</td>\n",
       "      <td>2012</td>\n",
       "    </tr>\n",
       "    <tr>\n",
       "      <th>6</th>\n",
       "      <td>Jul</td>\n",
       "      <td>1693.9</td>\n",
       "      <td>70.20</td>\n",
       "      <td>67.76</td>\n",
       "      <td>24.99</td>\n",
       "      <td>16.3</td>\n",
       "      <td>116.5</td>\n",
       "      <td>2022</td>\n",
       "      <td>2012</td>\n",
       "    </tr>\n",
       "    <tr>\n",
       "      <th>7</th>\n",
       "      <td>Aug</td>\n",
       "      <td>1681.8</td>\n",
       "      <td>65.00</td>\n",
       "      <td>67.27</td>\n",
       "      <td>28.14</td>\n",
       "      <td>17.0</td>\n",
       "      <td>125.4</td>\n",
       "      <td>2003</td>\n",
       "      <td>2004</td>\n",
       "    </tr>\n",
       "    <tr>\n",
       "      <th>8</th>\n",
       "      <td>Sep</td>\n",
       "      <td>1214.1</td>\n",
       "      <td>47.80</td>\n",
       "      <td>48.56</td>\n",
       "      <td>26.98</td>\n",
       "      <td>15.4</td>\n",
       "      <td>132.4</td>\n",
       "      <td>2003</td>\n",
       "      <td>2024</td>\n",
       "    </tr>\n",
       "    <tr>\n",
       "      <th>9</th>\n",
       "      <td>Oct</td>\n",
       "      <td>1730.9</td>\n",
       "      <td>62.40</td>\n",
       "      <td>69.24</td>\n",
       "      <td>33.94</td>\n",
       "      <td>22.3</td>\n",
       "      <td>143.3</td>\n",
       "      <td>2011</td>\n",
       "      <td>2000</td>\n",
       "    </tr>\n",
       "    <tr>\n",
       "      <th>10</th>\n",
       "      <td>Nov</td>\n",
       "      <td>1699.2</td>\n",
       "      <td>66.30</td>\n",
       "      <td>67.97</td>\n",
       "      <td>30.09</td>\n",
       "      <td>13.3</td>\n",
       "      <td>119.4</td>\n",
       "      <td>2021</td>\n",
       "      <td>2000</td>\n",
       "    </tr>\n",
       "    <tr>\n",
       "      <th>11</th>\n",
       "      <td>Dec</td>\n",
       "      <td>1525.6</td>\n",
       "      <td>57.60</td>\n",
       "      <td>61.02</td>\n",
       "      <td>26.77</td>\n",
       "      <td>10.1</td>\n",
       "      <td>109.7</td>\n",
       "      <td>2016</td>\n",
       "      <td>2002</td>\n",
       "    </tr>\n",
       "  </tbody>\n",
       "</table>\n",
       "</div>"
      ],
      "text/plain": [
       "   month  month_sum  month_median  month_avg  month_std  month_min  month_max  \\\n",
       "0    Jan     1546.9         57.60      59.50      25.25       17.9      114.4   \n",
       "1    Feb     1407.4         48.75      54.13      27.42        9.7      116.1   \n",
       "2    Mar     1304.3         45.90      50.17      28.31       12.1      114.9   \n",
       "3    Apr     1289.9         43.65      49.61      29.91        5.2      119.2   \n",
       "4    May     1594.8         54.65      61.34      27.45        6.3      110.7   \n",
       "5    Jun     1587.3         49.15      61.05      36.50        8.6      136.8   \n",
       "6    Jul     1693.9         70.20      67.76      24.99       16.3      116.5   \n",
       "7    Aug     1681.8         65.00      67.27      28.14       17.0      125.4   \n",
       "8    Sep     1214.1         47.80      48.56      26.98       15.4      132.4   \n",
       "9    Oct     1730.9         62.40      69.24      33.94       22.3      143.3   \n",
       "10   Nov     1699.2         66.30      67.97      30.09       13.3      119.4   \n",
       "11   Dec     1525.6         57.60      61.02      26.77       10.1      109.7   \n",
       "\n",
       "    min_year  max_year  \n",
       "0       2000      2021  \n",
       "1       2023      2024  \n",
       "2       2011      2001  \n",
       "3       2011      2000  \n",
       "4       2020      2007  \n",
       "5       2018      2012  \n",
       "6       2022      2012  \n",
       "7       2003      2004  \n",
       "8       2003      2024  \n",
       "9       2011      2000  \n",
       "10      2021      2000  \n",
       "11      2016      2002  "
      ]
     },
     "execution_count": 45,
     "metadata": {},
     "output_type": "execute_result"
    }
   ],
   "source": [
    "london_monthly_aggregate"
   ]
  },
  {
   "cell_type": "code",
   "execution_count": null,
   "id": "3eea888a",
   "metadata": {},
   "outputs": [
    {
     "data": {
      "text/html": [
       "<div>\n",
       "<style scoped>\n",
       "    .dataframe tbody tr th:only-of-type {\n",
       "        vertical-align: middle;\n",
       "    }\n",
       "\n",
       "    .dataframe tbody tr th {\n",
       "        vertical-align: top;\n",
       "    }\n",
       "\n",
       "    .dataframe thead th {\n",
       "        text-align: right;\n",
       "    }\n",
       "</style>\n",
       "<table border=\"1\" class=\"dataframe\">\n",
       "  <thead>\n",
       "    <tr style=\"text-align: right;\">\n",
       "      <th></th>\n",
       "      <th>month</th>\n",
       "      <th>month_sum</th>\n",
       "      <th>month_median</th>\n",
       "      <th>month_avg</th>\n",
       "      <th>month_std</th>\n",
       "      <th>month_min</th>\n",
       "      <th>month_max</th>\n",
       "      <th>min_year</th>\n",
       "      <th>max_year</th>\n",
       "    </tr>\n",
       "  </thead>\n",
       "  <tbody>\n",
       "    <tr>\n",
       "      <th>0</th>\n",
       "      <td>Jan</td>\n",
       "      <td>1620.6</td>\n",
       "      <td>60.05</td>\n",
       "      <td>62.33</td>\n",
       "      <td>36.29</td>\n",
       "      <td>9.7</td>\n",
       "      <td>165.5</td>\n",
       "      <td>2020</td>\n",
       "      <td>2009</td>\n",
       "    </tr>\n",
       "    <tr>\n",
       "      <th>1</th>\n",
       "      <td>Feb</td>\n",
       "      <td>1477.3</td>\n",
       "      <td>55.75</td>\n",
       "      <td>56.82</td>\n",
       "      <td>28.41</td>\n",
       "      <td>11.8</td>\n",
       "      <td>126.8</td>\n",
       "      <td>2023</td>\n",
       "      <td>2012</td>\n",
       "    </tr>\n",
       "    <tr>\n",
       "      <th>2</th>\n",
       "      <td>Mar</td>\n",
       "      <td>1690.9</td>\n",
       "      <td>62.45</td>\n",
       "      <td>65.03</td>\n",
       "      <td>29.25</td>\n",
       "      <td>18.2</td>\n",
       "      <td>125.9</td>\n",
       "      <td>2001</td>\n",
       "      <td>2016</td>\n",
       "    </tr>\n",
       "    <tr>\n",
       "      <th>3</th>\n",
       "      <td>Apr</td>\n",
       "      <td>1495.0</td>\n",
       "      <td>53.45</td>\n",
       "      <td>57.50</td>\n",
       "      <td>24.50</td>\n",
       "      <td>16.5</td>\n",
       "      <td>116.8</td>\n",
       "      <td>2018</td>\n",
       "      <td>2009</td>\n",
       "    </tr>\n",
       "    <tr>\n",
       "      <th>4</th>\n",
       "      <td>May</td>\n",
       "      <td>1209.3</td>\n",
       "      <td>40.00</td>\n",
       "      <td>46.51</td>\n",
       "      <td>27.11</td>\n",
       "      <td>11.8</td>\n",
       "      <td>122.5</td>\n",
       "      <td>2021</td>\n",
       "      <td>2023</td>\n",
       "    </tr>\n",
       "    <tr>\n",
       "      <th>5</th>\n",
       "      <td>Jun</td>\n",
       "      <td>864.3</td>\n",
       "      <td>31.40</td>\n",
       "      <td>33.24</td>\n",
       "      <td>22.93</td>\n",
       "      <td>0.7</td>\n",
       "      <td>80.9</td>\n",
       "      <td>2012</td>\n",
       "      <td>2004</td>\n",
       "    </tr>\n",
       "    <tr>\n",
       "      <th>6</th>\n",
       "      <td>Jul</td>\n",
       "      <td>527.0</td>\n",
       "      <td>19.60</td>\n",
       "      <td>21.08</td>\n",
       "      <td>16.78</td>\n",
       "      <td>2.5</td>\n",
       "      <td>78.0</td>\n",
       "      <td>2007</td>\n",
       "      <td>2002</td>\n",
       "    </tr>\n",
       "    <tr>\n",
       "      <th>7</th>\n",
       "      <td>Aug</td>\n",
       "      <td>570.9</td>\n",
       "      <td>16.30</td>\n",
       "      <td>22.84</td>\n",
       "      <td>19.86</td>\n",
       "      <td>2.0</td>\n",
       "      <td>71.8</td>\n",
       "      <td>2012</td>\n",
       "      <td>2018</td>\n",
       "    </tr>\n",
       "    <tr>\n",
       "      <th>8</th>\n",
       "      <td>Sep</td>\n",
       "      <td>1455.3</td>\n",
       "      <td>57.10</td>\n",
       "      <td>58.21</td>\n",
       "      <td>30.54</td>\n",
       "      <td>11.4</td>\n",
       "      <td>141.9</td>\n",
       "      <td>2013</td>\n",
       "      <td>2016</td>\n",
       "    </tr>\n",
       "    <tr>\n",
       "      <th>9</th>\n",
       "      <td>Oct</td>\n",
       "      <td>1682.9</td>\n",
       "      <td>51.00</td>\n",
       "      <td>67.32</td>\n",
       "      <td>42.42</td>\n",
       "      <td>20.4</td>\n",
       "      <td>162.8</td>\n",
       "      <td>2008</td>\n",
       "      <td>2010</td>\n",
       "    </tr>\n",
       "    <tr>\n",
       "      <th>10</th>\n",
       "      <td>Nov</td>\n",
       "      <td>1958.6</td>\n",
       "      <td>74.80</td>\n",
       "      <td>78.34</td>\n",
       "      <td>38.30</td>\n",
       "      <td>18.8</td>\n",
       "      <td>150.9</td>\n",
       "      <td>2006</td>\n",
       "      <td>2013</td>\n",
       "    </tr>\n",
       "    <tr>\n",
       "      <th>11</th>\n",
       "      <td>Dec</td>\n",
       "      <td>1680.3</td>\n",
       "      <td>64.90</td>\n",
       "      <td>67.21</td>\n",
       "      <td>40.14</td>\n",
       "      <td>3.1</td>\n",
       "      <td>152.5</td>\n",
       "      <td>2015</td>\n",
       "      <td>2002</td>\n",
       "    </tr>\n",
       "  </tbody>\n",
       "</table>\n",
       "</div>"
      ],
      "text/plain": [
       "   month  month_sum  month_median  month_avg  month_std  month_min  month_max  \\\n",
       "0    Jan     1620.6         60.05      62.33      36.29        9.7      165.5   \n",
       "1    Feb     1477.3         55.75      56.82      28.41       11.8      126.8   \n",
       "2    Mar     1690.9         62.45      65.03      29.25       18.2      125.9   \n",
       "3    Apr     1495.0         53.45      57.50      24.50       16.5      116.8   \n",
       "4    May     1209.3         40.00      46.51      27.11       11.8      122.5   \n",
       "5    Jun      864.3         31.40      33.24      22.93        0.7       80.9   \n",
       "6    Jul      527.0         19.60      21.08      16.78        2.5       78.0   \n",
       "7    Aug      570.9         16.30      22.84      19.86        2.0       71.8   \n",
       "8    Sep     1455.3         57.10      58.21      30.54       11.4      141.9   \n",
       "9    Oct     1682.9         51.00      67.32      42.42       20.4      162.8   \n",
       "10   Nov     1958.6         74.80      78.34      38.30       18.8      150.9   \n",
       "11   Dec     1680.3         64.90      67.21      40.14        3.1      152.5   \n",
       "\n",
       "    min_year  max_year  \n",
       "0       2020      2009  \n",
       "1       2023      2012  \n",
       "2       2001      2016  \n",
       "3       2018      2009  \n",
       "4       2021      2023  \n",
       "5       2012      2004  \n",
       "6       2007      2002  \n",
       "7       2012      2018  \n",
       "8       2013      2016  \n",
       "9       2008      2010  \n",
       "10      2006      2013  \n",
       "11      2015      2002  "
      ]
     },
     "execution_count": 46,
     "metadata": {},
     "output_type": "execute_result"
    }
   ],
   "source": []
  },
  {
   "cell_type": "code",
   "execution_count": null,
   "id": "823e9d2a",
   "metadata": {},
   "outputs": [],
   "source": []
  },
  {
   "cell_type": "code",
   "execution_count": 63,
   "id": "318ad25c",
   "metadata": {},
   "outputs": [
    {
     "data": {
      "text/html": [
       "<div>\n",
       "<style scoped>\n",
       "    .dataframe tbody tr th:only-of-type {\n",
       "        vertical-align: middle;\n",
       "    }\n",
       "\n",
       "    .dataframe tbody tr th {\n",
       "        vertical-align: top;\n",
       "    }\n",
       "\n",
       "    .dataframe thead th {\n",
       "        text-align: right;\n",
       "    }\n",
       "</style>\n",
       "<table border=\"1\" class=\"dataframe\">\n",
       "  <thead>\n",
       "    <tr style=\"text-align: right;\">\n",
       "      <th></th>\n",
       "      <th>year</th>\n",
       "      <th>month int</th>\n",
       "      <th>month</th>\n",
       "      <th>tp_monthly_sum</th>\n",
       "      <th>tp_daily_median</th>\n",
       "      <th>tp_daily_avg</th>\n",
       "      <th>tp_daily_std</th>\n",
       "      <th>tp_daily_min</th>\n",
       "      <th>tp_daily_max</th>\n",
       "      <th>year_month</th>\n",
       "    </tr>\n",
       "  </thead>\n",
       "  <tbody>\n",
       "    <tr>\n",
       "      <th>0</th>\n",
       "      <td>2000</td>\n",
       "      <td>1</td>\n",
       "      <td>Jan</td>\n",
       "      <td>17.9</td>\n",
       "      <td>0.00</td>\n",
       "      <td>0.577419</td>\n",
       "      <td>1.558570</td>\n",
       "      <td>0.0</td>\n",
       "      <td>8.4</td>\n",
       "      <td>2000-01</td>\n",
       "    </tr>\n",
       "    <tr>\n",
       "      <th>1</th>\n",
       "      <td>2000</td>\n",
       "      <td>2</td>\n",
       "      <td>Feb</td>\n",
       "      <td>73.3</td>\n",
       "      <td>1.60</td>\n",
       "      <td>2.527586</td>\n",
       "      <td>3.099527</td>\n",
       "      <td>0.0</td>\n",
       "      <td>11.6</td>\n",
       "      <td>2000-02</td>\n",
       "    </tr>\n",
       "    <tr>\n",
       "      <th>2</th>\n",
       "      <td>2000</td>\n",
       "      <td>3</td>\n",
       "      <td>Mar</td>\n",
       "      <td>26.1</td>\n",
       "      <td>0.00</td>\n",
       "      <td>0.841935</td>\n",
       "      <td>1.397802</td>\n",
       "      <td>0.0</td>\n",
       "      <td>4.6</td>\n",
       "      <td>2000-03</td>\n",
       "    </tr>\n",
       "    <tr>\n",
       "      <th>3</th>\n",
       "      <td>2000</td>\n",
       "      <td>4</td>\n",
       "      <td>Apr</td>\n",
       "      <td>119.2</td>\n",
       "      <td>3.05</td>\n",
       "      <td>3.973333</td>\n",
       "      <td>3.849311</td>\n",
       "      <td>0.0</td>\n",
       "      <td>12.2</td>\n",
       "      <td>2000-04</td>\n",
       "    </tr>\n",
       "    <tr>\n",
       "      <th>4</th>\n",
       "      <td>2000</td>\n",
       "      <td>5</td>\n",
       "      <td>May</td>\n",
       "      <td>97.4</td>\n",
       "      <td>1.00</td>\n",
       "      <td>3.141935</td>\n",
       "      <td>4.606935</td>\n",
       "      <td>0.0</td>\n",
       "      <td>17.4</td>\n",
       "      <td>2000-05</td>\n",
       "    </tr>\n",
       "  </tbody>\n",
       "</table>\n",
       "</div>"
      ],
      "text/plain": [
       "   year  month int month  tp_monthly_sum  tp_daily_median  tp_daily_avg  \\\n",
       "0  2000          1   Jan            17.9             0.00      0.577419   \n",
       "1  2000          2   Feb            73.3             1.60      2.527586   \n",
       "2  2000          3   Mar            26.1             0.00      0.841935   \n",
       "3  2000          4   Apr           119.2             3.05      3.973333   \n",
       "4  2000          5   May            97.4             1.00      3.141935   \n",
       "\n",
       "   tp_daily_std  tp_daily_min  tp_daily_max year_month  \n",
       "0      1.558570           0.0           8.4    2000-01  \n",
       "1      3.099527           0.0          11.6    2000-02  \n",
       "2      1.397802           0.0           4.6    2000-03  \n",
       "3      3.849311           0.0          12.2    2000-04  \n",
       "4      4.606935           0.0          17.4    2000-05  "
      ]
     },
     "execution_count": 63,
     "metadata": {},
     "output_type": "execute_result"
    }
   ],
   "source": [
    "london_year_month.head()"
   ]
  },
  {
   "cell_type": "code",
   "execution_count": 62,
   "id": "5961aa89",
   "metadata": {},
   "outputs": [],
   "source": [
    "# # Group by month and calculate all statistics\n",
    "# def get_monthly_stats(df_year_month):\n",
    "#     # Group by month_int (or month if you prefer month names)\n",
    "#     grouped = df_year_month.groupby('month int', observed=True)\n",
    "    \n",
    "#     # Calculate basic statistics\n",
    "#     stats = grouped['tp_monthly_sum'].agg([\n",
    "#         'sum', 'median', 'mean', 'std', 'min', 'max'\n",
    "#     ]).round(2)\n",
    "    \n",
    "#     # Find years when min and max occurred\n",
    "#     min_years = grouped.apply(lambda x: x.loc[x['tp_monthly_sum'].idxmin(), 'year'], include_groups=False)\n",
    "#     max_years = grouped.apply(lambda x: x.loc[x['tp_monthly_sum'].idxmax(), 'year'], include_groups=False)\n",
    "    \n",
    "#     # Combine everything into final dataframe\n",
    "#     result = stats.copy()\n",
    "#     result['min_year'] = min_years\n",
    "#     result['max_year'] = max_years\n",
    "    \n",
    "#     # Add month names for readability (optional)\n",
    "#     month_names = df_year_month.groupby('month int', observed = True)['month'].first()\n",
    "#     result['month_name'] = month_names\n",
    "    \n",
    "#     # Reorder columns for better readability\n",
    "#     result = result[['month_name', 'sum', 'median', 'mean', 'std', 'min', 'max', 'min_year', 'max_year']]\n",
    "    \n",
    "#     return result.reset_index(drop = True).rename(columns = {'month_name': 'month',\n",
    "#                                                              'sum': 'month_sum',\n",
    "#                                                            'median': 'month_median',\n",
    "#                                                            'mean': 'month_avg',\n",
    "#                                                            'std': 'month_std',\n",
    "#                                                            'min': 'month_min',\n",
    "#                                                            'max': 'month_max'})"
   ]
  },
  {
   "cell_type": "code",
   "execution_count": 39,
   "id": "b8444742",
   "metadata": {},
   "outputs": [],
   "source": [
    "monthly_stats = get_monthly_stats(london_year_month)"
   ]
  },
  {
   "cell_type": "code",
   "execution_count": 40,
   "id": "b30d33a4",
   "metadata": {},
   "outputs": [
    {
     "data": {
      "text/html": [
       "<div>\n",
       "<style scoped>\n",
       "    .dataframe tbody tr th:only-of-type {\n",
       "        vertical-align: middle;\n",
       "    }\n",
       "\n",
       "    .dataframe tbody tr th {\n",
       "        vertical-align: top;\n",
       "    }\n",
       "\n",
       "    .dataframe thead th {\n",
       "        text-align: right;\n",
       "    }\n",
       "</style>\n",
       "<table border=\"1\" class=\"dataframe\">\n",
       "  <thead>\n",
       "    <tr style=\"text-align: right;\">\n",
       "      <th></th>\n",
       "      <th>month</th>\n",
       "      <th>month_sum</th>\n",
       "      <th>month_median</th>\n",
       "      <th>month_avg</th>\n",
       "      <th>month_std</th>\n",
       "      <th>month_min</th>\n",
       "      <th>month_max</th>\n",
       "      <th>min_year</th>\n",
       "      <th>max_year</th>\n",
       "    </tr>\n",
       "  </thead>\n",
       "  <tbody>\n",
       "    <tr>\n",
       "      <th>0</th>\n",
       "      <td>Jan</td>\n",
       "      <td>1546.9</td>\n",
       "      <td>57.60</td>\n",
       "      <td>59.50</td>\n",
       "      <td>25.25</td>\n",
       "      <td>17.9</td>\n",
       "      <td>114.4</td>\n",
       "      <td>2000</td>\n",
       "      <td>2021</td>\n",
       "    </tr>\n",
       "    <tr>\n",
       "      <th>1</th>\n",
       "      <td>Feb</td>\n",
       "      <td>1407.4</td>\n",
       "      <td>48.75</td>\n",
       "      <td>54.13</td>\n",
       "      <td>27.42</td>\n",
       "      <td>9.7</td>\n",
       "      <td>116.1</td>\n",
       "      <td>2023</td>\n",
       "      <td>2024</td>\n",
       "    </tr>\n",
       "    <tr>\n",
       "      <th>2</th>\n",
       "      <td>Mar</td>\n",
       "      <td>1304.3</td>\n",
       "      <td>45.90</td>\n",
       "      <td>50.17</td>\n",
       "      <td>28.31</td>\n",
       "      <td>12.1</td>\n",
       "      <td>114.9</td>\n",
       "      <td>2011</td>\n",
       "      <td>2001</td>\n",
       "    </tr>\n",
       "    <tr>\n",
       "      <th>3</th>\n",
       "      <td>Apr</td>\n",
       "      <td>1289.9</td>\n",
       "      <td>43.65</td>\n",
       "      <td>49.61</td>\n",
       "      <td>29.91</td>\n",
       "      <td>5.2</td>\n",
       "      <td>119.2</td>\n",
       "      <td>2011</td>\n",
       "      <td>2000</td>\n",
       "    </tr>\n",
       "    <tr>\n",
       "      <th>4</th>\n",
       "      <td>May</td>\n",
       "      <td>1594.8</td>\n",
       "      <td>54.65</td>\n",
       "      <td>61.34</td>\n",
       "      <td>27.45</td>\n",
       "      <td>6.3</td>\n",
       "      <td>110.7</td>\n",
       "      <td>2020</td>\n",
       "      <td>2007</td>\n",
       "    </tr>\n",
       "    <tr>\n",
       "      <th>5</th>\n",
       "      <td>Jun</td>\n",
       "      <td>1587.3</td>\n",
       "      <td>49.15</td>\n",
       "      <td>61.05</td>\n",
       "      <td>36.50</td>\n",
       "      <td>8.6</td>\n",
       "      <td>136.8</td>\n",
       "      <td>2018</td>\n",
       "      <td>2012</td>\n",
       "    </tr>\n",
       "    <tr>\n",
       "      <th>6</th>\n",
       "      <td>Jul</td>\n",
       "      <td>1693.9</td>\n",
       "      <td>70.20</td>\n",
       "      <td>67.76</td>\n",
       "      <td>24.99</td>\n",
       "      <td>16.3</td>\n",
       "      <td>116.5</td>\n",
       "      <td>2022</td>\n",
       "      <td>2012</td>\n",
       "    </tr>\n",
       "    <tr>\n",
       "      <th>7</th>\n",
       "      <td>Aug</td>\n",
       "      <td>1681.8</td>\n",
       "      <td>65.00</td>\n",
       "      <td>67.27</td>\n",
       "      <td>28.14</td>\n",
       "      <td>17.0</td>\n",
       "      <td>125.4</td>\n",
       "      <td>2003</td>\n",
       "      <td>2004</td>\n",
       "    </tr>\n",
       "    <tr>\n",
       "      <th>8</th>\n",
       "      <td>Sep</td>\n",
       "      <td>1214.1</td>\n",
       "      <td>47.80</td>\n",
       "      <td>48.56</td>\n",
       "      <td>26.98</td>\n",
       "      <td>15.4</td>\n",
       "      <td>132.4</td>\n",
       "      <td>2003</td>\n",
       "      <td>2024</td>\n",
       "    </tr>\n",
       "    <tr>\n",
       "      <th>9</th>\n",
       "      <td>Oct</td>\n",
       "      <td>1730.9</td>\n",
       "      <td>62.40</td>\n",
       "      <td>69.24</td>\n",
       "      <td>33.94</td>\n",
       "      <td>22.3</td>\n",
       "      <td>143.3</td>\n",
       "      <td>2011</td>\n",
       "      <td>2000</td>\n",
       "    </tr>\n",
       "    <tr>\n",
       "      <th>10</th>\n",
       "      <td>Nov</td>\n",
       "      <td>1699.2</td>\n",
       "      <td>66.30</td>\n",
       "      <td>67.97</td>\n",
       "      <td>30.09</td>\n",
       "      <td>13.3</td>\n",
       "      <td>119.4</td>\n",
       "      <td>2021</td>\n",
       "      <td>2000</td>\n",
       "    </tr>\n",
       "    <tr>\n",
       "      <th>11</th>\n",
       "      <td>Dec</td>\n",
       "      <td>1525.6</td>\n",
       "      <td>57.60</td>\n",
       "      <td>61.02</td>\n",
       "      <td>26.77</td>\n",
       "      <td>10.1</td>\n",
       "      <td>109.7</td>\n",
       "      <td>2016</td>\n",
       "      <td>2002</td>\n",
       "    </tr>\n",
       "  </tbody>\n",
       "</table>\n",
       "</div>"
      ],
      "text/plain": [
       "   month  month_sum  month_median  month_avg  month_std  month_min  month_max  \\\n",
       "0    Jan     1546.9         57.60      59.50      25.25       17.9      114.4   \n",
       "1    Feb     1407.4         48.75      54.13      27.42        9.7      116.1   \n",
       "2    Mar     1304.3         45.90      50.17      28.31       12.1      114.9   \n",
       "3    Apr     1289.9         43.65      49.61      29.91        5.2      119.2   \n",
       "4    May     1594.8         54.65      61.34      27.45        6.3      110.7   \n",
       "5    Jun     1587.3         49.15      61.05      36.50        8.6      136.8   \n",
       "6    Jul     1693.9         70.20      67.76      24.99       16.3      116.5   \n",
       "7    Aug     1681.8         65.00      67.27      28.14       17.0      125.4   \n",
       "8    Sep     1214.1         47.80      48.56      26.98       15.4      132.4   \n",
       "9    Oct     1730.9         62.40      69.24      33.94       22.3      143.3   \n",
       "10   Nov     1699.2         66.30      67.97      30.09       13.3      119.4   \n",
       "11   Dec     1525.6         57.60      61.02      26.77       10.1      109.7   \n",
       "\n",
       "    min_year  max_year  \n",
       "0       2000      2021  \n",
       "1       2023      2024  \n",
       "2       2011      2001  \n",
       "3       2011      2000  \n",
       "4       2020      2007  \n",
       "5       2018      2012  \n",
       "6       2022      2012  \n",
       "7       2003      2004  \n",
       "8       2003      2024  \n",
       "9       2011      2000  \n",
       "10      2021      2000  \n",
       "11      2016      2002  "
      ]
     },
     "execution_count": 40,
     "metadata": {},
     "output_type": "execute_result"
    }
   ],
   "source": [
    "monthly_stats"
   ]
  },
  {
   "cell_type": "code",
   "execution_count": 41,
   "id": "f5b3e762",
   "metadata": {},
   "outputs": [
    {
     "data": {
      "text/html": [
       "<div>\n",
       "<style scoped>\n",
       "    .dataframe tbody tr th:only-of-type {\n",
       "        vertical-align: middle;\n",
       "    }\n",
       "\n",
       "    .dataframe tbody tr th {\n",
       "        vertical-align: top;\n",
       "    }\n",
       "\n",
       "    .dataframe thead th {\n",
       "        text-align: right;\n",
       "    }\n",
       "</style>\n",
       "<table border=\"1\" class=\"dataframe\">\n",
       "  <thead>\n",
       "    <tr style=\"text-align: right;\">\n",
       "      <th></th>\n",
       "      <th>month</th>\n",
       "      <th>month_sum</th>\n",
       "      <th>month_median</th>\n",
       "      <th>month_avg</th>\n",
       "      <th>month_std</th>\n",
       "      <th>month_min</th>\n",
       "      <th>month_max</th>\n",
       "    </tr>\n",
       "  </thead>\n",
       "  <tbody>\n",
       "    <tr>\n",
       "      <th>0</th>\n",
       "      <td>Jan</td>\n",
       "      <td>1546.9</td>\n",
       "      <td>57.6</td>\n",
       "      <td>59.5</td>\n",
       "      <td>25.2</td>\n",
       "      <td>17.9</td>\n",
       "      <td>114.4</td>\n",
       "    </tr>\n",
       "    <tr>\n",
       "      <th>1</th>\n",
       "      <td>Feb</td>\n",
       "      <td>1407.4</td>\n",
       "      <td>48.8</td>\n",
       "      <td>54.1</td>\n",
       "      <td>27.4</td>\n",
       "      <td>9.7</td>\n",
       "      <td>116.1</td>\n",
       "    </tr>\n",
       "    <tr>\n",
       "      <th>2</th>\n",
       "      <td>Mar</td>\n",
       "      <td>1304.3</td>\n",
       "      <td>45.9</td>\n",
       "      <td>50.2</td>\n",
       "      <td>28.3</td>\n",
       "      <td>12.1</td>\n",
       "      <td>114.9</td>\n",
       "    </tr>\n",
       "    <tr>\n",
       "      <th>3</th>\n",
       "      <td>Apr</td>\n",
       "      <td>1289.9</td>\n",
       "      <td>43.6</td>\n",
       "      <td>49.6</td>\n",
       "      <td>29.9</td>\n",
       "      <td>5.2</td>\n",
       "      <td>119.2</td>\n",
       "    </tr>\n",
       "    <tr>\n",
       "      <th>4</th>\n",
       "      <td>May</td>\n",
       "      <td>1594.8</td>\n",
       "      <td>54.6</td>\n",
       "      <td>61.3</td>\n",
       "      <td>27.4</td>\n",
       "      <td>6.3</td>\n",
       "      <td>110.7</td>\n",
       "    </tr>\n",
       "    <tr>\n",
       "      <th>5</th>\n",
       "      <td>Jun</td>\n",
       "      <td>1587.3</td>\n",
       "      <td>49.2</td>\n",
       "      <td>61.0</td>\n",
       "      <td>36.5</td>\n",
       "      <td>8.6</td>\n",
       "      <td>136.8</td>\n",
       "    </tr>\n",
       "    <tr>\n",
       "      <th>6</th>\n",
       "      <td>Jul</td>\n",
       "      <td>1693.9</td>\n",
       "      <td>70.2</td>\n",
       "      <td>67.8</td>\n",
       "      <td>25.0</td>\n",
       "      <td>16.3</td>\n",
       "      <td>116.5</td>\n",
       "    </tr>\n",
       "    <tr>\n",
       "      <th>7</th>\n",
       "      <td>Aug</td>\n",
       "      <td>1681.8</td>\n",
       "      <td>65.0</td>\n",
       "      <td>67.3</td>\n",
       "      <td>28.1</td>\n",
       "      <td>17.0</td>\n",
       "      <td>125.4</td>\n",
       "    </tr>\n",
       "    <tr>\n",
       "      <th>8</th>\n",
       "      <td>Sep</td>\n",
       "      <td>1214.1</td>\n",
       "      <td>47.8</td>\n",
       "      <td>48.6</td>\n",
       "      <td>27.0</td>\n",
       "      <td>15.4</td>\n",
       "      <td>132.4</td>\n",
       "    </tr>\n",
       "    <tr>\n",
       "      <th>9</th>\n",
       "      <td>Oct</td>\n",
       "      <td>1730.9</td>\n",
       "      <td>62.4</td>\n",
       "      <td>69.2</td>\n",
       "      <td>33.9</td>\n",
       "      <td>22.3</td>\n",
       "      <td>143.3</td>\n",
       "    </tr>\n",
       "    <tr>\n",
       "      <th>10</th>\n",
       "      <td>Nov</td>\n",
       "      <td>1699.2</td>\n",
       "      <td>66.3</td>\n",
       "      <td>68.0</td>\n",
       "      <td>30.1</td>\n",
       "      <td>13.3</td>\n",
       "      <td>119.4</td>\n",
       "    </tr>\n",
       "    <tr>\n",
       "      <th>11</th>\n",
       "      <td>Dec</td>\n",
       "      <td>1525.6</td>\n",
       "      <td>57.6</td>\n",
       "      <td>61.0</td>\n",
       "      <td>26.8</td>\n",
       "      <td>10.1</td>\n",
       "      <td>109.7</td>\n",
       "    </tr>\n",
       "  </tbody>\n",
       "</table>\n",
       "</div>"
      ],
      "text/plain": [
       "   month  month_sum  month_median  month_avg  month_std  month_min  month_max\n",
       "0    Jan     1546.9          57.6       59.5       25.2       17.9      114.4\n",
       "1    Feb     1407.4          48.8       54.1       27.4        9.7      116.1\n",
       "2    Mar     1304.3          45.9       50.2       28.3       12.1      114.9\n",
       "3    Apr     1289.9          43.6       49.6       29.9        5.2      119.2\n",
       "4    May     1594.8          54.6       61.3       27.4        6.3      110.7\n",
       "5    Jun     1587.3          49.2       61.0       36.5        8.6      136.8\n",
       "6    Jul     1693.9          70.2       67.8       25.0       16.3      116.5\n",
       "7    Aug     1681.8          65.0       67.3       28.1       17.0      125.4\n",
       "8    Sep     1214.1          47.8       48.6       27.0       15.4      132.4\n",
       "9    Oct     1730.9          62.4       69.2       33.9       22.3      143.3\n",
       "10   Nov     1699.2          66.3       68.0       30.1       13.3      119.4\n",
       "11   Dec     1525.6          57.6       61.0       26.8       10.1      109.7"
      ]
     },
     "execution_count": 41,
     "metadata": {},
     "output_type": "execute_result"
    }
   ],
   "source": [
    "london_monthly_aggregate"
   ]
  },
  {
   "cell_type": "code",
   "execution_count": null,
   "id": "86ea1aed",
   "metadata": {},
   "outputs": [],
   "source": []
  },
  {
   "cell_type": "code",
   "execution_count": 19,
   "id": "0303e74a",
   "metadata": {},
   "outputs": [
    {
     "data": {
      "text/html": [
       "<div>\n",
       "<style scoped>\n",
       "    .dataframe tbody tr th:only-of-type {\n",
       "        vertical-align: middle;\n",
       "    }\n",
       "\n",
       "    .dataframe tbody tr th {\n",
       "        vertical-align: top;\n",
       "    }\n",
       "\n",
       "    .dataframe thead th {\n",
       "        text-align: right;\n",
       "    }\n",
       "</style>\n",
       "<table border=\"1\" class=\"dataframe\">\n",
       "  <thead>\n",
       "    <tr style=\"text-align: right;\">\n",
       "      <th></th>\n",
       "      <th>month int</th>\n",
       "      <th>month_name</th>\n",
       "      <th>sum</th>\n",
       "      <th>median</th>\n",
       "      <th>mean</th>\n",
       "      <th>std</th>\n",
       "      <th>min</th>\n",
       "      <th>max</th>\n",
       "      <th>min_year</th>\n",
       "      <th>max_year</th>\n",
       "    </tr>\n",
       "  </thead>\n",
       "  <tbody>\n",
       "    <tr>\n",
       "      <th>0</th>\n",
       "      <td>1</td>\n",
       "      <td>Jan</td>\n",
       "      <td>1546.9</td>\n",
       "      <td>57.60</td>\n",
       "      <td>59.50</td>\n",
       "      <td>25.25</td>\n",
       "      <td>17.9</td>\n",
       "      <td>114.4</td>\n",
       "      <td>2000</td>\n",
       "      <td>2021</td>\n",
       "    </tr>\n",
       "    <tr>\n",
       "      <th>1</th>\n",
       "      <td>2</td>\n",
       "      <td>Feb</td>\n",
       "      <td>1407.4</td>\n",
       "      <td>48.75</td>\n",
       "      <td>54.13</td>\n",
       "      <td>27.42</td>\n",
       "      <td>9.7</td>\n",
       "      <td>116.1</td>\n",
       "      <td>2023</td>\n",
       "      <td>2024</td>\n",
       "    </tr>\n",
       "    <tr>\n",
       "      <th>2</th>\n",
       "      <td>3</td>\n",
       "      <td>Mar</td>\n",
       "      <td>1304.3</td>\n",
       "      <td>45.90</td>\n",
       "      <td>50.17</td>\n",
       "      <td>28.31</td>\n",
       "      <td>12.1</td>\n",
       "      <td>114.9</td>\n",
       "      <td>2011</td>\n",
       "      <td>2001</td>\n",
       "    </tr>\n",
       "    <tr>\n",
       "      <th>3</th>\n",
       "      <td>4</td>\n",
       "      <td>Apr</td>\n",
       "      <td>1289.9</td>\n",
       "      <td>43.65</td>\n",
       "      <td>49.61</td>\n",
       "      <td>29.91</td>\n",
       "      <td>5.2</td>\n",
       "      <td>119.2</td>\n",
       "      <td>2011</td>\n",
       "      <td>2000</td>\n",
       "    </tr>\n",
       "    <tr>\n",
       "      <th>4</th>\n",
       "      <td>5</td>\n",
       "      <td>May</td>\n",
       "      <td>1594.8</td>\n",
       "      <td>54.65</td>\n",
       "      <td>61.34</td>\n",
       "      <td>27.45</td>\n",
       "      <td>6.3</td>\n",
       "      <td>110.7</td>\n",
       "      <td>2020</td>\n",
       "      <td>2007</td>\n",
       "    </tr>\n",
       "    <tr>\n",
       "      <th>5</th>\n",
       "      <td>6</td>\n",
       "      <td>Jun</td>\n",
       "      <td>1587.3</td>\n",
       "      <td>49.15</td>\n",
       "      <td>61.05</td>\n",
       "      <td>36.50</td>\n",
       "      <td>8.6</td>\n",
       "      <td>136.8</td>\n",
       "      <td>2018</td>\n",
       "      <td>2012</td>\n",
       "    </tr>\n",
       "    <tr>\n",
       "      <th>6</th>\n",
       "      <td>7</td>\n",
       "      <td>Jul</td>\n",
       "      <td>1693.9</td>\n",
       "      <td>70.20</td>\n",
       "      <td>67.76</td>\n",
       "      <td>24.99</td>\n",
       "      <td>16.3</td>\n",
       "      <td>116.5</td>\n",
       "      <td>2022</td>\n",
       "      <td>2012</td>\n",
       "    </tr>\n",
       "    <tr>\n",
       "      <th>7</th>\n",
       "      <td>8</td>\n",
       "      <td>Aug</td>\n",
       "      <td>1681.8</td>\n",
       "      <td>65.00</td>\n",
       "      <td>67.27</td>\n",
       "      <td>28.14</td>\n",
       "      <td>17.0</td>\n",
       "      <td>125.4</td>\n",
       "      <td>2003</td>\n",
       "      <td>2004</td>\n",
       "    </tr>\n",
       "    <tr>\n",
       "      <th>8</th>\n",
       "      <td>9</td>\n",
       "      <td>Sep</td>\n",
       "      <td>1214.1</td>\n",
       "      <td>47.80</td>\n",
       "      <td>48.56</td>\n",
       "      <td>26.98</td>\n",
       "      <td>15.4</td>\n",
       "      <td>132.4</td>\n",
       "      <td>2003</td>\n",
       "      <td>2024</td>\n",
       "    </tr>\n",
       "    <tr>\n",
       "      <th>9</th>\n",
       "      <td>10</td>\n",
       "      <td>Oct</td>\n",
       "      <td>1730.9</td>\n",
       "      <td>62.40</td>\n",
       "      <td>69.24</td>\n",
       "      <td>33.94</td>\n",
       "      <td>22.3</td>\n",
       "      <td>143.3</td>\n",
       "      <td>2011</td>\n",
       "      <td>2000</td>\n",
       "    </tr>\n",
       "    <tr>\n",
       "      <th>10</th>\n",
       "      <td>11</td>\n",
       "      <td>Nov</td>\n",
       "      <td>1699.2</td>\n",
       "      <td>66.30</td>\n",
       "      <td>67.97</td>\n",
       "      <td>30.09</td>\n",
       "      <td>13.3</td>\n",
       "      <td>119.4</td>\n",
       "      <td>2021</td>\n",
       "      <td>2000</td>\n",
       "    </tr>\n",
       "    <tr>\n",
       "      <th>11</th>\n",
       "      <td>12</td>\n",
       "      <td>Dec</td>\n",
       "      <td>1525.6</td>\n",
       "      <td>57.60</td>\n",
       "      <td>61.02</td>\n",
       "      <td>26.77</td>\n",
       "      <td>10.1</td>\n",
       "      <td>109.7</td>\n",
       "      <td>2016</td>\n",
       "      <td>2002</td>\n",
       "    </tr>\n",
       "  </tbody>\n",
       "</table>\n",
       "</div>"
      ],
      "text/plain": [
       "    month int month_name     sum  median   mean    std   min    max  min_year  \\\n",
       "0           1        Jan  1546.9   57.60  59.50  25.25  17.9  114.4      2000   \n",
       "1           2        Feb  1407.4   48.75  54.13  27.42   9.7  116.1      2023   \n",
       "2           3        Mar  1304.3   45.90  50.17  28.31  12.1  114.9      2011   \n",
       "3           4        Apr  1289.9   43.65  49.61  29.91   5.2  119.2      2011   \n",
       "4           5        May  1594.8   54.65  61.34  27.45   6.3  110.7      2020   \n",
       "5           6        Jun  1587.3   49.15  61.05  36.50   8.6  136.8      2018   \n",
       "6           7        Jul  1693.9   70.20  67.76  24.99  16.3  116.5      2022   \n",
       "7           8        Aug  1681.8   65.00  67.27  28.14  17.0  125.4      2003   \n",
       "8           9        Sep  1214.1   47.80  48.56  26.98  15.4  132.4      2003   \n",
       "9          10        Oct  1730.9   62.40  69.24  33.94  22.3  143.3      2011   \n",
       "10         11        Nov  1699.2   66.30  67.97  30.09  13.3  119.4      2021   \n",
       "11         12        Dec  1525.6   57.60  61.02  26.77  10.1  109.7      2016   \n",
       "\n",
       "    max_year  \n",
       "0       2021  \n",
       "1       2024  \n",
       "2       2001  \n",
       "3       2000  \n",
       "4       2007  \n",
       "5       2012  \n",
       "6       2012  \n",
       "7       2004  \n",
       "8       2024  \n",
       "9       2000  \n",
       "10      2000  \n",
       "11      2002  "
      ]
     },
     "execution_count": 19,
     "metadata": {},
     "output_type": "execute_result"
    }
   ],
   "source": [
    "monthly_stats.reset_index()"
   ]
  },
  {
   "cell_type": "code",
   "execution_count": null,
   "id": "b9c2cb4c",
   "metadata": {},
   "outputs": [],
   "source": []
  },
  {
   "cell_type": "code",
   "execution_count": 9,
   "id": "c35984b6",
   "metadata": {},
   "outputs": [
    {
     "data": {
      "text/html": [
       "<div>\n",
       "<style scoped>\n",
       "    .dataframe tbody tr th:only-of-type {\n",
       "        vertical-align: middle;\n",
       "    }\n",
       "\n",
       "    .dataframe tbody tr th {\n",
       "        vertical-align: top;\n",
       "    }\n",
       "\n",
       "    .dataframe thead th {\n",
       "        text-align: right;\n",
       "    }\n",
       "</style>\n",
       "<table border=\"1\" class=\"dataframe\">\n",
       "  <thead>\n",
       "    <tr style=\"text-align: right;\">\n",
       "      <th></th>\n",
       "      <th>month</th>\n",
       "      <th>month_sum</th>\n",
       "      <th>month_median</th>\n",
       "      <th>month_avg</th>\n",
       "      <th>month_std</th>\n",
       "      <th>month_min</th>\n",
       "      <th>month_max</th>\n",
       "    </tr>\n",
       "  </thead>\n",
       "  <tbody>\n",
       "    <tr>\n",
       "      <th>0</th>\n",
       "      <td>Jan</td>\n",
       "      <td>1546.9</td>\n",
       "      <td>57.6</td>\n",
       "      <td>59.5</td>\n",
       "      <td>25.2</td>\n",
       "      <td>17.9</td>\n",
       "      <td>114.4</td>\n",
       "    </tr>\n",
       "    <tr>\n",
       "      <th>1</th>\n",
       "      <td>Feb</td>\n",
       "      <td>1407.4</td>\n",
       "      <td>48.8</td>\n",
       "      <td>54.1</td>\n",
       "      <td>27.4</td>\n",
       "      <td>9.7</td>\n",
       "      <td>116.1</td>\n",
       "    </tr>\n",
       "    <tr>\n",
       "      <th>2</th>\n",
       "      <td>Mar</td>\n",
       "      <td>1304.3</td>\n",
       "      <td>45.9</td>\n",
       "      <td>50.2</td>\n",
       "      <td>28.3</td>\n",
       "      <td>12.1</td>\n",
       "      <td>114.9</td>\n",
       "    </tr>\n",
       "    <tr>\n",
       "      <th>3</th>\n",
       "      <td>Apr</td>\n",
       "      <td>1289.9</td>\n",
       "      <td>43.6</td>\n",
       "      <td>49.6</td>\n",
       "      <td>29.9</td>\n",
       "      <td>5.2</td>\n",
       "      <td>119.2</td>\n",
       "    </tr>\n",
       "    <tr>\n",
       "      <th>4</th>\n",
       "      <td>May</td>\n",
       "      <td>1594.8</td>\n",
       "      <td>54.6</td>\n",
       "      <td>61.3</td>\n",
       "      <td>27.4</td>\n",
       "      <td>6.3</td>\n",
       "      <td>110.7</td>\n",
       "    </tr>\n",
       "    <tr>\n",
       "      <th>5</th>\n",
       "      <td>Jun</td>\n",
       "      <td>1587.3</td>\n",
       "      <td>49.2</td>\n",
       "      <td>61.0</td>\n",
       "      <td>36.5</td>\n",
       "      <td>8.6</td>\n",
       "      <td>136.8</td>\n",
       "    </tr>\n",
       "    <tr>\n",
       "      <th>6</th>\n",
       "      <td>Jul</td>\n",
       "      <td>1693.9</td>\n",
       "      <td>70.2</td>\n",
       "      <td>67.8</td>\n",
       "      <td>25.0</td>\n",
       "      <td>16.3</td>\n",
       "      <td>116.5</td>\n",
       "    </tr>\n",
       "    <tr>\n",
       "      <th>7</th>\n",
       "      <td>Aug</td>\n",
       "      <td>1681.8</td>\n",
       "      <td>65.0</td>\n",
       "      <td>67.3</td>\n",
       "      <td>28.1</td>\n",
       "      <td>17.0</td>\n",
       "      <td>125.4</td>\n",
       "    </tr>\n",
       "    <tr>\n",
       "      <th>8</th>\n",
       "      <td>Sep</td>\n",
       "      <td>1214.1</td>\n",
       "      <td>47.8</td>\n",
       "      <td>48.6</td>\n",
       "      <td>27.0</td>\n",
       "      <td>15.4</td>\n",
       "      <td>132.4</td>\n",
       "    </tr>\n",
       "    <tr>\n",
       "      <th>9</th>\n",
       "      <td>Oct</td>\n",
       "      <td>1730.9</td>\n",
       "      <td>62.4</td>\n",
       "      <td>69.2</td>\n",
       "      <td>33.9</td>\n",
       "      <td>22.3</td>\n",
       "      <td>143.3</td>\n",
       "    </tr>\n",
       "    <tr>\n",
       "      <th>10</th>\n",
       "      <td>Nov</td>\n",
       "      <td>1699.2</td>\n",
       "      <td>66.3</td>\n",
       "      <td>68.0</td>\n",
       "      <td>30.1</td>\n",
       "      <td>13.3</td>\n",
       "      <td>119.4</td>\n",
       "    </tr>\n",
       "    <tr>\n",
       "      <th>11</th>\n",
       "      <td>Dec</td>\n",
       "      <td>1525.6</td>\n",
       "      <td>57.6</td>\n",
       "      <td>61.0</td>\n",
       "      <td>26.8</td>\n",
       "      <td>10.1</td>\n",
       "      <td>109.7</td>\n",
       "    </tr>\n",
       "  </tbody>\n",
       "</table>\n",
       "</div>"
      ],
      "text/plain": [
       "   month  month_sum  month_median  month_avg  month_std  month_min  month_max\n",
       "0    Jan     1546.9          57.6       59.5       25.2       17.9      114.4\n",
       "1    Feb     1407.4          48.8       54.1       27.4        9.7      116.1\n",
       "2    Mar     1304.3          45.9       50.2       28.3       12.1      114.9\n",
       "3    Apr     1289.9          43.6       49.6       29.9        5.2      119.2\n",
       "4    May     1594.8          54.6       61.3       27.4        6.3      110.7\n",
       "5    Jun     1587.3          49.2       61.0       36.5        8.6      136.8\n",
       "6    Jul     1693.9          70.2       67.8       25.0       16.3      116.5\n",
       "7    Aug     1681.8          65.0       67.3       28.1       17.0      125.4\n",
       "8    Sep     1214.1          47.8       48.6       27.0       15.4      132.4\n",
       "9    Oct     1730.9          62.4       69.2       33.9       22.3      143.3\n",
       "10   Nov     1699.2          66.3       68.0       30.1       13.3      119.4\n",
       "11   Dec     1525.6          57.6       61.0       26.8       10.1      109.7"
      ]
     },
     "execution_count": 9,
     "metadata": {},
     "output_type": "execute_result"
    }
   ],
   "source": [
    "london_monthly_aggregate"
   ]
  },
  {
   "cell_type": "code",
   "execution_count": null,
   "id": "42fd4263",
   "metadata": {},
   "outputs": [],
   "source": []
  },
  {
   "cell_type": "code",
   "execution_count": null,
   "id": "2bce7f7f",
   "metadata": {},
   "outputs": [],
   "source": [
    "london_year_month.head()"
   ]
  },
  {
   "cell_type": "code",
   "execution_count": 47,
   "id": "7208dbc8",
   "metadata": {},
   "outputs": [
    {
     "data": {
      "image/png": "[encoded data removed]",
      "text/plain": [
       "<Figure size 1400x700 with 1 Axes>"
      ]
     },
     "metadata": {},
     "output_type": "display_data"
    }
   ],
   "source": [
    "# This creates a more systematic approach\n",
    "n_years = london_year_month['year'].nunique()\n",
    "colors = sns.color_palette(\"husl\", n_years)  # or \"Set1\", \"Dark2\", etc.\n",
    "\n",
    "sns.set_theme(rc={'figure.figsize':(14.,7.)})\n",
    "# sns.barplot(data = london_year_month, x='year_month', y='tp_monthly_sum', hue = 'year', palette='tab20', legend = False);\n",
    "sns.barplot(data=london_year_month, x='year_month', y='tp_monthly_sum', \n",
    "            hue='year', palette=colors)\n",
    "\n",
    "## Show only every 6th label\n",
    "xticks = london_year_month['year_month'].unique()\n",
    "plt.xticks(\n",
    "    ticks=range(0, len(xticks), 6),\n",
    "    labels=xticks[::6],\n",
    "    rotation=90\n",
    ")\n",
    "\n",
    "plt.xlabel('Year-Month')\n",
    "plt.ylabel('Monthly Total Precipitation (mm)')\n",
    "\n",
    "# Move legend outside and make it horizontal\n",
    "plt.legend(bbox_to_anchor=(0.5, -0.20), loc='upper center', ncol=13)  # Adjust ncol as needed\n",
    "\n",
    "plt.tight_layout()\n",
    "plt.show();"
   ]
  },
  {
   "cell_type": "code",
   "execution_count": null,
   "id": "83f1323b",
   "metadata": {},
   "outputs": [],
   "source": []
  },
  {
   "cell_type": "code",
   "execution_count": 48,
   "id": "0c2b6bcf",
   "metadata": {},
   "outputs": [
    {
     "data": {
      "text/html": [
       "<div>\n",
       "<style scoped>\n",
       "    .dataframe tbody tr th:only-of-type {\n",
       "        vertical-align: middle;\n",
       "    }\n",
       "\n",
       "    .dataframe tbody tr th {\n",
       "        vertical-align: top;\n",
       "    }\n",
       "\n",
       "    .dataframe thead th {\n",
       "        text-align: right;\n",
       "    }\n",
       "</style>\n",
       "<table border=\"1\" class=\"dataframe\">\n",
       "  <thead>\n",
       "    <tr style=\"text-align: right;\">\n",
       "      <th></th>\n",
       "      <th>year</th>\n",
       "      <th>month int</th>\n",
       "      <th>month</th>\n",
       "      <th>tp_monthly_sum</th>\n",
       "      <th>tp_daily_median</th>\n",
       "      <th>tp_daily_avg</th>\n",
       "      <th>tp_daily_std</th>\n",
       "      <th>tp_daily_min</th>\n",
       "      <th>tp_daily_max</th>\n",
       "      <th>year_month</th>\n",
       "    </tr>\n",
       "  </thead>\n",
       "  <tbody>\n",
       "    <tr>\n",
       "      <th>135</th>\n",
       "      <td>2011</td>\n",
       "      <td>4</td>\n",
       "      <td>Apr</td>\n",
       "      <td>5.2</td>\n",
       "      <td>0.0</td>\n",
       "      <td>0.173333</td>\n",
       "      <td>0.418481</td>\n",
       "      <td>0.0</td>\n",
       "      <td>1.9</td>\n",
       "      <td>2011-04</td>\n",
       "    </tr>\n",
       "  </tbody>\n",
       "</table>\n",
       "</div>"
      ],
      "text/plain": [
       "     year  month int month  tp_monthly_sum  tp_daily_median  tp_daily_avg  \\\n",
       "135  2011          4   Apr             5.2              0.0      0.173333   \n",
       "\n",
       "     tp_daily_std  tp_daily_min  tp_daily_max year_month  \n",
       "135      0.418481           0.0           1.9    2011-04  "
      ]
     },
     "execution_count": 48,
     "metadata": {},
     "output_type": "execute_result"
    }
   ],
   "source": [
    "london_year_month[london_year_month['tp_monthly_sum'] == london_year_month['tp_monthly_sum'].min()]"
   ]
  },
  {
   "cell_type": "code",
   "execution_count": 50,
   "id": "e74935a2",
   "metadata": {},
   "outputs": [
    {
     "data": {
      "text/html": [
       "<div>\n",
       "<style scoped>\n",
       "    .dataframe tbody tr th:only-of-type {\n",
       "        vertical-align: middle;\n",
       "    }\n",
       "\n",
       "    .dataframe tbody tr th {\n",
       "        vertical-align: top;\n",
       "    }\n",
       "\n",
       "    .dataframe thead th {\n",
       "        text-align: right;\n",
       "    }\n",
       "</style>\n",
       "<table border=\"1\" class=\"dataframe\">\n",
       "  <thead>\n",
       "    <tr style=\"text-align: right;\">\n",
       "      <th></th>\n",
       "      <th>year</th>\n",
       "      <th>month int</th>\n",
       "      <th>month</th>\n",
       "      <th>tp_monthly_sum</th>\n",
       "      <th>tp_daily_median</th>\n",
       "      <th>tp_daily_avg</th>\n",
       "      <th>tp_daily_std</th>\n",
       "      <th>tp_daily_min</th>\n",
       "      <th>tp_daily_max</th>\n",
       "      <th>year_month</th>\n",
       "    </tr>\n",
       "  </thead>\n",
       "  <tbody>\n",
       "    <tr>\n",
       "      <th>149</th>\n",
       "      <td>2012</td>\n",
       "      <td>6</td>\n",
       "      <td>Jun</td>\n",
       "      <td>0.7</td>\n",
       "      <td>0.0</td>\n",
       "      <td>0.023333</td>\n",
       "      <td>0.089763</td>\n",
       "      <td>0.0</td>\n",
       "      <td>0.4</td>\n",
       "      <td>2012-06</td>\n",
       "    </tr>\n",
       "  </tbody>\n",
       "</table>\n",
       "</div>"
      ],
      "text/plain": [
       "     year  month int month  tp_monthly_sum  tp_daily_median  tp_daily_avg  \\\n",
       "149  2012          6   Jun             0.7              0.0      0.023333   \n",
       "\n",
       "     tp_daily_std  tp_daily_min  tp_daily_max year_month  \n",
       "149      0.089763           0.0           0.4    2012-06  "
      ]
     },
     "execution_count": 50,
     "metadata": {},
     "output_type": "execute_result"
    }
   ],
   "source": [
    "apulia_year_month[apulia_year_month['tp_monthly_sum'] == apulia_year_month['tp_monthly_sum'].min()]"
   ]
  },
  {
   "cell_type": "code",
   "execution_count": 51,
   "id": "408c60b2",
   "metadata": {},
   "outputs": [
    {
     "data": {
      "text/html": [
       "<div>\n",
       "<style scoped>\n",
       "    .dataframe tbody tr th:only-of-type {\n",
       "        vertical-align: middle;\n",
       "    }\n",
       "\n",
       "    .dataframe tbody tr th {\n",
       "        vertical-align: top;\n",
       "    }\n",
       "\n",
       "    .dataframe thead th {\n",
       "        text-align: right;\n",
       "    }\n",
       "</style>\n",
       "<table border=\"1\" class=\"dataframe\">\n",
       "  <thead>\n",
       "    <tr style=\"text-align: right;\">\n",
       "      <th></th>\n",
       "      <th>month</th>\n",
       "      <th>month_sum</th>\n",
       "      <th>month_median</th>\n",
       "      <th>month_avg</th>\n",
       "      <th>month_std</th>\n",
       "      <th>month_min</th>\n",
       "      <th>month_max</th>\n",
       "      <th>min_year</th>\n",
       "      <th>max_year</th>\n",
       "    </tr>\n",
       "  </thead>\n",
       "  <tbody>\n",
       "    <tr>\n",
       "      <th>0</th>\n",
       "      <td>Jan</td>\n",
       "      <td>1546.9</td>\n",
       "      <td>57.60</td>\n",
       "      <td>59.50</td>\n",
       "      <td>25.25</td>\n",
       "      <td>17.9</td>\n",
       "      <td>114.4</td>\n",
       "      <td>2000</td>\n",
       "      <td>2021</td>\n",
       "    </tr>\n",
       "    <tr>\n",
       "      <th>1</th>\n",
       "      <td>Feb</td>\n",
       "      <td>1407.4</td>\n",
       "      <td>48.75</td>\n",
       "      <td>54.13</td>\n",
       "      <td>27.42</td>\n",
       "      <td>9.7</td>\n",
       "      <td>116.1</td>\n",
       "      <td>2023</td>\n",
       "      <td>2024</td>\n",
       "    </tr>\n",
       "    <tr>\n",
       "      <th>2</th>\n",
       "      <td>Mar</td>\n",
       "      <td>1304.3</td>\n",
       "      <td>45.90</td>\n",
       "      <td>50.17</td>\n",
       "      <td>28.31</td>\n",
       "      <td>12.1</td>\n",
       "      <td>114.9</td>\n",
       "      <td>2011</td>\n",
       "      <td>2001</td>\n",
       "    </tr>\n",
       "    <tr>\n",
       "      <th>3</th>\n",
       "      <td>Apr</td>\n",
       "      <td>1289.9</td>\n",
       "      <td>43.65</td>\n",
       "      <td>49.61</td>\n",
       "      <td>29.91</td>\n",
       "      <td>5.2</td>\n",
       "      <td>119.2</td>\n",
       "      <td>2011</td>\n",
       "      <td>2000</td>\n",
       "    </tr>\n",
       "    <tr>\n",
       "      <th>4</th>\n",
       "      <td>May</td>\n",
       "      <td>1594.8</td>\n",
       "      <td>54.65</td>\n",
       "      <td>61.34</td>\n",
       "      <td>27.45</td>\n",
       "      <td>6.3</td>\n",
       "      <td>110.7</td>\n",
       "      <td>2020</td>\n",
       "      <td>2007</td>\n",
       "    </tr>\n",
       "    <tr>\n",
       "      <th>5</th>\n",
       "      <td>Jun</td>\n",
       "      <td>1587.3</td>\n",
       "      <td>49.15</td>\n",
       "      <td>61.05</td>\n",
       "      <td>36.50</td>\n",
       "      <td>8.6</td>\n",
       "      <td>136.8</td>\n",
       "      <td>2018</td>\n",
       "      <td>2012</td>\n",
       "    </tr>\n",
       "    <tr>\n",
       "      <th>6</th>\n",
       "      <td>Jul</td>\n",
       "      <td>1693.9</td>\n",
       "      <td>70.20</td>\n",
       "      <td>67.76</td>\n",
       "      <td>24.99</td>\n",
       "      <td>16.3</td>\n",
       "      <td>116.5</td>\n",
       "      <td>2022</td>\n",
       "      <td>2012</td>\n",
       "    </tr>\n",
       "    <tr>\n",
       "      <th>7</th>\n",
       "      <td>Aug</td>\n",
       "      <td>1681.8</td>\n",
       "      <td>65.00</td>\n",
       "      <td>67.27</td>\n",
       "      <td>28.14</td>\n",
       "      <td>17.0</td>\n",
       "      <td>125.4</td>\n",
       "      <td>2003</td>\n",
       "      <td>2004</td>\n",
       "    </tr>\n",
       "    <tr>\n",
       "      <th>8</th>\n",
       "      <td>Sep</td>\n",
       "      <td>1214.1</td>\n",
       "      <td>47.80</td>\n",
       "      <td>48.56</td>\n",
       "      <td>26.98</td>\n",
       "      <td>15.4</td>\n",
       "      <td>132.4</td>\n",
       "      <td>2003</td>\n",
       "      <td>2024</td>\n",
       "    </tr>\n",
       "    <tr>\n",
       "      <th>9</th>\n",
       "      <td>Oct</td>\n",
       "      <td>1730.9</td>\n",
       "      <td>62.40</td>\n",
       "      <td>69.24</td>\n",
       "      <td>33.94</td>\n",
       "      <td>22.3</td>\n",
       "      <td>143.3</td>\n",
       "      <td>2011</td>\n",
       "      <td>2000</td>\n",
       "    </tr>\n",
       "    <tr>\n",
       "      <th>10</th>\n",
       "      <td>Nov</td>\n",
       "      <td>1699.2</td>\n",
       "      <td>66.30</td>\n",
       "      <td>67.97</td>\n",
       "      <td>30.09</td>\n",
       "      <td>13.3</td>\n",
       "      <td>119.4</td>\n",
       "      <td>2021</td>\n",
       "      <td>2000</td>\n",
       "    </tr>\n",
       "    <tr>\n",
       "      <th>11</th>\n",
       "      <td>Dec</td>\n",
       "      <td>1525.6</td>\n",
       "      <td>57.60</td>\n",
       "      <td>61.02</td>\n",
       "      <td>26.77</td>\n",
       "      <td>10.1</td>\n",
       "      <td>109.7</td>\n",
       "      <td>2016</td>\n",
       "      <td>2002</td>\n",
       "    </tr>\n",
       "  </tbody>\n",
       "</table>\n",
       "</div>"
      ],
      "text/plain": [
       "   month  month_sum  month_median  month_avg  month_std  month_min  month_max  \\\n",
       "0    Jan     1546.9         57.60      59.50      25.25       17.9      114.4   \n",
       "1    Feb     1407.4         48.75      54.13      27.42        9.7      116.1   \n",
       "2    Mar     1304.3         45.90      50.17      28.31       12.1      114.9   \n",
       "3    Apr     1289.9         43.65      49.61      29.91        5.2      119.2   \n",
       "4    May     1594.8         54.65      61.34      27.45        6.3      110.7   \n",
       "5    Jun     1587.3         49.15      61.05      36.50        8.6      136.8   \n",
       "6    Jul     1693.9         70.20      67.76      24.99       16.3      116.5   \n",
       "7    Aug     1681.8         65.00      67.27      28.14       17.0      125.4   \n",
       "8    Sep     1214.1         47.80      48.56      26.98       15.4      132.4   \n",
       "9    Oct     1730.9         62.40      69.24      33.94       22.3      143.3   \n",
       "10   Nov     1699.2         66.30      67.97      30.09       13.3      119.4   \n",
       "11   Dec     1525.6         57.60      61.02      26.77       10.1      109.7   \n",
       "\n",
       "    min_year  max_year  \n",
       "0       2000      2021  \n",
       "1       2023      2024  \n",
       "2       2011      2001  \n",
       "3       2011      2000  \n",
       "4       2020      2007  \n",
       "5       2018      2012  \n",
       "6       2022      2012  \n",
       "7       2003      2004  \n",
       "8       2003      2024  \n",
       "9       2011      2000  \n",
       "10      2021      2000  \n",
       "11      2016      2002  "
      ]
     },
     "execution_count": 51,
     "metadata": {},
     "output_type": "execute_result"
    }
   ],
   "source": [
    "london_monthly_aggregate"
   ]
  },
  {
   "cell_type": "code",
   "execution_count": 52,
   "id": "770eee40",
   "metadata": {},
   "outputs": [
    {
     "data": {
      "text/html": [
       "<div>\n",
       "<style scoped>\n",
       "    .dataframe tbody tr th:only-of-type {\n",
       "        vertical-align: middle;\n",
       "    }\n",
       "\n",
       "    .dataframe tbody tr th {\n",
       "        vertical-align: top;\n",
       "    }\n",
       "\n",
       "    .dataframe thead th {\n",
       "        text-align: right;\n",
       "    }\n",
       "</style>\n",
       "<table border=\"1\" class=\"dataframe\">\n",
       "  <thead>\n",
       "    <tr style=\"text-align: right;\">\n",
       "      <th></th>\n",
       "      <th>month</th>\n",
       "      <th>month_sum</th>\n",
       "      <th>month_median</th>\n",
       "      <th>month_avg</th>\n",
       "      <th>month_std</th>\n",
       "      <th>month_min</th>\n",
       "      <th>month_max</th>\n",
       "      <th>min_year</th>\n",
       "      <th>max_year</th>\n",
       "    </tr>\n",
       "  </thead>\n",
       "  <tbody>\n",
       "    <tr>\n",
       "      <th>0</th>\n",
       "      <td>Jan</td>\n",
       "      <td>1620.6</td>\n",
       "      <td>60.05</td>\n",
       "      <td>62.33</td>\n",
       "      <td>36.29</td>\n",
       "      <td>9.7</td>\n",
       "      <td>165.5</td>\n",
       "      <td>2020</td>\n",
       "      <td>2009</td>\n",
       "    </tr>\n",
       "    <tr>\n",
       "      <th>1</th>\n",
       "      <td>Feb</td>\n",
       "      <td>1477.3</td>\n",
       "      <td>55.75</td>\n",
       "      <td>56.82</td>\n",
       "      <td>28.41</td>\n",
       "      <td>11.8</td>\n",
       "      <td>126.8</td>\n",
       "      <td>2023</td>\n",
       "      <td>2012</td>\n",
       "    </tr>\n",
       "    <tr>\n",
       "      <th>2</th>\n",
       "      <td>Mar</td>\n",
       "      <td>1690.9</td>\n",
       "      <td>62.45</td>\n",
       "      <td>65.03</td>\n",
       "      <td>29.25</td>\n",
       "      <td>18.2</td>\n",
       "      <td>125.9</td>\n",
       "      <td>2001</td>\n",
       "      <td>2016</td>\n",
       "    </tr>\n",
       "    <tr>\n",
       "      <th>3</th>\n",
       "      <td>Apr</td>\n",
       "      <td>1495.0</td>\n",
       "      <td>53.45</td>\n",
       "      <td>57.50</td>\n",
       "      <td>24.50</td>\n",
       "      <td>16.5</td>\n",
       "      <td>116.8</td>\n",
       "      <td>2018</td>\n",
       "      <td>2009</td>\n",
       "    </tr>\n",
       "    <tr>\n",
       "      <th>4</th>\n",
       "      <td>May</td>\n",
       "      <td>1209.3</td>\n",
       "      <td>40.00</td>\n",
       "      <td>46.51</td>\n",
       "      <td>27.11</td>\n",
       "      <td>11.8</td>\n",
       "      <td>122.5</td>\n",
       "      <td>2021</td>\n",
       "      <td>2023</td>\n",
       "    </tr>\n",
       "    <tr>\n",
       "      <th>5</th>\n",
       "      <td>Jun</td>\n",
       "      <td>864.3</td>\n",
       "      <td>31.40</td>\n",
       "      <td>33.24</td>\n",
       "      <td>22.93</td>\n",
       "      <td>0.7</td>\n",
       "      <td>80.9</td>\n",
       "      <td>2012</td>\n",
       "      <td>2004</td>\n",
       "    </tr>\n",
       "    <tr>\n",
       "      <th>6</th>\n",
       "      <td>Jul</td>\n",
       "      <td>527.0</td>\n",
       "      <td>19.60</td>\n",
       "      <td>21.08</td>\n",
       "      <td>16.78</td>\n",
       "      <td>2.5</td>\n",
       "      <td>78.0</td>\n",
       "      <td>2007</td>\n",
       "      <td>2002</td>\n",
       "    </tr>\n",
       "    <tr>\n",
       "      <th>7</th>\n",
       "      <td>Aug</td>\n",
       "      <td>570.9</td>\n",
       "      <td>16.30</td>\n",
       "      <td>22.84</td>\n",
       "      <td>19.86</td>\n",
       "      <td>2.0</td>\n",
       "      <td>71.8</td>\n",
       "      <td>2012</td>\n",
       "      <td>2018</td>\n",
       "    </tr>\n",
       "    <tr>\n",
       "      <th>8</th>\n",
       "      <td>Sep</td>\n",
       "      <td>1455.3</td>\n",
       "      <td>57.10</td>\n",
       "      <td>58.21</td>\n",
       "      <td>30.54</td>\n",
       "      <td>11.4</td>\n",
       "      <td>141.9</td>\n",
       "      <td>2013</td>\n",
       "      <td>2016</td>\n",
       "    </tr>\n",
       "    <tr>\n",
       "      <th>9</th>\n",
       "      <td>Oct</td>\n",
       "      <td>1682.9</td>\n",
       "      <td>51.00</td>\n",
       "      <td>67.32</td>\n",
       "      <td>42.42</td>\n",
       "      <td>20.4</td>\n",
       "      <td>162.8</td>\n",
       "      <td>2008</td>\n",
       "      <td>2010</td>\n",
       "    </tr>\n",
       "    <tr>\n",
       "      <th>10</th>\n",
       "      <td>Nov</td>\n",
       "      <td>1958.6</td>\n",
       "      <td>74.80</td>\n",
       "      <td>78.34</td>\n",
       "      <td>38.30</td>\n",
       "      <td>18.8</td>\n",
       "      <td>150.9</td>\n",
       "      <td>2006</td>\n",
       "      <td>2013</td>\n",
       "    </tr>\n",
       "    <tr>\n",
       "      <th>11</th>\n",
       "      <td>Dec</td>\n",
       "      <td>1680.3</td>\n",
       "      <td>64.90</td>\n",
       "      <td>67.21</td>\n",
       "      <td>40.14</td>\n",
       "      <td>3.1</td>\n",
       "      <td>152.5</td>\n",
       "      <td>2015</td>\n",
       "      <td>2002</td>\n",
       "    </tr>\n",
       "  </tbody>\n",
       "</table>\n",
       "</div>"
      ],
      "text/plain": [
       "   month  month_sum  month_median  month_avg  month_std  month_min  month_max  \\\n",
       "0    Jan     1620.6         60.05      62.33      36.29        9.7      165.5   \n",
       "1    Feb     1477.3         55.75      56.82      28.41       11.8      126.8   \n",
       "2    Mar     1690.9         62.45      65.03      29.25       18.2      125.9   \n",
       "3    Apr     1495.0         53.45      57.50      24.50       16.5      116.8   \n",
       "4    May     1209.3         40.00      46.51      27.11       11.8      122.5   \n",
       "5    Jun      864.3         31.40      33.24      22.93        0.7       80.9   \n",
       "6    Jul      527.0         19.60      21.08      16.78        2.5       78.0   \n",
       "7    Aug      570.9         16.30      22.84      19.86        2.0       71.8   \n",
       "8    Sep     1455.3         57.10      58.21      30.54       11.4      141.9   \n",
       "9    Oct     1682.9         51.00      67.32      42.42       20.4      162.8   \n",
       "10   Nov     1958.6         74.80      78.34      38.30       18.8      150.9   \n",
       "11   Dec     1680.3         64.90      67.21      40.14        3.1      152.5   \n",
       "\n",
       "    min_year  max_year  \n",
       "0       2020      2009  \n",
       "1       2023      2012  \n",
       "2       2001      2016  \n",
       "3       2018      2009  \n",
       "4       2021      2023  \n",
       "5       2012      2004  \n",
       "6       2007      2002  \n",
       "7       2012      2018  \n",
       "8       2013      2016  \n",
       "9       2008      2010  \n",
       "10      2006      2013  \n",
       "11      2015      2002  "
      ]
     },
     "execution_count": 52,
     "metadata": {},
     "output_type": "execute_result"
    }
   ],
   "source": [
    "apulia_monthly_aggregate"
   ]
  },
  {
   "cell_type": "code",
   "execution_count": null,
   "id": "e7514c87",
   "metadata": {},
   "outputs": [],
   "source": []
  },
  {
   "cell_type": "code",
   "execution_count": 53,
   "id": "88830bbe",
   "metadata": {},
   "outputs": [],
   "source": [
    "# # year for each monthly minimum London\n",
    "# label = 'month_min'\n",
    "# year_label = 'year_min'\n",
    "# london_month_year_min = (london_year_month[['year','month', 'tp_monthly_sum']]\n",
    "#  .merge(london_monthly_aggregate[label], how='inner', left_on='tp_monthly_sum', right_on=label)\n",
    "#  .sort_values('month')\n",
    "#  .rename(columns = {'year': year_label})\n",
    "#  .reset_index(drop = True)\n",
    "# )[['month','tp_monthly_sum',year_label]]\n",
    "\n",
    "# # year for each monthly maximum London\n",
    "# label = 'month_max'\n",
    "# year_label = 'year_max'\n",
    "# london_month_year_max = (london_year_month[['year','month', 'tp_monthly_sum']]\n",
    "#  .merge(london_monthly_aggregate[label], how='inner', left_on='tp_monthly_sum', right_on=label)\n",
    "#  .sort_values('month')\n",
    "#  .rename(columns = {'year': year_label})\n",
    "#  .reset_index(drop = True)\n",
    "# )[['month','tp_monthly_sum',year_label]]\n",
    "\n",
    "# # year for each monthly minimum Apulia\n",
    "# label = 'month_min'\n",
    "# year_label = 'year_min'\n",
    "# apulia_month_year_min = (apulia_year_month[['year','month', 'tp_monthly_sum']]\n",
    "#  .merge(apulia_monthly_aggregate[label], how='inner', left_on='tp_monthly_sum', right_on=label)\n",
    "#  .sort_values('month')\n",
    "#  .rename(columns = {'year': year_label})\n",
    "#  .reset_index(drop = True)\n",
    "# )[['month','tp_monthly_sum',year_label]]\n",
    "\n",
    "# # year for each monthly maximum Apulia\n",
    "# label = 'month_max'\n",
    "# year_label = 'year_max'\n",
    "# apulia_month_year_max = (apulia_year_month[['year','month', 'tp_monthly_sum']]\n",
    "#  .merge(apulia_monthly_aggregate[label], how='inner', left_on='tp_monthly_sum', right_on=label)\n",
    "#  .sort_values('month')\n",
    "#  .rename(columns = {'year': year_label})\n",
    "#  .reset_index(drop = True)\n",
    "# )[['month','tp_monthly_sum',year_label]]\n"
   ]
  },
  {
   "cell_type": "code",
   "execution_count": 54,
   "id": "b58439cd",
   "metadata": {},
   "outputs": [],
   "source": [
    "# def tp_monthly_sum_year_minmax(df_monthly_aggregate, df_year_month):\n",
    "#     \"\"\"\n",
    "#     This function returns two dataframes containing the years in which \n",
    "#     the minimum and maximum monthly total precipitation occurred.\n",
    "#     \"\"\"\n",
    "    \n",
    "#     # min\n",
    "#     label = 'month_min'\n",
    "#     year_label = 'year_min'\n",
    "#     df_month_year_min = (df_year_month[['year','month', 'tp_monthly_sum']]\n",
    "#                          .merge(df_monthly_aggregate[label], how='inner', left_on='tp_monthly_sum', right_on=label)\n",
    "#                          .sort_values('month')\n",
    "#                          .rename(columns = {'year': year_label})\n",
    "#                          .reset_index(drop = True)\n",
    "#                          )[['month','tp_monthly_sum',year_label]]\n",
    "    \n",
    "#     # max\n",
    "#     label = 'month_max'\n",
    "#     year_label = 'year_max'\n",
    "#     df_month_year_max = (df_year_month[['year','month', 'tp_monthly_sum']]\n",
    "#                          .merge(df_monthly_aggregate[label], how='inner', left_on='tp_monthly_sum', right_on=label)\n",
    "#                          .sort_values('month')\n",
    "#                          .rename(columns = {'year': year_label})\n",
    "#                          .reset_index(drop = True)\n",
    "#                          )[['month','tp_monthly_sum',year_label]]\n",
    "    \n",
    "#     return df_month_year_min, df_month_year_max\n",
    "    "
   ]
  },
  {
   "cell_type": "code",
   "execution_count": 55,
   "id": "b89192f8",
   "metadata": {},
   "outputs": [],
   "source": [
    "# test_london_month_year_min, test_london_month_year_max = tp_monthly_sum_year_minmax(london_monthly_aggregate, london_year_month)"
   ]
  },
  {
   "cell_type": "code",
   "execution_count": 56,
   "id": "35f50ccb",
   "metadata": {},
   "outputs": [],
   "source": [
    "# def merge_monthly_aggregate_with_minmax(df_monthly_aggregate, df_year_min, df_year_max):\n",
    "#     \"\"\"\n",
    "#     This function merges the monthly aggregate with dataframes containing the years \n",
    "#     where the minimum and maximum monthly total precipitation occurrred\n",
    "#     \"\"\"\n",
    "#     df_merged = df_monthly_aggregate.merge(\n",
    "#         df_year_min,\n",
    "#         left_on=['month', 'month_min'],\n",
    "#         right_on=['month', 'tp_monthly_sum'],\n",
    "#         how='left'\n",
    "#         )\n",
    "\n",
    "#     df_merged.drop(columns=['tp_monthly_sum'], inplace=True)\n",
    "\n",
    "#     df_final = df_merged.merge(\n",
    "#         df_year_max,\n",
    "#         left_on=['month', 'month_max'],\n",
    "#         right_on=['month', 'tp_monthly_sum'],\n",
    "#         how='left'\n",
    "#         )\n",
    "\n",
    "#     df_final.drop(columns=['tp_monthly_sum'], inplace=True)\n",
    "#     return(df_final)"
   ]
  },
  {
   "cell_type": "code",
   "execution_count": 57,
   "id": "a409a012",
   "metadata": {},
   "outputs": [],
   "source": [
    "# test = merge_monthly_aggregate_with_minmax(london_monthly_aggregate, test_london_month_year_min, test_london_month_year_max)\n",
    "# test"
   ]
  },
  {
   "cell_type": "code",
   "execution_count": null,
   "id": "acbd3298",
   "metadata": {},
   "outputs": [],
   "source": []
  },
  {
   "cell_type": "markdown",
   "id": "2c730481",
   "metadata": {
    "vscode": {
     "languageId": "markdown"
    }
   },
   "source": [
    "## Min and Max years analysis"
   ]
  },
  {
   "cell_type": "markdown",
   "id": "a1508e13",
   "metadata": {},
   "source": [
    "We now want to create a column that, for each max and month, indicatest in which year it happened."
   ]
  },
  {
   "cell_type": "code",
   "execution_count": null,
   "id": "cca2d616",
   "metadata": {},
   "outputs": [],
   "source": [
    "london_daily = create_daily_rainfall_dataframe(location='london', debug=False)\n",
    "apulia_daily = create_daily_rainfall_dataframe(location='puglia', debug=False)"
   ]
  },
  {
   "cell_type": "code",
   "execution_count": null,
   "id": "553a43ec",
   "metadata": {},
   "outputs": [],
   "source": [
    "london_daily = transform_data_datetime(london_daily)\n",
    "\n",
    "# Averaging measurements for all points in the grid\n",
    "london_daily_mean = (london_daily\n",
    "                    .groupby('time_dt')['tp_mm']\n",
    "                    .mean()\n",
    "                    ).reset_index()\n",
    "\n",
    "# creating year, month, day colums\n",
    "london_daily_mean = transform_data_datetime(london_daily_mean)\n",
    "# thresholding and rounding tp_mm values\n",
    "london_daily_mean['tp_mm'] = thresholding_and_rounding(london_daily_mean['tp_mm'])"
   ]
  },
  {
   "cell_type": "code",
   "execution_count": null,
   "id": "e6c5d157",
   "metadata": {},
   "outputs": [],
   "source": [
    "london_daily_mean.head()"
   ]
  },
  {
   "cell_type": "code",
   "execution_count": null,
   "id": "77b8588b",
   "metadata": {},
   "outputs": [],
   "source": [
    "london_year_month = (london_daily_mean\n",
    "                        .groupby(['year', 'month int'])\n",
    "                        .agg(\n",
    "                            month = ('month', 'first'),\n",
    "                            tp_monthly_sum = ('tp_mm', 'sum'),\n",
    "                            tp_daily_median = ('tp_mm', 'median'),\n",
    "                            tp_daily_avg = ('tp_mm', 'mean'),\n",
    "                            tp_daily_std = ('tp_mm', 'std'),\n",
    "                            tp_daily_min = ('tp_mm', 'min'),\n",
    "                            tp_daily_max = ('tp_mm', 'max')\n",
    "                            ).reset_index()\n",
    "                            )\n"
   ]
  },
  {
   "cell_type": "code",
   "execution_count": null,
   "id": "ff3ae269",
   "metadata": {},
   "outputs": [],
   "source": [
    "london_monthly_tp = (london_year_month\n",
    "                         .groupby('month', observed=True)\n",
    "                         .agg(\n",
    "                             month_sum = ('tp_monthly_sum', 'sum'),\n",
    "                             month_median = ('tp_monthly_sum', 'median'),\n",
    "                             month_avg = ('tp_monthly_sum', 'mean'),\n",
    "                             month_std = ('tp_monthly_sum', 'std'),\n",
    "                             month_min = ('tp_monthly_sum', 'min'),\n",
    "                             month_max = ('tp_monthly_sum', 'max')\n",
    "                             )\n",
    "                             .reset_index()\n",
    "                             )"
   ]
  },
  {
   "cell_type": "code",
   "execution_count": null,
   "id": "bd3daecf",
   "metadata": {},
   "outputs": [],
   "source": [
    "london_monthly_tp"
   ]
  },
  {
   "cell_type": "code",
   "execution_count": null,
   "id": "add93666",
   "metadata": {},
   "outputs": [],
   "source": [
    "london_year_month[['year','month', 'tp_monthly_sum']].merge(london_monthly_tp['month_min'], how='inner', left_on='tp_monthly_sum', right_on='month_min').sort_values('month')"
   ]
  },
  {
   "cell_type": "code",
   "execution_count": null,
   "id": "ca04cb7d",
   "metadata": {},
   "outputs": [],
   "source": [
    "london_year_month[['year','month', 'tp_monthly_sum']].merge(london_monthly_tp['month_max'], how='inner', left_on='tp_monthly_sum', right_on='month_max').sort_values('month')"
   ]
  },
  {
   "cell_type": "code",
   "execution_count": null,
   "id": "7c682559",
   "metadata": {},
   "outputs": [],
   "source": []
  },
  {
   "cell_type": "code",
   "execution_count": null,
   "id": "b907fae3",
   "metadata": {},
   "outputs": [],
   "source": []
  },
  {
   "cell_type": "code",
   "execution_count": null,
   "id": "b828eda3",
   "metadata": {},
   "outputs": [],
   "source": [
    "london_monthly_aggregate = create_monthly_aggregate(debug=True)\n",
    "apulia_monthly_aggregate = create_monthly_aggregate('puglia', debug=True)"
   ]
  },
  {
   "cell_type": "code",
   "execution_count": null,
   "id": "83e85269",
   "metadata": {},
   "outputs": [],
   "source": [
    "london_monthly_aggregate.to_parquet('../streamlit/data/london_monthly_aggregate.parquet')\n",
    "apulia_monthly_aggregate.to_parquet('../streamlit/data/apulia_monthly_aggregate.parquet')"
   ]
  },
  {
   "cell_type": "code",
   "execution_count": null,
   "id": "b015ca32",
   "metadata": {},
   "outputs": [],
   "source": [
    "london_monthly_aggregate.head()"
   ]
  },
  {
   "cell_type": "code",
   "execution_count": null,
   "id": "a7c30ed3",
   "metadata": {},
   "outputs": [],
   "source": [
    "london_monthly_aggregate[london_monthly_aggregate['month_avg'] == london_monthly_aggregate['month_avg'].max()]"
   ]
  },
  {
   "cell_type": "code",
   "execution_count": null,
   "id": "7dee9677",
   "metadata": {},
   "outputs": [],
   "source": []
  },
  {
   "cell_type": "code",
   "execution_count": null,
   "id": "f0c87bf9",
   "metadata": {},
   "outputs": [],
   "source": []
  },
  {
   "cell_type": "code",
   "execution_count": null,
   "id": "f9eb640a",
   "metadata": {},
   "outputs": [],
   "source": []
  },
  {
   "cell_type": "code",
   "execution_count": null,
   "id": "7ffb1610",
   "metadata": {},
   "outputs": [],
   "source": []
  },
  {
   "cell_type": "code",
   "execution_count": null,
   "id": "096ba048",
   "metadata": {},
   "outputs": [],
   "source": [
    "apulia_monthly_aggregate"
   ]
  },
  {
   "cell_type": "code",
   "execution_count": 58,
   "id": "8eba767b",
   "metadata": {},
   "outputs": [
    {
     "name": "stdout",
     "output_type": "stream",
     "text": [
      "month_avg\n"
     ]
    },
    {
     "data": {
      "image/png": "[encoded data removed]",
      "text/plain": [
       "<Figure size 1000x400 with 1 Axes>"
      ]
     },
     "metadata": {},
     "output_type": "display_data"
    }
   ],
   "source": [
    "plot_monthly_aggregate_static(apulia_monthly_aggregate, 'Mean')"
   ]
  },
  {
   "cell_type": "code",
   "execution_count": null,
   "id": "05fb9d6a",
   "metadata": {},
   "outputs": [],
   "source": [
    "plot_monthly_aggregate_static(london_monthly_aggregate, 'Mean')"
   ]
  },
  {
   "cell_type": "code",
   "execution_count": 59,
   "id": "7048daf6",
   "metadata": {},
   "outputs": [],
   "source": [
    "import plotly.graph_objects as go\n",
    "\n",
    "\n",
    "def plot_monthly_aggregate_dynamic(df_plot, \n",
    "                                   feature_label = 'Mean', \n",
    "                                   bar_width = 0.35, \n",
    "                                   location = 'London',\n",
    "                                   fig_width = 800,\n",
    "                                   fig_height = 400):\n",
    "    # Create figure\n",
    "    fig = go.Figure()\n",
    "\n",
    "    label_dict = {'Mean':'month_avg', 'Median':'month_median', 'Sum':'month_sum', 'Avg' :'month_avg', 'Average':'month_avg'}\n",
    "    feature = label_dict[feature_label]\n",
    "\n",
    "    months = df_plot['month'].values\n",
    "    mean_precip = df_plot[feature].values\n",
    "    min_precip = df_plot['month_min'].values\n",
    "    max_precip = df_plot['month_max'].values\n",
    "\n",
    "\n",
    "    # Add min-max range as a filled area\n",
    "    months = ['Jan', 'Feb', 'Mar', 'Apr', 'May', 'Jun',\n",
    "            'Jul', 'Aug', 'Sep', 'Oct', 'Nov', 'Dec']\n",
    "\n",
    "    fig.add_trace(go.Scatter(\n",
    "        x=months + months[::-1],  # x: Jan to Dec and back from Dec to Jan\n",
    "        y=list(max_precip) + list(min_precip[::-1]),  # Upper bound + lower bound reversed\n",
    "        fill='toself',\n",
    "        fillcolor='rgba(135, 206, 250, 0.4)',  # Light blue with transparency\n",
    "        line=dict(color='rgba(255,255,255,0)'),  # No line\n",
    "        hoverinfo=\"skip\",\n",
    "        showlegend=True,\n",
    "        name='Min-Max Range'\n",
    "    ))\n",
    "\n",
    "    # Add mean line\n",
    "    # fig.add_trace(go.Scatter(\n",
    "    #     x=months,\n",
    "    #     y=mean_precip,\n",
    "    #     mode='lines+markers',\n",
    "    #     name='Mean Precipitation',\n",
    "    #     line=dict(color='blue'),\n",
    "    #     marker=dict(size=6)\n",
    "    # ))\n",
    "\n",
    "    fig.add_trace(go.Bar(\n",
    "        x = months,\n",
    "        y = mean_precip,\n",
    "        name='Mean Precipitation',\n",
    "        marker=dict(\n",
    "            color='blue',\n",
    "            line=dict(width=0),\n",
    "            opacity=0.9\n",
    "        ),\n",
    "        width=bar_width\n",
    "    ))\n",
    "\n",
    "    # Layout\n",
    "    fig.update_layout(\n",
    "        title = f\"Monthly {feature_label} Rainfall with Min-Max Range in {location}\",\n",
    "        xaxis_title='Month',\n",
    "        yaxis_title='Precipitation (mm)',\n",
    "        template='plotly_white',\n",
    "        hovermode=\"x unified\",\n",
    "        barmode='overlay',\n",
    "        barcornerradius=8,\n",
    "        width=fig_width,\n",
    "        height=fig_height,\n",
    "    )\n",
    "\n",
    "    return(fig)"
   ]
  },
  {
   "cell_type": "code",
   "execution_count": 60,
   "id": "22147a96",
   "metadata": {},
   "outputs": [
    {
     "data": {
      "application/vnd.plotly.v1+json": {
       "config": {
        "plotlyServerURL": "https://plot.ly"
       },
       "data": [
        {
         "fill": "toself",
         "fillcolor": "rgba(135, 206, 250, 0.4)",
         "hoverinfo": "skip",
         "line": {
          "color": "rgba(255,255,255,0)"
         },
         "name": "Min-Max Range",
         "showlegend": true,
         "type": "scatter",
         "x": [
          "Jan",
          "Feb",
          "Mar",
          "Apr",
          "May",
          "Jun",
          "Jul",
          "Aug",
          "Sep",
          "Oct",
          "Nov",
          "Dec",
          "Dec",
          "Nov",
          "Oct",
          "Sep",
          "Aug",
          "Jul",
          "Jun",
          "May",
          "Apr",
          "Mar",
          "Feb",
          "Jan"
         ],
         "y": [
          114.4,
          116.1,
          114.9,
          119.2,
          110.7,
          136.8,
          116.5,
          125.4,
          132.4,
          143.3,
          119.4,
          109.7,
          10.1,
          13.3,
          22.3,
          15.4,
          17,
          16.3,
          8.6,
          6.3,
          5.2,
          12.1,
          9.7,
          17.9
         ]
        },
        {
         "marker": {
          "color": "blue",
          "line": {
           "width": 0
          },
          "opacity": 0.9
         },
         "name": "Mean Precipitation",
         "type": "bar",
         "width": 0.65,
         "x": [
          "Jan",
          "Feb",
          "Mar",
          "Apr",
          "May",
          "Jun",
          "Jul",
          "Aug",
          "Sep",
          "Oct",
          "Nov",
          "Dec"
         ],
         "y": [
          59.5,
          54.13,
          50.17,
          49.61,
          61.34,
          61.05,
          67.76,
          67.27,
          48.56,
          69.24,
          67.97,
          61.02
         ]
        }
       ],
       "layout": {
        "barcornerradius": 8,
        "barmode": "overlay",
        "height": 600,
        "hovermode": "x unified",
        "template": {
         "data": {
          "bar": [
           {
            "error_x": {
             "color": "#2a3f5f"
            },
            "error_y": {
             "color": "#2a3f5f"
            },
            "marker": {
             "line": {
              "color": "white",
              "width": 0.5
             },
             "pattern": {
              "fillmode": "overlay",
              "size": 10,
              "solidity": 0.2
             }
            },
            "type": "bar"
           }
          ],
          "barpolar": [
           {
            "marker": {
             "line": {
              "color": "white",
              "width": 0.5
             },
             "pattern": {
              "fillmode": "overlay",
              "size": 10,
              "solidity": 0.2
             }
            },
            "type": "barpolar"
           }
          ],
          "carpet": [
           {
            "aaxis": {
             "endlinecolor": "#2a3f5f",
             "gridcolor": "#C8D4E3",
             "linecolor": "#C8D4E3",
             "minorgridcolor": "#C8D4E3",
             "startlinecolor": "#2a3f5f"
            },
            "baxis": {
             "endlinecolor": "#2a3f5f",
             "gridcolor": "#C8D4E3",
             "linecolor": "#C8D4E3",
             "minorgridcolor": "#C8D4E3",
             "startlinecolor": "#2a3f5f"
            },
            "type": "carpet"
           }
          ],
          "choropleth": [
           {
            "colorbar": {
             "outlinewidth": 0,
             "ticks": ""
            },
            "type": "choropleth"
           }
          ],
          "contour": [
           {
            "colorbar": {
             "outlinewidth": 0,
             "ticks": ""
            },
            "colorscale": [
             [
              0,
              "#0d0887"
             ],
             [
              0.1111111111111111,
              "#46039f"
             ],
             [
              0.2222222222222222,
              "#7201a8"
             ],
             [
              0.3333333333333333,
              "#9c179e"
             ],
             [
              0.4444444444444444,
              "#bd3786"
             ],
             [
              0.5555555555555556,
              "#d8576b"
             ],
             [
              0.6666666666666666,
              "#ed7953"
             ],
             [
              0.7777777777777778,
              "#fb9f3a"
             ],
             [
              0.8888888888888888,
              "#fdca26"
             ],
             [
              1,
              "#f0f921"
             ]
            ],
            "type": "contour"
           }
          ],
          "contourcarpet": [
           {
            "colorbar": {
             "outlinewidth": 0,
             "ticks": ""
            },
            "type": "contourcarpet"
           }
          ],
          "heatmap": [
           {
            "colorbar": {
             "outlinewidth": 0,
             "ticks": ""
            },
            "colorscale": [
             [
              0,
              "#0d0887"
             ],
             [
              0.1111111111111111,
              "#46039f"
             ],
             [
              0.2222222222222222,
              "#7201a8"
             ],
             [
              0.3333333333333333,
              "#9c179e"
             ],
             [
              0.4444444444444444,
              "#bd3786"
             ],
             [
              0.5555555555555556,
              "#d8576b"
             ],
             [
              0.6666666666666666,
              "#ed7953"
             ],
             [
              0.7777777777777778,
              "#fb9f3a"
             ],
             [
              0.8888888888888888,
              "#fdca26"
             ],
             [
              1,
              "#f0f921"
             ]
            ],
            "type": "heatmap"
           }
          ],
          "heatmapgl": [
           {
            "colorbar": {
             "outlinewidth": 0,
             "ticks": ""
            },
            "colorscale": [
             [
              0,
              "#0d0887"
             ],
             [
              0.1111111111111111,
              "#46039f"
             ],
             [
              0.2222222222222222,
              "#7201a8"
             ],
             [
              0.3333333333333333,
              "#9c179e"
             ],
             [
              0.4444444444444444,
              "#bd3786"
             ],
             [
              0.5555555555555556,
              "#d8576b"
             ],
             [
              0.6666666666666666,
              "#ed7953"
             ],
             [
              0.7777777777777778,
              "#fb9f3a"
             ],
             [
              0.8888888888888888,
              "#fdca26"
             ],
             [
              1,
              "#f0f921"
             ]
            ],
            "type": "heatmapgl"
           }
          ],
          "histogram": [
           {
            "marker": {
             "pattern": {
              "fillmode": "overlay",
              "size": 10,
              "solidity": 0.2
             }
            },
            "type": "histogram"
           }
          ],
          "histogram2d": [
           {
            "colorbar": {
             "outlinewidth": 0,
             "ticks": ""
            },
            "colorscale": [
             [
              0,
              "#0d0887"
             ],
             [
              0.1111111111111111,
              "#46039f"
             ],
             [
              0.2222222222222222,
              "#7201a8"
             ],
             [
              0.3333333333333333,
              "#9c179e"
             ],
             [
              0.4444444444444444,
              "#bd3786"
             ],
             [
              0.5555555555555556,
              "#d8576b"
             ],
             [
              0.6666666666666666,
              "#ed7953"
             ],
             [
              0.7777777777777778,
              "#fb9f3a"
             ],
             [
              0.8888888888888888,
              "#fdca26"
             ],
             [
              1,
              "#f0f921"
             ]
            ],
            "type": "histogram2d"
           }
          ],
          "histogram2dcontour": [
           {
            "colorbar": {
             "outlinewidth": 0,
             "ticks": ""
            },
            "colorscale": [
             [
              0,
              "#0d0887"
             ],
             [
              0.1111111111111111,
              "#46039f"
             ],
             [
              0.2222222222222222,
              "#7201a8"
             ],
             [
              0.3333333333333333,
              "#9c179e"
             ],
             [
              0.4444444444444444,
              "#bd3786"
             ],
             [
              0.5555555555555556,
              "#d8576b"
             ],
             [
              0.6666666666666666,
              "#ed7953"
             ],
             [
              0.7777777777777778,
              "#fb9f3a"
             ],
             [
              0.8888888888888888,
              "#fdca26"
             ],
             [
              1,
              "#f0f921"
             ]
            ],
            "type": "histogram2dcontour"
           }
          ],
          "mesh3d": [
           {
            "colorbar": {
             "outlinewidth": 0,
             "ticks": ""
            },
            "type": "mesh3d"
           }
          ],
          "parcoords": [
           {
            "line": {
             "colorbar": {
              "outlinewidth": 0,
              "ticks": ""
             }
            },
            "type": "parcoords"
           }
          ],
          "pie": [
           {
            "automargin": true,
            "type": "pie"
           }
          ],
          "scatter": [
           {
            "fillpattern": {
             "fillmode": "overlay",
             "size": 10,
             "solidity": 0.2
            },
            "type": "scatter"
           }
          ],
          "scatter3d": [
           {
            "line": {
             "colorbar": {
              "outlinewidth": 0,
              "ticks": ""
             }
            },
            "marker": {
             "colorbar": {
              "outlinewidth": 0,
              "ticks": ""
             }
            },
            "type": "scatter3d"
           }
          ],
          "scattercarpet": [
           {
            "marker": {
             "colorbar": {
              "outlinewidth": 0,
              "ticks": ""
             }
            },
            "type": "scattercarpet"
           }
          ],
          "scattergeo": [
           {
            "marker": {
             "colorbar": {
              "outlinewidth": 0,
              "ticks": ""
             }
            },
            "type": "scattergeo"
           }
          ],
          "scattergl": [
           {
            "marker": {
             "colorbar": {
              "outlinewidth": 0,
              "ticks": ""
             }
            },
            "type": "scattergl"
           }
          ],
          "scattermapbox": [
           {
            "marker": {
             "colorbar": {
              "outlinewidth": 0,
              "ticks": ""
             }
            },
            "type": "scattermapbox"
           }
          ],
          "scatterpolar": [
           {
            "marker": {
             "colorbar": {
              "outlinewidth": 0,
              "ticks": ""
             }
            },
            "type": "scatterpolar"
           }
          ],
          "scatterpolargl": [
           {
            "marker": {
             "colorbar": {
              "outlinewidth": 0,
              "ticks": ""
             }
            },
            "type": "scatterpolargl"
           }
          ],
          "scatterternary": [
           {
            "marker": {
             "colorbar": {
              "outlinewidth": 0,
              "ticks": ""
             }
            },
            "type": "scatterternary"
           }
          ],
          "surface": [
           {
            "colorbar": {
             "outlinewidth": 0,
             "ticks": ""
            },
            "colorscale": [
             [
              0,
              "#0d0887"
             ],
             [
              0.1111111111111111,
              "#46039f"
             ],
             [
              0.2222222222222222,
              "#7201a8"
             ],
             [
              0.3333333333333333,
              "#9c179e"
             ],
             [
              0.4444444444444444,
              "#bd3786"
             ],
             [
              0.5555555555555556,
              "#d8576b"
             ],
             [
              0.6666666666666666,
              "#ed7953"
             ],
             [
              0.7777777777777778,
              "#fb9f3a"
             ],
             [
              0.8888888888888888,
              "#fdca26"
             ],
             [
              1,
              "#f0f921"
             ]
            ],
            "type": "surface"
           }
          ],
          "table": [
           {
            "cells": {
             "fill": {
              "color": "#EBF0F8"
             },
             "line": {
              "color": "white"
             }
            },
            "header": {
             "fill": {
              "color": "#C8D4E3"
             },
             "line": {
              "color": "white"
             }
            },
            "type": "table"
           }
          ]
         },
         "layout": {
          "annotationdefaults": {
           "arrowcolor": "#2a3f5f",
           "arrowhead": 0,
           "arrowwidth": 1
          },
          "autotypenumbers": "strict",
          "coloraxis": {
           "colorbar": {
            "outlinewidth": 0,
            "ticks": ""
           }
          },
          "colorscale": {
           "diverging": [
            [
             0,
             "#8e0152"
            ],
            [
             0.1,
             "#c51b7d"
            ],
            [
             0.2,
             "#de77ae"
            ],
            [
             0.3,
             "#f1b6da"
            ],
            [
             0.4,
             "#fde0ef"
            ],
            [
             0.5,
             "#f7f7f7"
            ],
            [
             0.6,
             "#e6f5d0"
            ],
            [
             0.7,
             "#b8e186"
            ],
            [
             0.8,
             "#7fbc41"
            ],
            [
             0.9,
             "#4d9221"
            ],
            [
             1,
             "#276419"
            ]
           ],
           "sequential": [
            [
             0,
             "#0d0887"
            ],
            [
             0.1111111111111111,
             "#46039f"
            ],
            [
             0.2222222222222222,
             "#7201a8"
            ],
            [
             0.3333333333333333,
             "#9c179e"
            ],
            [
             0.4444444444444444,
             "#bd3786"
            ],
            [
             0.5555555555555556,
             "#d8576b"
            ],
            [
             0.6666666666666666,
             "#ed7953"
            ],
            [
             0.7777777777777778,
             "#fb9f3a"
            ],
            [
             0.8888888888888888,
             "#fdca26"
            ],
            [
             1,
             "#f0f921"
            ]
           ],
           "sequentialminus": [
            [
             0,
             "#0d0887"
            ],
            [
             0.1111111111111111,
             "#46039f"
            ],
            [
             0.2222222222222222,
             "#7201a8"
            ],
            [
             0.3333333333333333,
             "#9c179e"
            ],
            [
             0.4444444444444444,
             "#bd3786"
            ],
            [
             0.5555555555555556,
             "#d8576b"
            ],
            [
             0.6666666666666666,
             "#ed7953"
            ],
            [
             0.7777777777777778,
             "#fb9f3a"
            ],
            [
             0.8888888888888888,
             "#fdca26"
            ],
            [
             1,
             "#f0f921"
            ]
           ]
          },
          "colorway": [
           "#636efa",
           "#EF553B",
           "#00cc96",
           "#ab63fa",
           "#FFA15A",
           "#19d3f3",
           "#FF6692",
           "#B6E880",
           "#FF97FF",
           "#FECB52"
          ],
          "font": {
           "color": "#2a3f5f"
          },
          "geo": {
           "bgcolor": "white",
           "lakecolor": "white",
           "landcolor": "white",
           "showlakes": true,
           "showland": true,
           "subunitcolor": "#C8D4E3"
          },
          "hoverlabel": {
           "align": "left"
          },
          "hovermode": "closest",
          "mapbox": {
           "style": "light"
          },
          "paper_bgcolor": "white",
          "plot_bgcolor": "white",
          "polar": {
           "angularaxis": {
            "gridcolor": "#EBF0F8",
            "linecolor": "#EBF0F8",
            "ticks": ""
           },
           "bgcolor": "white",
           "radialaxis": {
            "gridcolor": "#EBF0F8",
            "linecolor": "#EBF0F8",
            "ticks": ""
           }
          },
          "scene": {
           "xaxis": {
            "backgroundcolor": "white",
            "gridcolor": "#DFE8F3",
            "gridwidth": 2,
            "linecolor": "#EBF0F8",
            "showbackground": true,
            "ticks": "",
            "zerolinecolor": "#EBF0F8"
           },
           "yaxis": {
            "backgroundcolor": "white",
            "gridcolor": "#DFE8F3",
            "gridwidth": 2,
            "linecolor": "#EBF0F8",
            "showbackground": true,
            "ticks": "",
            "zerolinecolor": "#EBF0F8"
           },
           "zaxis": {
            "backgroundcolor": "white",
            "gridcolor": "#DFE8F3",
            "gridwidth": 2,
            "linecolor": "#EBF0F8",
            "showbackground": true,
            "ticks": "",
            "zerolinecolor": "#EBF0F8"
           }
          },
          "shapedefaults": {
           "line": {
            "color": "#2a3f5f"
           }
          },
          "ternary": {
           "aaxis": {
            "gridcolor": "#DFE8F3",
            "linecolor": "#A2B1C6",
            "ticks": ""
           },
           "baxis": {
            "gridcolor": "#DFE8F3",
            "linecolor": "#A2B1C6",
            "ticks": ""
           },
           "bgcolor": "white",
           "caxis": {
            "gridcolor": "#DFE8F3",
            "linecolor": "#A2B1C6",
            "ticks": ""
           }
          },
          "title": {
           "x": 0.05
          },
          "xaxis": {
           "automargin": true,
           "gridcolor": "#EBF0F8",
           "linecolor": "#EBF0F8",
           "ticks": "",
           "title": {
            "standoff": 15
           },
           "zerolinecolor": "#EBF0F8",
           "zerolinewidth": 2
          },
          "yaxis": {
           "automargin": true,
           "gridcolor": "#EBF0F8",
           "linecolor": "#EBF0F8",
           "ticks": "",
           "title": {
            "standoff": 15
           },
           "zerolinecolor": "#EBF0F8",
           "zerolinewidth": 2
          }
         }
        },
        "title": {
         "text": "Monthly Mean Rainfall with Min-Max Range in London"
        },
        "width": 1000,
        "xaxis": {
         "title": {
          "text": "Month"
         }
        },
        "yaxis": {
         "title": {
          "text": "Precipitation (mm)"
         }
        }
       }
      }
     },
     "metadata": {},
     "output_type": "display_data"
    }
   ],
   "source": [
    "plot_monthly_aggregate_dynamic(london_monthly_aggregate, 'Mean', bar_width=0.65, fig_width=1000, fig_height=600)"
   ]
  },
  {
   "cell_type": "code",
   "execution_count": null,
   "id": "1657bee6",
   "metadata": {},
   "outputs": [],
   "source": []
  },
  {
   "cell_type": "code",
   "execution_count": null,
   "id": "1d9bf7a7",
   "metadata": {},
   "outputs": [],
   "source": [
    "def plot_monthly_aggregate_dynamic_V2(df_plot, \n",
    "                                   feature_label='Mean', \n",
    "                                   bar_width=0.35, \n",
    "                                   location='London',\n",
    "                                   fig_width=800,\n",
    "                                   fig_height=400):\n",
    "    fig = go.Figure()\n",
    "\n",
    "    # Label mapping\n",
    "    label_dict = {'Mean': 'month_avg', 'Median': 'month_median', 'Sum': 'month_sum', 'Avg': 'month_avg', 'Average': 'month_avg'}\n",
    "    feature = label_dict[feature_label]\n",
    "\n",
    "    # Months and data\n",
    "    months = ['Jan', 'Feb', 'Mar', 'Apr', 'May', 'Jun',\n",
    "              'Jul', 'Aug', 'Sep', 'Oct', 'Nov', 'Dec']\n",
    "\n",
    "    mean_precip = df_plot[feature].values\n",
    "    min_precip = df_plot['month_min'].values\n",
    "    max_precip = df_plot['month_max'].values\n",
    "\n",
    "    # --- Min-Max filled area ---\n",
    "    fig.add_trace(go.Scatter(\n",
    "        x=months + months[::-1],  # Jan→Dec + Dec→Jan\n",
    "        y=list(max_precip) + list(min_precip[::-1]),\n",
    "        fill='toself',\n",
    "        fillcolor='rgba(135, 206, 250, 0.3)',  # Transparent blue\n",
    "        line=dict(color='rgba(255,255,255,0)'),  # No border line\n",
    "        hoverinfo='skip',\n",
    "        showlegend=True,\n",
    "        name='Min-Max Range'\n",
    "    ))\n",
    "\n",
    "    # --- Bar for Mean/Median/Sum ---\n",
    "    fig.add_trace(go.Bar(\n",
    "        x=months,\n",
    "        y=mean_precip,\n",
    "        name=f'{feature_label} Precipitation',\n",
    "        marker=dict(\n",
    "            color='blue',\n",
    "            opacity=0.9\n",
    "        ),\n",
    "        width=bar_width\n",
    "    ))\n",
    "\n",
    "    # --- Scatter for Min ---\n",
    "    fig.add_trace(go.Scatter(\n",
    "        x=months,\n",
    "        y=min_precip,\n",
    "        mode='markers',\n",
    "        name='Min',\n",
    "        marker=dict(\n",
    "            symbol='circle',\n",
    "            color='dodgerblue',\n",
    "            size=8\n",
    "        )\n",
    "    ))\n",
    "\n",
    "    # --- Scatter for Max ---\n",
    "    fig.add_trace(go.Scatter(\n",
    "        x=months,\n",
    "        y=max_precip,\n",
    "        mode='markers',\n",
    "        name='Max',\n",
    "        marker=dict(\n",
    "            symbol='diamond',\n",
    "            color='darkblue',\n",
    "            size=8\n",
    "        )\n",
    "    ))\n",
    "\n",
    "    # --- Layout with grid ---\n",
    "    fig.update_layout(\n",
    "        title=f\"Monthly {feature_label} Rainfall with Min-Max Range in {location}\",\n",
    "        xaxis_title='Month',\n",
    "        yaxis_title='Precipitation (mm)',\n",
    "        template='plotly_white',\n",
    "        hovermode=\"x unified\",\n",
    "        barmode='overlay',\n",
    "        barcornerradius=8,\n",
    "        width=fig_width,\n",
    "        height=fig_height,\n",
    "        xaxis=dict(\n",
    "            showgrid=True,\n",
    "            gridcolor='lightgray'\n",
    "        ),\n",
    "        yaxis=dict(\n",
    "            showgrid=True,\n",
    "            gridcolor='lightgray'\n",
    "        ),\n",
    "    )\n",
    "\n",
    "    return fig"
   ]
  },
  {
   "cell_type": "code",
   "execution_count": null,
   "id": "b2181cef",
   "metadata": {},
   "outputs": [],
   "source": [
    "plot_monthly_aggregate_dynamic_V2(london_monthly_aggregate, 'Mean', bar_width=0.65, fig_width=1000, fig_height=600)"
   ]
  },
  {
   "cell_type": "code",
   "execution_count": null,
   "id": "a97e8e0b",
   "metadata": {},
   "outputs": [],
   "source": [
    "import plotly.graph_objects as go\n",
    "\n",
    "def plot_monthly_aggregate_dynamic_v3(df_plot, \n",
    "                                   feature_label='Mean', \n",
    "                                   bar_width=0.35, \n",
    "                                   location='London',\n",
    "                                   fig_width=800,\n",
    "                                   fig_height=400,\n",
    "                                   dark_mode=False):\n",
    "    fig = go.Figure()\n",
    "\n",
    "    # Label mapping\n",
    "    label_dict = {\n",
    "        'Mean': 'month_avg', 'Median': 'month_median',\n",
    "        'Sum': 'month_sum', 'Avg': 'month_avg', 'Average': 'month_avg'\n",
    "    }\n",
    "    feature = label_dict[feature_label]\n",
    "\n",
    "    # Consistent month order\n",
    "    months = ['Jan', 'Feb', 'Mar', 'Apr', 'May', 'Jun',\n",
    "              'Jul', 'Aug', 'Sep', 'Oct', 'Nov', 'Dec']\n",
    "\n",
    "    mean_precip = df_plot[feature].values\n",
    "    min_precip = df_plot['month_min'].values\n",
    "    max_precip = df_plot['month_max'].values\n",
    "\n",
    "    # --- Colorblind-safe palette ---\n",
    "    bar_color = '#0072B2'        # royal blue\n",
    "    min_color = '#D55E00'        # vermillion\n",
    "    max_color = '#009E73'        # bluish green\n",
    "    fill_color = 'rgba(100, 100, 100, 0.2)' if not dark_mode else 'rgba(200, 200, 200, 0.2)'\n",
    "    grid_color = 'gray' if dark_mode else 'lightgray'\n",
    "    text_color = 'white' if dark_mode else 'black'\n",
    "\n",
    "    # --- Filled area ---\n",
    "    fig.add_trace(go.Scatter(\n",
    "        x=months + months[::-1],\n",
    "        y=list(max_precip) + list(min_precip[::-1]),\n",
    "        fill='toself',\n",
    "        fillcolor=fill_color,\n",
    "        line=dict(color='rgba(0,0,0,0)'),\n",
    "        hoverinfo='skip',\n",
    "        showlegend=True,\n",
    "        name='Min-Max Range'\n",
    "    ))\n",
    "\n",
    "    # --- Bar plot ---\n",
    "    fig.add_trace(go.Bar(\n",
    "        x=months,\n",
    "        y=mean_precip,\n",
    "        name=f'{feature_label}',\n",
    "        marker=dict(\n",
    "            color=bar_color,\n",
    "            opacity=0.9\n",
    "        ),\n",
    "        width=bar_width,\n",
    "        hovertemplate=f'{feature_label}: %{{y:.1f}} mm<extra></extra>'\n",
    "    ))\n",
    "\n",
    "    # --- Min line+markers ---\n",
    "    fig.add_trace(go.Scatter(\n",
    "        x=months,\n",
    "        y=min_precip,\n",
    "        mode='lines+markers',\n",
    "        name='Min',\n",
    "        line=dict(color=min_color, width=2, dash='dot'),\n",
    "        marker=dict(symbol='circle', size=7, color=min_color),\n",
    "        hovertemplate=f'Min: %{{y:.1f}} mm<extra></extra>'\n",
    "    ))\n",
    "\n",
    "    # --- Max line+markers ---\n",
    "    fig.add_trace(go.Scatter(\n",
    "        x=months,\n",
    "        y=max_precip,\n",
    "        mode='lines+markers',\n",
    "        name='Max',\n",
    "        line=dict(color=max_color, width=2),\n",
    "        marker=dict(symbol='diamond', size=8, color=max_color),\n",
    "        hovertemplate=f'Max: %{{y:.1f}} mm<extra></extra>'\n",
    "    ))\n",
    "\n",
    "    # --- Layout ---\n",
    "    fig.update_layout(\n",
    "        title=f\"Monthly {feature_label} Rainfall with Min-Max Range in {location}\",\n",
    "        xaxis_title='Month',\n",
    "        yaxis_title='Precipitation (mm)',\n",
    "        template='plotly_dark' if dark_mode else 'plotly_white',\n",
    "        hovermode=\"x unified\",\n",
    "        barmode='overlay',\n",
    "        barcornerradius=8,\n",
    "        width=fig_width,\n",
    "        height=fig_height,\n",
    "        font=dict(color=text_color),\n",
    "        xaxis=dict(\n",
    "            showgrid=True,\n",
    "            gridcolor=grid_color,\n",
    "            zeroline=False\n",
    "        ),\n",
    "        yaxis=dict(\n",
    "            showgrid=True,\n",
    "            gridcolor=grid_color,\n",
    "            zeroline=False\n",
    "        ),\n",
    "        legend=dict(\n",
    "            bgcolor='rgba(0,0,0,0)' if dark_mode else 'rgba(255,255,255,0)',\n",
    "            borderwidth=0\n",
    "        )\n",
    "    )\n",
    "\n",
    "    return fig\n"
   ]
  },
  {
   "cell_type": "code",
   "execution_count": null,
   "id": "55df43da",
   "metadata": {},
   "outputs": [],
   "source": [
    "plot_monthly_aggregate_dynamic_v3(london_monthly_aggregate, 'Average', bar_width=0.65, fig_width=1000, fig_height=600, dark_mode=False)"
   ]
  },
  {
   "cell_type": "code",
   "execution_count": null,
   "id": "afe5f5a5",
   "metadata": {},
   "outputs": [],
   "source": [
    "import plotly.graph_objects as go\n",
    "\n",
    "def plot_monthly_aggregate_comparison(df1, df2,\n",
    "                                      label1='Dataset 1',\n",
    "                                      label2='Dataset 2',\n",
    "                                      feature_label='Mean',\n",
    "                                      bar_width=0.35,\n",
    "                                      location='Comparison',\n",
    "                                      fig_width=900,\n",
    "                                      fig_height=500,\n",
    "                                      dark_mode=False):\n",
    "    fig = go.Figure()\n",
    "\n",
    "    # Label mapping\n",
    "    label_dict = {'Mean': 'month_avg', 'Median': 'month_median',\n",
    "                  'Sum': 'month_sum', 'Avg': 'month_avg', 'Average': 'month_avg'}\n",
    "    feature = label_dict[feature_label]\n",
    "\n",
    "    # Shared months axis\n",
    "    months = ['Jan', 'Feb', 'Mar', 'Apr', 'May', 'Jun',\n",
    "              'Jul', 'Aug', 'Sep', 'Oct', 'Nov', 'Dec']\n",
    "\n",
    "    # --- Colorblind-safe palette ---\n",
    "    # Dataset 1\n",
    "    bar_color1 = '#0072B2'     # royal blue\n",
    "    min_color1 = '#D55E00'     # vermillion\n",
    "    max_color1 = '#009E73'     # bluish green\n",
    "\n",
    "    # Dataset 2\n",
    "    bar_color2 = '#E69F00'     # orange\n",
    "    min_color2 = '#56B4E9'     # sky blue\n",
    "    max_color2 = '#CC79A7'     # reddish pink\n",
    "\n",
    "    fill_color = 'rgba(120, 120, 120, 0.15)' if not dark_mode else 'rgba(200, 200, 200, 0.15)'\n",
    "    grid_color = 'gray' if dark_mode else 'lightgray'\n",
    "    text_color = 'white' if dark_mode else 'black'\n",
    "\n",
    "    # --- Dataset 1 values ---\n",
    "    mean1 = df1[feature].values\n",
    "    min1 = df1['month_min'].values\n",
    "    max1 = df1['month_max'].values\n",
    "\n",
    "    # --- Dataset 2 values ---\n",
    "    mean2 = df2[feature].values\n",
    "    min2 = df2['month_min'].values\n",
    "    max2 = df2['month_max'].values\n",
    "\n",
    "    # === Dataset 1 ===\n",
    "    fig.add_trace(go.Scatter(\n",
    "        x=months + months[::-1],\n",
    "        y=list(max1) + list(min1[::-1]),\n",
    "        fill='toself',\n",
    "        fillcolor=fill_color,\n",
    "        line=dict(color='rgba(0,0,0,0)'),\n",
    "        hoverinfo='skip',\n",
    "        showlegend=True,\n",
    "        name=f'{label1} Min-Max Range'\n",
    "    ))\n",
    "\n",
    "    fig.add_trace(go.Bar(\n",
    "        x=months,\n",
    "        y=mean1,\n",
    "        name=f'{label1} {feature_label}',\n",
    "        marker=dict(color=bar_color1, opacity=0.85),\n",
    "        width=bar_width,\n",
    "        hovertemplate=f'{label1} {feature_label}: %{{y:.1f}}<extra></extra>'\n",
    "    ))\n",
    "\n",
    "    fig.add_trace(go.Scatter(\n",
    "        x=months,\n",
    "        y=min1,\n",
    "        mode='lines+markers',\n",
    "        name=f'{label1} Min',\n",
    "        line=dict(color=min_color1, width=2, dash='dot'),\n",
    "        marker=dict(symbol='circle', size=7, color=min_color1),\n",
    "        hovertemplate=f'{label1} Min: %{{y:.1f}}<extra></extra>'\n",
    "    ))\n",
    "\n",
    "    fig.add_trace(go.Scatter(\n",
    "        x=months,\n",
    "        y=max1,\n",
    "        mode='lines+markers',\n",
    "        name=f'{label1} Max',\n",
    "        line=dict(color=max_color1, width=2),\n",
    "        marker=dict(symbol='diamond', size=8, color=max_color1),\n",
    "        hovertemplate=f'{label1} Max: %{{y:.1f}}<extra></extra>'\n",
    "    ))\n",
    "\n",
    "    # === Dataset 2 ===\n",
    "    fig.add_trace(go.Scatter(\n",
    "        x=months + months[::-1],\n",
    "        y=list(max2) + list(min2[::-1]),\n",
    "        fill='toself',\n",
    "        fillcolor=fill_color,\n",
    "        line=dict(color='rgba(0,0,0,0)'),\n",
    "        hoverinfo='skip',\n",
    "        showlegend=True,\n",
    "        name=f'{label2} Min-Max Range'\n",
    "    ))\n",
    "\n",
    "    fig.add_trace(go.Bar(\n",
    "        x=months,\n",
    "        y=mean2,\n",
    "        name=f'{label2} {feature_label}',\n",
    "        marker=dict(color=bar_color2, opacity=0.85),\n",
    "        width=bar_width,\n",
    "        hovertemplate=f'{label2} {feature_label}: %{{y:.1f}}<extra></extra>'\n",
    "    ))\n",
    "\n",
    "    fig.add_trace(go.Scatter(\n",
    "        x=months,\n",
    "        y=min2,\n",
    "        mode='lines+markers',\n",
    "        name=f'{label2} Min',\n",
    "        line=dict(color=min_color2, width=2, dash='dot'),\n",
    "        marker=dict(symbol='circle', size=7, color=min_color2),\n",
    "        hovertemplate=f'{label2} Min: %{{y:.1f}}<extra></extra>'\n",
    "    ))\n",
    "\n",
    "    fig.add_trace(go.Scatter(\n",
    "        x=months,\n",
    "        y=max2,\n",
    "        mode='lines+markers',\n",
    "        name=f'{label2} Max',\n",
    "        line=dict(color=max_color2, width=2),\n",
    "        marker=dict(symbol='diamond', size=8, color=max_color2),\n",
    "        hovertemplate=f'{label2} Max: %{{y:.1f}}<extra></extra>'\n",
    "    ))\n",
    "\n",
    "    # === Layout ===\n",
    "    fig.update_layout(\n",
    "        title=f\"Monthly {feature_label} Rainfall Comparison in {location}\",\n",
    "        xaxis_title='Month',\n",
    "        yaxis_title='Precipitation (mm)',\n",
    "        template='plotly_dark' if dark_mode else 'plotly_white',\n",
    "        hovermode='x unified',\n",
    "        barmode='overlay',  # alternatives: 'group', 'relative'\n",
    "        barcornerradius=6,\n",
    "        width=fig_width,\n",
    "        height=fig_height,\n",
    "        font=dict(color=text_color),\n",
    "        xaxis=dict(\n",
    "            showgrid=True,\n",
    "            gridcolor=grid_color\n",
    "        ),\n",
    "        yaxis=dict(\n",
    "            showgrid=True,\n",
    "            gridcolor=grid_color\n",
    "        ),\n",
    "        legend=dict(\n",
    "            bgcolor='rgba(0,0,0,0)' if dark_mode else 'rgba(255,255,255,0)',\n",
    "            borderwidth=0\n",
    "        )\n",
    "    )\n",
    "\n",
    "    return fig"
   ]
  },
  {
   "cell_type": "code",
   "execution_count": null,
   "id": "8f80aabe",
   "metadata": {},
   "outputs": [],
   "source": [
    "plot_monthly_aggregate_comparison(london_monthly_aggregate, apulia_monthly_aggregate,\n",
    "                                      label1='London',\n",
    "                                      label2='Apulia',\n",
    "                                      feature_label='Mean',\n",
    "                                      bar_width=0.35,\n",
    "                                      location='Comparison',\n",
    "                                      fig_width=900,\n",
    "                                      fig_height=500,\n",
    "                                      dark_mode=False)"
   ]
  },
  {
   "cell_type": "code",
   "execution_count": null,
   "id": "291fa063",
   "metadata": {},
   "outputs": [],
   "source": [
    "import plotly.graph_objects as go\n",
    "from plotly.subplots import make_subplots\n",
    "\n",
    "def plot_monthly_aggregate_stacked(df1, df2,\n",
    "                                   label1='Dataset 1',\n",
    "                                   label2='Dataset 2',\n",
    "                                   feature_label='Mean',\n",
    "                                   bar_width=0.35,\n",
    "                                   location='Comparison',\n",
    "                                   fig_width=900,\n",
    "                                   fig_height=800,\n",
    "                                   dark_mode=False):\n",
    "    # Setup subplots: 2 rows, shared x-axis\n",
    "    fig = make_subplots(rows=2, cols=1,\n",
    "                        shared_xaxes=True,\n",
    "                        vertical_spacing=0.1,\n",
    "                        subplot_titles=(f\"{label1} Monthly {feature_label}\", f\"{label2} Monthly {feature_label}\"))\n",
    "\n",
    "    label_dict = {'Mean': 'month_avg', 'Median': 'month_median',\n",
    "                  'Sum': 'month_sum', 'Avg': 'month_avg', 'Average': 'month_avg'}\n",
    "    feature = label_dict[feature_label]\n",
    "\n",
    "    months = ['Jan', 'Feb', 'Mar', 'Apr', 'May', 'Jun',\n",
    "              'Jul', 'Aug', 'Sep', 'Oct', 'Nov', 'Dec']\n",
    "\n",
    "    # --- Colorblind-safe palette ---\n",
    "    bar_color1 = '#0072B2'; min_color1 = '#D55E00'; max_color1 = '#009E73'\n",
    "    bar_color2 = '#E69F00'; min_color2 = '#56B4E9'; max_color2 = '#CC79A7'\n",
    "    fill_color = 'rgba(120, 120, 120, 0.15)' if not dark_mode else 'rgba(200, 200, 200, 0.15)'\n",
    "    grid_color = 'gray' if dark_mode else 'lightgray'\n",
    "    text_color = 'white' if dark_mode else 'black'\n",
    "\n",
    "    # === Plot Dataset 1 ===\n",
    "    mean1 = df1[feature].values\n",
    "    min1 = df1['month_min'].values\n",
    "    max1 = df1['month_max'].values\n",
    "\n",
    "    fig.add_trace(go.Scatter(\n",
    "        x=months + months[::-1],\n",
    "        y=list(max1) + list(min1[::-1]),\n",
    "        fill='toself',\n",
    "        fillcolor=fill_color,\n",
    "        line=dict(color='rgba(0,0,0,0)'),\n",
    "        hoverinfo='skip',\n",
    "        showlegend=False,\n",
    "        name=f'{label1} Min-Max Range'\n",
    "    ), row=1, col=1)\n",
    "\n",
    "    fig.add_trace(go.Bar(\n",
    "        x=months,\n",
    "        y=mean1,\n",
    "        name=f'{label1} {feature_label}',\n",
    "        marker=dict(color=bar_color1, opacity=0.85),\n",
    "        width=bar_width,\n",
    "        hovertemplate=f'{label1} {feature_label}: %{{y:.1f}}<extra></extra>'\n",
    "    ), row=1, col=1)\n",
    "\n",
    "    fig.add_trace(go.Scatter(\n",
    "        x=months,\n",
    "        y=min1,\n",
    "        mode='lines+markers',\n",
    "        name=f'{label1} Min',\n",
    "        line=dict(color=min_color1, width=2, dash='dot'),\n",
    "        marker=dict(symbol='circle', size=7, color=min_color1),\n",
    "        hovertemplate=f'{label1} Min: %{{y:.1f}}<extra></extra>'\n",
    "    ), row=1, col=1)\n",
    "\n",
    "    fig.add_trace(go.Scatter(\n",
    "        x=months,\n",
    "        y=max1,\n",
    "        mode='lines+markers',\n",
    "        name=f'{label1} Max',\n",
    "        line=dict(color=max_color1, width=2),\n",
    "        marker=dict(symbol='diamond', size=8, color=max_color1),\n",
    "        hovertemplate=f'{label1} Max: %{{y:.1f}}<extra></extra>'\n",
    "    ), row=1, col=1)\n",
    "\n",
    "    # === Plot Dataset 2 ===\n",
    "    mean2 = df2[feature].values\n",
    "    min2 = df2['month_min'].values\n",
    "    max2 = df2['month_max'].values\n",
    "\n",
    "    fig.add_trace(go.Scatter(\n",
    "        x=months + months[::-1],\n",
    "        y=list(max2) + list(min2[::-1]),\n",
    "        fill='toself',\n",
    "        fillcolor=fill_color,\n",
    "        line=dict(color='rgba(0,0,0,0)'),\n",
    "        hoverinfo='skip',\n",
    "        showlegend=False,\n",
    "        name=f'{label2} Min-Max Range'\n",
    "    ), row=2, col=1)\n",
    "\n",
    "    fig.add_trace(go.Bar(\n",
    "        x=months,\n",
    "        y=mean2,\n",
    "        name=f'{label2} {feature_label}',\n",
    "        marker=dict(color=bar_color2, opacity=0.85),\n",
    "        width=bar_width,\n",
    "        hovertemplate=f'{label2} {feature_label}: %{{y:.1f}}<extra></extra>'\n",
    "    ), row=2, col=1)\n",
    "\n",
    "    fig.add_trace(go.Scatter(\n",
    "        x=months,\n",
    "        y=min2,\n",
    "        mode='lines+markers',\n",
    "        name=f'{label2} Min',\n",
    "        line=dict(color=min_color2, width=2, dash='dot'),\n",
    "        marker=dict(symbol='circle', size=7, color=min_color2),\n",
    "        hovertemplate=f'{label2} Min: %{{y:.1f}}<extra></extra>'\n",
    "    ), row=2, col=1)\n",
    "\n",
    "    fig.add_trace(go.Scatter(\n",
    "        x=months,\n",
    "        y=max2,\n",
    "        mode='lines+markers',\n",
    "        name=f'{label2} Max',\n",
    "        line=dict(color=max_color2, width=2),\n",
    "        marker=dict(symbol='diamond', size=8, color=max_color2),\n",
    "        hovertemplate=f'{label2} Max: %{{y:.1f}}<extra></extra>'\n",
    "    ), row=2, col=1)\n",
    "\n",
    "    # === Layout ===\n",
    "    fig.update_layout(\n",
    "        title=f\"{feature_label} Monthly Rainfall in {location}\",\n",
    "        xaxis_title='Month',\n",
    "        yaxis_title='Precipitation (mm)',\n",
    "        template='plotly_dark' if dark_mode else 'plotly_white',\n",
    "        hovermode='x unified',\n",
    "        width=fig_width,\n",
    "        height=fig_height,\n",
    "        font=dict(color=text_color),\n",
    "        xaxis=dict(showgrid=True, gridcolor=grid_color),\n",
    "        xaxis2=dict(showgrid=True, gridcolor=grid_color),\n",
    "        yaxis=dict(showgrid=True, gridcolor=grid_color),\n",
    "        yaxis2=dict(showgrid=True, gridcolor=grid_color),\n",
    "        legend=dict(\n",
    "            orientation=\"h\",\n",
    "            yanchor=\"bottom\",\n",
    "            y=-0.15,\n",
    "            xanchor=\"center\",\n",
    "            x=0.5,\n",
    "            bgcolor='rgba(0,0,0,0)' if dark_mode else 'rgba(255,255,255,0)',\n",
    "            borderwidth=0\n",
    "        )\n",
    "    )\n",
    "\n",
    "    return fig"
   ]
  },
  {
   "cell_type": "code",
   "execution_count": null,
   "id": "878e8d94",
   "metadata": {},
   "outputs": [],
   "source": [
    "plot_monthly_aggregate_stacked(london_monthly_aggregate, apulia_monthly_aggregate,\n",
    "                                   label1='London',\n",
    "                                   label2='Apulia',\n",
    "                                   feature_label='Mean',\n",
    "                                   bar_width=0.35,\n",
    "                                   location='Comparison',\n",
    "                                   fig_width=900,\n",
    "                                   fig_height=800,\n",
    "                                   dark_mode=True)"
   ]
  },
  {
   "cell_type": "code",
   "execution_count": null,
   "id": "8c50b0eb",
   "metadata": {},
   "outputs": [],
   "source": [
    "import plotly.graph_objects as go\n",
    "\n",
    "def plot_monthly_aggregate_overlaid(df1, df2,\n",
    "                                    label1='Dataset 1',\n",
    "                                    label2='Dataset 2',\n",
    "                                    feature_label='Mean',\n",
    "                                    bar_width=0.35,\n",
    "                                    location='Comparison',\n",
    "                                    fig_width=1000,\n",
    "                                    fig_height=500,\n",
    "                                    dark_mode=False):\n",
    "    fig = go.Figure()\n",
    "\n",
    "    label_dict = {'Mean': 'month_avg', 'Median': 'month_median',\n",
    "                  'Sum': 'month_sum', 'Avg': 'month_avg', 'Average': 'month_avg'}\n",
    "    feature = label_dict[feature_label]\n",
    "\n",
    "    months = ['Jan', 'Feb', 'Mar', 'Apr', 'May', 'Jun',\n",
    "              'Jul', 'Aug', 'Sep', 'Oct', 'Nov', 'Dec']\n",
    "\n",
    "    # Colorblind-safe palette\n",
    "    bar_color1 = '#0072B2'; min_color1 = '#D55E00'; max_color1 = '#009E73'\n",
    "    bar_color2 = '#E69F00'; min_color2 = '#56B4E9'; max_color2 = '#CC79A7'\n",
    "    fill_color1 = 'rgba(100, 100, 100, 0.1)'\n",
    "    fill_color2 = 'rgba(150, 150, 150, 0.1)'\n",
    "    grid_color = 'gray' if dark_mode else 'lightgray'\n",
    "    text_color = 'white' if dark_mode else 'black'\n",
    "\n",
    "    # Dataset 1 values\n",
    "    mean1 = df1[feature].values\n",
    "    min1 = df1['month_min'].values\n",
    "    max1 = df1['month_max'].values\n",
    "\n",
    "    # Dataset 2 values\n",
    "    mean2 = df2[feature].values\n",
    "    min2 = df2['month_min'].values\n",
    "    max2 = df2['month_max'].values\n",
    "\n",
    "    # --- Fill Areas (Optional) ---\n",
    "    fig.add_trace(go.Scatter(\n",
    "        x=months + months[::-1],\n",
    "        y=list(max1) + list(min1[::-1]),\n",
    "        fill='toself',\n",
    "        fillcolor=fill_color1,\n",
    "        line=dict(color='rgba(0,0,0,0)'),\n",
    "        hoverinfo='skip',\n",
    "        showlegend=True,\n",
    "        name=f'{label1} Min-Max Range'\n",
    "    ))\n",
    "\n",
    "    fig.add_trace(go.Scatter(\n",
    "        x=months + months[::-1],\n",
    "        y=list(max2) + list(min2[::-1]),\n",
    "        fill='toself',\n",
    "        fillcolor=fill_color2,\n",
    "        line=dict(color='rgba(0,0,0,0)'),\n",
    "        hoverinfo='skip',\n",
    "        showlegend=True,\n",
    "        name=f'{label2} Min-Max Range'\n",
    "    ))\n",
    "\n",
    "    # --- Bars for Dataset 1 ---\n",
    "    fig.add_trace(go.Bar(\n",
    "        x=months,\n",
    "        y=mean1,\n",
    "        name=f'{label1} {feature_label}',\n",
    "        marker=dict(color=bar_color1),\n",
    "        width=bar_width,\n",
    "        offsetgroup=0,\n",
    "        hovertemplate=f'{label1} {feature_label}: %{{y:.1f}}<extra></extra>'\n",
    "    ))\n",
    "\n",
    "    # --- Bars for Dataset 2 ---\n",
    "    fig.add_trace(go.Bar(\n",
    "        x=months,\n",
    "        y=mean2,\n",
    "        name=f'{label2} {feature_label}',\n",
    "        marker=dict(color=bar_color2),\n",
    "        width=bar_width,\n",
    "        offsetgroup=1,\n",
    "        hovertemplate=f'{label2} {feature_label}: %{{y:.1f}}<extra></extra>'\n",
    "    ))\n",
    "\n",
    "    # --- Min/Max lines for Dataset 1 ---\n",
    "    fig.add_trace(go.Scatter(\n",
    "        x=months,\n",
    "        y=min1,\n",
    "        mode='lines+markers',\n",
    "        name=f'{label1} Min',\n",
    "        line=dict(color=min_color1, width=2, dash='dot'),\n",
    "        marker=dict(symbol='circle', size=7, color=min_color1),\n",
    "        hovertemplate=f'{label1} Min: %{{y:.1f}}<extra></extra>'\n",
    "    ))\n",
    "\n",
    "    fig.add_trace(go.Scatter(\n",
    "        x=months,\n",
    "        y=max1,\n",
    "        mode='lines+markers',\n",
    "        name=f'{label1} Max',\n",
    "        line=dict(color=max_color1, width=2),\n",
    "        marker=dict(symbol='diamond', size=8, color=max_color1),\n",
    "        hovertemplate=f'{label1} Max: %{{y:.1f}}<extra></extra>'\n",
    "    ))\n",
    "\n",
    "    # --- Min/Max lines for Dataset 2 ---\n",
    "    fig.add_trace(go.Scatter(\n",
    "        x=months,\n",
    "        y=min2,\n",
    "        mode='lines+markers',\n",
    "        name=f'{label2} Min',\n",
    "        line=dict(color=min_color2, width=2, dash='dot'),\n",
    "        marker=dict(symbol='circle', size=7, color=min_color2),\n",
    "        hovertemplate=f'{label2} Min: %{{y:.1f}}<extra></extra>'\n",
    "    ))\n",
    "\n",
    "    fig.add_trace(go.Scatter(\n",
    "        x=months,\n",
    "        y=max2,\n",
    "        mode='lines+markers',\n",
    "        name=f'{label2} Max',\n",
    "        line=dict(color=max_color2, width=2),\n",
    "        marker=dict(symbol='diamond', size=8, color=max_color2),\n",
    "        hovertemplate=f'{label2} Max: %{{y:.1f}}<extra></extra>'\n",
    "    ))\n",
    "\n",
    "    # --- Layout ---\n",
    "    fig.update_layout(\n",
    "        title=f\"{feature_label} Monthly Rainfall Comparison in {location}\",\n",
    "        xaxis_title='Month',\n",
    "        yaxis_title='Precipitation (mm)',\n",
    "        template='plotly_dark' if dark_mode else 'plotly_white',\n",
    "        hovermode='x unified',\n",
    "        barmode='group',  # group instead of overlay\n",
    "        width=fig_width,\n",
    "        height=fig_height,\n",
    "        font=dict(color=text_color),\n",
    "        xaxis=dict(\n",
    "            showgrid=True,\n",
    "            gridcolor=grid_color,\n",
    "        ),\n",
    "        yaxis=dict(\n",
    "            showgrid=True,\n",
    "            gridcolor=grid_color,\n",
    "        ),\n",
    "        legend=dict(\n",
    "            orientation=\"h\",\n",
    "            yanchor=\"bottom\",\n",
    "            y=-0.3,\n",
    "            xanchor=\"center\",\n",
    "            x=0.5,\n",
    "            bgcolor='rgba(0,0,0,0)' if dark_mode else 'rgba(255,255,255,0)'\n",
    "        )\n",
    "    )\n",
    "\n",
    "    return fig"
   ]
  },
  {
   "cell_type": "code",
   "execution_count": null,
   "id": "f0b5c0a3",
   "metadata": {},
   "outputs": [],
   "source": [
    "plot_monthly_aggregate_overlaid(london_monthly_aggregate, apulia_monthly_aggregate,\n",
    "                                   label1='London',\n",
    "                                   label2='Apulia',\n",
    "                                   feature_label='Mean',\n",
    "                                   bar_width=0.35,\n",
    "                                   location='Comparison',\n",
    "                                   fig_width=900,\n",
    "                                   fig_height=800,\n",
    "                                   dark_mode=True)"
   ]
  },
  {
   "cell_type": "code",
   "execution_count": null,
   "id": "f732b692",
   "metadata": {},
   "outputs": [],
   "source": []
  },
  {
   "cell_type": "code",
   "execution_count": null,
   "id": "5f03869c",
   "metadata": {},
   "outputs": [],
   "source": []
  },
  {
   "cell_type": "code",
   "execution_count": null,
   "id": "07eded41",
   "metadata": {},
   "outputs": [],
   "source": []
  },
  {
   "cell_type": "code",
   "execution_count": null,
   "id": "476a5106",
   "metadata": {},
   "outputs": [],
   "source": []
  },
  {
   "cell_type": "code",
   "execution_count": null,
   "id": "df352b93",
   "metadata": {},
   "outputs": [],
   "source": [
    "london_monthly_aggregate[['month_median', 'month_avg','month_std']] = np.round(london_monthly_aggregate[['month_median', 'month_avg','month_std']],1)\n",
    "london_monthly_aggregate.head()"
   ]
  },
  {
   "cell_type": "code",
   "execution_count": null,
   "id": "301ea20e",
   "metadata": {},
   "outputs": [],
   "source": [
    "london_monthly_aggregate"
   ]
  },
  {
   "cell_type": "code",
   "execution_count": null,
   "id": "7ebf17b7",
   "metadata": {},
   "outputs": [],
   "source": [
    "apulia_monthly_aggregate"
   ]
  },
  {
   "cell_type": "code",
   "execution_count": null,
   "id": "cceb37b8",
   "metadata": {},
   "outputs": [],
   "source": []
  },
  {
   "cell_type": "code",
   "execution_count": null,
   "id": "1f777599",
   "metadata": {},
   "outputs": [],
   "source": [
    "df_all_puglia = create_daily_rainfall_dataframe(location='puglia', debug=True)\n",
    "df_all_london = create_daily_rainfall_dataframe(location='london', debug=True)\n",
    "\n",
    "# still have one day from 2009 - removing it\n",
    "df_all_london = df_all_london[df_all_london['time'] != '2009-12-31'].reset_index(drop=True).copy()\n",
    "df_all_puglia = df_all_puglia[df_all_puglia['time'] != '2009-12-31'].reset_index(drop=True).copy()"
   ]
  },
  {
   "cell_type": "code",
   "execution_count": null,
   "id": "39fe8730",
   "metadata": {},
   "outputs": [],
   "source": [
    "df_all_london.head()"
   ]
  },
  {
   "cell_type": "markdown",
   "id": "d36e9f7c",
   "metadata": {},
   "source": [
    "# Rainfall Monthly and Seasonal Analysis"
   ]
  },
  {
   "cell_type": "markdown",
   "id": "8046adb6",
   "metadata": {},
   "source": [
    "In this notebook we will perform monthly and seasonal total precipitation analysis and exploring:\n",
    "1. how total precipitation is characterised during the different months of the year and how they compare between London area and Apulia\n",
    "2. with respect to season, which are the ones where it rains more and which less\n",
    "3. is there any change in the last 50 years - that's for London area only.\n",
    "\n",
    "As for point 1. and 2., we will compare how it does change between London and Apulia area, while for point 3., we will refer to London are only for the moment"
   ]
  },
  {
   "cell_type": "code",
   "execution_count": null,
   "id": "e61b5247",
   "metadata": {},
   "outputs": [],
   "source": [
    "df_all_london.head()"
   ]
  },
  {
   "cell_type": "code",
   "execution_count": null,
   "id": "cbedc9bd",
   "metadata": {},
   "outputs": [],
   "source": [
    "apulia_data_all_points = transform_data_datetime(df_all_puglia)\n",
    "london_data_all_points = transform_data_datetime(df_all_london)"
   ]
  },
  {
   "cell_type": "markdown",
   "id": "6b33ccf4",
   "metadata": {},
   "source": [
    "### Monthly sum, mean, median, mean and max"
   ]
  },
  {
   "cell_type": "markdown",
   "id": "9fab1c4d",
   "metadata": {},
   "source": [
    "As we want to analyse the monthly precipitation data, we want to measure what was the montly total precipitaion sum, mean, median, min and max in the 2 different areas."
   ]
  },
  {
   "cell_type": "code",
   "execution_count": null,
   "id": "0efdc283",
   "metadata": {},
   "outputs": [],
   "source": [
    "df_london_daily_mean = (df_all_london\n",
    "                        .groupby('time_dt')['tp_mm']\n",
    "                        .mean()\n",
    "                        ).reset_index()\n",
    "\n",
    "df_london_daily_mean.head()"
   ]
  },
  {
   "cell_type": "code",
   "execution_count": null,
   "id": "91965940",
   "metadata": {},
   "outputs": [],
   "source": [
    "df_london_daily_mean = transform_data_datetime(df_london_daily_mean)"
   ]
  },
  {
   "cell_type": "code",
   "execution_count": null,
   "id": "99934000",
   "metadata": {},
   "outputs": [],
   "source": [
    "df_london_daily_mean.head(3)"
   ]
  },
  {
   "cell_type": "code",
   "execution_count": null,
   "id": "ec2cdbe7",
   "metadata": {},
   "outputs": [],
   "source": [
    "def thresholding_and_rounding(series, threshold = 0.1):\n",
    "    s1 = series.copy()\n",
    "    s1[s1 < threshold] = 0\n",
    "    return(np.round(s1,1))"
   ]
  },
  {
   "cell_type": "code",
   "execution_count": null,
   "id": "616649bc",
   "metadata": {},
   "outputs": [],
   "source": [
    "df_london_daily_mean['tp_mm'] = thresholding_and_rounding(df_london_daily_mean['tp_mm'])"
   ]
  },
  {
   "cell_type": "code",
   "execution_count": null,
   "id": "52541e1c",
   "metadata": {},
   "outputs": [],
   "source": [
    "df_london_year_month = (df_london_daily_mean\n",
    " .groupby(['year', 'month int'])\n",
    " .agg(\n",
    "     month = ('month', 'first'),\n",
    "     tp_monthly_sum = ('tp_mm', 'sum'),\n",
    "     tp_daily_median = ('tp_mm', 'median'),\n",
    "     tp_daily_avg = ('tp_mm', 'mean'),\n",
    "     tp_daily_std = ('tp_mm', 'std'),\n",
    "     tp_daily_min = ('tp_mm', 'min'),\n",
    "     tp_daily_max = ('tp_mm', 'max')\n",
    " ).reset_index()\n",
    ")\n",
    "\n",
    "df_london_year_month['year_month'] = df_london_year_month['year'].astype(str) + '-' + df_london_year_month['month int'].astype(str).str.zfill(2)\n",
    "df_london_year_month.head()"
   ]
  },
  {
   "cell_type": "code",
   "execution_count": null,
   "id": "53ae8110",
   "metadata": {},
   "outputs": [],
   "source": [
    "sns.set_theme(rc={'figure.figsize':(14.,4.)})\n",
    "\n",
    "df_plot = df_london_year_month[['year_month', 'tp_monthly_sum']].copy()\n",
    "# df_plot['year_month'] = pd.to_datetime(df_plot['year_month'], format = '%Y-%m')\n",
    "# df_plot = df_plot.sort_values('year_month')\n",
    "\n",
    "sns.barplot(\n",
    "    data = df_plot,\n",
    "    x = 'year_month',\n",
    "    y = 'tp_monthly_sum'\n",
    ");\n",
    "\n",
    "## Show only every 6th label\n",
    "xticks = df_plot['year_month'].unique()\n",
    "plt.xticks(\n",
    "    ticks=range(0, len(xticks), 6),\n",
    "    labels=xticks[::6],\n",
    "    rotation=90\n",
    ")\n",
    "\n",
    "plt.xlabel('Year-Month')\n",
    "plt.ylabel('tp_mm')\n",
    "plt.tight_layout()\n",
    "plt.show()"
   ]
  },
  {
   "cell_type": "code",
   "execution_count": null,
   "id": "cbb5d897",
   "metadata": {},
   "outputs": [],
   "source": [
    "df_london_year_month.head()"
   ]
  },
  {
   "cell_type": "code",
   "execution_count": null,
   "id": "f7d1b601",
   "metadata": {},
   "outputs": [],
   "source": [
    "london_monthly_tp = (df_london_year_month\n",
    " .groupby('month', observed=True)\n",
    " .agg(\n",
    "     month_sum = ('tp_monthly_sum', 'sum'),\n",
    "     month_median = ('tp_monthly_sum', 'mean'),\n",
    "     month_avg = ('tp_monthly_sum', 'mean'),\n",
    "     month_std = ('tp_monthly_sum', 'std'),\n",
    "     month_min = ('tp_monthly_sum', 'min'),\n",
    "     month_max = ('tp_monthly_sum', 'max')\n",
    "     )\n",
    "     .reset_index()\n",
    " )"
   ]
  },
  {
   "cell_type": "code",
   "execution_count": null,
   "id": "30005522",
   "metadata": {},
   "outputs": [],
   "source": [
    "london_monthly_tp"
   ]
  },
  {
   "cell_type": "code",
   "execution_count": null,
   "id": "e7646666",
   "metadata": {},
   "outputs": [],
   "source": [
    "sns.barplot(\n",
    "    data = london_monthly_tp,\n",
    "    x= 'month',\n",
    "    y = 'month_median'\n",
    ")\n",
    "\n",
    "sns.scatterplot(\n",
    "    data = london_monthly_tp,\n",
    "    x= 'month',\n",
    "    y = 'month_max'\n",
    ")\n",
    "sns.lineplot(\n",
    "    data = london_monthly_tp,\n",
    "    x= 'month',\n",
    "    y = 'month_max',\n",
    "    color = 'green'\n",
    ")\n",
    "\n",
    "sns.scatterplot(\n",
    "    data = london_monthly_tp,\n",
    "    x= 'month',\n",
    "    y = 'month_min'\n",
    ")\n",
    "sns.lineplot(\n",
    "    data = london_monthly_tp,\n",
    "    x= 'month',\n",
    "    y = 'month_min',\n",
    "    color = 'orange'\n",
    ")"
   ]
  },
  {
   "cell_type": "code",
   "execution_count": null,
   "id": "5b066c39",
   "metadata": {},
   "outputs": [],
   "source": [
    "import matplotlib.pyplot as plt\n",
    "import numpy as np\n",
    "\n",
    "# Example data\n",
    "months = london_monthly_tp['month'].values\n",
    "mean_precip = london_monthly_tp['month_avg'].values\n",
    "min_precip = london_monthly_tp['month_min'].values\n",
    "max_precip = london_monthly_tp['month_max'].values\n",
    "\n",
    "# Convert months to x-axis positions\n",
    "x = np.arange(len(months))\n",
    "\n",
    "# Plot\n",
    "plt.figure(figsize=(10, 4))\n",
    "plt.plot(x, mean_precip, label='Mean Precipitation', color='blue', marker='o')\n",
    "plt.fill_between(x, min_precip, max_precip, color='lightblue', alpha=0.4, label='Min-Max Range')\n",
    "\n",
    "plt.xticks(x, months)\n",
    "plt.ylabel(\"Precipitation (mm)\")\n",
    "plt.title(\"Monthly Mean Rainfall with Min-Max Range\")\n",
    "plt.legend()\n",
    "plt.grid(True)\n",
    "plt.tight_layout()\n",
    "plt.show()"
   ]
  },
  {
   "cell_type": "code",
   "execution_count": null,
   "id": "d9e0883c",
   "metadata": {},
   "outputs": [],
   "source": [
    "max_precip"
   ]
  },
  {
   "cell_type": "code",
   "execution_count": null,
   "id": "83f37e2f",
   "metadata": {},
   "outputs": [],
   "source": [
    "import plotly.graph_objects as go\n",
    "# Create figure\n",
    "fig = go.Figure()\n",
    "\n",
    "# Add min-max range as a filled area\n",
    "months = ['Jan', 'Feb', 'Mar', 'Apr', 'May', 'Jun',\n",
    "          'Jul', 'Aug', 'Sep', 'Oct', 'Nov', 'Dec']\n",
    "\n",
    "fig.add_trace(go.Scatter(\n",
    "    x=months + months[::-1],  # x: Jan to Dec and back from Dec to Jan\n",
    "    y=list(max_precip) + list(min_precip[::-1]),  # Upper bound + lower bound reversed\n",
    "    fill='toself',\n",
    "    fillcolor='rgba(135, 206, 250, 0.4)',  # Light blue with transparency\n",
    "    line=dict(color='rgba(255,255,255,0)'),  # No line\n",
    "    hoverinfo=\"skip\",\n",
    "    showlegend=True,\n",
    "    name='Min-Max Range'\n",
    "))\n",
    "\n",
    "# Add mean line\n",
    "# fig.add_trace(go.Scatter(\n",
    "#     x=months,\n",
    "#     y=mean_precip,\n",
    "#     mode='lines+markers',\n",
    "#     name='Mean Precipitation',\n",
    "#     line=dict(color='blue'),\n",
    "#     marker=dict(size=6)\n",
    "# ))\n",
    "\n",
    "fig.add_trace(go.Bar(\n",
    "    x = months,\n",
    "    y = mean_precip,\n",
    "    name='Mean Precipitation',\n",
    "    marker=dict(\n",
    "        color='blue',\n",
    "        line=dict(width=0),\n",
    "        opacity=0.9\n",
    "    ),\n",
    "    width=0.3\n",
    "))\n",
    "\n",
    "# Layout\n",
    "fig.update_layout(\n",
    "    title='Monthly Rainfall: Mean with Min-Max Range',\n",
    "    xaxis_title='Month',\n",
    "    yaxis_title='Precipitation (mm)',\n",
    "    template='plotly_white',\n",
    "    hovermode=\"x unified\",\n",
    "    barmode='overlay',\n",
    "    barcornerradius=8\n",
    ")\n",
    "\n",
    "fig.show()"
   ]
  },
  {
   "cell_type": "code",
   "execution_count": null,
   "id": "28dc4b1d",
   "metadata": {},
   "outputs": [],
   "source": []
  },
  {
   "cell_type": "code",
   "execution_count": null,
   "id": "0c6e677b",
   "metadata": {},
   "outputs": [],
   "source": [
    "sns.boxplot(\n",
    "    data = df_london_year_month,\n",
    "    x = 'month',\n",
    "    y = 'tp_monthly_sum'\n",
    ")"
   ]
  },
  {
   "cell_type": "markdown",
   "id": "0c3e3643",
   "metadata": {},
   "source": [
    "## Apulia Monthly Analysis"
   ]
  },
  {
   "cell_type": "code",
   "execution_count": null,
   "id": "d0e39d32",
   "metadata": {},
   "outputs": [],
   "source": [
    "df_apulia_daily_mean = (df_all_puglia\n",
    "                        .groupby('time_dt')['tp_mm']\n",
    "                        .mean()\n",
    "                        ).reset_index()\n",
    "\n",
    "\n",
    "df_apulia_daily_mean = transform_data_datetime(df_apulia_daily_mean)\n",
    "df_apulia_daily_mean['tp_mm'] = thresholding_and_rounding(df_apulia_daily_mean['tp_mm'])\n",
    "\n",
    "df_apulia_year_month = (df_apulia_daily_mean\n",
    " .groupby(['year', 'month int'])\n",
    " .agg(\n",
    "     month = ('month', 'first'),\n",
    "     tp_monthly_sum = ('tp_mm', 'sum'),\n",
    "     tp_daily_median = ('tp_mm', 'median'),\n",
    "     tp_daily_avg = ('tp_mm', 'mean'),\n",
    "     tp_daily_std = ('tp_mm', 'std'),\n",
    "     tp_daily_min = ('tp_mm', 'min'),\n",
    "     tp_daily_max = ('tp_mm', 'max')\n",
    " ).reset_index()\n",
    ")\n",
    "\n",
    "df_apulia_year_month['year_month'] = df_apulia_year_month['year'].astype(str) + '-' + df_apulia_year_month['month int'].astype(str).str.zfill(2)\n",
    "\n",
    "apulia_monthly_tp = (df_apulia_year_month\n",
    " .groupby('month', observed=True)\n",
    " .agg(\n",
    "     month_sum = ('tp_monthly_sum', 'sum'),\n",
    "     month_median = ('tp_monthly_sum', 'mean'),\n",
    "     month_avg = ('tp_monthly_sum', 'mean'),\n",
    "     month_std = ('tp_monthly_sum', 'std'),\n",
    "     month_min = ('tp_monthly_sum', 'min'),\n",
    "     month_max = ('tp_monthly_sum', 'max')\n",
    "     )\n",
    "     .reset_index()\n",
    " )\n",
    "\n",
    "apulia_monthly_tp\n"
   ]
  },
  {
   "cell_type": "code",
   "execution_count": null,
   "id": "4af5825f",
   "metadata": {},
   "outputs": [],
   "source": [
    "import matplotlib.pyplot as plt\n",
    "import numpy as np\n",
    "\n",
    "# Example data\n",
    "months = apulia_monthly_tp['month'].values\n",
    "mean_precip = apulia_monthly_tp['month_avg'].values\n",
    "min_precip = apulia_monthly_tp['month_min'].values\n",
    "max_precip = apulia_monthly_tp['month_max'].values\n",
    "\n",
    "# Convert months to x-axis positions\n",
    "x = np.arange(len(months))\n",
    "\n",
    "# Plot\n",
    "plt.figure(figsize=(10, 4))\n",
    "plt.plot(x, mean_precip, label='Mean Precipitation', color='blue', marker='o')\n",
    "plt.fill_between(x, min_precip, max_precip, color='lightblue', alpha=0.4, label='Min-Max Range')\n",
    "\n",
    "plt.xticks(x, months)\n",
    "plt.ylabel(\"Precipitation (mm)\")\n",
    "plt.title(\"Monthly Mean Rainfall with Min-Max Range\")\n",
    "plt.legend()\n",
    "plt.grid(True)\n",
    "plt.tight_layout()\n",
    "plt.show()"
   ]
  },
  {
   "cell_type": "markdown",
   "id": "d6efa3c3",
   "metadata": {},
   "source": [
    "## `create_monthly_aggregate` - function creating Monthly Aggregate from daily rainfall data"
   ]
  },
  {
   "cell_type": "markdown",
   "id": "6c8efb1b",
   "metadata": {},
   "source": [
    "The function takes as an input the location of the area we want to create the Monthly Aggregate dataframe. \n",
    "\n",
    "The output dataframe will have the following format: \n",
    "\n",
    "| Month | sum    |  tp_mm_median | tp_mm_avg | tp_mm_std | tp_mm_min | tp_mm_max |\n",
    "|------:|:-------|:--------------|:----------|:----------|:----------|:----------|\n",
    "| Jan   | 2404.5 |   26.6        | 18.1      |  4.3      |   1.3     |  50.3     |\n",
    "| ...   |   ...  |   ...         | ...       |  ...      |   ...     |  ...      |"
   ]
  },
  {
   "cell_type": "code",
   "execution_count": null,
   "id": "e3044db9",
   "metadata": {},
   "outputs": [],
   "source": [
    "def create_monthly_aggregate(location = 'london', remove_date_list = ['2009-12-31'], debug = False):\n",
    "    '''\n",
    "    Create function signature    \n",
    "    '''\n",
    "\n",
    "    # first, create daily total precipitation for all points in the grid\n",
    "    # in the area defined by location. This data is contained in pickle files \n",
    "    # from a specific folder. The function concat all yearly files created in\n",
    "    # previous steps\n",
    "    df_data = create_daily_rainfall_dataframe(location=location, debug=debug)\n",
    "    # removing data contained in remove_date_list\n",
    "    df_data = df_data[~df_data['time'].isin(remove_date_list)].reset_index(drop=True).copy()\n",
    "\n",
    "    # creating time_dt column to process the mean\n",
    "    df_data = transform_data_datetime(df_data)\n",
    "\n",
    "    # Averaging measurements for all points in the grid\n",
    "    df_data_mean = (df_data\n",
    "                        .groupby('time_dt')['tp_mm']\n",
    "                        .mean()\n",
    "                        ).reset_index()\n",
    "\n",
    "    # creating year, month, day colums\n",
    "    df_data_mean = transform_data_datetime(df_data_mean)\n",
    "    # thresholding and rounding tp_mm values\n",
    "    df_data_mean['tp_mm'] = thresholding_and_rounding(df_data_mean['tp_mm'])\n",
    "    # creating year-month aggregate - to decide if saving the result as a parquet file for further analysis on time/monthly series\n",
    "    # At this stage, we are just using the monthly sum\n",
    "    df_data_year_month = (df_data_mean\n",
    "                            .groupby(['year', 'month int'])\n",
    "                            .agg(\n",
    "                                month = ('month', 'first'),\n",
    "                                tp_monthly_sum = ('tp_mm', 'sum'),\n",
    "                                tp_daily_median = ('tp_mm', 'median'),\n",
    "                                tp_daily_avg = ('tp_mm', 'mean'),\n",
    "                                tp_daily_std = ('tp_mm', 'std'),\n",
    "                                tp_daily_min = ('tp_mm', 'min'),\n",
    "                                tp_daily_max = ('tp_mm', 'max')\n",
    "                                ).reset_index()\n",
    "                                )\n",
    "    \n",
    "    # creating the 'year_month' as string variable - this is just if we want to save the resulting dataframe for further analysis\n",
    "    df_data_year_month['year_month'] = df_data_year_month['year'].astype(str) + '-' + df_data_year_month['month int'].astype(str).str.zfill(2)\n",
    "    \n",
    "    filename_str = location + '_year_month_from_' + df_data_year_month['year_month'].min() + '_to_' + df_data_year_month['year_month'].max()\n",
    "    if debug:\n",
    "        print(filename_str)\n",
    "    \n",
    "    # finally, creating monthly aggregate\n",
    "\n",
    "    data_monthly_tp = (df_data_year_month\n",
    "                         .groupby('month', observed=True)\n",
    "                         .agg(\n",
    "                             month_sum = ('tp_monthly_sum', 'sum'),\n",
    "                             month_median = ('tp_monthly_sum', 'median'),\n",
    "                             month_avg = ('tp_monthly_sum', 'mean'),\n",
    "                             month_std = ('tp_monthly_sum', 'std'),\n",
    "                             month_min = ('tp_monthly_sum', 'min'),\n",
    "                             month_max = ('tp_monthly_sum', 'max')\n",
    "                             )\n",
    "                             .reset_index()\n",
    "                             )\n",
    "\n",
    "    \n",
    "    return(data_monthly_tp)"
   ]
  },
  {
   "cell_type": "code",
   "execution_count": null,
   "id": "f873fd41",
   "metadata": {},
   "outputs": [],
   "source": [
    "test_apulia = create_monthly_aggregate(location='puglia')\n",
    "test_apulia.head()"
   ]
  },
  {
   "cell_type": "code",
   "execution_count": null,
   "id": "b9c3105b",
   "metadata": {},
   "outputs": [],
   "source": [
    "test_london = create_monthly_aggregate(location='london')\n",
    "test_london.head()"
   ]
  },
  {
   "cell_type": "markdown",
   "id": "acd50be4",
   "metadata": {},
   "source": [
    "## Visualizing monthly aggregate"
   ]
  },
  {
   "cell_type": "markdown",
   "id": "10ed0906",
   "metadata": {},
   "source": [
    "We have two different functions to visualize monthly sum/median/avg with min and max values using matplotlib and plotly for static and dinamyc visualization."
   ]
  },
  {
   "cell_type": "code",
   "execution_count": null,
   "id": "7a4a14ee",
   "metadata": {},
   "outputs": [],
   "source": [
    "import matplotlib.pyplot as plt\n",
    "import numpy as np\n",
    "\n",
    "# Example data\n",
    "def plot_monthly_aggregate_static(df_plot, feature_label = 'Mean', bar_width = 0.35, location = 'London'):\n",
    "    label_dict = {'Mean':'month_avg', 'Median':'month_median', 'Sum':'month_sum', 'Avg' :'month_avg', 'Average':'month_avg'}\n",
    "    feature = label_dict[feature_label]\n",
    "    months = df_plot['month'].values\n",
    "    # agg_precip = df_plot[feature].values\n",
    "    min_precip = df_plot['month_min'].values\n",
    "    max_precip = df_plot['month_max'].values\n",
    "\n",
    "    # Convert months to x-axis positions\n",
    "    x = np.arange(len(months))\n",
    "\n",
    "    # Plot\n",
    "    plt.figure(figsize=(10, 4))\n",
    "    # plt.plot(x, agg_precip, label='Mean Precipitation', color='blue', marker='o')\n",
    "    print(feature)\n",
    "    ax = sns.barplot(data = df_plot, \n",
    "                x = 'month', \n",
    "                y = feature,\n",
    "                width=0.5)\n",
    "\n",
    "    plt.plot(x, max_precip, label='Max Precipitation', color='red', marker='o')\n",
    "    plt.fill_between(x, min_precip, max_precip, color='lightblue', alpha=0.4, label='Min-Max Range')\n",
    "    plt.plot(x, min_precip, label='Min Precipitation', color='green', marker='d')\n",
    "\n",
    "    # Add annotations on top of each bar\n",
    "    for container in ax.containers:\n",
    "        ax.bar_label(container, fmt='%.2f', label_type='edge', padding=3)\n",
    "\n",
    "    # Move legend outside the plot\n",
    "    ax.legend(\n",
    "        title='Aggregate Values',\n",
    "        bbox_to_anchor=(1.05, 1),  # x=1.05 moves it to the right\n",
    "        loc='upper left',          # anchor point of the legend\n",
    "        borderaxespad=0.\n",
    "    )\n",
    "\n",
    "    plt.xticks(x, months)\n",
    "    plt.ylabel(\"Precipitation (mm)\")\n",
    "    plt.title(f\"Monthly {feature_label} Rainfall with Min-Max Range in {location}\")\n",
    "    plt.grid(True)\n",
    "    plt.tight_layout()\n",
    "    plt.show()"
   ]
  },
  {
   "cell_type": "code",
   "execution_count": null,
   "id": "13899d0e",
   "metadata": {},
   "outputs": [],
   "source": [
    "plot_monthly_aggregate_static(test_london, feature_label='Sum')"
   ]
  },
  {
   "cell_type": "code",
   "execution_count": null,
   "id": "3092af7c",
   "metadata": {},
   "outputs": [],
   "source": []
  },
  {
   "cell_type": "code",
   "execution_count": null,
   "id": "bdc73738",
   "metadata": {},
   "outputs": [],
   "source": [
    "k = {'mean':'month_avg', 'median':'month_median', 'sum':'month_sum'}\n",
    "k['mean']"
   ]
  },
  {
   "cell_type": "code",
   "execution_count": null,
   "id": "9725e538",
   "metadata": {},
   "outputs": [],
   "source": []
  },
  {
   "cell_type": "markdown",
   "id": "7b6ed4b2",
   "metadata": {},
   "source": [
    "## Notes: ***How often it rains in London or Apulia region?***\n",
    "\n",
    "I have a question: I want to analyse the number of dry days, i.e. the number of days withour raining. As I have measurements for 12 different points in the grid of London, we want to check if by calculating the mean of precipitation considering the 12 points is different if we consider each point separately. What I mean, if in one particular point only of the grid I measure some rain, how it effects the number of dry days with compare the mean of all 12 points. This is particularly interesting if we are considering a larger area like a region in a country like Apulia. In a larger region, I can end up by considering much less dry day if I consider the mean for all points then finding a way to define dry days for the region. To illustrate better this point, let's assume that in the north part of Apulia region I have a rainy day in the first 182 days and no rain for the rest of the year, and the opposite happens in the south part. If I take the precipitation mean, I will conlcude that there are no dry days in the Apulia region even if in some parts there have been more than 180 days without rain. So, considering the daily mean for each point, does not give you the right idea of how often it rains in Apulia.\n",
    "\n",
    "Let's start with London area and see what data report.\n",
    "\n",
    "First I will consider how many dry days I have for each singular point. And then I will calculate the number of dry days after computing the mean for each day.\n"
   ]
  },
  {
   "cell_type": "code",
   "execution_count": null,
   "id": "c79293e4",
   "metadata": {},
   "outputs": [],
   "source": [
    "london_data_all_points.head()"
   ]
  },
  {
   "cell_type": "code",
   "execution_count": null,
   "id": "d3b4aa23",
   "metadata": {},
   "outputs": [],
   "source": [
    "london_data_all_points['rainy_day'] = np.where(london_data_all_points['tp_mm'] > 0, 1, 0)"
   ]
  },
  {
   "cell_type": "code",
   "execution_count": null,
   "id": "a97221e9",
   "metadata": {},
   "outputs": [],
   "source": [
    "london_rainy_days_points = london_data_all_points.groupby('time')['rainy_day'].sum().reset_index()"
   ]
  },
  {
   "cell_type": "code",
   "execution_count": null,
   "id": "099fe6eb",
   "metadata": {},
   "outputs": [],
   "source": [
    "london_rainy_days_points.head()"
   ]
  },
  {
   "cell_type": "code",
   "execution_count": null,
   "id": "97c59142",
   "metadata": {},
   "outputs": [],
   "source": [
    "(london_rainy_days_points[london_rainy_days_points['rainy_day'] == 0].shape[0] + london_rainy_days_points[london_rainy_days_points['rainy_day'] == 12].shape[0])/london_rainy_days_points.shape[0]"
   ]
  },
  {
   "cell_type": "code",
   "execution_count": null,
   "id": "5c14c354",
   "metadata": {},
   "outputs": [],
   "source": [
    "sns.histplot(\n",
    "    data = london_rainy_days_points,\n",
    "    x = 'rainy_day',\n",
    "    bins = 12\n",
    ");"
   ]
  },
  {
   "cell_type": "markdown",
   "id": "e0f85164",
   "metadata": {},
   "source": [
    "The plot shows that there are few instances where all 12 points in the grid report rain or not. The 90% of the data show that we have measured rain or not in all 12 different points of the grid."
   ]
  },
  {
   "cell_type": "code",
   "execution_count": null,
   "id": "746537ff",
   "metadata": {},
   "outputs": [],
   "source": [
    "apulia_data_all_points['rainy_day'] = np.where(apulia_data_all_points['tp_mm'] > 0, 1, 0)\n",
    "apulia_data_all_points.head()"
   ]
  },
  {
   "cell_type": "code",
   "execution_count": null,
   "id": "4e7ddf7c",
   "metadata": {},
   "outputs": [],
   "source": [
    "apulia_rainy_days_points = apulia_data_all_points.groupby('time')['rainy_day'].sum().reset_index()\n",
    "apulia_rainy_days_points.head()"
   ]
  },
  {
   "cell_type": "code",
   "execution_count": null,
   "id": "60c0fd5a",
   "metadata": {},
   "outputs": [],
   "source": [
    "sns.set_theme(rc={'figure.figsize':(14.,4.)})\n",
    "\n",
    "sns.histplot(\n",
    "    data = apulia_rainy_days_points,\n",
    "    x = 'rainy_day',\n",
    "    bins = 177\n",
    ");"
   ]
  },
  {
   "cell_type": "code",
   "execution_count": null,
   "id": "246e3da1",
   "metadata": {},
   "outputs": [],
   "source": [
    "sns.set_theme(rc={'figure.figsize':(14.,4.)})\n",
    "\n",
    "sns.histplot(\n",
    "    data = apulia_rainy_days_points[apulia_rainy_days_points['rainy_day'] <= 25],\n",
    "    x = 'rainy_day',\n",
    "    bins = 25\n",
    ");"
   ]
  },
  {
   "cell_type": "markdown",
   "id": "5544dce4",
   "metadata": {},
   "source": []
  },
  {
   "cell_type": "code",
   "execution_count": null,
   "id": "9835390d",
   "metadata": {},
   "outputs": [],
   "source": []
  },
  {
   "cell_type": "code",
   "execution_count": null,
   "id": "e45a7d7f",
   "metadata": {},
   "outputs": [],
   "source": [
    "london_daily_data = pd.read_pickle('../streamlit/data/london_tp_daily_data.pkl')\n",
    "london_daily_data.shape"
   ]
  },
  {
   "cell_type": "code",
   "execution_count": null,
   "id": "2946ae81",
   "metadata": {},
   "outputs": [],
   "source": [
    "london_daily_data.head()"
   ]
  },
  {
   "cell_type": "code",
   "execution_count": null,
   "id": "be3610ed",
   "metadata": {},
   "outputs": [],
   "source": [
    "london_daily_data.dtypes"
   ]
  },
  {
   "cell_type": "code",
   "execution_count": null,
   "id": "2681e9f6",
   "metadata": {},
   "outputs": [],
   "source": [
    "(london_daily_data['date'].max() - london_daily_data['date'].min()).days"
   ]
  },
  {
   "cell_type": "code",
   "execution_count": null,
   "id": "8cba2f08",
   "metadata": {},
   "outputs": [],
   "source": [
    "(london_daily_data\n",
    " .groupby('month')\n",
    " .agg(\n",
    "     tp_mm_daily_month_avg = ('tp_mm_daily_sum', 'mean'),\n",
    "     tp_mm_daily_month_min = ('tp_mm_daily_sum', 'min'),\n",
    "     tp_mm_daily_month_max = ('tp_mm_daily_sum', 'max'),\n",
    " )\n",
    " ).reset_index()"
   ]
  },
  {
   "cell_type": "code",
   "execution_count": null,
   "id": "ac2da107",
   "metadata": {},
   "outputs": [],
   "source": [
    "(london_daily_data\n",
    " .groupby(['year', 'month'])\n",
    " .agg(\n",
    "     tp_mm_month_sum = ('tp_mm_daily_sum', 'sum'),\n",
    "     tp_mm_daily_mean = ('tp_mm_daily_sum', 'mean'),\n",
    "     tp_mm_daily_min = ('tp_mm_daily_sum', 'min'),\n",
    "     tp_mm_daily_max = ('tp_mm_daily_sum', 'max'),\n",
    " ).reset_index()\n",
    ")"
   ]
  },
  {
   "cell_type": "code",
   "execution_count": null,
   "id": "f44101ee",
   "metadata": {},
   "outputs": [],
   "source": [
    "year = 1999\n",
    "month = 'Aug'\n",
    "\n",
    "london_daily_data[(london_daily_data['year'] == year) &\n",
    "                  (london_daily_data['month'] == month)][['day', 'tp_mm_daily_sum']]"
   ]
  },
  {
   "cell_type": "code",
   "execution_count": null,
   "id": "b458a949",
   "metadata": {},
   "outputs": [],
   "source": []
  },
  {
   "cell_type": "code",
   "execution_count": null,
   "id": "de9fa50b",
   "metadata": {},
   "outputs": [],
   "source": []
  },
  {
   "cell_type": "code",
   "execution_count": null,
   "id": "d8414d44",
   "metadata": {},
   "outputs": [],
   "source": [
    "year = 2015\n",
    "\n",
    "sns.set_theme(rc={'figure.figsize':(14.,4.)})\n",
    "\n",
    "sns.scatterplot(\n",
    "    data = london_daily_data[london_daily_data['year'] == year],\n",
    "    x = 'date',\n",
    "    y = 'tp_mm_daily_sum'\n",
    ");"
   ]
  },
  {
   "cell_type": "code",
   "execution_count": null,
   "id": "f37603e6",
   "metadata": {},
   "outputs": [],
   "source": [
    "max_tp_per_year = (london_daily_data\n",
    " .groupby('year')\n",
    " .agg(\n",
    "     max_tp = ('tp_mm_daily_sum', 'max')\n",
    "     )\n",
    "     .rename(columns = {'max_tp':'tp_mm_daily_sum'})\n",
    " ).reset_index()\n",
    "\n",
    "\n",
    "max_tp_per_year"
   ]
  },
  {
   "cell_type": "code",
   "execution_count": null,
   "id": "061ec5bc",
   "metadata": {},
   "outputs": [],
   "source": [
    "max_tp_per_year.merge(london_daily_data[['year', 'tp_mm_daily_sum','month']], how = 'left')"
   ]
  },
  {
   "cell_type": "code",
   "execution_count": null,
   "id": "25ccb064",
   "metadata": {},
   "outputs": [],
   "source": [
    "(max_tp_per_year.merge(london_daily_data[['year', 'tp_mm_daily_sum','month']], how = 'left')\n",
    " .groupby('month')['year']\n",
    " .count()\n",
    ").reset_index().sort_values('year', ascending = False)"
   ]
  },
  {
   "cell_type": "code",
   "execution_count": null,
   "id": "d11d9740",
   "metadata": {},
   "outputs": [],
   "source": []
  },
  {
   "cell_type": "code",
   "execution_count": null,
   "id": "f748ec23",
   "metadata": {},
   "outputs": [],
   "source": []
  }
 ],
 "metadata": {
  "kernelspec": {
   "display_name": "base",
   "language": "python",
   "name": "python3"
  },
  "language_info": {
   "codemirror_mode": {
    "name": "ipython",
    "version": 3
   },
   "file_extension": ".py",
   "mimetype": "text/x-python",
   "name": "python",
   "nbconvert_exporter": "python",
   "pygments_lexer": "ipython3",
   "version": "3.12.3"
  }
 },
 "nbformat": 4,
 "nbformat_minor": 5
}
