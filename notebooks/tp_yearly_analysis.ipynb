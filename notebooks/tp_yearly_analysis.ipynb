{
 "cells": [
  {
   "cell_type": "code",
   "execution_count": 1,
   "id": "3bcff4bc",
   "metadata": {},
   "outputs": [],
   "source": [
    "import pandas as pd\n",
    "import numpy as np\n",
    "\n",
    "import matplotlib.pyplot as plt\n",
    "import seaborn as sns\n",
    "\n",
    "import folium\n",
    "\n",
    "from src.manage_precipitation_data import create_tp_daily_summary, create_tp_monthly_aggregate, create_list_lat_long"
   ]
  },
  {
   "cell_type": "markdown",
   "id": "d8d050b6",
   "metadata": {},
   "source": [
    "# Process Precipitation Data"
   ]
  },
  {
   "cell_type": "markdown",
   "id": "799a06d2",
   "metadata": {},
   "source": [
    "- open `csv` files\n",
    "- process data\n",
    "\n",
    "The `geomaps.ipynb` creates 24h and daily dataset for all points in a grid covering London and Apulia, Italy region. In this notebook, we process the creted `.csv` file to implement functions calculating different statistics such as yearly, monthly, mean, median mean and max values. The geomaps notebook works on a different Conda evn using the geopandas libraries. As for this environment, the aim is also creating spatial visualization using folium."
   ]
  },
  {
   "cell_type": "markdown",
   "id": "f72973e5",
   "metadata": {},
   "source": [
    "## Daily `csv` data"
   ]
  },
  {
   "cell_type": "markdown",
   "id": "c0ec45e9",
   "metadata": {},
   "source": [
    "Starting from the downloaded `.grib` files we created different hourly and daily dataset in `csv` format. This files contain the data for all points in the grid considered when downloading the `.grib` files for Total Precipitation measurements. London data usually contains 4 points in the grid while `puglia` data 177 points. The idea is to compare the mean of the 4 different points in the london data with each point in the grid of Apulia data, to compare different part of the Italian region and the data in London. The starting hypothesis is:\n",
    "\n",
    "> In Apulia region it rains more (in quantity) than in London - but less often\n",
    "\n",
    "What we want to verify if this is true considering the mean precipitation for the entire region and for all diffent points.\n",
    "\n",
    "- Strategy 1 - concatenating daily data into one dataframe\n",
    "\n",
    "For each create daily dataset, we can create a single file and then execute some analysis on data (e.g. multi year trends)."
   ]
  },
  {
   "cell_type": "code",
   "execution_count": 2,
   "id": "e149c371",
   "metadata": {},
   "outputs": [],
   "source": [
    "# from pathlib import Path\n",
    "\n",
    "# folder_path = Path('./output')\n",
    "\n",
    "# # Files containing 'puglia_daily'\n",
    "# puglia_files = [f for f in folder_path.glob('*.parquet') if 'puglia_daily' in f.name]\n",
    "\n",
    "# # Files containing 'london_daily'\n",
    "# london_files = [f for f in folder_path.glob('*.parquet') if 'london_daily' in f.name]"
   ]
  },
  {
   "cell_type": "code",
   "execution_count": 3,
   "id": "e6e4ffa1",
   "metadata": {},
   "outputs": [],
   "source": [
    "from pathlib import Path\n",
    "\n",
    "\n",
    "def create_daily_rainfall_dataframe(file_path = './output', location = 'london', debug = False):\n",
    "    # retrieve all files for location\n",
    "    folder_path = Path('./output')\n",
    "    string_in_filename = location + '_daily'\n",
    "    location_files = [f for f in folder_path.glob('*.parquet') if string_in_filename in f.name]\n",
    "    \n",
    "    # open each files and create a list of dataframe\n",
    "    dfs = []\n",
    "    for file in location_files:\n",
    "        df = pd.read_parquet(file)\n",
    "        dfs.append(df)\n",
    "\n",
    "    # concat list of dataframes\n",
    "    df_all = pd.concat(dfs, axis = 0).sort_values('time_dt').reset_index(drop=True)\n",
    "    if debug:\n",
    "        n_points = len(create_list_lat_long(df_all))\n",
    "        n_days = ((df_all['time_dt'].max() - df_all['time_dt'].min()).days+1)\n",
    "        print(f\"number of expected rows = {n_points*n_days}, number of returned rows = {df_all.shape[0]}\")\n",
    "    return(df_all)\n",
    "\n",
    "def transform_data_datetime(df):\n",
    "    df = df.copy()\n",
    "    df['year'] = df['time_dt'].dt.year\n",
    "    df['month int'] = df['time_dt'].dt.month\n",
    "    df['month'] = df['time_dt'].dt.strftime('%b')\n",
    "    df['month'] = pd.Categorical(df['month'], categories=['Jan', 'Feb', 'Mar', 'Apr', 'May', 'Jun',\n",
    "                                                          'Jul', 'Aug', 'Sep', 'Oct', 'Nov', 'Dec'], ordered=True)\n",
    "\n",
    "    df['day'] = df['time_dt'].dt.day\n",
    "\n",
    "\n",
    "    return df"
   ]
  },
  {
   "cell_type": "code",
   "execution_count": 5,
   "id": "71c3e462",
   "metadata": {},
   "outputs": [
    {
     "data": {
      "text/html": [
       "<div>\n",
       "<style scoped>\n",
       "    .dataframe tbody tr th:only-of-type {\n",
       "        vertical-align: middle;\n",
       "    }\n",
       "\n",
       "    .dataframe tbody tr th {\n",
       "        vertical-align: top;\n",
       "    }\n",
       "\n",
       "    .dataframe thead th {\n",
       "        text-align: right;\n",
       "    }\n",
       "</style>\n",
       "<table border=\"1\" class=\"dataframe\">\n",
       "  <thead>\n",
       "    <tr style=\"text-align: right;\">\n",
       "      <th></th>\n",
       "      <th>time</th>\n",
       "      <th>latitude</th>\n",
       "      <th>longitude</th>\n",
       "      <th>tp</th>\n",
       "      <th>tp_mm</th>\n",
       "      <th>time_dt</th>\n",
       "    </tr>\n",
       "  </thead>\n",
       "  <tbody>\n",
       "    <tr>\n",
       "      <th>0</th>\n",
       "      <td>2009-12-31</td>\n",
       "      <td>51.6</td>\n",
       "      <td>-2.000000e-01</td>\n",
       "      <td>0.000482</td>\n",
       "      <td>0.5</td>\n",
       "      <td>2009-12-31</td>\n",
       "    </tr>\n",
       "    <tr>\n",
       "      <th>1</th>\n",
       "      <td>2009-12-31</td>\n",
       "      <td>51.4</td>\n",
       "      <td>1.000000e-01</td>\n",
       "      <td>0.000829</td>\n",
       "      <td>0.8</td>\n",
       "      <td>2009-12-31</td>\n",
       "    </tr>\n",
       "    <tr>\n",
       "      <th>2</th>\n",
       "      <td>2009-12-31</td>\n",
       "      <td>51.4</td>\n",
       "      <td>2.775558e-17</td>\n",
       "      <td>0.000777</td>\n",
       "      <td>0.8</td>\n",
       "      <td>2009-12-31</td>\n",
       "    </tr>\n",
       "    <tr>\n",
       "      <th>3</th>\n",
       "      <td>2009-12-31</td>\n",
       "      <td>51.4</td>\n",
       "      <td>-1.000000e-01</td>\n",
       "      <td>0.000747</td>\n",
       "      <td>0.7</td>\n",
       "      <td>2009-12-31</td>\n",
       "    </tr>\n",
       "    <tr>\n",
       "      <th>4</th>\n",
       "      <td>2009-12-31</td>\n",
       "      <td>51.5</td>\n",
       "      <td>1.000000e-01</td>\n",
       "      <td>0.000659</td>\n",
       "      <td>0.7</td>\n",
       "      <td>2009-12-31</td>\n",
       "    </tr>\n",
       "  </tbody>\n",
       "</table>\n",
       "</div>"
      ],
      "text/plain": [
       "         time  latitude     longitude        tp  tp_mm    time_dt\n",
       "0  2009-12-31      51.6 -2.000000e-01  0.000482    0.5 2009-12-31\n",
       "1  2009-12-31      51.4  1.000000e-01  0.000829    0.8 2009-12-31\n",
       "2  2009-12-31      51.4  2.775558e-17  0.000777    0.8 2009-12-31\n",
       "3  2009-12-31      51.4 -1.000000e-01  0.000747    0.7 2009-12-31\n",
       "4  2009-12-31      51.5  1.000000e-01  0.000659    0.7 2009-12-31"
      ]
     },
     "execution_count": 5,
     "metadata": {},
     "output_type": "execute_result"
    }
   ],
   "source": [
    "df_all_london.head()"
   ]
  },
  {
   "cell_type": "code",
   "execution_count": 4,
   "id": "c3765c8b",
   "metadata": {},
   "outputs": [
    {
     "name": "stdout",
     "output_type": "stream",
     "text": [
      "number of expected rows = 1001466, number of returned rows = 1001466\n",
      "number of expected rows = 67884, number of returned rows = 67884\n"
     ]
    }
   ],
   "source": [
    "df_all_puglia = create_daily_rainfall_dataframe(location='puglia', debug=True)\n",
    "df_all_london = create_daily_rainfall_dataframe(location='london', debug=True)"
   ]
  },
  {
   "cell_type": "code",
   "execution_count": null,
   "id": "3b1596f6",
   "metadata": {},
   "outputs": [],
   "source": [
    "def rainfall_yearly_summary(df_in, location = 'london'):\n",
    "    # create year/month/day column\n",
    "    df_data = transform_data_datetime(df_in.copy())\n",
    "    lat_long_list = create_list_lat_long(df_data)\n",
    "\n",
    "    list_dfs = []\n",
    "    for coord in lat_long_list:\n",
    "        df = (df_data[(df_data['latitude'] == coord[0]) & (df_data['longitude'] == coord[1])]\n",
    "            .groupby('year')\n",
    "            .agg(\n",
    "                yearly_tp_mm = ('tp_mm', 'sum'),\n",
    "                lat = ('latitude','first'),\n",
    "                lon = ('longitude', 'first')\n",
    "            )\n",
    "            ).reset_index().rename(columns = {'lat' : 'latitude', 'lon' : 'longitude'})\n",
    "        list_dfs.append(df)\n",
    "\n",
    "    df_yearly_sum = pd.concat(list_dfs, axis = 0)\n",
    "    # coordinates mean for each year\n",
    "\n",
    "    df_yearly_mean = (df_yearly_sum\n",
    "                        .groupby('year')['yearly_tp_mm']\n",
    "                        .mean()\n",
    "                        .reset_index()\n",
    "                        )\n",
    "    \n",
    "    fname_yearly_sum = '../streamlit/data/data_' + location + '_yearly_sum_all_points.parquet'\n",
    "    fname_yearly_mean = '../streamlit/data/data_' + location + '_yearly_mean.parquet'\n",
    "\n",
    "    df_yearly_sum.to_parquet(fname_yearly_sum)\n",
    "    df_yearly_mean.to_parquet(fname_yearly_mean)\n",
    "\n",
    "    return(df_yearly_sum, df_yearly_mean)\n",
    "    "
   ]
  },
  {
   "cell_type": "code",
   "execution_count": null,
   "id": "7a59958d",
   "metadata": {},
   "outputs": [],
   "source": [
    "data_london_yearly_sum, data_london_yearly_mean = rainfall_yearly_summary(df_all_london, location='london')\n",
    "data_puglia_yearly_sum, data_puglia_yearly_mean = rainfall_yearly_summary(df_all_puglia, location='puglia')\n"
   ]
  },
  {
   "cell_type": "code",
   "execution_count": null,
   "id": "b469ad04",
   "metadata": {},
   "outputs": [],
   "source": []
  },
  {
   "cell_type": "code",
   "execution_count": null,
   "id": "a89b5d32",
   "metadata": {},
   "outputs": [],
   "source": [
    "london_yearly_mean = data_london_yearly_mean.copy()\n",
    "puglia_yearly_mean = data_puglia_yearly_mean.copy()\n",
    "\n",
    "london_yearly_mean['location'] = 'london'\n",
    "puglia_yearly_mean['location'] = 'apulia'\n",
    "\n",
    "df_plot = pd.concat([london_yearly_mean, puglia_yearly_mean])\n",
    "df_plot = df_plot[df_plot['year'] > 2009]\n",
    "df_plot"
   ]
  },
  {
   "cell_type": "code",
   "execution_count": null,
   "id": "c9e452a3",
   "metadata": {},
   "outputs": [],
   "source": [
    "fig_size = (12,6)\n",
    "\n",
    "sns.set_theme(style=\"whitegrid\")\n",
    "plt.figure(figsize=fig_size)\n",
    "\n",
    "sns.barplot(\n",
    "    data = df_plot,\n",
    "    x = 'year',\n",
    "    y = 'yearly_tp_mm',\n",
    "    hue = 'location'\n",
    ");"
   ]
  },
  {
   "cell_type": "code",
   "execution_count": null,
   "id": "8356ab09",
   "metadata": {},
   "outputs": [],
   "source": [
    "\n",
    "\n",
    "# #########\n",
    "\n",
    "# year = 2020\n",
    "# puglia_yearly_tp_points = data_puglia_yearly_sum[data_puglia_yearly_sum['year'] == year]\n",
    "\n",
    "\n",
    "# tp_london_yearly_mean = np.round(london_yearly_mean[london_yearly_mean['year'] == year]['yearly_tp_mm'].values[0])\n",
    "\n",
    "# # Create a base map centered on your data\n",
    "# center_lat = puglia_yearly_tp_points['latitude'].mean()\n",
    "# center_lon = puglia_yearly_tp_points['longitude'].mean()\n",
    "# m = folium.Map(location=[center_lat, center_lon], \n",
    "#                zoom_start=8,\n",
    "#                min_zoom=7,\n",
    "#                max_zoom=9)\n",
    "\n",
    "# # Define color mapping based on tp_mm values\n",
    "# def get_color(tp_mm_value, tp_london_yearly_mean):\n",
    "#     if tp_mm_value < tp_london_yearly_mean:\n",
    "#         return 'orange'\n",
    "#     else:\n",
    "#         return 'blue'\n",
    "\n",
    "# # Add circles to the map\n",
    "# for idx, row in puglia_yearly_tp_points.iterrows():\n",
    "#     folium.CircleMarker(\n",
    "#         location=[row['latitude'], row['longitude']],\n",
    "#         radius=9,\n",
    "#         popup=f\"({row['latitude'], row['longitude'] }) tp_mm: {row['yearly_tp_mm']}\",\n",
    "#         color=get_color(row['yearly_tp_mm'], tp_london_yearly_mean),\n",
    "#         fill=True,\n",
    "#         fillColor=get_color(row['yearly_tp_mm'], tp_london_yearly_mean),\n",
    "#         fillOpacity=0.7\n",
    "#     ).add_to(m)\n",
    "\n",
    "# Display the map\n",
    "m"
   ]
  },
  {
   "cell_type": "markdown",
   "id": "c89e72ba",
   "metadata": {},
   "source": [
    "## Precipitation Time series"
   ]
  },
  {
   "cell_type": "markdown",
   "id": "6fd1797e",
   "metadata": {},
   "source": [
    "Analyzing time_series files. It should contain the mean of all long/lat data for inputted values. `tp` should be cumulative value.\n",
    "\n",
    "> To Do: Considering for London data the long/lat closer to Hampstead\n",
    "\n",
    "1. Create column for rainfall in mm\n",
    "2. Threshold the rainfall: values under 0.09 are set to 0.0 and then we round to one decimal digit.\n",
    "2. Create columns for date/hour\n",
    "3. Group by date and take max - checking it's the same as 23 hour, latest hour."
   ]
  },
  {
   "cell_type": "code",
   "execution_count": null,
   "id": "b90747ef",
   "metadata": {},
   "outputs": [],
   "source": [
    "data_london_2020 = pd.read_csv('./data/2020_london_era5_precipitation_time_series.csv',comment = '#')\n",
    "data_puglia_2020 = pd.read_csv('./data/2020_puglia_era5_precipitation_time_series.csv',comment = '#')\n",
    "data_london_2021 = pd.read_csv('./data/2021_london_era5_precipitation_time_series.csv',comment = '#')\n",
    "data_puglia_2021 = pd.read_csv('./data/2021_puglia_era5_precipitation_time_series.csv',comment = '#')\n",
    "data_london_2022 = pd.read_csv('./data/2022_london_era5_precipitation_time_series.csv',comment = '#')\n",
    "data_puglia_2022 = pd.read_csv('./data/2022_puglia_era5_precipitation_time_series.csv',comment = '#')\n",
    "data_london_2023 = pd.read_csv('./data/2023_london_era5_precipitation_time_series.csv',comment = '#')\n",
    "data_puglia_2023 = pd.read_csv('./data/2023_puglia_era5_precipitation_time_series.csv',comment = '#')\n",
    "data_london_2024 = pd.read_csv('./data/2024_london_era5_precipitation_time_series.csv',comment = '#')\n",
    "data_puglia_2024 = pd.read_csv('./data/2024_puglia_era5_precipitation_time_series.csv',comment = '#')"
   ]
  },
  {
   "cell_type": "code",
   "execution_count": null,
   "id": "75dd46b5",
   "metadata": {},
   "outputs": [],
   "source": [
    "data_puglia_2020.head()"
   ]
  },
  {
   "cell_type": "code",
   "execution_count": null,
   "id": "1ed899a5",
   "metadata": {},
   "outputs": [],
   "source": [
    "data_london_2020.shape[0]/24"
   ]
  },
  {
   "cell_type": "code",
   "execution_count": null,
   "id": "658e2d71",
   "metadata": {},
   "outputs": [],
   "source": []
  },
  {
   "cell_type": "code",
   "execution_count": null,
   "id": "0d72c48c",
   "metadata": {},
   "outputs": [],
   "source": [
    "df_london_2020 = create_tp_daily_summary(data_london_2020, year=2020)\n",
    "df_puglia_2020 = create_tp_daily_summary(data_puglia_2020, year=2020)\n",
    "df_london_2021 = create_tp_daily_summary(data_london_2021, year=2021)\n",
    "df_puglia_2021 = create_tp_daily_summary(data_puglia_2021, year=2021)\n",
    "df_london_2022 = create_tp_daily_summary(data_london_2022, year=2022)\n",
    "df_puglia_2022 = create_tp_daily_summary(data_puglia_2022, year=2022)\n",
    "df_london_2023 = create_tp_daily_summary(data_london_2023, year=2023)\n",
    "df_puglia_2023 = create_tp_daily_summary(data_puglia_2023, year=2023)\n",
    "df_london_2024 = create_tp_daily_summary(data_london_2024, year=2024)\n",
    "df_puglia_2024 = create_tp_daily_summary(data_puglia_2024, year=2024)"
   ]
  },
  {
   "cell_type": "code",
   "execution_count": null,
   "id": "96e5aaa0",
   "metadata": {},
   "outputs": [],
   "source": [
    "london_monthly_2020 = create_tp_monthly_aggregate(df_london_2020)\n",
    "puglia_monthly_2020 = create_tp_monthly_aggregate(df_puglia_2020)\n",
    "london_monthly_2021 = create_tp_monthly_aggregate(df_london_2021)\n",
    "puglia_monthly_2021 = create_tp_monthly_aggregate(df_puglia_2021)\n",
    "london_monthly_2022 = create_tp_monthly_aggregate(df_london_2022)\n",
    "puglia_monthly_2022 = create_tp_monthly_aggregate(df_puglia_2022)\n",
    "london_monthly_2023 = create_tp_monthly_aggregate(df_london_2023)\n",
    "puglia_monthly_2023 = create_tp_monthly_aggregate(df_puglia_2023)\n",
    "london_monthly_2024 = create_tp_monthly_aggregate(df_london_2024)\n",
    "puglia_monthly_2024 = create_tp_monthly_aggregate(df_puglia_2024)"
   ]
  },
  {
   "cell_type": "code",
   "execution_count": null,
   "id": "00582f77",
   "metadata": {},
   "outputs": [],
   "source": [
    "london_monthly_2024.columns"
   ]
  },
  {
   "cell_type": "code",
   "execution_count": null,
   "id": "26ce3982",
   "metadata": {},
   "outputs": [],
   "source": [
    "print(f\"london 2020 yearly tp = {london_monthly_2020['monthly_tp_mm'].sum()}\")\n",
    "print(f\"puglia 2020 yearly tp = {puglia_monthly_2020['monthly_tp_mm'].sum()} \\n\")\n",
    "print(f\"london 2021 yearly tp = {london_monthly_2021['monthly_tp_mm'].sum()}\")\n",
    "print(f\"puglia 2021 yearly tp = {puglia_monthly_2021['monthly_tp_mm'].sum()} \\n\")\n",
    "print(f\"london 2022 yearly tp = {london_monthly_2022['monthly_tp_mm'].sum()}\")\n",
    "print(f\"puglia 2022 yearly tp = {puglia_monthly_2022['monthly_tp_mm'].sum()} \\n\")\n",
    "print(f\"london 2023 yearly tp = {london_monthly_2023['monthly_tp_mm'].sum()}\")\n",
    "print(f\"puglia 2023 yearly tp = {puglia_monthly_2023['monthly_tp_mm'].sum()} \\n\")\n",
    "print(f\"london 2024 yearly tp = {london_monthly_2024['monthly_tp_mm'].sum()}\")\n",
    "print(f\"puglia 2024 yearly tp = {puglia_monthly_2024['monthly_tp_mm'].sum()} \\n\")"
   ]
  },
  {
   "cell_type": "code",
   "execution_count": null,
   "id": "2964cad4",
   "metadata": {},
   "outputs": [],
   "source": []
  },
  {
   "cell_type": "code",
   "execution_count": null,
   "id": "fa4f832f",
   "metadata": {},
   "outputs": [],
   "source": []
  },
  {
   "cell_type": "code",
   "execution_count": null,
   "metadata": {},
   "outputs": [],
   "source": [
    "mmonth = 'Mar'\n",
    "data_plot = df_london_2020[df_london_2020['month_str'] == mmonth].copy()\n",
    "data_plot['day'] = data_plot['valid_date_dt'].dt.day"
   ]
  },
  {
   "cell_type": "code",
   "execution_count": null,
   "id": "d7e0b3c2",
   "metadata": {},
   "outputs": [],
   "source": [
    "fig_size = (12,6)\n",
    "\n",
    "sns.set_theme(style=\"whitegrid\")\n",
    "plt.figure(figsize=fig_size)\n",
    "\n",
    "sns.barplot(\n",
    "    data = data_plot,\n",
    "    x = 'day',\n",
    "    y = 'tp_mm'\n",
    ");"
   ]
  },
  {
   "cell_type": "code",
   "execution_count": null,
   "id": "abb4f296",
   "metadata": {},
   "outputs": [],
   "source": [
    "data_plot['tp_mm'].sum()"
   ]
  },
  {
   "cell_type": "code",
   "execution_count": null,
   "id": "88cf8e84",
   "metadata": {},
   "outputs": [],
   "source": []
  },
  {
   "cell_type": "code",
   "execution_count": null,
   "id": "9f69b071",
   "metadata": {},
   "outputs": [],
   "source": []
  },
  {
   "cell_type": "code",
   "execution_count": null,
   "id": "5e7cc419",
   "metadata": {},
   "outputs": [],
   "source": []
  },
  {
   "cell_type": "code",
   "execution_count": null,
   "id": "e48865f5",
   "metadata": {},
   "outputs": [],
   "source": []
  },
  {
   "cell_type": "code",
   "execution_count": null,
   "id": "7d24d9aa",
   "metadata": {},
   "outputs": [],
   "source": [
    "fig_size = (12,6)\n",
    "\n",
    "sns.set_theme(style=\"whitegrid\")\n",
    "plt.figure(figsize=fig_size)\n",
    "\n",
    "sns.barplot(\n",
    "    data = london_monthly_2024,\n",
    "    x = 'month_int',\n",
    "    y = 'monthly_tp_mm'\n",
    ")"
   ]
  },
  {
   "cell_type": "code",
   "execution_count": null,
   "id": "e4da60bb",
   "metadata": {},
   "outputs": [],
   "source": [
    "fig_size = (12,6)\n",
    "\n",
    "sns.set_theme(style=\"whitegrid\")\n",
    "plt.figure(figsize=fig_size)\n",
    "\n",
    "sns.barplot(\n",
    "    data = puglia_monthly_2024,\n",
    "    x = 'month_int',\n",
    "    y = 'monthly_tp_mm'\n",
    ")"
   ]
  },
  {
   "cell_type": "code",
   "execution_count": null,
   "id": "3bb364a0",
   "metadata": {},
   "outputs": [],
   "source": []
  },
  {
   "cell_type": "code",
   "execution_count": null,
   "id": "91289d20",
   "metadata": {},
   "outputs": [],
   "source": [
    "fig_size = (12,6)\n",
    "\n",
    "sns.set_theme(style=\"whitegrid\")\n",
    "plt.figure(figsize=fig_size)\n",
    "\n",
    "ax = sns.scatterplot(\n",
    "    data=df_puglia_2024,\n",
    "    x='valid_date_dt',\n",
    "    y='tp_mm'\n",
    "    );\n",
    "\n",
    "ax = sns.lineplot(\n",
    "    data=df_puglia_2024,\n",
    "    x='valid_date_dt',\n",
    "    y='tp_mm'\n",
    "    );"
   ]
  },
  {
   "cell_type": "code",
   "execution_count": null,
   "id": "b509df38",
   "metadata": {},
   "outputs": [],
   "source": [
    "df_london_2024"
   ]
  },
  {
   "cell_type": "code",
   "execution_count": null,
   "id": "45ba3f73",
   "metadata": {},
   "outputs": [],
   "source": []
  },
  {
   "cell_type": "code",
   "execution_count": null,
   "id": "48041013",
   "metadata": {},
   "outputs": [],
   "source": [
    "data_puglia_2020_lf = pd.read_csv('./data/2020_puglia_era5_precipitation_long_format.csv',comment = '#')\n",
    "data_puglia_2020_lf.shape"
   ]
  },
  {
   "cell_type": "code",
   "execution_count": null,
   "id": "01904275",
   "metadata": {},
   "outputs": [],
   "source": [
    "data_puglia_2020_lf['latitude'].nunique()"
   ]
  },
  {
   "cell_type": "code",
   "execution_count": null,
   "id": "3abc6be0",
   "metadata": {},
   "outputs": [],
   "source": [
    "data_puglia_2020_lf['longitude'].nunique()"
   ]
  },
  {
   "cell_type": "code",
   "execution_count": null,
   "id": "475daeb3",
   "metadata": {},
   "outputs": [],
   "source": [
    "18*32"
   ]
  },
  {
   "cell_type": "code",
   "execution_count": null,
   "id": "fbe7a66b",
   "metadata": {},
   "outputs": [],
   "source": [
    "(18*32)*24*365"
   ]
  },
  {
   "cell_type": "code",
   "execution_count": null,
   "id": "d62049b3",
   "metadata": {},
   "outputs": [],
   "source": [
    "data_puglia_2020_lf['latitude'].unique()[10]"
   ]
  },
  {
   "cell_type": "code",
   "execution_count": null,
   "id": "a9dac092",
   "metadata": {},
   "outputs": [],
   "source": [
    "lats = data_puglia_2020_lf['latitude'].unique()\n",
    "lons = data_puglia_2020_lf['longitude'].unique()\n",
    "latit = []\n",
    "longit = []\n",
    "tp_sum = []\n",
    "\n",
    "for lat in lats:\n",
    "    for lon in lons:\n",
    "        df = data_puglia_2020_lf[(data_puglia_2020_lf['latitude'] == lat) &\n",
    "                                 (data_puglia_2020_lf['longitude'] == lon)]\n",
    "        if df.shape[0] != 0:\n",
    "            # print(f\"lat = {lat}, lon = {lon}, df_shape = {df.shape}\")\n",
    "            latit.append(lat)\n",
    "            longit.append(lon)\n",
    "            df_data = df[(df['latitude'] == lat) & (df['longitude'] == lon)].copy()\n",
    "            test = create_tp_daily_summary(df_data, year=2020)\n",
    "            tp_sum.append(test['tp_mm'].sum())\n",
    "            \n",
    "# for lat in lats:\n",
    "#     print(f\"lat = {lat}, \")"
   ]
  },
  {
   "cell_type": "code",
   "execution_count": null,
   "id": "cfeed4f2",
   "metadata": {},
   "outputs": [],
   "source": [
    "df_map = pd.DataFrame(\n",
    "        {\n",
    "        'latitude' : latit,\n",
    "        'longitude' : longit,\n",
    "        'tp_mm_year_2022' : tp_sum\n",
    "        }\n",
    "        )"
   ]
  },
  {
   "cell_type": "code",
   "execution_count": null,
   "id": "f4233edf",
   "metadata": {},
   "outputs": [],
   "source": [
    "df_map['tp_mm_year_2022'].mean()"
   ]
  },
  {
   "cell_type": "code",
   "execution_count": null,
   "id": "953eb6b1",
   "metadata": {},
   "outputs": [],
   "source": [
    "df_map['tp_mm_year_2022'].min()"
   ]
  },
  {
   "cell_type": "code",
   "execution_count": null,
   "id": "1f7a4db6",
   "metadata": {},
   "outputs": [],
   "source": [
    "df_map['tp_mm_year_2022'].max()"
   ]
  },
  {
   "cell_type": "code",
   "execution_count": null,
   "id": "3ba010d0",
   "metadata": {},
   "outputs": [],
   "source": [
    "sns.histplot(\n",
    "    data=df_map,\n",
    "    x = 'tp_mm_year_2022'\n",
    ");"
   ]
  },
  {
   "cell_type": "code",
   "execution_count": null,
   "id": "fe3170e3",
   "metadata": {},
   "outputs": [],
   "source": []
  },
  {
   "cell_type": "code",
   "execution_count": null,
   "id": "ba698f8c",
   "metadata": {},
   "outputs": [],
   "source": []
  },
  {
   "cell_type": "code",
   "execution_count": null,
   "id": "a20e7ea6",
   "metadata": {},
   "outputs": [],
   "source": [
    "import folium\n",
    "\n",
    "# Assuming your dataframe is called 'df'\n",
    "# Create a base map centered on your data\n",
    "center_lat = df_map['latitude'].mean()\n",
    "center_lon = df_map['longitude'].mean()\n",
    "m = folium.Map(location=[center_lat, center_lon], zoom_start=6)\n",
    "\n",
    "# Define color mapping based on tp_mm values\n",
    "def get_color(tp_mm_value):\n",
    "    if tp_mm_value < 490:\n",
    "        return 'blue'\n",
    "    elif tp_mm_value < 600:\n",
    "        return 'green'\n",
    "    elif tp_mm_value < 750:\n",
    "        return 'yellow'\n",
    "    else:\n",
    "        return 'red'\n",
    "\n",
    "# Add circles to the map\n",
    "for idx, row in df_map.iterrows():\n",
    "    folium.CircleMarker(\n",
    "        location=[row['latitude'], row['longitude']],\n",
    "        radius=8,\n",
    "        popup=f\"tp_mm: {row['tp_mm_year_2022']}\",\n",
    "        color=get_color(row['tp_mm_year_2022']),\n",
    "        fill=True,\n",
    "        fillColor=get_color(row['tp_mm_year_2022']),\n",
    "        fillOpacity=0.7\n",
    "    ).add_to(m)\n",
    "\n",
    "# Display the map\n",
    "m"
   ]
  },
  {
   "cell_type": "code",
   "execution_count": null,
   "id": "6f473095",
   "metadata": {},
   "outputs": [],
   "source": []
  },
  {
   "cell_type": "code",
   "execution_count": null,
   "id": "e27f5acf",
   "metadata": {},
   "outputs": [],
   "source": []
  },
  {
   "cell_type": "code",
   "execution_count": null,
   "id": "5579fa37",
   "metadata": {},
   "outputs": [],
   "source": [
    "import plotly.express as px\n",
    "\n",
    "fig_size = (12,12)\n",
    "\n",
    "sns.set_theme(style=\"whitegrid\")\n",
    "plt.figure(figsize=fig_size)\n",
    "\n",
    "fig = px.scatter_mapbox(\n",
    "    df_map, \n",
    "    lat=\"latitude\", \n",
    "    lon=\"longitude\", \n",
    "    color=\"tp_mm_year_2022\",\n",
    "    size_max=15,\n",
    "    zoom=5,\n",
    "    mapbox_style=\"open-street-map\",\n",
    "    title=\"Precipitation Map\",\n",
    "    color_continuous_scale=\"Viridis\"\n",
    ")\n",
    "\n",
    "fig.show();"
   ]
  },
  {
   "cell_type": "code",
   "execution_count": null,
   "id": "24fb1ee4",
   "metadata": {},
   "outputs": [],
   "source": []
  },
  {
   "cell_type": "code",
   "execution_count": null,
   "id": "6d4e63d7",
   "metadata": {},
   "outputs": [],
   "source": []
  },
  {
   "cell_type": "code",
   "execution_count": null,
   "id": "2a52bcd5",
   "metadata": {},
   "outputs": [],
   "source": []
  },
  {
   "cell_type": "code",
   "execution_count": null,
   "id": "9a4cc5f3",
   "metadata": {},
   "outputs": [],
   "source": []
  },
  {
   "cell_type": "code",
   "execution_count": null,
   "id": "9da6a89c",
   "metadata": {},
   "outputs": [],
   "source": []
  },
  {
   "cell_type": "code",
   "execution_count": null,
   "id": "83135f85",
   "metadata": {},
   "outputs": [],
   "source": []
  },
  {
   "cell_type": "code",
   "execution_count": null,
   "id": "6c8bb1ec",
   "metadata": {},
   "outputs": [],
   "source": []
  },
  {
   "cell_type": "code",
   "execution_count": null,
   "id": "c42ad4e4",
   "metadata": {},
   "outputs": [],
   "source": []
  },
  {
   "cell_type": "code",
   "execution_count": null,
   "id": "9262bd8a",
   "metadata": {},
   "outputs": [],
   "source": [
    "data_puglia_2020_lf[(data_puglia_2020_lf['step'].str[0] == '1') & \n",
    "                    (data_puglia_2020_lf['time'] == '2020-01-03') &\n",
    "                    (data_puglia_2020_lf['latitude'] == 40.5)]"
   ]
  },
  {
   "cell_type": "code",
   "execution_count": null,
   "id": "b8c3a6f7",
   "metadata": {},
   "outputs": [],
   "source": [
    "data_puglia_2020_lf[ (data_puglia_2020_lf['step'].str[0] == '1') & \n",
    "                    (data_puglia_2020_lf['time'] == '2020-01-03') &\n",
    "                    (data_puglia_2020_lf['latitude'] == 40.899999999999984)]"
   ]
  },
  {
   "cell_type": "code",
   "execution_count": null,
   "id": "057f851b",
   "metadata": {},
   "outputs": [],
   "source": [
    "data_puglia_2020_409_162 = data_puglia_2020_lf[(data_puglia_2020_lf['latitude'] == 40.899999999999984) &\n",
    "                                               (data_puglia_2020_lf['longitude'] == 16.2)]"
   ]
  },
  {
   "cell_type": "code",
   "execution_count": null,
   "id": "ee132c42",
   "metadata": {},
   "outputs": [],
   "source": [
    "data_puglia_2020_409_162"
   ]
  },
  {
   "cell_type": "code",
   "execution_count": null,
   "id": "4812b9ce",
   "metadata": {},
   "outputs": [],
   "source": [
    "test_2020 = create_tp_daily_summary(data_puglia_2020_409_162, year=2020)\n",
    "test_2020['tp_mm'].sum()"
   ]
  },
  {
   "cell_type": "code",
   "execution_count": null,
   "id": "66ed3935",
   "metadata": {},
   "outputs": [],
   "source": []
  },
  {
   "cell_type": "code",
   "execution_count": null,
   "id": "19a16a94",
   "metadata": {},
   "outputs": [],
   "source": []
  },
  {
   "cell_type": "code",
   "execution_count": null,
   "id": "f8fa2f93",
   "metadata": {},
   "outputs": [],
   "source": [
    "data_puglia_2020_418_160"
   ]
  },
  {
   "cell_type": "code",
   "execution_count": null,
   "id": "08379ef9",
   "metadata": {},
   "outputs": [],
   "source": [
    "test_2020 = create_tp_daily_summary(data_puglia_2020_418_153, year=2020)"
   ]
  },
  {
   "cell_type": "code",
   "execution_count": null,
   "id": "77a00323",
   "metadata": {},
   "outputs": [],
   "source": [
    "test_2020['tp_mm'].sum()"
   ]
  },
  {
   "cell_type": "code",
   "execution_count": null,
   "id": "3e31b092",
   "metadata": {},
   "outputs": [],
   "source": []
  },
  {
   "cell_type": "code",
   "execution_count": null,
   "id": "211ed7ae",
   "metadata": {},
   "outputs": [],
   "source": []
  },
  {
   "cell_type": "code",
   "execution_count": null,
   "id": "a6249880",
   "metadata": {},
   "outputs": [],
   "source": [
    "8784/24"
   ]
  },
  {
   "cell_type": "code",
   "execution_count": null,
   "id": "b4a69a1c",
   "metadata": {},
   "outputs": [],
   "source": []
  },
  {
   "cell_type": "code",
   "execution_count": null,
   "id": "5f8065d4",
   "metadata": {},
   "outputs": [],
   "source": [
    "data_puglia_2020_lf.shape"
   ]
  },
  {
   "cell_type": "code",
   "execution_count": null,
   "id": "8de75351",
   "metadata": {},
   "outputs": [],
   "source": [
    "data_puglia_2020_lf['longitude'].nunique()"
   ]
  },
  {
   "cell_type": "code",
   "execution_count": null,
   "id": "3a54578e",
   "metadata": {},
   "outputs": [],
   "source": [
    "data_puglia_2020_lf['latitude'].nunique()"
   ]
  },
  {
   "cell_type": "code",
   "execution_count": null,
   "id": "5b71f544",
   "metadata": {},
   "outputs": [],
   "source": []
  },
  {
   "cell_type": "code",
   "execution_count": null,
   "id": "e054792b",
   "metadata": {},
   "outputs": [],
   "source": [
    "data_puglia_2020['step'].unique()"
   ]
  },
  {
   "cell_type": "code",
   "execution_count": null,
   "id": "9c5505a7",
   "metadata": {},
   "outputs": [],
   "source": [
    "data_puglia_2020[data_puglia_2020['step'].str[0] =='1']['tp'].sum()"
   ]
  },
  {
   "cell_type": "code",
   "execution_count": null,
   "id": "67c51e0e",
   "metadata": {},
   "outputs": [],
   "source": []
  },
  {
   "cell_type": "code",
   "execution_count": null,
   "id": "faa082a6",
   "metadata": {},
   "outputs": [],
   "source": []
  },
  {
   "cell_type": "code",
   "execution_count": null,
   "id": "52c9738a",
   "metadata": {},
   "outputs": [],
   "source": []
  },
  {
   "cell_type": "code",
   "execution_count": null,
   "id": "9211fa1a",
   "metadata": {},
   "outputs": [],
   "source": []
  },
  {
   "cell_type": "code",
   "execution_count": null,
   "id": "e471fb4b",
   "metadata": {},
   "outputs": [],
   "source": []
  },
  {
   "cell_type": "code",
   "execution_count": null,
   "id": "97db8285",
   "metadata": {},
   "outputs": [],
   "source": []
  },
  {
   "cell_type": "markdown",
   "id": "7dd9c821",
   "metadata": {},
   "source": [
    "-------------------"
   ]
  },
  {
   "cell_type": "code",
   "execution_count": null,
   "id": "07293c08",
   "metadata": {},
   "outputs": [],
   "source": [
    "from datetime import timedelta\n",
    "\n",
    "def create_tp_daily_summary(df_data, year = 2025, threshold = 0.1):\n",
    "    # creating `tp_mm`\n",
    "    df = df_data.copy()\n",
    "    df['tp_mm'] = 1000*df['tp']\n",
    "\n",
    "    # Creating valid date column\n",
    "    df['valid_time_dt'] = pd.to_datetime(df['valid_time'])\n",
    "    df['valid_date'] = df['valid_time_dt'].dt.date\n",
    "    mask_hour_0 = df['valid_time_dt'].dt.hour == 0\n",
    "    df.loc[mask_hour_0, 'valid_date'] = df.loc[mask_hour_0, 'valid_date'] - timedelta(days=1)\n",
    "\n",
    "    # thresholding and rounding tp_mm\n",
    "    df.loc[df['tp_mm'] < threshold, 'tp_mm'] = 0.0\n",
    "    df['tp_mm'] = np.round(df['tp_mm'], 1)\n",
    "\n",
    "    # computing daily aggregate\n",
    "    df['valid_date_dt'] = pd.to_datetime(df['valid_date'])\n",
    "    df['year'] = df['valid_date_dt'].dt.year\n",
    "\n",
    "    df_daily_tp_mm = (df[df['year'] == year]\n",
    "                  .groupby('valid_date_dt')['tp_mm']\n",
    "                  .max()\n",
    "                  ).reset_index()\n",
    "    return(df_daily_tp_mm)\n"
   ]
  },
  {
   "cell_type": "code",
   "execution_count": null,
   "id": "85078ae3",
   "metadata": {},
   "outputs": [],
   "source": [
    "def create_tp_monthly_aggregate(df_data):\n",
    "    df_data['month_int'] = df_data['valid_date_dt'].dt.month\n",
    "    df_data['month_str'] = df_data['valid_date_dt'].dt.strftime('%b')\n",
    "\n",
    "    tp_monthly_aggregate = (df_data\n",
    "                            .groupby('month_int')\n",
    "                            .agg(\n",
    "                                month_str = ('month_str', 'first'),\n",
    "                                monthly_tp_mm = ('tp_mm', 'sum')\n",
    "                                )\n",
    "                                ).reset_index()\n",
    "    \n",
    "    return(tp_monthly_aggregate)"
   ]
  },
  {
   "cell_type": "code",
   "execution_count": null,
   "id": "e1336ab0",
   "metadata": {},
   "outputs": [],
   "source": [
    "df_london_2024 = create_tp_daily_summary(df_data,\n",
    "                                  year=2024)"
   ]
  },
  {
   "cell_type": "code",
   "execution_count": null,
   "id": "6cb88d5b",
   "metadata": {},
   "outputs": [],
   "source": [
    "london_monthly_2024 = create_tp_monthly_aggregate(df_london_2024)\n",
    "london_monthly_2024.head()"
   ]
  },
  {
   "cell_type": "code",
   "execution_count": null,
   "id": "b58bb103",
   "metadata": {},
   "outputs": [],
   "source": [
    "london_monthly_2024['monthly_tp_mm'].sum()"
   ]
  },
  {
   "cell_type": "code",
   "execution_count": null,
   "id": "b854260f",
   "metadata": {},
   "outputs": [],
   "source": [
    "puglia_monthly_2024 =create_tp_monthly_aggregate(df_test)\n",
    "puglia_monthly_2024.head()"
   ]
  },
  {
   "cell_type": "code",
   "execution_count": null,
   "id": "a8ff3f18",
   "metadata": {},
   "outputs": [],
   "source": []
  },
  {
   "cell_type": "code",
   "execution_count": null,
   "id": "ba50d1dc",
   "metadata": {},
   "outputs": [],
   "source": [
    "df_test['month_int'] = df_test['valid_date_dt'].dt.month\n",
    "df_test['month_str'] = df_test['valid_date_dt'].dt.strftime('%b')"
   ]
  },
  {
   "cell_type": "code",
   "execution_count": null,
   "id": "722d6c4a",
   "metadata": {},
   "outputs": [],
   "source": [
    "(df_test\n",
    " .groupby('month_int')\n",
    " .agg(\n",
    "     month_str = ('month_str', 'first'),\n",
    "     monthly_tp_mm = ('tp_mm', 'sum')\n",
    " )\n",
    ").reset_index()\n"
   ]
  },
  {
   "cell_type": "code",
   "execution_count": null,
   "id": "6292972d",
   "metadata": {},
   "outputs": [],
   "source": [
    "df_test"
   ]
  },
  {
   "cell_type": "code",
   "execution_count": null,
   "id": "7989458a",
   "metadata": {},
   "outputs": [],
   "source": []
  },
  {
   "cell_type": "code",
   "execution_count": null,
   "id": "042a59bc",
   "metadata": {},
   "outputs": [],
   "source": []
  },
  {
   "cell_type": "code",
   "execution_count": null,
   "id": "643ae5cf",
   "metadata": {},
   "outputs": [],
   "source": [
    "fig_size = (12,6)\n",
    "\n",
    "\n",
    "sns.set_theme(style=\"whitegrid\")\n",
    "plt.figure(figsize=fig_size)\n",
    "\n",
    "ax = sns.scatterplot(\n",
    "    data=df_test,\n",
    "    x='valid_date_dt',\n",
    "    y='tp_mm'\n",
    "    );\n",
    "\n",
    "ax = sns.lineplot(\n",
    "    data=df_test,\n",
    "    x='valid_date_dt',\n",
    "    y='tp_mm'\n",
    "    );"
   ]
  },
  {
   "cell_type": "code",
   "execution_count": null,
   "id": "d1b521d4",
   "metadata": {},
   "outputs": [],
   "source": []
  },
  {
   "cell_type": "code",
   "execution_count": null,
   "id": "4bd8461f",
   "metadata": {},
   "outputs": [],
   "source": []
  },
  {
   "cell_type": "code",
   "execution_count": null,
   "id": "0d2236f8",
   "metadata": {},
   "outputs": [],
   "source": [
    "# creating `tp_mm`\n",
    "\n",
    "df_data['tp_mm'] = 1000*df_data['tp']"
   ]
  },
  {
   "cell_type": "code",
   "execution_count": null,
   "id": "08f4912e",
   "metadata": {},
   "outputs": [],
   "source": [
    "df_data.head(3)"
   ]
  },
  {
   "cell_type": "markdown",
   "id": "849d53cb",
   "metadata": {},
   "source": [
    "The raws with 1 days contains the cumulative sum of rainfall. To consider the total rainfall for each day, we should take the 00 hour of each day and scale back by one day. So, to assign the 2025-01-01 tp, we need to extract the \"00:00:00\" hour of the next day `valid_date`"
   ]
  },
  {
   "cell_type": "code",
   "execution_count": null,
   "id": "963a19ad",
   "metadata": {},
   "outputs": [],
   "source": [
    "# Creating valid date\n",
    "\n",
    "from datetime import timedelta\n",
    "\n",
    "# # Method 2 - Corrected for date objects\n",
    "# df_london_2025_reduced['valid_date'] = df_london_2025_reduced['date']  # Start with original date\n",
    "# mask_hour_0 = df_london_2025_reduced['hour'] == 0\n",
    "# df_london_2025_reduced.loc[mask_hour_0, 'valid_date'] = df_london_2025_reduced.loc[mask_hour_0, 'date'] - timedelta(days=1)\n",
    "\n",
    "df_data['valid_time_dt'] = pd.to_datetime(df_data['valid_time'])\n",
    "df_data['valid_date'] = df_data['valid_time_dt'].dt.date\n",
    "mask_hour_0 = df_data['valid_time_dt'].dt.hour == 0\n",
    "df_data.loc[mask_hour_0, 'valid_date'] = df_data.loc[mask_hour_0, 'valid_date'] - timedelta(days=1)"
   ]
  },
  {
   "cell_type": "markdown",
   "id": "05dc5bb5",
   "metadata": {},
   "source": [
    "At this step, we can save the daily data as `pkl` file if needed for different analysis around the time of the day."
   ]
  },
  {
   "cell_type": "code",
   "execution_count": null,
   "id": "ca199d77",
   "metadata": {},
   "outputs": [],
   "source": [
    "starting_date = df_data[df_data['valid_time'] == df_data['valid_time'].min()]['valid_time_dt'].dt.strftime('%Y-%m-%d').values[0].replace('-','_')\n",
    "ending_date = df_data[df_data['valid_time_dt'] == df_data['valid_time_dt'].max()]['valid_time_dt'].dt.strftime('%Y-%m-%d').values[0].replace('-','_')\n",
    "\n",
    "starting_date + '_' + ending_date\n",
    "\n",
    "# ['valid_time_dt'].dt.strftime('%Y-%m-%d')\n"
   ]
  },
  {
   "cell_type": "markdown",
   "id": "73df4d4d",
   "metadata": {},
   "source": [
    "- rounding `tp_mm`\n",
    "\n",
    "We set all values below 0.09 to 0 and then round `tp_mm` to the first decimal digit "
   ]
  },
  {
   "cell_type": "code",
   "execution_count": null,
   "id": "7e848cb1",
   "metadata": {},
   "outputs": [],
   "source": [
    "# threshold set\n",
    "threshold = 0.1\n",
    "df_data.loc[df_data['tp_mm'] < threshold, 'tp_mm'] = 0.0\n",
    "df_data['tp_mm'] = np.round(df_data['tp_mm'], 1)\n"
   ]
  },
  {
   "cell_type": "code",
   "execution_count": null,
   "id": "84db4188",
   "metadata": {},
   "outputs": [],
   "source": [
    "df_data.head()"
   ]
  },
  {
   "cell_type": "markdown",
   "id": "9299de1e",
   "metadata": {},
   "source": [
    "## Daily Aggregate"
   ]
  },
  {
   "cell_type": "markdown",
   "id": "5e5cdeb7",
   "metadata": {},
   "source": [
    "The following code refers to annual data. We will expand while dealing with multi years dataset."
   ]
  },
  {
   "cell_type": "code",
   "execution_count": null,
   "id": "94a07469",
   "metadata": {},
   "outputs": [],
   "source": [
    "df_data['valid_date_dt'] = pd.to_datetime(df_data['valid_date'])"
   ]
  },
  {
   "cell_type": "code",
   "execution_count": null,
   "id": "80de3fce",
   "metadata": {},
   "outputs": [],
   "source": [
    "df_data['year'] = df_data['valid_date_dt'].dt.year\n",
    "# df_data['month_int'] = df_data['valid_date_dt'].dt.month\n",
    "# df_data['month'] = df_data['valid_date_dt'].dt.strftime('%b')"
   ]
  },
  {
   "cell_type": "code",
   "execution_count": null,
   "id": "1f524ff1",
   "metadata": {},
   "outputs": [],
   "source": [
    "df_daily_tp_mm = (df_data[df_data['year'] == 2025]\n",
    "                  .groupby('valid_date_dt')['tp_mm']\n",
    "                  .max()\n",
    "                  ).reset_index()"
   ]
  },
  {
   "cell_type": "code",
   "execution_count": null,
   "id": "50533c9f",
   "metadata": {},
   "outputs": [],
   "source": [
    "df_daily_tp_mm.head()"
   ]
  },
  {
   "cell_type": "code",
   "execution_count": null,
   "id": "6c4b745e",
   "metadata": {},
   "outputs": [],
   "source": [
    "fig_size = (12,6)\n",
    "\n",
    "\n",
    "sns.set_theme(style=\"whitegrid\")\n",
    "plt.figure(figsize=fig_size)\n",
    "\n",
    "ax = sns.scatterplot(\n",
    "    data=df_daily_tp_mm,\n",
    "    x='valid_date_dt',\n",
    "    y='tp_mm'\n",
    "    );\n",
    "\n",
    "ax = sns.lineplot(\n",
    "    data=df_daily_tp_mm,\n",
    "    x='valid_date_dt',\n",
    "    y='tp_mm'\n",
    "    );"
   ]
  },
  {
   "cell_type": "code",
   "execution_count": null,
   "id": "1b016c34",
   "metadata": {},
   "outputs": [],
   "source": []
  },
  {
   "cell_type": "code",
   "execution_count": null,
   "id": "c1753c09",
   "metadata": {},
   "outputs": [],
   "source": []
  },
  {
   "cell_type": "code",
   "execution_count": null,
   "id": "ec0d0f73",
   "metadata": {},
   "outputs": [],
   "source": []
  }
 ],
 "metadata": {
  "kernelspec": {
   "display_name": "base",
   "language": "python",
   "name": "python3"
  },
  "language_info": {
   "codemirror_mode": {
    "name": "ipython",
    "version": 3
   },
   "file_extension": ".py",
   "mimetype": "text/x-python",
   "name": "python",
   "nbconvert_exporter": "python",
   "pygments_lexer": "ipython3",
   "version": "3.12.3"
  }
 },
 "nbformat": 4,
 "nbformat_minor": 5
}
